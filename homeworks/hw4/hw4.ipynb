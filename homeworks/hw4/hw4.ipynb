{
  "cells": [
    {
      "cell_type": "code",
      "execution_count": null,
      "metadata": {
        "nbgrader": {
          "grade": false,
          "grade_id": "cell-1be04a157d86c84b",
          "locked": true,
          "schema_version": 3,
          "solution": false
        },
        "id": "B-U07Ub1Wejm",
        "colab": {
          "base_uri": "https://localhost:8080/"
        },
        "outputId": "1eea5c4c-13a1-43fe-e207-95e768aa68a2"
      },
      "outputs": [
        {
          "output_type": "stream",
          "name": "stderr",
          "text": [
            "Warning message in system(\"timedatectl\", intern = TRUE):\n",
            "“running command 'timedatectl' had status 1”\n",
            "── \u001b[1mAttaching packages\u001b[22m ─────────────────────────────────────── tidyverse 1.3.1 ──\n",
            "\n",
            "\u001b[32m✔\u001b[39m \u001b[34mggplot2\u001b[39m 3.4.0      \u001b[32m✔\u001b[39m \u001b[34mpurrr  \u001b[39m 1.0.1 \n",
            "\u001b[32m✔\u001b[39m \u001b[34mtibble \u001b[39m 3.1.8      \u001b[32m✔\u001b[39m \u001b[34mdplyr  \u001b[39m 1.0.10\n",
            "\u001b[32m✔\u001b[39m \u001b[34mtidyr  \u001b[39m 1.2.1      \u001b[32m✔\u001b[39m \u001b[34mstringr\u001b[39m 1.4.1 \n",
            "\u001b[32m✔\u001b[39m \u001b[34mreadr  \u001b[39m 2.1.3      \u001b[32m✔\u001b[39m \u001b[34mforcats\u001b[39m 0.5.2 \n",
            "\n",
            "── \u001b[1mConflicts\u001b[22m ────────────────────────────────────────── tidyverse_conflicts() ──\n",
            "\u001b[31m✖\u001b[39m \u001b[34mdplyr\u001b[39m::\u001b[32mfilter()\u001b[39m masks \u001b[34mstats\u001b[39m::filter()\n",
            "\u001b[31m✖\u001b[39m \u001b[34mdplyr\u001b[39m::\u001b[32mlag()\u001b[39m    masks \u001b[34mstats\u001b[39m::lag()\n",
            "\n"
          ]
        }
      ],
      "source": [
        "library(tidyverse)\n",
        "options(repr.plot.width=5, repr.plot.height=4)"
      ]
    },
    {
      "cell_type": "markdown",
      "metadata": {
        "nbgrader": {
          "grade": false,
          "grade_id": "cell-281caadd66986182",
          "locked": true,
          "schema_version": 3,
          "solution": false
        },
        "id": "VFPX3STQWejq"
      },
      "source": [
        "# STATS 306\n",
        "## Homework 4: Exploratory data analysis\n",
        "\n",
        "For each problem, enter the R code in the cell marked \"YOUR SOLUTION HERE\"."
      ]
    },
    {
      "cell_type": "markdown",
      "metadata": {
        "nbgrader": {
          "grade": false,
          "grade_id": "cell-421557d86106e43b",
          "locked": true,
          "schema_version": 3,
          "solution": false
        },
        "id": "WkwFQ7vlWejr"
      },
      "source": [
        "## Problem 1: Whisker plots\n",
        "Suppose you are given the following whisker plot for $n=500$ samples of a random variable $x$:\n",
        "![whiser](https://i.imgur.com/HazzZQQ.png)"
      ]
    },
    {
      "cell_type": "markdown",
      "source": [
        "## Problem 1: Whisker plots \n",
        "\n",
        "This question is worth 1 point overall. \n",
        "\n",
        "**(a)** About how many samples were between 0.2 and 0.5?  "
      ],
      "metadata": {
        "id": "dj-M5uFUhhPo"
      }
    },
    {
      "cell_type": "markdown",
      "source": [
        "    Your Answer for 1a here"
      ],
      "metadata": {
        "id": "LWRNG19RVO2M"
      }
    },
    {
      "cell_type": "markdown",
      "source": [
        "**(b)** The bottom of the \"box\" is at 0.0. What is this value typically called? Explain how this is calculated. "
      ],
      "metadata": {
        "id": "xcgw1RYwU-gi"
      }
    },
    {
      "cell_type": "markdown",
      "source": [
        "    Your Answer for 1b here"
      ],
      "metadata": {
        "id": "3W3gBq4gVWfx"
      }
    },
    {
      "cell_type": "markdown",
      "source": [
        "**(c)** Explain what this plot tells us about our variable x. Why might you choose to make this plot? "
      ],
      "metadata": {
        "id": "OC--YmiCVJ4o"
      }
    },
    {
      "cell_type": "markdown",
      "source": [
        "    Your Answer for 1c here"
      ],
      "metadata": {
        "id": "8OmaoU-sCJqT"
      }
    },
    {
      "cell_type": "markdown",
      "metadata": {
        "id": "uR3u-nutWejs"
      },
      "source": [
        "## Problem 2: Understanding air quality\n",
        "This problem uses the air quality dataset that we studied in lecture:"
      ]
    },
    {
      "cell_type": "code",
      "execution_count": null,
      "metadata": {
        "id": "N1kQccK5Wejt"
      },
      "outputs": [],
      "source": [
        "load(url('https://datasets.stats306.org/pm25.RData'))"
      ]
    },
    {
      "cell_type": "markdown",
      "source": [
        "For each of the questions, produce an appropriate plot that visualizes the distribution or statistic, and explain why this type of plot is appropriate. (Note: multiple correct answers are possible.)"
      ],
      "metadata": {
        "id": "peMlEwect38L"
      }
    },
    {
      "cell_type": "markdown",
      "source": [
        "**(a)** The overall distribution of `pm25` across the entire dataset. (1/2 point)"
      ],
      "metadata": {
        "id": "AEzkzxj6uzjo"
      }
    },
    {
      "cell_type": "code",
      "source": [],
      "metadata": {
        "id": "S91ujfDBB32K"
      },
      "execution_count": null,
      "outputs": []
    },
    {
      "cell_type": "markdown",
      "source": [
        "**(b)** The joint distribution of `pm25` and day of the week, considering only cases where `pm25` was less than 100. (1/2 point)  "
      ],
      "metadata": {
        "id": "aUml9-Juu1tq"
      }
    },
    {
      "cell_type": "code",
      "source": [],
      "metadata": {
        "id": "HT2DOc2ZB5XD"
      },
      "execution_count": null,
      "outputs": []
    },
    {
      "cell_type": "markdown",
      "source": [
        "**(c)** The average `pm25` level for each month for Midwest states. We've provided a vector defining Midwestern states. Please use this in your answer! (1 point) "
      ],
      "metadata": {
        "id": "d9YRRwq0u4u6"
      }
    },
    {
      "cell_type": "code",
      "source": [
        "midwest_states <- c(\"Illinois\", \"Indiana\", \"Iowa\", \"Kansas\", \"Michigan\", \"Minnesota\", \"Missouri\", \"Nebraska\", \"North Dakota\", \"Ohio\", \"South Dakota\", \"Wisconsin\")"
      ],
      "metadata": {
        "id": "rCmpaEpCvGAo"
      },
      "execution_count": null,
      "outputs": []
    },
    {
      "cell_type": "code",
      "source": [],
      "metadata": {
        "id": "4pXYGrXLB6G_"
      },
      "execution_count": null,
      "outputs": []
    },
    {
      "cell_type": "markdown",
      "source": [
        "**(d)** The US EPA considers PM2.5 levels greater than $35 \\mu g/m^3$ to be dangerous. For each day, plot the proportion of counties in California with PM2.5 levels considered to be dangerous, out of all counties in California. What do you notice? Can you think of a reason to explain this pattern? (1 point)\n"
      ],
      "metadata": {
        "id": "lDbTL4m3u83-"
      }
    },
    {
      "cell_type": "code",
      "source": [],
      "metadata": {
        "id": "XzCLQEUUB6sN"
      },
      "execution_count": null,
      "outputs": []
    },
    {
      "cell_type": "markdown",
      "source": [
        "**(e)** Define a state to be \"large\" if it has more than 15 counties, \"medium\" if it has more than 5 counties and no more than 15, and \"small\" if it has 5 or less counties. For each year, plot the average PM2.5 level (across all days in that year and all counties) for large, medium, and small states. (1 point)"
      ],
      "metadata": {
        "id": "uh18pqe2u9r2"
      }
    },
    {
      "cell_type": "code",
      "source": [],
      "metadata": {
        "id": "n1FYkL8hB7Ul"
      },
      "execution_count": null,
      "outputs": []
    },
    {
      "cell_type": "markdown",
      "metadata": {
        "id": "avDQI4MEWeju"
      },
      "source": [
        "## Problem 3: College football\n",
        "The next few questions use a new data set. The file `cfb.RData` contains a table called `cfb` with information on 5,116 college football games played from 2011 to 2017:"
      ]
    },
    {
      "cell_type": "code",
      "execution_count": null,
      "metadata": {
        "id": "ljcwqV3ZWeju",
        "outputId": "baa76f04-3799-4741-e7c1-76131f30f1c3",
        "colab": {
          "base_uri": "https://localhost:8080/",
          "height": 341
        }
      },
      "outputs": [
        {
          "output_type": "display_data",
          "data": {
            "text/html": [
              "<table class=\"dataframe\">\n",
              "<caption>A tibble: 6 × 50</caption>\n",
              "<thead>\n",
              "\t<tr><th scope=col>year</th><th scope=col>game</th><th scope=col>count</th><th scope=col>conf_game</th><th scope=col>week</th><th scope=col>winning</th><th scope=col>winning_conference</th><th scope=col>winning_h_a_n</th><th scope=col>winning_points</th><th scope=col>winning_f_u</th><th scope=col>⋯</th><th scope=col>losing_total_plays</th><th scope=col>losing_total_yards</th><th scope=col>losing_ypp</th><th scope=col>losing_to</th><th scope=col>losing_pen_yards</th><th scope=col>losing_top</th><th scope=col>ot?</th><th scope=col>thursday?</th><th scope=col>top_verification</th><th scope=col>o_u_total</th></tr>\n",
              "\t<tr><th scope=col>&lt;int&gt;</th><th scope=col>&lt;int&gt;</th><th scope=col>&lt;int&gt;</th><th scope=col>&lt;chr&gt;</th><th scope=col>&lt;chr&gt;</th><th scope=col>&lt;chr&gt;</th><th scope=col>&lt;chr&gt;</th><th scope=col>&lt;chr&gt;</th><th scope=col>&lt;int&gt;</th><th scope=col>&lt;chr&gt;</th><th scope=col>⋯</th><th scope=col>&lt;int&gt;</th><th scope=col>&lt;int&gt;</th><th scope=col>&lt;dbl&gt;</th><th scope=col>&lt;int&gt;</th><th scope=col>&lt;int&gt;</th><th scope=col>&lt;int&gt;</th><th scope=col>&lt;chr&gt;</th><th scope=col>&lt;chr&gt;</th><th scope=col>&lt;int&gt;</th><th scope=col>&lt;chr&gt;</th></tr>\n",
              "</thead>\n",
              "<tbody>\n",
              "\t<tr><td>2011</td><td>1</td><td>1</td><td>Y</td><td>1</td><td>FIU              </td><td>Sun Belt</td><td>H</td><td>41</td><td>F</td><td>⋯</td><td>73</td><td>301</td><td>4.12</td><td>1</td><td> 45</td><td>1967</td><td>N</td><td>Y</td><td>3600</td><td>NA</td></tr>\n",
              "\t<tr><td>2011</td><td>2</td><td>1</td><td>N</td><td>1</td><td>Wisconsin        </td><td>Big 10  </td><td>H</td><td>51</td><td>F</td><td>⋯</td><td>65</td><td>292</td><td>4.49</td><td>0</td><td> 65</td><td>2060</td><td>N</td><td>Y</td><td>3600</td><td>NA</td></tr>\n",
              "\t<tr><td>2011</td><td>3</td><td>1</td><td>N</td><td>1</td><td>Mississippi State</td><td>SEC     </td><td>A</td><td>59</td><td>F</td><td>⋯</td><td>87</td><td>338</td><td>3.89</td><td>3</td><td> 55</td><td>2240</td><td>N</td><td>Y</td><td>3600</td><td>NA</td></tr>\n",
              "\t<tr><td>2011</td><td>4</td><td>1</td><td>N</td><td>1</td><td>Syracuse         </td><td>Big East</td><td>H</td><td>36</td><td>F</td><td>⋯</td><td>84</td><td>406</td><td>4.83</td><td>1</td><td> 94</td><td>2024</td><td>Y</td><td>Y</td><td>3600</td><td>NA</td></tr>\n",
              "\t<tr><td>2011</td><td>5</td><td>1</td><td>N</td><td>1</td><td>Bowling Green    </td><td>MAC     </td><td>A</td><td>32</td><td>U</td><td>⋯</td><td>65</td><td>280</td><td>4.31</td><td>3</td><td> 45</td><td>1181</td><td>N</td><td>Y</td><td>3600</td><td>NA</td></tr>\n",
              "\t<tr><td>2011</td><td>6</td><td>1</td><td>N</td><td>1</td><td>Kentucky         </td><td>SEC     </td><td>N</td><td>14</td><td>F</td><td>⋯</td><td>69</td><td>234</td><td>3.39</td><td>4</td><td>120</td><td>2040</td><td>N</td><td>Y</td><td>3600</td><td>NA</td></tr>\n",
              "</tbody>\n",
              "</table>\n"
            ],
            "text/markdown": "\nA tibble: 6 × 50\n\n| year &lt;int&gt; | game &lt;int&gt; | count &lt;int&gt; | conf_game &lt;chr&gt; | week &lt;chr&gt; | winning &lt;chr&gt; | winning_conference &lt;chr&gt; | winning_h_a_n &lt;chr&gt; | winning_points &lt;int&gt; | winning_f_u &lt;chr&gt; | ⋯ ⋯ | losing_total_plays &lt;int&gt; | losing_total_yards &lt;int&gt; | losing_ypp &lt;dbl&gt; | losing_to &lt;int&gt; | losing_pen_yards &lt;int&gt; | losing_top &lt;int&gt; | ot? &lt;chr&gt; | thursday? &lt;chr&gt; | top_verification &lt;int&gt; | o_u_total &lt;chr&gt; |\n|---|---|---|---|---|---|---|---|---|---|---|---|---|---|---|---|---|---|---|---|---|\n| 2011 | 1 | 1 | Y | 1 | FIU               | Sun Belt | H | 41 | F | ⋯ | 73 | 301 | 4.12 | 1 |  45 | 1967 | N | Y | 3600 | NA |\n| 2011 | 2 | 1 | N | 1 | Wisconsin         | Big 10   | H | 51 | F | ⋯ | 65 | 292 | 4.49 | 0 |  65 | 2060 | N | Y | 3600 | NA |\n| 2011 | 3 | 1 | N | 1 | Mississippi State | SEC      | A | 59 | F | ⋯ | 87 | 338 | 3.89 | 3 |  55 | 2240 | N | Y | 3600 | NA |\n| 2011 | 4 | 1 | N | 1 | Syracuse          | Big East | H | 36 | F | ⋯ | 84 | 406 | 4.83 | 1 |  94 | 2024 | Y | Y | 3600 | NA |\n| 2011 | 5 | 1 | N | 1 | Bowling Green     | MAC      | A | 32 | U | ⋯ | 65 | 280 | 4.31 | 3 |  45 | 1181 | N | Y | 3600 | NA |\n| 2011 | 6 | 1 | N | 1 | Kentucky          | SEC      | N | 14 | F | ⋯ | 69 | 234 | 3.39 | 4 | 120 | 2040 | N | Y | 3600 | NA |\n\n",
            "text/latex": "A tibble: 6 × 50\n\\begin{tabular}{lllllllllllllllllllll}\n year & game & count & conf\\_game & week & winning & winning\\_conference & winning\\_h\\_a\\_n & winning\\_points & winning\\_f\\_u & ⋯ & losing\\_total\\_plays & losing\\_total\\_yards & losing\\_ypp & losing\\_to & losing\\_pen\\_yards & losing\\_top & ot? & thursday? & top\\_verification & o\\_u\\_total\\\\\n <int> & <int> & <int> & <chr> & <chr> & <chr> & <chr> & <chr> & <int> & <chr> & ⋯ & <int> & <int> & <dbl> & <int> & <int> & <int> & <chr> & <chr> & <int> & <chr>\\\\\n\\hline\n\t 2011 & 1 & 1 & Y & 1 & FIU               & Sun Belt & H & 41 & F & ⋯ & 73 & 301 & 4.12 & 1 &  45 & 1967 & N & Y & 3600 & NA\\\\\n\t 2011 & 2 & 1 & N & 1 & Wisconsin         & Big 10   & H & 51 & F & ⋯ & 65 & 292 & 4.49 & 0 &  65 & 2060 & N & Y & 3600 & NA\\\\\n\t 2011 & 3 & 1 & N & 1 & Mississippi State & SEC      & A & 59 & F & ⋯ & 87 & 338 & 3.89 & 3 &  55 & 2240 & N & Y & 3600 & NA\\\\\n\t 2011 & 4 & 1 & N & 1 & Syracuse          & Big East & H & 36 & F & ⋯ & 84 & 406 & 4.83 & 1 &  94 & 2024 & Y & Y & 3600 & NA\\\\\n\t 2011 & 5 & 1 & N & 1 & Bowling Green     & MAC      & A & 32 & U & ⋯ & 65 & 280 & 4.31 & 3 &  45 & 1181 & N & Y & 3600 & NA\\\\\n\t 2011 & 6 & 1 & N & 1 & Kentucky          & SEC      & N & 14 & F & ⋯ & 69 & 234 & 3.39 & 4 & 120 & 2040 & N & Y & 3600 & NA\\\\\n\\end{tabular}\n",
            "text/plain": [
              "  year game count conf_game week winning           winning_conference\n",
              "1 2011 1    1     Y         1    FIU               Sun Belt          \n",
              "2 2011 2    1     N         1    Wisconsin         Big 10            \n",
              "3 2011 3    1     N         1    Mississippi State SEC               \n",
              "4 2011 4    1     N         1    Syracuse          Big East          \n",
              "5 2011 5    1     N         1    Bowling Green     MAC               \n",
              "6 2011 6    1     N         1    Kentucky          SEC               \n",
              "  winning_h_a_n winning_points winning_f_u ⋯ losing_total_plays\n",
              "1 H             41             F           ⋯ 73                \n",
              "2 H             51             F           ⋯ 65                \n",
              "3 A             59             F           ⋯ 87                \n",
              "4 H             36             F           ⋯ 84                \n",
              "5 A             32             U           ⋯ 65                \n",
              "6 N             14             F           ⋯ 69                \n",
              "  losing_total_yards losing_ypp losing_to losing_pen_yards losing_top ot?\n",
              "1 301                4.12       1          45              1967       N  \n",
              "2 292                4.49       0          65              2060       N  \n",
              "3 338                3.89       3          55              2240       N  \n",
              "4 406                4.83       1          94              2024       Y  \n",
              "5 280                4.31       3          45              1181       N  \n",
              "6 234                3.39       4         120              2040       N  \n",
              "  thursday? top_verification o_u_total\n",
              "1 Y         3600             NA       \n",
              "2 Y         3600             NA       \n",
              "3 Y         3600             NA       \n",
              "4 Y         3600             NA       \n",
              "5 Y         3600             NA       \n",
              "6 Y         3600             NA       "
            ]
          },
          "metadata": {}
        }
      ],
      "source": [
        "load(url('https://datasets.stats306.org/cfb.RData'))\n",
        "head(cfb)"
      ]
    },
    {
      "cell_type": "markdown",
      "metadata": {
        "id": "pp6oL9WQWejv"
      },
      "source": [
        "(Each row of the table is one game, and contains various statistics for both the winning and losing teams.)"
      ]
    },
    {
      "cell_type": "markdown",
      "metadata": {
        "id": "pbL3rm_9Wejv"
      },
      "source": [
        "**(a)** College football is divided into various conferences. (UM is in the Big Ten conference.) **A conference game is a game where the `winning_conference` and `losing_conference` are the same**. For example, row 4631 of CFB is a conference game between Western Michigan and Buffalo, both in the Mid-American Conference. A total of 139 points were scored:"
      ]
    },
    {
      "cell_type": "code",
      "execution_count": null,
      "metadata": {
        "id": "ZfLKfbm8Wejv",
        "outputId": "b7ff7e93-2db2-45f2-c076-3c83ca073848",
        "colab": {
          "base_uri": "https://localhost:8080/",
          "height": 129
        }
      },
      "outputs": [
        {
          "output_type": "display_data",
          "data": {
            "text/html": [
              "<table class=\"dataframe\">\n",
              "<caption>A tibble: 1 × 6</caption>\n",
              "<thead>\n",
              "\t<tr><th scope=col>winning</th><th scope=col>winning_conference</th><th scope=col>winning_points</th><th scope=col>losing</th><th scope=col>losing_conference</th><th scope=col>losing_points</th></tr>\n",
              "\t<tr><th scope=col>&lt;chr&gt;</th><th scope=col>&lt;chr&gt;</th><th scope=col>&lt;int&gt;</th><th scope=col>&lt;chr&gt;</th><th scope=col>&lt;chr&gt;</th><th scope=col>&lt;int&gt;</th></tr>\n",
              "</thead>\n",
              "<tbody>\n",
              "\t<tr><td>W. Michigan</td><td>MAC</td><td>71</td><td>Buffalo</td><td>MAC</td><td>68</td></tr>\n",
              "</tbody>\n",
              "</table>\n"
            ],
            "text/markdown": "\nA tibble: 1 × 6\n\n| winning &lt;chr&gt; | winning_conference &lt;chr&gt; | winning_points &lt;int&gt; | losing &lt;chr&gt; | losing_conference &lt;chr&gt; | losing_points &lt;int&gt; |\n|---|---|---|---|---|---|\n| W. Michigan | MAC | 71 | Buffalo | MAC | 68 |\n\n",
            "text/latex": "A tibble: 1 × 6\n\\begin{tabular}{llllll}\n winning & winning\\_conference & winning\\_points & losing & losing\\_conference & losing\\_points\\\\\n <chr> & <chr> & <int> & <chr> & <chr> & <int>\\\\\n\\hline\n\t W. Michigan & MAC & 71 & Buffalo & MAC & 68\\\\\n\\end{tabular}\n",
            "text/plain": [
              "  winning     winning_conference winning_points losing  losing_conference\n",
              "1 W. Michigan MAC                71             Buffalo MAC              \n",
              "  losing_points\n",
              "1 68           "
            ]
          },
          "metadata": {}
        }
      ],
      "source": [
        "cfb %>% slice(4631) %>% \n",
        "    select(winning, winning_conference, winning_points, \n",
        "           losing, losing_conference, losing_points)"
      ]
    },
    {
      "cell_type": "markdown",
      "metadata": {
        "nbgrader": {
          "grade": false,
          "grade_id": "cell-88e1b70275693fee",
          "locked": true,
          "schema_version": 3,
          "solution": false
        },
        "id": "M32npIiwWejw"
      },
      "source": [
        "Certain conferences have a reputation for being higher scoring. Investigate this by restricting to conference games and producing a box-and-whisker plot that shows the distribution of total number of points scored per game (ppg) by conference from **2011 to 2015**. Ensure that the conference names in the plot are legible, and sort the conferences in order of the median ppg. Which conference had the highest scores? The lowest? Do you think these differences are real, or arose due to chance? (1 point)"
      ]
    },
    {
      "cell_type": "code",
      "source": [],
      "metadata": {
        "id": "O-cOd0hRCAx0"
      },
      "execution_count": null,
      "outputs": []
    },
    {
      "cell_type": "markdown",
      "metadata": {
        "id": "Zo3nnsg4Wejw"
      },
      "source": [
        "**(b)** In football, two main offensive tactics to gain yardage territory are rushing and passing. Using the techniques we learned in class for filtering and reshaping data, create a new table which contains only the data among Big 10 conference teams and shows the passing and rushing yardage for each year and week for each team. (1 point) \n",
        "\n",
        "If we sort such a table chronologically and in alphabetical order of team name, the first few rows are:\n",
        "\n",
        "    # A tibble: 774 × 5\n",
        "      year week  team           pass_yards rush_yards\n",
        "      <int> <fct> <chr>              <int>      <int>\n",
        "    1  2011 5     Michigan             217        363\n",
        "    2  2011 5     Illinois             391         82\n",
        "    3  2011 5     Penn State           271        193\n",
        "    4  2011 5     Michigan State       250         71\n",
        "    5  2011 5     Wisconsin            255        231\n",
        "\n",
        "Note: It is fine to create two dataframes and combine them together at the end. "
      ]
    },
    {
      "cell_type": "code",
      "source": [],
      "metadata": {
        "id": "FyxusXUOCCPR"
      },
      "execution_count": null,
      "outputs": []
    },
    {
      "cell_type": "markdown",
      "metadata": {
        "id": "Oey4plNhWejw"
      },
      "source": [
        "**(c)** Some teams rely more on passing to gain yardage, while other rely more on rushing. Create an appropriate \n",
        "plot that visualizes the joint distribution of passing and rushing yardage for each team over. In your opinion, are there any outliers? What are they? Is there any reason for them to be outlying? (1 point) \n",
        "\n",
        "Note: you may need to use dplyr to extract the outliers from the table data. "
      ]
    },
    {
      "cell_type": "code",
      "source": [],
      "metadata": {
        "id": "Nzp_RUmQCD_S"
      },
      "execution_count": null,
      "outputs": []
    },
    {
      "cell_type": "markdown",
      "metadata": {
        "id": "PANaSHV5Wejw"
      },
      "source": [
        "## Problem 4 (Challenge problem) \n",
        "The column `winning_h_a_n` shows whether the winning team was playing at **H**ome, **A**way, or on a **N**eutral field (not home to either team). Filter only to the records related to Michigan and produce a table which has five columns: `year`, `week`, `points`, `venue`, `outcome` where venue is `H/A/N` for `Home/Away/Neutral` and outcome is `winning` or `losing`. A subset of this table is provided below for reference: \n",
        "\n",
        "    # A tibble: 176 × 5\n",
        "        year week  venue outcome points\n",
        "       <int> <chr> <chr> <chr> <int>  \n",
        "     1  2011  1      H   winning   34        \n",
        "     2  2011  1      A   losing    10             \n",
        "     3  2011  2      H   winning   35              \n",
        "     4  2011  2      A   losing    31      \n",
        "     5  2011  3      H   winning   31                          \n",
        "     6  2011  3      A   losing    3             \n",
        "     7  2011  4      H   winning   28             \n",
        "     8  2011  4      A   losing    7            \n",
        "     9  2011  5      H   winning   58       \n",
        "     10 2011  5      A   losing    0           \n",
        "\n",
        "Michigan Stadium, nicknamed \"The Big House,\" is the football stadium for the University of Michigan with the capacity of 107,601 which can potentially house 100,000+ Wolverine fans.\n",
        "\n",
        "Does Michigan win more *at the Big House* ? In other words, is the proportion of games won by Michigan statistically different from proportion of games won by the away team at the Big House ? Use the above table to perform a hypothesis test and draw conclusion.\n",
        "\n",
        "(Hint: In STATS 250 you learned how to test this. This test is implemented in R using the binom.test function.)"
      ]
    },
    {
      "cell_type": "code",
      "source": [],
      "metadata": {
        "id": "q42yNhLKCGXm"
      },
      "execution_count": null,
      "outputs": []
    }
  ],
  "metadata": {
    "celltoolbar": "Create Assignment",
    "kernelspec": {
      "display_name": "R",
      "language": "R",
      "name": "ir"
    },
    "language_info": {
      "codemirror_mode": "r",
      "file_extension": ".r",
      "mimetype": "text/x-r-source",
      "name": "R",
      "pygments_lexer": "r",
      "version": "4.2.2"
    },
    "colab": {
      "provenance": [],
      "collapsed_sections": [
        "WkwFQ7vlWejr"
      ]
    }
  },
  "nbformat": 4,
  "nbformat_minor": 0
}