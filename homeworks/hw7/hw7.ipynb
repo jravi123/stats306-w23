{
 "cells": [
  {
   "cell_type": "code",
   "execution_count": null,
   "metadata": {
    "colab": {
     "base_uri": "https://localhost:8080/"
    },
    "deletable": false,
    "editable": false,
    "executionInfo": {
     "elapsed": 113953,
     "status": "ok",
     "timestamp": 1678556201423,
     "user": {
      "displayName": "Zehua Wang",
      "userId": "04708119969912042844"
     },
     "user_tz": 300
    },
    "id": "1SPCENz_KDM-",
    "nbgrader": {
     "grade": false,
     "grade_id": "cell-d1761bfdb43c7ec3",
     "locked": true,
     "schema_version": 3,
     "solution": false
    },
    "outputId": "d5a421c5-f599-475c-d193-324b5f6fc386",
    "vscode": {
     "languageId": "r"
    }
   },
   "outputs": [],
   "source": [
    "install.packages(\"tidyverse\")\n",
    "remotes::install_github(\"bradleyboehmke/harrypotter\")\n",
    "install.packages(\"tidytext\")\n",
    "library(tidyverse)\n",
    "library(stringr)\n",
    "options(jupyter.rich_display=T)\n",
    "library(harrypotter)\n",
    "library(tidytext)\n",
    "options(repr.plot.width=4, repr.plot.height=3)"
   ]
  },
  {
   "cell_type": "markdown",
   "metadata": {
    "deletable": false,
    "editable": false,
    "id": "i8VBJe1DLrKG",
    "run_control": {
     "frozen": true
    }
   },
   "source": [
    "# STATS 306\n",
    "## Homework 7: Text Analysis\n",
    "\n",
    "For each problem, enter the R code in the cell marked \"YOUR SOLUTION HERE\"."
   ]
  },
  {
   "cell_type": "markdown",
   "metadata": {
    "deletable": false,
    "editable": false,
    "id": "Yp7WT7I1KDNF",
    "nbgrader": {
     "grade": false,
     "grade_id": "cell-2be6421ceea97f78",
     "locked": true,
     "schema_version": 3,
     "solution": false,
     "task": false
    },
    "run_control": {
     "frozen": true
    }
   },
   "source": [
    "## Problem 1: Sentiment Analysis (4 points)\n",
    "\n",
    "In problem 1 we will perform *sentiment analysis* of the Harry Potter books. The file `afinn.RData` contains a sentiment score for a large number of words in the English language:"
   ]
  },
  {
   "cell_type": "code",
   "execution_count": 10,
   "metadata": {
    "colab": {
     "base_uri": "https://localhost:8080/",
     "height": 286
    },
    "deletable": false,
    "editable": false,
    "executionInfo": {
     "elapsed": 108,
     "status": "ok",
     "timestamp": 1678559040289,
     "user": {
      "displayName": "Zehua Wang",
      "userId": "04708119969912042844"
     },
     "user_tz": 300
    },
    "id": "rVaiwyOLKDNE",
    "nbgrader": {
     "grade": false,
     "grade_id": "cell-a0b1b3db5aa2f68d",
     "locked": true,
     "schema_version": 3,
     "solution": false,
     "task": false
    },
    "outputId": "ff2794d3-1d5b-45df-e31b-0f8d22375d7b",
    "vscode": {
     "languageId": "r"
    }
   },
   "outputs": [
    {
     "data": {
      "text/html": [
       "<table class=\"dataframe\">\n",
       "<caption>A tibble: 6 × 2</caption>\n",
       "<thead>\n",
       "\t<tr><th scope=col>word</th><th scope=col>value</th></tr>\n",
       "\t<tr><th scope=col>&lt;chr&gt;</th><th scope=col>&lt;dbl&gt;</th></tr>\n",
       "</thead>\n",
       "<tbody>\n",
       "\t<tr><td>abandon   </td><td>-2</td></tr>\n",
       "\t<tr><td>abandoned </td><td>-2</td></tr>\n",
       "\t<tr><td>abandons  </td><td>-2</td></tr>\n",
       "\t<tr><td>abducted  </td><td>-2</td></tr>\n",
       "\t<tr><td>abduction </td><td>-2</td></tr>\n",
       "\t<tr><td>abductions</td><td>-2</td></tr>\n",
       "</tbody>\n",
       "</table>\n"
      ],
      "text/latex": [
       "A tibble: 6 × 2\n",
       "\\begin{tabular}{ll}\n",
       " word & value\\\\\n",
       " <chr> & <dbl>\\\\\n",
       "\\hline\n",
       "\t abandon    & -2\\\\\n",
       "\t abandoned  & -2\\\\\n",
       "\t abandons   & -2\\\\\n",
       "\t abducted   & -2\\\\\n",
       "\t abduction  & -2\\\\\n",
       "\t abductions & -2\\\\\n",
       "\\end{tabular}\n"
      ],
      "text/markdown": [
       "\n",
       "A tibble: 6 × 2\n",
       "\n",
       "| word &lt;chr&gt; | value &lt;dbl&gt; |\n",
       "|---|---|\n",
       "| abandon    | -2 |\n",
       "| abandoned  | -2 |\n",
       "| abandons   | -2 |\n",
       "| abducted   | -2 |\n",
       "| abduction  | -2 |\n",
       "| abductions | -2 |\n",
       "\n"
      ],
      "text/plain": [
       "  word       value\n",
       "1 abandon    -2   \n",
       "2 abandoned  -2   \n",
       "3 abandons   -2   \n",
       "4 abducted   -2   \n",
       "5 abduction  -2   \n",
       "6 abductions -2   "
      ]
     },
     "metadata": {},
     "output_type": "display_data"
    }
   ],
   "source": [
    "load(url(\"https://datasets.stats306.org/afinn.RData\"))\n",
    "head(afinn)"
   ]
  },
  {
   "cell_type": "markdown",
   "metadata": {
    "deletable": false,
    "editable": false,
    "id": "eQZaf91hKDNE",
    "nbgrader": {
     "grade": false,
     "grade_id": "cell-fd453d3925b1ec23",
     "locked": true,
     "schema_version": 3,
     "solution": false,
     "task": false
    },
    "run_control": {
     "frozen": true
    }
   },
   "source": [
    "Negatively connoted words receive low scores, while positively connoted words receive high scores:"
   ]
  },
  {
   "cell_type": "code",
   "execution_count": 11,
   "metadata": {
    "colab": {
     "base_uri": "https://localhost:8080/",
     "height": 178
    },
    "deletable": false,
    "editable": false,
    "executionInfo": {
     "elapsed": 131,
     "status": "ok",
     "timestamp": 1678559042028,
     "user": {
      "displayName": "Zehua Wang",
      "userId": "04708119969912042844"
     },
     "user_tz": 300
    },
    "id": "GIRs7RepKDNF",
    "nbgrader": {
     "grade": false,
     "grade_id": "cell-727f2c40cd76f830",
     "locked": true,
     "schema_version": 3,
     "solution": false,
     "task": false
    },
    "outputId": "6cafbbcd-f365-46cc-977d-7f187bdeefa8",
    "vscode": {
     "languageId": "r"
    }
   },
   "outputs": [
    {
     "data": {
      "text/html": [
       "<table class=\"dataframe\">\n",
       "<caption>A spec_tbl_df: 2 × 2</caption>\n",
       "<thead>\n",
       "\t<tr><th scope=col>word</th><th scope=col>value</th></tr>\n",
       "\t<tr><th scope=col>&lt;chr&gt;</th><th scope=col>&lt;dbl&gt;</th></tr>\n",
       "</thead>\n",
       "<tbody>\n",
       "\t<tr><td>death </td><td>-2</td></tr>\n",
       "\t<tr><td>hurrah</td><td> 5</td></tr>\n",
       "</tbody>\n",
       "</table>\n"
      ],
      "text/latex": [
       "A spec\\_tbl\\_df: 2 × 2\n",
       "\\begin{tabular}{ll}\n",
       " word & value\\\\\n",
       " <chr> & <dbl>\\\\\n",
       "\\hline\n",
       "\t death  & -2\\\\\n",
       "\t hurrah &  5\\\\\n",
       "\\end{tabular}\n"
      ],
      "text/markdown": [
       "\n",
       "A spec_tbl_df: 2 × 2\n",
       "\n",
       "| word &lt;chr&gt; | value &lt;dbl&gt; |\n",
       "|---|---|\n",
       "| death  | -2 |\n",
       "| hurrah |  5 |\n",
       "\n"
      ],
      "text/plain": [
       "  word   value\n",
       "1 death  -2   \n",
       "2 hurrah  5   "
      ]
     },
     "metadata": {},
     "output_type": "display_data"
    }
   ],
   "source": [
    "filter(afinn, word %in% c(\"death\", \"hurrah\"))"
   ]
  },
  {
   "cell_type": "markdown",
   "metadata": {
    "deletable": false,
    "editable": false,
    "id": "bnxGYxYuN0Va",
    "run_control": {
     "frozen": true
    }
   },
   "source": [
    "The `tidytext::unnest_tokens()` function can be used to break a chunk of text into \"tokens\" (words, sentences, etc.) It works as follows. Consider the following tibble, which contains all 17 chapters of the first book in the Harry Potter series:"
   ]
  },
  {
   "cell_type": "code",
   "execution_count": 12,
   "metadata": {
    "colab": {
     "base_uri": "https://localhost:8080/"
    },
    "deletable": false,
    "editable": false,
    "executionInfo": {
     "elapsed": 238,
     "status": "ok",
     "timestamp": 1678559043393,
     "user": {
      "displayName": "Zehua Wang",
      "userId": "04708119969912042844"
     },
     "user_tz": 300
    },
    "id": "afSFdPizKDNG",
    "nbgrader": {
     "grade": false,
     "grade_id": "cell-5720923eadb15f71",
     "locked": true,
     "schema_version": 3,
     "solution": false,
     "task": false
    },
    "outputId": "63c992b3-132c-462f-f0e5-d5ce995609c4",
    "vscode": {
     "languageId": "r"
    }
   },
   "outputs": [
    {
     "name": "stdout",
     "output_type": "stream",
     "text": [
      "\u001b[90m# A tibble: 17 × 2\u001b[39m\n",
      "   chapter text                                                                 \n",
      "     \u001b[3m\u001b[90m<int>\u001b[39m\u001b[23m \u001b[3m\u001b[90m<chr>\u001b[39m\u001b[23m                                                                \n",
      "\u001b[90m 1\u001b[39m       1 \u001b[90m\"\u001b[39mTHE BOY WHO LIVED　　Mr. and Mrs. Dursley, of number four, Privet D…\n",
      "\u001b[90m 2\u001b[39m       2 \u001b[90m\"\u001b[39mTHE VANISHING GLASS　　Nearly ten years had passed since the Dursle…\n",
      "\u001b[90m 3\u001b[39m       3 \u001b[90m\"\u001b[39mTHE LETTERS FROM NO ONE　　The escape of the Brazilian boa constric…\n",
      "\u001b[90m 4\u001b[39m       4 \u001b[90m\"\u001b[39mTHE KEEPER OF THE KEYS　　BOOM. They knocked again. Dudley jerked a…\n",
      "\u001b[90m 5\u001b[39m       5 \u001b[90m\"\u001b[39mDIAGON ALLEY　　Harry woke early the next morning. Although he coul…\n",
      "\u001b[90m 6\u001b[39m       6 \u001b[90m\"\u001b[39mTHE JOURNEY FROM PLATFORM NINE AND THREE-QUARTERS　　Harry's last m…\n",
      "\u001b[90m 7\u001b[39m       7 \u001b[90m\"\u001b[39mTHE SORTING HAT　　The door swung open at once. A tall, black-haire…\n",
      "\u001b[90m 8\u001b[39m       8 \u001b[90m\"\u001b[39mTHE POTIONS MASTER　　There, look.\\\"　　\\\"Where?\\\"　　\\\"Next to the…\n",
      "\u001b[90m 9\u001b[39m       9 \u001b[90m\"\u001b[39mTHE MIDNIGHT DUEL　　Harry had never believed he would meet a boy h…\n",
      "\u001b[90m10\u001b[39m      10 \u001b[90m\"\u001b[39mHALLOWEEN　　Malfoy couldn't believe his eyes when he saw that Harr…\n",
      "\u001b[90m11\u001b[39m      11 \u001b[90m\"\u001b[39mQUIDDITCH　　As they entered November, the weather turned very cold…\n",
      "\u001b[90m12\u001b[39m      12 \u001b[90m\"\u001b[39mTHE MIRROR OF ERISED　　Christmas was coming. One morning in mid-De…\n",
      "\u001b[90m13\u001b[39m      13 \u001b[90m\"\u001b[39mNICOLAS FLAMEL　　Dumbledore had convinced Harry not to go looking …\n",
      "\u001b[90m14\u001b[39m      14 \u001b[90m\"\u001b[39mNORBERT THE NORWEGIAN RIDGEBACK　　Quirrell, however, must have bee…\n",
      "\u001b[90m15\u001b[39m      15 \u001b[90m\"\u001b[39mTHE FORIBIDDEN FOREST　　Things couldn't have been worse.　　Filch …\n",
      "\u001b[90m16\u001b[39m      16 \u001b[90m\"\u001b[39mTHROUGH THE TRAPDOOR　　In years to come, Harry would never quite r…\n",
      "\u001b[90m17\u001b[39m      17 \u001b[90m\"\u001b[39mTHE MAN WITH TWO FACES　　It was Quirrell.　　\\\"You!\\\" gasped Harry…\n"
     ]
    }
   ],
   "source": [
    "phil_tbl <- tibble(chapter=seq_along(philosophers_stone), \n",
    "                   text=philosophers_stone) %>% print"
   ]
  },
  {
   "cell_type": "markdown",
   "metadata": {
    "deletable": false,
    "editable": false,
    "id": "dF5BEX6KKDNG",
    "nbgrader": {
     "grade": false,
     "grade_id": "cell-6458005323726b6c",
     "locked": true,
     "schema_version": 3,
     "solution": false,
     "task": false
    },
    "run_control": {
     "frozen": true
    }
   },
   "source": [
    "To perform sentiment analysis, we need to break each chapter into words so that we can join it to the `afinn` table. This is what `unnest_tokens()` does:"
   ]
  },
  {
   "cell_type": "code",
   "execution_count": 13,
   "metadata": {
    "colab": {
     "base_uri": "https://localhost:8080/"
    },
    "deletable": false,
    "editable": false,
    "executionInfo": {
     "elapsed": 242,
     "status": "ok",
     "timestamp": 1678559044732,
     "user": {
      "displayName": "Zehua Wang",
      "userId": "04708119969912042844"
     },
     "user_tz": 300
    },
    "id": "k5JwDuDhKDNH",
    "nbgrader": {
     "grade": false,
     "grade_id": "cell-d9a1412ce1c67af4",
     "locked": true,
     "schema_version": 3,
     "solution": false,
     "task": false
    },
    "outputId": "317d8f62-6db9-449e-94f6-95c073a50509",
    "vscode": {
     "languageId": "r"
    }
   },
   "outputs": [
    {
     "name": "stdout",
     "output_type": "stream",
     "text": [
      "\u001b[90m# A tibble: 77,876 × 2\u001b[39m\n",
      "   chapter word   \n",
      "     \u001b[3m\u001b[90m<int>\u001b[39m\u001b[23m \u001b[3m\u001b[90m<chr>\u001b[39m\u001b[23m  \n",
      "\u001b[90m 1\u001b[39m       1 the    \n",
      "\u001b[90m 2\u001b[39m       1 boy    \n",
      "\u001b[90m 3\u001b[39m       1 who    \n",
      "\u001b[90m 4\u001b[39m       1 lived  \n",
      "\u001b[90m 5\u001b[39m       1 mr     \n",
      "\u001b[90m 6\u001b[39m       1 and    \n",
      "\u001b[90m 7\u001b[39m       1 mrs    \n",
      "\u001b[90m 8\u001b[39m       1 dursley\n",
      "\u001b[90m 9\u001b[39m       1 of     \n",
      "\u001b[90m10\u001b[39m       1 number \n",
      "\u001b[90m# … with 77,866 more rows\u001b[39m\n"
     ]
    }
   ],
   "source": [
    "phil_tok <- unnest_tokens(phil_tbl, input=text, output=word) %>% print"
   ]
  },
  {
   "cell_type": "markdown",
   "metadata": {
    "deletable": false,
    "editable": false,
    "id": "kPM1RnIKKDNH",
    "nbgrader": {
     "grade": false,
     "grade_id": "cell-f434554a9cb77230",
     "locked": true,
     "schema_version": 3,
     "solution": false,
     "task": false
    },
    "run_control": {
     "frozen": true
    }
   },
   "source": [
    "**1(a)** By joining this table to other tables containing text data and summarizing, we can generate scores of how positive or negative the text is. Using the table and `afinn`, we can assign sentiment scores to various portions of text. Generate a plot reflecting how the sentiment changes over 17 chapters of the first book in the Harry Potter series. What conclusion can you draw from the plot? (1 point)"
   ]
  },
  {
   "cell_type": "code",
   "execution_count": 15,
   "metadata": {
    "colab": {
     "base_uri": "https://localhost:8080/",
     "height": 197
    },
    "executionInfo": {
     "elapsed": 491,
     "status": "ok",
     "timestamp": 1678559046545,
     "user": {
      "displayName": "Zehua Wang",
      "userId": "04708119969912042844"
     },
     "user_tz": 300
    },
    "id": "MnG3nbbBY8ps",
    "outputId": "302e7a18-5579-4e83-b849-e7a8d57624c7",
    "vscode": {
     "languageId": "r"
    }
   },
   "outputs": [],
   "source": [
    "### YOUR SOLUTION HERE"
   ]
  },
  {
   "cell_type": "markdown",
   "metadata": {
    "deletable": false,
    "editable": false,
    "id": "-YSgb5cqKDNH",
    "nbgrader": {
     "grade": false,
     "grade_id": "cell-764bdd8bbd4ec469",
     "locked": true,
     "schema_version": 3,
     "solution": false,
     "task": false
    },
    "run_control": {
     "frozen": true
    }
   },
   "source": [
    "**1(b)**\n",
    "Some people say that the Harry Potter books became darker (more negative) over time. Use sentiment analysis to investigate this, and report your conclusion here. (1 point)\n",
    "\n",
    "**HINT**: A list of all the Harry Potter books can be obtained by looking at the help page for the `harrypotter` package."
   ]
  },
  {
   "cell_type": "code",
   "execution_count": 16,
   "metadata": {
    "colab": {
     "base_uri": "https://localhost:8080/",
     "height": 413
    },
    "executionInfo": {
     "elapsed": 3879,
     "status": "ok",
     "timestamp": 1678559051533,
     "user": {
      "displayName": "Zehua Wang",
      "userId": "04708119969912042844"
     },
     "user_tz": 300
    },
    "id": "dHoAejNaKDNH",
    "nbgrader": {
     "grade": true,
     "grade_id": "cell-456e0f9282dcf3e0",
     "locked": false,
     "points": 0,
     "schema_version": 3,
     "solution": true,
     "task": false
    },
    "outputId": "7c9d7b3a-97fb-4f9c-c1a5-49c2013edb58",
    "vscode": {
     "languageId": "r"
    }
   },
   "outputs": [],
   "source": [
    "### YOUR SOLUTION HERE"
   ]
  },
  {
   "cell_type": "markdown",
   "metadata": {
    "deletable": false,
    "editable": false,
    "id": "0mC9u3CgKDNI",
    "nbgrader": {
     "grade": false,
     "grade_id": "cell-0b846c7349b1ca76",
     "locked": true,
     "schema_version": 3,
     "solution": false,
     "task": false
    },
    "run_control": {
     "frozen": true
    }
   },
   "source": [
    "**1(c)** According to the sentiment scores, what are the most negative and positive chapters in any of the Harry Potter books? (1 point)"
   ]
  },
  {
   "cell_type": "code",
   "execution_count": 17,
   "metadata": {
    "colab": {
     "base_uri": "https://localhost:8080/",
     "height": 196
    },
    "executionInfo": {
     "elapsed": 1190,
     "status": "ok",
     "timestamp": 1678559054453,
     "user": {
      "displayName": "Zehua Wang",
      "userId": "04708119969912042844"
     },
     "user_tz": 300
    },
    "id": "layiSLfxhQFv",
    "outputId": "ab55e115-2709-4f34-9055-f514c476bb34",
    "vscode": {
     "languageId": "r"
    }
   },
   "outputs": [],
   "source": [
    "### YOUR SOLUTION HERE"
   ]
  },
  {
   "cell_type": "markdown",
   "metadata": {
    "deletable": false,
    "editable": false,
    "id": "aqZmeQx9hHVl",
    "run_control": {
     "frozen": true
    }
   },
   "source": [
    "**1(d)** Of the sentences that contain three or more scored words, what is the happiest (most positive)? (1 points)"
   ]
  },
  {
   "cell_type": "code",
   "execution_count": 18,
   "metadata": {
    "colab": {
     "base_uri": "https://localhost:8080/",
     "height": 555
    },
    "executionInfo": {
     "elapsed": 2845,
     "status": "ok",
     "timestamp": 1678559059195,
     "user": {
      "displayName": "Zehua Wang",
      "userId": "04708119969912042844"
     },
     "user_tz": 300
    },
    "id": "pY01jzuSKDNJ",
    "nbgrader": {
     "grade": true,
     "grade_id": "cell-d133bf2bdbc6ae66",
     "locked": false,
     "points": 0,
     "schema_version": 3,
     "solution": true,
     "task": false
    },
    "outputId": "0946f6d6-8d9c-4ef0-c91a-1ad75cb52350",
    "vscode": {
     "languageId": "r"
    }
   },
   "outputs": [],
   "source": [
    "### YOUR SOLUTION HERE"
   ]
  },
  {
   "cell_type": "markdown",
   "metadata": {
    "deletable": false,
    "editable": false,
    "id": "XnnFosC3KDNJ",
    "nbgrader": {
     "grade": false,
     "grade_id": "cell-718c986a9bef0aca",
     "locked": true,
     "schema_version": 3,
     "solution": false
    },
    "run_control": {
     "frozen": true
    }
   },
   "source": [
    "## Problem 2: Reddit dataset (4 points)\n",
    "The file `reddit_xmas_2017.RData` contains 100,000 comments posted to Reddit on Christmas Day, 2017. Unless specified otherwise, all matches are case insensitive."
   ]
  },
  {
   "cell_type": "code",
   "execution_count": 14,
   "metadata": {
    "colab": {
     "base_uri": "https://localhost:8080/"
    },
    "executionInfo": {
     "elapsed": 470,
     "status": "ok",
     "timestamp": 1678559081656,
     "user": {
      "displayName": "Zehua Wang",
      "userId": "04708119969912042844"
     },
     "user_tz": 300
    },
    "id": "4v6vwcp0KDNJ",
    "nbgrader": {
     "grade": false,
     "grade_id": "cell-1fa7cd0e5989af42",
     "locked": true,
     "schema_version": 3,
     "solution": false
    },
    "outputId": "2ecb4e0e-3045-40a9-bc1a-4e9dda7f629a",
    "vscode": {
     "languageId": "r"
    }
   },
   "outputs": [
    {
     "name": "stdout",
     "output_type": "stream",
     "text": [
      "\u001b[90m# A tibble: 100,000 × 3\u001b[39m\n",
      "   author              body                                  created_utc        \n",
      "   \u001b[3m\u001b[90m<chr>\u001b[39m\u001b[23m               \u001b[3m\u001b[90m<chr>\u001b[39m\u001b[23m                                 \u001b[3m\u001b[90m<dttm>\u001b[39m\u001b[23m             \n",
      "\u001b[90m 1\u001b[39m br_shadow           \u001b[90m\"\u001b[39mThank you for this, there is a pers… 2017-12-25 \u001b[90m15:49:08\u001b[39m\n",
      "\u001b[90m 2\u001b[39m Ksalol              \u001b[90m\"\u001b[39mThey are not to quick actually. It'… 2017-12-25 \u001b[90m17:42:50\u001b[39m\n",
      "\u001b[90m 3\u001b[39m itscool83           \u001b[90m\"\u001b[39mtell her you guys should hang out w… 2017-12-25 \u001b[90m18:54:13\u001b[39m\n",
      "\u001b[90m 4\u001b[39m Glu7enFree          \u001b[90m\"\u001b[39mAutism is a high honor in the tech … 2017-12-25 \u001b[90m07:48:17\u001b[39m\n",
      "\u001b[90m 5\u001b[39m Theotheogreato      \u001b[90m\"\u001b[39mYou thought a cat was your son?! \u001b[90m\"\u001b[39m   2017-12-25 \u001b[90m20:58:08\u001b[39m\n",
      "\u001b[90m 6\u001b[39m Shadrac121          \u001b[90m\"\u001b[39mHopfully she takes wat people say i… 2017-12-25 \u001b[90m22:27:31\u001b[39m\n",
      "\u001b[90m 7\u001b[39m 1fzUjhemoSB1QV7zI7  \u001b[90m\"\u001b[39mSi ce propui sa facem cu toata piel… 2017-12-25 \u001b[90m07:41:31\u001b[39m\n",
      "\u001b[90m 8\u001b[39m MinisterOfEducation \u001b[90m\"\u001b[39mI don't mean to be impolite, but if… 2017-12-25 \u001b[90m19:28:35\u001b[39m\n",
      "\u001b[90m 9\u001b[39m AabidS10            \u001b[90m\"\u001b[39mi dont have a 720p x265 of it, sorr… 2017-12-25 \u001b[90m13:20:32\u001b[39m\n",
      "\u001b[90m10\u001b[39m S3RG10              \u001b[90m\"\u001b[39mI'm dying to try Guatemalan sandals… 2017-12-25 \u001b[90m00:48:46\u001b[39m\n",
      "\u001b[90m# … with 99,990 more rows\u001b[39m\n"
     ]
    }
   ],
   "source": [
    "load(url('https://datasets.stats306.org/reddit_xmas_2017.RData'))\n",
    "reddit %>% print"
   ]
  },
  {
   "cell_type": "markdown",
   "metadata": {
    "id": "YZErB86_KDNK",
    "nbgrader": {
     "grade": false,
     "grade_id": "cell-d055c5ffc0dc61ba",
     "locked": true,
     "schema_version": 3,
     "solution": false
    }
   },
   "source": [
    "Comment 174 wishes everyone a happy holidays:"
   ]
  },
  {
   "cell_type": "code",
   "execution_count": 19,
   "metadata": {
    "colab": {
     "base_uri": "https://localhost:8080/",
     "height": 129
    },
    "executionInfo": {
     "elapsed": 117,
     "status": "ok",
     "timestamp": 1678559085513,
     "user": {
      "displayName": "Zehua Wang",
      "userId": "04708119969912042844"
     },
     "user_tz": 300
    },
    "id": "fvlU2g-fKDNK",
    "nbgrader": {
     "grade": false,
     "grade_id": "cell-f56b4f43b6f4cafa",
     "locked": true,
     "schema_version": 3,
     "solution": false,
     "task": false
    },
    "outputId": "75992224-9763-4bfe-ccdf-24343a5555d1",
    "vscode": {
     "languageId": "r"
    }
   },
   "outputs": [
    {
     "data": {
      "text/html": [
       "<table class=\"dataframe\">\n",
       "<caption>A tibble: 1 × 3</caption>\n",
       "<thead>\n",
       "\t<tr><th scope=col>author</th><th scope=col>body</th><th scope=col>created_utc</th></tr>\n",
       "\t<tr><th scope=col>&lt;chr&gt;</th><th scope=col>&lt;chr&gt;</th><th scope=col>&lt;dttm&gt;</th></tr>\n",
       "</thead>\n",
       "<tbody>\n",
       "\t<tr><td>Bareilles</td><td>Thank you. Happy holidays everyone!</td><td>2017-12-25 01:33:50</td></tr>\n",
       "</tbody>\n",
       "</table>\n"
      ],
      "text/latex": [
       "A tibble: 1 × 3\n",
       "\\begin{tabular}{lll}\n",
       " author & body & created\\_utc\\\\\n",
       " <chr> & <chr> & <dttm>\\\\\n",
       "\\hline\n",
       "\t Bareilles & Thank you. Happy holidays everyone! & 2017-12-25 01:33:50\\\\\n",
       "\\end{tabular}\n"
      ],
      "text/markdown": [
       "\n",
       "A tibble: 1 × 3\n",
       "\n",
       "| author &lt;chr&gt; | body &lt;chr&gt; | created_utc &lt;dttm&gt; |\n",
       "|---|---|---|\n",
       "| Bareilles | Thank you. Happy holidays everyone! | 2017-12-25 01:33:50 |\n",
       "\n"
      ],
      "text/plain": [
       "  author    body                                created_utc        \n",
       "1 Bareilles Thank you. Happy holidays everyone! 2017-12-25 01:33:50"
      ]
     },
     "metadata": {},
     "output_type": "display_data"
    }
   ],
   "source": [
    "reddit %>% slice(174)"
   ]
  },
  {
   "cell_type": "markdown",
   "metadata": {
    "id": "jWuZAcnAKDNK",
    "nbgrader": {
     "grade": false,
     "grade_id": "cell-ce3d459d5d49dde1",
     "locked": true,
     "schema_version": 3,
     "solution": false
    }
   },
   "source": [
    "**2(a)**  What are other people wishing? Count the first occurrence of the string \"Happy `<word>`\" or \"Merry `<word>`\" in the comment body, if any, count the matches. To keep things interesting, do *not* include phrases matching `(happy|merry) (to|with|for|about|and|that|if|i|you|when)`. \n",
    "\n",
    "Print a table containing the top 10 matches; a few of the rows are:\n",
    "\n",
    "<table>\n",
    "<thead>\n",
    "    <tr><th scope=\"col\">greeting</th><th scope=\"col\">n</th></tr>\n",
    "    <tr><th scope=\"col\">&lt;chr&gt;</th><th scope=\"col\">&lt;int&gt;</th></tr>\n",
    "</thead>\n",
    "<tbody>\n",
    "    <tr><td>merry christmas</td><td>2040</td></tr>\n",
    "    <tr><td>happy holidays </td><td> &mdash;</td></tr>\n",
    "    <tr><td>&mdash;        </td><td> &mdash;</td></tr>\n",
    "    <tr><td>&mdash;        </td><td> &mdash;</td></tr>\n",
    "    <tr><td>&mdash;        </td><td> &mdash;</td></tr>\n",
    "    <tr><td>&mdash;        </td><td> &mdash;</td></tr>\n",
    "    <tr><td>&mdash;        </td><td> &mdash;</td></tr>\n",
    "    <tr><td>&mdash;        </td><td> &mdash;</td></tr>\n",
    "    <tr><td>&mdash;        </td><td>   7</td></tr>\n",
    "    <tr><td>happy cakeday  </td><td>   6</td></tr>\n",
    "</tbody>\n",
    "</table>\n",
    "\n",
    "Your numbers may vary slightly depending on how you performed the match."
   ]
  },
  {
   "cell_type": "code",
   "execution_count": null,
   "metadata": {
    "colab": {
     "base_uri": "https://localhost:8080/",
     "height": 411
    },
    "executionInfo": {
     "elapsed": 627,
     "status": "ok",
     "timestamp": 1678563232463,
     "user": {
      "displayName": "Zehua Wang",
      "userId": "04708119969912042844"
     },
     "user_tz": 300
    },
    "id": "ih_LFXpgKDNL",
    "nbgrader": {
     "grade": true,
     "grade_id": "problem7",
     "locked": false,
     "points": 0,
     "schema_version": 3,
     "solution": true,
     "task": false
    },
    "outputId": "3296254d-382d-4ce4-df58-1847579a2e0d",
    "vscode": {
     "languageId": "r"
    }
   },
   "outputs": [],
   "source": [
    "### YOUR SOLUTION HERE"
   ]
  },
  {
   "cell_type": "markdown",
   "metadata": {
    "deletable": false,
    "editable": false,
    "id": "nStN0Jb5KDNL",
    "nbgrader": {
     "grade": false,
     "grade_id": "cell-0868e4922137bd0e",
     "locked": true,
     "schema_version": 3,
     "solution": false
    },
    "run_control": {
     "frozen": true
    }
   },
   "source": [
    "**2(b)** Find the number of times `christmas`or `xmas` mentioned each hour. Similarly, find the number of mentions per hour of `snow` or `flakes`. Draw a plot comparing these two time series. (1 point)"
   ]
  },
  {
   "cell_type": "code",
   "execution_count": 24,
   "metadata": {
    "colab": {
     "base_uri": "https://localhost:8080/",
     "height": 359
    },
    "executionInfo": {
     "elapsed": 1975,
     "status": "ok",
     "timestamp": 1678559110673,
     "user": {
      "displayName": "Zehua Wang",
      "userId": "04708119969912042844"
     },
     "user_tz": 300
    },
    "id": "nuzuglV-KDNL",
    "nbgrader": {
     "grade": true,
     "grade_id": "cell-2eb072f24d1e2cad",
     "locked": false,
     "points": 2,
     "schema_version": 3,
     "solution": true
    },
    "outputId": "02bf3404-fc86-4f20-d155-5d2d3081eabc",
    "vscode": {
     "languageId": "r"
    }
   },
   "outputs": [],
   "source": [
    "### YOUR SOLUTION HERE"
   ]
  },
  {
   "cell_type": "markdown",
   "metadata": {
    "deletable": false,
    "editable": false,
    "id": "Bl53I2qzKDNM",
    "nbgrader": {
     "grade": false,
     "grade_id": "cell-7674a04533f8934b",
     "locked": true,
     "schema_version": 3,
     "solution": false
    },
    "run_control": {
     "frozen": true
    }
   },
   "source": [
    "**2(c)** On Christmas Day, the word `christmas` occurs 4264 times. What is the next most common word after Christmas, and how many times does it appear? (1 point)"
   ]
  },
  {
   "cell_type": "code",
   "execution_count": 20,
   "metadata": {
    "colab": {
     "base_uri": "https://localhost:8080/",
     "height": 295
    },
    "executionInfo": {
     "elapsed": 4679,
     "status": "ok",
     "timestamp": 1678559123314,
     "user": {
      "displayName": "Zehua Wang",
      "userId": "04708119969912042844"
     },
     "user_tz": 300
    },
    "id": "SceqDZbwKDNM",
    "nbgrader": {
     "grade": true,
     "grade_id": "problem9",
     "locked": false,
     "points": 0,
     "schema_version": 3,
     "solution": true,
     "task": false
    },
    "outputId": "092bd5ef-42bf-4e9d-9aff-270f06562927",
    "vscode": {
     "languageId": "r"
    }
   },
   "outputs": [],
   "source": [
    "### YOUR SOLUTION HERE"
   ]
  },
  {
   "cell_type": "markdown",
   "metadata": {
    "deletable": false,
    "editable": false,
    "id": "lr2DRmGZvcXQ",
    "run_control": {
     "frozen": true
    }
   },
   "source": [
    "**2(d)** Using `afinn` dataset, calculate the average sentiment scores of reddit comments for each hour. When is the most positive time in Christmas Day? (1 point)"
   ]
  },
  {
   "cell_type": "code",
   "execution_count": 21,
   "metadata": {
    "colab": {
     "base_uri": "https://localhost:8080/",
     "height": 129
    },
    "executionInfo": {
     "elapsed": 3101,
     "status": "ok",
     "timestamp": 1678559129716,
     "user": {
      "displayName": "Zehua Wang",
      "userId": "04708119969912042844"
     },
     "user_tz": 300
    },
    "id": "BcjSBHwl0Dtr",
    "outputId": "c862006b-6f54-4bb3-f967-e58573a11a9b",
    "vscode": {
     "languageId": "r"
    }
   },
   "outputs": [],
   "source": [
    "### YOUR SOLUTION HERE"
   ]
  },
  {
   "cell_type": "markdown",
   "metadata": {
    "id": "_DTj2_MG0dDA"
   },
   "source": [
    "## Challenge Problem: Text Ranking (2 points)\n",
    "Not all terms/words are equally important, and some carry more information about contents. But how do we measure the importance? One popular method is using TF-IDF (term frequency–inverse document frequency). TF-IDF is a numerical statistic that is intended to reflect how important a word is to a document in a collection. Term Frequency measures the relative frequency of term within document. Inverse Document Frequency measures of how much information the word provides for the collection. \n",
    "\n",
    "We defined TF-IDF as:\n",
    "$$\\text{TF-IDF} = \\operatorname{TF}(t,d) \\times \\operatorname{IDF}(t)$$\n",
    "$$\\operatorname{TF}(t, d) = \\log(1+c(t,d))$$\n",
    "$$\\operatorname{IDF}(t) = 1 + \\log(N/k)$$\n",
    "where $c(t,d)$ is the frequency count of term $t$ in document $d$, $N$ is the total number of documents in the collection, $k$ is the number\n",
    "of documents containing term $t$\n"
   ]
  },
  {
   "cell_type": "markdown",
   "metadata": {
    "deletable": false,
    "editable": false,
    "id": "hZu4hDN843rC",
    "run_control": {
     "frozen": true
    }
   },
   "source": [
    "**(a)** Consider the Harry Potter series as a collection of documents(books), find top 5 words in each book ranked by TF-IDF. Comment on your finding. (1 point) \n",
    "\n",
    "_Hint_: You can either compute this by hand, using the definitions shown above, or employ built-in functions in the `tidytext` package."
   ]
  },
  {
   "cell_type": "code",
   "execution_count": null,
   "metadata": {
    "colab": {
     "base_uri": "https://localhost:8080/",
     "height": 1000
    },
    "executionInfo": {
     "elapsed": 3008,
     "status": "ok",
     "timestamp": 1678563141780,
     "user": {
      "displayName": "Zehua Wang",
      "userId": "04708119969912042844"
     },
     "user_tz": 300
    },
    "id": "l6Pl8fTY1jQo",
    "outputId": "ed3b4a4f-2ebc-4438-a332-f283a6c1df73",
    "vscode": {
     "languageId": "r"
    }
   },
   "outputs": [],
   "source": [
    "### YOUR SOLUTION HERE"
   ]
  },
  {
   "cell_type": "markdown",
   "metadata": {
    "deletable": false,
    "editable": false,
    "id": "wK3R5ekO50Lj",
    "run_control": {
     "frozen": true
    }
   },
   "source": [
    "**(b)** Stop words are a set of commonly used words in a language like \"the\", \"of\", \"and\", \"to\", \"a\". The `stop_words` table contains a list of such words. If you ignore all the words in `stop_words`, what are the top 10 words (again ranked by TF-IDF) in each Harry Potter book? (1 point)\n",
    "\n",
    "_Hint_: use `anti_join` to exclude words in `stop_words`."
   ]
  },
  {
   "cell_type": "code",
   "execution_count": 23,
   "metadata": {
    "colab": {
     "base_uri": "https://localhost:8080/",
     "height": 1000
    },
    "executionInfo": {
     "elapsed": 2445,
     "status": "ok",
     "timestamp": 1678562813628,
     "user": {
      "displayName": "Zehua Wang",
      "userId": "04708119969912042844"
     },
     "user_tz": 300
    },
    "id": "_sni-_AHxh0q",
    "outputId": "75c09240-eb63-4fe5-c030-cbaa0fad0ed4",
    "vscode": {
     "languageId": "r"
    }
   },
   "outputs": [],
   "source": [
    "### YOUR SOLUTION HERE"
   ]
  }
 ],
 "metadata": {
  "celltoolbar": "Create Assignment",
  "colab": {
   "provenance": []
  },
  "kernelspec": {
   "display_name": "R",
   "language": "R",
   "name": "ir"
  },
  "language_info": {
   "codemirror_mode": "r",
   "file_extension": ".r",
   "mimetype": "text/x-r-source",
   "name": "R",
   "pygments_lexer": "r",
   "version": "4.2.1"
  }
 },
 "nbformat": 4,
 "nbformat_minor": 1
}
