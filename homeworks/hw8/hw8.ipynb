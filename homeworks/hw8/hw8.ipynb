{
 "cells": [
  {
   "cell_type": "code",
   "execution_count": null,
   "metadata": {
    "deletable": false,
    "editable": false,
    "id": "1SPCENz_KDM-",
    "nbgrader": {
     "grade": false,
     "grade_id": "cell-d1761bfdb43c7ec3",
     "locked": true,
     "schema_version": 3,
     "solution": false
    },
    "vscode": {
     "languageId": "r"
    }
   },
   "outputs": [],
   "source": [
    "library(tidyverse)\n",
    "library(stringr)\n",
    "library(lubridate)\n",
    "options(repr.plot.width=4, repr.plot.height=3)"
   ]
  },
  {
   "cell_type": "markdown",
   "metadata": {
    "deletable": false,
    "editable": false,
    "id": "6RuyPfWaABA8",
    "run_control": {
     "frozen": true
    }
   },
   "source": [
    "## Problem 1: March Madness"
   ]
  },
  {
   "cell_type": "markdown",
   "metadata": {
    "deletable": false,
    "editable": false,
    "id": "IgVzG5SYD_mn",
    "run_control": {
     "frozen": true
    }
   },
   "source": [
    "This month is [March Madness](https://en.wikipedia.org/wiki/NCAA_Division_I_men%27s_basketball_tournament). The following dataset contains March Madness results for the years 1985&mdash;2016:"
   ]
  },
  {
   "cell_type": "code",
   "execution_count": null,
   "metadata": {
    "deletable": false,
    "editable": false,
    "id": "YjW2idCoJWG3"
   },
   "outputs": [],
   "source": [
    "ncaa <- read_csv(\"https://datasets.stats306.org/ncaa.csv.gz\")"
   ]
  },
  {
   "cell_type": "markdown",
   "metadata": {},
   "source": [
    "(Note: this table is missing some data for various years, teams and rounds. For this exercise, assume the data are complete, and do not worry about any missing entries.)"
   ]
  },
  {
   "cell_type": "markdown",
   "metadata": {
    "deletable": false,
    "editable": false,
    "id": "CS_msQBUGUpd",
    "run_control": {
     "frozen": true
    }
   },
   "source": [
    "**1(a)** (2 pts) In 1985, Michigan made it to the Round of 32, before losing to Villanova. In 1989 Michigan won the national championship. Michigan also advanced to the national championship, but did not win, in 1992, 1993, and 2013.\n",
    "\n",
    "Make a plot showing how far Michigan advanced each year. In years where Michigan did not make the tournament at all, your plot should have a missing entry. Use a different color, fill, or marker to indicate years where Michigan won the national championship. \n",
    "\n",
    "Hints: \n",
    "\n",
    "- The same plot for Villanova could look like:\n",
    "\n",
    "![villanova](http://www-personal.umich.edu/~jonth/images/hw8/villanova.png)\n",
    "\n",
    "- To find the furthest, i.e. _maximum_, round reached each year, convert `Round` to an ordered factor, and use `group_by` and `summarize` along with an appropriate summary function."
   ]
  },
  {
   "cell_type": "code",
   "execution_count": null,
   "metadata": {
    "id": "nPHwCBtsEJCB"
   },
   "outputs": [],
   "source": [
    "# YOUR SOLUTION HERE "
   ]
  },
  {
   "cell_type": "markdown",
   "metadata": {
    "id": "qDSJ0vJZ2_dR"
   },
   "source": [
    "**1(b)** (2 points)\n",
    "A [_Cinderella story_](https://www.ncaa.com/news/basketball-men/article/2021-03-01/11-greatest-march-madness-cinderella-stories) is a low-seeded team that goes deep in the NCAA tournament. For example, in 1986, the number 11 seed, Lousiana State, beat the number 6, 3, 2, and 1 seeds in succession, before ultimately losing in the semifinals:\n",
    "\n",
    "```\n",
    "# A tibble: 5 × 6\n",
    "  Date       Round               Winner          `Winning Seed` Loser    Losin…¹\n",
    "  <date>     <chr>               <chr>                    <dbl> <chr>      <dbl>\n",
    "1 1986-03-13 Round of 64         Louisiana State             11 Purdue         6\n",
    "2 1986-03-15 Round of 32         Louisiana State             11 Memphis        3\n",
    "3 1986-03-20 Sweet Sixteen       Louisiana State             11 Georgia…       2\n",
    "4 1986-03-22 Elite Eight         Louisiana State             11 Kentucky       1\n",
    "5 1986-03-29 National Semifinals Louisville                   2 Louisia…      11\n",
    "# … with abbreviated variable name ¹​`Losing Seed`\n",
    "```"
   ]
  },
  {
   "cell_type": "markdown",
   "metadata": {
    "deletable": false,
    "editable": false,
    "run_control": {
     "frozen": true
    }
   },
   "source": [
    "Define a team's \"Cinderella index\" to be the difference in seeding between the winning and losing team for each game that the team _won_. For example, the Cinderella index for the 1986 Louisiana State team shown above is $5 + 8 + 9 + 10 = 32$.\n",
    "\n",
    "Make a plot showing the top ten teams with the highest Cinderella index.\n",
    "\n",
    "Hint: the team with the highest Cinderella index is Lousiana State, 1986. The team with the second-highest is Villanova, 1985. There are actually 12 teams in the top 10 due to some ties."
   ]
  },
  {
   "cell_type": "code",
   "execution_count": null,
   "metadata": {
    "id": "avoHwNlNnqVS"
   },
   "outputs": [],
   "source": [
    "# YOUR SOLUTION HERE "
   ]
  },
  {
   "cell_type": "markdown",
   "metadata": {
    "deletable": false,
    "editable": false,
    "id": "dJDYVm6qGBfc",
    "run_control": {
     "frozen": true
    }
   },
   "source": [
    "## Problem 2\n",
    "The file `tweets.txt.gz` contains tweets from June, 2009. The file is in a special format. The first few lines are:"
   ]
  },
  {
   "cell_type": "code",
   "execution_count": null,
   "metadata": {
    "colab": {
     "base_uri": "https://localhost:8080/"
    },
    "executionInfo": {
     "elapsed": 9,
     "status": "ok",
     "timestamp": 1679115790111,
     "user": {
      "displayName": "Bach Viet Do",
      "userId": "18232627323419064081"
     },
     "user_tz": 240
    },
    "id": "uLMQlmrJGHEh",
    "outputId": "824fa5ac-4b9e-438d-9b59-1f9f0142dc76"
   },
   "outputs": [],
   "source": [
    "#download.file(\"https://github.com/stats306/w23/tree/main/homeworks/hw8/tweets.txt.gz\", \"tweets.txt.gz\")\n",
    "readLines(\"tweets.txt.gz\", n = 11) %>% writeLines"
   ]
  },
  {
   "cell_type": "markdown",
   "metadata": {
    "deletable": false,
    "editable": false,
    "id": "PB2CayssGf7u",
    "run_control": {
     "frozen": true
    }
   },
   "source": [
    "Each datum consists of a triple of lines marked `T`, `U` and `W` containing the time of the tweet, the user, and the message itself, respectively. Each triple is separated by an empty line."
   ]
  },
  {
   "cell_type": "markdown",
   "metadata": {
    "deletable": false,
    "editable": false,
    "id": "fB7AeyDaGoU9",
    "run_control": {
     "frozen": true
    }
   },
   "source": [
    "**2(a) (0.5 point)**\n",
    "Read `tweets.txt.gz` in and store it as an R data frame/tibble called `tweets1`. It should have two character columns and 1.03m rows:\n",
    "```{r}\n",
    "# A tibble: 1,039,879 × 2\n",
    "   X1    X2                                                                     \n",
    "   <chr> <chr>                                                                  \n",
    " 1 T     \"2009-06-11 00:00:03\"                                                  \n",
    " 2 U     \"http://twitter.com/imdb\"                                              \n",
    " 3 W     \"No Post Title\"                                                        \n",
    " 4 T     \"2009-06-11 16:37:14\"                                                  \n",
    " 5 U     \"http://twitter.com/ncruralhealth\"                                     \n",
    " 6 W     \"No Post Title\"                                                        \n",
    " 7 T     \"2009-06-11 16:56:23\"                                                  \n",
    " 8 U     \"http://twitter.com/boydjones\"                                         \n",
    " 9 W     \"listening to \\\"Big Lizard - The Dead Milkmen\\\" ♫ http://blip.fm/~81kw…\n",
    "10 T     \"2009-06-11 16:56:59\"                                                  \n",
    "# … with 1,039,869 more rows\n",
    "```\n",
    "(**Hint**: The `.gz` file extension indicates that this file is compressed to save space. You can load the table using the **usual `tidyverse` table loading commands**, as if it were a regular text file."
   ]
  },
  {
   "cell_type": "code",
   "execution_count": null,
   "metadata": {
    "id": "QJGlIS9cGe-h"
   },
   "outputs": [],
   "source": [
    "# YOUR SOLUTION HERE "
   ]
  },
  {
   "cell_type": "markdown",
   "metadata": {
    "deletable": false,
    "editable": false,
    "id": "WBpEubc3GuwA",
    "run_control": {
     "frozen": true
    }
   },
   "source": [
    "**2(b) (0.5 point)**\n",
    "Next, convert `tweets1` so that it has three columns reflecting the three variables present in this data set. Store the resulting table in a variable called `tweets2`. The first rows of `tweets2` will now look like:\n",
    "```\n",
    "# A tibble: 3 x 3\n",
    "  T                   U                                W                       \n",
    "  <chr>               <chr>                            <chr>                   \n",
    "1 2009-06-11 00:00:03 http://twitter.com/imdb          No Post Title           \n",
    "2 2009-06-11 16:37:14 http://twitter.com/ncruralhealth No Post Title           \n",
    "3 2009-06-11 16:56:23 http://twitter.com/boydjones     \"listening to \\\"Big Liz…\n",
    "```\n",
    "(*Hint*: If you are having trouble getting this working on the full data set, try subsetting the table to a small number of rows in order to debug your code. Most likely you will use a function which requires each tripplet T, U, W to have the same row index.)"
   ]
  },
  {
   "cell_type": "code",
   "execution_count": null,
   "metadata": {
    "id": "gPUCzjPCG1L7"
   },
   "outputs": [],
   "source": [
    "# YOUR SOLUTION HERE "
   ]
  },
  {
   "cell_type": "markdown",
   "metadata": {
    "deletable": false,
    "editable": false,
    "id": "Q3et2QFPG2vh",
    "run_control": {
     "frozen": true
    }
   },
   "source": [
    "**2(c) (0.5 point)**\n",
    "Convert the `T` column to a properly formatted `datetime` object and give it (and the rest of the columns) an appropriate name. Also, strip off the leading `http://twitter.com/` from each user. Store the resulting table as `tweets3`. It will look like:\n",
    "```\n",
    "# A tibble: 346,627 × 3\n",
    "   time                user          tweet                                      \n",
    "   <dttm>              <chr>         <chr>                                      \n",
    " 1 2009-06-11 00:00:03 imdb          \"No Post Title\"                            \n",
    " 2 2009-06-11 16:37:14 ncruralhealth \"No Post Title\"                            \n",
    " 3 2009-06-11 16:56:23 boydjones     \"listening to \\\"Big Lizard - The Dead Milk…\n",
    " 4 2009-06-11 16:56:59 cameron987    \"@beatrizchavez A dork? NO way... you are.…\n",
    " 5 2009-06-11 16:57:03 selenato      \"@okaaaa 本当ね！2週間楽しみがありすぎわ、…\n",
    " 6 2009-06-11 16:57:30 nbeasley10    \"Just got a chance to buy All-Star tickets…\n",
    " 7 2009-06-11 16:57:31 littlewing333 \"@kidhum and if an act has pull and they d…\n",
    " 8 2009-06-11 16:57:33 lolcute       \"mebbe U fetch http://tinyurl.com/nz4fbr\"  \n",
    " 9 2009-06-11 16:57:36 fr0st22       \"I have broken 1,000 twitter updates. Paaa…\n",
    "10 2009-06-11 16:57:59 mavellsyrup   \"Food timmeeee :'D\"                        \n",
    "# … with 346,617 more rows\n",
    "```"
   ]
  },
  {
   "cell_type": "code",
   "execution_count": null,
   "metadata": {
    "id": "sNbaJNtpG_Q4"
   },
   "outputs": [],
   "source": [
    "# YOUR SOLUTION HERE "
   ]
  },
  {
   "cell_type": "markdown",
   "metadata": {
    "id": "ji7X4G-TG794"
   },
   "source": [
    "**2(d) (1 point)**\n",
    "Create a plot that shows the tweet volume for each day of June 2009. For what **day of the month** was there the largest volume of tweets? Can you give an explanation for what caused this spike?\n",
    "\n",
    "*Hint*: Try reading tweets on the day of highest volume around 11:00PM, and/or Google the date."
   ]
  },
  {
   "cell_type": "code",
   "execution_count": null,
   "metadata": {
    "id": "ASqLc1ziHBsG"
   },
   "outputs": [],
   "source": [
    "# YOUR SOLUTION HERE "
   ]
  },
  {
   "cell_type": "markdown",
   "metadata": {
    "id": "ctqC29ScHDIh"
   },
   "source": [
    "**2(e) (1 points)** One of the reason for the spike in 2(d) was related to a public figure in the music industry. On the day of highest volume in 2(d), what is the percentage of tweets that mentioned either **their first or last name**?"
   ]
  },
  {
   "cell_type": "code",
   "execution_count": null,
   "metadata": {
    "id": "ajo4NHNKLrz4"
   },
   "outputs": [],
   "source": [
    "# YOUR SOLUTION HERE "
   ]
  },
  {
   "cell_type": "markdown",
   "metadata": {
    "deletable": false,
    "editable": false,
    "id": "qUtlpiTQHG9j",
    "run_control": {
     "frozen": true
    }
   },
   "source": [
    "# Challenge Problem: Writing a function\n",
    "\n",
    "(2 points) A few weeks ago, the university announced that it was pushing the start of the winter semester [back by one week](https://www.michigandaily.com/news/administration/board-of-regents-approves-extended-winter-break/) to January 10, 2024. Assume that the winter semester will always begin on the second Wednesday in January. Write a function called `winter_start_date(year)` which takes a year and returns the date on which winter classes will commence:\n",
    "\n",
    "    > winter_start_date(2024)\n",
    "    2024-01-10\n",
    "    > winter_start_date(3024)\n",
    "    3024-01-14"
   ]
  },
  {
   "cell_type": "code",
   "execution_count": null,
   "metadata": {
    "id": "8sqaWZqHLn9P"
   },
   "outputs": [],
   "source": [
    "# YOUR SOLUTION HERE "
   ]
  }
 ],
 "metadata": {
  "celltoolbar": "Create Assignment",
  "colab": {
   "provenance": [
    {
     "file_id": "1MqwLhhZ0da3C93R5K5SNDQVsVd4wr7B9",
     "timestamp": 1679093231173
    },
    {
     "file_id": "1C362dpDbnHsXnvJsj9MnyG6CdGfs_P1l",
     "timestamp": 1678744724075
    },
    {
     "file_id": "https://github.com/stats306/w23/blob/main/homeworks/hw7/hw7.ipynb",
     "timestamp": 1678730266611
    }
   ]
  },
  "kernelspec": {
   "display_name": "R",
   "language": "R",
   "name": "ir"
  },
  "language_info": {
   "codemirror_mode": "r",
   "file_extension": ".r",
   "mimetype": "text/x-r-source",
   "name": "R",
   "pygments_lexer": "r",
   "version": "4.2.1"
  }
 },
 "nbformat": 4,
 "nbformat_minor": 1
}
