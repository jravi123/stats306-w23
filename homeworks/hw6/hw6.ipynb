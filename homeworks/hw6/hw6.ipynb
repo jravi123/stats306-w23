{
 "cells": [
  {
   "cell_type": "code",
   "execution_count": null,
   "metadata": {
    "colab": {
     "base_uri": "https://localhost:8080/"
    },
    "id": "B-U07Ub1Wejm",
    "nbgrader": {
     "grade": false,
     "grade_id": "cell-1be04a157d86c84b",
     "locked": true,
     "schema_version": 3,
     "solution": false
    },
    "outputId": "1eea5c4c-13a1-43fe-e207-95e768aa68a2"
   },
   "outputs": [
    {
     "name": "stderr",
     "output_type": "stream",
     "text": [
      "Warning message in system(\"timedatectl\", intern = TRUE):\n",
      "“running command 'timedatectl' had status 1”\n",
      "── \u001b[1mAttaching packages\u001b[22m ─────────────────────────────────────── tidyverse 1.3.1 ──\n",
      "\n",
      "\u001b[32m✔\u001b[39m \u001b[34mggplot2\u001b[39m 3.4.0      \u001b[32m✔\u001b[39m \u001b[34mpurrr  \u001b[39m 1.0.1 \n",
      "\u001b[32m✔\u001b[39m \u001b[34mtibble \u001b[39m 3.1.8      \u001b[32m✔\u001b[39m \u001b[34mdplyr  \u001b[39m 1.0.10\n",
      "\u001b[32m✔\u001b[39m \u001b[34mtidyr  \u001b[39m 1.2.1      \u001b[32m✔\u001b[39m \u001b[34mstringr\u001b[39m 1.4.1 \n",
      "\u001b[32m✔\u001b[39m \u001b[34mreadr  \u001b[39m 2.1.3      \u001b[32m✔\u001b[39m \u001b[34mforcats\u001b[39m 0.5.2 \n",
      "\n",
      "── \u001b[1mConflicts\u001b[22m ────────────────────────────────────────── tidyverse_conflicts() ──\n",
      "\u001b[31m✖\u001b[39m \u001b[34mdplyr\u001b[39m::\u001b[32mfilter()\u001b[39m masks \u001b[34mstats\u001b[39m::filter()\n",
      "\u001b[31m✖\u001b[39m \u001b[34mdplyr\u001b[39m::\u001b[32mlag()\u001b[39m    masks \u001b[34mstats\u001b[39m::lag()\n",
      "\n"
     ]
    }
   ],
   "source": [
    "library(tidyverse)\n",
    "options(repr.plot.width=5, repr.plot.height=4)"
   ]
  },
  {
   "cell_type": "markdown",
   "metadata": {
    "id": "VFPX3STQWejq",
    "nbgrader": {
     "grade": false,
     "grade_id": "cell-281caadd66986182",
     "locked": true,
     "schema_version": 3,
     "solution": false
    }
   },
   "source": [
    "# STATS 306\n",
    "## Homework 6: Importing data\n",
    "\n",
    "For each problem, enter the R code in the cell marked \"YOUR SOLUTION HERE\"."
   ]
  },
  {
   "cell_type": "markdown",
   "metadata": {
    "id": "WkwFQ7vlWejr",
    "nbgrader": {
     "grade": false,
     "grade_id": "cell-421557d86106e43b",
     "locked": true,
     "schema_version": 3,
     "solution": false
    }
   },
   "source": [
    "## Problem 1: Scraping Wikipedia\n",
    "Use Wikipedia and the `rvest` package to answer the following the questions:"
   ]
  },
  {
   "cell_type": "code",
   "execution_count": 4,
   "metadata": {},
   "outputs": [],
   "source": [
    "library(rvest)"
   ]
  },
  {
   "cell_type": "markdown",
   "metadata": {},
   "source": [
    "**(a)** What is the distribution of the age of U.S. presidents when they first took office? Produce an appropriate visualization. \n",
    "\n",
    "(Note: in cases where you only know the year of birth, assume the president was born on Jan 1 of that year. If a president took office more than once, use the earliest date.)"
   ]
  },
  {
   "cell_type": "markdown",
   "metadata": {},
   "source": [
    "**(b)** Make a map showing the locations of the ten largest soccer stadiums in the world. \n",
    "\n",
    "Note: the following code will load a database of the locations large cities:"
   ]
  },
  {
   "cell_type": "code",
   "execution_count": 11,
   "metadata": {},
   "outputs": [
    {
     "data": {
      "text/html": [
       "<table class=\"dataframe\">\n",
       "<caption>A data.frame: 6 × 6</caption>\n",
       "<thead>\n",
       "\t<tr><th></th><th scope=col>name</th><th scope=col>country.etc</th><th scope=col>pop</th><th scope=col>lat</th><th scope=col>long</th><th scope=col>capital</th></tr>\n",
       "\t<tr><th></th><th scope=col>&lt;chr&gt;</th><th scope=col>&lt;chr&gt;</th><th scope=col>&lt;int&gt;</th><th scope=col>&lt;dbl&gt;</th><th scope=col>&lt;dbl&gt;</th><th scope=col>&lt;int&gt;</th></tr>\n",
       "</thead>\n",
       "<tbody>\n",
       "\t<tr><th scope=row>1</th><td>'Abasan al-Jadidah</td><td>Palestine</td><td> 5629</td><td>31.31</td><td>34.34</td><td>0</td></tr>\n",
       "\t<tr><th scope=row>2</th><td>'Abasan al-Kabirah</td><td>Palestine</td><td>18999</td><td>31.32</td><td>34.35</td><td>0</td></tr>\n",
       "\t<tr><th scope=row>3</th><td>'Abdul Hakim      </td><td>Pakistan </td><td>47788</td><td>30.55</td><td>72.11</td><td>0</td></tr>\n",
       "\t<tr><th scope=row>4</th><td>'Abdullah-as-Salam</td><td>Kuwait   </td><td>21817</td><td>29.36</td><td>47.98</td><td>0</td></tr>\n",
       "\t<tr><th scope=row>5</th><td>'Abud             </td><td>Palestine</td><td> 2456</td><td>32.03</td><td>35.07</td><td>0</td></tr>\n",
       "\t<tr><th scope=row>6</th><td>'Abwein           </td><td>Palestine</td><td> 3434</td><td>32.03</td><td>35.20</td><td>0</td></tr>\n",
       "</tbody>\n",
       "</table>\n"
      ],
      "text/latex": [
       "A data.frame: 6 × 6\n",
       "\\begin{tabular}{r|llllll}\n",
       "  & name & country.etc & pop & lat & long & capital\\\\\n",
       "  & <chr> & <chr> & <int> & <dbl> & <dbl> & <int>\\\\\n",
       "\\hline\n",
       "\t1 & 'Abasan al-Jadidah & Palestine &  5629 & 31.31 & 34.34 & 0\\\\\n",
       "\t2 & 'Abasan al-Kabirah & Palestine & 18999 & 31.32 & 34.35 & 0\\\\\n",
       "\t3 & 'Abdul Hakim       & Pakistan  & 47788 & 30.55 & 72.11 & 0\\\\\n",
       "\t4 & 'Abdullah-as-Salam & Kuwait    & 21817 & 29.36 & 47.98 & 0\\\\\n",
       "\t5 & 'Abud              & Palestine &  2456 & 32.03 & 35.07 & 0\\\\\n",
       "\t6 & 'Abwein            & Palestine &  3434 & 32.03 & 35.20 & 0\\\\\n",
       "\\end{tabular}\n"
      ],
      "text/markdown": [
       "\n",
       "A data.frame: 6 × 6\n",
       "\n",
       "| <!--/--> | name &lt;chr&gt; | country.etc &lt;chr&gt; | pop &lt;int&gt; | lat &lt;dbl&gt; | long &lt;dbl&gt; | capital &lt;int&gt; |\n",
       "|---|---|---|---|---|---|---|\n",
       "| 1 | 'Abasan al-Jadidah | Palestine |  5629 | 31.31 | 34.34 | 0 |\n",
       "| 2 | 'Abasan al-Kabirah | Palestine | 18999 | 31.32 | 34.35 | 0 |\n",
       "| 3 | 'Abdul Hakim       | Pakistan  | 47788 | 30.55 | 72.11 | 0 |\n",
       "| 4 | 'Abdullah-as-Salam | Kuwait    | 21817 | 29.36 | 47.98 | 0 |\n",
       "| 5 | 'Abud              | Palestine |  2456 | 32.03 | 35.07 | 0 |\n",
       "| 6 | 'Abwein            | Palestine |  3434 | 32.03 | 35.20 | 0 |\n",
       "\n"
      ],
      "text/plain": [
       "  name               country.etc pop   lat   long  capital\n",
       "1 'Abasan al-Jadidah Palestine    5629 31.31 34.34 0      \n",
       "2 'Abasan al-Kabirah Palestine   18999 31.32 34.35 0      \n",
       "3 'Abdul Hakim       Pakistan    47788 30.55 72.11 0      \n",
       "4 'Abdullah-as-Salam Kuwait      21817 29.36 47.98 0      \n",
       "5 'Abud              Palestine    2456 32.03 35.07 0      \n",
       "6 'Abwein            Palestine    3434 32.03 35.20 0      "
      ]
     },
     "metadata": {},
     "output_type": "display_data"
    }
   ],
   "source": [
    "library(maps)\n",
    "data(world.cities)\n",
    "head(world.cities)"
   ]
  },
  {
   "cell_type": "markdown",
   "metadata": {},
   "source": [
    "**(c)** Make a plot that compares the total number of TV viewers over time for a) the Super Bowl, b) the World Series, and c) the NBA Finals. (Use the average number of viewers per game for baseball and basketball.)"
   ]
  },
  {
   "cell_type": "markdown",
   "metadata": {},
   "source": [
    "**(d)** Make a visualization of the 50 highest-grossing films of all time, how much money they made, and what year they were released. (There are multiple ways to accomplish this; you may have to experiment a bit.)"
   ]
  },
  {
   "cell_type": "markdown",
   "metadata": {},
   "source": [
    "## IMDB 250\n",
    "The following CSV file contains data on the [top 250 rated movies on IMDB](https://www.imdb.com/chart/top):"
   ]
  },
  {
   "cell_type": "code",
   "execution_count": 37,
   "metadata": {},
   "outputs": [
    {
     "data": {
      "text/html": [
       "<table class=\"dataframe\">\n",
       "<caption>A spec_tbl_df: 250 × 7</caption>\n",
       "<thead>\n",
       "\t<tr><th scope=col>rank</th><th scope=col>movie_name</th><th scope=col>movie_year</th><th scope=col>genre</th><th scope=col>director_name</th><th scope=col>rating</th><th scope=col>actors_list</th></tr>\n",
       "\t<tr><th scope=col>&lt;dbl&gt;</th><th scope=col>&lt;chr&gt;</th><th scope=col>&lt;dbl&gt;</th><th scope=col>&lt;chr&gt;</th><th scope=col>&lt;chr&gt;</th><th scope=col>&lt;dbl&gt;</th><th scope=col>&lt;chr&gt;</th></tr>\n",
       "</thead>\n",
       "<tbody>\n",
       "\t<tr><td>129</td><td>The Kid                          </td><td>1921</td><td>[\"Comedy\",\"Drama\",\"Family\"]       </td><td>Charles Chaplin     </td><td>8.3</td><td>[\"Charles Chaplin\",\"Edna Purviance\",\"Jackie Coogan\",\"Carl Miller\",\"Albert Austin\",\"Beulah Bains\",\"Nellie Bly Baker\",\"Henry Bergman\",\"Edward Biby\",\"B.F. Blinn\",\"Kitty Bradbury\",\"Frank Campeau\",\"Bliss Chevalier\",\"Frances Cochran\",\"Elsie Codd\",\"Jack Coogan Sr.\",\"Estelle Cook\",\"Lillian Crane\"]                                </td></tr>\n",
       "\t<tr><td>194</td><td>Sherlock Jr.                     </td><td>1924</td><td>[\"Action\",\"Comedy\",\"Romance\"]     </td><td>Buster Keaton       </td><td>8.2</td><td>[\"Buster Keaton\",\"Kathryn McGuire\",\"Joe Keaton\",\"Erwin Connelly\",\"Ward Crane\",\"Jane Connelly\",\"George Davis\",\"Doris Deane\",\"Christine Francis\",\"Betsy Ann Hisle\",\"Kewpie Morgan\",\"Steve Murphy\",\"John Patrick\",\"Ford West\"]                                                                                                       </td></tr>\n",
       "\t<tr><td>175</td><td>The Gold Rush                    </td><td>1925</td><td>[\"Adventure\",\"Comedy\",\"Drama\"]    </td><td>Charles Chaplin     </td><td>8.2</td><td>[\"Charles Chaplin\",\"Mack Swain\",\"Tom Murray\",\"Henry Bergman\",\"Malcolm Waite\",\"Georgia Hale\",\"Jack Adams\",\"Frank Aderias\",\"Leona Aderias\",\"Lillian Adrian\",\"Sam Allen\",\"Claude Anderson\",\"Harry Arras\",\"Albert Austin\",\"Marta Belfort\",\"William Bell\",\"Francis Bernhardt\",\"F.J. Beuaregard\"]                                       </td></tr>\n",
       "\t<tr><td>182</td><td>The General                      </td><td>1926</td><td>[\"Action\",\"Adventure\",\"Comedy\"]   </td><td>Clyde Bruckman      </td><td>8.2</td><td>[\"Buster Keaton\",\"Marion Mack\",\"Glen Cavender\",\"Jim Farley\",\"Frederick Vroom\",\"Frank Barnes\",\"Charles Henry Smith\",\"Joe Keaton\",\"Mike Donlin\",\"Tom Nawn\",\"Henry Baird\",\"Joe Bricher\",\"Jimmy Bryant\",\"Sergeant Bukowski\",\"C.C. Cruson\",\"Jack Dempster\",\"Keith Fennell\",\"Budd Fine\"]                                                </td></tr>\n",
       "\t<tr><td>114</td><td>Metropolis                       </td><td>1927</td><td>[\"Drama\",\"Sci-Fi\"]                </td><td>Fritz Lang          </td><td>8.3</td><td>[\"Brigitte Helm\",\"Alfred Abel\",\"Gustav Fröhlich\",\"Rudolf Klein-Rogge\",\"Fritz Rasp\",\"Theodor Loos\",\"Erwin Biswanger\",\"Heinrich George\",\"Fritz Alberti\",\"Grete Berger\",\"Olly Boeheim\",\"Max Dietze\",\"Ellen Frey\",\"Beatrice Garga\",\"Heinrich Gotho\",\"Dolly Grey\",\"Anny Hintze\",\"Gottfried Huppertz\"]                                  </td></tr>\n",
       "\t<tr><td>207</td><td>La passion de Jeanne d'Arc       </td><td>1928</td><td>[\"Biography\",\"Drama\",\"History\"]   </td><td>Carl Theodor Dreyer </td><td>8.2</td><td>[\"Maria Falconetti\",\"Eugene Silvain\",\"André Berley\",\"Maurice Schutz\",\"Antonin Artaud\",\"Michel Simon\",\"Jean d'Yd\",\"Louis Ravet\",\"Armand Lurville\",\"Jacques Arnna\",\"Alexandre Mihalesco\",\"Léon Larive\",\"Jean Aymé\",\"Gilbert Dacheux\",\"Gilbert Dalleu\",\"Paul Delauzac\",\"Dimitri Dimitriev\",\"Fournez-Goffard\"]                        </td></tr>\n",
       "\t<tr><td> 52</td><td>City Lights                      </td><td>1931</td><td>[\"Comedy\",\"Drama\",\"Romance\"]      </td><td>Charles Chaplin     </td><td>8.5</td><td>[\"Charles Chaplin\",\"Virginia Cherrill\",\"Florence Lee\",\"Harry Myers\",\"Al Ernest Garcia\",\"Hank Mann\",\"Johnny Aber\",\"Jack Alexander\",\"T.S. Alexander\",\"Victor Alexander\",\"Albert Austin\",\"Harry Ayers\",\"Eddie Baker\",\"Henry Bergman\",\"Edward Biby\",\"Betty Blair\",\"Buster Brodie\",\"Jeanne Carpenter\"]                                 </td></tr>\n",
       "\t<tr><td> 97</td><td>M - Eine Stadt sucht einen Mörder</td><td>1931</td><td>[\"Crime\",\"Mystery\",\"Thriller\"]    </td><td>Fritz Lang          </td><td>8.3</td><td>[\"Peter Lorre\",\"Ellen Widmann\",\"Inge Landgut\",\"Otto Wernicke\",\"Theodor Loos\",\"Gustaf Gründgens\",\"Friedrich Gnaß\",\"Fritz Odemar\",\"Paul Kemp\",\"Theo Lingen\",\"Rudolf Blümner\",\"Georg John\",\"Franz Stein\",\"Ernst Stahl-Nachbaur\",\"Gerhard Bienert\",\"Karl Platen\",\"Rosa Valetti\",\"Hertha von Walther\"]                                 </td></tr>\n",
       "\t<tr><td>241</td><td>It Happened One Night            </td><td>1934</td><td>[\"Comedy\",\"Romance\"]              </td><td>Frank Capra         </td><td>8.1</td><td>[\"Clark Gable\",\"Claudette Colbert\",\"Walter Connolly\",\"Roscoe Karns\",\"Jameson Thomas\",\"Alan Hale\",\"Arthur Hoyt\",\"Blanche Friderici\",\"Charles C. Wilson\",\"Ernie Adams\",\"Jessie Arnold\",\"Irving Bacon\",\"William Bailey\",\"William Begg\",\"William A. Boardway\",\"Ward Bond\",\"Harry C. Bradley\",\"George P. Breakston\"]                   </td></tr>\n",
       "\t<tr><td> 46</td><td>Modern Times                     </td><td>1936</td><td>[\"Comedy\",\"Drama\",\"Romance\"]      </td><td>Charles Chaplin     </td><td>8.5</td><td>[\"Charles Chaplin\",\"Paulette Goddard\",\"Henry Bergman\",\"Tiny Sandford\",\"Chester Conklin\",\"Hank Mann\",\"Stanley Blystone\",\"Al Ernest Garcia\",\"Richard Alexander\",\"Cecil Reynolds\",\"Mira McKinney\",\"Murdock MacQuarrie\",\"Wilfred Lucas\",\"Edward LeSaint\",\"Fred Malatesta\",\"Sammy Stein\",\"Juana Sutton\",\"Ted Oliver\"]                  </td></tr>\n",
       "\t<tr><td>158</td><td>Gone with the Wind               </td><td>1939</td><td>[\"Drama\",\"Romance\",\"War\"]         </td><td>Victor Fleming      </td><td>8.2</td><td>[\"Clark Gable\",\"Vivien Leigh\",\"Thomas Mitchell\",\"Barbara O'Neil\",\"Evelyn Keyes\",\"Ann Rutherford\",\"George Reeves\",\"Fred Crane\",\"Hattie McDaniel\",\"Oscar Polk\",\"Butterfly McQueen\",\"Victor Jory\",\"Everett Brown\",\"Howard Hickman\",\"Alicia Rhett\",\"Leslie Howard\",\"Olivia de Havilland\",\"Rand Brooks\"]                               </td></tr>\n",
       "\t<tr><td>191</td><td>Mr. Smith Goes to Washington     </td><td>1939</td><td>[\"Comedy\",\"Drama\"]                </td><td>Frank Capra         </td><td>8.1</td><td>[\"James Stewart\",\"Jean Arthur\",\"Claude Rains\",\"Edward Arnold\",\"Guy Kibbee\",\"Thomas Mitchell\",\"Eugene Pallette\",\"Beulah Bondi\",\"H.B. Warner\",\"Harry Carey\",\"Astrid Allwyn\",\"Ruth Donnelly\",\"Grant Mitchell\",\"Porter Hall\",\"H.V. Kaltenborn\",\"Charles Lane\",\"Pierre Watkin\",\"Dick Elliott\"]                                         </td></tr>\n",
       "\t<tr><td>222</td><td>The Wizard of Oz                 </td><td>1939</td><td>[\"Adventure\",\"Family\",\"Fantasy\"]  </td><td>Victor Fleming      </td><td>8.1</td><td>[\"Judy Garland\",\"Frank Morgan\",\"Ray Bolger\",\"Bert Lahr\",\"Jack Haley\",\"Billie Burke\",\"Margaret Hamilton\",\"Charley Grapewin\",\"Pat Walshe\",\"Clara Blandick\",\"Terry\",\"The Singer Midgets\",\"Franz Balluck\",\"Josefine Balluck\",\"Dorothy Barrett\",\"Amelia Batchelor\",\"Charles Becker\",\"Freda Betsky\"]                                    </td></tr>\n",
       "\t<tr><td> 63</td><td>The Great Dictator               </td><td>1940</td><td>[\"Comedy\",\"Drama\",\"War\"]          </td><td>Charles Chaplin     </td><td>8.4</td><td>[\"Charles Chaplin\",\"Paulette Goddard\",\"Jack Oakie\",\"Reginald Gardiner\",\"Henry Daniell\",\"Billy Gilbert\",\"Grace Hayle\",\"Carter DeHaven\",\"Maurice Moscovitch\",\"Emma Dunn\",\"Bernard Gorcey\",\"Paul Weigel\",\"Chester Conklin\",\"Esther Michelson\",\"Hank Mann\",\"Florence Wright\",\"Eddie Gribbon\",\"Rudolph Anders\"]                        </td></tr>\n",
       "\t<tr><td>230</td><td>The Grapes of Wrath              </td><td>1940</td><td>[\"Drama\"]                         </td><td>John Ford           </td><td>8.1</td><td>[\"Henry Fonda\",\"Jane Darwell\",\"John Carradine\",\"Charley Grapewin\",\"Dorris Bowdon\",\"Russell Simpson\",\"O.Z. Whitehead\",\"John Qualen\",\"Eddie Quillan\",\"Zeffie Tilbury\",\"Frank Sully\",\"Frank Darien\",\"Darryl Hickman\",\"Shirley Mills\",\"Roger Imhof\",\"Grant Mitchell\",\"Charles D. Brown\",\"John Arledge\"]                               </td></tr>\n",
       "\t<tr><td>231</td><td>Rebecca                          </td><td>1940</td><td>[\"Drama\",\"Film-Noir\",\"Mystery\"]   </td><td>Alfred Hitchcock    </td><td>8.1</td><td>[\"Laurence Olivier\",\"Joan Fontaine\",\"George Sanders\",\"Judith Anderson\",\"Nigel Bruce\",\"Reginald Denny\",\"C. Aubrey Smith\",\"Gladys Cooper\",\"Florence Bates\",\"Melville Cooper\",\"Leo G. Carroll\",\"Leonard Carey\",\"Lumsden Hare\",\"Edward Fielding\",\"Philip Winter\",\"Forrester Harvey\",\"Bunny Beatty\",\"Billy Bevan\"]                     </td></tr>\n",
       "\t<tr><td> 94</td><td>Citizen Kane                     </td><td>1941</td><td>[\"Drama\",\"Mystery\"]               </td><td>Orson Welles        </td><td>8.3</td><td>[\"Orson Welles\",\"Joseph Cotten\",\"Dorothy Comingore\",\"Agnes Moorehead\",\"Ruth Warrick\",\"Ray Collins\",\"Erskine Sanford\",\"Everett Sloane\",\"William Alland\",\"Paul Stewart\",\"George Coulouris\",\"Fortunio Bonanova\",\"Gus Schilling\",\"Philip Van Zandt\",\"Georgia Backus\",\"Harry Shannon\",\"Sonny Bupp\",\"Buddy Swan\"]                       </td></tr>\n",
       "\t<tr><td> 42</td><td>Casablanca                       </td><td>1942</td><td>[\"Drama\",\"Romance\",\"War\"]         </td><td>Michael Curtiz      </td><td>8.5</td><td>[\"Humphrey Bogart\",\"Ingrid Bergman\",\"Paul Henreid\",\"Claude Rains\",\"Conrad Veidt\",\"Sydney Greenstreet\",\"Peter Lorre\",\"S.Z. Sakall\",\"Madeleine Lebeau\",\"Dooley Wilson\",\"Joy Page\",\"John Qualen\",\"Leonid Kinskey\",\"Curt Bois\",\"Abdullah Abbas\",\"Enrique Acosta\",\"Ed Agresti\",\"Arnet Amos\"]                                           </td></tr>\n",
       "\t<tr><td>229</td><td>To Be or Not to Be               </td><td>1942</td><td>[\"Comedy\",\"Romance\",\"War\"]        </td><td>Ernst Lubitsch      </td><td>8.2</td><td>[\"Carole Lombard\",\"Jack Benny\",\"Robert Stack\",\"Felix Bressart\",\"Lionel Atwill\",\"Stanley Ridges\",\"Sig Ruman\",\"Tom Dugan\",\"Charles Halton\",\"George Lynn\",\"Henry Victor\",\"Maude Eburne\",\"Halliwell Hobbes\",\"Miles Mander\",\"Rudolph Anders\",\"Paul Barrett\",\"Sven Hugo Borg\",\"Danny Borzage\"]                                          </td></tr>\n",
       "\t<tr><td>104</td><td>Double Indemnity                 </td><td>1944</td><td>[\"Crime\",\"Drama\",\"Film-Noir\"]     </td><td>Billy Wilder        </td><td>8.3</td><td>[\"Fred MacMurray\",\"Barbara Stanwyck\",\"Edward G. Robinson\",\"Byron Barr\",\"Porter Hall\",\"Jean Heather\",\"Tom Powers\",\"Richard Gaines\",\"Fortunio Bonanova\",\"John Philliber\",\"Lev Abramov\",\"James Adamson\",\"John Berry\",\"Raymond Chandler\",\"Edmund Cobb\",\"Kernan Cripps\",\"Betty Farrington\",\"Bess Flowers\"]                             </td></tr>\n",
       "\t<tr><td> 21</td><td>It's a Wonderful Life            </td><td>1946</td><td>[\"Drama\",\"Family\",\"Fantasy\"]      </td><td>Frank Capra         </td><td>8.6</td><td>[\"James Stewart\",\"Donna Reed\",\"Lionel Barrymore\",\"Thomas Mitchell\",\"Henry Travers\",\"Beulah Bondi\",\"Frank Faylen\",\"Ward Bond\",\"Gloria Grahame\",\"H.B. Warner\",\"Frank Albertson\",\"Todd Karns\",\"Samuel S. Hinds\",\"Mary Treen\",\"Virginia Patton\",\"Charles Williams\",\"Sarah Edwards\",\"William Edmunds\"]                                 </td></tr>\n",
       "\t<tr><td>227</td><td>The Best Years of Our Lives      </td><td>1946</td><td>[\"Drama\",\"Romance\",\"War\"]         </td><td>William Wyler       </td><td>8.1</td><td>[\"Myrna Loy\",\"Dana Andrews\",\"Fredric March\",\"Teresa Wright\",\"Virginia Mayo\",\"Cathy O'Donnell\",\"Hoagy Carmichael\",\"Harold Russell\",\"Gladys George\",\"Roman Bohnen\",\"Ray Collins\",\"Minna Gombell\",\"Walter Baldwin\",\"Steve Cochran\",\"Dorothy Adams\",\"Don Beddoe\",\"Marlene Aames\",\"Charles Halton\"]                                    </td></tr>\n",
       "\t<tr><td>121</td><td>Ladri Di Biciclette              </td><td>1948</td><td>[\"Drama\"]                         </td><td>Vittorio De Sica    </td><td>8.3</td><td>[\"Lamberto Maggiorani\",\"Enzo Staiola\",\"Lianella Carell\",\"Elena Altieri\",\"Gino Saltamerenda\",\"Giulio Chiari\",\"Vittorio Antonucci\",\"Michele Sakara\",\"Fausto Guerzoni\",\"Emma Druetti\",\"Carlo Jachino\",\"Giulio Battiferri\",\"Ida Bracci Dorati\",\"Nando Bruno\",\"Eolo Capritti\",\"Memmo Carotenuto\",\"Giovanni Corporale\",\"Veriano Ginesi\"]</td></tr>\n",
       "\t<tr><td>146</td><td>The Treasure of the Sierra Madre </td><td>1948</td><td>[\"Adventure\",\"Drama\",\"Western\"]   </td><td>John Huston         </td><td>8.2</td><td>[\"Humphrey Bogart\",\"Walter Huston\",\"Tim Holt\",\"Bruce Bennett\",\"Barton MacLane\",\"Alfonso Bedoya\",\"Arturo Soto Rangel\",\"Manuel Dondé\",\"José Torvay\",\"Margarito Luna\",\"Robert Blake\",\"Guillermo Calles\",\"Roberto Cañedo\",\"Spencer Chan\",\"Jacqueline Dalya\",\"Ralph Dunn\",\"Ernesto Escoto\",\"Pat Flaherty\"]                             </td></tr>\n",
       "\t<tr><td>179</td><td>The Third Man                    </td><td>1949</td><td>[\"Film-Noir\",\"Mystery\",\"Thriller\"]</td><td>Carol Reed          </td><td>8.1</td><td>[\"Orson Welles\",\"Joseph Cotten\",\"Alida Valli\",\"Trevor Howard\",\"Paul Hörbiger\",\"Ernst Deutsch\",\"Erich Ponto\",\"Siegfried Breuer\",\"Hedwig Bleibtreu\",\"Bernard Lee\",\"Wilfrid Hyde-White\",\"Nelly Arno\",\"Jack Arrow\",\"Harold Ayer\",\"Harry Belcher\",\"Leo Bieber\",\"Paul Birch\",\"Martin Boddey\"]                                           </td></tr>\n",
       "\t<tr><td> 60</td><td>Sunset Blvd.                     </td><td>1950</td><td>[\"Drama\",\"Film-Noir\"]             </td><td>Billy Wilder        </td><td>8.4</td><td>[\"William Holden\",\"Gloria Swanson\",\"Erich von Stroheim\",\"Nancy Olson\",\"Fred Clark\",\"Lloyd Gough\",\"Jack Webb\",\"Franklyn Farnum\",\"Larry J. Blake\",\"Charles Dayton\",\"Cecil B. DeMille\",\"Hedda Hopper\",\"Buster Keaton\",\"Anna Q. Nilsson\",\"H.B. Warner\",\"Ray Evans\",\"Jay Livingston\",\"Fred Aldrich\"]                                   </td></tr>\n",
       "\t<tr><td>131</td><td>All About Eve                    </td><td>1950</td><td>[\"Drama\"]                         </td><td>Joseph L. Mankiewicz</td><td>8.2</td><td>[\"Bette Davis\",\"Anne Baxter\",\"George Sanders\",\"Celeste Holm\",\"Gary Merrill\",\"Hugh Marlowe\",\"Gregory Ratoff\",\"Barbara Bates\",\"Marilyn Monroe\",\"Thelma Ritter\",\"Walter Hampden\",\"Randy Stuart\",\"Craig Hill\",\"Leland Harris\",\"Barbara White\",\"Eddie Fisher\",\"William Pullen\",\"Claude Stroud\"]                                        </td></tr>\n",
       "\t<tr><td>148</td><td>Rashōmon                         </td><td>1950</td><td>[\"Crime\",\"Drama\",\"Mystery\"]       </td><td>Akira Kurosawa      </td><td>8.2</td><td>[\"Toshirô Mifune\",\"Machiko Kyô\",\"Masayuki Mori\",\"Takashi Shimura\",\"Minoru Chiaki\",\"Kichijirô Ueda\",\"Noriko Honma\",\"Daisuke Katô\"]                                                                                                                                                                                                 </td></tr>\n",
       "\t<tr><td> 86</td><td>Singin' in the Rain              </td><td>1952</td><td>[\"Comedy\",\"Musical\",\"Romance\"]    </td><td>Stanley Donen       </td><td>8.3</td><td>[\"Gene Kelly\",\"Donald O'Connor\",\"Debbie Reynolds\",\"Jean Hagen\",\"Millard Mitchell\",\"Cyd Charisse\",\"Douglas Fowley\",\"Rita Moreno\",\"Dawn Addams\",\"John Albright\",\"Betty Allen\",\"Sue Allen\",\"John Angelo\",\"Marie Ardell\",\"Bette Arlen\",\"David Bair\",\"Jimmy Bates\",\"Mary Bayless\"]                                                     </td></tr>\n",
       "\t<tr><td>107</td><td>Ikiru                            </td><td>1952</td><td>[\"Drama\"]                         </td><td>Akira Kurosawa      </td><td>8.3</td><td>[\"Takashi Shimura\",\"Nobuo Kaneko\",\"Shin'ichi Himori\",\"Haruo Tanaka\",\"Minoru Chiaki\",\"Miki Odagiri\",\"Bokuzen Hidari\",\"Minosuke Yamada\",\"Kamatari Fujiwara\",\"Makoto Kobori\",\"Nobuo Nakamura\",\"Atsushi Watanabe\",\"Isao Kimura\",\"Masao Shimizu\",\"Yûnosuke Itô\",\"Kumeko Urabe\",\"Eiko Miyoshi\",\"Noriko Honma\"]                          </td></tr>\n",
       "\t<tr><td>⋮</td><td>⋮</td><td>⋮</td><td>⋮</td><td>⋮</td><td>⋮</td><td>⋮</td></tr>\n",
       "\t<tr><td>186</td><td>Gone Girl                                </td><td>2014</td><td>[\"Drama\",\"Mystery\",\"Thriller\"]    </td><td>David Fincher   </td><td>8.1</td><td>[\"Ben Affleck\",\"Rosamund Pike\",\"Neil Patrick Harris\",\"Tyler Perry\",\"Carrie Coon\",\"Kim Dickens\",\"Patrick Fugit\",\"David Clennon\",\"Lisa Banes\",\"Missi Pyle\",\"Emily Ratajkowski\",\"Casey Wilson\",\"Lola Kirke\",\"Boyd Holbrook\",\"Sela Ward\",\"Lee Norris\",\"Jamie McShane\",\"Leonard Kelly-Young\"]                                                               </td></tr>\n",
       "\t<tr><td>190</td><td>The Grand Budapest Hotel                 </td><td>2014</td><td>[\"Adventure\",\"Comedy\",\"Crime\"]    </td><td>Wes Anderson    </td><td>8.1</td><td>[\"Ralph Fiennes\",\"F. Murray Abraham\",\"Mathieu Amalric\",\"Adrien Brody\",\"Willem Dafoe\",\"Jeff Goldblum\",\"Harvey Keitel\",\"Jude Law\",\"Bill Murray\",\"Edward Norton\",\"Saoirse Ronan\",\"Jason Schwartzman\",\"Léa Seydoux\",\"Tilda Swinton\",\"Tom Wilkinson\",\"Owen Wilson\",\"Tony Revolori\",\"Larry Pine\"]                                                            </td></tr>\n",
       "\t<tr><td>200</td><td>Relatos Salvajes                         </td><td>2014</td><td>[\"Comedy\",\"Drama\",\"Thriller\"]     </td><td>Damián Szifron  </td><td>8.1</td><td>[\"Darío Grandinetti\",\"María Marull\",\"Mónica Villa\",\"Diego Starosta\",\"Marcelo Frasca\",\"Lucila Mangone\",\"María Laura Caccamo\",\"Carlos Alberto Vavassori\",\"Pablo Machado\",\"Horacio Vay\",\"Javier Pedersoli\",\"Héctor Drachtman\",\"María Rosa López Ottonello\",\"Rita Cortese\",\"Julieta Zylberberg\",\"César Bordón\",\"Juan Santiago Linari\",\"Leonardo Sbaraglia\"]</td></tr>\n",
       "\t<tr><td>161</td><td>Inside Out                               </td><td>2015</td><td>[\"Animation\",\"Adventure\",\"Comedy\"]</td><td>Pete Docter     </td><td>8.2</td><td>[\"Amy Poehler\",\"Bill Hader\",\"Lewis Black\",\"Mindy Kaling\",\"Phyllis Smith\",\"Richard Kind\",\"Kaitlyn Dias\",\"Diane Lane\",\"Kyle MacLachlan\",\"Paula Poundstone\",\"Bobby Moynihan\",\"Paula Pell\",\"Dave Goelz\",\"Frank Oz\",\"Josh Cooley\",\"Flea\",\"John Ratzenberger\",\"Carlos Alazraqui\"]                                                                            </td></tr>\n",
       "\t<tr><td>199</td><td>Room                                     </td><td>2015</td><td>[\"Drama\",\"Thriller\"]              </td><td>Lenny Abrahamson</td><td>8.1</td><td>[\"Brie Larson\",\"Jacob Tremblay\",\"Sean Bridgers\",\"Wendy Crewson\",\"Sandy McMaster\",\"Matt Gordon\",\"Amanda Brugel\",\"Joe Pingue\",\"Joan Allen\",\"Zarrin Darnell-Martin\",\"Cas Anvar\",\"William H. Macy\",\"Jee-Yun Lee\",\"Randal Edwards\",\"Justin Mader\",\"Ola Sturik\",\"Rodrigo Fernandez-Stoll\",\"Rory O'Shea\"]                                                     </td></tr>\n",
       "\t<tr><td>202</td><td>Mad Max: Fury Road                       </td><td>2015</td><td>[\"Action\",\"Adventure\",\"Sci-Fi\"]   </td><td>George Miller   </td><td>8.1</td><td>[\"Tom Hardy\",\"Charlize Theron\",\"Nicholas Hoult\",\"Zoë Kravitz\",\"Hugh Keays-Byrne\",\"Josh Helman\",\"Nathan Jones\",\"Rosie Huntington-Whiteley\",\"Riley Keough\",\"Abbey Lee\",\"Courtney Eaton\",\"John Howard\",\"Richard Carter\",\"Iota\",\"Angus Sampson\",\"Jennifer Hagan\",\"Megan Gale\",\"Melissa Jaffer\"]                                                            </td></tr>\n",
       "\t<tr><td>217</td><td>Spotlight                                </td><td>2015</td><td>[\"Biography\",\"Crime\",\"Drama\"]     </td><td>Tom McCarthy    </td><td>8.1</td><td>[\"Mark Ruffalo\",\"Michael Keaton\",\"Rachel McAdams\",\"Liev Schreiber\",\"John Slattery\",\"Brian d'Arcy James\",\"Stanley Tucci\",\"Elena Wohl\",\"Gene Amoroso\",\"Doug Murray\",\"Sharon McFarlane\",\"Jamey Sheridan\",\"Neal Huff\",\"Billy Crudup\",\"Robert B. Kennedy\",\"Duane Murray\",\"Brian Chamberlain\",\"Michael Cyril Creighton\"]                                     </td></tr>\n",
       "\t<tr><td> 85</td><td>Kimi No Na Wa.                           </td><td>2016</td><td>[\"Animation\",\"Drama\",\"Fantasy\"]   </td><td>Makoto Shinkai  </td><td>8.4</td><td>[\"Ryûnosuke Kamiki\",\"Mone Kamishiraishi\",\"Ryô Narita\",\"Aoi Yûki\",\"Nobunaga Shimazaki\",\"Kaito Ishikawa\",\"Kanon Tani\",\"Masaki Terasoma\",\"Sayaka Ôhara\",\"Kazuhiko Inoue\",\"Chafûrin\",\"Kana Hanazawa\",\"Yuka Terasaki\",\"Takashi Onozuka\",\"Yôhei Namekawa\",\"Miyu Tsuji\",\"Shin'ya Hamazoe\",\"Kanami Satô\"]                                                      </td></tr>\n",
       "\t<tr><td>127</td><td>Dangal                                   </td><td>2016</td><td>[\"Action\",\"Biography\",\"Drama\"]    </td><td>Nitesh Tiwari   </td><td>8.3</td><td>[\"Aamir Khan\",\"Sakshi Tanwar\",\"Fatima Sana Shaikh\",\"Sanya Malhotra\",\"Aparshakti Khurana\",\"Zaira Wasim\",\"Suhani Bhatnagar\",\"Ritvik Sahore\",\"Girish Kulkarni\",\"Ravi Aneja\",\"Anurag Arora\",\"Mahesh Balraj\",\"Vivan Bhatena\",\"Anmol Charan\",\"Karamveer Choudhary\",\"Ishika Gagneja\",\"Badrul Islam\",\"Jagbir\"]                                                 </td></tr>\n",
       "\t<tr><td>197</td><td>Hacksaw Ridge                            </td><td>2016</td><td>[\"Biography\",\"Drama\",\"History\"]   </td><td>Mel Gibson      </td><td>8.1</td><td>[\"Andrew Garfield\",\"Sam Worthington\",\"Luke Bracey\",\"Teresa Palmer\",\"Richard Pyros\",\"Jacob Warner\",\"Milo Gibson\",\"Darcy Bryce\",\"Roman Guerriero\",\"James Lugton\",\"Kasia Stelmach\",\"Hugo Weaving\",\"Rachel Griffiths\",\"Jarin Towney\",\"Tim McGarry\",\"Tyler Coppin\",\"Richard Platt\",\"Nathaniel Buzolic\"]                                                     </td></tr>\n",
       "\t<tr><td>245</td><td>Ah-ga-ssi                                </td><td>2016</td><td>[\"Drama\",\"Romance\",\"Thriller\"]    </td><td>Park Chan-wook  </td><td>8.1</td><td>[\"Kim Min-hee\",\"Ha Jung-woo\",\"Cho Jin-woong\",\"Moon So-ri\",\"Kim Tae-ri\",\"Yong-nyeo Lee\",\"Min-chae Yoo\",\"Dong-hwi Lee\",\"Kim Hae-sook\",\"Kyu-jung Lee\",\"Si-eun Kim\",\"Si-yeon Ha\",\"Rina Takagi\",\"Geun-hee Won\",\"Jong-Dae Kim\",\"Han-sun Jang\",\"Eun-yeong Kim\",\"Ri-woo Kim\"]                                                                                  </td></tr>\n",
       "\t<tr><td> 77</td><td>Coco                                     </td><td>2017</td><td>[\"Animation\",\"Adventure\",\"Comedy\"]</td><td>Lee Unkrich     </td><td>8.4</td><td>[\"Anthony Gonzalez\",\"Gael García Bernal\",\"Benjamin Bratt\",\"Alanna Ubach\",\"Renee Victor\",\"Jaime Camil\",\"Alfonso Arau\",\"Herbert Siguenza\",\"Gabriel Iglesias\",\"Lombardo Boyar\",\"Ana Ofelia Murguía\",\"Natalia Cordova-Buckley\",\"Selene Luna\",\"Edward James Olmos\",\"Sofía Espinosa\",\"Carla Medina\",\"Dyana Ortelli\",\"Luis Valdez\"]                           </td></tr>\n",
       "\t<tr><td>167</td><td>Three Billboards Outside Ebbing, Missouri</td><td>2017</td><td>[\"Comedy\",\"Crime\",\"Drama\"]        </td><td>Martin McDonagh </td><td>8.1</td><td>[\"Frances McDormand\",\"Woody Harrelson\",\"Sam Rockwell\",\"Caleb Landry Jones\",\"Kerry Condon\",\"Alejandro Barrios\",\"Jason Ledford\",\"Darrell Britt-Gibson\",\"Abbie Cornish\",\"Riya May Atwood\",\"Selah Atwood\",\"Lucas Hedges\",\"Zeljko Ivanek\",\"Amanda Warren\",\"Malaya Rivera Drew\",\"Sandy Martin\",\"Peter Dinklage\",\"Christopher Berry\"]                         </td></tr>\n",
       "\t<tr><td>221</td><td>Logan                                    </td><td>2017</td><td>[\"Action\",\"Drama\",\"Sci-Fi\"]       </td><td>James Mangold   </td><td>8.1</td><td>[\"Hugh Jackman\",\"Patrick Stewart\",\"Dafne Keen\",\"Boyd Holbrook\",\"Stephen Merchant\",\"Elizabeth Rodriguez\",\"Richard E. Grant\",\"Eriq La Salle\",\"Elise Neal\",\"Quincy Fouse\",\"Al Coronel\",\"Frank Gallegos\",\"Anthony Escobar\",\"Reynaldo Gallegos\",\"Krzysztof Soszynski\",\"Stephen Dunlevy\",\"Daniel Bernhardt\",\"Ryan Sturz\"]                                    </td></tr>\n",
       "\t<tr><td> 65</td><td>Avengers: Infinity War                   </td><td>2018</td><td>[\"Action\",\"Adventure\",\"Sci-Fi\"]   </td><td>Anthony Russo   </td><td>8.4</td><td>[\"Robert Downey Jr.\",\"Chris Hemsworth\",\"Mark Ruffalo\",\"Chris Evans\",\"Scarlett Johansson\",\"Don Cheadle\",\"Benedict Cumberbatch\",\"Tom Holland\",\"Chadwick Boseman\",\"Zoe Saldana\",\"Karen Gillan\",\"Tom Hiddleston\",\"Paul Bettany\",\"Elizabeth Olsen\",\"Anthony Mackie\",\"Sebastian Stan\",\"Idris Elba\",\"Danai Gurira\"]                                           </td></tr>\n",
       "\t<tr><td> 69</td><td>Spider-Man: Into the Spider-Verse        </td><td>2018</td><td>[\"Animation\",\"Action\",\"Adventure\"]</td><td>Bob Persichetti </td><td>8.4</td><td>[\"Shameik Moore\",\"Jake Johnson\",\"Hailee Steinfeld\",\"Mahershala Ali\",\"Brian Tyree Henry\",\"Lily Tomlin\",\"Luna Lauren Velez\",\"Zoë Kravitz\",\"John Mulaney\",\"Kimiko Glenn\",\"Nicolas Cage\",\"Kathryn Hahn\",\"Liev Schreiber\",\"Chris Pine\",\"Natalie Morales\",\"Edwin R. Habacon\",\"Oscar Isaac\",\"Greta Lee\"]                                                      </td></tr>\n",
       "\t<tr><td> 93</td><td>Capharnaüm                               </td><td>2018</td><td>[\"Drama\"]                         </td><td>Nadine Labaki   </td><td>8.4</td><td>[\"Zain Al Rafeea\",\"Yordanos Shiferaw\",\"Boluwatife Treasure Bankole\",\"Kawsar Al Haddad\",\"Fadi Yousef\",\"Cedra Izzam\",\"Alaa Chouchnieh\",\"Elias Khoury\",\"Mohammad Al Abdallah\",\"Mohamad Abdellatif\",\"Abdo Abdo\",\"Hampig Abraham\",\"Jamil Ahmad\",\"Mohamad Akkar\",\"Elias Akobegia\",\"Riman Al Rafeea\",\"Legamett Alamou\",\"Majd Nabil Alhalabi\"]                 </td></tr>\n",
       "\t<tr><td>133</td><td>Green Book                               </td><td>2018</td><td>[\"Biography\",\"Comedy\",\"Drama\"]    </td><td>Peter Farrelly  </td><td>8.2</td><td>[\"Viggo Mortensen\",\"Mahershala Ali\",\"Linda Cardellini\",\"Sebastian Maniscalco\",\"Dimiter D. Marinov\",\"Mike Hatton\",\"P.J. Byrne\",\"Joe Cortese\",\"Maggie Nixon\",\"Von Lewis\",\"Jon Sortland\",\"Don Stark\",\"Anthony Mangano\",\"Paul Sloan\",\"Quinn Duffy\",\"Seth Hurwitz\",\"Hudson Galloway\",\"Gavin Lyle Foley\"]                                                    </td></tr>\n",
       "\t<tr><td> 35</td><td>Parasite                                 </td><td>2019</td><td>[\"Comedy\",\"Drama\",\"Thriller\"]     </td><td>Bong Joon Ho    </td><td>8.5</td><td>[\"Song Kang-ho\",\"Sun-kyun Lee\",\"Cho Yeo-jeong\",\"Choi Woo-sik\",\"So-dam Park\",\"Lee Jeong-eun\",\"Jang Hye-jin\",\"Park Myeong-hoon\",\"Ji-so Jung\",\"Hyun-jun Jung\",\"Keun-rok Park\",\"Yi-Seo Jung\",\"Jae-myeong Jo\",\"Ik-han Jung\",\"Kyu-baek Kim\",\"Hwang In Kyung\",\"Ahn Seong-Bong\",\"Kim Jin Hyung\"]                                                               </td></tr>\n",
       "\t<tr><td> 72</td><td>Joker                                    </td><td>2019</td><td>[\"Crime\",\"Drama\",\"Thriller\"]      </td><td>Todd Phillips   </td><td>8.4</td><td>[\"Joaquin Phoenix\",\"Robert De Niro\",\"Zazie Beetz\",\"Frances Conroy\",\"Brett Cullen\",\"Shea Whigham\",\"Bill Camp\",\"Glenn Fleshler\",\"Leigh Gill\",\"Josh Pais\",\"Rocco Luna\",\"Marc Maron\",\"Sondra James\",\"Murphy Guyer\",\"Douglas Hodge\",\"Dante Pereira-Olson\",\"Carrie Louise Putrello\",\"Sharon Washington\"]                                                     </td></tr>\n",
       "\t<tr><td> 80</td><td>Avengers: Endgame                        </td><td>2019</td><td>[\"Action\",\"Adventure\",\"Drama\"]    </td><td>Anthony Russo   </td><td>8.4</td><td>[\"Robert Downey Jr.\",\"Chris Evans\",\"Mark Ruffalo\",\"Chris Hemsworth\",\"Scarlett Johansson\",\"Jeremy Renner\",\"Don Cheadle\",\"Paul Rudd\",\"Benedict Cumberbatch\",\"Chadwick Boseman\",\"Brie Larson\",\"Tom Holland\",\"Karen Gillan\",\"Zoe Saldana\",\"Evangeline Lilly\",\"Tessa Thompson\",\"Rene Russo\",\"Elizabeth Olsen\"]                                              </td></tr>\n",
       "\t<tr><td>122</td><td>1917                                     </td><td>2019</td><td>[\"Action\",\"Drama\",\"War\"]          </td><td>Sam Mendes      </td><td>8.2</td><td>[\"Dean-Charles Chapman\",\"George MacKay\",\"Daniel Mays\",\"Colin Firth\",\"Pip Carter\",\"Andy Apollo\",\"Paul Tinto\",\"Josef Davies\",\"Billy Postlethwaite\",\"Gabriel Akuwudike\",\"Andrew Scott\",\"Spike Leighton\",\"Robert Maaser\",\"Gerran Howell\",\"Adam Hugill\",\"Mark Strong\",\"Richard McCabe\",\"Benjamin Adams\"]                                                    </td></tr>\n",
       "\t<tr><td>196</td><td>Klaus                                    </td><td>2019</td><td>[\"Animation\",\"Adventure\",\"Comedy\"]</td><td>Sergio Pablos   </td><td>8.1</td><td>[\"Jason Schwartzman\",\"J.K. Simmons\",\"Rashida Jones\",\"Will Sasso\",\"Neda Margrethe Labba\",\"Sergio Pablos\",\"Norm MacDonald\",\"Joan Cusack\",\"Evan Agos\",\"Sky Alexis\",\"Jaeden Bettencourt\",\"Teddy Blum\",\"Mila Brener\",\"Sydney Brower\",\"Finn Carr\",\"Kendall Joy Hall\",\"Hailey Hermida\",\"Lexie Holland\"]                                                       </td></tr>\n",
       "\t<tr><td>214</td><td>Ford v. Ferrari                          </td><td>2019</td><td>[\"Action\",\"Biography\",\"Drama\"]    </td><td>James Mangold   </td><td>8.1</td><td>[\"Matt Damon\",\"Christian Bale\",\"Jon Bernthal\",\"Caitríona Balfe\",\"Josh Lucas\",\"Noah Jupe\",\"Tracy Letts\",\"Remo Girone\",\"Ray McKinnon\",\"JJ Feild\",\"Jack McMullen\",\"Corrado Invernizzi\",\"Joe Williamson\",\"Ian Harding\",\"Christopher Darga\",\"Shawn Law\",\"Emil Beheshti\",\"Darrin Prescott\"]                                                                  </td></tr>\n",
       "\t<tr><td>119</td><td>Hamilton                                 </td><td>2020</td><td>[\"Biography\",\"Drama\",\"History\"]   </td><td>Thomas Kail     </td><td>8.3</td><td>[\"Lin-Manuel Miranda\",\"Phillipa Soo\",\"Leslie Odom Jr.\",\"Renée Elise Goldsberry\",\"Daveed Diggs\",\"Jonathan Groff\",\"Chris Jackson\",\"Jasmine Cephas Jones\",\"Okieriete Onaodowan\",\"Anthony Ramos\",\"Carleigh Bettiol\",\"Ariana DeBose\",\"Hope Easterbrook\",\"Sydney James Harcourt\",\"Sasha Hutchings\",\"Thayne Jasperson\",\"Elizabeth Judd\",\"Jon Rua\"]            </td></tr>\n",
       "\t<tr><td>132</td><td>The Father                               </td><td>2020</td><td>[\"Drama\",\"Mystery\"]               </td><td>Florian Zeller  </td><td>8.2</td><td>[\"Anthony Hopkins\",\"Olivia Colman\",\"Mark Gatiss\",\"Olivia Williams\",\"Imogen Poots\",\"Rufus Sewell\",\"Ayesha Dharker\",\"Roman Zeller\",\"Adnan Kundi\",\"Brian Rodger\",\"Romulus Stoicescu\",\"Evie Wray\"]                                                                                                                                                         </td></tr>\n",
       "\t<tr><td>128</td><td>Spider-Man: No Way Home                  </td><td>2021</td><td>[\"Action\",\"Adventure\",\"Fantasy\"]  </td><td>Jon Watts       </td><td>8.3</td><td>[\"Tom Holland\",\"Zendaya\",\"Benedict Cumberbatch\",\"Jacob Batalon\",\"Jon Favreau\",\"Jamie Foxx\",\"Willem Dafoe\",\"Alfred Molina\",\"Benedict Wong\",\"Tony Revolori\",\"Marisa Tomei\",\"Andrew Garfield\",\"Tobey Maguire\",\"Angourie Rice\",\"Arian Moayed\",\"Paula Newsome\",\"Hannibal Buress\",\"Martin Starr\"]                                                            </td></tr>\n",
       "\t<tr><td>248</td><td>Jai Bhim                                 </td><td>2021</td><td>[\"Crime\",\"Drama\",\"Mystery\"]       </td><td>T.J. Gnanavel   </td><td>8.9</td><td>[\"Suriya\",\"Lijo Mol Jose\",\"Manikandan K.\",\"Rajisha Vijayan\",\"Prakash Raj\",\"Rao Ramesh\",\"Guru Somasundaram\",\"M.S. Bhaskar\",\"V. Jayaprakash\",\"Sibi Thomas\",\"Ilavarasu\",\"Jayarao\",\"Sujatha Sivakumar\",\"Ravi Venkatraman\",\"Tamizh\",\"Kumaravel\",\"Supergood Subramani\",\"Bala Hasan\"]                                                                         </td></tr>\n",
       "\t<tr><td> 45</td><td>Top Gun: Maverick                        </td><td>2022</td><td>[\"Action\",\"Drama\"]                </td><td>Joseph Kosinski </td><td>8.6</td><td>[\"Tom Cruise\",\"Jennifer Connelly\",\"Miles Teller\",\"Val Kilmer\",\"Bashir Salahuddin\",\"Jon Hamm\",\"Charles Parnell\",\"Monica Barbaro\",\"Lewis Pullman\",\"Jay Ellis\",\"Danny Ramirez\",\"Glen Powell\",\"Jack Schumacher\",\"Manny Jacinto\",\"Kara Wang\",\"Greg Tarzan Davis\",\"Jake Picking\",\"Raymond Lee\"]                                                              </td></tr>\n",
       "\t<tr><td>153</td><td>Everything Everywhere All at Once        </td><td>2022</td><td>[\"Action\",\"Adventure\",\"Comedy\"]   </td><td>Dan Kwan        </td><td>8.2</td><td>[\"Michelle Yeoh\",\"Stephanie Hsu\",\"Ke Huy Quan\",\"James Hong\",\"Jamie Lee Curtis\",\"Tallie Medel\",\"Jenny Slate\",\"Harry Shum Jr.\",\"Randy Newman\",\"Biff Wiff\",\"Sunita Mani\",\"Aaron Lazar\",\"Brian Le\",\"Andy Le\",\"Narayana Cabral\",\"Chelsey Goldsmith\",\"Craig Henningsen\",\"Anthony Molinari\"]                                                                  </td></tr>\n",
       "</tbody>\n",
       "</table>\n"
      ],
      "text/latex": [
       "A spec\\_tbl\\_df: 250 × 7\n",
       "\\begin{tabular}{lllllll}\n",
       " rank & movie\\_name & movie\\_year & genre & director\\_name & rating & actors\\_list\\\\\n",
       " <dbl> & <chr> & <dbl> & <chr> & <chr> & <dbl> & <chr>\\\\\n",
       "\\hline\n",
       "\t 129 & The Kid                           & 1921 & {[}\"Comedy\",\"Drama\",\"Family\"{]}        & Charles Chaplin      & 8.3 & {[}\"Charles Chaplin\",\"Edna Purviance\",\"Jackie Coogan\",\"Carl Miller\",\"Albert Austin\",\"Beulah Bains\",\"Nellie Bly Baker\",\"Henry Bergman\",\"Edward Biby\",\"B.F. Blinn\",\"Kitty Bradbury\",\"Frank Campeau\",\"Bliss Chevalier\",\"Frances Cochran\",\"Elsie Codd\",\"Jack Coogan Sr.\",\"Estelle Cook\",\"Lillian Crane\"{]}                                \\\\\n",
       "\t 194 & Sherlock Jr.                      & 1924 & {[}\"Action\",\"Comedy\",\"Romance\"{]}      & Buster Keaton        & 8.2 & {[}\"Buster Keaton\",\"Kathryn McGuire\",\"Joe Keaton\",\"Erwin Connelly\",\"Ward Crane\",\"Jane Connelly\",\"George Davis\",\"Doris Deane\",\"Christine Francis\",\"Betsy Ann Hisle\",\"Kewpie Morgan\",\"Steve Murphy\",\"John Patrick\",\"Ford West\"{]}                                                                                                       \\\\\n",
       "\t 175 & The Gold Rush                     & 1925 & {[}\"Adventure\",\"Comedy\",\"Drama\"{]}     & Charles Chaplin      & 8.2 & {[}\"Charles Chaplin\",\"Mack Swain\",\"Tom Murray\",\"Henry Bergman\",\"Malcolm Waite\",\"Georgia Hale\",\"Jack Adams\",\"Frank Aderias\",\"Leona Aderias\",\"Lillian Adrian\",\"Sam Allen\",\"Claude Anderson\",\"Harry Arras\",\"Albert Austin\",\"Marta Belfort\",\"William Bell\",\"Francis Bernhardt\",\"F.J. Beuaregard\"{]}                                       \\\\\n",
       "\t 182 & The General                       & 1926 & {[}\"Action\",\"Adventure\",\"Comedy\"{]}    & Clyde Bruckman       & 8.2 & {[}\"Buster Keaton\",\"Marion Mack\",\"Glen Cavender\",\"Jim Farley\",\"Frederick Vroom\",\"Frank Barnes\",\"Charles Henry Smith\",\"Joe Keaton\",\"Mike Donlin\",\"Tom Nawn\",\"Henry Baird\",\"Joe Bricher\",\"Jimmy Bryant\",\"Sergeant Bukowski\",\"C.C. Cruson\",\"Jack Dempster\",\"Keith Fennell\",\"Budd Fine\"{]}                                                \\\\\n",
       "\t 114 & Metropolis                        & 1927 & {[}\"Drama\",\"Sci-Fi\"{]}                 & Fritz Lang           & 8.3 & {[}\"Brigitte Helm\",\"Alfred Abel\",\"Gustav Fröhlich\",\"Rudolf Klein-Rogge\",\"Fritz Rasp\",\"Theodor Loos\",\"Erwin Biswanger\",\"Heinrich George\",\"Fritz Alberti\",\"Grete Berger\",\"Olly Boeheim\",\"Max Dietze\",\"Ellen Frey\",\"Beatrice Garga\",\"Heinrich Gotho\",\"Dolly Grey\",\"Anny Hintze\",\"Gottfried Huppertz\"{]}                                  \\\\\n",
       "\t 207 & La passion de Jeanne d'Arc        & 1928 & {[}\"Biography\",\"Drama\",\"History\"{]}    & Carl Theodor Dreyer  & 8.2 & {[}\"Maria Falconetti\",\"Eugene Silvain\",\"André Berley\",\"Maurice Schutz\",\"Antonin Artaud\",\"Michel Simon\",\"Jean d'Yd\",\"Louis Ravet\",\"Armand Lurville\",\"Jacques Arnna\",\"Alexandre Mihalesco\",\"Léon Larive\",\"Jean Aymé\",\"Gilbert Dacheux\",\"Gilbert Dalleu\",\"Paul Delauzac\",\"Dimitri Dimitriev\",\"Fournez-Goffard\"{]}                        \\\\\n",
       "\t  52 & City Lights                       & 1931 & {[}\"Comedy\",\"Drama\",\"Romance\"{]}       & Charles Chaplin      & 8.5 & {[}\"Charles Chaplin\",\"Virginia Cherrill\",\"Florence Lee\",\"Harry Myers\",\"Al Ernest Garcia\",\"Hank Mann\",\"Johnny Aber\",\"Jack Alexander\",\"T.S. Alexander\",\"Victor Alexander\",\"Albert Austin\",\"Harry Ayers\",\"Eddie Baker\",\"Henry Bergman\",\"Edward Biby\",\"Betty Blair\",\"Buster Brodie\",\"Jeanne Carpenter\"{]}                                 \\\\\n",
       "\t  97 & M - Eine Stadt sucht einen Mörder & 1931 & {[}\"Crime\",\"Mystery\",\"Thriller\"{]}     & Fritz Lang           & 8.3 & {[}\"Peter Lorre\",\"Ellen Widmann\",\"Inge Landgut\",\"Otto Wernicke\",\"Theodor Loos\",\"Gustaf Gründgens\",\"Friedrich Gnaß\",\"Fritz Odemar\",\"Paul Kemp\",\"Theo Lingen\",\"Rudolf Blümner\",\"Georg John\",\"Franz Stein\",\"Ernst Stahl-Nachbaur\",\"Gerhard Bienert\",\"Karl Platen\",\"Rosa Valetti\",\"Hertha von Walther\"{]}                                 \\\\\n",
       "\t 241 & It Happened One Night             & 1934 & {[}\"Comedy\",\"Romance\"{]}               & Frank Capra          & 8.1 & {[}\"Clark Gable\",\"Claudette Colbert\",\"Walter Connolly\",\"Roscoe Karns\",\"Jameson Thomas\",\"Alan Hale\",\"Arthur Hoyt\",\"Blanche Friderici\",\"Charles C. Wilson\",\"Ernie Adams\",\"Jessie Arnold\",\"Irving Bacon\",\"William Bailey\",\"William Begg\",\"William A. Boardway\",\"Ward Bond\",\"Harry C. Bradley\",\"George P. Breakston\"{]}                   \\\\\n",
       "\t  46 & Modern Times                      & 1936 & {[}\"Comedy\",\"Drama\",\"Romance\"{]}       & Charles Chaplin      & 8.5 & {[}\"Charles Chaplin\",\"Paulette Goddard\",\"Henry Bergman\",\"Tiny Sandford\",\"Chester Conklin\",\"Hank Mann\",\"Stanley Blystone\",\"Al Ernest Garcia\",\"Richard Alexander\",\"Cecil Reynolds\",\"Mira McKinney\",\"Murdock MacQuarrie\",\"Wilfred Lucas\",\"Edward LeSaint\",\"Fred Malatesta\",\"Sammy Stein\",\"Juana Sutton\",\"Ted Oliver\"{]}                  \\\\\n",
       "\t 158 & Gone with the Wind                & 1939 & {[}\"Drama\",\"Romance\",\"War\"{]}          & Victor Fleming       & 8.2 & {[}\"Clark Gable\",\"Vivien Leigh\",\"Thomas Mitchell\",\"Barbara O'Neil\",\"Evelyn Keyes\",\"Ann Rutherford\",\"George Reeves\",\"Fred Crane\",\"Hattie McDaniel\",\"Oscar Polk\",\"Butterfly McQueen\",\"Victor Jory\",\"Everett Brown\",\"Howard Hickman\",\"Alicia Rhett\",\"Leslie Howard\",\"Olivia de Havilland\",\"Rand Brooks\"{]}                               \\\\\n",
       "\t 191 & Mr. Smith Goes to Washington      & 1939 & {[}\"Comedy\",\"Drama\"{]}                 & Frank Capra          & 8.1 & {[}\"James Stewart\",\"Jean Arthur\",\"Claude Rains\",\"Edward Arnold\",\"Guy Kibbee\",\"Thomas Mitchell\",\"Eugene Pallette\",\"Beulah Bondi\",\"H.B. Warner\",\"Harry Carey\",\"Astrid Allwyn\",\"Ruth Donnelly\",\"Grant Mitchell\",\"Porter Hall\",\"H.V. Kaltenborn\",\"Charles Lane\",\"Pierre Watkin\",\"Dick Elliott\"{]}                                         \\\\\n",
       "\t 222 & The Wizard of Oz                  & 1939 & {[}\"Adventure\",\"Family\",\"Fantasy\"{]}   & Victor Fleming       & 8.1 & {[}\"Judy Garland\",\"Frank Morgan\",\"Ray Bolger\",\"Bert Lahr\",\"Jack Haley\",\"Billie Burke\",\"Margaret Hamilton\",\"Charley Grapewin\",\"Pat Walshe\",\"Clara Blandick\",\"Terry\",\"The Singer Midgets\",\"Franz Balluck\",\"Josefine Balluck\",\"Dorothy Barrett\",\"Amelia Batchelor\",\"Charles Becker\",\"Freda Betsky\"{]}                                    \\\\\n",
       "\t  63 & The Great Dictator                & 1940 & {[}\"Comedy\",\"Drama\",\"War\"{]}           & Charles Chaplin      & 8.4 & {[}\"Charles Chaplin\",\"Paulette Goddard\",\"Jack Oakie\",\"Reginald Gardiner\",\"Henry Daniell\",\"Billy Gilbert\",\"Grace Hayle\",\"Carter DeHaven\",\"Maurice Moscovitch\",\"Emma Dunn\",\"Bernard Gorcey\",\"Paul Weigel\",\"Chester Conklin\",\"Esther Michelson\",\"Hank Mann\",\"Florence Wright\",\"Eddie Gribbon\",\"Rudolph Anders\"{]}                        \\\\\n",
       "\t 230 & The Grapes of Wrath               & 1940 & {[}\"Drama\"{]}                          & John Ford            & 8.1 & {[}\"Henry Fonda\",\"Jane Darwell\",\"John Carradine\",\"Charley Grapewin\",\"Dorris Bowdon\",\"Russell Simpson\",\"O.Z. Whitehead\",\"John Qualen\",\"Eddie Quillan\",\"Zeffie Tilbury\",\"Frank Sully\",\"Frank Darien\",\"Darryl Hickman\",\"Shirley Mills\",\"Roger Imhof\",\"Grant Mitchell\",\"Charles D. Brown\",\"John Arledge\"{]}                               \\\\\n",
       "\t 231 & Rebecca                           & 1940 & {[}\"Drama\",\"Film-Noir\",\"Mystery\"{]}    & Alfred Hitchcock     & 8.1 & {[}\"Laurence Olivier\",\"Joan Fontaine\",\"George Sanders\",\"Judith Anderson\",\"Nigel Bruce\",\"Reginald Denny\",\"C. Aubrey Smith\",\"Gladys Cooper\",\"Florence Bates\",\"Melville Cooper\",\"Leo G. Carroll\",\"Leonard Carey\",\"Lumsden Hare\",\"Edward Fielding\",\"Philip Winter\",\"Forrester Harvey\",\"Bunny Beatty\",\"Billy Bevan\"{]}                     \\\\\n",
       "\t  94 & Citizen Kane                      & 1941 & {[}\"Drama\",\"Mystery\"{]}                & Orson Welles         & 8.3 & {[}\"Orson Welles\",\"Joseph Cotten\",\"Dorothy Comingore\",\"Agnes Moorehead\",\"Ruth Warrick\",\"Ray Collins\",\"Erskine Sanford\",\"Everett Sloane\",\"William Alland\",\"Paul Stewart\",\"George Coulouris\",\"Fortunio Bonanova\",\"Gus Schilling\",\"Philip Van Zandt\",\"Georgia Backus\",\"Harry Shannon\",\"Sonny Bupp\",\"Buddy Swan\"{]}                       \\\\\n",
       "\t  42 & Casablanca                        & 1942 & {[}\"Drama\",\"Romance\",\"War\"{]}          & Michael Curtiz       & 8.5 & {[}\"Humphrey Bogart\",\"Ingrid Bergman\",\"Paul Henreid\",\"Claude Rains\",\"Conrad Veidt\",\"Sydney Greenstreet\",\"Peter Lorre\",\"S.Z. Sakall\",\"Madeleine Lebeau\",\"Dooley Wilson\",\"Joy Page\",\"John Qualen\",\"Leonid Kinskey\",\"Curt Bois\",\"Abdullah Abbas\",\"Enrique Acosta\",\"Ed Agresti\",\"Arnet Amos\"{]}                                           \\\\\n",
       "\t 229 & To Be or Not to Be                & 1942 & {[}\"Comedy\",\"Romance\",\"War\"{]}         & Ernst Lubitsch       & 8.2 & {[}\"Carole Lombard\",\"Jack Benny\",\"Robert Stack\",\"Felix Bressart\",\"Lionel Atwill\",\"Stanley Ridges\",\"Sig Ruman\",\"Tom Dugan\",\"Charles Halton\",\"George Lynn\",\"Henry Victor\",\"Maude Eburne\",\"Halliwell Hobbes\",\"Miles Mander\",\"Rudolph Anders\",\"Paul Barrett\",\"Sven Hugo Borg\",\"Danny Borzage\"{]}                                          \\\\\n",
       "\t 104 & Double Indemnity                  & 1944 & {[}\"Crime\",\"Drama\",\"Film-Noir\"{]}      & Billy Wilder         & 8.3 & {[}\"Fred MacMurray\",\"Barbara Stanwyck\",\"Edward G. Robinson\",\"Byron Barr\",\"Porter Hall\",\"Jean Heather\",\"Tom Powers\",\"Richard Gaines\",\"Fortunio Bonanova\",\"John Philliber\",\"Lev Abramov\",\"James Adamson\",\"John Berry\",\"Raymond Chandler\",\"Edmund Cobb\",\"Kernan Cripps\",\"Betty Farrington\",\"Bess Flowers\"{]}                             \\\\\n",
       "\t  21 & It's a Wonderful Life             & 1946 & {[}\"Drama\",\"Family\",\"Fantasy\"{]}       & Frank Capra          & 8.6 & {[}\"James Stewart\",\"Donna Reed\",\"Lionel Barrymore\",\"Thomas Mitchell\",\"Henry Travers\",\"Beulah Bondi\",\"Frank Faylen\",\"Ward Bond\",\"Gloria Grahame\",\"H.B. Warner\",\"Frank Albertson\",\"Todd Karns\",\"Samuel S. Hinds\",\"Mary Treen\",\"Virginia Patton\",\"Charles Williams\",\"Sarah Edwards\",\"William Edmunds\"{]}                                 \\\\\n",
       "\t 227 & The Best Years of Our Lives       & 1946 & {[}\"Drama\",\"Romance\",\"War\"{]}          & William Wyler        & 8.1 & {[}\"Myrna Loy\",\"Dana Andrews\",\"Fredric March\",\"Teresa Wright\",\"Virginia Mayo\",\"Cathy O'Donnell\",\"Hoagy Carmichael\",\"Harold Russell\",\"Gladys George\",\"Roman Bohnen\",\"Ray Collins\",\"Minna Gombell\",\"Walter Baldwin\",\"Steve Cochran\",\"Dorothy Adams\",\"Don Beddoe\",\"Marlene Aames\",\"Charles Halton\"{]}                                    \\\\\n",
       "\t 121 & Ladri Di Biciclette               & 1948 & {[}\"Drama\"{]}                          & Vittorio De Sica     & 8.3 & {[}\"Lamberto Maggiorani\",\"Enzo Staiola\",\"Lianella Carell\",\"Elena Altieri\",\"Gino Saltamerenda\",\"Giulio Chiari\",\"Vittorio Antonucci\",\"Michele Sakara\",\"Fausto Guerzoni\",\"Emma Druetti\",\"Carlo Jachino\",\"Giulio Battiferri\",\"Ida Bracci Dorati\",\"Nando Bruno\",\"Eolo Capritti\",\"Memmo Carotenuto\",\"Giovanni Corporale\",\"Veriano Ginesi\"{]}\\\\\n",
       "\t 146 & The Treasure of the Sierra Madre  & 1948 & {[}\"Adventure\",\"Drama\",\"Western\"{]}    & John Huston          & 8.2 & {[}\"Humphrey Bogart\",\"Walter Huston\",\"Tim Holt\",\"Bruce Bennett\",\"Barton MacLane\",\"Alfonso Bedoya\",\"Arturo Soto Rangel\",\"Manuel Dondé\",\"José Torvay\",\"Margarito Luna\",\"Robert Blake\",\"Guillermo Calles\",\"Roberto Cañedo\",\"Spencer Chan\",\"Jacqueline Dalya\",\"Ralph Dunn\",\"Ernesto Escoto\",\"Pat Flaherty\"{]}                             \\\\\n",
       "\t 179 & The Third Man                     & 1949 & {[}\"Film-Noir\",\"Mystery\",\"Thriller\"{]} & Carol Reed           & 8.1 & {[}\"Orson Welles\",\"Joseph Cotten\",\"Alida Valli\",\"Trevor Howard\",\"Paul Hörbiger\",\"Ernst Deutsch\",\"Erich Ponto\",\"Siegfried Breuer\",\"Hedwig Bleibtreu\",\"Bernard Lee\",\"Wilfrid Hyde-White\",\"Nelly Arno\",\"Jack Arrow\",\"Harold Ayer\",\"Harry Belcher\",\"Leo Bieber\",\"Paul Birch\",\"Martin Boddey\"{]}                                           \\\\\n",
       "\t  60 & Sunset Blvd.                      & 1950 & {[}\"Drama\",\"Film-Noir\"{]}              & Billy Wilder         & 8.4 & {[}\"William Holden\",\"Gloria Swanson\",\"Erich von Stroheim\",\"Nancy Olson\",\"Fred Clark\",\"Lloyd Gough\",\"Jack Webb\",\"Franklyn Farnum\",\"Larry J. Blake\",\"Charles Dayton\",\"Cecil B. DeMille\",\"Hedda Hopper\",\"Buster Keaton\",\"Anna Q. Nilsson\",\"H.B. Warner\",\"Ray Evans\",\"Jay Livingston\",\"Fred Aldrich\"{]}                                   \\\\\n",
       "\t 131 & All About Eve                     & 1950 & {[}\"Drama\"{]}                          & Joseph L. Mankiewicz & 8.2 & {[}\"Bette Davis\",\"Anne Baxter\",\"George Sanders\",\"Celeste Holm\",\"Gary Merrill\",\"Hugh Marlowe\",\"Gregory Ratoff\",\"Barbara Bates\",\"Marilyn Monroe\",\"Thelma Ritter\",\"Walter Hampden\",\"Randy Stuart\",\"Craig Hill\",\"Leland Harris\",\"Barbara White\",\"Eddie Fisher\",\"William Pullen\",\"Claude Stroud\"{]}                                        \\\\\n",
       "\t 148 & Rashōmon                          & 1950 & {[}\"Crime\",\"Drama\",\"Mystery\"{]}        & Akira Kurosawa       & 8.2 & {[}\"Toshirô Mifune\",\"Machiko Kyô\",\"Masayuki Mori\",\"Takashi Shimura\",\"Minoru Chiaki\",\"Kichijirô Ueda\",\"Noriko Honma\",\"Daisuke Katô\"{]}                                                                                                                                                                                                 \\\\\n",
       "\t  86 & Singin' in the Rain               & 1952 & {[}\"Comedy\",\"Musical\",\"Romance\"{]}     & Stanley Donen        & 8.3 & {[}\"Gene Kelly\",\"Donald O'Connor\",\"Debbie Reynolds\",\"Jean Hagen\",\"Millard Mitchell\",\"Cyd Charisse\",\"Douglas Fowley\",\"Rita Moreno\",\"Dawn Addams\",\"John Albright\",\"Betty Allen\",\"Sue Allen\",\"John Angelo\",\"Marie Ardell\",\"Bette Arlen\",\"David Bair\",\"Jimmy Bates\",\"Mary Bayless\"{]}                                                     \\\\\n",
       "\t 107 & Ikiru                             & 1952 & {[}\"Drama\"{]}                          & Akira Kurosawa       & 8.3 & {[}\"Takashi Shimura\",\"Nobuo Kaneko\",\"Shin'ichi Himori\",\"Haruo Tanaka\",\"Minoru Chiaki\",\"Miki Odagiri\",\"Bokuzen Hidari\",\"Minosuke Yamada\",\"Kamatari Fujiwara\",\"Makoto Kobori\",\"Nobuo Nakamura\",\"Atsushi Watanabe\",\"Isao Kimura\",\"Masao Shimizu\",\"Yûnosuke Itô\",\"Kumeko Urabe\",\"Eiko Miyoshi\",\"Noriko Honma\"{]}                          \\\\\n",
       "\t ⋮ & ⋮ & ⋮ & ⋮ & ⋮ & ⋮ & ⋮\\\\\n",
       "\t 186 & Gone Girl                                 & 2014 & {[}\"Drama\",\"Mystery\",\"Thriller\"{]}     & David Fincher    & 8.1 & {[}\"Ben Affleck\",\"Rosamund Pike\",\"Neil Patrick Harris\",\"Tyler Perry\",\"Carrie Coon\",\"Kim Dickens\",\"Patrick Fugit\",\"David Clennon\",\"Lisa Banes\",\"Missi Pyle\",\"Emily Ratajkowski\",\"Casey Wilson\",\"Lola Kirke\",\"Boyd Holbrook\",\"Sela Ward\",\"Lee Norris\",\"Jamie McShane\",\"Leonard Kelly-Young\"{]}                                                               \\\\\n",
       "\t 190 & The Grand Budapest Hotel                  & 2014 & {[}\"Adventure\",\"Comedy\",\"Crime\"{]}     & Wes Anderson     & 8.1 & {[}\"Ralph Fiennes\",\"F. Murray Abraham\",\"Mathieu Amalric\",\"Adrien Brody\",\"Willem Dafoe\",\"Jeff Goldblum\",\"Harvey Keitel\",\"Jude Law\",\"Bill Murray\",\"Edward Norton\",\"Saoirse Ronan\",\"Jason Schwartzman\",\"Léa Seydoux\",\"Tilda Swinton\",\"Tom Wilkinson\",\"Owen Wilson\",\"Tony Revolori\",\"Larry Pine\"{]}                                                            \\\\\n",
       "\t 200 & Relatos Salvajes                          & 2014 & {[}\"Comedy\",\"Drama\",\"Thriller\"{]}      & Damián Szifron   & 8.1 & {[}\"Darío Grandinetti\",\"María Marull\",\"Mónica Villa\",\"Diego Starosta\",\"Marcelo Frasca\",\"Lucila Mangone\",\"María Laura Caccamo\",\"Carlos Alberto Vavassori\",\"Pablo Machado\",\"Horacio Vay\",\"Javier Pedersoli\",\"Héctor Drachtman\",\"María Rosa López Ottonello\",\"Rita Cortese\",\"Julieta Zylberberg\",\"César Bordón\",\"Juan Santiago Linari\",\"Leonardo Sbaraglia\"{]}\\\\\n",
       "\t 161 & Inside Out                                & 2015 & {[}\"Animation\",\"Adventure\",\"Comedy\"{]} & Pete Docter      & 8.2 & {[}\"Amy Poehler\",\"Bill Hader\",\"Lewis Black\",\"Mindy Kaling\",\"Phyllis Smith\",\"Richard Kind\",\"Kaitlyn Dias\",\"Diane Lane\",\"Kyle MacLachlan\",\"Paula Poundstone\",\"Bobby Moynihan\",\"Paula Pell\",\"Dave Goelz\",\"Frank Oz\",\"Josh Cooley\",\"Flea\",\"John Ratzenberger\",\"Carlos Alazraqui\"{]}                                                                            \\\\\n",
       "\t 199 & Room                                      & 2015 & {[}\"Drama\",\"Thriller\"{]}               & Lenny Abrahamson & 8.1 & {[}\"Brie Larson\",\"Jacob Tremblay\",\"Sean Bridgers\",\"Wendy Crewson\",\"Sandy McMaster\",\"Matt Gordon\",\"Amanda Brugel\",\"Joe Pingue\",\"Joan Allen\",\"Zarrin Darnell-Martin\",\"Cas Anvar\",\"William H. Macy\",\"Jee-Yun Lee\",\"Randal Edwards\",\"Justin Mader\",\"Ola Sturik\",\"Rodrigo Fernandez-Stoll\",\"Rory O'Shea\"{]}                                                     \\\\\n",
       "\t 202 & Mad Max: Fury Road                        & 2015 & {[}\"Action\",\"Adventure\",\"Sci-Fi\"{]}    & George Miller    & 8.1 & {[}\"Tom Hardy\",\"Charlize Theron\",\"Nicholas Hoult\",\"Zoë Kravitz\",\"Hugh Keays-Byrne\",\"Josh Helman\",\"Nathan Jones\",\"Rosie Huntington-Whiteley\",\"Riley Keough\",\"Abbey Lee\",\"Courtney Eaton\",\"John Howard\",\"Richard Carter\",\"Iota\",\"Angus Sampson\",\"Jennifer Hagan\",\"Megan Gale\",\"Melissa Jaffer\"{]}                                                            \\\\\n",
       "\t 217 & Spotlight                                 & 2015 & {[}\"Biography\",\"Crime\",\"Drama\"{]}      & Tom McCarthy     & 8.1 & {[}\"Mark Ruffalo\",\"Michael Keaton\",\"Rachel McAdams\",\"Liev Schreiber\",\"John Slattery\",\"Brian d'Arcy James\",\"Stanley Tucci\",\"Elena Wohl\",\"Gene Amoroso\",\"Doug Murray\",\"Sharon McFarlane\",\"Jamey Sheridan\",\"Neal Huff\",\"Billy Crudup\",\"Robert B. Kennedy\",\"Duane Murray\",\"Brian Chamberlain\",\"Michael Cyril Creighton\"{]}                                     \\\\\n",
       "\t  85 & Kimi No Na Wa.                            & 2016 & {[}\"Animation\",\"Drama\",\"Fantasy\"{]}    & Makoto Shinkai   & 8.4 & {[}\"Ryûnosuke Kamiki\",\"Mone Kamishiraishi\",\"Ryô Narita\",\"Aoi Yûki\",\"Nobunaga Shimazaki\",\"Kaito Ishikawa\",\"Kanon Tani\",\"Masaki Terasoma\",\"Sayaka Ôhara\",\"Kazuhiko Inoue\",\"Chafûrin\",\"Kana Hanazawa\",\"Yuka Terasaki\",\"Takashi Onozuka\",\"Yôhei Namekawa\",\"Miyu Tsuji\",\"Shin'ya Hamazoe\",\"Kanami Satô\"{]}                                                      \\\\\n",
       "\t 127 & Dangal                                    & 2016 & {[}\"Action\",\"Biography\",\"Drama\"{]}     & Nitesh Tiwari    & 8.3 & {[}\"Aamir Khan\",\"Sakshi Tanwar\",\"Fatima Sana Shaikh\",\"Sanya Malhotra\",\"Aparshakti Khurana\",\"Zaira Wasim\",\"Suhani Bhatnagar\",\"Ritvik Sahore\",\"Girish Kulkarni\",\"Ravi Aneja\",\"Anurag Arora\",\"Mahesh Balraj\",\"Vivan Bhatena\",\"Anmol Charan\",\"Karamveer Choudhary\",\"Ishika Gagneja\",\"Badrul Islam\",\"Jagbir\"{]}                                                 \\\\\n",
       "\t 197 & Hacksaw Ridge                             & 2016 & {[}\"Biography\",\"Drama\",\"History\"{]}    & Mel Gibson       & 8.1 & {[}\"Andrew Garfield\",\"Sam Worthington\",\"Luke Bracey\",\"Teresa Palmer\",\"Richard Pyros\",\"Jacob Warner\",\"Milo Gibson\",\"Darcy Bryce\",\"Roman Guerriero\",\"James Lugton\",\"Kasia Stelmach\",\"Hugo Weaving\",\"Rachel Griffiths\",\"Jarin Towney\",\"Tim McGarry\",\"Tyler Coppin\",\"Richard Platt\",\"Nathaniel Buzolic\"{]}                                                     \\\\\n",
       "\t 245 & Ah-ga-ssi                                 & 2016 & {[}\"Drama\",\"Romance\",\"Thriller\"{]}     & Park Chan-wook   & 8.1 & {[}\"Kim Min-hee\",\"Ha Jung-woo\",\"Cho Jin-woong\",\"Moon So-ri\",\"Kim Tae-ri\",\"Yong-nyeo Lee\",\"Min-chae Yoo\",\"Dong-hwi Lee\",\"Kim Hae-sook\",\"Kyu-jung Lee\",\"Si-eun Kim\",\"Si-yeon Ha\",\"Rina Takagi\",\"Geun-hee Won\",\"Jong-Dae Kim\",\"Han-sun Jang\",\"Eun-yeong Kim\",\"Ri-woo Kim\"{]}                                                                                  \\\\\n",
       "\t  77 & Coco                                      & 2017 & {[}\"Animation\",\"Adventure\",\"Comedy\"{]} & Lee Unkrich      & 8.4 & {[}\"Anthony Gonzalez\",\"Gael García Bernal\",\"Benjamin Bratt\",\"Alanna Ubach\",\"Renee Victor\",\"Jaime Camil\",\"Alfonso Arau\",\"Herbert Siguenza\",\"Gabriel Iglesias\",\"Lombardo Boyar\",\"Ana Ofelia Murguía\",\"Natalia Cordova-Buckley\",\"Selene Luna\",\"Edward James Olmos\",\"Sofía Espinosa\",\"Carla Medina\",\"Dyana Ortelli\",\"Luis Valdez\"{]}                           \\\\\n",
       "\t 167 & Three Billboards Outside Ebbing, Missouri & 2017 & {[}\"Comedy\",\"Crime\",\"Drama\"{]}         & Martin McDonagh  & 8.1 & {[}\"Frances McDormand\",\"Woody Harrelson\",\"Sam Rockwell\",\"Caleb Landry Jones\",\"Kerry Condon\",\"Alejandro Barrios\",\"Jason Ledford\",\"Darrell Britt-Gibson\",\"Abbie Cornish\",\"Riya May Atwood\",\"Selah Atwood\",\"Lucas Hedges\",\"Zeljko Ivanek\",\"Amanda Warren\",\"Malaya Rivera Drew\",\"Sandy Martin\",\"Peter Dinklage\",\"Christopher Berry\"{]}                         \\\\\n",
       "\t 221 & Logan                                     & 2017 & {[}\"Action\",\"Drama\",\"Sci-Fi\"{]}        & James Mangold    & 8.1 & {[}\"Hugh Jackman\",\"Patrick Stewart\",\"Dafne Keen\",\"Boyd Holbrook\",\"Stephen Merchant\",\"Elizabeth Rodriguez\",\"Richard E. Grant\",\"Eriq La Salle\",\"Elise Neal\",\"Quincy Fouse\",\"Al Coronel\",\"Frank Gallegos\",\"Anthony Escobar\",\"Reynaldo Gallegos\",\"Krzysztof Soszynski\",\"Stephen Dunlevy\",\"Daniel Bernhardt\",\"Ryan Sturz\"{]}                                    \\\\\n",
       "\t  65 & Avengers: Infinity War                    & 2018 & {[}\"Action\",\"Adventure\",\"Sci-Fi\"{]}    & Anthony Russo    & 8.4 & {[}\"Robert Downey Jr.\",\"Chris Hemsworth\",\"Mark Ruffalo\",\"Chris Evans\",\"Scarlett Johansson\",\"Don Cheadle\",\"Benedict Cumberbatch\",\"Tom Holland\",\"Chadwick Boseman\",\"Zoe Saldana\",\"Karen Gillan\",\"Tom Hiddleston\",\"Paul Bettany\",\"Elizabeth Olsen\",\"Anthony Mackie\",\"Sebastian Stan\",\"Idris Elba\",\"Danai Gurira\"{]}                                           \\\\\n",
       "\t  69 & Spider-Man: Into the Spider-Verse         & 2018 & {[}\"Animation\",\"Action\",\"Adventure\"{]} & Bob Persichetti  & 8.4 & {[}\"Shameik Moore\",\"Jake Johnson\",\"Hailee Steinfeld\",\"Mahershala Ali\",\"Brian Tyree Henry\",\"Lily Tomlin\",\"Luna Lauren Velez\",\"Zoë Kravitz\",\"John Mulaney\",\"Kimiko Glenn\",\"Nicolas Cage\",\"Kathryn Hahn\",\"Liev Schreiber\",\"Chris Pine\",\"Natalie Morales\",\"Edwin R. Habacon\",\"Oscar Isaac\",\"Greta Lee\"{]}                                                      \\\\\n",
       "\t  93 & Capharnaüm                                & 2018 & {[}\"Drama\"{]}                          & Nadine Labaki    & 8.4 & {[}\"Zain Al Rafeea\",\"Yordanos Shiferaw\",\"Boluwatife Treasure Bankole\",\"Kawsar Al Haddad\",\"Fadi Yousef\",\"Cedra Izzam\",\"Alaa Chouchnieh\",\"Elias Khoury\",\"Mohammad Al Abdallah\",\"Mohamad Abdellatif\",\"Abdo Abdo\",\"Hampig Abraham\",\"Jamil Ahmad\",\"Mohamad Akkar\",\"Elias Akobegia\",\"Riman Al Rafeea\",\"Legamett Alamou\",\"Majd Nabil Alhalabi\"{]}                 \\\\\n",
       "\t 133 & Green Book                                & 2018 & {[}\"Biography\",\"Comedy\",\"Drama\"{]}     & Peter Farrelly   & 8.2 & {[}\"Viggo Mortensen\",\"Mahershala Ali\",\"Linda Cardellini\",\"Sebastian Maniscalco\",\"Dimiter D. Marinov\",\"Mike Hatton\",\"P.J. Byrne\",\"Joe Cortese\",\"Maggie Nixon\",\"Von Lewis\",\"Jon Sortland\",\"Don Stark\",\"Anthony Mangano\",\"Paul Sloan\",\"Quinn Duffy\",\"Seth Hurwitz\",\"Hudson Galloway\",\"Gavin Lyle Foley\"{]}                                                    \\\\\n",
       "\t  35 & Parasite                                  & 2019 & {[}\"Comedy\",\"Drama\",\"Thriller\"{]}      & Bong Joon Ho     & 8.5 & {[}\"Song Kang-ho\",\"Sun-kyun Lee\",\"Cho Yeo-jeong\",\"Choi Woo-sik\",\"So-dam Park\",\"Lee Jeong-eun\",\"Jang Hye-jin\",\"Park Myeong-hoon\",\"Ji-so Jung\",\"Hyun-jun Jung\",\"Keun-rok Park\",\"Yi-Seo Jung\",\"Jae-myeong Jo\",\"Ik-han Jung\",\"Kyu-baek Kim\",\"Hwang In Kyung\",\"Ahn Seong-Bong\",\"Kim Jin Hyung\"{]}                                                               \\\\\n",
       "\t  72 & Joker                                     & 2019 & {[}\"Crime\",\"Drama\",\"Thriller\"{]}       & Todd Phillips    & 8.4 & {[}\"Joaquin Phoenix\",\"Robert De Niro\",\"Zazie Beetz\",\"Frances Conroy\",\"Brett Cullen\",\"Shea Whigham\",\"Bill Camp\",\"Glenn Fleshler\",\"Leigh Gill\",\"Josh Pais\",\"Rocco Luna\",\"Marc Maron\",\"Sondra James\",\"Murphy Guyer\",\"Douglas Hodge\",\"Dante Pereira-Olson\",\"Carrie Louise Putrello\",\"Sharon Washington\"{]}                                                     \\\\\n",
       "\t  80 & Avengers: Endgame                         & 2019 & {[}\"Action\",\"Adventure\",\"Drama\"{]}     & Anthony Russo    & 8.4 & {[}\"Robert Downey Jr.\",\"Chris Evans\",\"Mark Ruffalo\",\"Chris Hemsworth\",\"Scarlett Johansson\",\"Jeremy Renner\",\"Don Cheadle\",\"Paul Rudd\",\"Benedict Cumberbatch\",\"Chadwick Boseman\",\"Brie Larson\",\"Tom Holland\",\"Karen Gillan\",\"Zoe Saldana\",\"Evangeline Lilly\",\"Tessa Thompson\",\"Rene Russo\",\"Elizabeth Olsen\"{]}                                              \\\\\n",
       "\t 122 & 1917                                      & 2019 & {[}\"Action\",\"Drama\",\"War\"{]}           & Sam Mendes       & 8.2 & {[}\"Dean-Charles Chapman\",\"George MacKay\",\"Daniel Mays\",\"Colin Firth\",\"Pip Carter\",\"Andy Apollo\",\"Paul Tinto\",\"Josef Davies\",\"Billy Postlethwaite\",\"Gabriel Akuwudike\",\"Andrew Scott\",\"Spike Leighton\",\"Robert Maaser\",\"Gerran Howell\",\"Adam Hugill\",\"Mark Strong\",\"Richard McCabe\",\"Benjamin Adams\"{]}                                                    \\\\\n",
       "\t 196 & Klaus                                     & 2019 & {[}\"Animation\",\"Adventure\",\"Comedy\"{]} & Sergio Pablos    & 8.1 & {[}\"Jason Schwartzman\",\"J.K. Simmons\",\"Rashida Jones\",\"Will Sasso\",\"Neda Margrethe Labba\",\"Sergio Pablos\",\"Norm MacDonald\",\"Joan Cusack\",\"Evan Agos\",\"Sky Alexis\",\"Jaeden Bettencourt\",\"Teddy Blum\",\"Mila Brener\",\"Sydney Brower\",\"Finn Carr\",\"Kendall Joy Hall\",\"Hailey Hermida\",\"Lexie Holland\"{]}                                                       \\\\\n",
       "\t 214 & Ford v. Ferrari                           & 2019 & {[}\"Action\",\"Biography\",\"Drama\"{]}     & James Mangold    & 8.1 & {[}\"Matt Damon\",\"Christian Bale\",\"Jon Bernthal\",\"Caitríona Balfe\",\"Josh Lucas\",\"Noah Jupe\",\"Tracy Letts\",\"Remo Girone\",\"Ray McKinnon\",\"JJ Feild\",\"Jack McMullen\",\"Corrado Invernizzi\",\"Joe Williamson\",\"Ian Harding\",\"Christopher Darga\",\"Shawn Law\",\"Emil Beheshti\",\"Darrin Prescott\"{]}                                                                  \\\\\n",
       "\t 119 & Hamilton                                  & 2020 & {[}\"Biography\",\"Drama\",\"History\"{]}    & Thomas Kail      & 8.3 & {[}\"Lin-Manuel Miranda\",\"Phillipa Soo\",\"Leslie Odom Jr.\",\"Renée Elise Goldsberry\",\"Daveed Diggs\",\"Jonathan Groff\",\"Chris Jackson\",\"Jasmine Cephas Jones\",\"Okieriete Onaodowan\",\"Anthony Ramos\",\"Carleigh Bettiol\",\"Ariana DeBose\",\"Hope Easterbrook\",\"Sydney James Harcourt\",\"Sasha Hutchings\",\"Thayne Jasperson\",\"Elizabeth Judd\",\"Jon Rua\"{]}            \\\\\n",
       "\t 132 & The Father                                & 2020 & {[}\"Drama\",\"Mystery\"{]}                & Florian Zeller   & 8.2 & {[}\"Anthony Hopkins\",\"Olivia Colman\",\"Mark Gatiss\",\"Olivia Williams\",\"Imogen Poots\",\"Rufus Sewell\",\"Ayesha Dharker\",\"Roman Zeller\",\"Adnan Kundi\",\"Brian Rodger\",\"Romulus Stoicescu\",\"Evie Wray\"{]}                                                                                                                                                         \\\\\n",
       "\t 128 & Spider-Man: No Way Home                   & 2021 & {[}\"Action\",\"Adventure\",\"Fantasy\"{]}   & Jon Watts        & 8.3 & {[}\"Tom Holland\",\"Zendaya\",\"Benedict Cumberbatch\",\"Jacob Batalon\",\"Jon Favreau\",\"Jamie Foxx\",\"Willem Dafoe\",\"Alfred Molina\",\"Benedict Wong\",\"Tony Revolori\",\"Marisa Tomei\",\"Andrew Garfield\",\"Tobey Maguire\",\"Angourie Rice\",\"Arian Moayed\",\"Paula Newsome\",\"Hannibal Buress\",\"Martin Starr\"{]}                                                            \\\\\n",
       "\t 248 & Jai Bhim                                  & 2021 & {[}\"Crime\",\"Drama\",\"Mystery\"{]}        & T.J. Gnanavel    & 8.9 & {[}\"Suriya\",\"Lijo Mol Jose\",\"Manikandan K.\",\"Rajisha Vijayan\",\"Prakash Raj\",\"Rao Ramesh\",\"Guru Somasundaram\",\"M.S. Bhaskar\",\"V. Jayaprakash\",\"Sibi Thomas\",\"Ilavarasu\",\"Jayarao\",\"Sujatha Sivakumar\",\"Ravi Venkatraman\",\"Tamizh\",\"Kumaravel\",\"Supergood Subramani\",\"Bala Hasan\"{]}                                                                         \\\\\n",
       "\t  45 & Top Gun: Maverick                         & 2022 & {[}\"Action\",\"Drama\"{]}                 & Joseph Kosinski  & 8.6 & {[}\"Tom Cruise\",\"Jennifer Connelly\",\"Miles Teller\",\"Val Kilmer\",\"Bashir Salahuddin\",\"Jon Hamm\",\"Charles Parnell\",\"Monica Barbaro\",\"Lewis Pullman\",\"Jay Ellis\",\"Danny Ramirez\",\"Glen Powell\",\"Jack Schumacher\",\"Manny Jacinto\",\"Kara Wang\",\"Greg Tarzan Davis\",\"Jake Picking\",\"Raymond Lee\"{]}                                                              \\\\\n",
       "\t 153 & Everything Everywhere All at Once         & 2022 & {[}\"Action\",\"Adventure\",\"Comedy\"{]}    & Dan Kwan         & 8.2 & {[}\"Michelle Yeoh\",\"Stephanie Hsu\",\"Ke Huy Quan\",\"James Hong\",\"Jamie Lee Curtis\",\"Tallie Medel\",\"Jenny Slate\",\"Harry Shum Jr.\",\"Randy Newman\",\"Biff Wiff\",\"Sunita Mani\",\"Aaron Lazar\",\"Brian Le\",\"Andy Le\",\"Narayana Cabral\",\"Chelsey Goldsmith\",\"Craig Henningsen\",\"Anthony Molinari\"{]}                                                                  \\\\\n",
       "\\end{tabular}\n"
      ],
      "text/markdown": [
       "\n",
       "A spec_tbl_df: 250 × 7\n",
       "\n",
       "| rank &lt;dbl&gt; | movie_name &lt;chr&gt; | movie_year &lt;dbl&gt; | genre &lt;chr&gt; | director_name &lt;chr&gt; | rating &lt;dbl&gt; | actors_list &lt;chr&gt; |\n",
       "|---|---|---|---|---|---|---|\n",
       "| 129 | The Kid                           | 1921 | [\"Comedy\",\"Drama\",\"Family\"]        | Charles Chaplin      | 8.3 | [\"Charles Chaplin\",\"Edna Purviance\",\"Jackie Coogan\",\"Carl Miller\",\"Albert Austin\",\"Beulah Bains\",\"Nellie Bly Baker\",\"Henry Bergman\",\"Edward Biby\",\"B.F. Blinn\",\"Kitty Bradbury\",\"Frank Campeau\",\"Bliss Chevalier\",\"Frances Cochran\",\"Elsie Codd\",\"Jack Coogan Sr.\",\"Estelle Cook\",\"Lillian Crane\"]                                 |\n",
       "| 194 | Sherlock Jr.                      | 1924 | [\"Action\",\"Comedy\",\"Romance\"]      | Buster Keaton        | 8.2 | [\"Buster Keaton\",\"Kathryn McGuire\",\"Joe Keaton\",\"Erwin Connelly\",\"Ward Crane\",\"Jane Connelly\",\"George Davis\",\"Doris Deane\",\"Christine Francis\",\"Betsy Ann Hisle\",\"Kewpie Morgan\",\"Steve Murphy\",\"John Patrick\",\"Ford West\"]                                                                                                        |\n",
       "| 175 | The Gold Rush                     | 1925 | [\"Adventure\",\"Comedy\",\"Drama\"]     | Charles Chaplin      | 8.2 | [\"Charles Chaplin\",\"Mack Swain\",\"Tom Murray\",\"Henry Bergman\",\"Malcolm Waite\",\"Georgia Hale\",\"Jack Adams\",\"Frank Aderias\",\"Leona Aderias\",\"Lillian Adrian\",\"Sam Allen\",\"Claude Anderson\",\"Harry Arras\",\"Albert Austin\",\"Marta Belfort\",\"William Bell\",\"Francis Bernhardt\",\"F.J. Beuaregard\"]                                        |\n",
       "| 182 | The General                       | 1926 | [\"Action\",\"Adventure\",\"Comedy\"]    | Clyde Bruckman       | 8.2 | [\"Buster Keaton\",\"Marion Mack\",\"Glen Cavender\",\"Jim Farley\",\"Frederick Vroom\",\"Frank Barnes\",\"Charles Henry Smith\",\"Joe Keaton\",\"Mike Donlin\",\"Tom Nawn\",\"Henry Baird\",\"Joe Bricher\",\"Jimmy Bryant\",\"Sergeant Bukowski\",\"C.C. Cruson\",\"Jack Dempster\",\"Keith Fennell\",\"Budd Fine\"]                                                 |\n",
       "| 114 | Metropolis                        | 1927 | [\"Drama\",\"Sci-Fi\"]                 | Fritz Lang           | 8.3 | [\"Brigitte Helm\",\"Alfred Abel\",\"Gustav Fröhlich\",\"Rudolf Klein-Rogge\",\"Fritz Rasp\",\"Theodor Loos\",\"Erwin Biswanger\",\"Heinrich George\",\"Fritz Alberti\",\"Grete Berger\",\"Olly Boeheim\",\"Max Dietze\",\"Ellen Frey\",\"Beatrice Garga\",\"Heinrich Gotho\",\"Dolly Grey\",\"Anny Hintze\",\"Gottfried Huppertz\"]                                   |\n",
       "| 207 | La passion de Jeanne d'Arc        | 1928 | [\"Biography\",\"Drama\",\"History\"]    | Carl Theodor Dreyer  | 8.2 | [\"Maria Falconetti\",\"Eugene Silvain\",\"André Berley\",\"Maurice Schutz\",\"Antonin Artaud\",\"Michel Simon\",\"Jean d'Yd\",\"Louis Ravet\",\"Armand Lurville\",\"Jacques Arnna\",\"Alexandre Mihalesco\",\"Léon Larive\",\"Jean Aymé\",\"Gilbert Dacheux\",\"Gilbert Dalleu\",\"Paul Delauzac\",\"Dimitri Dimitriev\",\"Fournez-Goffard\"]                         |\n",
       "|  52 | City Lights                       | 1931 | [\"Comedy\",\"Drama\",\"Romance\"]       | Charles Chaplin      | 8.5 | [\"Charles Chaplin\",\"Virginia Cherrill\",\"Florence Lee\",\"Harry Myers\",\"Al Ernest Garcia\",\"Hank Mann\",\"Johnny Aber\",\"Jack Alexander\",\"T.S. Alexander\",\"Victor Alexander\",\"Albert Austin\",\"Harry Ayers\",\"Eddie Baker\",\"Henry Bergman\",\"Edward Biby\",\"Betty Blair\",\"Buster Brodie\",\"Jeanne Carpenter\"]                                  |\n",
       "|  97 | M - Eine Stadt sucht einen Mörder | 1931 | [\"Crime\",\"Mystery\",\"Thriller\"]     | Fritz Lang           | 8.3 | [\"Peter Lorre\",\"Ellen Widmann\",\"Inge Landgut\",\"Otto Wernicke\",\"Theodor Loos\",\"Gustaf Gründgens\",\"Friedrich Gnaß\",\"Fritz Odemar\",\"Paul Kemp\",\"Theo Lingen\",\"Rudolf Blümner\",\"Georg John\",\"Franz Stein\",\"Ernst Stahl-Nachbaur\",\"Gerhard Bienert\",\"Karl Platen\",\"Rosa Valetti\",\"Hertha von Walther\"]                                  |\n",
       "| 241 | It Happened One Night             | 1934 | [\"Comedy\",\"Romance\"]               | Frank Capra          | 8.1 | [\"Clark Gable\",\"Claudette Colbert\",\"Walter Connolly\",\"Roscoe Karns\",\"Jameson Thomas\",\"Alan Hale\",\"Arthur Hoyt\",\"Blanche Friderici\",\"Charles C. Wilson\",\"Ernie Adams\",\"Jessie Arnold\",\"Irving Bacon\",\"William Bailey\",\"William Begg\",\"William A. Boardway\",\"Ward Bond\",\"Harry C. Bradley\",\"George P. Breakston\"]                    |\n",
       "|  46 | Modern Times                      | 1936 | [\"Comedy\",\"Drama\",\"Romance\"]       | Charles Chaplin      | 8.5 | [\"Charles Chaplin\",\"Paulette Goddard\",\"Henry Bergman\",\"Tiny Sandford\",\"Chester Conklin\",\"Hank Mann\",\"Stanley Blystone\",\"Al Ernest Garcia\",\"Richard Alexander\",\"Cecil Reynolds\",\"Mira McKinney\",\"Murdock MacQuarrie\",\"Wilfred Lucas\",\"Edward LeSaint\",\"Fred Malatesta\",\"Sammy Stein\",\"Juana Sutton\",\"Ted Oliver\"]                   |\n",
       "| 158 | Gone with the Wind                | 1939 | [\"Drama\",\"Romance\",\"War\"]          | Victor Fleming       | 8.2 | [\"Clark Gable\",\"Vivien Leigh\",\"Thomas Mitchell\",\"Barbara O'Neil\",\"Evelyn Keyes\",\"Ann Rutherford\",\"George Reeves\",\"Fred Crane\",\"Hattie McDaniel\",\"Oscar Polk\",\"Butterfly McQueen\",\"Victor Jory\",\"Everett Brown\",\"Howard Hickman\",\"Alicia Rhett\",\"Leslie Howard\",\"Olivia de Havilland\",\"Rand Brooks\"]                                |\n",
       "| 191 | Mr. Smith Goes to Washington      | 1939 | [\"Comedy\",\"Drama\"]                 | Frank Capra          | 8.1 | [\"James Stewart\",\"Jean Arthur\",\"Claude Rains\",\"Edward Arnold\",\"Guy Kibbee\",\"Thomas Mitchell\",\"Eugene Pallette\",\"Beulah Bondi\",\"H.B. Warner\",\"Harry Carey\",\"Astrid Allwyn\",\"Ruth Donnelly\",\"Grant Mitchell\",\"Porter Hall\",\"H.V. Kaltenborn\",\"Charles Lane\",\"Pierre Watkin\",\"Dick Elliott\"]                                          |\n",
       "| 222 | The Wizard of Oz                  | 1939 | [\"Adventure\",\"Family\",\"Fantasy\"]   | Victor Fleming       | 8.1 | [\"Judy Garland\",\"Frank Morgan\",\"Ray Bolger\",\"Bert Lahr\",\"Jack Haley\",\"Billie Burke\",\"Margaret Hamilton\",\"Charley Grapewin\",\"Pat Walshe\",\"Clara Blandick\",\"Terry\",\"The Singer Midgets\",\"Franz Balluck\",\"Josefine Balluck\",\"Dorothy Barrett\",\"Amelia Batchelor\",\"Charles Becker\",\"Freda Betsky\"]                                     |\n",
       "|  63 | The Great Dictator                | 1940 | [\"Comedy\",\"Drama\",\"War\"]           | Charles Chaplin      | 8.4 | [\"Charles Chaplin\",\"Paulette Goddard\",\"Jack Oakie\",\"Reginald Gardiner\",\"Henry Daniell\",\"Billy Gilbert\",\"Grace Hayle\",\"Carter DeHaven\",\"Maurice Moscovitch\",\"Emma Dunn\",\"Bernard Gorcey\",\"Paul Weigel\",\"Chester Conklin\",\"Esther Michelson\",\"Hank Mann\",\"Florence Wright\",\"Eddie Gribbon\",\"Rudolph Anders\"]                         |\n",
       "| 230 | The Grapes of Wrath               | 1940 | [\"Drama\"]                          | John Ford            | 8.1 | [\"Henry Fonda\",\"Jane Darwell\",\"John Carradine\",\"Charley Grapewin\",\"Dorris Bowdon\",\"Russell Simpson\",\"O.Z. Whitehead\",\"John Qualen\",\"Eddie Quillan\",\"Zeffie Tilbury\",\"Frank Sully\",\"Frank Darien\",\"Darryl Hickman\",\"Shirley Mills\",\"Roger Imhof\",\"Grant Mitchell\",\"Charles D. Brown\",\"John Arledge\"]                                |\n",
       "| 231 | Rebecca                           | 1940 | [\"Drama\",\"Film-Noir\",\"Mystery\"]    | Alfred Hitchcock     | 8.1 | [\"Laurence Olivier\",\"Joan Fontaine\",\"George Sanders\",\"Judith Anderson\",\"Nigel Bruce\",\"Reginald Denny\",\"C. Aubrey Smith\",\"Gladys Cooper\",\"Florence Bates\",\"Melville Cooper\",\"Leo G. Carroll\",\"Leonard Carey\",\"Lumsden Hare\",\"Edward Fielding\",\"Philip Winter\",\"Forrester Harvey\",\"Bunny Beatty\",\"Billy Bevan\"]                      |\n",
       "|  94 | Citizen Kane                      | 1941 | [\"Drama\",\"Mystery\"]                | Orson Welles         | 8.3 | [\"Orson Welles\",\"Joseph Cotten\",\"Dorothy Comingore\",\"Agnes Moorehead\",\"Ruth Warrick\",\"Ray Collins\",\"Erskine Sanford\",\"Everett Sloane\",\"William Alland\",\"Paul Stewart\",\"George Coulouris\",\"Fortunio Bonanova\",\"Gus Schilling\",\"Philip Van Zandt\",\"Georgia Backus\",\"Harry Shannon\",\"Sonny Bupp\",\"Buddy Swan\"]                        |\n",
       "|  42 | Casablanca                        | 1942 | [\"Drama\",\"Romance\",\"War\"]          | Michael Curtiz       | 8.5 | [\"Humphrey Bogart\",\"Ingrid Bergman\",\"Paul Henreid\",\"Claude Rains\",\"Conrad Veidt\",\"Sydney Greenstreet\",\"Peter Lorre\",\"S.Z. Sakall\",\"Madeleine Lebeau\",\"Dooley Wilson\",\"Joy Page\",\"John Qualen\",\"Leonid Kinskey\",\"Curt Bois\",\"Abdullah Abbas\",\"Enrique Acosta\",\"Ed Agresti\",\"Arnet Amos\"]                                            |\n",
       "| 229 | To Be or Not to Be                | 1942 | [\"Comedy\",\"Romance\",\"War\"]         | Ernst Lubitsch       | 8.2 | [\"Carole Lombard\",\"Jack Benny\",\"Robert Stack\",\"Felix Bressart\",\"Lionel Atwill\",\"Stanley Ridges\",\"Sig Ruman\",\"Tom Dugan\",\"Charles Halton\",\"George Lynn\",\"Henry Victor\",\"Maude Eburne\",\"Halliwell Hobbes\",\"Miles Mander\",\"Rudolph Anders\",\"Paul Barrett\",\"Sven Hugo Borg\",\"Danny Borzage\"]                                           |\n",
       "| 104 | Double Indemnity                  | 1944 | [\"Crime\",\"Drama\",\"Film-Noir\"]      | Billy Wilder         | 8.3 | [\"Fred MacMurray\",\"Barbara Stanwyck\",\"Edward G. Robinson\",\"Byron Barr\",\"Porter Hall\",\"Jean Heather\",\"Tom Powers\",\"Richard Gaines\",\"Fortunio Bonanova\",\"John Philliber\",\"Lev Abramov\",\"James Adamson\",\"John Berry\",\"Raymond Chandler\",\"Edmund Cobb\",\"Kernan Cripps\",\"Betty Farrington\",\"Bess Flowers\"]                              |\n",
       "|  21 | It's a Wonderful Life             | 1946 | [\"Drama\",\"Family\",\"Fantasy\"]       | Frank Capra          | 8.6 | [\"James Stewart\",\"Donna Reed\",\"Lionel Barrymore\",\"Thomas Mitchell\",\"Henry Travers\",\"Beulah Bondi\",\"Frank Faylen\",\"Ward Bond\",\"Gloria Grahame\",\"H.B. Warner\",\"Frank Albertson\",\"Todd Karns\",\"Samuel S. Hinds\",\"Mary Treen\",\"Virginia Patton\",\"Charles Williams\",\"Sarah Edwards\",\"William Edmunds\"]                                  |\n",
       "| 227 | The Best Years of Our Lives       | 1946 | [\"Drama\",\"Romance\",\"War\"]          | William Wyler        | 8.1 | [\"Myrna Loy\",\"Dana Andrews\",\"Fredric March\",\"Teresa Wright\",\"Virginia Mayo\",\"Cathy O'Donnell\",\"Hoagy Carmichael\",\"Harold Russell\",\"Gladys George\",\"Roman Bohnen\",\"Ray Collins\",\"Minna Gombell\",\"Walter Baldwin\",\"Steve Cochran\",\"Dorothy Adams\",\"Don Beddoe\",\"Marlene Aames\",\"Charles Halton\"]                                     |\n",
       "| 121 | Ladri Di Biciclette               | 1948 | [\"Drama\"]                          | Vittorio De Sica     | 8.3 | [\"Lamberto Maggiorani\",\"Enzo Staiola\",\"Lianella Carell\",\"Elena Altieri\",\"Gino Saltamerenda\",\"Giulio Chiari\",\"Vittorio Antonucci\",\"Michele Sakara\",\"Fausto Guerzoni\",\"Emma Druetti\",\"Carlo Jachino\",\"Giulio Battiferri\",\"Ida Bracci Dorati\",\"Nando Bruno\",\"Eolo Capritti\",\"Memmo Carotenuto\",\"Giovanni Corporale\",\"Veriano Ginesi\"] |\n",
       "| 146 | The Treasure of the Sierra Madre  | 1948 | [\"Adventure\",\"Drama\",\"Western\"]    | John Huston          | 8.2 | [\"Humphrey Bogart\",\"Walter Huston\",\"Tim Holt\",\"Bruce Bennett\",\"Barton MacLane\",\"Alfonso Bedoya\",\"Arturo Soto Rangel\",\"Manuel Dondé\",\"José Torvay\",\"Margarito Luna\",\"Robert Blake\",\"Guillermo Calles\",\"Roberto Cañedo\",\"Spencer Chan\",\"Jacqueline Dalya\",\"Ralph Dunn\",\"Ernesto Escoto\",\"Pat Flaherty\"]                              |\n",
       "| 179 | The Third Man                     | 1949 | [\"Film-Noir\",\"Mystery\",\"Thriller\"] | Carol Reed           | 8.1 | [\"Orson Welles\",\"Joseph Cotten\",\"Alida Valli\",\"Trevor Howard\",\"Paul Hörbiger\",\"Ernst Deutsch\",\"Erich Ponto\",\"Siegfried Breuer\",\"Hedwig Bleibtreu\",\"Bernard Lee\",\"Wilfrid Hyde-White\",\"Nelly Arno\",\"Jack Arrow\",\"Harold Ayer\",\"Harry Belcher\",\"Leo Bieber\",\"Paul Birch\",\"Martin Boddey\"]                                            |\n",
       "|  60 | Sunset Blvd.                      | 1950 | [\"Drama\",\"Film-Noir\"]              | Billy Wilder         | 8.4 | [\"William Holden\",\"Gloria Swanson\",\"Erich von Stroheim\",\"Nancy Olson\",\"Fred Clark\",\"Lloyd Gough\",\"Jack Webb\",\"Franklyn Farnum\",\"Larry J. Blake\",\"Charles Dayton\",\"Cecil B. DeMille\",\"Hedda Hopper\",\"Buster Keaton\",\"Anna Q. Nilsson\",\"H.B. Warner\",\"Ray Evans\",\"Jay Livingston\",\"Fred Aldrich\"]                                    |\n",
       "| 131 | All About Eve                     | 1950 | [\"Drama\"]                          | Joseph L. Mankiewicz | 8.2 | [\"Bette Davis\",\"Anne Baxter\",\"George Sanders\",\"Celeste Holm\",\"Gary Merrill\",\"Hugh Marlowe\",\"Gregory Ratoff\",\"Barbara Bates\",\"Marilyn Monroe\",\"Thelma Ritter\",\"Walter Hampden\",\"Randy Stuart\",\"Craig Hill\",\"Leland Harris\",\"Barbara White\",\"Eddie Fisher\",\"William Pullen\",\"Claude Stroud\"]                                         |\n",
       "| 148 | Rashōmon                          | 1950 | [\"Crime\",\"Drama\",\"Mystery\"]        | Akira Kurosawa       | 8.2 | [\"Toshirô Mifune\",\"Machiko Kyô\",\"Masayuki Mori\",\"Takashi Shimura\",\"Minoru Chiaki\",\"Kichijirô Ueda\",\"Noriko Honma\",\"Daisuke Katô\"]                                                                                                                                                                                                  |\n",
       "|  86 | Singin' in the Rain               | 1952 | [\"Comedy\",\"Musical\",\"Romance\"]     | Stanley Donen        | 8.3 | [\"Gene Kelly\",\"Donald O'Connor\",\"Debbie Reynolds\",\"Jean Hagen\",\"Millard Mitchell\",\"Cyd Charisse\",\"Douglas Fowley\",\"Rita Moreno\",\"Dawn Addams\",\"John Albright\",\"Betty Allen\",\"Sue Allen\",\"John Angelo\",\"Marie Ardell\",\"Bette Arlen\",\"David Bair\",\"Jimmy Bates\",\"Mary Bayless\"]                                                      |\n",
       "| 107 | Ikiru                             | 1952 | [\"Drama\"]                          | Akira Kurosawa       | 8.3 | [\"Takashi Shimura\",\"Nobuo Kaneko\",\"Shin'ichi Himori\",\"Haruo Tanaka\",\"Minoru Chiaki\",\"Miki Odagiri\",\"Bokuzen Hidari\",\"Minosuke Yamada\",\"Kamatari Fujiwara\",\"Makoto Kobori\",\"Nobuo Nakamura\",\"Atsushi Watanabe\",\"Isao Kimura\",\"Masao Shimizu\",\"Yûnosuke Itô\",\"Kumeko Urabe\",\"Eiko Miyoshi\",\"Noriko Honma\"]                           |\n",
       "| ⋮ | ⋮ | ⋮ | ⋮ | ⋮ | ⋮ | ⋮ |\n",
       "| 186 | Gone Girl                                 | 2014 | [\"Drama\",\"Mystery\",\"Thriller\"]     | David Fincher    | 8.1 | [\"Ben Affleck\",\"Rosamund Pike\",\"Neil Patrick Harris\",\"Tyler Perry\",\"Carrie Coon\",\"Kim Dickens\",\"Patrick Fugit\",\"David Clennon\",\"Lisa Banes\",\"Missi Pyle\",\"Emily Ratajkowski\",\"Casey Wilson\",\"Lola Kirke\",\"Boyd Holbrook\",\"Sela Ward\",\"Lee Norris\",\"Jamie McShane\",\"Leonard Kelly-Young\"]                                                                |\n",
       "| 190 | The Grand Budapest Hotel                  | 2014 | [\"Adventure\",\"Comedy\",\"Crime\"]     | Wes Anderson     | 8.1 | [\"Ralph Fiennes\",\"F. Murray Abraham\",\"Mathieu Amalric\",\"Adrien Brody\",\"Willem Dafoe\",\"Jeff Goldblum\",\"Harvey Keitel\",\"Jude Law\",\"Bill Murray\",\"Edward Norton\",\"Saoirse Ronan\",\"Jason Schwartzman\",\"Léa Seydoux\",\"Tilda Swinton\",\"Tom Wilkinson\",\"Owen Wilson\",\"Tony Revolori\",\"Larry Pine\"]                                                             |\n",
       "| 200 | Relatos Salvajes                          | 2014 | [\"Comedy\",\"Drama\",\"Thriller\"]      | Damián Szifron   | 8.1 | [\"Darío Grandinetti\",\"María Marull\",\"Mónica Villa\",\"Diego Starosta\",\"Marcelo Frasca\",\"Lucila Mangone\",\"María Laura Caccamo\",\"Carlos Alberto Vavassori\",\"Pablo Machado\",\"Horacio Vay\",\"Javier Pedersoli\",\"Héctor Drachtman\",\"María Rosa López Ottonello\",\"Rita Cortese\",\"Julieta Zylberberg\",\"César Bordón\",\"Juan Santiago Linari\",\"Leonardo Sbaraglia\"] |\n",
       "| 161 | Inside Out                                | 2015 | [\"Animation\",\"Adventure\",\"Comedy\"] | Pete Docter      | 8.2 | [\"Amy Poehler\",\"Bill Hader\",\"Lewis Black\",\"Mindy Kaling\",\"Phyllis Smith\",\"Richard Kind\",\"Kaitlyn Dias\",\"Diane Lane\",\"Kyle MacLachlan\",\"Paula Poundstone\",\"Bobby Moynihan\",\"Paula Pell\",\"Dave Goelz\",\"Frank Oz\",\"Josh Cooley\",\"Flea\",\"John Ratzenberger\",\"Carlos Alazraqui\"]                                                                             |\n",
       "| 199 | Room                                      | 2015 | [\"Drama\",\"Thriller\"]               | Lenny Abrahamson | 8.1 | [\"Brie Larson\",\"Jacob Tremblay\",\"Sean Bridgers\",\"Wendy Crewson\",\"Sandy McMaster\",\"Matt Gordon\",\"Amanda Brugel\",\"Joe Pingue\",\"Joan Allen\",\"Zarrin Darnell-Martin\",\"Cas Anvar\",\"William H. Macy\",\"Jee-Yun Lee\",\"Randal Edwards\",\"Justin Mader\",\"Ola Sturik\",\"Rodrigo Fernandez-Stoll\",\"Rory O'Shea\"]                                                      |\n",
       "| 202 | Mad Max: Fury Road                        | 2015 | [\"Action\",\"Adventure\",\"Sci-Fi\"]    | George Miller    | 8.1 | [\"Tom Hardy\",\"Charlize Theron\",\"Nicholas Hoult\",\"Zoë Kravitz\",\"Hugh Keays-Byrne\",\"Josh Helman\",\"Nathan Jones\",\"Rosie Huntington-Whiteley\",\"Riley Keough\",\"Abbey Lee\",\"Courtney Eaton\",\"John Howard\",\"Richard Carter\",\"Iota\",\"Angus Sampson\",\"Jennifer Hagan\",\"Megan Gale\",\"Melissa Jaffer\"]                                                             |\n",
       "| 217 | Spotlight                                 | 2015 | [\"Biography\",\"Crime\",\"Drama\"]      | Tom McCarthy     | 8.1 | [\"Mark Ruffalo\",\"Michael Keaton\",\"Rachel McAdams\",\"Liev Schreiber\",\"John Slattery\",\"Brian d'Arcy James\",\"Stanley Tucci\",\"Elena Wohl\",\"Gene Amoroso\",\"Doug Murray\",\"Sharon McFarlane\",\"Jamey Sheridan\",\"Neal Huff\",\"Billy Crudup\",\"Robert B. Kennedy\",\"Duane Murray\",\"Brian Chamberlain\",\"Michael Cyril Creighton\"]                                      |\n",
       "|  85 | Kimi No Na Wa.                            | 2016 | [\"Animation\",\"Drama\",\"Fantasy\"]    | Makoto Shinkai   | 8.4 | [\"Ryûnosuke Kamiki\",\"Mone Kamishiraishi\",\"Ryô Narita\",\"Aoi Yûki\",\"Nobunaga Shimazaki\",\"Kaito Ishikawa\",\"Kanon Tani\",\"Masaki Terasoma\",\"Sayaka Ôhara\",\"Kazuhiko Inoue\",\"Chafûrin\",\"Kana Hanazawa\",\"Yuka Terasaki\",\"Takashi Onozuka\",\"Yôhei Namekawa\",\"Miyu Tsuji\",\"Shin'ya Hamazoe\",\"Kanami Satô\"]                                                       |\n",
       "| 127 | Dangal                                    | 2016 | [\"Action\",\"Biography\",\"Drama\"]     | Nitesh Tiwari    | 8.3 | [\"Aamir Khan\",\"Sakshi Tanwar\",\"Fatima Sana Shaikh\",\"Sanya Malhotra\",\"Aparshakti Khurana\",\"Zaira Wasim\",\"Suhani Bhatnagar\",\"Ritvik Sahore\",\"Girish Kulkarni\",\"Ravi Aneja\",\"Anurag Arora\",\"Mahesh Balraj\",\"Vivan Bhatena\",\"Anmol Charan\",\"Karamveer Choudhary\",\"Ishika Gagneja\",\"Badrul Islam\",\"Jagbir\"]                                                  |\n",
       "| 197 | Hacksaw Ridge                             | 2016 | [\"Biography\",\"Drama\",\"History\"]    | Mel Gibson       | 8.1 | [\"Andrew Garfield\",\"Sam Worthington\",\"Luke Bracey\",\"Teresa Palmer\",\"Richard Pyros\",\"Jacob Warner\",\"Milo Gibson\",\"Darcy Bryce\",\"Roman Guerriero\",\"James Lugton\",\"Kasia Stelmach\",\"Hugo Weaving\",\"Rachel Griffiths\",\"Jarin Towney\",\"Tim McGarry\",\"Tyler Coppin\",\"Richard Platt\",\"Nathaniel Buzolic\"]                                                      |\n",
       "| 245 | Ah-ga-ssi                                 | 2016 | [\"Drama\",\"Romance\",\"Thriller\"]     | Park Chan-wook   | 8.1 | [\"Kim Min-hee\",\"Ha Jung-woo\",\"Cho Jin-woong\",\"Moon So-ri\",\"Kim Tae-ri\",\"Yong-nyeo Lee\",\"Min-chae Yoo\",\"Dong-hwi Lee\",\"Kim Hae-sook\",\"Kyu-jung Lee\",\"Si-eun Kim\",\"Si-yeon Ha\",\"Rina Takagi\",\"Geun-hee Won\",\"Jong-Dae Kim\",\"Han-sun Jang\",\"Eun-yeong Kim\",\"Ri-woo Kim\"]                                                                                   |\n",
       "|  77 | Coco                                      | 2017 | [\"Animation\",\"Adventure\",\"Comedy\"] | Lee Unkrich      | 8.4 | [\"Anthony Gonzalez\",\"Gael García Bernal\",\"Benjamin Bratt\",\"Alanna Ubach\",\"Renee Victor\",\"Jaime Camil\",\"Alfonso Arau\",\"Herbert Siguenza\",\"Gabriel Iglesias\",\"Lombardo Boyar\",\"Ana Ofelia Murguía\",\"Natalia Cordova-Buckley\",\"Selene Luna\",\"Edward James Olmos\",\"Sofía Espinosa\",\"Carla Medina\",\"Dyana Ortelli\",\"Luis Valdez\"]                            |\n",
       "| 167 | Three Billboards Outside Ebbing, Missouri | 2017 | [\"Comedy\",\"Crime\",\"Drama\"]         | Martin McDonagh  | 8.1 | [\"Frances McDormand\",\"Woody Harrelson\",\"Sam Rockwell\",\"Caleb Landry Jones\",\"Kerry Condon\",\"Alejandro Barrios\",\"Jason Ledford\",\"Darrell Britt-Gibson\",\"Abbie Cornish\",\"Riya May Atwood\",\"Selah Atwood\",\"Lucas Hedges\",\"Zeljko Ivanek\",\"Amanda Warren\",\"Malaya Rivera Drew\",\"Sandy Martin\",\"Peter Dinklage\",\"Christopher Berry\"]                          |\n",
       "| 221 | Logan                                     | 2017 | [\"Action\",\"Drama\",\"Sci-Fi\"]        | James Mangold    | 8.1 | [\"Hugh Jackman\",\"Patrick Stewart\",\"Dafne Keen\",\"Boyd Holbrook\",\"Stephen Merchant\",\"Elizabeth Rodriguez\",\"Richard E. Grant\",\"Eriq La Salle\",\"Elise Neal\",\"Quincy Fouse\",\"Al Coronel\",\"Frank Gallegos\",\"Anthony Escobar\",\"Reynaldo Gallegos\",\"Krzysztof Soszynski\",\"Stephen Dunlevy\",\"Daniel Bernhardt\",\"Ryan Sturz\"]                                     |\n",
       "|  65 | Avengers: Infinity War                    | 2018 | [\"Action\",\"Adventure\",\"Sci-Fi\"]    | Anthony Russo    | 8.4 | [\"Robert Downey Jr.\",\"Chris Hemsworth\",\"Mark Ruffalo\",\"Chris Evans\",\"Scarlett Johansson\",\"Don Cheadle\",\"Benedict Cumberbatch\",\"Tom Holland\",\"Chadwick Boseman\",\"Zoe Saldana\",\"Karen Gillan\",\"Tom Hiddleston\",\"Paul Bettany\",\"Elizabeth Olsen\",\"Anthony Mackie\",\"Sebastian Stan\",\"Idris Elba\",\"Danai Gurira\"]                                            |\n",
       "|  69 | Spider-Man: Into the Spider-Verse         | 2018 | [\"Animation\",\"Action\",\"Adventure\"] | Bob Persichetti  | 8.4 | [\"Shameik Moore\",\"Jake Johnson\",\"Hailee Steinfeld\",\"Mahershala Ali\",\"Brian Tyree Henry\",\"Lily Tomlin\",\"Luna Lauren Velez\",\"Zoë Kravitz\",\"John Mulaney\",\"Kimiko Glenn\",\"Nicolas Cage\",\"Kathryn Hahn\",\"Liev Schreiber\",\"Chris Pine\",\"Natalie Morales\",\"Edwin R. Habacon\",\"Oscar Isaac\",\"Greta Lee\"]                                                       |\n",
       "|  93 | Capharnaüm                                | 2018 | [\"Drama\"]                          | Nadine Labaki    | 8.4 | [\"Zain Al Rafeea\",\"Yordanos Shiferaw\",\"Boluwatife Treasure Bankole\",\"Kawsar Al Haddad\",\"Fadi Yousef\",\"Cedra Izzam\",\"Alaa Chouchnieh\",\"Elias Khoury\",\"Mohammad Al Abdallah\",\"Mohamad Abdellatif\",\"Abdo Abdo\",\"Hampig Abraham\",\"Jamil Ahmad\",\"Mohamad Akkar\",\"Elias Akobegia\",\"Riman Al Rafeea\",\"Legamett Alamou\",\"Majd Nabil Alhalabi\"]                  |\n",
       "| 133 | Green Book                                | 2018 | [\"Biography\",\"Comedy\",\"Drama\"]     | Peter Farrelly   | 8.2 | [\"Viggo Mortensen\",\"Mahershala Ali\",\"Linda Cardellini\",\"Sebastian Maniscalco\",\"Dimiter D. Marinov\",\"Mike Hatton\",\"P.J. Byrne\",\"Joe Cortese\",\"Maggie Nixon\",\"Von Lewis\",\"Jon Sortland\",\"Don Stark\",\"Anthony Mangano\",\"Paul Sloan\",\"Quinn Duffy\",\"Seth Hurwitz\",\"Hudson Galloway\",\"Gavin Lyle Foley\"]                                                     |\n",
       "|  35 | Parasite                                  | 2019 | [\"Comedy\",\"Drama\",\"Thriller\"]      | Bong Joon Ho     | 8.5 | [\"Song Kang-ho\",\"Sun-kyun Lee\",\"Cho Yeo-jeong\",\"Choi Woo-sik\",\"So-dam Park\",\"Lee Jeong-eun\",\"Jang Hye-jin\",\"Park Myeong-hoon\",\"Ji-so Jung\",\"Hyun-jun Jung\",\"Keun-rok Park\",\"Yi-Seo Jung\",\"Jae-myeong Jo\",\"Ik-han Jung\",\"Kyu-baek Kim\",\"Hwang In Kyung\",\"Ahn Seong-Bong\",\"Kim Jin Hyung\"]                                                                |\n",
       "|  72 | Joker                                     | 2019 | [\"Crime\",\"Drama\",\"Thriller\"]       | Todd Phillips    | 8.4 | [\"Joaquin Phoenix\",\"Robert De Niro\",\"Zazie Beetz\",\"Frances Conroy\",\"Brett Cullen\",\"Shea Whigham\",\"Bill Camp\",\"Glenn Fleshler\",\"Leigh Gill\",\"Josh Pais\",\"Rocco Luna\",\"Marc Maron\",\"Sondra James\",\"Murphy Guyer\",\"Douglas Hodge\",\"Dante Pereira-Olson\",\"Carrie Louise Putrello\",\"Sharon Washington\"]                                                      |\n",
       "|  80 | Avengers: Endgame                         | 2019 | [\"Action\",\"Adventure\",\"Drama\"]     | Anthony Russo    | 8.4 | [\"Robert Downey Jr.\",\"Chris Evans\",\"Mark Ruffalo\",\"Chris Hemsworth\",\"Scarlett Johansson\",\"Jeremy Renner\",\"Don Cheadle\",\"Paul Rudd\",\"Benedict Cumberbatch\",\"Chadwick Boseman\",\"Brie Larson\",\"Tom Holland\",\"Karen Gillan\",\"Zoe Saldana\",\"Evangeline Lilly\",\"Tessa Thompson\",\"Rene Russo\",\"Elizabeth Olsen\"]                                               |\n",
       "| 122 | 1917                                      | 2019 | [\"Action\",\"Drama\",\"War\"]           | Sam Mendes       | 8.2 | [\"Dean-Charles Chapman\",\"George MacKay\",\"Daniel Mays\",\"Colin Firth\",\"Pip Carter\",\"Andy Apollo\",\"Paul Tinto\",\"Josef Davies\",\"Billy Postlethwaite\",\"Gabriel Akuwudike\",\"Andrew Scott\",\"Spike Leighton\",\"Robert Maaser\",\"Gerran Howell\",\"Adam Hugill\",\"Mark Strong\",\"Richard McCabe\",\"Benjamin Adams\"]                                                     |\n",
       "| 196 | Klaus                                     | 2019 | [\"Animation\",\"Adventure\",\"Comedy\"] | Sergio Pablos    | 8.1 | [\"Jason Schwartzman\",\"J.K. Simmons\",\"Rashida Jones\",\"Will Sasso\",\"Neda Margrethe Labba\",\"Sergio Pablos\",\"Norm MacDonald\",\"Joan Cusack\",\"Evan Agos\",\"Sky Alexis\",\"Jaeden Bettencourt\",\"Teddy Blum\",\"Mila Brener\",\"Sydney Brower\",\"Finn Carr\",\"Kendall Joy Hall\",\"Hailey Hermida\",\"Lexie Holland\"]                                                        |\n",
       "| 214 | Ford v. Ferrari                           | 2019 | [\"Action\",\"Biography\",\"Drama\"]     | James Mangold    | 8.1 | [\"Matt Damon\",\"Christian Bale\",\"Jon Bernthal\",\"Caitríona Balfe\",\"Josh Lucas\",\"Noah Jupe\",\"Tracy Letts\",\"Remo Girone\",\"Ray McKinnon\",\"JJ Feild\",\"Jack McMullen\",\"Corrado Invernizzi\",\"Joe Williamson\",\"Ian Harding\",\"Christopher Darga\",\"Shawn Law\",\"Emil Beheshti\",\"Darrin Prescott\"]                                                                   |\n",
       "| 119 | Hamilton                                  | 2020 | [\"Biography\",\"Drama\",\"History\"]    | Thomas Kail      | 8.3 | [\"Lin-Manuel Miranda\",\"Phillipa Soo\",\"Leslie Odom Jr.\",\"Renée Elise Goldsberry\",\"Daveed Diggs\",\"Jonathan Groff\",\"Chris Jackson\",\"Jasmine Cephas Jones\",\"Okieriete Onaodowan\",\"Anthony Ramos\",\"Carleigh Bettiol\",\"Ariana DeBose\",\"Hope Easterbrook\",\"Sydney James Harcourt\",\"Sasha Hutchings\",\"Thayne Jasperson\",\"Elizabeth Judd\",\"Jon Rua\"]             |\n",
       "| 132 | The Father                                | 2020 | [\"Drama\",\"Mystery\"]                | Florian Zeller   | 8.2 | [\"Anthony Hopkins\",\"Olivia Colman\",\"Mark Gatiss\",\"Olivia Williams\",\"Imogen Poots\",\"Rufus Sewell\",\"Ayesha Dharker\",\"Roman Zeller\",\"Adnan Kundi\",\"Brian Rodger\",\"Romulus Stoicescu\",\"Evie Wray\"]                                                                                                                                                          |\n",
       "| 128 | Spider-Man: No Way Home                   | 2021 | [\"Action\",\"Adventure\",\"Fantasy\"]   | Jon Watts        | 8.3 | [\"Tom Holland\",\"Zendaya\",\"Benedict Cumberbatch\",\"Jacob Batalon\",\"Jon Favreau\",\"Jamie Foxx\",\"Willem Dafoe\",\"Alfred Molina\",\"Benedict Wong\",\"Tony Revolori\",\"Marisa Tomei\",\"Andrew Garfield\",\"Tobey Maguire\",\"Angourie Rice\",\"Arian Moayed\",\"Paula Newsome\",\"Hannibal Buress\",\"Martin Starr\"]                                                             |\n",
       "| 248 | Jai Bhim                                  | 2021 | [\"Crime\",\"Drama\",\"Mystery\"]        | T.J. Gnanavel    | 8.9 | [\"Suriya\",\"Lijo Mol Jose\",\"Manikandan K.\",\"Rajisha Vijayan\",\"Prakash Raj\",\"Rao Ramesh\",\"Guru Somasundaram\",\"M.S. Bhaskar\",\"V. Jayaprakash\",\"Sibi Thomas\",\"Ilavarasu\",\"Jayarao\",\"Sujatha Sivakumar\",\"Ravi Venkatraman\",\"Tamizh\",\"Kumaravel\",\"Supergood Subramani\",\"Bala Hasan\"]                                                                          |\n",
       "|  45 | Top Gun: Maverick                         | 2022 | [\"Action\",\"Drama\"]                 | Joseph Kosinski  | 8.6 | [\"Tom Cruise\",\"Jennifer Connelly\",\"Miles Teller\",\"Val Kilmer\",\"Bashir Salahuddin\",\"Jon Hamm\",\"Charles Parnell\",\"Monica Barbaro\",\"Lewis Pullman\",\"Jay Ellis\",\"Danny Ramirez\",\"Glen Powell\",\"Jack Schumacher\",\"Manny Jacinto\",\"Kara Wang\",\"Greg Tarzan Davis\",\"Jake Picking\",\"Raymond Lee\"]                                                               |\n",
       "| 153 | Everything Everywhere All at Once         | 2022 | [\"Action\",\"Adventure\",\"Comedy\"]    | Dan Kwan         | 8.2 | [\"Michelle Yeoh\",\"Stephanie Hsu\",\"Ke Huy Quan\",\"James Hong\",\"Jamie Lee Curtis\",\"Tallie Medel\",\"Jenny Slate\",\"Harry Shum Jr.\",\"Randy Newman\",\"Biff Wiff\",\"Sunita Mani\",\"Aaron Lazar\",\"Brian Le\",\"Andy Le\",\"Narayana Cabral\",\"Chelsey Goldsmith\",\"Craig Henningsen\",\"Anthony Molinari\"]                                                                   |\n",
       "\n"
      ],
      "text/plain": [
       "    rank movie_name                                movie_year\n",
       "1   129  The Kid                                   1921      \n",
       "2   194  Sherlock Jr.                              1924      \n",
       "3   175  The Gold Rush                             1925      \n",
       "4   182  The General                               1926      \n",
       "5   114  Metropolis                                1927      \n",
       "6   207  La passion de Jeanne d'Arc                1928      \n",
       "7    52  City Lights                               1931      \n",
       "8    97  M - Eine Stadt sucht einen Mörder         1931      \n",
       "9   241  It Happened One Night                     1934      \n",
       "10   46  Modern Times                              1936      \n",
       "11  158  Gone with the Wind                        1939      \n",
       "12  191  Mr. Smith Goes to Washington              1939      \n",
       "13  222  The Wizard of Oz                          1939      \n",
       "14   63  The Great Dictator                        1940      \n",
       "15  230  The Grapes of Wrath                       1940      \n",
       "16  231  Rebecca                                   1940      \n",
       "17   94  Citizen Kane                              1941      \n",
       "18   42  Casablanca                                1942      \n",
       "19  229  To Be or Not to Be                        1942      \n",
       "20  104  Double Indemnity                          1944      \n",
       "21   21  It's a Wonderful Life                     1946      \n",
       "22  227  The Best Years of Our Lives               1946      \n",
       "23  121  Ladri Di Biciclette                       1948      \n",
       "24  146  The Treasure of the Sierra Madre          1948      \n",
       "25  179  The Third Man                             1949      \n",
       "26   60  Sunset Blvd.                              1950      \n",
       "27  131  All About Eve                             1950      \n",
       "28  148  Rashōmon                                  1950      \n",
       "29   86  Singin' in the Rain                       1952      \n",
       "30  107  Ikiru                                     1952      \n",
       "⋮   ⋮    ⋮                                         ⋮         \n",
       "221 186  Gone Girl                                 2014      \n",
       "222 190  The Grand Budapest Hotel                  2014      \n",
       "223 200  Relatos Salvajes                          2014      \n",
       "224 161  Inside Out                                2015      \n",
       "225 199  Room                                      2015      \n",
       "226 202  Mad Max: Fury Road                        2015      \n",
       "227 217  Spotlight                                 2015      \n",
       "228  85  Kimi No Na Wa.                            2016      \n",
       "229 127  Dangal                                    2016      \n",
       "230 197  Hacksaw Ridge                             2016      \n",
       "231 245  Ah-ga-ssi                                 2016      \n",
       "232  77  Coco                                      2017      \n",
       "233 167  Three Billboards Outside Ebbing, Missouri 2017      \n",
       "234 221  Logan                                     2017      \n",
       "235  65  Avengers: Infinity War                    2018      \n",
       "236  69  Spider-Man: Into the Spider-Verse         2018      \n",
       "237  93  Capharnaüm                                2018      \n",
       "238 133  Green Book                                2018      \n",
       "239  35  Parasite                                  2019      \n",
       "240  72  Joker                                     2019      \n",
       "241  80  Avengers: Endgame                         2019      \n",
       "242 122  1917                                      2019      \n",
       "243 196  Klaus                                     2019      \n",
       "244 214  Ford v. Ferrari                           2019      \n",
       "245 119  Hamilton                                  2020      \n",
       "246 132  The Father                                2020      \n",
       "247 128  Spider-Man: No Way Home                   2021      \n",
       "248 248  Jai Bhim                                  2021      \n",
       "249  45  Top Gun: Maverick                         2022      \n",
       "250 153  Everything Everywhere All at Once         2022      \n",
       "    genre                              director_name        rating\n",
       "1   [\"Comedy\",\"Drama\",\"Family\"]        Charles Chaplin      8.3   \n",
       "2   [\"Action\",\"Comedy\",\"Romance\"]      Buster Keaton        8.2   \n",
       "3   [\"Adventure\",\"Comedy\",\"Drama\"]     Charles Chaplin      8.2   \n",
       "4   [\"Action\",\"Adventure\",\"Comedy\"]    Clyde Bruckman       8.2   \n",
       "5   [\"Drama\",\"Sci-Fi\"]                 Fritz Lang           8.3   \n",
       "6   [\"Biography\",\"Drama\",\"History\"]    Carl Theodor Dreyer  8.2   \n",
       "7   [\"Comedy\",\"Drama\",\"Romance\"]       Charles Chaplin      8.5   \n",
       "8   [\"Crime\",\"Mystery\",\"Thriller\"]     Fritz Lang           8.3   \n",
       "9   [\"Comedy\",\"Romance\"]               Frank Capra          8.1   \n",
       "10  [\"Comedy\",\"Drama\",\"Romance\"]       Charles Chaplin      8.5   \n",
       "11  [\"Drama\",\"Romance\",\"War\"]          Victor Fleming       8.2   \n",
       "12  [\"Comedy\",\"Drama\"]                 Frank Capra          8.1   \n",
       "13  [\"Adventure\",\"Family\",\"Fantasy\"]   Victor Fleming       8.1   \n",
       "14  [\"Comedy\",\"Drama\",\"War\"]           Charles Chaplin      8.4   \n",
       "15  [\"Drama\"]                          John Ford            8.1   \n",
       "16  [\"Drama\",\"Film-Noir\",\"Mystery\"]    Alfred Hitchcock     8.1   \n",
       "17  [\"Drama\",\"Mystery\"]                Orson Welles         8.3   \n",
       "18  [\"Drama\",\"Romance\",\"War\"]          Michael Curtiz       8.5   \n",
       "19  [\"Comedy\",\"Romance\",\"War\"]         Ernst Lubitsch       8.2   \n",
       "20  [\"Crime\",\"Drama\",\"Film-Noir\"]      Billy Wilder         8.3   \n",
       "21  [\"Drama\",\"Family\",\"Fantasy\"]       Frank Capra          8.6   \n",
       "22  [\"Drama\",\"Romance\",\"War\"]          William Wyler        8.1   \n",
       "23  [\"Drama\"]                          Vittorio De Sica     8.3   \n",
       "24  [\"Adventure\",\"Drama\",\"Western\"]    John Huston          8.2   \n",
       "25  [\"Film-Noir\",\"Mystery\",\"Thriller\"] Carol Reed           8.1   \n",
       "26  [\"Drama\",\"Film-Noir\"]              Billy Wilder         8.4   \n",
       "27  [\"Drama\"]                          Joseph L. Mankiewicz 8.2   \n",
       "28  [\"Crime\",\"Drama\",\"Mystery\"]        Akira Kurosawa       8.2   \n",
       "29  [\"Comedy\",\"Musical\",\"Romance\"]     Stanley Donen        8.3   \n",
       "30  [\"Drama\"]                          Akira Kurosawa       8.3   \n",
       "⋮   ⋮                                  ⋮                    ⋮     \n",
       "221 [\"Drama\",\"Mystery\",\"Thriller\"]     David Fincher        8.1   \n",
       "222 [\"Adventure\",\"Comedy\",\"Crime\"]     Wes Anderson         8.1   \n",
       "223 [\"Comedy\",\"Drama\",\"Thriller\"]      Damián Szifron       8.1   \n",
       "224 [\"Animation\",\"Adventure\",\"Comedy\"] Pete Docter          8.2   \n",
       "225 [\"Drama\",\"Thriller\"]               Lenny Abrahamson     8.1   \n",
       "226 [\"Action\",\"Adventure\",\"Sci-Fi\"]    George Miller        8.1   \n",
       "227 [\"Biography\",\"Crime\",\"Drama\"]      Tom McCarthy         8.1   \n",
       "228 [\"Animation\",\"Drama\",\"Fantasy\"]    Makoto Shinkai       8.4   \n",
       "229 [\"Action\",\"Biography\",\"Drama\"]     Nitesh Tiwari        8.3   \n",
       "230 [\"Biography\",\"Drama\",\"History\"]    Mel Gibson           8.1   \n",
       "231 [\"Drama\",\"Romance\",\"Thriller\"]     Park Chan-wook       8.1   \n",
       "232 [\"Animation\",\"Adventure\",\"Comedy\"] Lee Unkrich          8.4   \n",
       "233 [\"Comedy\",\"Crime\",\"Drama\"]         Martin McDonagh      8.1   \n",
       "234 [\"Action\",\"Drama\",\"Sci-Fi\"]        James Mangold        8.1   \n",
       "235 [\"Action\",\"Adventure\",\"Sci-Fi\"]    Anthony Russo        8.4   \n",
       "236 [\"Animation\",\"Action\",\"Adventure\"] Bob Persichetti      8.4   \n",
       "237 [\"Drama\"]                          Nadine Labaki        8.4   \n",
       "238 [\"Biography\",\"Comedy\",\"Drama\"]     Peter Farrelly       8.2   \n",
       "239 [\"Comedy\",\"Drama\",\"Thriller\"]      Bong Joon Ho         8.5   \n",
       "240 [\"Crime\",\"Drama\",\"Thriller\"]       Todd Phillips        8.4   \n",
       "241 [\"Action\",\"Adventure\",\"Drama\"]     Anthony Russo        8.4   \n",
       "242 [\"Action\",\"Drama\",\"War\"]           Sam Mendes           8.2   \n",
       "243 [\"Animation\",\"Adventure\",\"Comedy\"] Sergio Pablos        8.1   \n",
       "244 [\"Action\",\"Biography\",\"Drama\"]     James Mangold        8.1   \n",
       "245 [\"Biography\",\"Drama\",\"History\"]    Thomas Kail          8.3   \n",
       "246 [\"Drama\",\"Mystery\"]                Florian Zeller       8.2   \n",
       "247 [\"Action\",\"Adventure\",\"Fantasy\"]   Jon Watts            8.3   \n",
       "248 [\"Crime\",\"Drama\",\"Mystery\"]        T.J. Gnanavel        8.9   \n",
       "249 [\"Action\",\"Drama\"]                 Joseph Kosinski      8.6   \n",
       "250 [\"Action\",\"Adventure\",\"Comedy\"]    Dan Kwan             8.2   \n",
       "    actors_list                                                                                                                                                                                                                                                                                                                                            \n",
       "1   [\"Charles Chaplin\",\"Edna Purviance\",\"Jackie Coogan\",\"Carl Miller\",\"Albert Austin\",\"Beulah Bains\",\"Nellie Bly Baker\",\"Henry Bergman\",\"Edward Biby\",\"B.F. Blinn\",\"Kitty Bradbury\",\"Frank Campeau\",\"Bliss Chevalier\",\"Frances Cochran\",\"Elsie Codd\",\"Jack Coogan Sr.\",\"Estelle Cook\",\"Lillian Crane\"]                                                     \n",
       "2   [\"Buster Keaton\",\"Kathryn McGuire\",\"Joe Keaton\",\"Erwin Connelly\",\"Ward Crane\",\"Jane Connelly\",\"George Davis\",\"Doris Deane\",\"Christine Francis\",\"Betsy Ann Hisle\",\"Kewpie Morgan\",\"Steve Murphy\",\"John Patrick\",\"Ford West\"]                                                                                                                            \n",
       "3   [\"Charles Chaplin\",\"Mack Swain\",\"Tom Murray\",\"Henry Bergman\",\"Malcolm Waite\",\"Georgia Hale\",\"Jack Adams\",\"Frank Aderias\",\"Leona Aderias\",\"Lillian Adrian\",\"Sam Allen\",\"Claude Anderson\",\"Harry Arras\",\"Albert Austin\",\"Marta Belfort\",\"William Bell\",\"Francis Bernhardt\",\"F.J. Beuaregard\"]                                                            \n",
       "4   [\"Buster Keaton\",\"Marion Mack\",\"Glen Cavender\",\"Jim Farley\",\"Frederick Vroom\",\"Frank Barnes\",\"Charles Henry Smith\",\"Joe Keaton\",\"Mike Donlin\",\"Tom Nawn\",\"Henry Baird\",\"Joe Bricher\",\"Jimmy Bryant\",\"Sergeant Bukowski\",\"C.C. Cruson\",\"Jack Dempster\",\"Keith Fennell\",\"Budd Fine\"]                                                                     \n",
       "5   [\"Brigitte Helm\",\"Alfred Abel\",\"Gustav Fröhlich\",\"Rudolf Klein-Rogge\",\"Fritz Rasp\",\"Theodor Loos\",\"Erwin Biswanger\",\"Heinrich George\",\"Fritz Alberti\",\"Grete Berger\",\"Olly Boeheim\",\"Max Dietze\",\"Ellen Frey\",\"Beatrice Garga\",\"Heinrich Gotho\",\"Dolly Grey\",\"Anny Hintze\",\"Gottfried Huppertz\"]                                                       \n",
       "6   [\"Maria Falconetti\",\"Eugene Silvain\",\"André Berley\",\"Maurice Schutz\",\"Antonin Artaud\",\"Michel Simon\",\"Jean d'Yd\",\"Louis Ravet\",\"Armand Lurville\",\"Jacques Arnna\",\"Alexandre Mihalesco\",\"Léon Larive\",\"Jean Aymé\",\"Gilbert Dacheux\",\"Gilbert Dalleu\",\"Paul Delauzac\",\"Dimitri Dimitriev\",\"Fournez-Goffard\"]                                             \n",
       "7   [\"Charles Chaplin\",\"Virginia Cherrill\",\"Florence Lee\",\"Harry Myers\",\"Al Ernest Garcia\",\"Hank Mann\",\"Johnny Aber\",\"Jack Alexander\",\"T.S. Alexander\",\"Victor Alexander\",\"Albert Austin\",\"Harry Ayers\",\"Eddie Baker\",\"Henry Bergman\",\"Edward Biby\",\"Betty Blair\",\"Buster Brodie\",\"Jeanne Carpenter\"]                                                      \n",
       "8   [\"Peter Lorre\",\"Ellen Widmann\",\"Inge Landgut\",\"Otto Wernicke\",\"Theodor Loos\",\"Gustaf Gründgens\",\"Friedrich Gnaß\",\"Fritz Odemar\",\"Paul Kemp\",\"Theo Lingen\",\"Rudolf Blümner\",\"Georg John\",\"Franz Stein\",\"Ernst Stahl-Nachbaur\",\"Gerhard Bienert\",\"Karl Platen\",\"Rosa Valetti\",\"Hertha von Walther\"]                                                      \n",
       "9   [\"Clark Gable\",\"Claudette Colbert\",\"Walter Connolly\",\"Roscoe Karns\",\"Jameson Thomas\",\"Alan Hale\",\"Arthur Hoyt\",\"Blanche Friderici\",\"Charles C. Wilson\",\"Ernie Adams\",\"Jessie Arnold\",\"Irving Bacon\",\"William Bailey\",\"William Begg\",\"William A. Boardway\",\"Ward Bond\",\"Harry C. Bradley\",\"George P. Breakston\"]                                        \n",
       "10  [\"Charles Chaplin\",\"Paulette Goddard\",\"Henry Bergman\",\"Tiny Sandford\",\"Chester Conklin\",\"Hank Mann\",\"Stanley Blystone\",\"Al Ernest Garcia\",\"Richard Alexander\",\"Cecil Reynolds\",\"Mira McKinney\",\"Murdock MacQuarrie\",\"Wilfred Lucas\",\"Edward LeSaint\",\"Fred Malatesta\",\"Sammy Stein\",\"Juana Sutton\",\"Ted Oliver\"]                                       \n",
       "11  [\"Clark Gable\",\"Vivien Leigh\",\"Thomas Mitchell\",\"Barbara O'Neil\",\"Evelyn Keyes\",\"Ann Rutherford\",\"George Reeves\",\"Fred Crane\",\"Hattie McDaniel\",\"Oscar Polk\",\"Butterfly McQueen\",\"Victor Jory\",\"Everett Brown\",\"Howard Hickman\",\"Alicia Rhett\",\"Leslie Howard\",\"Olivia de Havilland\",\"Rand Brooks\"]                                                    \n",
       "12  [\"James Stewart\",\"Jean Arthur\",\"Claude Rains\",\"Edward Arnold\",\"Guy Kibbee\",\"Thomas Mitchell\",\"Eugene Pallette\",\"Beulah Bondi\",\"H.B. Warner\",\"Harry Carey\",\"Astrid Allwyn\",\"Ruth Donnelly\",\"Grant Mitchell\",\"Porter Hall\",\"H.V. Kaltenborn\",\"Charles Lane\",\"Pierre Watkin\",\"Dick Elliott\"]                                                              \n",
       "13  [\"Judy Garland\",\"Frank Morgan\",\"Ray Bolger\",\"Bert Lahr\",\"Jack Haley\",\"Billie Burke\",\"Margaret Hamilton\",\"Charley Grapewin\",\"Pat Walshe\",\"Clara Blandick\",\"Terry\",\"The Singer Midgets\",\"Franz Balluck\",\"Josefine Balluck\",\"Dorothy Barrett\",\"Amelia Batchelor\",\"Charles Becker\",\"Freda Betsky\"]                                                         \n",
       "14  [\"Charles Chaplin\",\"Paulette Goddard\",\"Jack Oakie\",\"Reginald Gardiner\",\"Henry Daniell\",\"Billy Gilbert\",\"Grace Hayle\",\"Carter DeHaven\",\"Maurice Moscovitch\",\"Emma Dunn\",\"Bernard Gorcey\",\"Paul Weigel\",\"Chester Conklin\",\"Esther Michelson\",\"Hank Mann\",\"Florence Wright\",\"Eddie Gribbon\",\"Rudolph Anders\"]                                             \n",
       "15  [\"Henry Fonda\",\"Jane Darwell\",\"John Carradine\",\"Charley Grapewin\",\"Dorris Bowdon\",\"Russell Simpson\",\"O.Z. Whitehead\",\"John Qualen\",\"Eddie Quillan\",\"Zeffie Tilbury\",\"Frank Sully\",\"Frank Darien\",\"Darryl Hickman\",\"Shirley Mills\",\"Roger Imhof\",\"Grant Mitchell\",\"Charles D. Brown\",\"John Arledge\"]                                                    \n",
       "16  [\"Laurence Olivier\",\"Joan Fontaine\",\"George Sanders\",\"Judith Anderson\",\"Nigel Bruce\",\"Reginald Denny\",\"C. Aubrey Smith\",\"Gladys Cooper\",\"Florence Bates\",\"Melville Cooper\",\"Leo G. Carroll\",\"Leonard Carey\",\"Lumsden Hare\",\"Edward Fielding\",\"Philip Winter\",\"Forrester Harvey\",\"Bunny Beatty\",\"Billy Bevan\"]                                          \n",
       "17  [\"Orson Welles\",\"Joseph Cotten\",\"Dorothy Comingore\",\"Agnes Moorehead\",\"Ruth Warrick\",\"Ray Collins\",\"Erskine Sanford\",\"Everett Sloane\",\"William Alland\",\"Paul Stewart\",\"George Coulouris\",\"Fortunio Bonanova\",\"Gus Schilling\",\"Philip Van Zandt\",\"Georgia Backus\",\"Harry Shannon\",\"Sonny Bupp\",\"Buddy Swan\"]                                            \n",
       "18  [\"Humphrey Bogart\",\"Ingrid Bergman\",\"Paul Henreid\",\"Claude Rains\",\"Conrad Veidt\",\"Sydney Greenstreet\",\"Peter Lorre\",\"S.Z. Sakall\",\"Madeleine Lebeau\",\"Dooley Wilson\",\"Joy Page\",\"John Qualen\",\"Leonid Kinskey\",\"Curt Bois\",\"Abdullah Abbas\",\"Enrique Acosta\",\"Ed Agresti\",\"Arnet Amos\"]                                                                \n",
       "19  [\"Carole Lombard\",\"Jack Benny\",\"Robert Stack\",\"Felix Bressart\",\"Lionel Atwill\",\"Stanley Ridges\",\"Sig Ruman\",\"Tom Dugan\",\"Charles Halton\",\"George Lynn\",\"Henry Victor\",\"Maude Eburne\",\"Halliwell Hobbes\",\"Miles Mander\",\"Rudolph Anders\",\"Paul Barrett\",\"Sven Hugo Borg\",\"Danny Borzage\"]                                                               \n",
       "20  [\"Fred MacMurray\",\"Barbara Stanwyck\",\"Edward G. Robinson\",\"Byron Barr\",\"Porter Hall\",\"Jean Heather\",\"Tom Powers\",\"Richard Gaines\",\"Fortunio Bonanova\",\"John Philliber\",\"Lev Abramov\",\"James Adamson\",\"John Berry\",\"Raymond Chandler\",\"Edmund Cobb\",\"Kernan Cripps\",\"Betty Farrington\",\"Bess Flowers\"]                                                  \n",
       "21  [\"James Stewart\",\"Donna Reed\",\"Lionel Barrymore\",\"Thomas Mitchell\",\"Henry Travers\",\"Beulah Bondi\",\"Frank Faylen\",\"Ward Bond\",\"Gloria Grahame\",\"H.B. Warner\",\"Frank Albertson\",\"Todd Karns\",\"Samuel S. Hinds\",\"Mary Treen\",\"Virginia Patton\",\"Charles Williams\",\"Sarah Edwards\",\"William Edmunds\"]                                                      \n",
       "22  [\"Myrna Loy\",\"Dana Andrews\",\"Fredric March\",\"Teresa Wright\",\"Virginia Mayo\",\"Cathy O'Donnell\",\"Hoagy Carmichael\",\"Harold Russell\",\"Gladys George\",\"Roman Bohnen\",\"Ray Collins\",\"Minna Gombell\",\"Walter Baldwin\",\"Steve Cochran\",\"Dorothy Adams\",\"Don Beddoe\",\"Marlene Aames\",\"Charles Halton\"]                                                         \n",
       "23  [\"Lamberto Maggiorani\",\"Enzo Staiola\",\"Lianella Carell\",\"Elena Altieri\",\"Gino Saltamerenda\",\"Giulio Chiari\",\"Vittorio Antonucci\",\"Michele Sakara\",\"Fausto Guerzoni\",\"Emma Druetti\",\"Carlo Jachino\",\"Giulio Battiferri\",\"Ida Bracci Dorati\",\"Nando Bruno\",\"Eolo Capritti\",\"Memmo Carotenuto\",\"Giovanni Corporale\",\"Veriano Ginesi\"]                     \n",
       "24  [\"Humphrey Bogart\",\"Walter Huston\",\"Tim Holt\",\"Bruce Bennett\",\"Barton MacLane\",\"Alfonso Bedoya\",\"Arturo Soto Rangel\",\"Manuel Dondé\",\"José Torvay\",\"Margarito Luna\",\"Robert Blake\",\"Guillermo Calles\",\"Roberto Cañedo\",\"Spencer Chan\",\"Jacqueline Dalya\",\"Ralph Dunn\",\"Ernesto Escoto\",\"Pat Flaherty\"]                                                  \n",
       "25  [\"Orson Welles\",\"Joseph Cotten\",\"Alida Valli\",\"Trevor Howard\",\"Paul Hörbiger\",\"Ernst Deutsch\",\"Erich Ponto\",\"Siegfried Breuer\",\"Hedwig Bleibtreu\",\"Bernard Lee\",\"Wilfrid Hyde-White\",\"Nelly Arno\",\"Jack Arrow\",\"Harold Ayer\",\"Harry Belcher\",\"Leo Bieber\",\"Paul Birch\",\"Martin Boddey\"]                                                                \n",
       "26  [\"William Holden\",\"Gloria Swanson\",\"Erich von Stroheim\",\"Nancy Olson\",\"Fred Clark\",\"Lloyd Gough\",\"Jack Webb\",\"Franklyn Farnum\",\"Larry J. Blake\",\"Charles Dayton\",\"Cecil B. DeMille\",\"Hedda Hopper\",\"Buster Keaton\",\"Anna Q. Nilsson\",\"H.B. Warner\",\"Ray Evans\",\"Jay Livingston\",\"Fred Aldrich\"]                                                        \n",
       "27  [\"Bette Davis\",\"Anne Baxter\",\"George Sanders\",\"Celeste Holm\",\"Gary Merrill\",\"Hugh Marlowe\",\"Gregory Ratoff\",\"Barbara Bates\",\"Marilyn Monroe\",\"Thelma Ritter\",\"Walter Hampden\",\"Randy Stuart\",\"Craig Hill\",\"Leland Harris\",\"Barbara White\",\"Eddie Fisher\",\"William Pullen\",\"Claude Stroud\"]                                                             \n",
       "28  [\"Toshirô Mifune\",\"Machiko Kyô\",\"Masayuki Mori\",\"Takashi Shimura\",\"Minoru Chiaki\",\"Kichijirô Ueda\",\"Noriko Honma\",\"Daisuke Katô\"]                                                                                                                                                                                                                      \n",
       "29  [\"Gene Kelly\",\"Donald O'Connor\",\"Debbie Reynolds\",\"Jean Hagen\",\"Millard Mitchell\",\"Cyd Charisse\",\"Douglas Fowley\",\"Rita Moreno\",\"Dawn Addams\",\"John Albright\",\"Betty Allen\",\"Sue Allen\",\"John Angelo\",\"Marie Ardell\",\"Bette Arlen\",\"David Bair\",\"Jimmy Bates\",\"Mary Bayless\"]                                                                          \n",
       "30  [\"Takashi Shimura\",\"Nobuo Kaneko\",\"Shin'ichi Himori\",\"Haruo Tanaka\",\"Minoru Chiaki\",\"Miki Odagiri\",\"Bokuzen Hidari\",\"Minosuke Yamada\",\"Kamatari Fujiwara\",\"Makoto Kobori\",\"Nobuo Nakamura\",\"Atsushi Watanabe\",\"Isao Kimura\",\"Masao Shimizu\",\"Yûnosuke Itô\",\"Kumeko Urabe\",\"Eiko Miyoshi\",\"Noriko Honma\"]                                               \n",
       "⋮   ⋮                                                                                                                                                                                                                                                                                                                                                      \n",
       "221 [\"Ben Affleck\",\"Rosamund Pike\",\"Neil Patrick Harris\",\"Tyler Perry\",\"Carrie Coon\",\"Kim Dickens\",\"Patrick Fugit\",\"David Clennon\",\"Lisa Banes\",\"Missi Pyle\",\"Emily Ratajkowski\",\"Casey Wilson\",\"Lola Kirke\",\"Boyd Holbrook\",\"Sela Ward\",\"Lee Norris\",\"Jamie McShane\",\"Leonard Kelly-Young\"]                                                               \n",
       "222 [\"Ralph Fiennes\",\"F. Murray Abraham\",\"Mathieu Amalric\",\"Adrien Brody\",\"Willem Dafoe\",\"Jeff Goldblum\",\"Harvey Keitel\",\"Jude Law\",\"Bill Murray\",\"Edward Norton\",\"Saoirse Ronan\",\"Jason Schwartzman\",\"Léa Seydoux\",\"Tilda Swinton\",\"Tom Wilkinson\",\"Owen Wilson\",\"Tony Revolori\",\"Larry Pine\"]                                                            \n",
       "223 [\"Darío Grandinetti\",\"María Marull\",\"Mónica Villa\",\"Diego Starosta\",\"Marcelo Frasca\",\"Lucila Mangone\",\"María Laura Caccamo\",\"Carlos Alberto Vavassori\",\"Pablo Machado\",\"Horacio Vay\",\"Javier Pedersoli\",\"Héctor Drachtman\",\"María Rosa López Ottonello\",\"Rita Cortese\",\"Julieta Zylberberg\",\"César Bordón\",\"Juan Santiago Linari\",\"Leonardo Sbaraglia\"]\n",
       "224 [\"Amy Poehler\",\"Bill Hader\",\"Lewis Black\",\"Mindy Kaling\",\"Phyllis Smith\",\"Richard Kind\",\"Kaitlyn Dias\",\"Diane Lane\",\"Kyle MacLachlan\",\"Paula Poundstone\",\"Bobby Moynihan\",\"Paula Pell\",\"Dave Goelz\",\"Frank Oz\",\"Josh Cooley\",\"Flea\",\"John Ratzenberger\",\"Carlos Alazraqui\"]                                                                            \n",
       "225 [\"Brie Larson\",\"Jacob Tremblay\",\"Sean Bridgers\",\"Wendy Crewson\",\"Sandy McMaster\",\"Matt Gordon\",\"Amanda Brugel\",\"Joe Pingue\",\"Joan Allen\",\"Zarrin Darnell-Martin\",\"Cas Anvar\",\"William H. Macy\",\"Jee-Yun Lee\",\"Randal Edwards\",\"Justin Mader\",\"Ola Sturik\",\"Rodrigo Fernandez-Stoll\",\"Rory O'Shea\"]                                                     \n",
       "226 [\"Tom Hardy\",\"Charlize Theron\",\"Nicholas Hoult\",\"Zoë Kravitz\",\"Hugh Keays-Byrne\",\"Josh Helman\",\"Nathan Jones\",\"Rosie Huntington-Whiteley\",\"Riley Keough\",\"Abbey Lee\",\"Courtney Eaton\",\"John Howard\",\"Richard Carter\",\"Iota\",\"Angus Sampson\",\"Jennifer Hagan\",\"Megan Gale\",\"Melissa Jaffer\"]                                                            \n",
       "227 [\"Mark Ruffalo\",\"Michael Keaton\",\"Rachel McAdams\",\"Liev Schreiber\",\"John Slattery\",\"Brian d'Arcy James\",\"Stanley Tucci\",\"Elena Wohl\",\"Gene Amoroso\",\"Doug Murray\",\"Sharon McFarlane\",\"Jamey Sheridan\",\"Neal Huff\",\"Billy Crudup\",\"Robert B. Kennedy\",\"Duane Murray\",\"Brian Chamberlain\",\"Michael Cyril Creighton\"]                                     \n",
       "228 [\"Ryûnosuke Kamiki\",\"Mone Kamishiraishi\",\"Ryô Narita\",\"Aoi Yûki\",\"Nobunaga Shimazaki\",\"Kaito Ishikawa\",\"Kanon Tani\",\"Masaki Terasoma\",\"Sayaka Ôhara\",\"Kazuhiko Inoue\",\"Chafûrin\",\"Kana Hanazawa\",\"Yuka Terasaki\",\"Takashi Onozuka\",\"Yôhei Namekawa\",\"Miyu Tsuji\",\"Shin'ya Hamazoe\",\"Kanami Satô\"]                                                      \n",
       "229 [\"Aamir Khan\",\"Sakshi Tanwar\",\"Fatima Sana Shaikh\",\"Sanya Malhotra\",\"Aparshakti Khurana\",\"Zaira Wasim\",\"Suhani Bhatnagar\",\"Ritvik Sahore\",\"Girish Kulkarni\",\"Ravi Aneja\",\"Anurag Arora\",\"Mahesh Balraj\",\"Vivan Bhatena\",\"Anmol Charan\",\"Karamveer Choudhary\",\"Ishika Gagneja\",\"Badrul Islam\",\"Jagbir\"]                                                 \n",
       "230 [\"Andrew Garfield\",\"Sam Worthington\",\"Luke Bracey\",\"Teresa Palmer\",\"Richard Pyros\",\"Jacob Warner\",\"Milo Gibson\",\"Darcy Bryce\",\"Roman Guerriero\",\"James Lugton\",\"Kasia Stelmach\",\"Hugo Weaving\",\"Rachel Griffiths\",\"Jarin Towney\",\"Tim McGarry\",\"Tyler Coppin\",\"Richard Platt\",\"Nathaniel Buzolic\"]                                                     \n",
       "231 [\"Kim Min-hee\",\"Ha Jung-woo\",\"Cho Jin-woong\",\"Moon So-ri\",\"Kim Tae-ri\",\"Yong-nyeo Lee\",\"Min-chae Yoo\",\"Dong-hwi Lee\",\"Kim Hae-sook\",\"Kyu-jung Lee\",\"Si-eun Kim\",\"Si-yeon Ha\",\"Rina Takagi\",\"Geun-hee Won\",\"Jong-Dae Kim\",\"Han-sun Jang\",\"Eun-yeong Kim\",\"Ri-woo Kim\"]                                                                                  \n",
       "232 [\"Anthony Gonzalez\",\"Gael García Bernal\",\"Benjamin Bratt\",\"Alanna Ubach\",\"Renee Victor\",\"Jaime Camil\",\"Alfonso Arau\",\"Herbert Siguenza\",\"Gabriel Iglesias\",\"Lombardo Boyar\",\"Ana Ofelia Murguía\",\"Natalia Cordova-Buckley\",\"Selene Luna\",\"Edward James Olmos\",\"Sofía Espinosa\",\"Carla Medina\",\"Dyana Ortelli\",\"Luis Valdez\"]                           \n",
       "233 [\"Frances McDormand\",\"Woody Harrelson\",\"Sam Rockwell\",\"Caleb Landry Jones\",\"Kerry Condon\",\"Alejandro Barrios\",\"Jason Ledford\",\"Darrell Britt-Gibson\",\"Abbie Cornish\",\"Riya May Atwood\",\"Selah Atwood\",\"Lucas Hedges\",\"Zeljko Ivanek\",\"Amanda Warren\",\"Malaya Rivera Drew\",\"Sandy Martin\",\"Peter Dinklage\",\"Christopher Berry\"]                         \n",
       "234 [\"Hugh Jackman\",\"Patrick Stewart\",\"Dafne Keen\",\"Boyd Holbrook\",\"Stephen Merchant\",\"Elizabeth Rodriguez\",\"Richard E. Grant\",\"Eriq La Salle\",\"Elise Neal\",\"Quincy Fouse\",\"Al Coronel\",\"Frank Gallegos\",\"Anthony Escobar\",\"Reynaldo Gallegos\",\"Krzysztof Soszynski\",\"Stephen Dunlevy\",\"Daniel Bernhardt\",\"Ryan Sturz\"]                                    \n",
       "235 [\"Robert Downey Jr.\",\"Chris Hemsworth\",\"Mark Ruffalo\",\"Chris Evans\",\"Scarlett Johansson\",\"Don Cheadle\",\"Benedict Cumberbatch\",\"Tom Holland\",\"Chadwick Boseman\",\"Zoe Saldana\",\"Karen Gillan\",\"Tom Hiddleston\",\"Paul Bettany\",\"Elizabeth Olsen\",\"Anthony Mackie\",\"Sebastian Stan\",\"Idris Elba\",\"Danai Gurira\"]                                           \n",
       "236 [\"Shameik Moore\",\"Jake Johnson\",\"Hailee Steinfeld\",\"Mahershala Ali\",\"Brian Tyree Henry\",\"Lily Tomlin\",\"Luna Lauren Velez\",\"Zoë Kravitz\",\"John Mulaney\",\"Kimiko Glenn\",\"Nicolas Cage\",\"Kathryn Hahn\",\"Liev Schreiber\",\"Chris Pine\",\"Natalie Morales\",\"Edwin R. Habacon\",\"Oscar Isaac\",\"Greta Lee\"]                                                      \n",
       "237 [\"Zain Al Rafeea\",\"Yordanos Shiferaw\",\"Boluwatife Treasure Bankole\",\"Kawsar Al Haddad\",\"Fadi Yousef\",\"Cedra Izzam\",\"Alaa Chouchnieh\",\"Elias Khoury\",\"Mohammad Al Abdallah\",\"Mohamad Abdellatif\",\"Abdo Abdo\",\"Hampig Abraham\",\"Jamil Ahmad\",\"Mohamad Akkar\",\"Elias Akobegia\",\"Riman Al Rafeea\",\"Legamett Alamou\",\"Majd Nabil Alhalabi\"]                 \n",
       "238 [\"Viggo Mortensen\",\"Mahershala Ali\",\"Linda Cardellini\",\"Sebastian Maniscalco\",\"Dimiter D. Marinov\",\"Mike Hatton\",\"P.J. Byrne\",\"Joe Cortese\",\"Maggie Nixon\",\"Von Lewis\",\"Jon Sortland\",\"Don Stark\",\"Anthony Mangano\",\"Paul Sloan\",\"Quinn Duffy\",\"Seth Hurwitz\",\"Hudson Galloway\",\"Gavin Lyle Foley\"]                                                    \n",
       "239 [\"Song Kang-ho\",\"Sun-kyun Lee\",\"Cho Yeo-jeong\",\"Choi Woo-sik\",\"So-dam Park\",\"Lee Jeong-eun\",\"Jang Hye-jin\",\"Park Myeong-hoon\",\"Ji-so Jung\",\"Hyun-jun Jung\",\"Keun-rok Park\",\"Yi-Seo Jung\",\"Jae-myeong Jo\",\"Ik-han Jung\",\"Kyu-baek Kim\",\"Hwang In Kyung\",\"Ahn Seong-Bong\",\"Kim Jin Hyung\"]                                                               \n",
       "240 [\"Joaquin Phoenix\",\"Robert De Niro\",\"Zazie Beetz\",\"Frances Conroy\",\"Brett Cullen\",\"Shea Whigham\",\"Bill Camp\",\"Glenn Fleshler\",\"Leigh Gill\",\"Josh Pais\",\"Rocco Luna\",\"Marc Maron\",\"Sondra James\",\"Murphy Guyer\",\"Douglas Hodge\",\"Dante Pereira-Olson\",\"Carrie Louise Putrello\",\"Sharon Washington\"]                                                     \n",
       "241 [\"Robert Downey Jr.\",\"Chris Evans\",\"Mark Ruffalo\",\"Chris Hemsworth\",\"Scarlett Johansson\",\"Jeremy Renner\",\"Don Cheadle\",\"Paul Rudd\",\"Benedict Cumberbatch\",\"Chadwick Boseman\",\"Brie Larson\",\"Tom Holland\",\"Karen Gillan\",\"Zoe Saldana\",\"Evangeline Lilly\",\"Tessa Thompson\",\"Rene Russo\",\"Elizabeth Olsen\"]                                              \n",
       "242 [\"Dean-Charles Chapman\",\"George MacKay\",\"Daniel Mays\",\"Colin Firth\",\"Pip Carter\",\"Andy Apollo\",\"Paul Tinto\",\"Josef Davies\",\"Billy Postlethwaite\",\"Gabriel Akuwudike\",\"Andrew Scott\",\"Spike Leighton\",\"Robert Maaser\",\"Gerran Howell\",\"Adam Hugill\",\"Mark Strong\",\"Richard McCabe\",\"Benjamin Adams\"]                                                    \n",
       "243 [\"Jason Schwartzman\",\"J.K. Simmons\",\"Rashida Jones\",\"Will Sasso\",\"Neda Margrethe Labba\",\"Sergio Pablos\",\"Norm MacDonald\",\"Joan Cusack\",\"Evan Agos\",\"Sky Alexis\",\"Jaeden Bettencourt\",\"Teddy Blum\",\"Mila Brener\",\"Sydney Brower\",\"Finn Carr\",\"Kendall Joy Hall\",\"Hailey Hermida\",\"Lexie Holland\"]                                                       \n",
       "244 [\"Matt Damon\",\"Christian Bale\",\"Jon Bernthal\",\"Caitríona Balfe\",\"Josh Lucas\",\"Noah Jupe\",\"Tracy Letts\",\"Remo Girone\",\"Ray McKinnon\",\"JJ Feild\",\"Jack McMullen\",\"Corrado Invernizzi\",\"Joe Williamson\",\"Ian Harding\",\"Christopher Darga\",\"Shawn Law\",\"Emil Beheshti\",\"Darrin Prescott\"]                                                                  \n",
       "245 [\"Lin-Manuel Miranda\",\"Phillipa Soo\",\"Leslie Odom Jr.\",\"Renée Elise Goldsberry\",\"Daveed Diggs\",\"Jonathan Groff\",\"Chris Jackson\",\"Jasmine Cephas Jones\",\"Okieriete Onaodowan\",\"Anthony Ramos\",\"Carleigh Bettiol\",\"Ariana DeBose\",\"Hope Easterbrook\",\"Sydney James Harcourt\",\"Sasha Hutchings\",\"Thayne Jasperson\",\"Elizabeth Judd\",\"Jon Rua\"]            \n",
       "246 [\"Anthony Hopkins\",\"Olivia Colman\",\"Mark Gatiss\",\"Olivia Williams\",\"Imogen Poots\",\"Rufus Sewell\",\"Ayesha Dharker\",\"Roman Zeller\",\"Adnan Kundi\",\"Brian Rodger\",\"Romulus Stoicescu\",\"Evie Wray\"]                                                                                                                                                         \n",
       "247 [\"Tom Holland\",\"Zendaya\",\"Benedict Cumberbatch\",\"Jacob Batalon\",\"Jon Favreau\",\"Jamie Foxx\",\"Willem Dafoe\",\"Alfred Molina\",\"Benedict Wong\",\"Tony Revolori\",\"Marisa Tomei\",\"Andrew Garfield\",\"Tobey Maguire\",\"Angourie Rice\",\"Arian Moayed\",\"Paula Newsome\",\"Hannibal Buress\",\"Martin Starr\"]                                                            \n",
       "248 [\"Suriya\",\"Lijo Mol Jose\",\"Manikandan K.\",\"Rajisha Vijayan\",\"Prakash Raj\",\"Rao Ramesh\",\"Guru Somasundaram\",\"M.S. Bhaskar\",\"V. Jayaprakash\",\"Sibi Thomas\",\"Ilavarasu\",\"Jayarao\",\"Sujatha Sivakumar\",\"Ravi Venkatraman\",\"Tamizh\",\"Kumaravel\",\"Supergood Subramani\",\"Bala Hasan\"]                                                                         \n",
       "249 [\"Tom Cruise\",\"Jennifer Connelly\",\"Miles Teller\",\"Val Kilmer\",\"Bashir Salahuddin\",\"Jon Hamm\",\"Charles Parnell\",\"Monica Barbaro\",\"Lewis Pullman\",\"Jay Ellis\",\"Danny Ramirez\",\"Glen Powell\",\"Jack Schumacher\",\"Manny Jacinto\",\"Kara Wang\",\"Greg Tarzan Davis\",\"Jake Picking\",\"Raymond Lee\"]                                                              \n",
       "250 [\"Michelle Yeoh\",\"Stephanie Hsu\",\"Ke Huy Quan\",\"James Hong\",\"Jamie Lee Curtis\",\"Tallie Medel\",\"Jenny Slate\",\"Harry Shum Jr.\",\"Randy Newman\",\"Biff Wiff\",\"Sunita Mani\",\"Aaron Lazar\",\"Brian Le\",\"Andy Le\",\"Narayana Cabral\",\"Chelsey Goldsmith\",\"Craig Henningsen\",\"Anthony Molinari\"]                                                                  "
      ]
     },
     "metadata": {},
     "output_type": "display_data"
    }
   ],
   "source": [
    "imdb250.raw %>% arrange(movie_year)"
   ]
  },
  {
   "cell_type": "code",
   "execution_count": 38,
   "metadata": {},
   "outputs": [
    {
     "name": "stderr",
     "output_type": "stream",
     "text": [
      "\u001b[1mRows: \u001b[22m\u001b[34m250\u001b[39m \u001b[1mColumns: \u001b[22m\u001b[34m7\u001b[39m\n",
      "\u001b[36m──\u001b[39m \u001b[1mColumn specification\u001b[22m \u001b[36m──────────────────────────────────────────────────────────────────────────────────────────────────────────────────────────────\u001b[39m\n",
      "\u001b[1mDelimiter:\u001b[22m \",\"\n",
      "\u001b[31mchr\u001b[39m (5): movie_name, movie_year, genre, director_name, actors_list\n",
      "\u001b[32mdbl\u001b[39m (2): rank, rating\n",
      "\n",
      "\u001b[36mℹ\u001b[39m Use `spec()` to retrieve the full column specification for this data.\n",
      "\u001b[36mℹ\u001b[39m Specify the column types or set `show_col_types = FALSE` to quiet this message.\n"
     ]
    },
    {
     "name": "stdout",
     "output_type": "stream",
     "text": [
      "\u001b[90m# A tibble: 250 × 7\u001b[39m\n",
      "    rank movie_name                         movie…¹ genre direc…² rating actor…³\n",
      "   \u001b[3m\u001b[90m<dbl>\u001b[39m\u001b[23m \u001b[3m\u001b[90m<chr>\u001b[39m\u001b[23m                              \u001b[3m\u001b[90m<chr>\u001b[39m\u001b[23m   \u001b[3m\u001b[90m<chr>\u001b[39m\u001b[23m \u001b[3m\u001b[90m<chr>\u001b[39m\u001b[23m    \u001b[3m\u001b[90m<dbl>\u001b[39m\u001b[23m \u001b[3m\u001b[90m<chr>\u001b[39m\u001b[23m  \n",
      "\u001b[90m 1\u001b[39m     1 The Shawshank Redemption           1994    \u001b[90m\"\u001b[39m[\\\"… Frank …   99.3 \u001b[90m\"\u001b[39m[\\\"Ti…\n",
      "\u001b[90m 2\u001b[39m     2 The Godfather                      1972    \u001b[90m\"\u001b[39m[\\\"… Franci…    9.2 \u001b[90m\"\u001b[39m[\\\"Ma…\n",
      "\u001b[90m 3\u001b[39m     3 The Dark Knight                    2008    \u001b[90m\"\u001b[39m[\\\"… Christ…    9   \u001b[90m\"\u001b[39m[\\\"Ch…\n",
      "\u001b[90m 4\u001b[39m     4 The Godfather: Part II             1974    \u001b[90m\"\u001b[39m[\\\"… Franci…    9   \u001b[90m\"\u001b[39m[\\\"Al…\n",
      "\u001b[90m 5\u001b[39m     5 12 Angry Men                       1957    \u001b[90m\"\u001b[39m[\\\"… Sidney…    9   \u001b[90m\"\u001b[39m[\\\"He…\n",
      "\u001b[90m 6\u001b[39m     6 Schindler's List                   1993    \u001b[90m\"\u001b[39m[\\\"… Steven…    9   \u001b[90m\"\u001b[39m[\\\"Li…\n",
      "\u001b[90m 7\u001b[39m     7 The Lord of the Rings: The Return… 2003    \u001b[90m\"\u001b[39m[\\\"… Peter …    9   \u001b[90m\"\u001b[39m[\\\"El…\n",
      "\u001b[90m 8\u001b[39m    16 The Matrix                         1999    \u001b[90m\"\u001b[39m[\\\"… Lana W…    8.7 \u001b[90m\"\u001b[39m[\\\"Ke…\n",
      "\u001b[90m 9\u001b[39m    17 Goodfellas                         1990    \u001b[90m\"\u001b[39m[\\\"… Martin…    8.7 \u001b[90m\"\u001b[39m[\\\"Ro…\n",
      "\u001b[90m10\u001b[39m    18 One Flew Over the Cuckoo's Nest    1975    \u001b[90m\"\u001b[39m[\\\"… Milos …    8.7 \u001b[90m\"\u001b[39m[\\\"Ja…\n",
      "\u001b[90m# … with 240 more rows, and abbreviated variable names ¹​movie_year,\u001b[39m\n",
      "\u001b[90m#   ²​director_name, ³​actors_list\u001b[39m\n"
     ]
    }
   ],
   "source": [
    "# download.file(\"https://datasets.stats306.org/imdb250.csv\", \"imdb250.csv\")\n",
    "read_csv('imdb250.csv') %>% print"
   ]
  },
  {
   "cell_type": "markdown",
   "metadata": {},
   "source": [
    "(The CSV contains some data entry errors that you may need to correct.)"
   ]
  },
  {
   "cell_type": "markdown",
   "metadata": {},
   "source": [
    "**(a)** Make a table or other  visualization that shows the year of release, title, and rating for each movie that Tom Hanks starred in."
   ]
  },
  {
   "cell_type": "markdown",
   "metadata": {},
   "source": [
    "**(b)** Make a plot showing the number of top 250 films from each decade. Would you say there was a \"golden age\" of cinema, during which time comparatively more classic films were released?"
   ]
  },
  {
   "cell_type": "markdown",
   "metadata": {},
   "source": [
    "**(c)** How many of the top earning films from Problem 1(d) are in the IMDB top 250? Is there a strong connection between performance at the box office and being rated as an all-time great film?\n"
   ]
  },
  {
   "cell_type": "markdown",
   "metadata": {},
   "source": [
    "\n",
    "**(d)** The earliest movie in this list is 1921's \"The Kid\" (rank 129) starring Charlie Chaplin. We could say that \"The Kid\" was the \"reigning champion\" on this list for six years, until 1927, when another movie (\"Metropolis\", rank 114) came along that is ranked higher. \"Metropolis\" reigned for four years, until another Chaplin Film, \"City Lights\" (rank 52) came along and dethroned it in 1931. Make a visualization showing the each year and the reigning champion for that year, from 1921 to the present.\n"
   ]
  },
  {
   "cell_type": "markdown",
   "metadata": {
    "id": "PANaSHV5Wejw"
   },
   "source": [
    "## Problem 3 (Challenge problem) \n",
    "The following spreadsheet contains data from the [Current Population Survey](https://www.census.gov/data/tables/time-series/demo/educational-attainment/cps-historical-time-series.html) on wages by sex and education level in the U.S.:\n",
    "\n",
    "https://docs.google.com/spreadsheets/d/1N3-Ez5wDVhUgbjy2zsLULrbrYkpVYvDrf-a88-5ED8Q/edit?usp=sharing\n",
    "\n",
    "You can download the spreadsheet to your local/Colab folder by executing:"
   ]
  },
  {
   "cell_type": "code",
   "execution_count": 41,
   "metadata": {
    "id": "q42yNhLKCGXm"
   },
   "outputs": [
    {
     "name": "stderr",
     "output_type": "stream",
     "text": [
      "\u001b[1m\u001b[22mNew names:\n",
      "\u001b[36m•\u001b[39m `` -> `...2`\n",
      "\u001b[36m•\u001b[39m `` -> `...3`\n",
      "\u001b[36m•\u001b[39m `` -> `...4`\n",
      "\u001b[36m•\u001b[39m `` -> `...5`\n",
      "\u001b[36m•\u001b[39m `` -> `...6`\n",
      "\u001b[36m•\u001b[39m `` -> `...7`\n",
      "\u001b[36m•\u001b[39m `` -> `...8`\n",
      "\u001b[36m•\u001b[39m `` -> `...9`\n",
      "\u001b[36m•\u001b[39m `` -> `...10`\n",
      "\u001b[36m•\u001b[39m `` -> `...11`\n",
      "\u001b[36m•\u001b[39m `` -> `...12`\n",
      "\u001b[36m•\u001b[39m `` -> `...13`\n",
      "\u001b[36m•\u001b[39m `` -> `...14`\n",
      "\u001b[36m•\u001b[39m `` -> `...15`\n",
      "\u001b[36m•\u001b[39m `` -> `...16`\n",
      "\u001b[36m•\u001b[39m `` -> `...17`\n",
      "\u001b[36m•\u001b[39m `` -> `...18`\n",
      "\u001b[36m•\u001b[39m `` -> `...19`\n"
     ]
    }
   ],
   "source": [
    "download.file(\"https://datasets.stats306.org/taba-3.xlsx\", 'taba-3.xlsx')\n",
    "taba3 <- readxl::read_xlsx(\"taba-3.xlsx\")"
   ]
  },
  {
   "cell_type": "markdown",
   "metadata": {},
   "source": [
    "As you will see, the data are in a highly non-tidy format. It's your job to tidy them up in order to answer the following questions:"
   ]
  },
  {
   "cell_type": "markdown",
   "metadata": {},
   "source": [
    "**(a)** Across all races and genders, which demographic group earns the most money? The least? How has this changed over time?"
   ]
  },
  {
   "cell_type": "markdown",
   "metadata": {},
   "source": [
    "**(b)** Produce an appropriate visualization showing how the wage gap between college-educated men and women has changed from 1975 to the present. Have there been any sudden shifts in the size of the wage gap that you can see?"
   ]
  },
  {
   "cell_type": "markdown",
   "metadata": {},
   "source": [
    "**(c)** Are women with less education more or less likely to experience a large wage gap compared to highly educated women? Support your reasoning with appropriate statical or visual analysis."
   ]
  },
  {
   "cell_type": "markdown",
   "metadata": {},
   "source": [
    "**(d)** In your opinion, will there ever be parity between male and female pay? If so, when? Support your reasoning with statistical evidence."
   ]
  },
  {
   "cell_type": "markdown",
   "metadata": {},
   "source": [
    "_Note_: Tidying this dataset is challenging. It's okay to use any strategy that works. For example, you might have to \"hardcode\" some column names, rather than having R infer them automatically for you. Use whatever techniques you need to answer the questions above, while minimizing the amount of manual data entry you have to perform."
   ]
  }
 ],
 "metadata": {
  "celltoolbar": "Create Assignment",
  "colab": {
   "collapsed_sections": [
    "WkwFQ7vlWejr"
   ],
   "provenance": []
  },
  "kernelspec": {
   "display_name": "R",
   "language": "R",
   "name": "ir"
  },
  "language_info": {
   "codemirror_mode": "r",
   "file_extension": ".r",
   "mimetype": "text/x-r-source",
   "name": "R",
   "pygments_lexer": "r",
   "version": "4.2.1"
  }
 },
 "nbformat": 4,
 "nbformat_minor": 1
}
