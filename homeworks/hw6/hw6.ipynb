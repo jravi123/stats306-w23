{
 "cells": [
  {
   "cell_type": "code",
   "execution_count": null,
   "metadata": {
    "colab": {
     "base_uri": "https://localhost:8080/"
    },
    "id": "B-U07Ub1Wejm",
    "nbgrader": {
     "grade": false,
     "grade_id": "cell-1be04a157d86c84b",
     "locked": true,
     "schema_version": 3,
     "solution": false
    },
    "outputId": "1eea5c4c-13a1-43fe-e207-95e768aa68a2"
   },
   "outputs": [],
   "source": [
    "library(tidyverse)\n",
    "options(repr.plot.width = 5, repr.plot.height = 4)"
   ]
  },
  {
   "cell_type": "markdown",
   "metadata": {
    "deletable": false,
    "editable": false,
    "id": "VFPX3STQWejq",
    "nbgrader": {
     "grade": false,
     "grade_id": "cell-281caadd66986182",
     "locked": true,
     "schema_version": 3,
     "solution": false
    },
    "run_control": {
     "frozen": true
    }
   },
   "source": [
    "# STATS 306\n",
    "## Homework 6: Importing data\n",
    "\n",
    "Because midterms are coming up, **this homework is shorter than usual**: it is worth 5 points instead of 10. (Problem 3 is worth up to 2 points extra credit.)\n",
    "\n",
    "For each problem, enter the R code in the cell marked \"YOUR SOLUTION HERE\"."
   ]
  },
  {
   "cell_type": "markdown",
   "metadata": {
    "deletable": false,
    "editable": false,
    "id": "WkwFQ7vlWejr",
    "nbgrader": {
     "grade": false,
     "grade_id": "cell-421557d86106e43b",
     "locked": true,
     "schema_version": 3,
     "solution": false
    },
    "run_control": {
     "frozen": true
    }
   },
   "source": [
    "## Problem 1: Scraping with `rvest` (3 points)\n",
    "\n",
    "Use the `rvest` package to answer the following questions."
   ]
  },
  {
   "cell_type": "code",
   "execution_count": null,
   "metadata": {},
   "outputs": [],
   "source": [
    "library(rvest)"
   ]
  },
  {
   "cell_type": "markdown",
   "metadata": {
    "deletable": false,
    "editable": false,
    "run_control": {
     "frozen": true
    }
   },
   "source": [
    "**(a)** [This web page](https://fiscalnote.com/blog/how-old-118th-congress) has a table that records the age of every current U.S. senator. Scrape this table and construct a histogram of the ages (in years) of U.S. senators. *(1 point)*\n",
    "\n",
    "**HINT:** After reading in the above web page with `read_html()`, one way to scrape the table is to use `html_element(\"table\")` followed by `html_table()`. You may also find these functions useful in parts (b) and (c) below."
   ]
  },
  {
   "cell_type": "code",
   "execution_count": null,
   "metadata": {},
   "outputs": [],
   "source": [
    "### YOUR SOLUTION HERE"
   ]
  },
  {
   "cell_type": "markdown",
   "metadata": {
    "deletable": false,
    "editable": false,
    "run_control": {
     "frozen": true
    }
   },
   "source": [
    "**(b)** The following code chunk creates a table of world cities. This table lists the name, country, latitude, and longitude of each city."
   ]
  },
  {
   "cell_type": "code",
   "execution_count": null,
   "metadata": {},
   "outputs": [],
   "source": [
    "install.packages(\"maps\")\n",
    "library(maps)\n",
    "cities <- world.cities %>%\n",
    "            rename(country = country.etc) %>%\n",
    "            mutate(country = replace(country, country == \"UK\", \"England\")) %>%\n",
    "            select(name, country, lat, lon = long)\n",
    "head(cities)"
   ]
  },
  {
   "cell_type": "markdown",
   "metadata": {
    "deletable": false,
    "editable": false,
    "run_control": {
     "frozen": true
    }
   },
   "source": [
    "And this next chunk demonstrates how to create a map of Europe that displays some of the cities in `cities`. "
   ]
  },
  {
   "cell_type": "code",
   "execution_count": null,
   "metadata": {},
   "outputs": [],
   "source": [
    "slice_head(cities, n = 1000) %>%\n",
    "    ggplot(aes(x = lon, y = lat)) +\n",
    "        borders(\"world\") +\n",
    "        geom_point() +\n",
    "        coord_quickmap(xlim = c(-15, 50), ylim = c(35, 75)) +\n",
    "        theme_classic()"
   ]
  },
  {
   "cell_type": "markdown",
   "metadata": {
    "deletable": false,
    "editable": false,
    "run_control": {
     "frozen": true
    }
   },
   "source": [
    "Here is your task: [This web page](https://www.stadiumguide.com/figures-and-statistics/lists/europes-largest-football-stadiums/) has a table that lists the largest soccer stadiums in Europe in terms of seating capacity. Scrape this table and use it to create a map of Europe that shows the locations of the ten largest European soccer stadiums in terms of seating capacity. *(1 point)*\n",
    "\n",
    "**HINT:** You should join your scraped table with `cities` by the city and country columns (e.g., `by = c(City = \"name\", Country = \"country\")`."
   ]
  },
  {
   "cell_type": "code",
   "execution_count": null,
   "metadata": {},
   "outputs": [],
   "source": [
    "### YOUR SOLUTION HERE"
   ]
  },
  {
   "cell_type": "markdown",
   "metadata": {
    "deletable": false,
    "editable": false,
    "run_control": {
     "frozen": true
    }
   },
   "source": [
    "**(c)** [This web page](https://www.boxofficemojo.com/chart/top_lifetime_gross/?area=XWW) has a table that records information about the highest-grossing films of all time. It lists the title and lifetime gross earnings of each film, as well as the year in which it was made.\n",
    "\n",
    "Scrape this table and use `geom_col()` to create a chart of the gross earnings (in billions of US dollars) of the 25 highest-grossing films of all time, and color the bars of this chart by decade. *(1 point)*\n",
    "\n",
    "**HINT 1:** There is a column called Lifetime Gross in the scraped table. To create a new column that drops the $ symbol from Lifetime Gross and changes the scale to billions of US dollars, you can use ``parse_number(`Lifetime Gross`)/1000000000`` inside `mutate()`.\n",
    "\n",
    "**HINT 2:** You can use `case_when()` inside `mutate()` to create a new variable that records the decade of each film."
   ]
  },
  {
   "cell_type": "code",
   "execution_count": null,
   "metadata": {},
   "outputs": [],
   "source": [
    "### YOUR SOLUTION HERE"
   ]
  },
  {
   "cell_type": "markdown",
   "metadata": {
    "deletable": false,
    "editable": false,
    "run_control": {
     "frozen": true
    }
   },
   "source": [
    "## Problem 2: IMDB top 250 (2 points)\n",
    "\n",
    "The following CSV file contains data on the [top 250 rated movies on IMDB](https://www.imdb.com/chart/top):"
   ]
  },
  {
   "cell_type": "code",
   "execution_count": null,
   "metadata": {},
   "outputs": [],
   "source": [
    "# download.file(\"https://datasets.stats306.org/imdb250.csv\", \"imdb250.csv\")\n",
    "\n",
    "# Read in imdb250.csv and clean up the movie_year column\n",
    "imdb250 <- read_csv('imdb250.csv') %>%\n",
    "                mutate(movie_year = as.numeric(str_replace(movie_year, \"l\", \"1\")))\n",
    "head(imdb250)"
   ]
  },
  {
   "cell_type": "markdown",
   "metadata": {
    "deletable": false,
    "editable": false,
    "run_control": {
     "frozen": true
    }
   },
   "source": [
    "**(a)** The following table displays the six movies in the IMDB top 250 in which Tom Hanks appears as an actor:"
   ]
  },
  {
   "cell_type": "raw",
   "metadata": {},
   "source": [
    "A tibble: 6 × 3\n",
    "year\ttitle\t              rating\n",
    "<dbl>\t<chr>\t              <dbl>\n",
    "1994\tForrest Gump\t      8.8\n",
    "1998\tSaving Private Ryan\t  8.6\n",
    "1999\tThe Green Mile\t      8.6\n",
    "1995\tToy Story\t          8.3\n",
    "2010\tToy Story 3\t          8.3\n",
    "2002\tCatch Me If You Can\t  8.1"
   ]
  },
  {
   "cell_type": "markdown",
   "metadata": {
    "deletable": false,
    "editable": false,
    "run_control": {
     "frozen": true
    }
   },
   "source": [
    "Use `dplyr` functions (e.g., `filter()`, `mutate()`, `select()`, `arrange()`) to reproduce this table. Your table should match the above table exactly. *(1 point)*\n",
    "\n",
    "**HINT 1:** You can use the [`str_detect()` function](https://stringr.tidyverse.org/reference/str_detect.html) to find the rows in which \"Tom Hanks\" appears in `actors_list`.\n",
    "\n",
    "**HINT 2:** The movie Forrest Gump is incorrectly listed as Forest Bump in `imdb250`. You will need to fix this in order to match the table exactly."
   ]
  },
  {
   "cell_type": "code",
   "execution_count": null,
   "metadata": {
    "scrolled": true
   },
   "outputs": [],
   "source": [
    "### YOUR SOLUTION HERE"
   ]
  },
  {
   "cell_type": "markdown",
   "metadata": {
    "deletable": false,
    "editable": false,
    "run_control": {
     "frozen": true
    }
   },
   "source": [
    "**(b)** Create a plot that displays the number of top 250 films from each decade. Would you say there was a \"golden age\" of cinema (i.e., an era in which comparatively more good films were released)? *(1 point)*"
   ]
  },
  {
   "cell_type": "code",
   "execution_count": null,
   "metadata": {},
   "outputs": [],
   "source": [
    "### YOUR SOLUTION HERE"
   ]
  },
  {
   "cell_type": "markdown",
   "metadata": {
    "deletable": false,
    "editable": false,
    "id": "PANaSHV5Wejw",
    "run_control": {
     "frozen": true
    }
   },
   "source": [
    "## Problem 3: Extra credit! (2 points)\n",
    "\n",
    "You can earn up to 2 extra credit points for this problem. There are four parts, and each part is worth 0.5 points of extra credit.\n",
    "\n",
    "The following spreadsheet contains data from the [Current Population Survey](https://www.census.gov/data/tables/time-series/demo/educational-attainment/cps-historical-time-series.html) on wages by sex and education level in the U.S.:\n",
    "\n",
    "https://docs.google.com/spreadsheets/d/1N3-Ez5wDVhUgbjy2zsLULrbrYkpVYvDrf-a88-5ED8Q/edit?usp=sharing\n",
    "\n",
    "You can download the spreadsheet to your local/Colab folder by executing:"
   ]
  },
  {
   "cell_type": "code",
   "execution_count": null,
   "metadata": {
    "id": "q42yNhLKCGXm"
   },
   "outputs": [],
   "source": [
    "# download.file(\"https://datasets.stats306.org/taba-3.xlsx\", 'taba-3.xlsx')"
   ]
  },
  {
   "cell_type": "markdown",
   "metadata": {
    "deletable": false,
    "editable": false,
    "run_control": {
     "frozen": true
    }
   },
   "source": [
    "As you will see, the data are in a highly non-tidy format. It's your job to tidy them up in order to answer the following questions.\n",
    "\n",
    "Tidying this dataset is challenging. It's okay to use any strategy that works. For example, you might have to \"hardcode\" some column names, rather than having R infer them automatically for you. Use whatever techniques you need to answer the questions below, while minimizing the amount of manual data entry you have to perform.\n",
    "\n",
    "**HINT:** It helps to look at the spreadsheet to understand the data before trying to fix everything in `R`. \n",
    "\n",
    "**HINT:** The spreadsheet really contains several different datasets, for example, lines 6-52 is the data for all demographics and sexes, and lines 53-99 contain the data just for males. Rather than loading all of the data at once, consider loading only the data that are necessary for the question at hand. This can be done with the argument `range = \"A1:B2\"`, where in this case `A-B` would define the column numbers in the spreadsheet that you want to read into `R`, and `1-2` are the rows that you want to read into `R`. \n",
    "\n",
    "**HINT:** Consider making a vector of column names that could be used for any dataset from the spreadsheet. Pick the column names so that it's easy to remember what the data are, but also convenient to work with in `dplyr`. This can be done \"by hand\" or any other way. \n",
    "\n",
    "While there are many ways you could try to solve the problem, the last two hints suggest you might want to try something like: \n",
    "\n",
    "```\n",
    "readxl::read_xlsx(\n",
    "  'taba-3.xlsx',\n",
    "  range = ____,\n",
    "  col_names = ____,\n",
    "  na = 'N'  # HINT: Some missing data are stored as Ns. \n",
    " )\n",
    "```"
   ]
  },
  {
   "cell_type": "markdown",
   "metadata": {
    "deletable": false,
    "editable": false,
    "run_control": {
     "frozen": true
    }
   },
   "source": [
    "**(a)** Across all races and genders, which level of education earns the most money on average? The least? How has this changed over time? Answer these questions by making an appropriate figure. *(0.5 points extra credit)*"
   ]
  },
  {
   "cell_type": "code",
   "execution_count": null,
   "metadata": {},
   "outputs": [],
   "source": [
    "### YOUR SOLUTION HERE"
   ]
  },
  {
   "cell_type": "markdown",
   "metadata": {
    "deletable": false,
    "editable": false,
    "run_control": {
     "frozen": true
    }
   },
   "source": [
    "**(b)** The figure in part (a) should show that average income has generally increased over the years for each education group. One possible explaination is that money is worth less now than it was in the 70s due to inflation. Do you think the increase in wages has resulted in more spending power for each education level, or is it about the same after accounting for inflation? Support your response by creating an appropriate figure. *(0.5 points extra credit)*\n",
    "\n",
    "\n",
    "**HINT:** You could try to use the average annual inflation to manually adjust annual wages. Because inflation levels change from year to year, a better solution would be to adjust based on the inflation rate for each year. There is an `R` package called `priceR` that helps us do this! Consider installing the package and reading the documentation for the `adjust_for_inflation` function to help adjust for the inflation in the US. "
   ]
  },
  {
   "cell_type": "code",
   "execution_count": null,
   "metadata": {},
   "outputs": [],
   "source": [
    "### YOUR SOLUTION HERE"
   ]
  },
  {
   "cell_type": "markdown",
   "metadata": {
    "deletable": false,
    "editable": false,
    "run_control": {
     "frozen": true
    }
   },
   "source": [
    "**(c)** Use the data from the spreadsheet to produce an appropriate visualization showing how the average wage gap between men and women has changed from 1975 to the present, for all education levels. *(0.5 points extra credit)*\n",
    "\n",
    "**HINTS:** You will need to use the information from two different sections from the spreadsheet, for example, getting the information from the rows that contain data for females of all demographics, and seperately from the rows that contain information about males. Once you have figured out how to appropriately read data from one of these sections, the other section should be similar. You then can combine the two datasets using `bind_rows`."
   ]
  },
  {
   "cell_type": "code",
   "execution_count": null,
   "metadata": {},
   "outputs": [],
   "source": [
    "### YOUR SOLUTION HERE"
   ]
  },
  {
   "cell_type": "markdown",
   "metadata": {
    "deletable": false,
    "editable": false,
    "run_control": {
     "frozen": true
    }
   },
   "source": [
    "**(d)** Create the same figure from above but this time account for inflation using the same technique used in previous questions. How has the \"spending power gap\" increased over time? *(0.5 points extra credit)*"
   ]
  },
  {
   "cell_type": "code",
   "execution_count": null,
   "metadata": {},
   "outputs": [],
   "source": [
    "### YOUR SOLUTION HERE"
   ]
  }
 ],
 "metadata": {
  "celltoolbar": "Create Assignment",
  "colab": {
   "collapsed_sections": [
    "WkwFQ7vlWejr"
   ],
   "provenance": []
  },
  "kernelspec": {
   "display_name": "R",
   "language": "R",
   "name": "ir"
  },
  "language_info": {
   "codemirror_mode": "r",
   "file_extension": ".r",
   "mimetype": "text/x-r-source",
   "name": "R",
   "pygments_lexer": "r",
   "version": "4.2.1"
  }
 },
 "nbformat": 4,
 "nbformat_minor": 1
}