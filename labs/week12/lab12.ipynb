{
 "cells": [
  {
   "cell_type": "markdown",
   "id": "f9f8ab3d",
   "metadata": {},
   "source": [
    "# Lab 12"
   ]
  },
  {
   "cell_type": "code",
   "execution_count": null,
   "id": "3ee1e2aa",
   "metadata": {
    "scrolled": true
   },
   "outputs": [],
   "source": [
    "library(tidyverse)\n",
    "\n",
    "# install.packages(\"nycflights13\")\n",
    "# install.packages(\"palmerpenguins\")\n",
    "# install.packages(\"gapminder\")\n",
    "library(nycflights13)\n",
    "library(palmerpenguins)\n",
    "library(gapminder)"
   ]
  },
  {
   "cell_type": "markdown",
   "id": "04e55b0b",
   "metadata": {},
   "source": [
    "## Functions"
   ]
  },
  {
   "cell_type": "markdown",
   "id": "304ba7c3",
   "metadata": {},
   "source": [
    "This section of the lab is about **functions**, which are covered in [chapter 26](https://r4ds.hadley.nz/functions.html) of the textbook."
   ]
  },
  {
   "cell_type": "markdown",
   "id": "54b4f893",
   "metadata": {},
   "source": [
    "### Overview\n",
    "\n",
    "We've been using functions all semester — e.g., `dplyr` functions like `filter()` and `mutate()`, `ggplot2` functions like `geom_line()` and `geom_bar()`, `stringr` functions like `str_detect()` and `str_sub()`, `forcats` functions like `fct_reorder()` and `fct_collapse()`, and so on. All of the functions we've seen so far are built into `R` (or some `R` package), but we can also define our own functions.\n",
    "\n",
    "**User-defined functions** are helpful for automating specific tasks that you find yourself repeating often. Instead of copying and pasting the same few lines of code a dozen times and making minor changes to each chunk, you can throw those few lines of code into a function and simply call the function whenever you need it. This makes your code more efficient and easier to read, and it also helps you stay organized as a data scientist.\n",
    "\n",
    "Here's what a user-defined function looks like:"
   ]
  },
  {
   "cell_type": "code",
   "execution_count": null,
   "id": "2e6a87a4",
   "metadata": {
    "deletable": false,
    "editable": false,
    "run_control": {
     "frozen": true
    }
   },
   "outputs": [],
   "source": [
    "name <- function(arguments) {\n",
    "    body\n",
    "}"
   ]
  },
  {
   "cell_type": "markdown",
   "id": "34197ff9",
   "metadata": {},
   "source": [
    "As you can see, functions have three components:\n",
    "\n",
    "1. **Name** - You should be smart when naming your functions. Choose something short and descriptive. For example, if you write a function that adds a question mark to the end of a string, you should name it something like `add_question_mark`. If you write a function that converts a birthdate to an age in years, you should name it something like `birthdate_to_age`.\n",
    "2. **Argument(s)** - The argument(s) are the things that vary across function calls. They are usually either (i) data to be processed by the function or (ii) options that affect how the data is processed.\n",
    "3. **Body** - The function body is the code that runs each time you call the function. The body is the main part of a function — it executes a task based on the arguments, usually either by modifying the data you pass into the function or by creating something new based on the arguments."
   ]
  },
  {
   "cell_type": "markdown",
   "id": "0a768fa0",
   "metadata": {},
   "source": [
    "### Vector functions\n",
    "\n",
    "Let's see an example. The columns of the following data frame contain randomly generated dollar amounts:"
   ]
  },
  {
   "cell_type": "code",
   "execution_count": null,
   "id": "8f19af70",
   "metadata": {
    "scrolled": false
   },
   "outputs": [],
   "source": [
    "set.seed(306)\n",
    "(df <- tibble(\n",
    "   col1 = str_c(\"$\", round(rnorm(n = 10, mean = 96, sd = 23), 2)),\n",
    "   col2 = str_c(\"$\", round(rnorm(n = 10, mean = 96, sd = 23), 2)),\n",
    "   col3 = str_c(\"$\", round(rnorm(n = 10, mean = 96, sd = 23), 2)),\n",
    "   col4 = str_c(\"$\", round(rnorm(n = 10, mean = 96, sd = 23), 2)),\n",
    "   col5 = str_c(\"$\", round(rnorm(n = 10, mean = 96, sd = 23), 2))\n",
    "))"
   ]
  },
  {
   "cell_type": "markdown",
   "id": "8e50376e",
   "metadata": {},
   "source": [
    "Suppose we want to remove the dollar sign from these quantities, convert each column to [z-scores](https://en.wikipedia.org/wiki/Standard_score), and then round these z-scores to the nearest tenth. One way to do this is to mutate each of the five columns, using the same long line of code for each column. This looks a bit ugly:"
   ]
  },
  {
   "cell_type": "code",
   "execution_count": null,
   "id": "463f484d",
   "metadata": {},
   "outputs": [],
   "source": [
    "df %>%\n",
    "  mutate(\n",
    "      col1 = round((parse_number(col1) - mean(parse_number(col1)))/sd(parse_number(col1)), 1),\n",
    "      col2 = round((parse_number(col2) - mean(parse_number(col2)))/sd(parse_number(col2)), 1),\n",
    "      col3 = round((parse_number(col3) - mean(parse_number(col3)))/sd(parse_number(col3)), 1),\n",
    "      col4 = round((parse_number(col4) - mean(parse_number(col4)))/sd(parse_number(col4)), 1),\n",
    "      col5 = round((parse_number(col5) - mean(parse_number(col5)))/sd(parse_number(col5)), 1),\n",
    "  )"
   ]
  },
  {
   "cell_type": "markdown",
   "id": "0687dfac",
   "metadata": {},
   "source": [
    "Alternatively, we can throw that long line of code into a simple function called `dollar_to_zscore()` and then apply this function to each column:"
   ]
  },
  {
   "cell_type": "code",
   "execution_count": null,
   "id": "803a8e0e",
   "metadata": {
    "scrolled": false
   },
   "outputs": [],
   "source": [
    "dollar_to_zscore = function(x) {\n",
    "    round((parse_number(x) - mean(parse_number(x)))/sd(parse_number(x)), 1)\n",
    "}\n",
    "\n",
    "df %>%\n",
    "  mutate(\n",
    "      col1 = dollar_to_zscore(col1),\n",
    "      col2 = dollar_to_zscore(col2),\n",
    "      col3 = dollar_to_zscore(col3),\n",
    "      col4 = dollar_to_zscore(col4),\n",
    "      col5 = dollar_to_zscore(col5),\n",
    "  )\n",
    "\n",
    "# What happens if there are 100s or 1000s of columns? We'll discuss this later. "
   ]
  },
  {
   "cell_type": "markdown",
   "id": "678c0186",
   "metadata": {},
   "source": [
    "Note that the **name** of our function is `dollar_to_zscore()`. It takes one **argument**, `x`, which is a vector of dollar amounts. The **body** of the function is the line of code that converts the dollar amounts to rounded z-scores.\n",
    "\n",
    "Since the input and output of `dollar_to_zscore()` are both vectors, we call it a **vector function**. More generally, a vector function is any function that takes in one or more vectors and returns a vector.\n",
    "\n",
    "There are two important families of vector functions:\n",
    "\n",
    "1. If a vector function returns a vector of the same length as the input vector, we call it a **mutate function**. Mutate functions work well inside of `mutate()` and `filter()`. Our function `dollar_to_zscore()` is a mutate function.\n",
    "2. If a vector function returns a single value (i.e., a vector of length one), we call it a **summary function**. Summary functions work well inside of `summarize()`.\n",
    "\n",
    "Here's an example of a summary function:"
   ]
  },
  {
   "cell_type": "code",
   "execution_count": null,
   "id": "a8791f9a",
   "metadata": {},
   "outputs": [],
   "source": [
    "proportion_both_positive <- function(x, y) {\n",
    "    mean(x > 0 & y > 0, na.rm = TRUE)\n",
    "}\n",
    "\n",
    "# It's always a good idea to test your function to make sure it's working properly:\n",
    "proportion_both_positive(c(-1, 20, 13, 9, 0),\n",
    "                         c(4, 4, 3, 2, 1))\n",
    "# The function returns 0.6, which is correct\n",
    "# In practice, it's a good idea to run a bunch of different test cases"
   ]
  },
  {
   "cell_type": "markdown",
   "id": "f1f732b8",
   "metadata": {},
   "source": [
    "Of course, user-defined functions are more useful and interesting when they can be applied to real data sets. For example, we can apply `proportion_both_positive()` to the `flights` data set to compute the proportion of flights for each carrier that had both a positive `dep_delay` and a positive `arr_delay`:"
   ]
  },
  {
   "cell_type": "code",
   "execution_count": null,
   "id": "6f19cee0",
   "metadata": {},
   "outputs": [],
   "source": [
    "flights %>%\n",
    "  group_by(carrier) %>%\n",
    "  summarize(prop_both_delays = proportion_both_positive(dep_delay, arr_delay)) %>%\n",
    "  arrange(desc(prop_both_delays))"
   ]
  },
  {
   "cell_type": "markdown",
   "id": "dd1c039c",
   "metadata": {},
   "source": [
    "### Exercise 1"
   ]
  },
  {
   "cell_type": "markdown",
   "id": "d14d4dde",
   "metadata": {},
   "source": [
    "**The sample variance of a numeric vector `x` is defined as**\n",
    "$$ \\mathbf{S^2 = \\frac{1}{n-1} \\sum_{i=1}^n (x_i - \\bar{x})^2,} $$\n",
    "**where $\\mathbf{\\bar{x} = \\frac{1}{n} \\sum_{i=1}^n x_i}$ is the sample mean.**\n",
    "\n",
    "**Write a function called `variance()` that computes the sample variance of a numeric vector `x`. Your function should remove missing values in `x`. Is `variance()` a mutate function or a summary function?**\n",
    "\n",
    "**Test your function on the vector `z = c(-1, 7, 4, 4, NA, 13, 6)`. Your function should produce the same result as the `var()` function that is built into `R` — i.e., `var(z, na.rm = TRUE)` should give you the same thing as `variance(z)`.**\n",
    "\n",
    "**As another test, use your function to compute the variance of `Sepal.Width` for each `Species` in the `iris` data set. Check to make sure that `variance()` gives you the same result as `var()`.**"
   ]
  },
  {
   "cell_type": "code",
   "execution_count": null,
   "id": "0b26ed9e",
   "metadata": {},
   "outputs": [],
   "source": []
  },
  {
   "cell_type": "code",
   "execution_count": null,
   "id": "1fc99394",
   "metadata": {},
   "outputs": [],
   "source": [
    "#@title Solution to exercise 1\n",
    "\n",
    "# Write function\n",
    "variance <- function(x) {\n",
    "  x <- na.omit(x)\n",
    "    \n",
    "  n <- length(x)\n",
    "    \n",
    "  xbar <- mean(x)\n",
    "    \n",
    "  (1/(n-1)) * sum((x-xbar)^2)\n",
    "}\n",
    "\n",
    "# Test 1\n",
    "z = c(-1, 7, 4, 4, NA, 13, 6)\n",
    "variance(z)\n",
    "var(z, na.rm = TRUE)\n",
    "\n",
    "# Test 2\n",
    "iris %>%\n",
    "  group_by(Species) %>%\n",
    "  summarize(var_sepal_width = variance(Sepal.Width))\n",
    "\n",
    "iris %>%\n",
    "  group_by(Species) %>%\n",
    "  summarize(var_sepal_width = var(Sepal.Width, na.rm = TRUE))"
   ]
  },
  {
   "cell_type": "markdown",
   "id": "466b1c9d",
   "metadata": {},
   "source": [
    "### Data frame functions"
   ]
  },
  {
   "cell_type": "markdown",
   "id": "8dd80e0e",
   "metadata": {},
   "source": [
    "A **data frame function** is a function that takes a data frame as input and returns a data frame as output. This type of function is useful for automating general tasks that can be applied to different data frames.\n",
    "\n",
    "The principles of function writing that we learned for vector functions also apply here, but there's an additional concept called **embracing** that we need to keep in mind when writing a data frame function. To see what embracing is and why we need it, consider the following function:"
   ]
  },
  {
   "cell_type": "code",
   "execution_count": null,
   "id": "b386b17e",
   "metadata": {},
   "outputs": [],
   "source": [
    "group_max <- function(df, group_variable, max_variable) {\n",
    "    df %>%\n",
    "      group_by(group_variable) %>%\n",
    "      summarize(max = max(max_variable))\n",
    "}"
   ]
  },
  {
   "cell_type": "markdown",
   "id": "7a1028d9",
   "metadata": {},
   "source": [
    "This function takes in a data frame `df`, groups by `group_variable`, and computes the maximum of `max_variable` for each group. This seems like it should work, but look what happens when we try to compute the maximum `Petal.Width` of each `Species` in `iris`:"
   ]
  },
  {
   "cell_type": "code",
   "execution_count": null,
   "id": "8da76a31",
   "metadata": {
    "scrolled": true
   },
   "outputs": [],
   "source": [
    "iris %>%\n",
    "  group_max(Species, Petal.Width)"
   ]
  },
  {
   "cell_type": "markdown",
   "id": "e54365c3",
   "metadata": {},
   "source": [
    "We get an error message :( But fortunately, the error message tells us what went wrong: `group_by()` literally tried to group by a variable called `group_variable`, but there is no column called `group_variable` in `iris`.\n",
    "\n",
    "This happened because of something called **tidy evaluation**. Tidy evaluation is a characteristic of `dplyr` functions, and it is almost always a good thing — it's what allows us to directly refer to the column names of a data frame inside of functions like `mutate()` and `filter()` without using the `data$variable` syntax that is required in base `R`.\n",
    "\n",
    "More specifically, in the line `group_by(group_variable)` in the function definition, `group_by()` assumed that we were literally referring to a variable called `group_variable` because it is designed to do tidy evaluation by default. To get around this, we need to modify the function definition by **embracing** `group_variable` in `group_by()`. For the same reason, we need to embrace `max_variable` in `summarize()`. Embracing just means putting double braces around these variables:"
   ]
  },
  {
   "cell_type": "code",
   "execution_count": null,
   "id": "9d331308",
   "metadata": {},
   "outputs": [],
   "source": [
    "group_max <- function(df, group_variable, max_variable) {\n",
    "    df %>%\n",
    "      group_by({{group_variable}}) %>%\n",
    "      summarize(max = max({{max_variable}}))\n",
    "}"
   ]
  },
  {
   "cell_type": "markdown",
   "id": "fd8a00d5",
   "metadata": {},
   "source": [
    "Now our `Petal.Width` example will work as expected:"
   ]
  },
  {
   "cell_type": "code",
   "execution_count": null,
   "id": "d80205a6",
   "metadata": {
    "scrolled": false
   },
   "outputs": [],
   "source": [
    "iris %>%\n",
    "  group_max(Species, Petal.Width)"
   ]
  },
  {
   "cell_type": "markdown",
   "id": "ba998b12",
   "metadata": {},
   "source": [
    "### Exercise 2"
   ]
  },
  {
   "cell_type": "markdown",
   "id": "6552d903",
   "metadata": {},
   "source": [
    "**Write a function called `summarize_by_group()` that takes three arguments: `df`, `group_variable`, and `summary_variable`. This function should take `df`, group by `group_variable`, and then compute the following summary statistics for `summary_variable` for each group:**\n",
    "\n",
    "- **Minimum**\n",
    "- **Median**\n",
    "- **Mean**\n",
    "- **Maximum**\n",
    "- **Standard deviation**\n",
    "- **Proportion of missing values**\n",
    "\n",
    "**Your function should remove missing values when computing the minimum, median, mean, maximum, and standard deviation.**\n",
    "\n",
    "**Test your function on the following pairs of summary and group variables:**\n",
    "\n",
    "- **`dep_delay` for each `origin` in `flights`**\n",
    "- **`price` for each `cut` in `diamonds`**\n",
    "- **`tvhours` for each `marital` status in `gss_cat`**"
   ]
  },
  {
   "cell_type": "code",
   "execution_count": null,
   "id": "bd47c145",
   "metadata": {},
   "outputs": [],
   "source": []
  },
  {
   "cell_type": "code",
   "execution_count": null,
   "id": "553250c2",
   "metadata": {},
   "outputs": [],
   "source": [
    "#@title Solution to exercise 2\n",
    "\n",
    "# Write function\n",
    "summarize_by_group <- function(df, group_variable, summary_variable) {\n",
    "    df %>%\n",
    "      group_by({{group_variable}}) %>%\n",
    "      summarize(\n",
    "        min = min({{summary_variable}}, na.rm = TRUE),\n",
    "        median = median({{summary_variable}}, na.rm = TRUE),\n",
    "        mean = mean({{summary_variable}}, na.rm = TRUE),\n",
    "        max = max({{summary_variable}}, na.rm = TRUE),\n",
    "        sd = sd({{summary_variable}}, na.rm = TRUE),\n",
    "        prop_missing = mean(is.na({{summary_variable}}))\n",
    "      )\n",
    "}\n",
    "\n",
    "# Test function on flights\n",
    "flights %>% summarize_by_group(origin, dep_delay)\n",
    "\n",
    "# Test function on diamonds\n",
    "diamonds %>% summarize_by_group(cut, price)\n",
    "# Notice that there are no missing values in this data set\n",
    "\n",
    "# Test function on gss_cat\n",
    "gss_cat %>% summarize_by_group(marital, tvhours)"
   ]
  },
  {
   "cell_type": "markdown",
   "id": "9fbb584d",
   "metadata": {},
   "source": [
    "### Plot functions"
   ]
  },
  {
   "cell_type": "markdown",
   "id": "b0e3f85c",
   "metadata": {},
   "source": [
    "A **plot function** is a function that takes a data frame as input and returns a plot as output. If you want to make a bunch of similar plots (e.g., for different variables in one data frame; with different plot settings for the same variable in one data frame; for similar variables in different data frames), it might be worth writing a plot function.\n",
    "\n",
    "One thing to keep in mind here is that the `aes()` function in `ggplot2` uses tidy evaluation, so we need to use **embracing** inside `aes()`.\n",
    "\n",
    "Here's an example of a plot function that creates a histogram of a numeric variable `variable` from a data frame `df` with `n_bins` bins:"
   ]
  },
  {
   "cell_type": "code",
   "execution_count": null,
   "id": "34bccb63",
   "metadata": {
    "scrolled": false
   },
   "outputs": [],
   "source": [
    "create_histogram <- function(df, variable, n_bins) {\n",
    "    df %>%\n",
    "      filter(!is.na({{variable}})) %>%\n",
    "      ggplot(aes(x = {{variable}})) +\n",
    "      geom_histogram(bins = n_bins, fill = \"saddlebrown\") +\n",
    "      labs(title = rlang::englue(\"Histogram of {{variable}}\")) +\n",
    "      theme_linedraw()\n",
    "}\n",
    "\n",
    "# Histograms of flipper length from the penguins data frame with 5, 10, and 25 bins\n",
    "penguins %>%\n",
    "  create_histogram(flipper_length_mm, n_bins = 5)\n",
    "\n",
    "penguins %>%\n",
    "  create_histogram(flipper_length_mm, n_bins = 10)\n",
    "\n",
    "penguins %>%\n",
    "  create_histogram(flipper_length_mm, n_bins = 25)"
   ]
  },
  {
   "cell_type": "markdown",
   "id": "f3214403",
   "metadata": {},
   "source": [
    "One cool trick you might notice in this example is our use of the `englue()` function from the `rlang` package, which allows us to pass the name of `variable` into the labels of our plot."
   ]
  },
  {
   "cell_type": "markdown",
   "id": "257ac45a",
   "metadata": {},
   "source": [
    "### Exercise 3"
   ]
  },
  {
   "cell_type": "markdown",
   "id": "bbf6e8ee",
   "metadata": {},
   "source": [
    "**Write a function called `create_scatterplot` that takes three arguments: `df`, `x_variable`, and `y_variable`. Your function should create a scatterplot with `x_variable` on the x-axis and `y_variable` on the y-axis, and it should use `geom_smooth()` to overlay a smoothing line on the plot.**\n",
    "\n",
    "**Test your function by creating scatterplots for the following pairs of variables from the `penguins` data frame:**\n",
    "\n",
    "- **`body_mass_g` and `flipper_length_mm`**\n",
    "- **`bill_length_mm` and `bill_depth_mm`**\n",
    "- **`bill_length_mm` and `flipper_length_mm`**"
   ]
  },
  {
   "cell_type": "code",
   "execution_count": null,
   "id": "4c74b9a6",
   "metadata": {},
   "outputs": [],
   "source": []
  },
  {
   "cell_type": "code",
   "execution_count": null,
   "id": "6d012816",
   "metadata": {},
   "outputs": [],
   "source": [
    "#@title Solution to exercise 3\n",
    "\n",
    "# Write function\n",
    "create_scatterplot <- function(df, x_variable, y_variable) {\n",
    "    df %>%\n",
    "      filter(!is.na({{x_variable}}), !is.na({{y_variable}})) %>%\n",
    "      ggplot(aes(x = {{x_variable}}, y = {{y_variable}})) +\n",
    "        geom_point(col = \"gray60\") +\n",
    "        geom_smooth(col = \"deepskyblue3\", linewidth = 2, se = FALSE) +\n",
    "        labs(title = rlang::englue(\"Scatterplot of {{x_variable}} vs. {{y_variable}}\")) +\n",
    "        theme_linedraw()\n",
    "}\n",
    "\n",
    "# Create scatterplot of body_mass_g vs. flipper_length_mm\n",
    "penguins %>% create_scatterplot(body_mass_g, flipper_length_mm)\n",
    "\n",
    "# Create scatterplot of bill_length_mm vs. bill_depth_mm\n",
    "penguins %>% create_scatterplot(bill_length_mm, bill_depth_mm)\n",
    "\n",
    "# Create scatterplot of bill_length_mm vs. flipper_length_mm\n",
    "penguins %>% create_scatterplot(bill_length_mm, flipper_length_mm)"
   ]
  },
  {
   "cell_type": "markdown",
   "id": "6afcbaa4",
   "metadata": {},
   "source": [
    "## Iteration"
   ]
  },
  {
   "cell_type": "markdown",
   "id": "07272c9b",
   "metadata": {},
   "source": [
    "This section of the lab is about **iteration**, which is covered in [chapter 27](https://r4ds.hadley.nz/iteration.html) of the textbook."
   ]
  },
  {
   "cell_type": "markdown",
   "id": "9eb7a9de",
   "metadata": {},
   "source": [
    "### Overview \n",
    "\n",
    "Often when we are programming we find ourselves wanting to repeat the same task over and over. For example, we might be interested in taking the average of each numeric column in a `data.frame`, or applying the same function to each element of a list. If the problem is small enough, copying and pasting code can be an effective way to do this, but often this is inefficient and can become burdensome very quickly. A better approach is using *iterating* tools. \n",
    "\n",
    "One group of iterating tools include `for` and `while` loops. These loops are sometimes very useful, but often are slower, take up more lines of code, and are less memory efficient than functions like `across` and `map` (discussed later). \n",
    "\n",
    "Consider the previous example of converting dollars to z-scores. We previously wrote a function that will convert columns into z-scores for us, but we copy and pasted this function for each column:"
   ]
  },
  {
   "cell_type": "code",
   "execution_count": null,
   "id": "6ec77336",
   "metadata": {},
   "outputs": [],
   "source": [
    "dollar_to_zscore = function(x) {\n",
    "    round((parse_number(x) - mean(parse_number(x)))/sd(parse_number(x)), 1)\n",
    "}\n",
    "\n",
    "set.seed(306)\n",
    "df <- tibble(\n",
    "   col1 = str_c(\"$\", round(rnorm(n = 10, mean = 96, sd = 23), 2)),\n",
    "   col2 = str_c(\"$\", round(rnorm(n = 10, mean = 96, sd = 23), 2)),\n",
    "   col3 = str_c(\"$\", round(rnorm(n = 10, mean = 96, sd = 23), 2)),\n",
    "   col4 = str_c(\"$\", round(rnorm(n = 10, mean = 96, sd = 23), 2)),\n",
    "   col5 = str_c(\"$\", round(rnorm(n = 10, mean = 96, sd = 23), 2))\n",
    ")\n",
    "\n",
    "df %>%\n",
    "  mutate(\n",
    "      col1 = dollar_to_zscore(col1),\n",
    "      col2 = dollar_to_zscore(col2),\n",
    "      col3 = dollar_to_zscore(col3),\n",
    "      col4 = dollar_to_zscore(col4),\n",
    "      col5 = dollar_to_zscore(col5),\n",
    "  )"
   ]
  },
  {
   "cell_type": "markdown",
   "id": "b6b93e80",
   "metadata": {},
   "source": [
    "A more efficient way of coding would be to use an iterative function like `across` in `dplyr`, which allows us to apply the same function to multiple columns in the `data.frame`: "
   ]
  },
  {
   "cell_type": "code",
   "execution_count": null,
   "id": "cee1725a",
   "metadata": {},
   "outputs": [],
   "source": [
    "df %>%\n",
    "   mutate(\n",
    "     across(col1:col5, dollar_to_zscore)\n",
    "   )"
   ]
  },
  {
   "cell_type": "markdown",
   "id": "c1ef48d2",
   "metadata": {},
   "source": [
    "### `across` function \n",
    "\n",
    "The `across` function has three main arguments, that appear in this order:  \n",
    "\n",
    "- `.cols`: The columns that we want to apply a function on. \n",
    "- `.fns`: The functions that we will use on the columns specified in `.cols`\n",
    "- `.names`: A glue specification that describes how to name the output columns. \n",
    "\n",
    "The `across` function is typically used inside of a `summarize` or `mutate` function. "
   ]
  },
  {
   "cell_type": "markdown",
   "id": "7a21105d",
   "metadata": {},
   "source": [
    "#### `.cols` argument\n",
    "\n",
    "The first argument selects the columns to transform. Column selection is done the same way as the `select` function of `dplyr`, which means that we can use functions like `starts_with` or `ends_with`. Other useful selectors are `everything()` (which selects all of the columns), and `where()`, which can be used to select columns of a particular type (e.g., `where(is.numeric)`). \n",
    "\n",
    "Here is an example using the `iris` dataset: "
   ]
  },
  {
   "cell_type": "code",
   "execution_count": null,
   "id": "c108fc5e",
   "metadata": {},
   "outputs": [],
   "source": [
    "iris %>%\n",
    "   mutate(across(starts_with(\"Sepal\"), round)) %>% \n",
    "   slice_head(n = 5)"
   ]
  },
  {
   "cell_type": "markdown",
   "id": "c76dd707",
   "metadata": {},
   "source": [
    "#### `.fns` argument\n",
    "\n",
    "The second argument specifies the function(s) that will be used to transform the selected columns. We can use simple functions like `mean`, `median`, `max`, or create and supply our own function.\n",
    "\n",
    "**Important:** We are passing the argument of the `.fns` function to `across()`, so `across()` can call the function; we are **not** calling it ourselves. That means the function name should never be followed by `()`. If you forget, you’ll probably get an error: "
   ]
  },
  {
   "cell_type": "code",
   "execution_count": null,
   "id": "280dffaa",
   "metadata": {},
   "outputs": [],
   "source": [
    "iris %>%\n",
    "   mutate(across(starts_with(\"Sepal\"), round()))"
   ]
  },
  {
   "cell_type": "markdown",
   "id": "ee27c3b2",
   "metadata": {},
   "source": [
    "We can pass user specified functions into the `.fns` argument (like the example above using the `dollar_to_zscore` function). One way to do this is by using *anonymous* functions: "
   ]
  },
  {
   "cell_type": "code",
   "execution_count": null,
   "id": "d9dea9fc",
   "metadata": {},
   "outputs": [],
   "source": [
    "iris %>%\n",
    "   summarize(\n",
    "     across(where(is.numeric), function(x) x^2)\n",
    "   ) %>%\n",
    "   slice_head(n = 5)"
   ]
  },
  {
   "cell_type": "markdown",
   "id": "ac6640bb",
   "metadata": {},
   "source": [
    "In the previous example, we creating breifly created a temporary function that didn't have a name (thus an *anonymous* function) that squares the value of the input, and apply this function to each numeric column. \n",
    "\n",
    "There also exists a shorthand to do this without having to write out the word \"function\". This isn't necessary, but can save some time: "
   ]
  },
  {
   "cell_type": "code",
   "execution_count": null,
   "id": "83bb0db7",
   "metadata": {},
   "outputs": [],
   "source": [
    "iris %>%\n",
    "   summarize(\n",
    "     across(where(is.numeric), \\(x) x^2)\n",
    "   ) %>%\n",
    "   slice_head(n = 5)"
   ]
  },
  {
   "cell_type": "markdown",
   "id": "f3a3b531",
   "metadata": {},
   "source": [
    "Note that `across` is part of the `dplyr` package and respects groups created using `group_by`: "
   ]
  },
  {
   "cell_type": "code",
   "execution_count": null,
   "id": "6811b199",
   "metadata": {},
   "outputs": [],
   "source": [
    "iris %>%\n",
    "   group_by(Species) %>%\n",
    "   summarize(across(where(is.numeric), mean))"
   ]
  },
  {
   "cell_type": "markdown",
   "id": "7485dadb",
   "metadata": {},
   "source": [
    "**Question:** What if we want to pass additional arguments into a function, like `na.rm` for the `mean` function? \n",
    "\n",
    "There are two main solutions: \n",
    "- **recommended:** Create an anonymous function that has other input variables specified \n",
    "- **less recommended:** You can pass other input arguments as ... arguments in the `across` function. \n",
    "\n",
    "We explore this using an example dataset containing independent normal random variables with missing observations. "
   ]
  },
  {
   "cell_type": "code",
   "execution_count": null,
   "id": "b1051c19",
   "metadata": {},
   "outputs": [],
   "source": [
    "rnorm_na <- function(n, n_na, mean = 0, sd = 1) {\n",
    "    # This is just a simple function that gives you random normals with a specified number of missing values.\n",
    "    sample(c(rnorm(n - n_na, mean = mean, sd = sd), rep(NA, n_na)))\n",
    "}\n",
    "\n",
    "# Create a dataset with missing values \n",
    "df_miss <- tibble(\n",
    "  a = rnorm_na(5, 1),\n",
    "  b = rnorm_na(5, 1),\n",
    "  c = rnorm_na(5, 2),\n",
    "  d = rnorm(5)\n",
    ")\n",
    "\n",
    "df_miss"
   ]
  },
  {
   "cell_type": "markdown",
   "id": "ad954d4a",
   "metadata": {},
   "source": [
    "**Recommended approach:** "
   ]
  },
  {
   "cell_type": "code",
   "execution_count": null,
   "id": "63c1dad5",
   "metadata": {},
   "outputs": [],
   "source": [
    "df_miss |> \n",
    "  summarize(\n",
    "    across(a:d, function(x) mean(x, na.rm = TRUE))\n",
    "  )"
   ]
  },
  {
   "cell_type": "markdown",
   "id": "43f223a0",
   "metadata": {},
   "source": [
    "**Less recommended:**"
   ]
  },
  {
   "cell_type": "code",
   "execution_count": null,
   "id": "254ed81a",
   "metadata": {},
   "outputs": [],
   "source": [
    "df_miss |> \n",
    "  summarize(\n",
    "    across(a:d, mean, na.rm = TRUE)\n",
    "  )"
   ]
  },
  {
   "cell_type": "markdown",
   "id": "fdf37258",
   "metadata": {},
   "source": [
    "The second approach may seem natural, but the official documentation highly discourages this approach: \n",
    "\n",
    "> Using these `...` is strongly discouraged because of issues of timing of evaluation."
   ]
  },
  {
   "cell_type": "markdown",
   "id": "79afa6cc",
   "metadata": {},
   "source": [
    "#### More than one `.fns`\n",
    "\n",
    "We can apply more than one function at a time. This is done by passing a list into the `.fns` argument: "
   ]
  },
  {
   "cell_type": "code",
   "execution_count": null,
   "id": "3da21812",
   "metadata": {},
   "outputs": [],
   "source": [
    "iris %>%\n",
    "   summarize(across(where(is.numeric), list(mean, median, min, max, sd)))"
   ]
  },
  {
   "cell_type": "markdown",
   "id": "619ac35b",
   "metadata": {},
   "source": [
    "Naming the functions results in better output if we are using multiple functions: "
   ]
  },
  {
   "cell_type": "code",
   "execution_count": null,
   "id": "394faf3d",
   "metadata": {},
   "outputs": [],
   "source": [
    "iris %>%\n",
    "   summarize(across(where(is.numeric), list(my_mean = mean, my_median = median)))"
   ]
  },
  {
   "cell_type": "markdown",
   "id": "91f49bdd",
   "metadata": {},
   "source": [
    "#### `.names` argument"
   ]
  },
  {
   "cell_type": "markdown",
   "id": "b144ff0a",
   "metadata": {},
   "source": [
    "By default, the names of the output columns are the same as the input columns (if a single function is used), or you get a specification like `column_function` (if multiple functions are used). We can override this behaviour by using the `.names` argument. This is particularly useful in the `mutate` function, so that we can create new columns rather than overriding existing columns: "
   ]
  },
  {
   "cell_type": "code",
   "execution_count": null,
   "id": "86995203",
   "metadata": {},
   "outputs": [],
   "source": [
    "iris %>%\n",
    "   mutate(across(where(is.numeric), list(rounded = function(x) round(x, 0)), .names = \"{.col}_{.fn}\")) %>%\n",
    "   slice_head(n = 5)"
   ]
  },
  {
   "cell_type": "markdown",
   "id": "419e7f74",
   "metadata": {},
   "source": [
    "### Exercise 4\n",
    "\n",
    "**Recall the gapminder::gapminder dataset contains some demographic information for various countries around the world. Use the `across` function to calulate the average life expectancy, population, and GDP per-capita for each unique combination of continent and year**. "
   ]
  },
  {
   "cell_type": "code",
   "execution_count": null,
   "id": "8d2e6f8c",
   "metadata": {},
   "outputs": [],
   "source": [
    "## Your solution here"
   ]
  },
  {
   "cell_type": "code",
   "execution_count": null,
   "id": "65aa2f37",
   "metadata": {},
   "outputs": [],
   "source": [
    "#@title Solution to exercise 4\n",
    "\n",
    "gapminder %>%\n",
    "   group_by(continent, year) %>%\n",
    "   summarize(across(where(is.numeric), function(x) mean(x, na.rm = TRUE))) %>%  # Figure not needed, but is a good way to visualize the result\n",
    "   pivot_longer(cols = lifeExp:gdpPercap, names_to = 'measure', values_to = 'val') %>%\n",
    "   ggplot(aes(x = year, y = val, col = continent)) + \n",
    "   geom_line() + \n",
    "   theme_bw() + \n",
    "   facet_wrap(~measure, scales = 'free_y')"
   ]
  },
  {
   "attachments": {},
   "cell_type": "markdown",
   "id": "f1691eed",
   "metadata": {},
   "source": [
    "### `map` family of functions\n",
    "\n",
    "The `across` function is useful when we are trying to apply the same function to many columns in a `data.frame` object. The `map` family of functions are similar, but these are used to apply a function to `lists` and `vectors`. These functions are part of the `purrr` package, which is part of the `tidyverse`. \n",
    "\n",
    "The most basic of these functions is `map`. \n",
    "\n",
    "- The `map` functions are **functionals** (_a function that takes a function as an input and returns a list as output_). \n",
    "- They take **lists** or **atomic vectors** and a **function** as arguments. A visualization of how they work is below:\n",
    "\n",
    "![map1.png](https://d33wubrfki0l68.cloudfront.net/f0494d020aa517ae7b1011cea4c4a9f21702df8b/2577b/diagrams/functionals/map.png)\n",
    "\n",
    "Consider, for example, the list below, that contains the radius of moons (km) of some planets in our solar system: "
   ]
  },
  {
   "cell_type": "code",
   "execution_count": null,
   "id": "4faa6aeb",
   "metadata": {},
   "outputs": [],
   "source": [
    "moons <-\n",
    "  list(\n",
    "    earth = 1737.1,\n",
    "    mars = c(11.3, 6.2),\n",
    "    neptune = \n",
    "      c(60.4, 81.4, 156, 174.8, 194, 34.8, 420, 2705.2, 340, 62, 44, 42, 40, 60)\n",
    "  )"
   ]
  },
  {
   "cell_type": "markdown",
   "id": "be81a586",
   "metadata": {},
   "source": [
    "We could use the `map` function to get the number of moons for each planet in our list, or get the average value of the measurements: "
   ]
  },
  {
   "cell_type": "code",
   "execution_count": null,
   "id": "837708e0",
   "metadata": {},
   "outputs": [],
   "source": [
    "list1 <- map(moons, length)\n",
    "list2 <- map(moons, mean)\n",
    "\n",
    "list1\n",
    "list2"
   ]
  },
  {
   "cell_type": "markdown",
   "id": "5626de98",
   "metadata": {},
   "source": [
    "### Variants of Map\n",
    "\n",
    "From the previous example, we see that a list is returned as the output. This is the default behavior of `map`. However, we may want atomic vectors (***intergers, doubles, characters, logical***) to be the outputs for specific tasks. Below gives variations of the `map` functional together with descriptions:\n",
    "\n",
    "- `map_int()` creates an integer vector.\n",
    "- `map_dbl()` creates a double vector.\n",
    "- `map_chr()` creates a character vector.\n",
    "- `map_lgl()` creates a logical vector.\n",
    "- `map_df()` creates a dataframe.\n",
    "\n",
    "So if we wanted a vector of integers rather than a list of the number of moons for each planet, we could use: "
   ]
  },
  {
   "cell_type": "code",
   "execution_count": null,
   "id": "3ecbe2eb",
   "metadata": {},
   "outputs": [],
   "source": [
    "map_int(moons, length)"
   ]
  },
  {
   "cell_type": "markdown",
   "id": "aebca745",
   "metadata": {},
   "source": [
    "Note that shortcuts also work for all variations: "
   ]
  },
  {
   "cell_type": "code",
   "execution_count": null,
   "id": "b74d54c4",
   "metadata": {},
   "outputs": [],
   "source": [
    "map_dbl(moons, function(x) median(x, na.rm = TRUE))"
   ]
  },
  {
   "attachments": {},
   "cell_type": "markdown",
   "id": "b9a6442d",
   "metadata": {},
   "source": [
    "Sometimes we want to vectorize using a function that requires more than one input. In this case, we can use another variant of the `map` function, such as `map2`, or `pmap`. \n",
    "\n",
    "**map2**: \n",
    "\n",
    "![map5.png](https://d33wubrfki0l68.cloudfront.net/f5cddf51ec9c243a7c13732b0ce46b0868bf8a31/501a8/diagrams/functionals/map2.png)"
   ]
  },
  {
   "attachments": {},
   "cell_type": "markdown",
   "id": "62dd9647",
   "metadata": {},
   "source": [
    "**pmap**: \n",
    "\n",
    "![map6.png](https://d33wubrfki0l68.cloudfront.net/e698354d802ce16f83546db63c45a19b8d51f45e/43de7/diagrams/functionals/pmap-3.png)\n",
    "\n",
    "**`map2`** example: take element-wise product of two vectors (same as `x1 * x2` in `R`, but this makes a good example)."
   ]
  },
  {
   "cell_type": "code",
   "execution_count": null,
   "id": "8ea0f7b3",
   "metadata": {
    "scrolled": true
   },
   "outputs": [],
   "source": [
    "x1 <- c(1, 2, 3, 4, 5)\n",
    "x2 <- c(1, 2, 1, 2, 1)\n",
    "\n",
    "map2_int(x1, x2, prod)"
   ]
  },
  {
   "cell_type": "markdown",
   "id": "4c8e31d4",
   "metadata": {},
   "source": [
    "**`pmap`** example: take element wise minimum of an arbitrary number of vectors (equivalent to `pmin`, but this makes a good example). For this function, the inputs need to be a list. "
   ]
  },
  {
   "cell_type": "code",
   "execution_count": null,
   "id": "33be1eb0",
   "metadata": {},
   "outputs": [],
   "source": [
    "x1 <- c(1, -4, 19, 3, 2)\n",
    "x2 <- c(-2, 6, 9, 10, 11)\n",
    "x3 <- c(1, 2, 3, 4, 100)\n",
    "x4 <- c(3, NA, 1, 0, -1)\n",
    "\n",
    "pmap_int(list(x1, x2, x3, x4), min)\n",
    "pmap_int(list(x1, x2, x3, x4), min, na.rm = TRUE)"
   ]
  },
  {
   "cell_type": "markdown",
   "id": "76d063c3",
   "metadata": {},
   "source": [
    "### Exercise 5\n",
    "\n",
    "What `map_` variant would you use to complete the following tasks? Implement the codes.\n",
    "\n",
    "1. **Find the data type for each column of `mtcars`**\n",
    "2. **Verify which columns of `nycflights13::flights` are numeric.**\n",
    "3. **Compute the mean of all columns in `mtcars`**\n",
    "4. **Find the length of unique values in all columns of `mtcars`.**"
   ]
  },
  {
   "cell_type": "code",
   "execution_count": null,
   "id": "375925a2",
   "metadata": {},
   "outputs": [],
   "source": [
    "# Your solution here"
   ]
  },
  {
   "cell_type": "code",
   "execution_count": null,
   "id": "9faeb715",
   "metadata": {},
   "outputs": [],
   "source": [
    "#@title Solution to exercise 5\n",
    "\n",
    "# (1) Character\n",
    "map_chr(mtcars, typeof)\n",
    "\n",
    "# (2) Logical\n",
    "map_lgl(nycflights13::flights, function(x) as.logical(is.numeric(x)))\n",
    "\n",
    "# (3) Double\n",
    "map_dbl(mtcars, mean)\n",
    "\n",
    "# (4) Integer\n",
    "map_int(mtcars, function(x) length(unique(x)))"
   ]
  }
 ],
 "metadata": {
  "kernelspec": {
   "display_name": "R",
   "language": "R",
   "name": "ir"
  },
  "language_info": {
   "codemirror_mode": "r",
   "file_extension": ".r",
   "mimetype": "text/x-r-source",
   "name": "R",
   "pygments_lexer": "r",
   "version": "4.2.2"
  }
 },
 "nbformat": 4,
 "nbformat_minor": 5
}
