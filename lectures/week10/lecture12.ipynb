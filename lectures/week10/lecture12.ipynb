{
  "cells": [
    {
      "cell_type": "code",
      "source": [
        "install.packages('nycflights13')"
      ],
      "metadata": {
        "id": "YvUXzq0oYLDH",
        "outputId": "11dd219b-7ff9-4e4e-c062-bfac7c0eb1e4",
        "colab": {
          "base_uri": "https://localhost:8080/"
        }
      },
      "execution_count": 41,
      "outputs": [
        {
          "output_type": "stream",
          "name": "stderr",
          "text": [
            "Installing package into ‘/usr/local/lib/R/site-library’\n",
            "(as ‘lib’ is unspecified)\n",
            "\n"
          ]
        }
      ]
    },
    {
      "cell_type": "code",
      "execution_count": 37,
      "metadata": {
        "id": "5EqbjTKgXtpS"
      },
      "outputs": [],
      "source": [
        "library(tidyverse)"
      ]
    },
    {
      "cell_type": "markdown",
      "metadata": {
        "id": "u1iMhyVLXtpX"
      },
      "source": [
        "# Lecture 12: Strings and text data\n",
        "\n",
        "<div style=\"border: 1px double black; padding: 10px; margin: 10px\">\n",
        "\n",
        "**After today's lecture you will:**\n",
        "* Understand the basics of working with strings in R.\n",
        "* Convert data to strings.\n",
        "* Extract data from strings.\n",
        "</div>\n",
        "\n",
        "These notes correspond to Chapter 15 of your book.\n"
      ]
    },
    {
      "cell_type": "markdown",
      "metadata": {
        "id": "52QJy3SQXtpa"
      },
      "source": [
        "## Strings in R\n",
        "We have already encountered strings at many points in the class, but we didn't really discuss the details of how they work. "
      ]
    },
    {
      "cell_type": "markdown",
      "metadata": {
        "id": "30UnpcMEXtpc"
      },
      "source": [
        "In R, strings must be quoted:"
      ]
    },
    {
      "cell_type": "code",
      "execution_count": null,
      "metadata": {
        "id": "UlWbw0zbXtpf",
        "outputId": "88eb7d27-1642-4e14-d773-9d3c34828134"
      },
      "outputs": [
        {
          "data": {
            "text/html": [
              "'MLE stands for Maximum Likelihood Estimate'"
            ],
            "text/latex": [
              "'MLE stands for Maximum Likelihood Estimate'"
            ],
            "text/markdown": [
              "'MLE stands for Maximum Likelihood Estimate'"
            ],
            "text/plain": [
              "[1] \"MLE stands for Maximum Likelihood Estimate\""
            ]
          },
          "metadata": {},
          "output_type": "display_data"
        }
      ],
      "source": [
        "my_string <- \"MLE stands for Maximum Likelihood Estimate\"\n",
        "my_string"
      ]
    },
    {
      "cell_type": "markdown",
      "metadata": {
        "id": "xy7ffCMLXtpf"
      },
      "source": [
        "Now what if I want `my_string` to contain a quotation?\n",
        "```\n",
        "> my_string <- \"\"MLE\" stands for \"Maximum Likelihood Estimate\"\"\n",
        "Error in parse(text = x, srcfile = src): <text>:1:16: unexpected symbol\n",
        "1: mystring3 <- \"\"MLE\n",
        "                   ^\n",
        "Traceback:\n",
        "```"
      ]
    },
    {
      "cell_type": "markdown",
      "metadata": {
        "id": "SABn6f52Xtpg"
      },
      "source": [
        "To create a string containing double quotes, while using double quotes to create it, you must *escape* the quotes using a backslash (`\\`):"
      ]
    },
    {
      "cell_type": "code",
      "execution_count": 38,
      "metadata": {
        "id": "PwcecV24Xtpg",
        "outputId": "35ca9748-34d6-4d19-ee6e-9ce360430091",
        "colab": {
          "base_uri": "https://localhost:8080/",
          "height": 34
        }
      },
      "outputs": [
        {
          "output_type": "display_data",
          "data": {
            "text/html": [
              "'\"MLE\" stands for \"Maximum Likelihood Estimate\"'"
            ],
            "text/markdown": "'\"MLE\" stands for \"Maximum Likelihood Estimate\"'",
            "text/latex": "'\"MLE\" stands for \"Maximum Likelihood Estimate\"'",
            "text/plain": [
              "[1] \"\\\"MLE\\\" stands for \\\"Maximum Likelihood Estimate\\\"\""
            ]
          },
          "metadata": {}
        }
      ],
      "source": [
        "my_string <- \"\\\"MLE\\\" stands for \\\"Maximum Likelihood Estimate\\\"\"\n",
        "my_string "
      ]
    },
    {
      "cell_type": "markdown",
      "metadata": {
        "id": "oDn7Q5O4Xtph"
      },
      "source": [
        "What if you actually want a backslash? Then you need to escape it as well:"
      ]
    },
    {
      "cell_type": "code",
      "execution_count": null,
      "metadata": {
        "id": "FEUMMDm-Xtpi",
        "outputId": "47993dcc-9fba-4eb8-accc-63f5a6e21d8c"
      },
      "outputs": [
        {
          "data": {
            "text/html": [
              "'\\\\ is the backslash character'"
            ],
            "text/latex": [
              "'\\textbackslash{}\\textbackslash{} is the backslash character'"
            ],
            "text/markdown": [
              "'\\\\ is the backslash character'"
            ],
            "text/plain": [
              "[1] \"\\\\ is the backslash character\""
            ]
          },
          "metadata": {},
          "output_type": "display_data"
        }
      ],
      "source": [
        "\"\\\\ is the backslash character\""
      ]
    },
    {
      "cell_type": "markdown",
      "metadata": {
        "id": "lFAl5d5OXtpj"
      },
      "source": [
        "The printed representation of strings shows the escapes:"
      ]
    },
    {
      "cell_type": "code",
      "execution_count": null,
      "metadata": {
        "id": "l5iESgO3Xtpk",
        "outputId": "e0fd55a4-928d-476c-9162-07a2cfece968"
      },
      "outputs": [
        {
          "name": "stdout",
          "output_type": "stream",
          "text": [
            "[1] \"\\\"MLE\\\" stands for \\\"Maximum Likelihood Estimate\\\"\"\n"
          ]
        }
      ],
      "source": [
        "print(\"\\\"MLE\\\" stands for \\\"Maximum Likelihood Estimate\\\"\")"
      ]
    },
    {
      "cell_type": "markdown",
      "metadata": {
        "id": "JeBeWaDkXtpl"
      },
      "source": [
        "## Special characters\n",
        "\n",
        "When used inside a string, `\\\"`, `\\'`, and `\\\\`, are \"special characters\". Some other special characters you will encounter:\n",
        "\n",
        "- `\\n` (new line), \n",
        "- `\\t`, tab. \n",
        "- `\\u` or `\\U`: Unicode."
      ]
    },
    {
      "cell_type": "markdown",
      "metadata": {
        "id": "WsHsDvD4Xtpl"
      },
      "source": [
        "### ASCII and unicode\n",
        "Early computers could only read and write the ASCII character set, essentially just roman letters, numbers and some punctuation.\n",
        "\n",
        "Nowadays, computers need to be able to understand alphabets from all over the world. For this we have *Unicode*."
      ]
    },
    {
      "cell_type": "markdown",
      "metadata": {
        "id": "F4ww5aE7Xtpl"
      },
      "source": [
        "You can print characters if you know their unicode using `\\u`. For example, the copyright character has unicode `00A9`. Wikipedia has [a complete list](https://en.wikipedia.org/wiki/List_of_Unicode_characters)."
      ]
    },
    {
      "cell_type": "code",
      "execution_count": null,
      "metadata": {
        "scrolled": true,
        "id": "yuj7q7jJXtpm",
        "outputId": "a6dd6afc-dc69-4de6-b887-f4e39b880de0"
      },
      "outputs": [
        {
          "name": "stdout",
          "output_type": "stream",
          "text": [
            "[1] \"©\"\n"
          ]
        }
      ],
      "source": [
        "print(\"\\u00A9\")"
      ]
    },
    {
      "cell_type": "markdown",
      "metadata": {
        "id": "hUB3tI8sXtpm"
      },
      "source": [
        "## String functions in R\n",
        "\n",
        "Through the `stringr` package, `tidyverse` has a lot of useful functions for combining strings."
      ]
    },
    {
      "cell_type": "markdown",
      "metadata": {
        "id": "8AKEzBaRXtpm"
      },
      "source": [
        "### Combining strings\n",
        "Combining two strings into one is called \"concatenation\" by computer scientists and \"combining strings\" by everyone else. `concatenate` is hard to type, so it is abbreviated `str_c`:"
      ]
    },
    {
      "cell_type": "code",
      "execution_count": 40,
      "metadata": {
        "id": "jl67IK7HXtpn",
        "outputId": "21a90981-1275-4d31-9a90-ff38b5f2fd91",
        "colab": {
          "base_uri": "https://localhost:8080/",
          "height": 52
        }
      },
      "outputs": [
        {
          "output_type": "stream",
          "name": "stdout",
          "text": [
            "[1] \"a\" \"b\" \"c\"\n"
          ]
        },
        {
          "output_type": "display_data",
          "data": {
            "text/html": [
              "'abc'"
            ],
            "text/markdown": "'abc'",
            "text/latex": "'abc'",
            "text/plain": [
              "[1] \"abc\""
            ]
          },
          "metadata": {}
        }
      ],
      "source": [
        "c(\"a\", \"b\", \"c\") %>% print  # notice the difference!\n",
        "str_c(\"a\", \"b\", \"c\") \n",
        "# \"Let us con\", \n",
        "#       \" / \", \n",
        "#       \"catenate strings!\") %>% print"
      ]
    },
    {
      "cell_type": "markdown",
      "metadata": {
        "id": "tou_rSreXtpo"
      },
      "source": [
        "Another use of `str_c` is to combine multiple strings into one with a separator:"
      ]
    },
    {
      "cell_type": "code",
      "execution_count": null,
      "metadata": {
        "id": "V7RaRsVfXtpo",
        "outputId": "6befe97e-f74b-4283-c437-7bb478809ee9"
      },
      "outputs": [
        {
          "data": {
            "text/plain": [
              "[1] \"one, two, ten\""
            ]
          },
          "metadata": {},
          "output_type": "display_data"
        }
      ],
      "source": [
        "str_c(\"one\", \"two\", \"ten\", sep = \", \") # can provide a separator"
      ]
    },
    {
      "cell_type": "markdown",
      "metadata": {
        "id": "7aK8FttaXtpp"
      },
      "source": [
        "If you already know some R, you might recognize this as being equivalent to \n",
        "```{r} \n",
        "paste(\"one\", \"two\", \"ten\", sep=\", \")\n",
        "```"
      ]
    },
    {
      "cell_type": "markdown",
      "metadata": {
        "id": "ntbhGjt7Xtpp"
      },
      "source": [
        "### Flattening strings\n",
        "`str_flatten` will take a vector of strings and flatten them into one string."
      ]
    },
    {
      "cell_type": "code",
      "execution_count": 42,
      "metadata": {
        "id": "yiDE23vrXtpp",
        "outputId": "b70a0f0c-4793-4fa6-f6b7-0bdce2e51ff2",
        "colab": {
          "base_uri": "https://localhost:8080/",
          "height": 192
        }
      },
      "outputs": [
        {
          "output_type": "display_data",
          "data": {
            "text/html": [
              "<table class=\"dataframe\">\n",
              "<caption>A tibble: 3 × 2</caption>\n",
              "<thead>\n",
              "\t<tr><th scope=col>origin</th><th scope=col>carrier</th></tr>\n",
              "\t<tr><th scope=col>&lt;chr&gt;</th><th scope=col>&lt;chr&gt;</th></tr>\n",
              "</thead>\n",
              "<tbody>\n",
              "\t<tr><td>EWR</td><td>UA, B6, AA, MQ, DL, US, EV, AS, WN, 9E, VX, OO    </td></tr>\n",
              "\t<tr><td>JFK</td><td>AA, B6, UA, DL, US, VX, MQ, 9E, HA, EV            </td></tr>\n",
              "\t<tr><td>LGA</td><td>UA, DL, EV, AA, B6, MQ, WN, FL, US, F9, 9E, YV, OO</td></tr>\n",
              "</tbody>\n",
              "</table>\n"
            ],
            "text/markdown": "\nA tibble: 3 × 2\n\n| origin &lt;chr&gt; | carrier &lt;chr&gt; |\n|---|---|\n| EWR | UA, B6, AA, MQ, DL, US, EV, AS, WN, 9E, VX, OO     |\n| JFK | AA, B6, UA, DL, US, VX, MQ, 9E, HA, EV             |\n| LGA | UA, DL, EV, AA, B6, MQ, WN, FL, US, F9, 9E, YV, OO |\n\n",
            "text/latex": "A tibble: 3 × 2\n\\begin{tabular}{ll}\n origin & carrier\\\\\n <chr> & <chr>\\\\\n\\hline\n\t EWR & UA, B6, AA, MQ, DL, US, EV, AS, WN, 9E, VX, OO    \\\\\n\t JFK & AA, B6, UA, DL, US, VX, MQ, 9E, HA, EV            \\\\\n\t LGA & UA, DL, EV, AA, B6, MQ, WN, FL, US, F9, 9E, YV, OO\\\\\n\\end{tabular}\n",
            "text/plain": [
              "  origin carrier                                           \n",
              "1 EWR    UA, B6, AA, MQ, DL, US, EV, AS, WN, 9E, VX, OO    \n",
              "2 JFK    AA, B6, UA, DL, US, VX, MQ, 9E, HA, EV            \n",
              "3 LGA    UA, DL, EV, AA, B6, MQ, WN, FL, US, F9, 9E, YV, OO"
            ]
          },
          "metadata": {}
        }
      ],
      "source": [
        "# list all the air carriers flying out of each airport\n",
        "distinct(flights, origin, carrier) %>% \n",
        "  group_by(origin) %>% \n",
        "    summarize(carrier = str_flatten(carrier, \", \"))"
      ]
    },
    {
      "cell_type": "markdown",
      "metadata": {
        "id": "EIBKeJNDXtpp"
      },
      "source": [
        "### Extracting pieces of a string\n",
        "Sometimes we want only a portion of a string, say the first few or last characters. The `str_sub(str, start, stop)` function will extract substrings from a larger string. (Negative indexing will counts from the end.)"
      ]
    },
    {
      "cell_type": "code",
      "execution_count": null,
      "metadata": {
        "id": "2DWtqq7pXtpq",
        "outputId": "f85c456c-5c74-460f-a17f-2bb9f09fd006"
      },
      "outputs": [
        {
          "data": {
            "text/html": [
              "'sp'"
            ],
            "text/latex": [
              "'sp'"
            ],
            "text/markdown": [
              "'sp'"
            ],
            "text/plain": [
              "[1] \"sp\""
            ]
          },
          "metadata": {},
          "output_type": "display_data"
        },
        {
          "data": {
            "text/html": [
              "'un'"
            ],
            "text/latex": [
              "'un'"
            ],
            "text/markdown": [
              "'un'"
            ],
            "text/plain": [
              "[1] \"un\""
            ]
          },
          "metadata": {},
          "output_type": "display_data"
        },
        {
          "data": {
            "text/html": [
              "'t n'"
            ],
            "text/latex": [
              "'t n'"
            ],
            "text/markdown": [
              "'t n'"
            ],
            "text/plain": [
              "[1] \"t n\""
            ]
          },
          "metadata": {},
          "output_type": "display_data"
        },
        {
          "data": {
            "text/html": [
              "'t\\'s don'"
            ],
            "text/latex": [
              "'t\\textbackslash{}'s don'"
            ],
            "text/markdown": [
              "'t\\'s don'"
            ],
            "text/plain": [
              "[1] \"t's don\""
            ]
          },
          "metadata": {},
          "output_type": "display_data"
        }
      ],
      "source": [
        "str_sub('spring break!', 1, 2)  # first two characters\n",
        "str_sub('was fun', -2, -1)  # last two characters\n",
        "str_sub('but now', 3, 5)  # middle characters\n",
        "str_sub('it\\'s done', 2, -2) # everything except the first and last"
      ]
    },
    {
      "cell_type": "markdown",
      "metadata": {
        "id": "DTo-jACKXtpq"
      },
      "source": [
        "## Extracting data from strings\n",
        "Often in real data we have multiple columns of data crammed into one column. In fact, we saw this last lecture when looking at IMDB data:"
      ]
    },
    {
      "cell_type": "code",
      "execution_count": 43,
      "metadata": {
        "id": "Z73nIqA2Xtpq",
        "outputId": "c608e240-dd9e-4665-c3e2-49cfff11ce86",
        "colab": {
          "base_uri": "https://localhost:8080/",
          "height": 442
        }
      },
      "outputs": [
        {
          "output_type": "stream",
          "name": "stderr",
          "text": [
            "\n",
            "Attaching package: ‘rvest’\n",
            "\n",
            "\n",
            "The following object is masked from ‘package:readr’:\n",
            "\n",
            "    guess_encoding\n",
            "\n",
            "\n"
          ]
        },
        {
          "output_type": "display_data",
          "data": {
            "text/html": [
              "<table class=\"dataframe\">\n",
              "<caption>A tibble: 6 × 3</caption>\n",
              "<thead>\n",
              "\t<tr><th scope=col>Rank &amp; Title</th><th scope=col>IMDb Rating</th><th scope=col>Your Rating</th></tr>\n",
              "\t<tr><th scope=col>&lt;chr&gt;</th><th scope=col>&lt;dbl&gt;</th><th scope=col>&lt;chr&gt;</th></tr>\n",
              "</thead>\n",
              "<tbody>\n",
              "\t<tr><td>1.\n",
              "      The Shawshank Redemption\n",
              "        (1994)</td><td>9.2</td><td>12345678910\n",
              "        \n",
              "        \n",
              "            \n",
              "            NOT YET RELEASED\n",
              "             \n",
              "            \n",
              "            Seen</td></tr>\n",
              "\t<tr><td>2.\n",
              "      The Godfather\n",
              "        (1972)           </td><td>9.2</td><td>12345678910\n",
              "        \n",
              "        \n",
              "            \n",
              "            NOT YET RELEASED\n",
              "             \n",
              "            \n",
              "            Seen</td></tr>\n",
              "\t<tr><td>3.\n",
              "      The Dark Knight\n",
              "        (2008)         </td><td>9.0</td><td>12345678910\n",
              "        \n",
              "        \n",
              "            \n",
              "            NOT YET RELEASED\n",
              "             \n",
              "            \n",
              "            Seen</td></tr>\n",
              "\t<tr><td>4.\n",
              "      The Godfather Part II\n",
              "        (1974)   </td><td>9.0</td><td>12345678910\n",
              "        \n",
              "        \n",
              "            \n",
              "            NOT YET RELEASED\n",
              "             \n",
              "            \n",
              "            Seen</td></tr>\n",
              "\t<tr><td>5.\n",
              "      12 Angry Men\n",
              "        (1957)            </td><td>9.0</td><td>12345678910\n",
              "        \n",
              "        \n",
              "            \n",
              "            NOT YET RELEASED\n",
              "             \n",
              "            \n",
              "            Seen</td></tr>\n",
              "\t<tr><td>6.\n",
              "      Schindler's List\n",
              "        (1993)        </td><td>8.9</td><td>12345678910\n",
              "        \n",
              "        \n",
              "            \n",
              "            NOT YET RELEASED\n",
              "             \n",
              "            \n",
              "            Seen</td></tr>\n",
              "</tbody>\n",
              "</table>\n"
            ],
            "text/markdown": "\nA tibble: 6 × 3\n\n| Rank &amp; Title &lt;chr&gt; | IMDb Rating &lt;dbl&gt; | Your Rating &lt;chr&gt; |\n|---|---|---|\n| 1.\n      The Shawshank Redemption\n        (1994) | 9.2 | 12345678910\n        \n        \n            \n            NOT YET RELEASED\n             \n            \n            Seen |\n| 2.\n      The Godfather\n        (1972)            | 9.2 | 12345678910\n        \n        \n            \n            NOT YET RELEASED\n             \n            \n            Seen |\n| 3.\n      The Dark Knight\n        (2008)          | 9.0 | 12345678910\n        \n        \n            \n            NOT YET RELEASED\n             \n            \n            Seen |\n| 4.\n      The Godfather Part II\n        (1974)    | 9.0 | 12345678910\n        \n        \n            \n            NOT YET RELEASED\n             \n            \n            Seen |\n| 5.\n      12 Angry Men\n        (1957)             | 9.0 | 12345678910\n        \n        \n            \n            NOT YET RELEASED\n             \n            \n            Seen |\n| 6.\n      Schindler's List\n        (1993)         | 8.9 | 12345678910\n        \n        \n            \n            NOT YET RELEASED\n             \n            \n            Seen |\n\n",
            "text/latex": "A tibble: 6 × 3\n\\begin{tabular}{lll}\n Rank \\& Title & IMDb Rating & Your Rating\\\\\n <chr> & <dbl> & <chr>\\\\\n\\hline\n\t 1.\n      The Shawshank Redemption\n        (1994) & 9.2 & 12345678910\n        \n        \n            \n            NOT YET RELEASED\n             \n            \n            Seen\\\\\n\t 2.\n      The Godfather\n        (1972)            & 9.2 & 12345678910\n        \n        \n            \n            NOT YET RELEASED\n             \n            \n            Seen\\\\\n\t 3.\n      The Dark Knight\n        (2008)          & 9.0 & 12345678910\n        \n        \n            \n            NOT YET RELEASED\n             \n            \n            Seen\\\\\n\t 4.\n      The Godfather Part II\n        (1974)    & 9.0 & 12345678910\n        \n        \n            \n            NOT YET RELEASED\n             \n            \n            Seen\\\\\n\t 5.\n      12 Angry Men\n        (1957)             & 9.0 & 12345678910\n        \n        \n            \n            NOT YET RELEASED\n             \n            \n            Seen\\\\\n\t 6.\n      Schindler's List\n        (1993)         & 8.9 & 12345678910\n        \n        \n            \n            NOT YET RELEASED\n             \n            \n            Seen\\\\\n\\end{tabular}\n",
            "text/plain": [
              "  Rank & Title                                       IMDb Rating\n",
              "1 1.\\n      The Shawshank Redemption\\n        (1994) 9.2        \n",
              "2 2.\\n      The Godfather\\n        (1972)            9.2        \n",
              "3 3.\\n      The Dark Knight\\n        (2008)          9.0        \n",
              "4 4.\\n      The Godfather Part II\\n        (1974)    9.0        \n",
              "5 5.\\n      12 Angry Men\\n        (1957)             9.0        \n",
              "6 6.\\n      Schindler's List\\n        (1993)         8.9        \n",
              "  Your Rating                                                                                                               \n",
              "1 12345678910\\n        \\n        \\n            \\n            NOT YET RELEASED\\n             \\n            \\n            Seen\n",
              "2 12345678910\\n        \\n        \\n            \\n            NOT YET RELEASED\\n             \\n            \\n            Seen\n",
              "3 12345678910\\n        \\n        \\n            \\n            NOT YET RELEASED\\n             \\n            \\n            Seen\n",
              "4 12345678910\\n        \\n        \\n            \\n            NOT YET RELEASED\\n             \\n            \\n            Seen\n",
              "5 12345678910\\n        \\n        \\n            \\n            NOT YET RELEASED\\n             \\n            \\n            Seen\n",
              "6 12345678910\\n        \\n        \\n            \\n            NOT YET RELEASED\\n             \\n            \\n            Seen"
            ]
          },
          "metadata": {}
        }
      ],
      "source": [
        "library(rvest)\n",
        "imdb.250 <- read_html(\"https://www.imdb.com/chart/top/\") %>% \n",
        "  html_element('table') %>% html_table() %>% select(2:4)\n",
        "head(imdb.250)"
      ]
    },
    {
      "cell_type": "markdown",
      "metadata": {
        "id": "FfxrZqaIXtpq"
      },
      "source": [
        "The `Rank & Title` column contains three pieces of data: rank, title, and year of release."
      ]
    },
    {
      "cell_type": "markdown",
      "metadata": {
        "id": "XLfb8P1kXtpq"
      },
      "source": [
        "## `separate_` functions\n",
        "`tidyverse` has some built-in functions designed to break apart and combine string data:\n",
        "- `separate_longer_delim`, `separate_longer_position`: combine multiple columns of string data into one.\n",
        "- `separate_wider_delim`, `separate_wider_position`: extract string data into multiple columns.\n",
        "These functions work analogously to `pivot_{wider,longer}`.\n"
      ]
    },
    {
      "cell_type": "markdown",
      "metadata": {
        "id": "0IcWL4hHXtpq"
      },
      "source": [
        "`separate_wider_delim` converts a delimited string into multiple columns of data. `separate_wider_position` does the same, but uses a fixed position."
      ]
    },
    {
      "cell_type": "code",
      "execution_count": 44,
      "metadata": {
        "id": "0qTQh-OuXtpr",
        "outputId": "31c4ba3c-ebed-42a6-afa1-eb7d60870a9e",
        "colab": {
          "base_uri": "https://localhost:8080/",
          "height": 192
        }
      },
      "outputs": [
        {
          "output_type": "display_data",
          "data": {
            "text/html": [
              "<table class=\"dataframe\">\n",
              "<caption>A tibble: 3 × 3</caption>\n",
              "<thead>\n",
              "\t<tr><th scope=col>code</th><th scope=col>edition</th><th scope=col>year</th></tr>\n",
              "\t<tr><th scope=col>&lt;chr&gt;</th><th scope=col>&lt;chr&gt;</th><th scope=col>&lt;chr&gt;</th></tr>\n",
              "</thead>\n",
              "<tbody>\n",
              "\t<tr><td>a10</td><td>1</td><td>2022</td></tr>\n",
              "\t<tr><td>b10</td><td>2</td><td>2011</td></tr>\n",
              "\t<tr><td>e15</td><td>1</td><td>2015</td></tr>\n",
              "</tbody>\n",
              "</table>\n"
            ],
            "text/markdown": "\nA tibble: 3 × 3\n\n| code &lt;chr&gt; | edition &lt;chr&gt; | year &lt;chr&gt; |\n|---|---|---|\n| a10 | 1 | 2022 |\n| b10 | 2 | 2011 |\n| e15 | 1 | 2015 |\n\n",
            "text/latex": "A tibble: 3 × 3\n\\begin{tabular}{lll}\n code & edition & year\\\\\n <chr> & <chr> & <chr>\\\\\n\\hline\n\t a10 & 1 & 2022\\\\\n\t b10 & 2 & 2011\\\\\n\t e15 & 1 & 2015\\\\\n\\end{tabular}\n",
            "text/plain": [
              "  code edition year\n",
              "1 a10  1       2022\n",
              "2 b10  2       2011\n",
              "3 e15  1       2015"
            ]
          },
          "metadata": {}
        }
      ],
      "source": [
        "df3 <- tibble(x = c(\"a10.1.2022\", \"b10.2.2011\", \"e15.1.2015\"))\n",
        "df3 %>%  separate_wider_delim(\n",
        "    x,\n",
        "    delim = \".\",\n",
        "    names = c(\"code\", \"edition\", \"year\")\n",
        "  )\n"
      ]
    },
    {
      "cell_type": "code",
      "execution_count": null,
      "metadata": {
        "id": "1iuXDWEsXtpr"
      },
      "outputs": [],
      "source": [
        "# easily separate the string data in imdb.250"
      ]
    },
    {
      "cell_type": "markdown",
      "metadata": {
        "id": "4FoHiLrzXtpr"
      },
      "source": [
        "## Harry Potter\n",
        "Let's practice some string analysis by looking at the text of Harry Potter:\n",
        "![harry potter](https://images-na.ssl-images-amazon.com/images/I/51HSkTKlauL._SX346_BO1,204,203,200_.jpg)"
      ]
    },
    {
      "cell_type": "code",
      "execution_count": 45,
      "metadata": {
        "id": "H0lnZkCLXtpr",
        "outputId": "7319108d-7135-4c4f-953c-4f9e43174af2",
        "colab": {
          "base_uri": "https://localhost:8080/"
        }
      },
      "outputs": [
        {
          "output_type": "stream",
          "name": "stderr",
          "text": [
            "Skipping install of 'harrypotter' from a github remote, the SHA1 (51f71461) has not changed since last install.\n",
            "  Use `force = TRUE` to force installation\n",
            "\n"
          ]
        },
        {
          "output_type": "stream",
          "name": "stdout",
          "text": [
            " chr [1:17] \"THE BOY WHO LIVED　　Mr. and Mrs. Dursley, of number four, Privet Drive, were proud to say that they were perfe\"| __truncated__ ...\n"
          ]
        }
      ],
      "source": [
        "remotes::install_github(\"bradleyboehmke/harrypotter\")\n",
        "library(harrypotter)\n",
        "str(philosophers_stone)\n",
        "ch1 <- philosophers_stone[17]"
      ]
    },
    {
      "cell_type": "markdown",
      "metadata": {
        "id": "TLE5V56xXtpr"
      },
      "source": [
        "`philosophers_stone` is a list containing seventeen entries: one for each chapter of \"Harry Potter and the Sorcerer's Stone\" (titled differently in the U.K.)\n",
        "\n",
        "Instead of reading Harry Potter, we will analyze it like a data set."
      ]
    },
    {
      "cell_type": "markdown",
      "metadata": {
        "id": "XKgh8mRmXtps"
      },
      "source": [
        "Each entry of `philosophers_stone` is a *string*. There is one string per chapter, so they are pretty long. To figure out how long a string is, we can use the `str_length()` command:"
      ]
    },
    {
      "cell_type": "code",
      "execution_count": null,
      "metadata": {
        "id": "8p8FryClXtps"
      },
      "outputs": [],
      "source": [
        "ch1 <- philosophers_stone[[1]]\n",
        "# length(philosophers_stone)\n",
        "ch1"
      ]
    },
    {
      "cell_type": "markdown",
      "metadata": {
        "id": "OjUyRZmDXtps"
      },
      "source": [
        "### Exercise\n",
        "What is the longest (in number of characters) chapter in Philosopher's Stone?"
      ]
    },
    {
      "cell_type": "code",
      "execution_count": null,
      "metadata": {
        "id": "sQjg7mImXtps"
      },
      "outputs": [],
      "source": [
        "# longest chapter in harry potter"
      ]
    },
    {
      "cell_type": "markdown",
      "metadata": {
        "id": "iLi-FiHgXtps"
      },
      "source": [
        "Now say we wanted to find the chapter with the most words. Is it necessarily the same?"
      ]
    },
    {
      "cell_type": "code",
      "execution_count": null,
      "metadata": {
        "id": "Krnn6CWEXtps"
      },
      "outputs": [],
      "source": []
    },
    {
      "cell_type": "markdown",
      "metadata": {
        "id": "W9fHE-jVXtpt"
      },
      "source": [
        "If you scroll through `ch1` a bit, you'll notice that there are some funny characters which don't appear in the books"
      ]
    },
    {
      "cell_type": "markdown",
      "metadata": {
        "id": "flGkYSKDXtpt"
      },
      "source": [
        "Let's see how this works for Harry Potter. Where does the first quotation in `ch1` occur? To find this, we will use the \n",
        "\n",
        "    str_locate(<string>, <substring>)\n",
        "    \n",
        "function:"
      ]
    },
    {
      "cell_type": "code",
      "execution_count": 50,
      "metadata": {
        "id": "tQCmO--XXtpt",
        "outputId": "754e1de6-37d6-4d5a-85dd-5136796a7a1c",
        "colab": {
          "base_uri": "https://localhost:8080/",
          "height": 115
        }
      },
      "outputs": [
        {
          "output_type": "display_data",
          "data": {
            "text/html": [
              "<table class=\"dataframe\">\n",
              "<caption>A matrix: 1 × 2 of type int</caption>\n",
              "<thead>\n",
              "\t<tr><th scope=col>start</th><th scope=col>end</th></tr>\n",
              "</thead>\n",
              "<tbody>\n",
              "\t<tr><td>2150</td><td>2150</td></tr>\n",
              "</tbody>\n",
              "</table>\n"
            ],
            "text/markdown": "\nA matrix: 1 × 2 of type int\n\n| start | end |\n|---|---|\n| 2150 | 2150 |\n\n",
            "text/latex": "A matrix: 1 × 2 of type int\n\\begin{tabular}{ll}\n start & end\\\\\n\\hline\n\t 2150 & 2150\\\\\n\\end{tabular}\n",
            "text/plain": [
              "     start end \n",
              "[1,] 2150  2150"
            ]
          },
          "metadata": {}
        }
      ],
      "source": [
        "str_locate(ch1, \"\\\"\")  # <---- note the escape."
      ]
    },
    {
      "cell_type": "markdown",
      "metadata": {
        "id": "0sIWy8RSXtpy"
      },
      "source": [
        "Note the escape: we are searching `ch1` for the first occurence of the character `\"`."
      ]
    },
    {
      "cell_type": "markdown",
      "metadata": {
        "id": "d7ckCdxzXtpy"
      },
      "source": [
        "This tells us that the first quote occurs at position 2150 of `ch1`. To view a portion of a string, we can use the \n",
        "\n",
        "    str_sub(<string>, <start>, <end>)\n",
        "\n",
        "command:"
      ]
    },
    {
      "cell_type": "code",
      "execution_count": 52,
      "metadata": {
        "id": "RTt5IH6iXtpy",
        "outputId": "cbeb9688-125c-4d3c-82e7-4fd87a692281",
        "colab": {
          "base_uri": "https://localhost:8080/"
        }
      },
      "outputs": [
        {
          "output_type": "stream",
          "name": "stdout",
          "text": [
            "[1] \"\\\"Little tyke,\\\" chortled Mr. Dursley as he left the house. He got into his car and backed out of numbe\"\n"
          ]
        }
      ],
      "source": [
        "str_sub(ch1, 2150, 2250) %>% print"
      ]
    },
    {
      "cell_type": "markdown",
      "metadata": {
        "id": "lOohh7YKXtpy"
      },
      "source": [
        "### Exercise\n",
        "\n",
        "(About) how many quotes are there in Ch.1? (Hint: use `str_count()`)."
      ]
    },
    {
      "cell_type": "code",
      "execution_count": 53,
      "metadata": {
        "id": "8pRIL3l0Xtpz",
        "outputId": "aa670507-af6e-477e-88ef-43f42e1a20f1",
        "colab": {
          "base_uri": "https://localhost:8080/",
          "height": 34
        }
      },
      "outputs": [
        {
          "output_type": "display_data",
          "data": {
            "text/html": [
              "205"
            ],
            "text/markdown": "205",
            "text/latex": "205",
            "text/plain": [
              "[1] 205"
            ]
          },
          "metadata": {}
        }
      ],
      "source": [
        "# how many quotes?\n"
      ]
    },
    {
      "cell_type": "markdown",
      "metadata": {
        "id": "t9P6r4EoXtpz"
      },
      "source": [
        "### Exercise\n",
        "What's the last sentence of Chapter 1?"
      ]
    },
    {
      "cell_type": "code",
      "execution_count": 54,
      "metadata": {
        "id": "IXRMtM38Xtpz",
        "outputId": "bced8d84-a2af-4a8e-f400-2bfe2ef413f1",
        "colab": {
          "base_uri": "https://localhost:8080/",
          "height": 34
        }
      },
      "outputs": [
        {
          "output_type": "display_data",
          "data": {
            "text/html": [
              "'ry were holding up their glasses and saying in hushed voices: \"To Harry Potter -- the boy who lived!'"
            ],
            "text/markdown": "'ry were holding up their glasses and saying in hushed voices: \"To Harry Potter -- the boy who lived!'",
            "text/latex": "'ry were holding up their glasses and saying in hushed voices: \"To Harry Potter -- the boy who lived!'",
            "text/plain": [
              "[1] \"ry were holding up their glasses and saying in hushed voices: \\\"To Harry Potter -- the boy who lived!\""
            ]
          },
          "metadata": {}
        }
      ],
      "source": [
        "# Last sentence, ch1\n"
      ]
    },
    {
      "cell_type": "markdown",
      "metadata": {
        "id": "IPVkWMucXtpz"
      },
      "source": [
        "## 🤔 Quiz\n",
        "\n",
        "Which chapter closes with the word _Voldemort_?\n",
        "\n",
        "<ol style=\"list-style-type: upper-alpha;\">\n",
        "    <li>5</li>\n",
        "    <li>13</li>\n",
        "    <li>16</li>\n",
        "    <li>17</li>\n",
        "    <li>19</li>\n",
        "</ol>\n",
        "\n"
      ]
    },
    {
      "cell_type": "code",
      "execution_count": null,
      "metadata": {
        "scrolled": true,
        "id": "aAljb5NuXtpz"
      },
      "outputs": [],
      "source": [
        "# voldemort"
      ]
    }
  ],
  "metadata": {
    "celltoolbar": "Slideshow",
    "kernelspec": {
      "display_name": "R",
      "language": "R",
      "name": "ir"
    },
    "language_info": {
      "codemirror_mode": "r",
      "file_extension": ".r",
      "mimetype": "text/x-r-source",
      "name": "R",
      "pygments_lexer": "r",
      "version": "4.2.2"
    },
    "colab": {
      "provenance": []
    }
  },
  "nbformat": 4,
  "nbformat_minor": 0
}