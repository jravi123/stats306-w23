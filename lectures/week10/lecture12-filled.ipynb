{
  "cells": [
    {
      "cell_type": "code",
      "source": [
        "install.packages('nycflights13')"
      ],
      "metadata": {
        "id": "YvUXzq0oYLDH",
        "outputId": "3f38b6bb-79e9-42b5-9c53-65bcee4384fe",
        "colab": {
          "base_uri": "https://localhost:8080/"
        }
      },
      "execution_count": 89,
      "outputs": [
        {
          "output_type": "stream",
          "name": "stderr",
          "text": [
            "Installing package into ‘/usr/local/lib/R/site-library’\n",
            "(as ‘lib’ is unspecified)\n",
            "\n"
          ]
        }
      ]
    },
    {
      "cell_type": "code",
      "execution_count": null,
      "metadata": {
        "id": "5EqbjTKgXtpS"
      },
      "outputs": [],
      "source": [
        "library(tidyverse)"
      ]
    },
    {
      "cell_type": "markdown",
      "metadata": {
        "id": "u1iMhyVLXtpX"
      },
      "source": [
        "# Lecture 12: Strings and text data\n",
        "\n",
        "<div style=\"border: 1px double black; padding: 10px; margin: 10px\">\n",
        "\n",
        "**After today's lecture you will:**\n",
        "* Understand the basics of working with strings in R.\n",
        "* Convert data to strings.\n",
        "* Extract data from strings.\n",
        "</div>\n",
        "\n",
        "These notes correspond to Chapter 15 of your book.\n"
      ]
    },
    {
      "cell_type": "markdown",
      "metadata": {
        "id": "52QJy3SQXtpa"
      },
      "source": [
        "## Strings in R\n",
        "We have already encountered strings at many points in the class, but we didn't really discuss the details of how they work. "
      ]
    },
    {
      "cell_type": "markdown",
      "metadata": {
        "id": "30UnpcMEXtpc"
      },
      "source": [
        "In R, strings must be quoted:"
      ]
    },
    {
      "cell_type": "code",
      "execution_count": 90,
      "metadata": {
        "id": "UlWbw0zbXtpf",
        "outputId": "a93e2cb0-17df-4c27-9df8-72a708ba08ff",
        "colab": {
          "base_uri": "https://localhost:8080/",
          "height": 34
        }
      },
      "outputs": [
        {
          "output_type": "display_data",
          "data": {
            "text/html": [
              "'MLE stands for Maximum Likelihood Estimate'"
            ],
            "text/markdown": "'MLE stands for Maximum Likelihood Estimate'",
            "text/latex": "'MLE stands for Maximum Likelihood Estimate'",
            "text/plain": [
              "[1] \"MLE stands for Maximum Likelihood Estimate\""
            ]
          },
          "metadata": {}
        }
      ],
      "source": [
        "my_string <- \"MLE stands for Maximum Likelihood Estimate\"\n",
        "my_string"
      ]
    },
    {
      "cell_type": "code",
      "source": [
        "my_string2 <- '123'"
      ],
      "metadata": {
        "id": "p2AyKlCcvWm1"
      },
      "execution_count": null,
      "outputs": []
    },
    {
      "cell_type": "code",
      "source": [
        "my_string <- 'MLE stands for Maximum Likelihood Estimate'\n",
        "my_string"
      ],
      "metadata": {
        "id": "aNsK6hOZvOkd",
        "outputId": "27d74da4-6133-4965-9ae3-febd96e5c6d7",
        "colab": {
          "base_uri": "https://localhost:8080/",
          "height": 34
        }
      },
      "execution_count": 91,
      "outputs": [
        {
          "output_type": "display_data",
          "data": {
            "text/html": [
              "'MLE stands for Maximum Likelihood Estimate'"
            ],
            "text/markdown": "'MLE stands for Maximum Likelihood Estimate'",
            "text/latex": "'MLE stands for Maximum Likelihood Estimate'",
            "text/plain": [
              "[1] \"MLE stands for Maximum Likelihood Estimate\""
            ]
          },
          "metadata": {}
        }
      ]
    },
    {
      "cell_type": "markdown",
      "metadata": {
        "id": "xy7ffCMLXtpf"
      },
      "source": [
        "Now what if I want `my_string` to contain a quotation?\n",
        "```\n",
        "> my_string <- \"\"MLE\" stands for \"Maximum Likelihood Estimate\"\"\n",
        "Error in parse(text = x, srcfile = src): <text>:1:16: unexpected symbol\n",
        "1: mystring3 <- \"\"MLE\n",
        "                   ^\n",
        "Traceback:\n",
        "```"
      ]
    },
    {
      "cell_type": "code",
      "source": [
        "my_string <- '\"MLE\" stands for \"Maximum Likelihood Estimate\"'\n",
        "my_string"
      ],
      "metadata": {
        "id": "cxIGLtAavt48",
        "outputId": "0aee9fd6-4b0d-4262-9c61-88e66f083f6c",
        "colab": {
          "base_uri": "https://localhost:8080/",
          "height": 34
        }
      },
      "execution_count": 94,
      "outputs": [
        {
          "output_type": "display_data",
          "data": {
            "text/html": [
              "'\"MLE\" stands for \"Maximum Likelihood Estimate\"'"
            ],
            "text/markdown": "'\"MLE\" stands for \"Maximum Likelihood Estimate\"'",
            "text/latex": "'\"MLE\" stands for \"Maximum Likelihood Estimate\"'",
            "text/plain": [
              "[1] \"\\\"MLE\\\" stands for \\\"Maximum Likelihood Estimate\\\"\""
            ]
          },
          "metadata": {}
        }
      ]
    },
    {
      "cell_type": "markdown",
      "metadata": {
        "id": "SABn6f52Xtpg"
      },
      "source": [
        "To create a string containing double quotes, while using double quotes to create it, you must *escape* the quotes using a backslash (`\\`):"
      ]
    },
    {
      "cell_type": "code",
      "execution_count": 95,
      "metadata": {
        "id": "PwcecV24Xtpg",
        "outputId": "a232f3ef-2fcf-42f6-80c8-adf145470725",
        "colab": {
          "base_uri": "https://localhost:8080/",
          "height": 34
        }
      },
      "outputs": [
        {
          "output_type": "display_data",
          "data": {
            "text/html": [
              "'\"MLE\" stands for \"Maximum Likelihood Estimate\"'"
            ],
            "text/markdown": "'\"MLE\" stands for \"Maximum Likelihood Estimate\"'",
            "text/latex": "'\"MLE\" stands for \"Maximum Likelihood Estimate\"'",
            "text/plain": [
              "[1] \"\\\"MLE\\\" stands for \\\"Maximum Likelihood Estimate\\\"\""
            ]
          },
          "metadata": {}
        }
      ],
      "source": [
        "my_string <- \"\\\"MLE\\\" stands for \\\"Maximum Likelihood Estimate\\\"\"\n",
        "my_string "
      ]
    },
    {
      "cell_type": "markdown",
      "metadata": {
        "id": "oDn7Q5O4Xtph"
      },
      "source": [
        "What if you actually want a backslash? Then you need to escape it as well:"
      ]
    },
    {
      "cell_type": "code",
      "execution_count": 97,
      "metadata": {
        "id": "FEUMMDm-Xtpi",
        "outputId": "d0585ee2-966d-470e-a56b-f561597fdede",
        "colab": {
          "base_uri": "https://localhost:8080/",
          "height": 34
        }
      },
      "outputs": [
        {
          "output_type": "display_data",
          "data": {
            "text/html": [
              "'\\\\ is the backslash character'"
            ],
            "text/markdown": "'\\\\ is the backslash character'",
            "text/latex": "'\\textbackslash{}\\textbackslash{} is the backslash character'",
            "text/plain": [
              "[1] \"\\\\ is the backslash character\""
            ]
          },
          "metadata": {}
        }
      ],
      "source": [
        "a <- \"\\\\ is the backslash character\"\n",
        "a"
      ]
    },
    {
      "cell_type": "markdown",
      "metadata": {
        "id": "lFAl5d5OXtpj"
      },
      "source": [
        "The printed representation of strings shows the escapes:"
      ]
    },
    {
      "cell_type": "code",
      "execution_count": 98,
      "metadata": {
        "id": "l5iESgO3Xtpk",
        "outputId": "d5d30111-aa04-4bc3-b738-5743e3b87058",
        "colab": {
          "base_uri": "https://localhost:8080/"
        }
      },
      "outputs": [
        {
          "output_type": "stream",
          "name": "stdout",
          "text": [
            "[1] \"\\\"MLE\\\" stands for \\\"Maximum Likelihood Estimate\\\"\"\n"
          ]
        }
      ],
      "source": [
        "b <- \"\\\"MLE\\\" stands for \\\"Maximum Likelihood Estimate\\\"\"\n",
        "print(b)"
      ]
    },
    {
      "cell_type": "code",
      "source": [
        "b"
      ],
      "metadata": {
        "id": "l_G7kMvSwy09",
        "outputId": "9de9aeb6-d827-47d8-9df0-ef5bb7d91d4a",
        "colab": {
          "base_uri": "https://localhost:8080/",
          "height": 34
        }
      },
      "execution_count": 99,
      "outputs": [
        {
          "output_type": "display_data",
          "data": {
            "text/html": [
              "'\"MLE\" stands for \"Maximum Likelihood Estimate\"'"
            ],
            "text/markdown": "'\"MLE\" stands for \"Maximum Likelihood Estimate\"'",
            "text/latex": "'\"MLE\" stands for \"Maximum Likelihood Estimate\"'",
            "text/plain": [
              "[1] \"\\\"MLE\\\" stands for \\\"Maximum Likelihood Estimate\\\"\""
            ]
          },
          "metadata": {}
        }
      ]
    },
    {
      "cell_type": "markdown",
      "metadata": {
        "id": "JeBeWaDkXtpl"
      },
      "source": [
        "## Special characters\n",
        "\n",
        "When used inside a string, `\\\"`, `\\'`, and `\\\\`, are \"special characters\". Some other special characters you will encounter:\n",
        "\n",
        "- `\\n` (new line), \n",
        "- `\\t`, tab. \n",
        "- `\\u` or `\\U`: Unicode."
      ]
    },
    {
      "cell_type": "markdown",
      "metadata": {
        "id": "WsHsDvD4Xtpl"
      },
      "source": [
        "### ASCII and unicode\n",
        "Early computers could only read and write the ASCII character set, essentially just roman letters, numbers and some punctuation.\n",
        "\n",
        "Nowadays, computers need to be able to understand alphabets from all over the world. For this we have *Unicode*."
      ]
    },
    {
      "cell_type": "markdown",
      "metadata": {
        "id": "F4ww5aE7Xtpl"
      },
      "source": [
        "You can print characters if you know their unicode using `\\u`. For example, the copyright character has unicode `00A9`. Wikipedia has [a complete list](https://en.wikipedia.org/wiki/List_of_Unicode_characters)."
      ]
    },
    {
      "cell_type": "code",
      "execution_count": null,
      "metadata": {
        "scrolled": true,
        "id": "yuj7q7jJXtpm",
        "outputId": "a6dd6afc-dc69-4de6-b887-f4e39b880de0"
      },
      "outputs": [
        {
          "name": "stdout",
          "output_type": "stream",
          "text": [
            "[1] \"©\"\n"
          ]
        }
      ],
      "source": [
        "print(\"\\u00A9\")"
      ]
    },
    {
      "cell_type": "markdown",
      "metadata": {
        "id": "hUB3tI8sXtpm"
      },
      "source": [
        "## String functions in R\n",
        "\n",
        "Through the `stringr` package, `tidyverse` has a lot of useful functions for combining strings."
      ]
    },
    {
      "cell_type": "markdown",
      "metadata": {
        "id": "8AKEzBaRXtpm"
      },
      "source": [
        "### Combining strings\n",
        "Combining two strings into one is called \"concatenation\" by computer scientists and \"combining strings\" by everyone else. `concatenate` is hard to type, so it is abbreviated `str_c`:"
      ]
    },
    {
      "cell_type": "code",
      "execution_count": 100,
      "metadata": {
        "id": "jl67IK7HXtpn",
        "outputId": "2d00f64b-0bc1-438d-ac7c-6e16df5e5498",
        "colab": {
          "base_uri": "https://localhost:8080/",
          "height": 52
        }
      },
      "outputs": [
        {
          "output_type": "stream",
          "name": "stdout",
          "text": [
            "[1] \"a\" \"b\" \"c\"\n"
          ]
        },
        {
          "output_type": "display_data",
          "data": {
            "text/html": [
              "'abc'"
            ],
            "text/markdown": "'abc'",
            "text/latex": "'abc'",
            "text/plain": [
              "[1] \"abc\""
            ]
          },
          "metadata": {}
        }
      ],
      "source": [
        "c(\"a\", \"b\", \"c\") %>% print  # notice the difference!\n",
        "str_c(\"a\", \"b\", \"c\") \n",
        "# \"Let us con\", \n",
        "#       \" / \", \n",
        "#       \"catenate strings!\") %>% print"
      ]
    },
    {
      "cell_type": "markdown",
      "metadata": {
        "id": "tou_rSreXtpo"
      },
      "source": [
        "Another use of `str_c` is to combine multiple strings into one with a separator:"
      ]
    },
    {
      "cell_type": "code",
      "execution_count": null,
      "metadata": {
        "id": "V7RaRsVfXtpo",
        "outputId": "6befe97e-f74b-4283-c437-7bb478809ee9"
      },
      "outputs": [
        {
          "data": {
            "text/plain": [
              "[1] \"one, two, ten\""
            ]
          },
          "metadata": {},
          "output_type": "display_data"
        }
      ],
      "source": [
        "str_c(\"one\", \"two\", \"ten\", sep = \", \") # can provide a separator"
      ]
    },
    {
      "cell_type": "markdown",
      "metadata": {
        "id": "7aK8FttaXtpp"
      },
      "source": [
        "If you already know some R, you might recognize this as being equivalent to \n",
        "```{r} \n",
        "paste(\"one\", \"two\", \"ten\", sep=\", \")\n",
        "```"
      ]
    },
    {
      "cell_type": "markdown",
      "metadata": {
        "id": "ntbhGjt7Xtpp"
      },
      "source": [
        "### Flattening strings\n",
        "`str_flatten` will take a vector of strings and flatten them into one string."
      ]
    },
    {
      "cell_type": "code",
      "execution_count": 101,
      "metadata": {
        "id": "yiDE23vrXtpp",
        "outputId": "7123f349-07e9-47f0-ef5a-ce374de3adfb",
        "colab": {
          "base_uri": "https://localhost:8080/",
          "height": 192
        }
      },
      "outputs": [
        {
          "output_type": "display_data",
          "data": {
            "text/html": [
              "<table class=\"dataframe\">\n",
              "<caption>A tibble: 3 × 2</caption>\n",
              "<thead>\n",
              "\t<tr><th scope=col>origin</th><th scope=col>carrier</th></tr>\n",
              "\t<tr><th scope=col>&lt;chr&gt;</th><th scope=col>&lt;chr&gt;</th></tr>\n",
              "</thead>\n",
              "<tbody>\n",
              "\t<tr><td>EWR</td><td>UA, B6, AA, MQ, DL, US, EV, AS, WN, 9E, VX, OO    </td></tr>\n",
              "\t<tr><td>JFK</td><td>AA, B6, UA, DL, US, VX, MQ, 9E, HA, EV            </td></tr>\n",
              "\t<tr><td>LGA</td><td>UA, DL, EV, AA, B6, MQ, WN, FL, US, F9, 9E, YV, OO</td></tr>\n",
              "</tbody>\n",
              "</table>\n"
            ],
            "text/markdown": "\nA tibble: 3 × 2\n\n| origin &lt;chr&gt; | carrier &lt;chr&gt; |\n|---|---|\n| EWR | UA, B6, AA, MQ, DL, US, EV, AS, WN, 9E, VX, OO     |\n| JFK | AA, B6, UA, DL, US, VX, MQ, 9E, HA, EV             |\n| LGA | UA, DL, EV, AA, B6, MQ, WN, FL, US, F9, 9E, YV, OO |\n\n",
            "text/latex": "A tibble: 3 × 2\n\\begin{tabular}{ll}\n origin & carrier\\\\\n <chr> & <chr>\\\\\n\\hline\n\t EWR & UA, B6, AA, MQ, DL, US, EV, AS, WN, 9E, VX, OO    \\\\\n\t JFK & AA, B6, UA, DL, US, VX, MQ, 9E, HA, EV            \\\\\n\t LGA & UA, DL, EV, AA, B6, MQ, WN, FL, US, F9, 9E, YV, OO\\\\\n\\end{tabular}\n",
            "text/plain": [
              "  origin carrier                                           \n",
              "1 EWR    UA, B6, AA, MQ, DL, US, EV, AS, WN, 9E, VX, OO    \n",
              "2 JFK    AA, B6, UA, DL, US, VX, MQ, 9E, HA, EV            \n",
              "3 LGA    UA, DL, EV, AA, B6, MQ, WN, FL, US, F9, 9E, YV, OO"
            ]
          },
          "metadata": {}
        }
      ],
      "source": [
        "# list all the air carriers flying out of each airport\n",
        "distinct(flights, origin, carrier) %>% \n",
        "  group_by(origin) %>% \n",
        "    summarize(carrier = str_flatten(carrier, \", \"))"
      ]
    },
    {
      "cell_type": "markdown",
      "metadata": {
        "id": "EIBKeJNDXtpp"
      },
      "source": [
        "### Extracting pieces of a string\n",
        "Sometimes we want only a portion of a string, say the first few or last characters. The `str_sub(str, start, stop)` function will extract substrings from a larger string. (Negative indexing will counts from the end.)"
      ]
    },
    {
      "cell_type": "code",
      "execution_count": null,
      "metadata": {
        "id": "2DWtqq7pXtpq",
        "outputId": "f85c456c-5c74-460f-a17f-2bb9f09fd006"
      },
      "outputs": [
        {
          "data": {
            "text/html": [
              "'sp'"
            ],
            "text/latex": [
              "'sp'"
            ],
            "text/markdown": [
              "'sp'"
            ],
            "text/plain": [
              "[1] \"sp\""
            ]
          },
          "metadata": {},
          "output_type": "display_data"
        },
        {
          "data": {
            "text/html": [
              "'un'"
            ],
            "text/latex": [
              "'un'"
            ],
            "text/markdown": [
              "'un'"
            ],
            "text/plain": [
              "[1] \"un\""
            ]
          },
          "metadata": {},
          "output_type": "display_data"
        },
        {
          "data": {
            "text/html": [
              "'t n'"
            ],
            "text/latex": [
              "'t n'"
            ],
            "text/markdown": [
              "'t n'"
            ],
            "text/plain": [
              "[1] \"t n\""
            ]
          },
          "metadata": {},
          "output_type": "display_data"
        },
        {
          "data": {
            "text/html": [
              "'t\\'s don'"
            ],
            "text/latex": [
              "'t\\textbackslash{}'s don'"
            ],
            "text/markdown": [
              "'t\\'s don'"
            ],
            "text/plain": [
              "[1] \"t's don\""
            ]
          },
          "metadata": {},
          "output_type": "display_data"
        }
      ],
      "source": [
        "str_sub('spring break!', 1, 2)  # first two characters\n",
        "str_sub('was fun', -2, -1)  # last two characters\n",
        "str_sub('but now', 3, 5)  # middle characters\n",
        "str_sub('it\\'s done', 2, -2) # everything except the first and last"
      ]
    },
    {
      "cell_type": "code",
      "source": [
        "str_sub('spring break', 1, -2)"
      ],
      "metadata": {
        "id": "vW2g9RXEzxHk",
        "outputId": "3a918b20-cd3d-431a-b822-dd8d02ea6352",
        "colab": {
          "base_uri": "https://localhost:8080/",
          "height": 34
        }
      },
      "execution_count": 104,
      "outputs": [
        {
          "output_type": "display_data",
          "data": {
            "text/html": [
              "'spring brea'"
            ],
            "text/markdown": "'spring brea'",
            "text/latex": "'spring brea'",
            "text/plain": [
              "[1] \"spring brea\""
            ]
          },
          "metadata": {}
        }
      ]
    },
    {
      "cell_type": "code",
      "source": [
        "?str_sub"
      ],
      "metadata": {
        "id": "_-1_pK2YzlAN"
      },
      "execution_count": 102,
      "outputs": []
    },
    {
      "cell_type": "markdown",
      "metadata": {
        "id": "DTo-jACKXtpq"
      },
      "source": [
        "## Extracting data from strings\n",
        "Often in real data we have multiple columns of data crammed into one column. In fact, we saw this last lecture when looking at IMDB data:"
      ]
    },
    {
      "cell_type": "code",
      "execution_count": 105,
      "metadata": {
        "id": "Z73nIqA2Xtpq",
        "outputId": "bc8d2031-b13c-44ef-ddbb-63bf8fe16b05",
        "colab": {
          "base_uri": "https://localhost:8080/",
          "height": 408
        }
      },
      "outputs": [
        {
          "output_type": "display_data",
          "data": {
            "text/html": [
              "<table class=\"dataframe\">\n",
              "<caption>A tibble: 6 × 3</caption>\n",
              "<thead>\n",
              "\t<tr><th scope=col>Rank &amp; Title</th><th scope=col>IMDb Rating</th><th scope=col>Your Rating</th></tr>\n",
              "\t<tr><th scope=col>&lt;chr&gt;</th><th scope=col>&lt;dbl&gt;</th><th scope=col>&lt;chr&gt;</th></tr>\n",
              "</thead>\n",
              "<tbody>\n",
              "\t<tr><td>1.\n",
              "      The Shawshank Redemption\n",
              "        (1994)</td><td>9.2</td><td>12345678910\n",
              "        \n",
              "        \n",
              "            \n",
              "            NOT YET RELEASED\n",
              "             \n",
              "            \n",
              "            Seen</td></tr>\n",
              "\t<tr><td>2.\n",
              "      The Godfather\n",
              "        (1972)           </td><td>9.2</td><td>12345678910\n",
              "        \n",
              "        \n",
              "            \n",
              "            NOT YET RELEASED\n",
              "             \n",
              "            \n",
              "            Seen</td></tr>\n",
              "\t<tr><td>3.\n",
              "      The Dark Knight\n",
              "        (2008)         </td><td>9.0</td><td>12345678910\n",
              "        \n",
              "        \n",
              "            \n",
              "            NOT YET RELEASED\n",
              "             \n",
              "            \n",
              "            Seen</td></tr>\n",
              "\t<tr><td>4.\n",
              "      The Godfather Part II\n",
              "        (1974)   </td><td>9.0</td><td>12345678910\n",
              "        \n",
              "        \n",
              "            \n",
              "            NOT YET RELEASED\n",
              "             \n",
              "            \n",
              "            Seen</td></tr>\n",
              "\t<tr><td>5.\n",
              "      12 Angry Men\n",
              "        (1957)            </td><td>9.0</td><td>12345678910\n",
              "        \n",
              "        \n",
              "            \n",
              "            NOT YET RELEASED\n",
              "             \n",
              "            \n",
              "            Seen</td></tr>\n",
              "\t<tr><td>6.\n",
              "      Schindler's List\n",
              "        (1993)        </td><td>8.9</td><td>12345678910\n",
              "        \n",
              "        \n",
              "            \n",
              "            NOT YET RELEASED\n",
              "             \n",
              "            \n",
              "            Seen</td></tr>\n",
              "</tbody>\n",
              "</table>\n"
            ],
            "text/markdown": "\nA tibble: 6 × 3\n\n| Rank &amp; Title &lt;chr&gt; | IMDb Rating &lt;dbl&gt; | Your Rating &lt;chr&gt; |\n|---|---|---|\n| 1.\n      The Shawshank Redemption\n        (1994) | 9.2 | 12345678910\n        \n        \n            \n            NOT YET RELEASED\n             \n            \n            Seen |\n| 2.\n      The Godfather\n        (1972)            | 9.2 | 12345678910\n        \n        \n            \n            NOT YET RELEASED\n             \n            \n            Seen |\n| 3.\n      The Dark Knight\n        (2008)          | 9.0 | 12345678910\n        \n        \n            \n            NOT YET RELEASED\n             \n            \n            Seen |\n| 4.\n      The Godfather Part II\n        (1974)    | 9.0 | 12345678910\n        \n        \n            \n            NOT YET RELEASED\n             \n            \n            Seen |\n| 5.\n      12 Angry Men\n        (1957)             | 9.0 | 12345678910\n        \n        \n            \n            NOT YET RELEASED\n             \n            \n            Seen |\n| 6.\n      Schindler's List\n        (1993)         | 8.9 | 12345678910\n        \n        \n            \n            NOT YET RELEASED\n             \n            \n            Seen |\n\n",
            "text/latex": "A tibble: 6 × 3\n\\begin{tabular}{lll}\n Rank \\& Title & IMDb Rating & Your Rating\\\\\n <chr> & <dbl> & <chr>\\\\\n\\hline\n\t 1.\n      The Shawshank Redemption\n        (1994) & 9.2 & 12345678910\n        \n        \n            \n            NOT YET RELEASED\n             \n            \n            Seen\\\\\n\t 2.\n      The Godfather\n        (1972)            & 9.2 & 12345678910\n        \n        \n            \n            NOT YET RELEASED\n             \n            \n            Seen\\\\\n\t 3.\n      The Dark Knight\n        (2008)          & 9.0 & 12345678910\n        \n        \n            \n            NOT YET RELEASED\n             \n            \n            Seen\\\\\n\t 4.\n      The Godfather Part II\n        (1974)    & 9.0 & 12345678910\n        \n        \n            \n            NOT YET RELEASED\n             \n            \n            Seen\\\\\n\t 5.\n      12 Angry Men\n        (1957)             & 9.0 & 12345678910\n        \n        \n            \n            NOT YET RELEASED\n             \n            \n            Seen\\\\\n\t 6.\n      Schindler's List\n        (1993)         & 8.9 & 12345678910\n        \n        \n            \n            NOT YET RELEASED\n             \n            \n            Seen\\\\\n\\end{tabular}\n",
            "text/plain": [
              "  Rank & Title                                       IMDb Rating\n",
              "1 1.\\n      The Shawshank Redemption\\n        (1994) 9.2        \n",
              "2 2.\\n      The Godfather\\n        (1972)            9.2        \n",
              "3 3.\\n      The Dark Knight\\n        (2008)          9.0        \n",
              "4 4.\\n      The Godfather Part II\\n        (1974)    9.0        \n",
              "5 5.\\n      12 Angry Men\\n        (1957)             9.0        \n",
              "6 6.\\n      Schindler's List\\n        (1993)         8.9        \n",
              "  Your Rating                                                                                                               \n",
              "1 12345678910\\n        \\n        \\n            \\n            NOT YET RELEASED\\n             \\n            \\n            Seen\n",
              "2 12345678910\\n        \\n        \\n            \\n            NOT YET RELEASED\\n             \\n            \\n            Seen\n",
              "3 12345678910\\n        \\n        \\n            \\n            NOT YET RELEASED\\n             \\n            \\n            Seen\n",
              "4 12345678910\\n        \\n        \\n            \\n            NOT YET RELEASED\\n             \\n            \\n            Seen\n",
              "5 12345678910\\n        \\n        \\n            \\n            NOT YET RELEASED\\n             \\n            \\n            Seen\n",
              "6 12345678910\\n        \\n        \\n            \\n            NOT YET RELEASED\\n             \\n            \\n            Seen"
            ]
          },
          "metadata": {}
        }
      ],
      "source": [
        "library(rvest)\n",
        "imdb.250 <- read_html(\"https://www.imdb.com/chart/top/\") %>% \n",
        "  html_element('table') %>% html_table() %>% select(2:4)\n",
        "head(imdb.250)"
      ]
    },
    {
      "cell_type": "markdown",
      "metadata": {
        "id": "FfxrZqaIXtpq"
      },
      "source": [
        "The `Rank & Title` column contains three pieces of data: rank, title, and year of release."
      ]
    },
    {
      "cell_type": "markdown",
      "metadata": {
        "id": "XLfb8P1kXtpq"
      },
      "source": [
        "## `separate_` functions\n",
        "`tidyverse` has some built-in functions designed to break apart and combine string data:\n",
        "- `separate_longer_delim`, `separate_longer_position`: combine multiple columns of string data into one.\n",
        "- `separate_wider_delim`, `separate_wider_position`: extract string data into multiple columns.\n",
        "These functions work analogously to `pivot_{wider,longer}`.\n"
      ]
    },
    {
      "cell_type": "markdown",
      "metadata": {
        "id": "0IcWL4hHXtpq"
      },
      "source": [
        "`separate_wider_delim` converts a delimited string into multiple columns of data. `separate_wider_position` does the same, but uses a fixed position."
      ]
    },
    {
      "cell_type": "code",
      "execution_count": 106,
      "metadata": {
        "id": "0qTQh-OuXtpr",
        "outputId": "1999dfcf-083b-43b0-a794-863914ed1724",
        "colab": {
          "base_uri": "https://localhost:8080/",
          "height": 192
        }
      },
      "outputs": [
        {
          "output_type": "display_data",
          "data": {
            "text/html": [
              "<table class=\"dataframe\">\n",
              "<caption>A tibble: 3 × 3</caption>\n",
              "<thead>\n",
              "\t<tr><th scope=col>code</th><th scope=col>edition</th><th scope=col>year</th></tr>\n",
              "\t<tr><th scope=col>&lt;chr&gt;</th><th scope=col>&lt;chr&gt;</th><th scope=col>&lt;chr&gt;</th></tr>\n",
              "</thead>\n",
              "<tbody>\n",
              "\t<tr><td>a10</td><td>1</td><td>2022</td></tr>\n",
              "\t<tr><td>b10</td><td>2</td><td>2011</td></tr>\n",
              "\t<tr><td>e15</td><td>1</td><td>2015</td></tr>\n",
              "</tbody>\n",
              "</table>\n"
            ],
            "text/markdown": "\nA tibble: 3 × 3\n\n| code &lt;chr&gt; | edition &lt;chr&gt; | year &lt;chr&gt; |\n|---|---|---|\n| a10 | 1 | 2022 |\n| b10 | 2 | 2011 |\n| e15 | 1 | 2015 |\n\n",
            "text/latex": "A tibble: 3 × 3\n\\begin{tabular}{lll}\n code & edition & year\\\\\n <chr> & <chr> & <chr>\\\\\n\\hline\n\t a10 & 1 & 2022\\\\\n\t b10 & 2 & 2011\\\\\n\t e15 & 1 & 2015\\\\\n\\end{tabular}\n",
            "text/plain": [
              "  code edition year\n",
              "1 a10  1       2022\n",
              "2 b10  2       2011\n",
              "3 e15  1       2015"
            ]
          },
          "metadata": {}
        }
      ],
      "source": [
        "df3 <- tibble(x = c(\"a10.1.2022\", \"b10.2.2011\", \"e15.1.2015\"))\n",
        "df3 %>%  separate_wider_delim(\n",
        "    x,\n",
        "    delim = \".\",\n",
        "    names = c(\"code\", \"edition\", \"year\")\n",
        "  )\n"
      ]
    },
    {
      "cell_type": "code",
      "execution_count": 108,
      "metadata": {
        "id": "1iuXDWEsXtpr",
        "outputId": "9985a504-f875-429b-bbb6-36eb74c8a7f4",
        "colab": {
          "base_uri": "https://localhost:8080/",
          "height": 408
        }
      },
      "outputs": [
        {
          "output_type": "display_data",
          "data": {
            "text/html": [
              "<table class=\"dataframe\">\n",
              "<caption>A tibble: 6 × 5</caption>\n",
              "<thead>\n",
              "\t<tr><th scope=col>rank</th><th scope=col>title</th><th scope=col>year</th><th scope=col>IMDb Rating</th><th scope=col>Your Rating</th></tr>\n",
              "\t<tr><th scope=col>&lt;chr&gt;</th><th scope=col>&lt;chr&gt;</th><th scope=col>&lt;chr&gt;</th><th scope=col>&lt;dbl&gt;</th><th scope=col>&lt;chr&gt;</th></tr>\n",
              "</thead>\n",
              "<tbody>\n",
              "\t<tr><td>1.</td><td>      The Shawshank Redemption</td><td>        (1994)</td><td>9.2</td><td>12345678910\n",
              "        \n",
              "        \n",
              "            \n",
              "            NOT YET RELEASED\n",
              "             \n",
              "            \n",
              "            Seen</td></tr>\n",
              "\t<tr><td>2.</td><td>      The Godfather           </td><td>        (1972)</td><td>9.2</td><td>12345678910\n",
              "        \n",
              "        \n",
              "            \n",
              "            NOT YET RELEASED\n",
              "             \n",
              "            \n",
              "            Seen</td></tr>\n",
              "\t<tr><td>3.</td><td>      The Dark Knight         </td><td>        (2008)</td><td>9.0</td><td>12345678910\n",
              "        \n",
              "        \n",
              "            \n",
              "            NOT YET RELEASED\n",
              "             \n",
              "            \n",
              "            Seen</td></tr>\n",
              "\t<tr><td>4.</td><td>      The Godfather Part II   </td><td>        (1974)</td><td>9.0</td><td>12345678910\n",
              "        \n",
              "        \n",
              "            \n",
              "            NOT YET RELEASED\n",
              "             \n",
              "            \n",
              "            Seen</td></tr>\n",
              "\t<tr><td>5.</td><td>      12 Angry Men            </td><td>        (1957)</td><td>9.0</td><td>12345678910\n",
              "        \n",
              "        \n",
              "            \n",
              "            NOT YET RELEASED\n",
              "             \n",
              "            \n",
              "            Seen</td></tr>\n",
              "\t<tr><td>6.</td><td>      Schindler's List        </td><td>        (1993)</td><td>8.9</td><td>12345678910\n",
              "        \n",
              "        \n",
              "            \n",
              "            NOT YET RELEASED\n",
              "             \n",
              "            \n",
              "            Seen</td></tr>\n",
              "</tbody>\n",
              "</table>\n"
            ],
            "text/markdown": "\nA tibble: 6 × 5\n\n| rank &lt;chr&gt; | title &lt;chr&gt; | year &lt;chr&gt; | IMDb Rating &lt;dbl&gt; | Your Rating &lt;chr&gt; |\n|---|---|---|---|---|\n| 1. |       The Shawshank Redemption |         (1994) | 9.2 | 12345678910\n        \n        \n            \n            NOT YET RELEASED\n             \n            \n            Seen |\n| 2. |       The Godfather            |         (1972) | 9.2 | 12345678910\n        \n        \n            \n            NOT YET RELEASED\n             \n            \n            Seen |\n| 3. |       The Dark Knight          |         (2008) | 9.0 | 12345678910\n        \n        \n            \n            NOT YET RELEASED\n             \n            \n            Seen |\n| 4. |       The Godfather Part II    |         (1974) | 9.0 | 12345678910\n        \n        \n            \n            NOT YET RELEASED\n             \n            \n            Seen |\n| 5. |       12 Angry Men             |         (1957) | 9.0 | 12345678910\n        \n        \n            \n            NOT YET RELEASED\n             \n            \n            Seen |\n| 6. |       Schindler's List         |         (1993) | 8.9 | 12345678910\n        \n        \n            \n            NOT YET RELEASED\n             \n            \n            Seen |\n\n",
            "text/latex": "A tibble: 6 × 5\n\\begin{tabular}{lllll}\n rank & title & year & IMDb Rating & Your Rating\\\\\n <chr> & <chr> & <chr> & <dbl> & <chr>\\\\\n\\hline\n\t 1. &       The Shawshank Redemption &         (1994) & 9.2 & 12345678910\n        \n        \n            \n            NOT YET RELEASED\n             \n            \n            Seen\\\\\n\t 2. &       The Godfather            &         (1972) & 9.2 & 12345678910\n        \n        \n            \n            NOT YET RELEASED\n             \n            \n            Seen\\\\\n\t 3. &       The Dark Knight          &         (2008) & 9.0 & 12345678910\n        \n        \n            \n            NOT YET RELEASED\n             \n            \n            Seen\\\\\n\t 4. &       The Godfather Part II    &         (1974) & 9.0 & 12345678910\n        \n        \n            \n            NOT YET RELEASED\n             \n            \n            Seen\\\\\n\t 5. &       12 Angry Men             &         (1957) & 9.0 & 12345678910\n        \n        \n            \n            NOT YET RELEASED\n             \n            \n            Seen\\\\\n\t 6. &       Schindler's List         &         (1993) & 8.9 & 12345678910\n        \n        \n            \n            NOT YET RELEASED\n             \n            \n            Seen\\\\\n\\end{tabular}\n",
            "text/plain": [
              "  rank title                          year           IMDb Rating\n",
              "1 1.         The Shawshank Redemption         (1994) 9.2        \n",
              "2 2.         The Godfather                    (1972) 9.2        \n",
              "3 3.         The Dark Knight                  (2008) 9.0        \n",
              "4 4.         The Godfather Part II            (1974) 9.0        \n",
              "5 5.         12 Angry Men                     (1957) 9.0        \n",
              "6 6.         Schindler's List                 (1993) 8.9        \n",
              "  Your Rating                                                                                                               \n",
              "1 12345678910\\n        \\n        \\n            \\n            NOT YET RELEASED\\n             \\n            \\n            Seen\n",
              "2 12345678910\\n        \\n        \\n            \\n            NOT YET RELEASED\\n             \\n            \\n            Seen\n",
              "3 12345678910\\n        \\n        \\n            \\n            NOT YET RELEASED\\n             \\n            \\n            Seen\n",
              "4 12345678910\\n        \\n        \\n            \\n            NOT YET RELEASED\\n             \\n            \\n            Seen\n",
              "5 12345678910\\n        \\n        \\n            \\n            NOT YET RELEASED\\n             \\n            \\n            Seen\n",
              "6 12345678910\\n        \\n        \\n            \\n            NOT YET RELEASED\\n             \\n            \\n            Seen"
            ]
          },
          "metadata": {}
        }
      ],
      "source": [
        "# easily separate the string data in imdb.250\n",
        "\n",
        "imdb.250 %>% separate_wider_delim(\n",
        "  `Rank & Title`,\n",
        "  delim = '\\n',\n",
        "  names = c('rank','title', 'year')\n",
        ") %>% head"
      ]
    },
    {
      "cell_type": "markdown",
      "metadata": {
        "id": "4FoHiLrzXtpr"
      },
      "source": [
        "## Harry Potter\n",
        "Let's practice some string analysis by looking at the text of Harry Potter:\n",
        "![harry potter](https://images-na.ssl-images-amazon.com/images/I/51HSkTKlauL._SX346_BO1,204,203,200_.jpg)"
      ]
    },
    {
      "cell_type": "code",
      "execution_count": 110,
      "metadata": {
        "id": "H0lnZkCLXtpr",
        "outputId": "6372e908-0a2d-4ca5-9a27-f9e899e38937",
        "colab": {
          "base_uri": "https://localhost:8080/"
        }
      },
      "outputs": [
        {
          "output_type": "stream",
          "name": "stderr",
          "text": [
            "Skipping install of 'harrypotter' from a github remote, the SHA1 (51f71461) has not changed since last install.\n",
            "  Use `force = TRUE` to force installation\n",
            "\n"
          ]
        },
        {
          "output_type": "stream",
          "name": "stdout",
          "text": [
            " chr [1:17] \"THE BOY WHO LIVED　　Mr. and Mrs. Dursley, of number four, Privet Drive, were proud to say that they were perfe\"| __truncated__ ...\n"
          ]
        }
      ],
      "source": [
        "remotes::install_github(\"bradleyboehmke/harrypotter\")\n",
        "library(harrypotter)\n",
        "str(philosophers_stone)\n",
        "ch1 <- philosophers_stone[1]"
      ]
    },
    {
      "cell_type": "markdown",
      "metadata": {
        "id": "TLE5V56xXtpr"
      },
      "source": [
        "`philosophers_stone` is a list containing seventeen entries: one for each chapter of \"Harry Potter and the Sorcerer's Stone\" (titled differently in the U.K.)\n",
        "\n",
        "Instead of reading Harry Potter, we will analyze it like a data set."
      ]
    },
    {
      "cell_type": "markdown",
      "metadata": {
        "id": "XKgh8mRmXtps"
      },
      "source": [
        "Each entry of `philosophers_stone` is a *string*. There is one string per chapter, so they are pretty long. To figure out how long a string is, we can use the `str_length()` command:"
      ]
    },
    {
      "cell_type": "code",
      "execution_count": 111,
      "metadata": {
        "id": "8p8FryClXtps",
        "outputId": "7700d0f4-512c-440e-aa24-e13f793c4a30",
        "colab": {
          "base_uri": "https://localhost:8080/",
          "height": 1000
        }
      },
      "outputs": [
        {
          "output_type": "display_data",
          "data": {
            "text/html": [
              "'THE BOY WHO LIVED　　Mr. and Mrs. Dursley, of number four, Privet Drive, were proud to say that they were perfectly normal, thank you very much. They were the last people you\\'d expect to be involved in anything strange or mysterious, because they just didn\\'t hold with such nonsense.　　Mr. Dursley was the director of a firm called Grunnings, which made drills. He was a big, beefy man with hardly any neck, although he did have a very large mustache. Mrs. Dursley was thin and blonde and had nearly twice the usual amount of neck, which came in very useful as she spent so much of her time craning over garden fences, spying on the neighbors. The Dursleys had a small son called Dudley and in their opinion there was no finer boy anywhere.　　The Dursleys had everything they wanted, but they also had a secret, and their greatest fear was that somebody would discover it. They didn\\'t think they could bear it if anyone found out about the Potters. Mrs. Potter was Mrs. Dursley\\'s sister, but they hadn\\'t met for several years; in fact, Mrs. Dursley pretended she didn\\'t have a sister, because her sister and her good-for-nothing husband were as unDursleyish as it was possible to be. The Dursleys shuddered to think what the neighbors would say if the Potters arrived in the street. The Dursleys knew that the Potters had a small son, too, but they had never even seen him. This boy was another good reason for keeping the Potters away; they didn\\'t want Dudley mixing with a child like that.　　When Mr. and Mrs. Dursley woke up on the dull, gray Tuesday our story starts, there was nothing about the cloudy sky outside to suggest that strange and mysterious things would soon be happening all over the country. Mr. Dursley hummed as he picked out his most boring tie for work, and Mrs. Dursley gossiped away happily as she wrestled a screaming Dudley into his high chair.　　None of them noticed a large, tawny owl flutter past the window.　　At half past eight, Mr. Dursley picked up his briefcase, pecked Mrs. Dursley on the cheek, and tried to kiss Dudley good-bye but missed, because Dudley was now having a tantrum and throwing his cereal at the walls. \"Little tyke,\" chortled Mr. Dursley as he left the house. He got into his car and backed out of number four\\'s drive.　　It was on the corner of the street that he noticed the first sign of something peculiar -- a cat reading a map. For a second, Mr. Dursley didn\\'t realize what he had seen -- then he jerked his head around to look again. There was a tabby cat standing on the corner of Privet Drive, but there wasn\\'t a map in sight. What could he have been thinking of? It must have been a trick of the light. Mr. Dursley blinked and stared at the cat. It stared back. As Mr. Dursley drove around the corner and up the road, he watched the cat in his mirror. It was now reading the sign that said Privet Drive -- no, looking at the sign; cats couldn\\'t read maps or signs. Mr. Dursley gave himself a little shake and put the cat out of his mind. As he drove toward town he thought of nothing except a large order of drills he was hoping to get that day.　　But on the edge of town, drills were driven out of his mind by something else. As he sat in the usual morning traffic jam, he couldn\\'t help noticing that there seemed to be a lot of strangely dressed people about. People in cloaks. Mr. Dursley couldn\\'t bear people who dressed in funny clothes -- the getups you saw on young people! He supposed this was some stupid new fashion. He drummed his fingers on the steering wheel and his eyes fell on a huddle of these weirdos standing quite close by. They were whispering excitedly together. Mr. Dursley was enraged to see that a couple of them weren\\'t young at all; why, that man had to be older than he was, and wearing an emerald-green cloak! The nerve of him! But then it struck Mr. Dursley that this was probably some silly stunt -- these people were obviously collecting for something... yes, that would be it. The traffic moved on and a few minutes later, Mr. Dursley arrived in the Grunnings parking lot, his mind back on drills.　　Mr. Dursley always sat with his back to the window in his office on the ninth floor. If he hadn\\'t, he might have found it harder to concentrate on drills that morning. He didn\\'t see the owls swoop ing past in broad daylight, though people down in the street did; they pointed and gazed open- mouthed as owl after owl sped overhead. Most of them had never seen an owl even at nighttime. Mr. Dursley, however, had a perfectly normal, owl-free morning. He yelled at five different people. He made several important telephone calls and shouted a bit more. He was in a very good mood until lunchtime, when he thought he\\'d stretch his legs and walk across the road to buy himself a bun from the bakery.　　He\\'d forgotten all about the people in cloaks until he passed a group of them next to the baker\\'s. He eyed them angrily as he passed. He didn\\'t know why, but they made him uneasy. This bunch were whispering excitedly, too, and he couldn\\'t see a single collecting tin. It was on his way back past them, clutching a large doughnut in a bag, that he caught a few words of what they were saying.　　 \"The Potters, that\\'s right, that\\'s what I heard yes, their son, Harry\"　　Mr. Dursley stopped dead. Fear flooded him. He looked back at the whisperers as if he wanted to say something to them, but thought better of it.　　He dashed back across the road, hurried up to his office, snapped at his secretary not to disturb him, seized his telephone, and had almost finished dialing his home number when he changed his mind. He put the receiver back down and stroked his mustache, thinking... no, he was being stupid. Potter wasn\\'t such an unusual name. He was sure there were lots of people called Potter who had a son called Harry. Come to think of it, he wasn\\'t even sure his nephew was called Harry. He\\'d never even seen the boy. It might have been Harvey. Or Harold. There was no point in worrying Mrs. Dursley; she always got so upset at any mention of her sister. He didn\\'t blame her -- if he\\'d had a sister like that... but all the same, those people in cloaks...　　He found it a lot harder to concentrate on drills that afternoon and when he left the building at five o\\'clock, he was still so worried that he walked straight into someone just outside the door.　　\"Sorry,\" he grunted, as the tiny old man stumbled and almost fell. It was a few seconds before Mr. Dursley realized that the man was wearing a violet cloak. He didn\\'t seem at all upset at being almost knocked to the ground. On the contrary, his face split into a wide smile and he said in a squeaky voice that made passersby stare, \"Don\\'t be sorry, my dear sir, for nothing could upset me today! Rejoice, for You-Know-Who has gone at last! Even Muggles like yourself should be celebrating, this happy, happy day!\"　　And the old man hugged Mr. Dursley around the middle and walked off.　　Mr. Dursley stood rooted to the spot. He had been hugged by a complete stranger. He also thought he had been called a Muggle, whatever that was. He was rattled. He hurried to his car and set off for home, hoping he was imagining things, which he had never hoped before, because he didn\\'t approve of imagination.　　As he pulled into the driveway of number four, the first thing he saw -- and it didn\\'t improve his mood -- was the tabby cat he\\'d spotted that morning. It was now sitting on his garden wall. He was sure it was the same one; it had the same markings around its eyes.　　\"Shoo!\" said Mr. Dursley loudly. The cat didn\\'t move. It just gave him a stern look. Was this normal cat behavior? Mr. Dursley wondered. Trying to pull himself together, he let himself into the house. He was still determined not to mention anything to his wife.　　Mrs. Dursley had had a nice, normal day. She told him over dinner all about Mrs. Next Door\\'s problems with her daughter and how Dudley had learned a new word (\"Won\\'t!\"). Mr. Dursley tried to act normally. When Dudley had been put to bed, he went into the living room in time to catch the last report on the evening news:　　\"And finally, bird-watchers everywhere have reported that the nation\\'s owls have been behaving very unusually today. Although owls normally hunt at night and are hardly ever seen in daylight, there have been hundreds of sightings of these birds flying in every direction since sunrise. Experts are unable to explain why the owls have suddenly changed their sleeping pattern.\" The newscaster allowed himself a grin. \"Most mysterious. And now, over to Jim McGuffin with the weather. Going to be any more showers of owls tonight, Jim?\"　　\"Well, Ted,\" said the weatherman, \"I don\\'t know about that, but it\\'s not only the owls that have been acting oddly today. Viewers as far apart as Kent, Yorkshire, and Dundee have been phoning in to tell me that instead of the rain I promised yesterday, they\\'ve had a downpour of shooting stars! Perhaps people have been celebrating Bonfire Night early -- it\\'s not until next week, folks! But I can promise a wet night tonight.\"　　Mr. Dursley sat frozen in his armchair. Shooting stars all over Britain? Owls flying by daylight? Mysterious people in cloaks all over the place? And a whisper, a whisper about the Potters...　　Mrs. Dursley came into the living room carrying two cups of tea. It was no good. He\\'d have to say something to her. He cleared his throat nervously. \"Er -- Petunia, dear -- you haven\\'t heard from your sister lately, have you?\"　　As he had expected, Mrs. Dursley looked shocked and angry. After all, they normally pretended she didn\\'t have a sister.　　\"No,\" she said sharply. \"Why?\"　　\"Funny stuff on the news,\" Mr. Dursley mumbled. \"Owls... shooting stars... and there were a lot of funny-looking people in town today...\"　　\"So?\" snapped Mrs. Dursley.　　\"Well, I just thought... maybe... it was something to do with... you know... her crowd.\"　　Mrs. Dursley sipped her tea through pursed lips. Mr. Dursley wondered whether he dared tell her he\\'d heard the name \"Potter.\" He decided he didn\\'t dare. Instead he said, as casually as he could, \"Their son -- he\\'d be about Dudley\\'s age now, wouldn\\'t he?\"　　\"I suppose so,\" said Mrs. Dursley stiffly.　　\"What\\'s his name again? Howard, isn\\'t it?\"　　\"Harry. Nasty, common name, if you ask me.\"　　\"Oh, yes,\" said Mr. Dursley, his heart sinking horribly. \"Yes, I quite agree.\"　　He didn\\'t say another word on the subject as they went upstairs to bed. While Mrs. Dursley was in the bathroom, Mr. Dursley crept to the bedroom window and peered down into the front garden. The cat was still there. It was staring down Privet Drive as though it were waiting for something.　　Was he imagining things? Could all this have anything to do with the Potters? If it did... if it got out that they were related to a pair of -- well, he didn\\'t think he could bear it.　　The Dursleys got into bed. Mrs. Dursley fell asleep quickly but Mr. Dursley lay awake, turning it all over in his mind. His last, comforting thought before he fell asleep was that even if the Potters were involved, there was no reason for them to come near him and Mrs. Dursley. The Potters knew very well what he and Petunia thought about them and their kind.... He couldn\\'t see how he and Petunia could get mixed up in anything that might be going on -- he yawned and turned over -- it couldn\\'t affect them....　　How very wrong he was.　　Mr. Dursley might have been drifting into an uneasy sleep, but the cat on the wall outside was showing no sign of sleepiness. It was sitting as still as a statue, its eyes fixed unblinkingly on the far corner of Privet Drive. It didn\\'t so much as quiver when a car door slammed on the next street, nor when two owls swooped overhead. In fact, it was nearly midnight before the cat moved at all.　　A man appeared on the corner the cat had been watching, appeared so suddenly and silently you\\'d have thought he\\'d just popped out of the ground. The cat\\'s tail twitched and its eyes narrowed.　　Nothing like this man had ever been seen on Privet Drive. He was tall, thin, and very old, judging by the silver of his hair and beard, which were both long enough to tuck into his belt. He was wearing long robes, a purple cloak that swept the ground, and high-heeled, buckled boots. His blue eyes were light, bright, and sparkling behind half-moon spectacles and his nose was very long and crooked, as though it had been broken at least twice. This man\\'s name was Albus Dumbledore.　　Albus Dumbledore didn\\'t seem to realize that he had just arrived in a street where everything from his name to his boots was unwelcome. He was busy rummaging in his cloak, looking for something. But he did seem to realize he was being watched, because he looked up suddenly at the cat, which was still staring at him from the other end of the street. For some reason, the sight of the cat seemed to amuse him. He chuckled and muttered, \"I should have known.\"　　He found what he was looking for in his inside pocket. It seemed to be a silver cigarette lighter. He flicked it open, held it up in the air, and clicked it. The nearest street lamp went out with a little pop. He clicked it again -- the next lamp flickered into darkness. Twelve times he clicked the Put-Outer, until the only lights left on the whole street were two tiny pinpricks in the distance, which were the eyes of the cat watching him. If anyone looked out of their window now, even beady-eyed Mrs. Dursley, they wouldn\\'t be able to see anything that was happening down on the pavement. Dumbledore slipped the Put-Outer back inside his cloak and set off down the street toward number four, where he sat down on the wall next to the cat. He didn\\'t look at it, but after a moment he spoke to it.　　\"Fancy seeing you here, Professor McGonagall.\"　　He turned to smile at the tabby, but it had gone. Instead he was smiling at a rather severe-looking woman who was wearing square glasses exactly the shape of the markings the cat had had around its eyes. She, too, was wearing a cloak, an emerald one. Her black hair was drawn into a tight bun. She looked distinctly ruffled.　　\"How did you know it was me?\" she asked.　　\"My dear Professor, I \\'ve never seen a cat sit so stiffly.\"　　\"You\\'d be stiff if you\\'d been sitting on a brick wall all day,\" said Professor McGonagall.　　\"All day? When you could have been celebrating? I must have passed a dozen feasts and parties on my way here.\"　　Professor McGonagall sniffed angrily.　　\"Oh yes, everyone\\'s celebrating, all right,\" she said impatiently. \"You\\'d think they\\'d be a bit more careful, but no -- even the Muggles have noticed something\\'s going on. It was on their news.\" She jerked her head back at the Dursleys\\' dark living-room window. \"I heard it. Flocks of owls... shooting stars.... Well, they\\'re not completely stupid. They were bound to notice something. Shooting stars down in Kent -- I\\'ll bet that was Dedalus Diggle. He never had much sense.\"　　\"You can\\'t blame them,\" said Dumbledore gently. \"We\\'ve had precious little to celebrate for eleven years.\"　　\"I know that,\" said Professor McGonagall irritably. \"But that\\'s no reason to lose our heads. People are being downright careless, out on the streets in broad daylight, not even dressed in Muggle clothes, swapping rumors.\"　　She threw a sharp, sideways glance at Dumbledore here, as though hoping he was going to tell her something, but he didn\\'t, so she went on. \"A fine thing it would be if, on the very day YouKnow-Who seems to have disappeared at last, the Muggles found out about us all. I suppose he really has gone, Dumbledore?\"　　\"It certainly seems so,\" said Dumbledore. \"We have much to be thankful for. Would you care for a lemon drop?\"　　\"A what?\"　　\"A lemon drop. They\\'re a kind of Muggle sweet I\\'m rather fond of\"　　\"No, thank you,\" said Professor McGonagall coldly, as though she didn\\'t think this was the moment for lemon drops. \"As I say, even if You-Know-Who has gone -\"　　\"My dear Professor, surely a sensible person like yourself can call him by his name? All this \\'You- Know-Who\\' nonsense -- for eleven years I have been trying to persuade people to call him by his proper name: Voldemort.\" Professor McGonagall flinched, but Dumbledore, who was unsticking two lemon drops, seemed not to notice. \"It all gets so confusing if we keep saying \\'You-Know-Who.\\' I have never seen any reason to be frightened of saying Voldemort\\'s name.　　\"I know you haven \\'t, said Professor McGonagall, sounding half exasperated, half admiring. \"But you\\'re different. Everyone knows you\\'re the only one You-Know- oh, all right, Voldemort, was frightened of.\"　　\"You flatter me,\" said Dumbledore calmly. \"Voldemort had powers I will never have.\"　　\"Only because you\\'re too -- well -- noble to use them.\"　　\"It\\'s lucky it\\'s dark. I haven\\'t blushed so much since Madam Pomfrey told me she liked my new earmuffs.\"　　Professor McGonagall shot a sharp look at Dumbledore and said, \"The owls are nothing next to the rumors that are flying around. You know what everyone\\'s saying? About why he\\'s disappeared? About what finally stopped him?\"　　It seemed that Professor McGonagall had reached the point she was most anxious to discuss, the real reason she had been waiting on a cold, hard wall all day, for neither as a cat nor as a woman had she fixed Dumbledore with such a piercing stare as she did now. It was plain that whatever \"everyone\" was saying, she was not going to believe it until Dumbledore told her it was true. Dumbledore, however, was choosing another lemon drop and did not answer.　　\"What they\\'re saying,\" she pressed on, \"is that last night Voldemort turned up in Godric\\'s Hollow. He went to find the Potters. The rumor is that Lily and James Potter are -- are -- that they\\'re -- dead. \"　　Dumbledore bowed his head. Professor McGonagall gasped.　　\"Lily and James... I can\\'t believe it... I didn\\'t want to believe it... Oh, Albus...\"　　Dumbledore reached out and patted her on the shoulder. \"I know... I know...\" he said heavily.　　Professor McGonagall\\'s voice trembled as she went on. \"That\\'s not all. They\\'re saying he tried to kill the Potter\\'s son, Harry. But -- he couldn\\'t. He couldn\\'t kill that little boy. No one knows why, or how, but they\\'re saying that when he couldn\\'t kill Harry Potter, Voldemort\\'s power somehow broke -- and that\\'s why he\\'s gone.　　Dumbledore nodded glumly.　　\"It\\'s -- it\\'s true?\" faltered Professor McGonagall. \"After all he\\'s done... all the people he\\'s killed... he couldn\\'t kill a little boy? It\\'s just astounding... of all the things to stop him... but how in the name of heaven did Harry survive?\"　　\"We can only guess,\" said Dumbledore. \"We may never know.\"　　Professor McGonagall pulled out a lace handkerchief and dabbed at her eyes beneath her spectacles. Dumbledore gave a great sniff as he took a golden watch from his pocket and examined it. It was a very odd watch. It had twelve hands but no numbers; instead, little planets were moving around the edge. It must have made sense to Dumbledore, though, because he put it back in his pocket and said, \"Hagrid\\'s late. I suppose it was he who told you I\\'d be here, by the way?\"　　\"Yes,\" said Professor McGonagall. \"And I don\\'t suppose you\\'re going to tell me why you\\'re here, of all places?\"　　\"I\\'ve come to bring Harry to his aunt and uncle. They\\'re the only family he has left now.\"　　\"You don\\'t mean -- you can\\'t mean the people who live here?\" cried Professor McGonagall, jumping to her feet and pointing at number four. \"Dumbledore -- you can\\'t. I\\'ve been watching them all day. You couldn\\'t find two people who are less like us. And they\\'ve got this son -- I saw him kicking his mother all the way up the street, screaming for sweets. Harry Potter come and live here!\"　　\"It\\'s the best place for him,\" said Dumbledore firmly. \"His aunt and uncle will be able to explain everything to him when he\\'s older. I\\'ve written them a letter.\"　　\"A letter?\" repeated Professor McGonagall faintly, sitting back down on the wall. \"Really, Dumbledore, you think you can explain all this in a letter? These people will never understand him! He\\'ll be famous -- a legend -- I wouldn\\'t be surprised if today was known as Harry Potter day in the future -- there will be books written about Harry -- every child in our world will know his name!\"　　\"Exactly,\" said Dumbledore, looking very seriously over the top of his half-moon glasses. \"It would be enough to turn any boy\\'s head. Famous before he can walk and talk! Famous for something he won\\'t even remember! CarA you see how much better off he\\'ll be, growing up away from all that until he\\'s ready to take it?\"　　Professor McGonagall opened her mouth, changed her mind, swallowed, and then said, \"Yes -- yes, you\\'re right, of course. But how is the boy getting here, Dumbledore?\" She eyed his cloak suddenly as though she thought he might be hiding Harry underneath it.　　\"Hagrid\\'s bringing him.\"　　\"You think it -- wise -- to trust Hagrid with something as important as this?\"　　I would trust Hagrid with my life,\" said Dumbledore.　　\"I\\'m not saying his heart isn\\'t in the right place,\" said Professor McGonagall grudgingly, \"but you can\\'t pretend he\\'s not careless. He does tend to -- what was that?\"　　A low rumbling sound had broken the silence around them. It grew steadily louder as they looked up and down the street for some sign of a headlight; it swelled to a roar as they both looked up at the sky -- and a huge motorcycle fell out of the air and landed on the road in front of them.　　If the motorcycle was huge, it was nothing to the man sitting astride it. He was almost twice as tall as a normal man and at least five times as wide. He looked simply too big to be allowed, and so wild - long tangles of bushy black hair and beard hid most of his face, he had hands the size of trash can lids, and his feet in their leather boots were like baby dolphins. In his vast, muscular arms he was holding a bundle of blankets.　　\"Hagrid,\" said Dumbledore, sounding relieved. \"At last. And where did you get that motorcycle?\"　　\"Borrowed it, Professor Dumbledore, sit,\" said the giant, climbing carefully off the motorcycle as he spoke. \"Young Sirius Black lent it to me. I\\'ve got him, sir.\"　　\"No problems, were there?\"　　\"No, sir -- house was almost destroyed, but I got him out all right before the Muggles started swarmin\\' around. He fell asleep as we was flyin\\' over Bristol.\"　　Dumbledore and Professor McGonagall bent forward over the bundle of blankets. Inside, just visible, was a baby boy, fast asleep. Under a tuft of jet-black hair over his forehead they could see a curiously shaped cut, like a bolt of lightning.　　\"Is that where -?\" whispered Professor McGonagall.　　\"Yes,\" said Dumbledore. \"He\\'ll have that scar forever.\"　　\"Couldn\\'t you do something about it, Dumbledore?\"　　\"Even if I could, I wouldn\\'t. Scars can come in handy. I have one myself above my left knee that is a perfect map of the London Underground. Well -- give him here, Hagrid -- we\\'d better get this over with.\"　　Dumbledore took Harry in his arms and turned toward the Dursleys\\' house.　　\"Could I -- could I say good-bye to him, sir?\" asked Hagrid. He bent his great, shaggy head over Harry and gave him what must have been a very scratchy, whiskery kiss. Then, suddenly, Hagrid let out a howl like a wounded dog.　　\"Shhh!\" hissed Professor McGonagall, \"you\\'ll wake the Muggles!\"　　\"S-s-sorry,\" sobbed Hagrid, taking out a large, spotted handkerchief and burying his face in it. \"But I c-c-can\\'t stand it -- Lily an\\' James dead -- an\\' poor little Harry off ter live with Muggles -\"　　\"Yes, yes, it\\'s all very sad, but get a grip on yourself, Hagrid, or we\\'ll be found,\" Professor McGonagall whispered, patting Hagrid gingerly on the arm as Dumbledore stepped over the low garden wall and walked to the front door. He laid Harry gently on the doorstep, took a letter out of his cloak, tucked it inside Harry\\'s blankets, and then came back to the other two. For a full minute the three of them stood and looked at the little bundle; Hagrid\\'s shoulders shook, Professor McGonagall blinked furiously, and the twinkling light that usually shone from Dumbledore\\'s eyes seemed to have gone out.　　\"Well,\" said Dumbledore finally, \"that\\'s that. We\\'ve no business staying here. We may as well go and join the celebrations.\"　　\"Yeah,\" said Hagrid in a very muffled voice, \"I\\'ll be takin\\' Sirius his bike back. G\\'night, Professor McGonagall -- Professor Dumbledore, sir.\"　　Wiping his streaming eyes on his jacket sleeve, Hagrid swung himself onto the motorcycle and kicked the engine into life; with a roar it rose into the air and off into the night.　　\"I shall see you soon, I expect, Professor McGonagall,\" said Dumbledore, nodding to her. Professor McGonagall blew her nose in reply.　　Dumbledore turned and walked back down the street. On the corner he stopped and took out the silver Put-Outer. He clicked it once, and twelve balls of light sped back to their street lamps so that Privet Drive glowed suddenly orange and he could make out a tabby cat slinking around the corner at the other end of the street. He could just see the bundle of blankets on the step of number four.　　\"Good luck, Harry,\" he murmured. He turned on his heel and with a swish of his cloak, he was gone.　　A breeze ruffled the neat hedges of Privet Drive, which lay silent and tidy under the inky sky, the very last place you would expect astonishing things to happen. Harry Potter rolled over inside his blankets without waking up. One small hand closed on the letter beside him and he slept on, not knowing he was special, not knowing he was famous, not knowing he would be woken in a few hours\\' time by Mrs. Dursley\\'s scream as she opened the front door to put out the milk bottles, nor that he would spend the next few weeks being prodded and pinched by his cousin Dudley... He couldn\\'t know that at this very moment, people meeting in secret all over the country were holding up their glasses and saying in hushed voices: \"To Harry Potter -- the boy who lived!'"
            ],
            "text/markdown": "'THE BOY WHO LIVED　　Mr. and Mrs. Dursley, of number four, Privet Drive, were proud to say that they were perfectly normal, thank you very much. They were the last people you\\'d expect to be involved in anything strange or mysterious, because they just didn\\'t hold with such nonsense.　　Mr. Dursley was the director of a firm called Grunnings, which made drills. He was a big, beefy man with hardly any neck, although he did have a very large mustache. Mrs. Dursley was thin and blonde and had nearly twice the usual amount of neck, which came in very useful as she spent so much of her time craning over garden fences, spying on the neighbors. The Dursleys had a small son called Dudley and in their opinion there was no finer boy anywhere.　　The Dursleys had everything they wanted, but they also had a secret, and their greatest fear was that somebody would discover it. They didn\\'t think they could bear it if anyone found out about the Potters. Mrs. Potter was Mrs. Dursley\\'s sister, but they hadn\\'t met for several years; in fact, Mrs. Dursley pretended she didn\\'t have a sister, because her sister and her good-for-nothing husband were as unDursleyish as it was possible to be. The Dursleys shuddered to think what the neighbors would say if the Potters arrived in the street. The Dursleys knew that the Potters had a small son, too, but they had never even seen him. This boy was another good reason for keeping the Potters away; they didn\\'t want Dudley mixing with a child like that.　　When Mr. and Mrs. Dursley woke up on the dull, gray Tuesday our story starts, there was nothing about the cloudy sky outside to suggest that strange and mysterious things would soon be happening all over the country. Mr. Dursley hummed as he picked out his most boring tie for work, and Mrs. Dursley gossiped away happily as she wrestled a screaming Dudley into his high chair.　　None of them noticed a large, tawny owl flutter past the window.　　At half past eight, Mr. Dursley picked up his briefcase, pecked Mrs. Dursley on the cheek, and tried to kiss Dudley good-bye but missed, because Dudley was now having a tantrum and throwing his cereal at the walls. \"Little tyke,\" chortled Mr. Dursley as he left the house. He got into his car and backed out of number four\\'s drive.　　It was on the corner of the street that he noticed the first sign of something peculiar -- a cat reading a map. For a second, Mr. Dursley didn\\'t realize what he had seen -- then he jerked his head around to look again. There was a tabby cat standing on the corner of Privet Drive, but there wasn\\'t a map in sight. What could he have been thinking of? It must have been a trick of the light. Mr. Dursley blinked and stared at the cat. It stared back. As Mr. Dursley drove around the corner and up the road, he watched the cat in his mirror. It was now reading the sign that said Privet Drive -- no, looking at the sign; cats couldn\\'t read maps or signs. Mr. Dursley gave himself a little shake and put the cat out of his mind. As he drove toward town he thought of nothing except a large order of drills he was hoping to get that day.　　But on the edge of town, drills were driven out of his mind by something else. As he sat in the usual morning traffic jam, he couldn\\'t help noticing that there seemed to be a lot of strangely dressed people about. People in cloaks. Mr. Dursley couldn\\'t bear people who dressed in funny clothes -- the getups you saw on young people! He supposed this was some stupid new fashion. He drummed his fingers on the steering wheel and his eyes fell on a huddle of these weirdos standing quite close by. They were whispering excitedly together. Mr. Dursley was enraged to see that a couple of them weren\\'t young at all; why, that man had to be older than he was, and wearing an emerald-green cloak! The nerve of him! But then it struck Mr. Dursley that this was probably some silly stunt -- these people were obviously collecting for something... yes, that would be it. The traffic moved on and a few minutes later, Mr. Dursley arrived in the Grunnings parking lot, his mind back on drills.　　Mr. Dursley always sat with his back to the window in his office on the ninth floor. If he hadn\\'t, he might have found it harder to concentrate on drills that morning. He didn\\'t see the owls swoop ing past in broad daylight, though people down in the street did; they pointed and gazed open- mouthed as owl after owl sped overhead. Most of them had never seen an owl even at nighttime. Mr. Dursley, however, had a perfectly normal, owl-free morning. He yelled at five different people. He made several important telephone calls and shouted a bit more. He was in a very good mood until lunchtime, when he thought he\\'d stretch his legs and walk across the road to buy himself a bun from the bakery.　　He\\'d forgotten all about the people in cloaks until he passed a group of them next to the baker\\'s. He eyed them angrily as he passed. He didn\\'t know why, but they made him uneasy. This bunch were whispering excitedly, too, and he couldn\\'t see a single collecting tin. It was on his way back past them, clutching a large doughnut in a bag, that he caught a few words of what they were saying.　　 \"The Potters, that\\'s right, that\\'s what I heard yes, their son, Harry\"　　Mr. Dursley stopped dead. Fear flooded him. He looked back at the whisperers as if he wanted to say something to them, but thought better of it.　　He dashed back across the road, hurried up to his office, snapped at his secretary not to disturb him, seized his telephone, and had almost finished dialing his home number when he changed his mind. He put the receiver back down and stroked his mustache, thinking... no, he was being stupid. Potter wasn\\'t such an unusual name. He was sure there were lots of people called Potter who had a son called Harry. Come to think of it, he wasn\\'t even sure his nephew was called Harry. He\\'d never even seen the boy. It might have been Harvey. Or Harold. There was no point in worrying Mrs. Dursley; she always got so upset at any mention of her sister. He didn\\'t blame her -- if he\\'d had a sister like that... but all the same, those people in cloaks...　　He found it a lot harder to concentrate on drills that afternoon and when he left the building at five o\\'clock, he was still so worried that he walked straight into someone just outside the door.　　\"Sorry,\" he grunted, as the tiny old man stumbled and almost fell. It was a few seconds before Mr. Dursley realized that the man was wearing a violet cloak. He didn\\'t seem at all upset at being almost knocked to the ground. On the contrary, his face split into a wide smile and he said in a squeaky voice that made passersby stare, \"Don\\'t be sorry, my dear sir, for nothing could upset me today! Rejoice, for You-Know-Who has gone at last! Even Muggles like yourself should be celebrating, this happy, happy day!\"　　And the old man hugged Mr. Dursley around the middle and walked off.　　Mr. Dursley stood rooted to the spot. He had been hugged by a complete stranger. He also thought he had been called a Muggle, whatever that was. He was rattled. He hurried to his car and set off for home, hoping he was imagining things, which he had never hoped before, because he didn\\'t approve of imagination.　　As he pulled into the driveway of number four, the first thing he saw -- and it didn\\'t improve his mood -- was the tabby cat he\\'d spotted that morning. It was now sitting on his garden wall. He was sure it was the same one; it had the same markings around its eyes.　　\"Shoo!\" said Mr. Dursley loudly. The cat didn\\'t move. It just gave him a stern look. Was this normal cat behavior? Mr. Dursley wondered. Trying to pull himself together, he let himself into the house. He was still determined not to mention anything to his wife.　　Mrs. Dursley had had a nice, normal day. She told him over dinner all about Mrs. Next Door\\'s problems with her daughter and how Dudley had learned a new word (\"Won\\'t!\"). Mr. Dursley tried to act normally. When Dudley had been put to bed, he went into the living room in time to catch the last report on the evening news:　　\"And finally, bird-watchers everywhere have reported that the nation\\'s owls have been behaving very unusually today. Although owls normally hunt at night and are hardly ever seen in daylight, there have been hundreds of sightings of these birds flying in every direction since sunrise. Experts are unable to explain why the owls have suddenly changed their sleeping pattern.\" The newscaster allowed himself a grin. \"Most mysterious. And now, over to Jim McGuffin with the weather. Going to be any more showers of owls tonight, Jim?\"　　\"Well, Ted,\" said the weatherman, \"I don\\'t know about that, but it\\'s not only the owls that have been acting oddly today. Viewers as far apart as Kent, Yorkshire, and Dundee have been phoning in to tell me that instead of the rain I promised yesterday, they\\'ve had a downpour of shooting stars! Perhaps people have been celebrating Bonfire Night early -- it\\'s not until next week, folks! But I can promise a wet night tonight.\"　　Mr. Dursley sat frozen in his armchair. Shooting stars all over Britain? Owls flying by daylight? Mysterious people in cloaks all over the place? And a whisper, a whisper about the Potters...　　Mrs. Dursley came into the living room carrying two cups of tea. It was no good. He\\'d have to say something to her. He cleared his throat nervously. \"Er -- Petunia, dear -- you haven\\'t heard from your sister lately, have you?\"　　As he had expected, Mrs. Dursley looked shocked and angry. After all, they normally pretended she didn\\'t have a sister.　　\"No,\" she said sharply. \"Why?\"　　\"Funny stuff on the news,\" Mr. Dursley mumbled. \"Owls... shooting stars... and there were a lot of funny-looking people in town today...\"　　\"So?\" snapped Mrs. Dursley.　　\"Well, I just thought... maybe... it was something to do with... you know... her crowd.\"　　Mrs. Dursley sipped her tea through pursed lips. Mr. Dursley wondered whether he dared tell her he\\'d heard the name \"Potter.\" He decided he didn\\'t dare. Instead he said, as casually as he could, \"Their son -- he\\'d be about Dudley\\'s age now, wouldn\\'t he?\"　　\"I suppose so,\" said Mrs. Dursley stiffly.　　\"What\\'s his name again? Howard, isn\\'t it?\"　　\"Harry. Nasty, common name, if you ask me.\"　　\"Oh, yes,\" said Mr. Dursley, his heart sinking horribly. \"Yes, I quite agree.\"　　He didn\\'t say another word on the subject as they went upstairs to bed. While Mrs. Dursley was in the bathroom, Mr. Dursley crept to the bedroom window and peered down into the front garden. The cat was still there. It was staring down Privet Drive as though it were waiting for something.　　Was he imagining things? Could all this have anything to do with the Potters? If it did... if it got out that they were related to a pair of -- well, he didn\\'t think he could bear it.　　The Dursleys got into bed. Mrs. Dursley fell asleep quickly but Mr. Dursley lay awake, turning it all over in his mind. His last, comforting thought before he fell asleep was that even if the Potters were involved, there was no reason for them to come near him and Mrs. Dursley. The Potters knew very well what he and Petunia thought about them and their kind.... He couldn\\'t see how he and Petunia could get mixed up in anything that might be going on -- he yawned and turned over -- it couldn\\'t affect them....　　How very wrong he was.　　Mr. Dursley might have been drifting into an uneasy sleep, but the cat on the wall outside was showing no sign of sleepiness. It was sitting as still as a statue, its eyes fixed unblinkingly on the far corner of Privet Drive. It didn\\'t so much as quiver when a car door slammed on the next street, nor when two owls swooped overhead. In fact, it was nearly midnight before the cat moved at all.　　A man appeared on the corner the cat had been watching, appeared so suddenly and silently you\\'d have thought he\\'d just popped out of the ground. The cat\\'s tail twitched and its eyes narrowed.　　Nothing like this man had ever been seen on Privet Drive. He was tall, thin, and very old, judging by the silver of his hair and beard, which were both long enough to tuck into his belt. He was wearing long robes, a purple cloak that swept the ground, and high-heeled, buckled boots. His blue eyes were light, bright, and sparkling behind half-moon spectacles and his nose was very long and crooked, as though it had been broken at least twice. This man\\'s name was Albus Dumbledore.　　Albus Dumbledore didn\\'t seem to realize that he had just arrived in a street where everything from his name to his boots was unwelcome. He was busy rummaging in his cloak, looking for something. But he did seem to realize he was being watched, because he looked up suddenly at the cat, which was still staring at him from the other end of the street. For some reason, the sight of the cat seemed to amuse him. He chuckled and muttered, \"I should have known.\"　　He found what he was looking for in his inside pocket. It seemed to be a silver cigarette lighter. He flicked it open, held it up in the air, and clicked it. The nearest street lamp went out with a little pop. He clicked it again -- the next lamp flickered into darkness. Twelve times he clicked the Put-Outer, until the only lights left on the whole street were two tiny pinpricks in the distance, which were the eyes of the cat watching him. If anyone looked out of their window now, even beady-eyed Mrs. Dursley, they wouldn\\'t be able to see anything that was happening down on the pavement. Dumbledore slipped the Put-Outer back inside his cloak and set off down the street toward number four, where he sat down on the wall next to the cat. He didn\\'t look at it, but after a moment he spoke to it.　　\"Fancy seeing you here, Professor McGonagall.\"　　He turned to smile at the tabby, but it had gone. Instead he was smiling at a rather severe-looking woman who was wearing square glasses exactly the shape of the markings the cat had had around its eyes. She, too, was wearing a cloak, an emerald one. Her black hair was drawn into a tight bun. She looked distinctly ruffled.　　\"How did you know it was me?\" she asked.　　\"My dear Professor, I \\'ve never seen a cat sit so stiffly.\"　　\"You\\'d be stiff if you\\'d been sitting on a brick wall all day,\" said Professor McGonagall.　　\"All day? When you could have been celebrating? I must have passed a dozen feasts and parties on my way here.\"　　Professor McGonagall sniffed angrily.　　\"Oh yes, everyone\\'s celebrating, all right,\" she said impatiently. \"You\\'d think they\\'d be a bit more careful, but no -- even the Muggles have noticed something\\'s going on. It was on their news.\" She jerked her head back at the Dursleys\\' dark living-room window. \"I heard it. Flocks of owls... shooting stars.... Well, they\\'re not completely stupid. They were bound to notice something. Shooting stars down in Kent -- I\\'ll bet that was Dedalus Diggle. He never had much sense.\"　　\"You can\\'t blame them,\" said Dumbledore gently. \"We\\'ve had precious little to celebrate for eleven years.\"　　\"I know that,\" said Professor McGonagall irritably. \"But that\\'s no reason to lose our heads. People are being downright careless, out on the streets in broad daylight, not even dressed in Muggle clothes, swapping rumors.\"　　She threw a sharp, sideways glance at Dumbledore here, as though hoping he was going to tell her something, but he didn\\'t, so she went on. \"A fine thing it would be if, on the very day YouKnow-Who seems to have disappeared at last, the Muggles found out about us all. I suppose he really has gone, Dumbledore?\"　　\"It certainly seems so,\" said Dumbledore. \"We have much to be thankful for. Would you care for a lemon drop?\"　　\"A what?\"　　\"A lemon drop. They\\'re a kind of Muggle sweet I\\'m rather fond of\"　　\"No, thank you,\" said Professor McGonagall coldly, as though she didn\\'t think this was the moment for lemon drops. \"As I say, even if You-Know-Who has gone -\"　　\"My dear Professor, surely a sensible person like yourself can call him by his name? All this \\'You- Know-Who\\' nonsense -- for eleven years I have been trying to persuade people to call him by his proper name: Voldemort.\" Professor McGonagall flinched, but Dumbledore, who was unsticking two lemon drops, seemed not to notice. \"It all gets so confusing if we keep saying \\'You-Know-Who.\\' I have never seen any reason to be frightened of saying Voldemort\\'s name.　　\"I know you haven \\'t, said Professor McGonagall, sounding half exasperated, half admiring. \"But you\\'re different. Everyone knows you\\'re the only one You-Know- oh, all right, Voldemort, was frightened of.\"　　\"You flatter me,\" said Dumbledore calmly. \"Voldemort had powers I will never have.\"　　\"Only because you\\'re too -- well -- noble to use them.\"　　\"It\\'s lucky it\\'s dark. I haven\\'t blushed so much since Madam Pomfrey told me she liked my new earmuffs.\"　　Professor McGonagall shot a sharp look at Dumbledore and said, \"The owls are nothing next to the rumors that are flying around. You know what everyone\\'s saying? About why he\\'s disappeared? About what finally stopped him?\"　　It seemed that Professor McGonagall had reached the point she was most anxious to discuss, the real reason she had been waiting on a cold, hard wall all day, for neither as a cat nor as a woman had she fixed Dumbledore with such a piercing stare as she did now. It was plain that whatever \"everyone\" was saying, she was not going to believe it until Dumbledore told her it was true. Dumbledore, however, was choosing another lemon drop and did not answer.　　\"What they\\'re saying,\" she pressed on, \"is that last night Voldemort turned up in Godric\\'s Hollow. He went to find the Potters. The rumor is that Lily and James Potter are -- are -- that they\\'re -- dead. \"　　Dumbledore bowed his head. Professor McGonagall gasped.　　\"Lily and James... I can\\'t believe it... I didn\\'t want to believe it... Oh, Albus...\"　　Dumbledore reached out and patted her on the shoulder. \"I know... I know...\" he said heavily.　　Professor McGonagall\\'s voice trembled as she went on. \"That\\'s not all. They\\'re saying he tried to kill the Potter\\'s son, Harry. But -- he couldn\\'t. He couldn\\'t kill that little boy. No one knows why, or how, but they\\'re saying that when he couldn\\'t kill Harry Potter, Voldemort\\'s power somehow broke -- and that\\'s why he\\'s gone.　　Dumbledore nodded glumly.　　\"It\\'s -- it\\'s true?\" faltered Professor McGonagall. \"After all he\\'s done... all the people he\\'s killed... he couldn\\'t kill a little boy? It\\'s just astounding... of all the things to stop him... but how in the name of heaven did Harry survive?\"　　\"We can only guess,\" said Dumbledore. \"We may never know.\"　　Professor McGonagall pulled out a lace handkerchief and dabbed at her eyes beneath her spectacles. Dumbledore gave a great sniff as he took a golden watch from his pocket and examined it. It was a very odd watch. It had twelve hands but no numbers; instead, little planets were moving around the edge. It must have made sense to Dumbledore, though, because he put it back in his pocket and said, \"Hagrid\\'s late. I suppose it was he who told you I\\'d be here, by the way?\"　　\"Yes,\" said Professor McGonagall. \"And I don\\'t suppose you\\'re going to tell me why you\\'re here, of all places?\"　　\"I\\'ve come to bring Harry to his aunt and uncle. They\\'re the only family he has left now.\"　　\"You don\\'t mean -- you can\\'t mean the people who live here?\" cried Professor McGonagall, jumping to her feet and pointing at number four. \"Dumbledore -- you can\\'t. I\\'ve been watching them all day. You couldn\\'t find two people who are less like us. And they\\'ve got this son -- I saw him kicking his mother all the way up the street, screaming for sweets. Harry Potter come and live here!\"　　\"It\\'s the best place for him,\" said Dumbledore firmly. \"His aunt and uncle will be able to explain everything to him when he\\'s older. I\\'ve written them a letter.\"　　\"A letter?\" repeated Professor McGonagall faintly, sitting back down on the wall. \"Really, Dumbledore, you think you can explain all this in a letter? These people will never understand him! He\\'ll be famous -- a legend -- I wouldn\\'t be surprised if today was known as Harry Potter day in the future -- there will be books written about Harry -- every child in our world will know his name!\"　　\"Exactly,\" said Dumbledore, looking very seriously over the top of his half-moon glasses. \"It would be enough to turn any boy\\'s head. Famous before he can walk and talk! Famous for something he won\\'t even remember! CarA you see how much better off he\\'ll be, growing up away from all that until he\\'s ready to take it?\"　　Professor McGonagall opened her mouth, changed her mind, swallowed, and then said, \"Yes -- yes, you\\'re right, of course. But how is the boy getting here, Dumbledore?\" She eyed his cloak suddenly as though she thought he might be hiding Harry underneath it.　　\"Hagrid\\'s bringing him.\"　　\"You think it -- wise -- to trust Hagrid with something as important as this?\"　　I would trust Hagrid with my life,\" said Dumbledore.　　\"I\\'m not saying his heart isn\\'t in the right place,\" said Professor McGonagall grudgingly, \"but you can\\'t pretend he\\'s not careless. He does tend to -- what was that?\"　　A low rumbling sound had broken the silence around them. It grew steadily louder as they looked up and down the street for some sign of a headlight; it swelled to a roar as they both looked up at the sky -- and a huge motorcycle fell out of the air and landed on the road in front of them.　　If the motorcycle was huge, it was nothing to the man sitting astride it. He was almost twice as tall as a normal man and at least five times as wide. He looked simply too big to be allowed, and so wild - long tangles of bushy black hair and beard hid most of his face, he had hands the size of trash can lids, and his feet in their leather boots were like baby dolphins. In his vast, muscular arms he was holding a bundle of blankets.　　\"Hagrid,\" said Dumbledore, sounding relieved. \"At last. And where did you get that motorcycle?\"　　\"Borrowed it, Professor Dumbledore, sit,\" said the giant, climbing carefully off the motorcycle as he spoke. \"Young Sirius Black lent it to me. I\\'ve got him, sir.\"　　\"No problems, were there?\"　　\"No, sir -- house was almost destroyed, but I got him out all right before the Muggles started swarmin\\' around. He fell asleep as we was flyin\\' over Bristol.\"　　Dumbledore and Professor McGonagall bent forward over the bundle of blankets. Inside, just visible, was a baby boy, fast asleep. Under a tuft of jet-black hair over his forehead they could see a curiously shaped cut, like a bolt of lightning.　　\"Is that where -?\" whispered Professor McGonagall.　　\"Yes,\" said Dumbledore. \"He\\'ll have that scar forever.\"　　\"Couldn\\'t you do something about it, Dumbledore?\"　　\"Even if I could, I wouldn\\'t. Scars can come in handy. I have one myself above my left knee that is a perfect map of the London Underground. Well -- give him here, Hagrid -- we\\'d better get this over with.\"　　Dumbledore took Harry in his arms and turned toward the Dursleys\\' house.　　\"Could I -- could I say good-bye to him, sir?\" asked Hagrid. He bent his great, shaggy head over Harry and gave him what must have been a very scratchy, whiskery kiss. Then, suddenly, Hagrid let out a howl like a wounded dog.　　\"Shhh!\" hissed Professor McGonagall, \"you\\'ll wake the Muggles!\"　　\"S-s-sorry,\" sobbed Hagrid, taking out a large, spotted handkerchief and burying his face in it. \"But I c-c-can\\'t stand it -- Lily an\\' James dead -- an\\' poor little Harry off ter live with Muggles -\"　　\"Yes, yes, it\\'s all very sad, but get a grip on yourself, Hagrid, or we\\'ll be found,\" Professor McGonagall whispered, patting Hagrid gingerly on the arm as Dumbledore stepped over the low garden wall and walked to the front door. He laid Harry gently on the doorstep, took a letter out of his cloak, tucked it inside Harry\\'s blankets, and then came back to the other two. For a full minute the three of them stood and looked at the little bundle; Hagrid\\'s shoulders shook, Professor McGonagall blinked furiously, and the twinkling light that usually shone from Dumbledore\\'s eyes seemed to have gone out.　　\"Well,\" said Dumbledore finally, \"that\\'s that. We\\'ve no business staying here. We may as well go and join the celebrations.\"　　\"Yeah,\" said Hagrid in a very muffled voice, \"I\\'ll be takin\\' Sirius his bike back. G\\'night, Professor McGonagall -- Professor Dumbledore, sir.\"　　Wiping his streaming eyes on his jacket sleeve, Hagrid swung himself onto the motorcycle and kicked the engine into life; with a roar it rose into the air and off into the night.　　\"I shall see you soon, I expect, Professor McGonagall,\" said Dumbledore, nodding to her. Professor McGonagall blew her nose in reply.　　Dumbledore turned and walked back down the street. On the corner he stopped and took out the silver Put-Outer. He clicked it once, and twelve balls of light sped back to their street lamps so that Privet Drive glowed suddenly orange and he could make out a tabby cat slinking around the corner at the other end of the street. He could just see the bundle of blankets on the step of number four.　　\"Good luck, Harry,\" he murmured. He turned on his heel and with a swish of his cloak, he was gone.　　A breeze ruffled the neat hedges of Privet Drive, which lay silent and tidy under the inky sky, the very last place you would expect astonishing things to happen. Harry Potter rolled over inside his blankets without waking up. One small hand closed on the letter beside him and he slept on, not knowing he was special, not knowing he was famous, not knowing he would be woken in a few hours\\' time by Mrs. Dursley\\'s scream as she opened the front door to put out the milk bottles, nor that he would spend the next few weeks being prodded and pinched by his cousin Dudley... He couldn\\'t know that at this very moment, people meeting in secret all over the country were holding up their glasses and saying in hushed voices: \"To Harry Potter -- the boy who lived!'",
            "text/latex": "'THE BOY WHO LIVED　　Mr. and Mrs. Dursley, of number four, Privet Drive, were proud to say that they were perfectly normal, thank you very much. They were the last people you\\textbackslash{}'d expect to be involved in anything strange or mysterious, because they just didn\\textbackslash{}'t hold with such nonsense.　　Mr. Dursley was the director of a firm called Grunnings, which made drills. He was a big, beefy man with hardly any neck, although he did have a very large mustache. Mrs. Dursley was thin and blonde and had nearly twice the usual amount of neck, which came in very useful as she spent so much of her time craning over garden fences, spying on the neighbors. The Dursleys had a small son called Dudley and in their opinion there was no finer boy anywhere.　　The Dursleys had everything they wanted, but they also had a secret, and their greatest fear was that somebody would discover it. They didn\\textbackslash{}'t think they could bear it if anyone found out about the Potters. Mrs. Potter was Mrs. Dursley\\textbackslash{}'s sister, but they hadn\\textbackslash{}'t met for several years; in fact, Mrs. Dursley pretended she didn\\textbackslash{}'t have a sister, because her sister and her good-for-nothing husband were as unDursleyish as it was possible to be. The Dursleys shuddered to think what the neighbors would say if the Potters arrived in the street. The Dursleys knew that the Potters had a small son, too, but they had never even seen him. This boy was another good reason for keeping the Potters away; they didn\\textbackslash{}'t want Dudley mixing with a child like that.　　When Mr. and Mrs. Dursley woke up on the dull, gray Tuesday our story starts, there was nothing about the cloudy sky outside to suggest that strange and mysterious things would soon be happening all over the country. Mr. Dursley hummed as he picked out his most boring tie for work, and Mrs. Dursley gossiped away happily as she wrestled a screaming Dudley into his high chair.　　None of them noticed a large, tawny owl flutter past the window.　　At half past eight, Mr. Dursley picked up his briefcase, pecked Mrs. Dursley on the cheek, and tried to kiss Dudley good-bye but missed, because Dudley was now having a tantrum and throwing his cereal at the walls. \"Little tyke,\" chortled Mr. Dursley as he left the house. He got into his car and backed out of number four\\textbackslash{}'s drive.　　It was on the corner of the street that he noticed the first sign of something peculiar -- a cat reading a map. For a second, Mr. Dursley didn\\textbackslash{}'t realize what he had seen -- then he jerked his head around to look again. There was a tabby cat standing on the corner of Privet Drive, but there wasn\\textbackslash{}'t a map in sight. What could he have been thinking of? It must have been a trick of the light. Mr. Dursley blinked and stared at the cat. It stared back. As Mr. Dursley drove around the corner and up the road, he watched the cat in his mirror. It was now reading the sign that said Privet Drive -- no, looking at the sign; cats couldn\\textbackslash{}'t read maps or signs. Mr. Dursley gave himself a little shake and put the cat out of his mind. As he drove toward town he thought of nothing except a large order of drills he was hoping to get that day.　　But on the edge of town, drills were driven out of his mind by something else. As he sat in the usual morning traffic jam, he couldn\\textbackslash{}'t help noticing that there seemed to be a lot of strangely dressed people about. People in cloaks. Mr. Dursley couldn\\textbackslash{}'t bear people who dressed in funny clothes -- the getups you saw on young people! He supposed this was some stupid new fashion. He drummed his fingers on the steering wheel and his eyes fell on a huddle of these weirdos standing quite close by. They were whispering excitedly together. Mr. Dursley was enraged to see that a couple of them weren\\textbackslash{}'t young at all; why, that man had to be older than he was, and wearing an emerald-green cloak! The nerve of him! But then it struck Mr. Dursley that this was probably some silly stunt -- these people were obviously collecting for something... yes, that would be it. The traffic moved on and a few minutes later, Mr. Dursley arrived in the Grunnings parking lot, his mind back on drills.　　Mr. Dursley always sat with his back to the window in his office on the ninth floor. If he hadn\\textbackslash{}'t, he might have found it harder to concentrate on drills that morning. He didn\\textbackslash{}'t see the owls swoop ing past in broad daylight, though people down in the street did; they pointed and gazed open- mouthed as owl after owl sped overhead. Most of them had never seen an owl even at nighttime. Mr. Dursley, however, had a perfectly normal, owl-free morning. He yelled at five different people. He made several important telephone calls and shouted a bit more. He was in a very good mood until lunchtime, when he thought he\\textbackslash{}'d stretch his legs and walk across the road to buy himself a bun from the bakery.　　He\\textbackslash{}'d forgotten all about the people in cloaks until he passed a group of them next to the baker\\textbackslash{}'s. He eyed them angrily as he passed. He didn\\textbackslash{}'t know why, but they made him uneasy. This bunch were whispering excitedly, too, and he couldn\\textbackslash{}'t see a single collecting tin. It was on his way back past them, clutching a large doughnut in a bag, that he caught a few words of what they were saying.　　 \"The Potters, that\\textbackslash{}'s right, that\\textbackslash{}'s what I heard yes, their son, Harry\"　　Mr. Dursley stopped dead. Fear flooded him. He looked back at the whisperers as if he wanted to say something to them, but thought better of it.　　He dashed back across the road, hurried up to his office, snapped at his secretary not to disturb him, seized his telephone, and had almost finished dialing his home number when he changed his mind. He put the receiver back down and stroked his mustache, thinking... no, he was being stupid. Potter wasn\\textbackslash{}'t such an unusual name. He was sure there were lots of people called Potter who had a son called Harry. Come to think of it, he wasn\\textbackslash{}'t even sure his nephew was called Harry. He\\textbackslash{}'d never even seen the boy. It might have been Harvey. Or Harold. There was no point in worrying Mrs. Dursley; she always got so upset at any mention of her sister. He didn\\textbackslash{}'t blame her -- if he\\textbackslash{}'d had a sister like that... but all the same, those people in cloaks...　　He found it a lot harder to concentrate on drills that afternoon and when he left the building at five o\\textbackslash{}'clock, he was still so worried that he walked straight into someone just outside the door.　　\"Sorry,\" he grunted, as the tiny old man stumbled and almost fell. It was a few seconds before Mr. Dursley realized that the man was wearing a violet cloak. He didn\\textbackslash{}'t seem at all upset at being almost knocked to the ground. On the contrary, his face split into a wide smile and he said in a squeaky voice that made passersby stare, \"Don\\textbackslash{}'t be sorry, my dear sir, for nothing could upset me today! Rejoice, for You-Know-Who has gone at last! Even Muggles like yourself should be celebrating, this happy, happy day!\"　　And the old man hugged Mr. Dursley around the middle and walked off.　　Mr. Dursley stood rooted to the spot. He had been hugged by a complete stranger. He also thought he had been called a Muggle, whatever that was. He was rattled. He hurried to his car and set off for home, hoping he was imagining things, which he had never hoped before, because he didn\\textbackslash{}'t approve of imagination.　　As he pulled into the driveway of number four, the first thing he saw -- and it didn\\textbackslash{}'t improve his mood -- was the tabby cat he\\textbackslash{}'d spotted that morning. It was now sitting on his garden wall. He was sure it was the same one; it had the same markings around its eyes.　　\"Shoo!\" said Mr. Dursley loudly. The cat didn\\textbackslash{}'t move. It just gave him a stern look. Was this normal cat behavior? Mr. Dursley wondered. Trying to pull himself together, he let himself into the house. He was still determined not to mention anything to his wife.　　Mrs. Dursley had had a nice, normal day. She told him over dinner all about Mrs. Next Door\\textbackslash{}'s problems with her daughter and how Dudley had learned a new word (\"Won\\textbackslash{}'t!\"). Mr. Dursley tried to act normally. When Dudley had been put to bed, he went into the living room in time to catch the last report on the evening news:　　\"And finally, bird-watchers everywhere have reported that the nation\\textbackslash{}'s owls have been behaving very unusually today. Although owls normally hunt at night and are hardly ever seen in daylight, there have been hundreds of sightings of these birds flying in every direction since sunrise. Experts are unable to explain why the owls have suddenly changed their sleeping pattern.\" The newscaster allowed himself a grin. \"Most mysterious. And now, over to Jim McGuffin with the weather. Going to be any more showers of owls tonight, Jim?\"　　\"Well, Ted,\" said the weatherman, \"I don\\textbackslash{}'t know about that, but it\\textbackslash{}'s not only the owls that have been acting oddly today. Viewers as far apart as Kent, Yorkshire, and Dundee have been phoning in to tell me that instead of the rain I promised yesterday, they\\textbackslash{}'ve had a downpour of shooting stars! Perhaps people have been celebrating Bonfire Night early -- it\\textbackslash{}'s not until next week, folks! But I can promise a wet night tonight.\"　　Mr. Dursley sat frozen in his armchair. Shooting stars all over Britain? Owls flying by daylight? Mysterious people in cloaks all over the place? And a whisper, a whisper about the Potters...　　Mrs. Dursley came into the living room carrying two cups of tea. It was no good. He\\textbackslash{}'d have to say something to her. He cleared his throat nervously. \"Er -- Petunia, dear -- you haven\\textbackslash{}'t heard from your sister lately, have you?\"　　As he had expected, Mrs. Dursley looked shocked and angry. After all, they normally pretended she didn\\textbackslash{}'t have a sister.　　\"No,\" she said sharply. \"Why?\"　　\"Funny stuff on the news,\" Mr. Dursley mumbled. \"Owls... shooting stars... and there were a lot of funny-looking people in town today...\"　　\"So?\" snapped Mrs. Dursley.　　\"Well, I just thought... maybe... it was something to do with... you know... her crowd.\"　　Mrs. Dursley sipped her tea through pursed lips. Mr. Dursley wondered whether he dared tell her he\\textbackslash{}'d heard the name \"Potter.\" He decided he didn\\textbackslash{}'t dare. Instead he said, as casually as he could, \"Their son -- he\\textbackslash{}'d be about Dudley\\textbackslash{}'s age now, wouldn\\textbackslash{}'t he?\"　　\"I suppose so,\" said Mrs. Dursley stiffly.　　\"What\\textbackslash{}'s his name again? Howard, isn\\textbackslash{}'t it?\"　　\"Harry. Nasty, common name, if you ask me.\"　　\"Oh, yes,\" said Mr. Dursley, his heart sinking horribly. \"Yes, I quite agree.\"　　He didn\\textbackslash{}'t say another word on the subject as they went upstairs to bed. While Mrs. Dursley was in the bathroom, Mr. Dursley crept to the bedroom window and peered down into the front garden. The cat was still there. It was staring down Privet Drive as though it were waiting for something.　　Was he imagining things? Could all this have anything to do with the Potters? If it did... if it got out that they were related to a pair of -- well, he didn\\textbackslash{}'t think he could bear it.　　The Dursleys got into bed. Mrs. Dursley fell asleep quickly but Mr. Dursley lay awake, turning it all over in his mind. His last, comforting thought before he fell asleep was that even if the Potters were involved, there was no reason for them to come near him and Mrs. Dursley. The Potters knew very well what he and Petunia thought about them and their kind.... He couldn\\textbackslash{}'t see how he and Petunia could get mixed up in anything that might be going on -- he yawned and turned over -- it couldn\\textbackslash{}'t affect them....　　How very wrong he was.　　Mr. Dursley might have been drifting into an uneasy sleep, but the cat on the wall outside was showing no sign of sleepiness. It was sitting as still as a statue, its eyes fixed unblinkingly on the far corner of Privet Drive. It didn\\textbackslash{}'t so much as quiver when a car door slammed on the next street, nor when two owls swooped overhead. In fact, it was nearly midnight before the cat moved at all.　　A man appeared on the corner the cat had been watching, appeared so suddenly and silently you\\textbackslash{}'d have thought he\\textbackslash{}'d just popped out of the ground. The cat\\textbackslash{}'s tail twitched and its eyes narrowed.　　Nothing like this man had ever been seen on Privet Drive. He was tall, thin, and very old, judging by the silver of his hair and beard, which were both long enough to tuck into his belt. He was wearing long robes, a purple cloak that swept the ground, and high-heeled, buckled boots. His blue eyes were light, bright, and sparkling behind half-moon spectacles and his nose was very long and crooked, as though it had been broken at least twice. This man\\textbackslash{}'s name was Albus Dumbledore.　　Albus Dumbledore didn\\textbackslash{}'t seem to realize that he had just arrived in a street where everything from his name to his boots was unwelcome. He was busy rummaging in his cloak, looking for something. But he did seem to realize he was being watched, because he looked up suddenly at the cat, which was still staring at him from the other end of the street. For some reason, the sight of the cat seemed to amuse him. He chuckled and muttered, \"I should have known.\"　　He found what he was looking for in his inside pocket. It seemed to be a silver cigarette lighter. He flicked it open, held it up in the air, and clicked it. The nearest street lamp went out with a little pop. He clicked it again -- the next lamp flickered into darkness. Twelve times he clicked the Put-Outer, until the only lights left on the whole street were two tiny pinpricks in the distance, which were the eyes of the cat watching him. If anyone looked out of their window now, even beady-eyed Mrs. Dursley, they wouldn\\textbackslash{}'t be able to see anything that was happening down on the pavement. Dumbledore slipped the Put-Outer back inside his cloak and set off down the street toward number four, where he sat down on the wall next to the cat. He didn\\textbackslash{}'t look at it, but after a moment he spoke to it.　　\"Fancy seeing you here, Professor McGonagall.\"　　He turned to smile at the tabby, but it had gone. Instead he was smiling at a rather severe-looking woman who was wearing square glasses exactly the shape of the markings the cat had had around its eyes. She, too, was wearing a cloak, an emerald one. Her black hair was drawn into a tight bun. She looked distinctly ruffled.　　\"How did you know it was me?\" she asked.　　\"My dear Professor, I \\textbackslash{}'ve never seen a cat sit so stiffly.\"　　\"You\\textbackslash{}'d be stiff if you\\textbackslash{}'d been sitting on a brick wall all day,\" said Professor McGonagall.　　\"All day? When you could have been celebrating? I must have passed a dozen feasts and parties on my way here.\"　　Professor McGonagall sniffed angrily.　　\"Oh yes, everyone\\textbackslash{}'s celebrating, all right,\" she said impatiently. \"You\\textbackslash{}'d think they\\textbackslash{}'d be a bit more careful, but no -- even the Muggles have noticed something\\textbackslash{}'s going on. It was on their news.\" She jerked her head back at the Dursleys\\textbackslash{}' dark living-room window. \"I heard it. Flocks of owls... shooting stars.... Well, they\\textbackslash{}'re not completely stupid. They were bound to notice something. Shooting stars down in Kent -- I\\textbackslash{}'ll bet that was Dedalus Diggle. He never had much sense.\"　　\"You can\\textbackslash{}'t blame them,\" said Dumbledore gently. \"We\\textbackslash{}'ve had precious little to celebrate for eleven years.\"　　\"I know that,\" said Professor McGonagall irritably. \"But that\\textbackslash{}'s no reason to lose our heads. People are being downright careless, out on the streets in broad daylight, not even dressed in Muggle clothes, swapping rumors.\"　　She threw a sharp, sideways glance at Dumbledore here, as though hoping he was going to tell her something, but he didn\\textbackslash{}'t, so she went on. \"A fine thing it would be if, on the very day YouKnow-Who seems to have disappeared at last, the Muggles found out about us all. I suppose he really has gone, Dumbledore?\"　　\"It certainly seems so,\" said Dumbledore. \"We have much to be thankful for. Would you care for a lemon drop?\"　　\"A what?\"　　\"A lemon drop. They\\textbackslash{}'re a kind of Muggle sweet I\\textbackslash{}'m rather fond of\"　　\"No, thank you,\" said Professor McGonagall coldly, as though she didn\\textbackslash{}'t think this was the moment for lemon drops. \"As I say, even if You-Know-Who has gone -\"　　\"My dear Professor, surely a sensible person like yourself can call him by his name? All this \\textbackslash{}'You- Know-Who\\textbackslash{}' nonsense -- for eleven years I have been trying to persuade people to call him by his proper name: Voldemort.\" Professor McGonagall flinched, but Dumbledore, who was unsticking two lemon drops, seemed not to notice. \"It all gets so confusing if we keep saying \\textbackslash{}'You-Know-Who.\\textbackslash{}' I have never seen any reason to be frightened of saying Voldemort\\textbackslash{}'s name.　　\"I know you haven \\textbackslash{}'t, said Professor McGonagall, sounding half exasperated, half admiring. \"But you\\textbackslash{}'re different. Everyone knows you\\textbackslash{}'re the only one You-Know- oh, all right, Voldemort, was frightened of.\"　　\"You flatter me,\" said Dumbledore calmly. \"Voldemort had powers I will never have.\"　　\"Only because you\\textbackslash{}'re too -- well -- noble to use them.\"　　\"It\\textbackslash{}'s lucky it\\textbackslash{}'s dark. I haven\\textbackslash{}'t blushed so much since Madam Pomfrey told me she liked my new earmuffs.\"　　Professor McGonagall shot a sharp look at Dumbledore and said, \"The owls are nothing next to the rumors that are flying around. You know what everyone\\textbackslash{}'s saying? About why he\\textbackslash{}'s disappeared? About what finally stopped him?\"　　It seemed that Professor McGonagall had reached the point she was most anxious to discuss, the real reason she had been waiting on a cold, hard wall all day, for neither as a cat nor as a woman had she fixed Dumbledore with such a piercing stare as she did now. It was plain that whatever \"everyone\" was saying, she was not going to believe it until Dumbledore told her it was true. Dumbledore, however, was choosing another lemon drop and did not answer.　　\"What they\\textbackslash{}'re saying,\" she pressed on, \"is that last night Voldemort turned up in Godric\\textbackslash{}'s Hollow. He went to find the Potters. The rumor is that Lily and James Potter are -- are -- that they\\textbackslash{}'re -- dead. \"　　Dumbledore bowed his head. Professor McGonagall gasped.　　\"Lily and James... I can\\textbackslash{}'t believe it... I didn\\textbackslash{}'t want to believe it... Oh, Albus...\"　　Dumbledore reached out and patted her on the shoulder. \"I know... I know...\" he said heavily.　　Professor McGonagall\\textbackslash{}'s voice trembled as she went on. \"That\\textbackslash{}'s not all. They\\textbackslash{}'re saying he tried to kill the Potter\\textbackslash{}'s son, Harry. But -- he couldn\\textbackslash{}'t. He couldn\\textbackslash{}'t kill that little boy. No one knows why, or how, but they\\textbackslash{}'re saying that when he couldn\\textbackslash{}'t kill Harry Potter, Voldemort\\textbackslash{}'s power somehow broke -- and that\\textbackslash{}'s why he\\textbackslash{}'s gone.　　Dumbledore nodded glumly.　　\"It\\textbackslash{}'s -- it\\textbackslash{}'s true?\" faltered Professor McGonagall. \"After all he\\textbackslash{}'s done... all the people he\\textbackslash{}'s killed... he couldn\\textbackslash{}'t kill a little boy? It\\textbackslash{}'s just astounding... of all the things to stop him... but how in the name of heaven did Harry survive?\"　　\"We can only guess,\" said Dumbledore. \"We may never know.\"　　Professor McGonagall pulled out a lace handkerchief and dabbed at her eyes beneath her spectacles. Dumbledore gave a great sniff as he took a golden watch from his pocket and examined it. It was a very odd watch. It had twelve hands but no numbers; instead, little planets were moving around the edge. It must have made sense to Dumbledore, though, because he put it back in his pocket and said, \"Hagrid\\textbackslash{}'s late. I suppose it was he who told you I\\textbackslash{}'d be here, by the way?\"　　\"Yes,\" said Professor McGonagall. \"And I don\\textbackslash{}'t suppose you\\textbackslash{}'re going to tell me why you\\textbackslash{}'re here, of all places?\"　　\"I\\textbackslash{}'ve come to bring Harry to his aunt and uncle. They\\textbackslash{}'re the only family he has left now.\"　　\"You don\\textbackslash{}'t mean -- you can\\textbackslash{}'t mean the people who live here?\" cried Professor McGonagall, jumping to her feet and pointing at number four. \"Dumbledore -- you can\\textbackslash{}'t. I\\textbackslash{}'ve been watching them all day. You couldn\\textbackslash{}'t find two people who are less like us. And they\\textbackslash{}'ve got this son -- I saw him kicking his mother all the way up the street, screaming for sweets. Harry Potter come and live here!\"　　\"It\\textbackslash{}'s the best place for him,\" said Dumbledore firmly. \"His aunt and uncle will be able to explain everything to him when he\\textbackslash{}'s older. I\\textbackslash{}'ve written them a letter.\"　　\"A letter?\" repeated Professor McGonagall faintly, sitting back down on the wall. \"Really, Dumbledore, you think you can explain all this in a letter? These people will never understand him! He\\textbackslash{}'ll be famous -- a legend -- I wouldn\\textbackslash{}'t be surprised if today was known as Harry Potter day in the future -- there will be books written about Harry -- every child in our world will know his name!\"　　\"Exactly,\" said Dumbledore, looking very seriously over the top of his half-moon glasses. \"It would be enough to turn any boy\\textbackslash{}'s head. Famous before he can walk and talk! Famous for something he won\\textbackslash{}'t even remember! CarA you see how much better off he\\textbackslash{}'ll be, growing up away from all that until he\\textbackslash{}'s ready to take it?\"　　Professor McGonagall opened her mouth, changed her mind, swallowed, and then said, \"Yes -- yes, you\\textbackslash{}'re right, of course. But how is the boy getting here, Dumbledore?\" She eyed his cloak suddenly as though she thought he might be hiding Harry underneath it.　　\"Hagrid\\textbackslash{}'s bringing him.\"　　\"You think it -- wise -- to trust Hagrid with something as important as this?\"　　I would trust Hagrid with my life,\" said Dumbledore.　　\"I\\textbackslash{}'m not saying his heart isn\\textbackslash{}'t in the right place,\" said Professor McGonagall grudgingly, \"but you can\\textbackslash{}'t pretend he\\textbackslash{}'s not careless. He does tend to -- what was that?\"　　A low rumbling sound had broken the silence around them. It grew steadily louder as they looked up and down the street for some sign of a headlight; it swelled to a roar as they both looked up at the sky -- and a huge motorcycle fell out of the air and landed on the road in front of them.　　If the motorcycle was huge, it was nothing to the man sitting astride it. He was almost twice as tall as a normal man and at least five times as wide. He looked simply too big to be allowed, and so wild - long tangles of bushy black hair and beard hid most of his face, he had hands the size of trash can lids, and his feet in their leather boots were like baby dolphins. In his vast, muscular arms he was holding a bundle of blankets.　　\"Hagrid,\" said Dumbledore, sounding relieved. \"At last. And where did you get that motorcycle?\"　　\"Borrowed it, Professor Dumbledore, sit,\" said the giant, climbing carefully off the motorcycle as he spoke. \"Young Sirius Black lent it to me. I\\textbackslash{}'ve got him, sir.\"　　\"No problems, were there?\"　　\"No, sir -- house was almost destroyed, but I got him out all right before the Muggles started swarmin\\textbackslash{}' around. He fell asleep as we was flyin\\textbackslash{}' over Bristol.\"　　Dumbledore and Professor McGonagall bent forward over the bundle of blankets. Inside, just visible, was a baby boy, fast asleep. Under a tuft of jet-black hair over his forehead they could see a curiously shaped cut, like a bolt of lightning.　　\"Is that where -?\" whispered Professor McGonagall.　　\"Yes,\" said Dumbledore. \"He\\textbackslash{}'ll have that scar forever.\"　　\"Couldn\\textbackslash{}'t you do something about it, Dumbledore?\"　　\"Even if I could, I wouldn\\textbackslash{}'t. Scars can come in handy. I have one myself above my left knee that is a perfect map of the London Underground. Well -- give him here, Hagrid -- we\\textbackslash{}'d better get this over with.\"　　Dumbledore took Harry in his arms and turned toward the Dursleys\\textbackslash{}' house.　　\"Could I -- could I say good-bye to him, sir?\" asked Hagrid. He bent his great, shaggy head over Harry and gave him what must have been a very scratchy, whiskery kiss. Then, suddenly, Hagrid let out a howl like a wounded dog.　　\"Shhh!\" hissed Professor McGonagall, \"you\\textbackslash{}'ll wake the Muggles!\"　　\"S-s-sorry,\" sobbed Hagrid, taking out a large, spotted handkerchief and burying his face in it. \"But I c-c-can\\textbackslash{}'t stand it -- Lily an\\textbackslash{}' James dead -- an\\textbackslash{}' poor little Harry off ter live with Muggles -\"　　\"Yes, yes, it\\textbackslash{}'s all very sad, but get a grip on yourself, Hagrid, or we\\textbackslash{}'ll be found,\" Professor McGonagall whispered, patting Hagrid gingerly on the arm as Dumbledore stepped over the low garden wall and walked to the front door. He laid Harry gently on the doorstep, took a letter out of his cloak, tucked it inside Harry\\textbackslash{}'s blankets, and then came back to the other two. For a full minute the three of them stood and looked at the little bundle; Hagrid\\textbackslash{}'s shoulders shook, Professor McGonagall blinked furiously, and the twinkling light that usually shone from Dumbledore\\textbackslash{}'s eyes seemed to have gone out.　　\"Well,\" said Dumbledore finally, \"that\\textbackslash{}'s that. We\\textbackslash{}'ve no business staying here. We may as well go and join the celebrations.\"　　\"Yeah,\" said Hagrid in a very muffled voice, \"I\\textbackslash{}'ll be takin\\textbackslash{}' Sirius his bike back. G\\textbackslash{}'night, Professor McGonagall -- Professor Dumbledore, sir.\"　　Wiping his streaming eyes on his jacket sleeve, Hagrid swung himself onto the motorcycle and kicked the engine into life; with a roar it rose into the air and off into the night.　　\"I shall see you soon, I expect, Professor McGonagall,\" said Dumbledore, nodding to her. Professor McGonagall blew her nose in reply.　　Dumbledore turned and walked back down the street. On the corner he stopped and took out the silver Put-Outer. He clicked it once, and twelve balls of light sped back to their street lamps so that Privet Drive glowed suddenly orange and he could make out a tabby cat slinking around the corner at the other end of the street. He could just see the bundle of blankets on the step of number four.　　\"Good luck, Harry,\" he murmured. He turned on his heel and with a swish of his cloak, he was gone.　　A breeze ruffled the neat hedges of Privet Drive, which lay silent and tidy under the inky sky, the very last place you would expect astonishing things to happen. Harry Potter rolled over inside his blankets without waking up. One small hand closed on the letter beside him and he slept on, not knowing he was special, not knowing he was famous, not knowing he would be woken in a few hours\\textbackslash{}' time by Mrs. Dursley\\textbackslash{}'s scream as she opened the front door to put out the milk bottles, nor that he would spend the next few weeks being prodded and pinched by his cousin Dudley... He couldn\\textbackslash{}'t know that at this very moment, people meeting in secret all over the country were holding up their glasses and saying in hushed voices: \"To Harry Potter -- the boy who lived!'",
            "text/plain": [
              "[1] \"THE BOY WHO LIVED　　Mr. and Mrs. Dursley, of number four, Privet Drive, were proud to say that they were perfectly normal, thank you very much. They were the last people you'd expect to be involved in anything strange or mysterious, because they just didn't hold with such nonsense.　　Mr. Dursley was the director of a firm called Grunnings, which made drills. He was a big, beefy man with hardly any neck, although he did have a very large mustache. Mrs. Dursley was thin and blonde and had nearly twice the usual amount of neck, which came in very useful as she spent so much of her time craning over garden fences, spying on the neighbors. The Dursleys had a small son called Dudley and in their opinion there was no finer boy anywhere.　　The Dursleys had everything they wanted, but they also had a secret, and their greatest fear was that somebody would discover it. They didn't think they could bear it if anyone found out about the Potters. Mrs. Potter was Mrs. Dursley's sister, but they hadn't met for several years; in fact, Mrs. Dursley pretended she didn't have a sister, because her sister and her good-for-nothing husband were as unDursleyish as it was possible to be. The Dursleys shuddered to think what the neighbors would say if the Potters arrived in the street. The Dursleys knew that the Potters had a small son, too, but they had never even seen him. This boy was another good reason for keeping the Potters away; they didn't want Dudley mixing with a child like that.　　When Mr. and Mrs. Dursley woke up on the dull, gray Tuesday our story starts, there was nothing about the cloudy sky outside to suggest that strange and mysterious things would soon be happening all over the country. Mr. Dursley hummed as he picked out his most boring tie for work, and Mrs. Dursley gossiped away happily as she wrestled a screaming Dudley into his high chair.　　None of them noticed a large, tawny owl flutter past the window.　　At half past eight, Mr. Dursley picked up his briefcase, pecked Mrs. Dursley on the cheek, and tried to kiss Dudley good-bye but missed, because Dudley was now having a tantrum and throwing his cereal at the walls. \\\"Little tyke,\\\" chortled Mr. Dursley as he left the house. He got into his car and backed out of number four's drive.　　It was on the corner of the street that he noticed the first sign of something peculiar -- a cat reading a map. For a second, Mr. Dursley didn't realize what he had seen -- then he jerked his head around to look again. There was a tabby cat standing on the corner of Privet Drive, but there wasn't a map in sight. What could he have been thinking of? It must have been a trick of the light. Mr. Dursley blinked and stared at the cat. It stared back. As Mr. Dursley drove around the corner and up the road, he watched the cat in his mirror. It was now reading the sign that said Privet Drive -- no, looking at the sign; cats couldn't read maps or signs. Mr. Dursley gave himself a little shake and put the cat out of his mind. As he drove toward town he thought of nothing except a large order of drills he was hoping to get that day.　　But on the edge of town, drills were driven out of his mind by something else. As he sat in the usual morning traffic jam, he couldn't help noticing that there seemed to be a lot of strangely dressed people about. People in cloaks. Mr. Dursley couldn't bear people who dressed in funny clothes -- the getups you saw on young people! He supposed this was some stupid new fashion. He drummed his fingers on the steering wheel and his eyes fell on a huddle of these weirdos standing quite close by. They were whispering excitedly together. Mr. Dursley was enraged to see that a couple of them weren't young at all; why, that man had to be older than he was, and wearing an emerald-green cloak! The nerve of him! But then it struck Mr. Dursley that this was probably some silly stunt -- these people were obviously collecting for something... yes, that would be it. The traffic moved on and a few minutes later, Mr. Dursley arrived in the Grunnings parking lot, his mind back on drills.　　Mr. Dursley always sat with his back to the window in his office on the ninth floor. If he hadn't, he might have found it harder to concentrate on drills that morning. He didn't see the owls swoop ing past in broad daylight, though people down in the street did; they pointed and gazed open- mouthed as owl after owl sped overhead. Most of them had never seen an owl even at nighttime. Mr. Dursley, however, had a perfectly normal, owl-free morning. He yelled at five different people. He made several important telephone calls and shouted a bit more. He was in a very good mood until lunchtime, when he thought he'd stretch his legs and walk across the road to buy himself a bun from the bakery.　　He'd forgotten all about the people in cloaks until he passed a group of them next to the baker's. He eyed them angrily as he passed. He didn't know why, but they made him uneasy. This bunch were whispering excitedly, too, and he couldn't see a single collecting tin. It was on his way back past them, clutching a large doughnut in a bag, that he caught a few words of what they were saying.　　 \\\"The Potters, that's right, that's what I heard yes, their son, Harry\\\"　　Mr. Dursley stopped dead. Fear flooded him. He looked back at the whisperers as if he wanted to say something to them, but thought better of it.　　He dashed back across the road, hurried up to his office, snapped at his secretary not to disturb him, seized his telephone, and had almost finished dialing his home number when he changed his mind. He put the receiver back down and stroked his mustache, thinking... no, he was being stupid. Potter wasn't such an unusual name. He was sure there were lots of people called Potter who had a son called Harry. Come to think of it, he wasn't even sure his nephew was called Harry. He'd never even seen the boy. It might have been Harvey. Or Harold. There was no point in worrying Mrs. Dursley; she always got so upset at any mention of her sister. He didn't blame her -- if he'd had a sister like that... but all the same, those people in cloaks...　　He found it a lot harder to concentrate on drills that afternoon and when he left the building at five o'clock, he was still so worried that he walked straight into someone just outside the door.　　\\\"Sorry,\\\" he grunted, as the tiny old man stumbled and almost fell. It was a few seconds before Mr. Dursley realized that the man was wearing a violet cloak. He didn't seem at all upset at being almost knocked to the ground. On the contrary, his face split into a wide smile and he said in a squeaky voice that made passersby stare, \\\"Don't be sorry, my dear sir, for nothing could upset me today! Rejoice, for You-Know-Who has gone at last! Even Muggles like yourself should be celebrating, this happy, happy day!\\\"　　And the old man hugged Mr. Dursley around the middle and walked off.　　Mr. Dursley stood rooted to the spot. He had been hugged by a complete stranger. He also thought he had been called a Muggle, whatever that was. He was rattled. He hurried to his car and set off for home, hoping he was imagining things, which he had never hoped before, because he didn't approve of imagination.　　As he pulled into the driveway of number four, the first thing he saw -- and it didn't improve his mood -- was the tabby cat he'd spotted that morning. It was now sitting on his garden wall. He was sure it was the same one; it had the same markings around its eyes.　　\\\"Shoo!\\\" said Mr. Dursley loudly. The cat didn't move. It just gave him a stern look. Was this normal cat behavior? Mr. Dursley wondered. Trying to pull himself together, he let himself into the house. He was still determined not to mention anything to his wife.　　Mrs. Dursley had had a nice, normal day. She told him over dinner all about Mrs. Next Door's problems with her daughter and how Dudley had learned a new word (\\\"Won't!\\\"). Mr. Dursley tried to act normally. When Dudley had been put to bed, he went into the living room in time to catch the last report on the evening news:　　\\\"And finally, bird-watchers everywhere have reported that the nation's owls have been behaving very unusually today. Although owls normally hunt at night and are hardly ever seen in daylight, there have been hundreds of sightings of these birds flying in every direction since sunrise. Experts are unable to explain why the owls have suddenly changed their sleeping pattern.\\\" The newscaster allowed himself a grin. \\\"Most mysterious. And now, over to Jim McGuffin with the weather. Going to be any more showers of owls tonight, Jim?\\\"　　\\\"Well, Ted,\\\" said the weatherman, \\\"I don't know about that, but it's not only the owls that have been acting oddly today. Viewers as far apart as Kent, Yorkshire, and Dundee have been phoning in to tell me that instead of the rain I promised yesterday, they've had a downpour of shooting stars! Perhaps people have been celebrating Bonfire Night early -- it's not until next week, folks! But I can promise a wet night tonight.\\\"　　Mr. Dursley sat frozen in his armchair. Shooting stars all over Britain? Owls flying by daylight? Mysterious people in cloaks all over the place? And a whisper, a whisper about the Potters...　　Mrs. Dursley came into the living room carrying two cups of tea. It was no good. He'd have to say something to her. He cleared his throat nervously. \\\"Er -- Petunia, dear -- you haven't heard from your sister lately, have you?\\\"　　As he had expected, Mrs. Dursley looked shocked and angry. After all, they normally pretended she didn't have a sister.　　\\\"No,\\\" she said sharply. \\\"Why?\\\"　　\\\"Funny stuff on the news,\\\" Mr. Dursley mumbled. \\\"Owls... shooting stars... and there were a lot of funny-looking people in town today...\\\"　　\\\"So?\\\" snapped Mrs. Dursley.　　\\\"Well, I just thought... maybe... it was something to do with... you know... her crowd.\\\"　　Mrs. Dursley sipped her tea through pursed lips. Mr. Dursley wondered whether he dared tell her he'd heard the name \\\"Potter.\\\" He decided he didn't dare. Instead he said, as casually as he could, \\\"Their son -- he'd be about Dudley's age now, wouldn't he?\\\"　　\\\"I suppose so,\\\" said Mrs. Dursley stiffly.　　\\\"What's his name again? Howard, isn't it?\\\"　　\\\"Harry. Nasty, common name, if you ask me.\\\"　　\\\"Oh, yes,\\\" said Mr. Dursley, his heart sinking horribly. \\\"Yes, I quite agree.\\\"　　He didn't say another word on the subject as they went upstairs to bed. While Mrs. Dursley was in the bathroom, Mr. Dursley crept to the bedroom window and peered down into the front garden. The cat was still there. It was staring down Privet Drive as though it were waiting for something.　　Was he imagining things? Could all this have anything to do with the Potters? If it did... if it got out that they were related to a pair of -- well, he didn't think he could bear it.　　The Dursleys got into bed. Mrs. Dursley fell asleep quickly but Mr. Dursley lay awake, turning it all over in his mind. His last, comforting thought before he fell asleep was that even if the Potters were involved, there was no reason for them to come near him and Mrs. Dursley. The Potters knew very well what he and Petunia thought about them and their kind.... He couldn't see how he and Petunia could get mixed up in anything that might be going on -- he yawned and turned over -- it couldn't affect them....　　How very wrong he was.　　Mr. Dursley might have been drifting into an uneasy sleep, but the cat on the wall outside was showing no sign of sleepiness. It was sitting as still as a statue, its eyes fixed unblinkingly on the far corner of Privet Drive. It didn't so much as quiver when a car door slammed on the next street, nor when two owls swooped overhead. In fact, it was nearly midnight before the cat moved at all.　　A man appeared on the corner the cat had been watching, appeared so suddenly and silently you'd have thought he'd just popped out of the ground. The cat's tail twitched and its eyes narrowed.　　Nothing like this man had ever been seen on Privet Drive. He was tall, thin, and very old, judging by the silver of his hair and beard, which were both long enough to tuck into his belt. He was wearing long robes, a purple cloak that swept the ground, and high-heeled, buckled boots. His blue eyes were light, bright, and sparkling behind half-moon spectacles and his nose was very long and crooked, as though it had been broken at least twice. This man's name was Albus Dumbledore.　　Albus Dumbledore didn't seem to realize that he had just arrived in a street where everything from his name to his boots was unwelcome. He was busy rummaging in his cloak, looking for something. But he did seem to realize he was being watched, because he looked up suddenly at the cat, which was still staring at him from the other end of the street. For some reason, the sight of the cat seemed to amuse him. He chuckled and muttered, \\\"I should have known.\\\"　　He found what he was looking for in his inside pocket. It seemed to be a silver cigarette lighter. He flicked it open, held it up in the air, and clicked it. The nearest street lamp went out with a little pop. He clicked it again -- the next lamp flickered into darkness. Twelve times he clicked the Put-Outer, until the only lights left on the whole street were two tiny pinpricks in the distance, which were the eyes of the cat watching him. If anyone looked out of their window now, even beady-eyed Mrs. Dursley, they wouldn't be able to see anything that was happening down on the pavement. Dumbledore slipped the Put-Outer back inside his cloak and set off down the street toward number four, where he sat down on the wall next to the cat. He didn't look at it, but after a moment he spoke to it.　　\\\"Fancy seeing you here, Professor McGonagall.\\\"　　He turned to smile at the tabby, but it had gone. Instead he was smiling at a rather severe-looking woman who was wearing square glasses exactly the shape of the markings the cat had had around its eyes. She, too, was wearing a cloak, an emerald one. Her black hair was drawn into a tight bun. She looked distinctly ruffled.　　\\\"How did you know it was me?\\\" she asked.　　\\\"My dear Professor, I 've never seen a cat sit so stiffly.\\\"　　\\\"You'd be stiff if you'd been sitting on a brick wall all day,\\\" said Professor McGonagall.　　\\\"All day? When you could have been celebrating? I must have passed a dozen feasts and parties on my way here.\\\"　　Professor McGonagall sniffed angrily.　　\\\"Oh yes, everyone's celebrating, all right,\\\" she said impatiently. \\\"You'd think they'd be a bit more careful, but no -- even the Muggles have noticed something's going on. It was on their news.\\\" She jerked her head back at the Dursleys' dark living-room window. \\\"I heard it. Flocks of owls... shooting stars.... Well, they're not completely stupid. They were bound to notice something. Shooting stars down in Kent -- I'll bet that was Dedalus Diggle. He never had much sense.\\\"　　\\\"You can't blame them,\\\" said Dumbledore gently. \\\"We've had precious little to celebrate for eleven years.\\\"　　\\\"I know that,\\\" said Professor McGonagall irritably. \\\"But that's no reason to lose our heads. People are being downright careless, out on the streets in broad daylight, not even dressed in Muggle clothes, swapping rumors.\\\"　　She threw a sharp, sideways glance at Dumbledore here, as though hoping he was going to tell her something, but he didn't, so she went on. \\\"A fine thing it would be if, on the very day YouKnow-Who seems to have disappeared at last, the Muggles found out about us all. I suppose he really has gone, Dumbledore?\\\"　　\\\"It certainly seems so,\\\" said Dumbledore. \\\"We have much to be thankful for. Would you care for a lemon drop?\\\"　　\\\"A what?\\\"　　\\\"A lemon drop. They're a kind of Muggle sweet I'm rather fond of\\\"　　\\\"No, thank you,\\\" said Professor McGonagall coldly, as though she didn't think this was the moment for lemon drops. \\\"As I say, even if You-Know-Who has gone -\\\"　　\\\"My dear Professor, surely a sensible person like yourself can call him by his name? All this 'You- Know-Who' nonsense -- for eleven years I have been trying to persuade people to call him by his proper name: Voldemort.\\\" Professor McGonagall flinched, but Dumbledore, who was unsticking two lemon drops, seemed not to notice. \\\"It all gets so confusing if we keep saying 'You-Know-Who.' I have never seen any reason to be frightened of saying Voldemort's name.　　\\\"I know you haven 't, said Professor McGonagall, sounding half exasperated, half admiring. \\\"But you're different. Everyone knows you're the only one You-Know- oh, all right, Voldemort, was frightened of.\\\"　　\\\"You flatter me,\\\" said Dumbledore calmly. \\\"Voldemort had powers I will never have.\\\"　　\\\"Only because you're too -- well -- noble to use them.\\\"　　\\\"It's lucky it's dark. I haven't blushed so much since Madam Pomfrey told me she liked my new earmuffs.\\\"　　Professor McGonagall shot a sharp look at Dumbledore and said, \\\"The owls are nothing next to the rumors that are flying around. You know what everyone's saying? About why he's disappeared? About what finally stopped him?\\\"　　It seemed that Professor McGonagall had reached the point she was most anxious to discuss, the real reason she had been waiting on a cold, hard wall all day, for neither as a cat nor as a woman had she fixed Dumbledore with such a piercing stare as she did now. It was plain that whatever \\\"everyone\\\" was saying, she was not going to believe it until Dumbledore told her it was true. Dumbledore, however, was choosing another lemon drop and did not answer.　　\\\"What they're saying,\\\" she pressed on, \\\"is that last night Voldemort turned up in Godric's Hollow. He went to find the Potters. The rumor is that Lily and James Potter are -- are -- that they're -- dead. \\\"　　Dumbledore bowed his head. Professor McGonagall gasped.　　\\\"Lily and James... I can't believe it... I didn't want to believe it... Oh, Albus...\\\"　　Dumbledore reached out and patted her on the shoulder. \\\"I know... I know...\\\" he said heavily.　　Professor McGonagall's voice trembled as she went on. \\\"That's not all. They're saying he tried to kill the Potter's son, Harry. But -- he couldn't. He couldn't kill that little boy. No one knows why, or how, but they're saying that when he couldn't kill Harry Potter, Voldemort's power somehow broke -- and that's why he's gone.　　Dumbledore nodded glumly.　　\\\"It's -- it's true?\\\" faltered Professor McGonagall. \\\"After all he's done... all the people he's killed... he couldn't kill a little boy? It's just astounding... of all the things to stop him... but how in the name of heaven did Harry survive?\\\"　　\\\"We can only guess,\\\" said Dumbledore. \\\"We may never know.\\\"　　Professor McGonagall pulled out a lace handkerchief and dabbed at her eyes beneath her spectacles. Dumbledore gave a great sniff as he took a golden watch from his pocket and examined it. It was a very odd watch. It had twelve hands but no numbers; instead, little planets were moving around the edge. It must have made sense to Dumbledore, though, because he put it back in his pocket and said, \\\"Hagrid's late. I suppose it was he who told you I'd be here, by the way?\\\"　　\\\"Yes,\\\" said Professor McGonagall. \\\"And I don't suppose you're going to tell me why you're here, of all places?\\\"　　\\\"I've come to bring Harry to his aunt and uncle. They're the only family he has left now.\\\"　　\\\"You don't mean -- you can't mean the people who live here?\\\" cried Professor McGonagall, jumping to her feet and pointing at number four. \\\"Dumbledore -- you can't. I've been watching them all day. You couldn't find two people who are less like us. And they've got this son -- I saw him kicking his mother all the way up the street, screaming for sweets. Harry Potter come and live here!\\\"　　\\\"It's the best place for him,\\\" said Dumbledore firmly. \\\"His aunt and uncle will be able to explain everything to him when he's older. I've written them a letter.\\\"　　\\\"A letter?\\\" repeated Professor McGonagall faintly, sitting back down on the wall. \\\"Really, Dumbledore, you think you can explain all this in a letter? These people will never understand him! He'll be famous -- a legend -- I wouldn't be surprised if today was known as Harry Potter day in the future -- there will be books written about Harry -- every child in our world will know his name!\\\"　　\\\"Exactly,\\\" said Dumbledore, looking very seriously over the top of his half-moon glasses. \\\"It would be enough to turn any boy's head. Famous before he can walk and talk! Famous for something he won't even remember! CarA you see how much better off he'll be, growing up away from all that until he's ready to take it?\\\"　　Professor McGonagall opened her mouth, changed her mind, swallowed, and then said, \\\"Yes -- yes, you're right, of course. But how is the boy getting here, Dumbledore?\\\" She eyed his cloak suddenly as though she thought he might be hiding Harry underneath it.　　\\\"Hagrid's bringing him.\\\"　　\\\"You think it -- wise -- to trust Hagrid with something as important as this?\\\"　　I would trust Hagrid with my life,\\\" said Dumbledore.　　\\\"I'm not saying his heart isn't in the right place,\\\" said Professor McGonagall grudgingly, \\\"but you can't pretend he's not careless. He does tend to -- what was that?\\\"　　A low rumbling sound had broken the silence around them. It grew steadily louder as they looked up and down the street for some sign of a headlight; it swelled to a roar as they both looked up at the sky -- and a huge motorcycle fell out of the air and landed on the road in front of them.　　If the motorcycle was huge, it was nothing to the man sitting astride it. He was almost twice as tall as a normal man and at least five times as wide. He looked simply too big to be allowed, and so wild - long tangles of bushy black hair and beard hid most of his face, he had hands the size of trash can lids, and his feet in their leather boots were like baby dolphins. In his vast, muscular arms he was holding a bundle of blankets.　　\\\"Hagrid,\\\" said Dumbledore, sounding relieved. \\\"At last. And where did you get that motorcycle?\\\"　　\\\"Borrowed it, Professor Dumbledore, sit,\\\" said the giant, climbing carefully off the motorcycle as he spoke. \\\"Young Sirius Black lent it to me. I've got him, sir.\\\"　　\\\"No problems, were there?\\\"　　\\\"No, sir -- house was almost destroyed, but I got him out all right before the Muggles started swarmin' around. He fell asleep as we was flyin' over Bristol.\\\"　　Dumbledore and Professor McGonagall bent forward over the bundle of blankets. Inside, just visible, was a baby boy, fast asleep. Under a tuft of jet-black hair over his forehead they could see a curiously shaped cut, like a bolt of lightning.　　\\\"Is that where -?\\\" whispered Professor McGonagall.　　\\\"Yes,\\\" said Dumbledore. \\\"He'll have that scar forever.\\\"　　\\\"Couldn't you do something about it, Dumbledore?\\\"　　\\\"Even if I could, I wouldn't. Scars can come in handy. I have one myself above my left knee that is a perfect map of the London Underground. Well -- give him here, Hagrid -- we'd better get this over with.\\\"　　Dumbledore took Harry in his arms and turned toward the Dursleys' house.　　\\\"Could I -- could I say good-bye to him, sir?\\\" asked Hagrid. He bent his great, shaggy head over Harry and gave him what must have been a very scratchy, whiskery kiss. Then, suddenly, Hagrid let out a howl like a wounded dog.　　\\\"Shhh!\\\" hissed Professor McGonagall, \\\"you'll wake the Muggles!\\\"　　\\\"S-s-sorry,\\\" sobbed Hagrid, taking out a large, spotted handkerchief and burying his face in it. \\\"But I c-c-can't stand it -- Lily an' James dead -- an' poor little Harry off ter live with Muggles -\\\"　　\\\"Yes, yes, it's all very sad, but get a grip on yourself, Hagrid, or we'll be found,\\\" Professor McGonagall whispered, patting Hagrid gingerly on the arm as Dumbledore stepped over the low garden wall and walked to the front door. He laid Harry gently on the doorstep, took a letter out of his cloak, tucked it inside Harry's blankets, and then came back to the other two. For a full minute the three of them stood and looked at the little bundle; Hagrid's shoulders shook, Professor McGonagall blinked furiously, and the twinkling light that usually shone from Dumbledore's eyes seemed to have gone out.　　\\\"Well,\\\" said Dumbledore finally, \\\"that's that. We've no business staying here. We may as well go and join the celebrations.\\\"　　\\\"Yeah,\\\" said Hagrid in a very muffled voice, \\\"I'll be takin' Sirius his bike back. G'night, Professor McGonagall -- Professor Dumbledore, sir.\\\"　　Wiping his streaming eyes on his jacket sleeve, Hagrid swung himself onto the motorcycle and kicked the engine into life; with a roar it rose into the air and off into the night.　　\\\"I shall see you soon, I expect, Professor McGonagall,\\\" said Dumbledore, nodding to her. Professor McGonagall blew her nose in reply.　　Dumbledore turned and walked back down the street. On the corner he stopped and took out the silver Put-Outer. He clicked it once, and twelve balls of light sped back to their street lamps so that Privet Drive glowed suddenly orange and he could make out a tabby cat slinking around the corner at the other end of the street. He could just see the bundle of blankets on the step of number four.　　\\\"Good luck, Harry,\\\" he murmured. He turned on his heel and with a swish of his cloak, he was gone.　　A breeze ruffled the neat hedges of Privet Drive, which lay silent and tidy under the inky sky, the very last place you would expect astonishing things to happen. Harry Potter rolled over inside his blankets without waking up. One small hand closed on the letter beside him and he slept on, not knowing he was special, not knowing he was famous, not knowing he would be woken in a few hours' time by Mrs. Dursley's scream as she opened the front door to put out the milk bottles, nor that he would spend the next few weeks being prodded and pinched by his cousin Dudley... He couldn't know that at this very moment, people meeting in secret all over the country were holding up their glasses and saying in hushed voices: \\\"To Harry Potter -- the boy who lived!\""
            ]
          },
          "metadata": {}
        }
      ],
      "source": [
        "ch1 <- philosophers_stone[[1]]\n",
        "# length(philosophers_stone)\n",
        "ch1"
      ]
    },
    {
      "cell_type": "markdown",
      "metadata": {
        "id": "OjUyRZmDXtps"
      },
      "source": [
        "### Exercise\n",
        "What is the longest (in number of characters) chapter in Philosopher's Stone?"
      ]
    },
    {
      "cell_type": "code",
      "execution_count": 114,
      "metadata": {
        "id": "sQjg7mImXtps",
        "outputId": "a675a385-cce4-4d29-ee91-fc9a2c3a7a00",
        "colab": {
          "base_uri": "https://localhost:8080/",
          "height": 52
        }
      },
      "outputs": [
        {
          "output_type": "display_data",
          "data": {
            "text/html": [
              "<style>\n",
              ".list-inline {list-style: none; margin:0; padding: 0}\n",
              ".list-inline>li {display: inline-block}\n",
              ".list-inline>li:not(:last-child)::after {content: \"\\00b7\"; padding: 0 .5ex}\n",
              "</style>\n",
              "<ol class=list-inline><li>25928</li><li>19181</li><li>21570</li><li>20429</li><li>37699</li><li>35057</li><li>25344</li><li>17249</li><li>28273</li><li>24211</li><li>19222</li><li>30782</li><li>18319</li><li>19591</li><li>29006</li><li>36464</li><li>31105</li></ol>\n"
            ],
            "text/markdown": "1. 25928\n2. 19181\n3. 21570\n4. 20429\n5. 37699\n6. 35057\n7. 25344\n8. 17249\n9. 28273\n10. 24211\n11. 19222\n12. 30782\n13. 18319\n14. 19591\n15. 29006\n16. 36464\n17. 31105\n\n\n",
            "text/latex": "\\begin{enumerate*}\n\\item 25928\n\\item 19181\n\\item 21570\n\\item 20429\n\\item 37699\n\\item 35057\n\\item 25344\n\\item 17249\n\\item 28273\n\\item 24211\n\\item 19222\n\\item 30782\n\\item 18319\n\\item 19591\n\\item 29006\n\\item 36464\n\\item 31105\n\\end{enumerate*}\n",
            "text/plain": [
              " [1] 25928 19181 21570 20429 37699 35057 25344 17249 28273 24211 19222 30782\n",
              "[13] 18319 19591 29006 36464 31105"
            ]
          },
          "metadata": {}
        }
      ],
      "source": [
        "# longest chapter in harry potter\n",
        "str_length(philosophers_stone)"
      ]
    },
    {
      "cell_type": "code",
      "source": [
        "tibble(text = philosophers_stone,\n",
        "      ch_length = str_length(text),\n",
        "      word_count = str_count(text, '\\\\w'),\n",
        "      spaces_count = str_count(text, '\\\\s')) %>% \n",
        "        select (ch_length, word_count, spaces_count) "
      ],
      "metadata": {
        "id": "ByVsq64Z3N69",
        "outputId": "8b39d014-e146-4c2e-c9cf-9959494c1485",
        "colab": {
          "base_uri": "https://localhost:8080/"
        }
      },
      "execution_count": 122,
      "outputs": [
        {
          "output_type": "stream",
          "name": "stdout",
          "text": [
            "\u001b[90m# A tibble: 17 × 3\u001b[39m\n",
            "   ch_length word_count spaces_count\n",
            "       \u001b[3m\u001b[90m<int>\u001b[39m\u001b[23m      \u001b[3m\u001b[90m<int>\u001b[39m\u001b[23m        \u001b[3m\u001b[90m<int>\u001b[39m\u001b[23m\n",
            "\u001b[90m 1\u001b[39m     \u001b[4m2\u001b[24m\u001b[4m5\u001b[24m928      \u001b[4m1\u001b[24m\u001b[4m9\u001b[24m888         \u001b[4m4\u001b[24m751\n",
            "\u001b[90m 2\u001b[39m     \u001b[4m1\u001b[24m\u001b[4m9\u001b[24m181      \u001b[4m1\u001b[24m\u001b[4m4\u001b[24m780         \u001b[4m3\u001b[24m574\n",
            "\u001b[90m 3\u001b[39m     \u001b[4m2\u001b[24m\u001b[4m1\u001b[24m570      \u001b[4m1\u001b[24m\u001b[4m6\u001b[24m629         \u001b[4m3\u001b[24m999\n",
            "\u001b[90m 4\u001b[39m     \u001b[4m2\u001b[24m\u001b[4m0\u001b[24m429      \u001b[4m1\u001b[24m\u001b[4m5\u001b[24m251         \u001b[4m3\u001b[24m900\n",
            "\u001b[90m 5\u001b[39m     \u001b[4m3\u001b[24m\u001b[4m7\u001b[24m699      \u001b[4m2\u001b[24m\u001b[4m8\u001b[24m637         \u001b[4m6\u001b[24m927\n",
            "\u001b[90m 6\u001b[39m     \u001b[4m3\u001b[24m\u001b[4m5\u001b[24m057      \u001b[4m2\u001b[24m\u001b[4m6\u001b[24m400         \u001b[4m6\u001b[24m636\n",
            "\u001b[90m 7\u001b[39m     \u001b[4m2\u001b[24m\u001b[4m5\u001b[24m344      \u001b[4m1\u001b[24m\u001b[4m9\u001b[24m501         \u001b[4m4\u001b[24m695\n",
            "\u001b[90m 8\u001b[39m     \u001b[4m1\u001b[24m\u001b[4m7\u001b[24m249      \u001b[4m1\u001b[24m\u001b[4m3\u001b[24m445         \u001b[4m3\u001b[24m169\n",
            "\u001b[90m 9\u001b[39m     \u001b[4m2\u001b[24m\u001b[4m8\u001b[24m273      \u001b[4m2\u001b[24m\u001b[4m1\u001b[24m601         \u001b[4m5\u001b[24m174\n",
            "\u001b[90m10\u001b[39m     \u001b[4m2\u001b[24m\u001b[4m4\u001b[24m211      \u001b[4m1\u001b[24m\u001b[4m8\u001b[24m629         \u001b[4m4\u001b[24m472\n",
            "\u001b[90m11\u001b[39m     \u001b[4m1\u001b[24m\u001b[4m9\u001b[24m222      \u001b[4m1\u001b[24m\u001b[4m4\u001b[24m697         \u001b[4m3\u001b[24m531\n",
            "\u001b[90m12\u001b[39m     \u001b[4m3\u001b[24m\u001b[4m0\u001b[24m782      \u001b[4m2\u001b[24m\u001b[4m3\u001b[24m547         \u001b[4m5\u001b[24m750\n",
            "\u001b[90m13\u001b[39m     \u001b[4m1\u001b[24m\u001b[4m8\u001b[24m319      \u001b[4m1\u001b[24m\u001b[4m4\u001b[24m052         \u001b[4m3\u001b[24m324\n",
            "\u001b[90m14\u001b[39m     \u001b[4m1\u001b[24m\u001b[4m9\u001b[24m591      \u001b[4m1\u001b[24m\u001b[4m4\u001b[24m845         \u001b[4m3\u001b[24m647\n",
            "\u001b[90m15\u001b[39m     \u001b[4m2\u001b[24m\u001b[4m9\u001b[24m006      \u001b[4m2\u001b[24m\u001b[4m2\u001b[24m044         \u001b[4m5\u001b[24m316\n",
            "\u001b[90m16\u001b[39m     \u001b[4m3\u001b[24m\u001b[4m6\u001b[24m464      \u001b[4m2\u001b[24m\u001b[4m7\u001b[24m422         \u001b[4m6\u001b[24m818\n",
            "\u001b[90m17\u001b[39m     \u001b[4m3\u001b[24m\u001b[4m1\u001b[24m105      \u001b[4m2\u001b[24m\u001b[4m3\u001b[24m444         \u001b[4m5\u001b[24m755\n"
          ]
        }
      ]
    },
    {
      "cell_type": "code",
      "source": [
        "tibble(text = c('a','b','c'))"
      ],
      "metadata": {
        "id": "ZFo1NJJ94znF",
        "outputId": "0e0d280e-82ee-4950-e480-26c9fef0aeec",
        "colab": {
          "base_uri": "https://localhost:8080/",
          "height": 210
        }
      },
      "execution_count": 123,
      "outputs": [
        {
          "output_type": "display_data",
          "data": {
            "text/html": [
              "<table class=\"dataframe\">\n",
              "<caption>A tibble: 3 × 1</caption>\n",
              "<thead>\n",
              "\t<tr><th scope=col>text</th></tr>\n",
              "\t<tr><th scope=col>&lt;chr&gt;</th></tr>\n",
              "</thead>\n",
              "<tbody>\n",
              "\t<tr><td>a</td></tr>\n",
              "\t<tr><td>b</td></tr>\n",
              "\t<tr><td>c</td></tr>\n",
              "</tbody>\n",
              "</table>\n"
            ],
            "text/markdown": "\nA tibble: 3 × 1\n\n| text &lt;chr&gt; |\n|---|\n| a |\n| b |\n| c |\n\n",
            "text/latex": "A tibble: 3 × 1\n\\begin{tabular}{l}\n text\\\\\n <chr>\\\\\n\\hline\n\t a\\\\\n\t b\\\\\n\t c\\\\\n\\end{tabular}\n",
            "text/plain": [
              "  text\n",
              "1 a   \n",
              "2 b   \n",
              "3 c   "
            ]
          },
          "metadata": {}
        }
      ]
    },
    {
      "cell_type": "code",
      "source": [
        "?str_count"
      ],
      "metadata": {
        "id": "XP9HXXNx3zMW"
      },
      "execution_count": 118,
      "outputs": []
    },
    {
      "cell_type": "markdown",
      "metadata": {
        "id": "iLi-FiHgXtps"
      },
      "source": [
        "Now say we wanted to find the chapter with the most words. Is it necessarily the same?"
      ]
    },
    {
      "cell_type": "code",
      "execution_count": null,
      "metadata": {
        "id": "Krnn6CWEXtps"
      },
      "outputs": [],
      "source": []
    },
    {
      "cell_type": "markdown",
      "metadata": {
        "id": "W9fHE-jVXtpt"
      },
      "source": [
        "If you scroll through `ch1` a bit, you'll notice that there are some funny characters which don't appear in the books"
      ]
    },
    {
      "cell_type": "markdown",
      "metadata": {
        "id": "flGkYSKDXtpt"
      },
      "source": [
        "Let's see how this works for Harry Potter. Where does the first quotation in `ch1` occur? To find this, we will use the \n",
        "\n",
        "    str_locate(<string>, <substring>)\n",
        "    \n",
        "function:"
      ]
    },
    {
      "cell_type": "code",
      "execution_count": 124,
      "metadata": {
        "id": "tQCmO--XXtpt",
        "outputId": "5b4755db-7098-4e99-8558-1d7408511548",
        "colab": {
          "base_uri": "https://localhost:8080/",
          "height": 115
        }
      },
      "outputs": [
        {
          "output_type": "display_data",
          "data": {
            "text/html": [
              "<table class=\"dataframe\">\n",
              "<caption>A matrix: 1 × 2 of type int</caption>\n",
              "<thead>\n",
              "\t<tr><th scope=col>start</th><th scope=col>end</th></tr>\n",
              "</thead>\n",
              "<tbody>\n",
              "\t<tr><td>2150</td><td>2150</td></tr>\n",
              "</tbody>\n",
              "</table>\n"
            ],
            "text/markdown": "\nA matrix: 1 × 2 of type int\n\n| start | end |\n|---|---|\n| 2150 | 2150 |\n\n",
            "text/latex": "A matrix: 1 × 2 of type int\n\\begin{tabular}{ll}\n start & end\\\\\n\\hline\n\t 2150 & 2150\\\\\n\\end{tabular}\n",
            "text/plain": [
              "     start end \n",
              "[1,] 2150  2150"
            ]
          },
          "metadata": {}
        }
      ],
      "source": [
        "str_locate(ch1, \"\\\"\")  # <---- note the escape."
      ]
    },
    {
      "cell_type": "markdown",
      "metadata": {
        "id": "0sIWy8RSXtpy"
      },
      "source": [
        "Note the escape: we are searching `ch1` for the first occurence of the character `\"`."
      ]
    },
    {
      "cell_type": "markdown",
      "metadata": {
        "id": "d7ckCdxzXtpy"
      },
      "source": [
        "This tells us that the first quote occurs at position 2150 of `ch1`. To view a portion of a string, we can use the \n",
        "\n",
        "    str_sub(<string>, <start>, <end>)\n",
        "\n",
        "command:"
      ]
    },
    {
      "cell_type": "code",
      "execution_count": null,
      "metadata": {
        "id": "RTt5IH6iXtpy",
        "outputId": "cbeb9688-125c-4d3c-82e7-4fd87a692281",
        "colab": {
          "base_uri": "https://localhost:8080/"
        }
      },
      "outputs": [
        {
          "output_type": "stream",
          "name": "stdout",
          "text": [
            "[1] \"\\\"Little tyke,\\\" chortled Mr. Dursley as he left the house. He got into his car and backed out of numbe\"\n"
          ]
        }
      ],
      "source": [
        "str_sub(ch1, 2150, 2250) %>% print"
      ]
    },
    {
      "cell_type": "markdown",
      "metadata": {
        "id": "lOohh7YKXtpy"
      },
      "source": [
        "### Exercise\n",
        "\n",
        "(About) how many quotes are there in Ch.1? (Hint: use `str_count()`)."
      ]
    },
    {
      "cell_type": "code",
      "execution_count": 126,
      "metadata": {
        "id": "8pRIL3l0Xtpz",
        "outputId": "db1b4c5e-b797-4fa8-ed5f-8d6e67b7b73d",
        "colab": {
          "base_uri": "https://localhost:8080/",
          "height": 34
        }
      },
      "outputs": [
        {
          "output_type": "display_data",
          "data": {
            "text/html": [
              "205"
            ],
            "text/markdown": "205",
            "text/latex": "205",
            "text/plain": [
              "[1] 205"
            ]
          },
          "metadata": {}
        }
      ],
      "source": [
        "# how many quotes?\n",
        "str_count(ch1, \"\\\"\")"
      ]
    },
    {
      "cell_type": "code",
      "source": [
        "?str_count"
      ],
      "metadata": {
        "id": "En_4q-076M4r"
      },
      "execution_count": 125,
      "outputs": []
    },
    {
      "cell_type": "markdown",
      "metadata": {
        "id": "t9P6r4EoXtpz"
      },
      "source": [
        "### Exercise\n",
        "What's the last sentence of Chapter 1?"
      ]
    },
    {
      "cell_type": "code",
      "execution_count": 131,
      "metadata": {
        "id": "IXRMtM38Xtpz",
        "outputId": "f30d7af0-4ff2-4e96-876c-1d83a7906590",
        "colab": {
          "base_uri": "https://localhost:8080/",
          "height": 34
        }
      },
      "outputs": [
        {
          "output_type": "display_data",
          "data": {
            "text/html": [
              "'ry were holding up their glasses and saying in hushed voices: \"To Harry Potter -- the boy who lived!'"
            ],
            "text/markdown": "'ry were holding up their glasses and saying in hushed voices: \"To Harry Potter -- the boy who lived!'",
            "text/latex": "'ry were holding up their glasses and saying in hushed voices: \"To Harry Potter -- the boy who lived!'",
            "text/plain": [
              "[1] \"ry were holding up their glasses and saying in hushed voices: \\\"To Harry Potter -- the boy who lived!\""
            ]
          },
          "metadata": {}
        }
      ],
      "source": [
        "# Last sentence, ch1\n",
        "str_sub(ch1, -100)"
      ]
    },
    {
      "cell_type": "markdown",
      "metadata": {
        "id": "IPVkWMucXtpz"
      },
      "source": [
        "## 🤔 Quiz\n",
        "\n",
        "Which chapter closes with the word _Voldemort_?\n",
        "\n",
        "<ol style=\"list-style-type: upper-alpha;\">\n",
        "    <li>5</li>\n",
        "    <li>13</li>\n",
        "    <li>16</li>\n",
        "    <li>17</li>\n",
        "    <li>19</li>\n",
        "</ol>\n",
        "\n"
      ]
    },
    {
      "cell_type": "code",
      "execution_count": 137,
      "metadata": {
        "scrolled": true,
        "id": "aAljb5NuXtpz",
        "outputId": "f06aca28-6de6-46aa-d715-d4104572f59d",
        "colab": {
          "base_uri": "https://localhost:8080/",
          "height": 104
        }
      },
      "outputs": [
        {
          "output_type": "display_data",
          "data": {
            "text/html": [
              "<style>\n",
              ".list-inline {list-style: none; margin:0; padding: 0}\n",
              ".list-inline>li {display: inline-block}\n",
              ".list-inline>li:not(:last-child)::after {content: \"\\00b7\"; padding: 0 .5ex}\n",
              "</style>\n",
              "<ol class=list-inline><li>'- the boy who lived!'</li><li>'ith Dudley\\'s gang.　　'</li><li>'ocking to come in.　　'</li><li>'e o\\' the pockets.\"　　'</li><li>'d Hagrid had gone.　　'</li><li>'n the castle door.　　'</li><li>' the dream at all.　　'</li><li>'ant to tell Harry?　　'</li><li>' and thirteen was.　　'</li><li>'ll is one of them.　　'</li><li>'ious with himself.　　'</li><li>'personal question.　　'</li><li>'uesday,\" said Ron.　　'</li><li>' top of the tower.　　'</li><li>'it:　　Just in case.　　'</li><li>'\\'t even Voldemort.　　'</li><li>'summer....\"　　THE END'</li></ol>\n"
            ],
            "text/markdown": "1. '- the boy who lived!'\n2. 'ith Dudley\\'s gang.　　'\n3. 'ocking to come in.　　'\n4. 'e o\\' the pockets.\"　　'\n5. 'd Hagrid had gone.　　'\n6. 'n the castle door.　　'\n7. ' the dream at all.　　'\n8. 'ant to tell Harry?　　'\n9. ' and thirteen was.　　'\n10. 'll is one of them.　　'\n11. 'ious with himself.　　'\n12. 'personal question.　　'\n13. 'uesday,\" said Ron.　　'\n14. ' top of the tower.　　'\n15. 'it:　　Just in case.　　'\n16. '\\'t even Voldemort.　　'\n17. 'summer....\"　　THE END'\n\n\n",
            "text/latex": "\\begin{enumerate*}\n\\item '- the boy who lived!'\n\\item 'ith Dudley\\textbackslash{}'s gang.　　'\n\\item 'ocking to come in.　　'\n\\item 'e o\\textbackslash{}' the pockets.\"　　'\n\\item 'd Hagrid had gone.　　'\n\\item 'n the castle door.　　'\n\\item ' the dream at all.　　'\n\\item 'ant to tell Harry?　　'\n\\item ' and thirteen was.　　'\n\\item 'll is one of them.　　'\n\\item 'ious with himself.　　'\n\\item 'personal question.　　'\n\\item 'uesday,\" said Ron.　　'\n\\item ' top of the tower.　　'\n\\item 'it:　　Just in case.　　'\n\\item '\\textbackslash{}'t even Voldemort.　　'\n\\item 'summer....\"　　THE END'\n\\end{enumerate*}\n",
            "text/plain": [
              " [1] \"- the boy who lived!\"     \"ith Dudley's gang.　　\"  \n",
              " [3] \"ocking to come in.　　\"   \"e o' the pockets.\\\"　　\" \n",
              " [5] \"d Hagrid had gone.　　\"   \"n the castle door.　　\"  \n",
              " [7] \" the dream at all.　　\"   \"ant to tell Harry?　　\"  \n",
              " [9] \" and thirteen was.　　\"   \"ll is one of them.　　\"  \n",
              "[11] \"ious with himself.　　\"   \"personal question.　　\"  \n",
              "[13] \"uesday,\\\" said Ron.　　\"  \" top of the tower.　　\"  \n",
              "[15] \"it:　　Just in case.　　\" \"'t even Voldemort.　　\"  \n",
              "[17] \"summer....\\\"　　THE END\" "
            ]
          },
          "metadata": {}
        }
      ],
      "source": [
        "# voldemort\n",
        "str_sub(philosophers_stone, -20)"
      ]
    }
  ],
  "metadata": {
    "celltoolbar": "Slideshow",
    "kernelspec": {
      "display_name": "R",
      "language": "R",
      "name": "ir"
    },
    "language_info": {
      "codemirror_mode": "r",
      "file_extension": ".r",
      "mimetype": "text/x-r-source",
      "name": "R",
      "pygments_lexer": "r",
      "version": "4.2.2"
    },
    "colab": {
      "provenance": []
    }
  },
  "nbformat": 4,
  "nbformat_minor": 0
}