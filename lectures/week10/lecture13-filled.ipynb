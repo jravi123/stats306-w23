{
  "cells": [
    {
      "cell_type": "code",
      "execution_count": 30,
      "metadata": {
        "colab": {
          "base_uri": "https://localhost:8080/"
        },
        "id": "CvNewwEhjYk3",
        "outputId": "5597c087-ba14-4536-8a40-ea38807a2100"
      },
      "outputs": [
        {
          "output_type": "stream",
          "name": "stderr",
          "text": [
            "Installing package into ‘/usr/local/lib/R/site-library’\n",
            "(as ‘lib’ is unspecified)\n",
            "\n",
            "also installing the dependencies ‘textshaping’, ‘ragg’\n",
            "\n",
            "\n",
            "Warning message in install.packages(\"tidyverse\"):\n",
            "“installation of package ‘textshaping’ had non-zero exit status”\n",
            "Warning message in install.packages(\"tidyverse\"):\n",
            "“installation of package ‘ragg’ had non-zero exit status”\n",
            "Warning message in install.packages(\"tidyverse\"):\n",
            "“installation of package ‘tidyverse’ had non-zero exit status”\n",
            "Skipping install of 'harrypotter' from a github remote, the SHA1 (51f71461) has not changed since last install.\n",
            "  Use `force = TRUE` to force installation\n",
            "\n"
          ]
        }
      ],
      "source": [
        "install.packages('tidyverse') # and restart your runtime if running on colab\n",
        "library(tidyverse)\n",
        "remotes::install_github(\"bradleyboehmke/harrypotter\")\n",
        "library(harrypotter)"
      ]
    },
    {
      "cell_type": "markdown",
      "metadata": {
        "id": "OxniV9VUjYk_"
      },
      "source": [
        "# Lecture 13: Regular expressions\n",
        "\n",
        "<div style=\"border: 1px double black; padding: 10px; margin: 10px\">\n",
        "\n",
        "**After today's lecture you will:**\n",
        "* Understand basic regular expressions.\n",
        "* Use regular expressions to extract data from text.\n",
        "</div>\n",
        "\n",
        "These notes correspond to Chapter 16 of your book.\n"
      ]
    },
    {
      "cell_type": "markdown",
      "metadata": {
        "id": "0ZtOtJlljYk_"
      },
      "source": [
        "## Regular expressions\n",
        "Regular expressions (regex, regexps) are a programming language that allows you to describe patterns in strings. They have a steep learning curve but are very powerful for working with text data. In this class we will just focus on the basics of regexps. A good tool for learning regexps is [regex101](https://regex101.com/), which lets you interactively edit and debug your regular expressions."
      ]
    },
    {
      "cell_type": "markdown",
      "metadata": {
        "id": "2xsjoPrdjYlB"
      },
      "source": [
        "> Some people, when confronted with a problem, think \"I know, I'll use regular expressions.\" Now they have two problems. \n",
        ">\n",
        "> — Jamie Zawinski (famous nerd)"
      ]
    },
    {
      "cell_type": "markdown",
      "metadata": {
        "id": "JORg-QGzjYlD"
      },
      "source": [
        "In these slides we will use the command `str_view` to understand how regular expressions work. To get `str_view` working on Colab you need to install the latest versions of `tidyverse`:"
      ]
    },
    {
      "cell_type": "markdown",
      "metadata": {
        "id": "Kd2-PJ8EjYlD"
      },
      "source": [
        "The most basic regular expression is a plain string. It will match if the other string contains it as a substring."
      ]
    },
    {
      "cell_type": "code",
      "execution_count": 31,
      "metadata": {
        "colab": {
          "base_uri": "https://localhost:8080/",
          "height": 53
        },
        "id": "nw7Ojo9zjYlE",
        "outputId": "f7b137d5-b03c-4a0b-d947-90e0e4d31e70"
      },
      "outputs": [
        {
          "output_type": "stream",
          "name": "stdout",
          "text": [
            "[1] \"apple\"  \"banana\" \"pear\"  \n"
          ]
        },
        {
          "output_type": "display_data",
          "data": {
            "text/plain": [
              "\u001b[90m[2] │\u001b[39m b\u001b[36m<an>\u001b[39m\u001b[36m<an>\u001b[39ma"
            ]
          },
          "metadata": {}
        }
      ],
      "source": [
        "x = c(\"apple\", \"banana\", \"pear\") %>% print\n",
        "str_view(x, pattern = \"an\")"
      ]
    },
    {
      "cell_type": "markdown",
      "metadata": {
        "id": "D7DkCuIfjYlE"
      },
      "source": [
        "Here `str_view` has matched our regexp (`\"an\"`) inside of the second string `banana` of the vector `x`."
      ]
    },
    {
      "cell_type": "code",
      "execution_count": null,
      "metadata": {
        "id": "pqWbv-RkjYlE",
        "outputId": "126a7fb8-3caa-430e-c5fd-c8ab0e066ae5"
      },
      "outputs": [
        {
          "data": {
            "text/html": [
              "<style>\n",
              ".list-inline {list-style: none; margin:0; padding: 0}\n",
              ".list-inline>li {display: inline-block}\n",
              ".list-inline>li:not(:last-child)::after {content: \"\\00b7\"; padding: 0 .5ex}\n",
              "</style>\n",
              "<ol class=list-inline><li>'apple'</li><li>'apricot'</li><li>'avocado'</li><li>'banana'</li><li>'bell pepper'</li><li>'bilberry'</li><li>'blackberry'</li><li>'blackcurrant'</li><li>'blood orange'</li><li>'blueberry'</li><li>'boysenberry'</li><li>'breadfruit'</li><li>'canary melon'</li><li>'cantaloupe'</li><li>'cherimoya'</li><li>'cherry'</li><li>'chili pepper'</li><li>'clementine'</li><li>'cloudberry'</li><li>'coconut'</li><li>'cranberry'</li><li>'cucumber'</li><li>'currant'</li><li>'damson'</li><li>'date'</li><li>'dragonfruit'</li><li>'durian'</li><li>'eggplant'</li><li>'elderberry'</li><li>'feijoa'</li><li>'fig'</li><li>'goji berry'</li><li>'gooseberry'</li><li>'grape'</li><li>'grapefruit'</li><li>'guava'</li><li>'honeydew'</li><li>'huckleberry'</li><li>'jackfruit'</li><li>'jambul'</li><li>'jujube'</li><li>'kiwi fruit'</li><li>'kumquat'</li><li>'lemon'</li><li>'lime'</li><li>'loquat'</li><li>'lychee'</li><li>'mandarine'</li><li>'mango'</li><li>'mulberry'</li><li>'nectarine'</li><li>'nut'</li><li>'olive'</li><li>'orange'</li><li>'pamelo'</li><li>'papaya'</li><li>'passionfruit'</li><li>'peach'</li><li>'pear'</li><li>'persimmon'</li><li>'physalis'</li><li>'pineapple'</li><li>'plum'</li><li>'pomegranate'</li><li>'pomelo'</li><li>'purple mangosteen'</li><li>'quince'</li><li>'raisin'</li><li>'rambutan'</li><li>'raspberry'</li><li>'redcurrant'</li><li>'rock melon'</li><li>'salal berry'</li><li>'satsuma'</li><li>'star fruit'</li><li>'strawberry'</li><li>'tamarillo'</li><li>'tangerine'</li><li>'ugli fruit'</li><li>'watermelon'</li></ol>\n"
            ],
            "text/latex": [
              "\\begin{enumerate*}\n",
              "\\item 'apple'\n",
              "\\item 'apricot'\n",
              "\\item 'avocado'\n",
              "\\item 'banana'\n",
              "\\item 'bell pepper'\n",
              "\\item 'bilberry'\n",
              "\\item 'blackberry'\n",
              "\\item 'blackcurrant'\n",
              "\\item 'blood orange'\n",
              "\\item 'blueberry'\n",
              "\\item 'boysenberry'\n",
              "\\item 'breadfruit'\n",
              "\\item 'canary melon'\n",
              "\\item 'cantaloupe'\n",
              "\\item 'cherimoya'\n",
              "\\item 'cherry'\n",
              "\\item 'chili pepper'\n",
              "\\item 'clementine'\n",
              "\\item 'cloudberry'\n",
              "\\item 'coconut'\n",
              "\\item 'cranberry'\n",
              "\\item 'cucumber'\n",
              "\\item 'currant'\n",
              "\\item 'damson'\n",
              "\\item 'date'\n",
              "\\item 'dragonfruit'\n",
              "\\item 'durian'\n",
              "\\item 'eggplant'\n",
              "\\item 'elderberry'\n",
              "\\item 'feijoa'\n",
              "\\item 'fig'\n",
              "\\item 'goji berry'\n",
              "\\item 'gooseberry'\n",
              "\\item 'grape'\n",
              "\\item 'grapefruit'\n",
              "\\item 'guava'\n",
              "\\item 'honeydew'\n",
              "\\item 'huckleberry'\n",
              "\\item 'jackfruit'\n",
              "\\item 'jambul'\n",
              "\\item 'jujube'\n",
              "\\item 'kiwi fruit'\n",
              "\\item 'kumquat'\n",
              "\\item 'lemon'\n",
              "\\item 'lime'\n",
              "\\item 'loquat'\n",
              "\\item 'lychee'\n",
              "\\item 'mandarine'\n",
              "\\item 'mango'\n",
              "\\item 'mulberry'\n",
              "\\item 'nectarine'\n",
              "\\item 'nut'\n",
              "\\item 'olive'\n",
              "\\item 'orange'\n",
              "\\item 'pamelo'\n",
              "\\item 'papaya'\n",
              "\\item 'passionfruit'\n",
              "\\item 'peach'\n",
              "\\item 'pear'\n",
              "\\item 'persimmon'\n",
              "\\item 'physalis'\n",
              "\\item 'pineapple'\n",
              "\\item 'plum'\n",
              "\\item 'pomegranate'\n",
              "\\item 'pomelo'\n",
              "\\item 'purple mangosteen'\n",
              "\\item 'quince'\n",
              "\\item 'raisin'\n",
              "\\item 'rambutan'\n",
              "\\item 'raspberry'\n",
              "\\item 'redcurrant'\n",
              "\\item 'rock melon'\n",
              "\\item 'salal berry'\n",
              "\\item 'satsuma'\n",
              "\\item 'star fruit'\n",
              "\\item 'strawberry'\n",
              "\\item 'tamarillo'\n",
              "\\item 'tangerine'\n",
              "\\item 'ugli fruit'\n",
              "\\item 'watermelon'\n",
              "\\end{enumerate*}\n"
            ],
            "text/markdown": [
              "1. 'apple'\n",
              "2. 'apricot'\n",
              "3. 'avocado'\n",
              "4. 'banana'\n",
              "5. 'bell pepper'\n",
              "6. 'bilberry'\n",
              "7. 'blackberry'\n",
              "8. 'blackcurrant'\n",
              "9. 'blood orange'\n",
              "10. 'blueberry'\n",
              "11. 'boysenberry'\n",
              "12. 'breadfruit'\n",
              "13. 'canary melon'\n",
              "14. 'cantaloupe'\n",
              "15. 'cherimoya'\n",
              "16. 'cherry'\n",
              "17. 'chili pepper'\n",
              "18. 'clementine'\n",
              "19. 'cloudberry'\n",
              "20. 'coconut'\n",
              "21. 'cranberry'\n",
              "22. 'cucumber'\n",
              "23. 'currant'\n",
              "24. 'damson'\n",
              "25. 'date'\n",
              "26. 'dragonfruit'\n",
              "27. 'durian'\n",
              "28. 'eggplant'\n",
              "29. 'elderberry'\n",
              "30. 'feijoa'\n",
              "31. 'fig'\n",
              "32. 'goji berry'\n",
              "33. 'gooseberry'\n",
              "34. 'grape'\n",
              "35. 'grapefruit'\n",
              "36. 'guava'\n",
              "37. 'honeydew'\n",
              "38. 'huckleberry'\n",
              "39. 'jackfruit'\n",
              "40. 'jambul'\n",
              "41. 'jujube'\n",
              "42. 'kiwi fruit'\n",
              "43. 'kumquat'\n",
              "44. 'lemon'\n",
              "45. 'lime'\n",
              "46. 'loquat'\n",
              "47. 'lychee'\n",
              "48. 'mandarine'\n",
              "49. 'mango'\n",
              "50. 'mulberry'\n",
              "51. 'nectarine'\n",
              "52. 'nut'\n",
              "53. 'olive'\n",
              "54. 'orange'\n",
              "55. 'pamelo'\n",
              "56. 'papaya'\n",
              "57. 'passionfruit'\n",
              "58. 'peach'\n",
              "59. 'pear'\n",
              "60. 'persimmon'\n",
              "61. 'physalis'\n",
              "62. 'pineapple'\n",
              "63. 'plum'\n",
              "64. 'pomegranate'\n",
              "65. 'pomelo'\n",
              "66. 'purple mangosteen'\n",
              "67. 'quince'\n",
              "68. 'raisin'\n",
              "69. 'rambutan'\n",
              "70. 'raspberry'\n",
              "71. 'redcurrant'\n",
              "72. 'rock melon'\n",
              "73. 'salal berry'\n",
              "74. 'satsuma'\n",
              "75. 'star fruit'\n",
              "76. 'strawberry'\n",
              "77. 'tamarillo'\n",
              "78. 'tangerine'\n",
              "79. 'ugli fruit'\n",
              "80. 'watermelon'\n",
              "\n",
              "\n"
            ],
            "text/plain": [
              " [1] \"apple\"             \"apricot\"           \"avocado\"          \n",
              " [4] \"banana\"            \"bell pepper\"       \"bilberry\"         \n",
              " [7] \"blackberry\"        \"blackcurrant\"      \"blood orange\"     \n",
              "[10] \"blueberry\"         \"boysenberry\"       \"breadfruit\"       \n",
              "[13] \"canary melon\"      \"cantaloupe\"        \"cherimoya\"        \n",
              "[16] \"cherry\"            \"chili pepper\"      \"clementine\"       \n",
              "[19] \"cloudberry\"        \"coconut\"           \"cranberry\"        \n",
              "[22] \"cucumber\"          \"currant\"           \"damson\"           \n",
              "[25] \"date\"              \"dragonfruit\"       \"durian\"           \n",
              "[28] \"eggplant\"          \"elderberry\"        \"feijoa\"           \n",
              "[31] \"fig\"               \"goji berry\"        \"gooseberry\"       \n",
              "[34] \"grape\"             \"grapefruit\"        \"guava\"            \n",
              "[37] \"honeydew\"          \"huckleberry\"       \"jackfruit\"        \n",
              "[40] \"jambul\"            \"jujube\"            \"kiwi fruit\"       \n",
              "[43] \"kumquat\"           \"lemon\"             \"lime\"             \n",
              "[46] \"loquat\"            \"lychee\"            \"mandarine\"        \n",
              "[49] \"mango\"             \"mulberry\"          \"nectarine\"        \n",
              "[52] \"nut\"               \"olive\"             \"orange\"           \n",
              "[55] \"pamelo\"            \"papaya\"            \"passionfruit\"     \n",
              "[58] \"peach\"             \"pear\"              \"persimmon\"        \n",
              "[61] \"physalis\"          \"pineapple\"         \"plum\"             \n",
              "[64] \"pomegranate\"       \"pomelo\"            \"purple mangosteen\"\n",
              "[67] \"quince\"            \"raisin\"            \"rambutan\"         \n",
              "[70] \"raspberry\"         \"redcurrant\"        \"rock melon\"       \n",
              "[73] \"salal berry\"       \"satsuma\"           \"star fruit\"       \n",
              "[76] \"strawberry\"        \"tamarillo\"         \"tangerine\"        \n",
              "[79] \"ugli fruit\"        \"watermelon\"       "
            ]
          },
          "metadata": {},
          "output_type": "display_data"
        }
      ],
      "source": [
        "fruit"
      ]
    },
    {
      "cell_type": "code",
      "execution_count": 32,
      "metadata": {
        "colab": {
          "base_uri": "https://localhost:8080/",
          "height": 267
        },
        "id": "UFUxakG0jYlF",
        "outputId": "a53789e4-cda1-4dac-8b7f-4a3971f84aba"
      },
      "outputs": [
        {
          "output_type": "display_data",
          "data": {
            "text/plain": [
              "\u001b[90m [6] │\u001b[39m bil\u001b[36m<berry>\u001b[39m\n",
              "\u001b[90m [7] │\u001b[39m black\u001b[36m<berry>\u001b[39m\n",
              "\u001b[90m[10] │\u001b[39m blue\u001b[36m<berry>\u001b[39m\n",
              "\u001b[90m[11] │\u001b[39m boysen\u001b[36m<berry>\u001b[39m\n",
              "\u001b[90m[19] │\u001b[39m cloud\u001b[36m<berry>\u001b[39m\n",
              "\u001b[90m[21] │\u001b[39m cran\u001b[36m<berry>\u001b[39m\n",
              "\u001b[90m[29] │\u001b[39m elder\u001b[36m<berry>\u001b[39m\n",
              "\u001b[90m[32] │\u001b[39m goji \u001b[36m<berry>\u001b[39m\n",
              "\u001b[90m[33] │\u001b[39m goose\u001b[36m<berry>\u001b[39m\n",
              "\u001b[90m[38] │\u001b[39m huckle\u001b[36m<berry>\u001b[39m\n",
              "\u001b[90m[50] │\u001b[39m mul\u001b[36m<berry>\u001b[39m\n",
              "\u001b[90m[70] │\u001b[39m rasp\u001b[36m<berry>\u001b[39m\n",
              "\u001b[90m[73] │\u001b[39m salal \u001b[36m<berry>\u001b[39m\n",
              "\u001b[90m[76] │\u001b[39m straw\u001b[36m<berry>\u001b[39m"
            ]
          },
          "metadata": {}
        }
      ],
      "source": [
        "str_view(fruit, 'berry')"
      ]
    },
    {
      "cell_type": "markdown",
      "metadata": {
        "id": "3JBZvEDQjYlF"
      },
      "source": [
        "### Wildcards\n",
        "Our first non-trivial regular expression will use a wildcard: `.`. Used inside of a regular expression, the period matches any single character:"
      ]
    },
    {
      "cell_type": "code",
      "execution_count": 33,
      "metadata": {
        "colab": {
          "base_uri": "https://localhost:8080/",
          "height": 35
        },
        "id": "YDWAr-dDjYlF",
        "outputId": "92e379ae-31a3-417c-ac79-cd495e6dd66a"
      },
      "outputs": [
        {
          "output_type": "display_data",
          "data": {
            "text/plain": [
              "\u001b[90m[1] │\u001b[39m \u001b[36m<else>\u001b[39m every \u001b[36m<eele>\u001b[39m \u001b[36m<etce>\u001b[39mtera"
            ]
          },
          "metadata": {}
        }
      ],
      "source": [
        "str_view(\"else every eele etcetera\", \"e..e\") "
      ]
    },
    {
      "cell_type": "markdown",
      "metadata": {
        "id": "3-WK7xo1jYlF"
      },
      "source": [
        "If we want to \"extract\" the first match we can use `str_extract()` instead:"
      ]
    },
    {
      "cell_type": "code",
      "execution_count": 35,
      "metadata": {
        "colab": {
          "base_uri": "https://localhost:8080/",
          "height": 62
        },
        "id": "cOl2W0R0jYlG",
        "outputId": "cb9f66f0-bf2b-4498-b898-35df0de8b4fa"
      },
      "outputs": [
        {
          "output_type": "display_data",
          "data": {
            "text/html": [
              "<ol>\n",
              "\t<li><style>\n",
              ".list-inline {list-style: none; margin:0; padding: 0}\n",
              ".list-inline>li {display: inline-block}\n",
              ".list-inline>li:not(:last-child)::after {content: \"\\00b7\"; padding: 0 .5ex}\n",
              "</style>\n",
              "<ol class=list-inline><li>'else '</li><li>'eele '</li></ol>\n",
              "</li>\n",
              "</ol>\n"
            ],
            "text/markdown": "1. 1. 'else '\n2. 'eele '\n\n\n\n\n\n",
            "text/latex": "\\begin{enumerate}\n\\item \\begin{enumerate*}\n\\item 'else '\n\\item 'eele '\n\\end{enumerate*}\n\n\\end{enumerate}\n",
            "text/plain": [
              "[[1]]\n",
              "[1] \"else \" \"eele \"\n"
            ]
          },
          "metadata": {}
        }
      ],
      "source": [
        "str_extract_all(\"else every eele etcetera\", \"e..e \") "
      ]
    },
    {
      "cell_type": "markdown",
      "metadata": {
        "id": "uO2g8tTWjYlG"
      },
      "source": [
        "Now let's return to another example from last lecture: finding all capitalized words."
      ]
    },
    {
      "cell_type": "code",
      "source": [
        "remotes::install_github(\"bradleyboehmke/harrypotter\")\n",
        "library(harrypotter)\n",
        "str(philosophers_stone)\n",
        "ch1 <- philosophers_stone[1]"
      ],
      "metadata": {
        "id": "Pqa5HSbdENJI",
        "outputId": "a2b2a5c9-26f4-428f-8c14-99d05c9e0db1",
        "colab": {
          "base_uri": "https://localhost:8080/"
        }
      },
      "execution_count": 36,
      "outputs": [
        {
          "output_type": "stream",
          "name": "stderr",
          "text": [
            "Skipping install of 'harrypotter' from a github remote, the SHA1 (51f71461) has not changed since last install.\n",
            "  Use `force = TRUE` to force installation\n",
            "\n"
          ]
        },
        {
          "output_type": "stream",
          "name": "stdout",
          "text": [
            " chr [1:17] \"THE BOY WHO LIVED　　Mr. and Mrs. Dursley, of number four, Privet Drive, were proud to say that they were perfe\"| __truncated__ ...\n"
          ]
        }
      ]
    },
    {
      "cell_type": "markdown",
      "metadata": {
        "id": "QAKj4S0ojYlG"
      },
      "source": [
        "### Exercise\n",
        "What is the first string that matches the pattern `H<any three characters>y` in Philosopher's Stone?"
      ]
    },
    {
      "cell_type": "code",
      "execution_count": 38,
      "metadata": {
        "colab": {
          "base_uri": "https://localhost:8080/",
          "height": 80
        },
        "id": "1tAMHZ_WjYlG",
        "outputId": "4dd37771-3e56-4ced-ec07-b8d5cb5f912f"
      },
      "outputs": [
        {
          "output_type": "display_data",
          "data": {
            "text/html": [
              "<ol>\n",
              "\t<li><style>\n",
              ".list-inline {list-style: none; margin:0; padding: 0}\n",
              ".list-inline>li {display: inline-block}\n",
              ".list-inline>li:not(:last-child)::after {content: \"\\00b7\"; padding: 0 .5ex}\n",
              "</style>\n",
              "<ol class=list-inline><li>'He ey'</li><li>'Harry'</li><li>'Harry'</li><li>'Harry'</li><li>'Harry'</li><li>'Harry'</li><li>'Harry'</li><li>'Harry'</li><li>'Harry'</li><li>'Harry'</li><li>'Harry'</li><li>'Harry'</li><li>'Harry'</li><li>'Harry'</li><li>'Harry'</li><li>'Harry'</li><li>'Harry'</li><li>'Harry'</li><li>'Harry'</li><li>'Harry'</li><li>'Harry'</li></ol>\n",
              "</li>\n",
              "</ol>\n"
            ],
            "text/markdown": "1. 1. 'He ey'\n2. 'Harry'\n3. 'Harry'\n4. 'Harry'\n5. 'Harry'\n6. 'Harry'\n7. 'Harry'\n8. 'Harry'\n9. 'Harry'\n10. 'Harry'\n11. 'Harry'\n12. 'Harry'\n13. 'Harry'\n14. 'Harry'\n15. 'Harry'\n16. 'Harry'\n17. 'Harry'\n18. 'Harry'\n19. 'Harry'\n20. 'Harry'\n21. 'Harry'\n\n\n\n\n\n",
            "text/latex": "\\begin{enumerate}\n\\item \\begin{enumerate*}\n\\item 'He ey'\n\\item 'Harry'\n\\item 'Harry'\n\\item 'Harry'\n\\item 'Harry'\n\\item 'Harry'\n\\item 'Harry'\n\\item 'Harry'\n\\item 'Harry'\n\\item 'Harry'\n\\item 'Harry'\n\\item 'Harry'\n\\item 'Harry'\n\\item 'Harry'\n\\item 'Harry'\n\\item 'Harry'\n\\item 'Harry'\n\\item 'Harry'\n\\item 'Harry'\n\\item 'Harry'\n\\item 'Harry'\n\\end{enumerate*}\n\n\\end{enumerate}\n",
            "text/plain": [
              "[[1]]\n",
              " [1] \"He ey\" \"Harry\" \"Harry\" \"Harry\" \"Harry\" \"Harry\" \"Harry\" \"Harry\" \"Harry\"\n",
              "[10] \"Harry\" \"Harry\" \"Harry\" \"Harry\" \"Harry\" \"Harry\" \"Harry\" \"Harry\" \"Harry\"\n",
              "[19] \"Harry\" \"Harry\" \"Harry\"\n"
            ]
          },
          "metadata": {}
        }
      ],
      "source": [
        "# H<3>y\n",
        "str_extract_all(ch1, 'H...y')"
      ]
    },
    {
      "cell_type": "markdown",
      "metadata": {
        "id": "rjep2GkijYlG"
      },
      "source": [
        "### Character classes\n",
        "Instead of matching anything using `.`, we often want to match a class of things: words, numbers, spaces, etc.\n",
        "A \"character class\" is a special pattern that matches a collection of characters. There are four built-in character classes you should know:\n",
        "- `\\w`: match any word-like character.\n",
        "- `\\s`: match any whitespace character.\n",
        "- `\\d`: match any digit.\n",
        "- `\\b`: match a \"word boundary\" (more on this in a moment).\n",
        "\n"
      ]
    },
    {
      "cell_type": "markdown",
      "metadata": {
        "id": "5z4McZzRjYlP"
      },
      "source": [
        "`\\w` matches any word character:"
      ]
    },
    {
      "cell_type": "code",
      "execution_count": 47,
      "metadata": {
        "colab": {
          "base_uri": "https://localhost:8080/",
          "height": 35
        },
        "id": "49fDOtG9jYlP",
        "outputId": "34e7d447-6d7f-4112-c090-6aef06880c4c"
      },
      "outputs": [
        {
          "output_type": "display_data",
          "data": {
            "text/plain": [
              "\u001b[90m[1] │\u001b[39m \u001b[36m<t>\u001b[39m\u001b[36m<h>\u001b[39m\u001b[36m<i>\u001b[39m\u001b[36m<s>\u001b[39m \u001b[36m<i>\u001b[39m\u001b[36m<s>\u001b[39m \u001b[36m<a>\u001b[39m \u001b[36m<w>\u001b[39m\u001b[36m<o>\u001b[39m\u001b[36m<r>\u001b[39m\u001b[36m<d>\u001b[39m \u001b[36m<1>\u001b[39m\u001b[36m<2>\u001b[39m\u001b[36m<3>\u001b[39m"
            ]
          },
          "metadata": {}
        }
      ],
      "source": [
        "str_view(\"this is a word 123\", \"\\\\w\")"
      ]
    },
    {
      "cell_type": "markdown",
      "metadata": {
        "id": "ogYOQf9ljYlQ"
      },
      "source": [
        "Note the additional level of escaping needed here: \"\\\\w\" gets parsed by R into the string `\\w`:"
      ]
    },
    {
      "cell_type": "code",
      "execution_count": 48,
      "metadata": {
        "colab": {
          "base_uri": "https://localhost:8080/"
        },
        "id": "mDDHa5VkjYlQ",
        "outputId": "bf63bb85-eb38-406d-d21c-5931b360b93d"
      },
      "outputs": [
        {
          "output_type": "stream",
          "name": "stdout",
          "text": [
            "\\w\n"
          ]
        }
      ],
      "source": [
        "writeLines(\"\\\\w\")"
      ]
    },
    {
      "cell_type": "markdown",
      "metadata": {
        "id": "Eg8QptnPjYlQ"
      },
      "source": [
        "The `\\w` is then parsed again by the regular expression.\n",
        "\n",
        "The string \"\\w\" is not valid in R, because there is no escape code \"\\w\":\n",
        "\n",
        "```\n",
        "> \"\\w\"\n",
        "Error: '\\w' is an unrecognized escape in character string starting \"\"\\w\"\n",
        "Traceback:\n",
        "```"
      ]
    },
    {
      "cell_type": "markdown",
      "metadata": {
        "id": "sgp00CBmjYlR"
      },
      "source": [
        "`\\d` will match any digit:"
      ]
    },
    {
      "cell_type": "code",
      "execution_count": 49,
      "metadata": {
        "colab": {
          "base_uri": "https://localhost:8080/",
          "height": 53
        },
        "id": "a5BQt99wjYlS",
        "outputId": "4ac906dd-b40b-4dbf-c643-40f4634af0ec"
      },
      "outputs": [
        {
          "output_type": "display_data",
          "data": {
            "text/plain": [
              "\u001b[90m[1] │\u001b[39m number\u001b[36m<1>\u001b[39m\n",
              "\u001b[90m[3] │\u001b[39m \u001b[36m<3>\u001b[39mhree"
            ]
          },
          "metadata": {}
        }
      ],
      "source": [
        "str_view(c(\"number1\", \"two\", \"3hree\"), \"\\\\d\")"
      ]
    },
    {
      "cell_type": "markdown",
      "metadata": {
        "id": "mEy8wZjVjYlS"
      },
      "source": [
        "Similarly, `\\s` will match whitespace (spaces, tabs and newlines):"
      ]
    },
    {
      "cell_type": "code",
      "execution_count": 50,
      "metadata": {
        "colab": {
          "base_uri": "https://localhost:8080/",
          "height": 160
        },
        "id": "AnQDry9GjYlS",
        "outputId": "915d7fa0-048b-4b4e-985b-bbd28aa144e7"
      },
      "outputs": [
        {
          "output_type": "stream",
          "name": "stdout",
          "text": [
            "spa ce\n",
            "hello\tworld\n",
            "multi\n",
            "line\n"
          ]
        },
        {
          "output_type": "display_data",
          "data": {
            "text/plain": [
              "\u001b[90m[1] │\u001b[39m spa\u001b[36m< >\u001b[39mce\n",
              "\u001b[90m[2] │\u001b[39m hello\u001b[36m<\u001b[36m{\\t}\u001b[39m>\u001b[39mworld\n",
              "\u001b[90m[3] │\u001b[39m multi\u001b[36m<\u001b[39m\n",
              "    \u001b[90m│\u001b[39m \u001b[36m>\u001b[39mline"
            ]
          },
          "metadata": {}
        }
      ],
      "source": [
        "y = c(\"spa ce\", \"hello\\tworld\", \"multi\\nline\")\n",
        "writeLines(y)\n",
        "str_view(y, \"\\\\s\")"
      ]
    },
    {
      "cell_type": "markdown",
      "metadata": {
        "id": "MargaAejjYlT"
      },
      "source": [
        "You can also create your own character class using square brackets: `[abc]` will match *one of* `a`, `b`, or `c`. In other words, the 'width' of a character class is one character by default."
      ]
    },
    {
      "cell_type": "code",
      "execution_count": 57,
      "metadata": {
        "colab": {
          "base_uri": "https://localhost:8080/",
          "height": 142
        },
        "id": "y4Lhgs4tjYlT",
        "outputId": "28c4c466-e9fc-4516-a47f-48ceca7d2f04"
      },
      "outputs": [
        {
          "output_type": "display_data",
          "data": {
            "text/plain": [
              "\u001b[90m[13] │\u001b[39m canary m\u001b[36m<elon>\u001b[39m\n",
              "\u001b[90m[18] │\u001b[39m cl\u001b[36m<emen>\u001b[39mtine\n",
              "\u001b[90m[37] │\u001b[39m ho\u001b[36m<neyd>\u001b[39mew\n",
              "\u001b[90m[44] │\u001b[39m l\u001b[36m<emon>\u001b[39m\n",
              "\u001b[90m[72] │\u001b[39m rock m\u001b[36m<elon>\u001b[39m\n",
              "\u001b[90m[78] │\u001b[39m tang\u001b[36m<erin>\u001b[39me\n",
              "\u001b[90m[80] │\u001b[39m waterm\u001b[36m<elon>\u001b[39m"
            ]
          },
          "metadata": {}
        }
      ],
      "source": [
        "str_view(fruit, '[bne]..[nd]')  # Match either 'b' or 'e' followed by a"
      ]
    },
    {
      "cell_type": "markdown",
      "metadata": {
        "id": "OrsW20lUjYlT"
      },
      "source": [
        "We can use character classes to match the first capital letter of a capitalized word:"
      ]
    },
    {
      "cell_type": "code",
      "execution_count": 58,
      "metadata": {
        "colab": {
          "base_uri": "https://localhost:8080/",
          "height": 53
        },
        "id": "VCRPMdlbjYlU",
        "outputId": "4e430cfa-4416-4a79-9cf0-fc3691912b3f"
      },
      "outputs": [
        {
          "output_type": "display_data",
          "data": {
            "text/plain": [
              "\u001b[90m[1] │\u001b[39m \u001b[36m<T>\u001b[39mhese\n",
              "\u001b[90m[3] │\u001b[39m some \u001b[36m<C>\u001b[39mapitalized words"
            ]
          },
          "metadata": {}
        }
      ],
      "source": [
        "str_view(c(\"These\", \"are\", \"some Capitalized words\"),\n",
        "         \"[ABCDEFGHIJKLMNOPQRSTUVWXYZ]\")"
      ]
    },
    {
      "cell_type": "markdown",
      "metadata": {
        "id": "TIeJo0_hjYlU"
      },
      "source": [
        "We do not need to go to all the trouble of typing each capital letter. We can use the shortcut `[A-Z]` instead."
      ]
    },
    {
      "cell_type": "code",
      "execution_count": 60,
      "metadata": {
        "colab": {
          "base_uri": "https://localhost:8080/",
          "height": 35
        },
        "id": "1DiAoIGIjYlU",
        "outputId": "8ce7ac02-92bf-4ece-df48-cab479a8eeda"
      },
      "outputs": [
        {
          "output_type": "display_data",
          "data": {
            "text/plain": [
              "\u001b[90m[3] │\u001b[39m some \u001b[36m<C>\u001b[39mapitalized words"
            ]
          },
          "metadata": {}
        }
      ],
      "source": [
        "str_view(c(\"These\", \"are\", \"some Capitalized words\"), \"[A-D]\")"
      ]
    },
    {
      "cell_type": "code",
      "source": [
        "str_view('12346789', '[1-4]')"
      ],
      "metadata": {
        "id": "cwis_HfQIKzZ",
        "outputId": "0c4d066d-a992-4d38-a6be-55be095320d4",
        "colab": {
          "base_uri": "https://localhost:8080/",
          "height": 35
        }
      },
      "execution_count": 62,
      "outputs": [
        {
          "output_type": "display_data",
          "data": {
            "text/plain": [
              "\u001b[90m[1] │\u001b[39m \u001b[36m<1>\u001b[39m\u001b[36m<2>\u001b[39m\u001b[36m<3>\u001b[39m\u001b[36m<4>\u001b[39m6789"
            ]
          },
          "metadata": {}
        }
      ]
    },
    {
      "cell_type": "code",
      "source": [
        "str_view(c(\"These\", \"are\", \"some Capitalized words\", 'xyz'), \"[a-g]\")"
      ],
      "metadata": {
        "id": "llRb4ZjGIU-c",
        "outputId": "4d0581f0-a9da-4a79-da18-44606a82e19e",
        "colab": {
          "base_uri": "https://localhost:8080/",
          "height": 71
        }
      },
      "execution_count": 65,
      "outputs": [
        {
          "output_type": "display_data",
          "data": {
            "text/plain": [
              "\u001b[90m[1] │\u001b[39m Th\u001b[36m<e>\u001b[39ms\u001b[36m<e>\u001b[39m\n",
              "\u001b[90m[2] │\u001b[39m \u001b[36m<a>\u001b[39mr\u001b[36m<e>\u001b[39m\n",
              "\u001b[90m[3] │\u001b[39m som\u001b[36m<e>\u001b[39m C\u001b[36m<a>\u001b[39mpit\u001b[36m<a>\u001b[39mliz\u001b[36m<e>\u001b[39m\u001b[36m<d>\u001b[39m wor\u001b[36m<d>\u001b[39ms"
            ]
          },
          "metadata": {}
        }
      ]
    },
    {
      "cell_type": "markdown",
      "metadata": {
        "id": "I6oN7YFVjYlU"
      },
      "source": [
        "### Word boundaries\n",
        "A final character class we'll use frequently is `\\b`, which stands for \"word boundary\". A word boundary matches the \"edges\" of a word:"
      ]
    },
    {
      "cell_type": "code",
      "execution_count": 66,
      "metadata": {
        "colab": {
          "base_uri": "https://localhost:8080/",
          "height": 71
        },
        "id": "HXXJ_J38jYlV",
        "outputId": "bda5b380-70c5-4efd-fb6e-94d646a52e45"
      },
      "outputs": [
        {
          "output_type": "display_data",
          "data": {
            "text/plain": [
              "\u001b[90m[1] │\u001b[39m \u001b[36m<>\u001b[39mRafael\u001b[36m<>\u001b[39m \u001b[36m<>\u001b[39mNadal\u001b[36m<>\u001b[39m\n",
              "\u001b[90m[2] │\u001b[39m \u001b[36m<>\u001b[39mRoger\u001b[36m<>\u001b[39m \u001b[36m<>\u001b[39mFederer\u001b[36m<>\u001b[39m\n",
              "\u001b[90m[3] │\u001b[39m \u001b[36m<>\u001b[39mNovak\u001b[36m<>\u001b[39m \u001b[36m<>\u001b[39mDjokovic\u001b[36m<>\u001b[39m"
            ]
          },
          "metadata": {}
        }
      ],
      "source": [
        "str_view(c(\"Rafael Nadal\", \"Roger Federer\", \"Novak Djokovic\"), \"\\\\b\")"
      ]
    },
    {
      "cell_type": "markdown",
      "metadata": {
        "id": "orX63EyajYlV"
      },
      "source": [
        "Every word has a word boundary on either side, so we can use this in combination with other character classes to match certain kinds of words in text."
      ]
    },
    {
      "cell_type": "markdown",
      "metadata": {
        "id": "2qysJuBLjYlV"
      },
      "source": [
        "## 🤔 Quiz\n",
        "\n",
        "About how many 5-letter words are there in `ch1`?\n",
        "\n",
        "<ol style=\"list-style-type: upper-alpha;\">\n",
        "    <li>Less than 100</li>\n",
        "    <li>100-299</li>\n",
        "    <li>300-599</li>\n",
        "    <li>600 or more</li>\n",
        "</ol>\n"
      ]
    },
    {
      "cell_type": "code",
      "execution_count": 75,
      "metadata": {
        "colab": {
          "base_uri": "https://localhost:8080/",
          "height": 34
        },
        "id": "D5eZA0U_jYlV",
        "outputId": "d7cda24d-86a9-490d-a202-d79aba2496d3"
      },
      "outputs": [
        {
          "output_type": "display_data",
          "data": {
            "text/html": [
              "471"
            ],
            "text/markdown": "471",
            "text/latex": "471",
            "text/plain": [
              "[1] 471"
            ]
          },
          "metadata": {}
        }
      ],
      "source": [
        "# 5-letter words\n",
        "str_count(ch1, '\\\\b\\\\w\\\\w\\\\w\\\\w\\\\w\\\\b')"
      ]
    },
    {
      "cell_type": "markdown",
      "metadata": {
        "id": "sIhn43a3jYlV"
      },
      "source": [
        "In this exercise, we matched the pattern \n",
        "\n",
        "    <word boundary><five word characters><word boundary>."
      ]
    },
    {
      "cell_type": "markdown",
      "metadata": {
        "id": "_Lx5fNJ5jYlV"
      },
      "source": [
        "## Quantifiers\n",
        "Now we can return to a question that we asked in the previous lecture: how many words are there in `ch1`? We did a crude approximation by counting the number of spaces, but we saw that this double-counted certain words. A better way is to count how many times the following pattern matches:"
      ]
    },
    {
      "cell_type": "markdown",
      "metadata": {
        "id": "_TgbK3BmjYlW"
      },
      "source": [
        "    <word boundary><any number of word characters><word boundary>"
      ]
    },
    {
      "cell_type": "markdown",
      "metadata": {
        "id": "3wCtBsACjYlW"
      },
      "source": [
        "The four quantifiers you should know are:\n",
        "- `?`: match zero or one of the preceding character.\n",
        "- `+`: match one or more of the preceding character.\n",
        "- `*`: match zero or more of the preceding character.\n",
        "- `{x}`: match exactly `x` of the preceding character.\n",
        "    - `{x,y}`: match between `x` and `y` of the preceding character.\n",
        "    - `{x,}`: match at least `x` of the preceding character."
      ]
    },
    {
      "cell_type": "markdown",
      "metadata": {
        "id": "xTM-wAOnjYlW"
      },
      "source": [
        "So, to count the number of words using the pattern shown above:"
      ]
    },
    {
      "cell_type": "code",
      "execution_count": 77,
      "metadata": {
        "colab": {
          "base_uri": "https://localhost:8080/",
          "height": 34
        },
        "id": "zNOXi-fMjYlW",
        "outputId": "a8587fee-5358-4801-84ad-88ff6e412bdb"
      },
      "outputs": [
        {
          "output_type": "display_data",
          "data": {
            "text/html": [
              "4778"
            ],
            "text/markdown": "4778",
            "text/latex": "4778",
            "text/plain": [
              "[1] 4778"
            ]
          },
          "metadata": {}
        }
      ],
      "source": [
        "# match any number of characters inside of word boundaries.\n",
        "\n",
        "str_count(ch1, '\\\\b\\\\w+\\\\b')"
      ]
    },
    {
      "cell_type": "code",
      "source": [
        "\n",
        "str_extract_all(ch1, '\\\\b\\\\w+\\\\b') %>% table"
      ],
      "metadata": {
        "id": "hXMmTqQuNP6A",
        "outputId": "c9c4c832-4565-4047-899d-506f4a8a1f89",
        "colab": {
          "base_uri": "https://localhost:8080/",
          "height": 1000
        }
      },
      "execution_count": 82,
      "outputs": [
        {
          "output_type": "display_data",
          "data": {
            "text/plain": [
              ".\n",
              "           a            A         able        about        About        above \n",
              "         105            7            2           12            2            1 \n",
              "      across          act       acting     admiring       affect        after \n",
              "           2            1            1            1            1            2 \n",
              "       After    afternoon        again          age        agree          air \n",
              "           2            1            3            1            1            3 \n",
              "       Albus          all          All      allowed       almost         also \n",
              "           3           30            2            2            5            2 \n",
              "    although     Although       always       amount        amuse           an \n",
              "           1            1            2            1            1            7 \n",
              "         and          And      angrily        angry      another       answer \n",
              "          95            7            2            1            3            1 \n",
              "     anxious          any       anyone     anything     anywhere        apart \n",
              "           1            5            2            5            1            1 \n",
              "    appeared      approve          are          arm     armchair         arms \n",
              "           2            1            8            1            1            2 \n",
              "      around      arrived           as           As          ask        asked \n",
              "          10            3           41            6            1            2 \n",
              "      asleep  astonishing   astounding      astride           at           At \n",
              "           4            1            1            1           32            2 \n",
              "        aunt        awake         away         baby         back       backed \n",
              "           2            1            3            2           15            1 \n",
              "         bag        baker       bakery        balls     bathroom           be \n",
              "           1            1            1            1            1           30 \n",
              "       beady         bear        beard      because          bed      bedroom \n",
              "           1            3            2            7            3            1 \n",
              "       beefy         been       before     behaving     behavior       behind \n",
              "           1           21            6            1            1            1 \n",
              "       being      believe         belt      beneath         bent       beside \n",
              "           5            3            1            1            2            1 \n",
              "        best          bet       better          big         bike         bird \n",
              "           1            1            3            2            1            1 \n",
              "       birds          bit        black        Black        blame     blankets \n",
              "           1            2            3            1            2            5 \n",
              "        blew      blinked       blonde         blue      blushed         bolt \n",
              "           1            2            1            1            1            1 \n",
              "     Bonfire        books        boots       boring     Borrowed         both \n",
              "           1            1            3            1            1            2 \n",
              "     bottles        bound        bowed          boy          BOY       breeze \n",
              "           1            1            1            9            1            1 \n",
              "       brick    briefcase       bright        bring     bringing      Bristol \n",
              "           1            1            1            1            1            1 \n",
              "     Britain        broad        broke       broken      buckled     building \n",
              "           1            2            1            2            1            1 \n",
              "         bun        bunch       bundle      burying        bushy     business \n",
              "           2            1            4            1            1            1 \n",
              "        busy          but          But          buy           by          bye \n",
              "           1           22            9            1           10            2 \n",
              "           c         call       called        calls       calmly         came \n",
              "           2            2            6            1            1            3 \n",
              "         can          car         CarA         care      careful    carefully \n",
              "          13            3            1            1            1            1 \n",
              "    careless     carrying     casually          cat        catch         cats \n",
              "           2            1            1           21            1            1 \n",
              "      caught    celebrate  celebrating celebrations       cereal    certainly \n",
              "           1            1            4            1            1            1 \n",
              "       chair      changed        cheek        child     choosing     chortled \n",
              "           1            3            1            2            1            1 \n",
              "    chuckled    cigarette      cleared      clicked     climbing        cloak \n",
              "           1            1            1            4            1            9 \n",
              "      cloaks        clock        close       closed      clothes       cloudy \n",
              "           4            1            1            1            2            1 \n",
              "   clutching         cold       coldly   collecting         come         Come \n",
              "           1            1            1            2            4            1 \n",
              "  comforting       common     complete   completely  concentrate    confusing \n",
              "           1            1            1            1            2            1 \n",
              "    contrary       corner        could        Could       couldn       Couldn \n",
              "           1            7           12            2           12            1 \n",
              "     country       couple       course       cousin      craning        crept \n",
              "           2            1            1            1            1            1 \n",
              "       cried      crooked        crowd         cups    curiously          cut \n",
              "           1            1            1            1            1            1 \n",
              "           d       dabbed         dare        dared         dark     darkness \n",
              "          17            1            1            1            2            1 \n",
              "      dashed     daughter          day     daylight         dead         dear \n",
              "           1            1            9            4            3            4 \n",
              "     decided      Dedalus    destroyed   determined      dialing          did \n",
              "           1            1            1            1            1            9 \n",
              "        didn    different       Diggle       dinner    direction     director \n",
              "          22            2            1            1            1            1 \n",
              " disappeared     discover      discuss     distance   distinctly      disturb \n",
              "           2            1            1            1            1            1 \n",
              "          do         does          dog     dolphins          don          Don \n",
              "           3            1            1            1            3            1 \n",
              "        done         door         Door     doorstep     doughnut         down \n",
              "           1            4            1            1            1           11 \n",
              "    downpour    downright        dozen        drawn      dressed     drifting \n",
              "           1            1            1            1            3            1 \n",
              "      drills        drive        Drive       driven     driveway         drop \n",
              "           6            1            8            1            1            3 \n",
              "       drops        drove      drummed       Dudley         dull   Dumbledore \n",
              "           2            2            1            9            1           37 \n",
              "      Dundee      Dursley     Dursleys        early     earmuffs         edge \n",
              "           1           47            7            1            1            2 \n",
              "       eight       eleven         else      emerald          end       engine \n",
              "           1            2            1            2            2            1 \n",
              "      enough      enraged           Er         even         Even      evening \n",
              "           2            1            1           10            2            1 \n",
              "        ever        every     everyone     Everyone   everything   everywhere \n",
              "           2            2            3            1            3            1 \n",
              "     exactly      Exactly     examined  exasperated       except    excitedly \n",
              "           1            1            1            1            1            2 \n",
              "      expect     expected      Experts      explain         eyed         eyes \n",
              "           3            1            1            3            3           10 \n",
              "        face         fact      faintly     faltered       family       famous \n",
              "           3            2            1            1            1            2 \n",
              "      Famous        Fancy          far      fashion         fast         fear \n",
              "           2            1            2            1            1            1 \n",
              "        Fear       feasts         feet         fell       fences          few \n",
              "           1            1            2            6            1            5 \n",
              "     finally         find         fine        finer      fingers     finished \n",
              "           3            2            1            1            1            1 \n",
              "        firm       firmly        first         five        fixed      flatter \n",
              "           1            1            2            3            2            1 \n",
              "     flicked    flickered     flinched       Flocks      flooded        floor \n",
              "           1            1            1            1            1            1 \n",
              "     flutter        flyin       flying        folks         fond          for \n",
              "           1            1            3            1            1           22 \n",
              "         For     forehead      forever    forgotten      forward        found \n",
              "           3            1            1            1            1            6 \n",
              "        four         free   frightened         from        front       frozen \n",
              "           6            1            2            7            4            1 \n",
              "        full        funny        Funny    furiously       future            G \n",
              "           1            2            1            1            1            1 \n",
              "      garden       gasped         gave        gazed       gently          get \n",
              "           4            1            4            1            2            5 \n",
              "        gets      getting       getups        giant     gingerly         give \n",
              "           1            1            1            1            1            1 \n",
              "      glance      glasses       glowed       glumly           go       Godric \n",
              "           1            3            1            1            1            1 \n",
              "       going        Going       golden         gone         good         Good \n",
              "           5            1            1            7            6            1 \n",
              "    gossiped          got         gray        great     greatest        green \n",
              "           1            7            1            2            1            1 \n",
              "        grew         grin         grip       ground        group      growing \n",
              "           1            1            1            3            1            1 \n",
              "  grudgingly    Grunnings      grunted        guess          had         hadn \n",
              "           1            2            1            1           39            2 \n",
              "      Hagrid         hair         half         hand handkerchief        hands \n",
              "          14            4            5            1            2            2 \n",
              "       handy       happen    happening      happily        happy         hard \n",
              "           1            1            2            1            2            1 \n",
              "      harder       hardly       Harold        Harry       Harvey          has \n",
              "           2            2            1           20            1            4 \n",
              "        have        haven       having           he           He         head \n",
              "          33            3            1          102           54            5 \n",
              "   headlight        heads        heard        heart       heaven      heavily \n",
              "           1            1            4            2            1            1 \n",
              "      hedges         heel       heeled         held         help          her \n",
              "           1            1            1            1            1           21 \n",
              "         Her         here          hid       hiding         high          him \n",
              "           1           10            1            1            2           26 \n",
              "     himself          his          His       hissed         hold      holding \n",
              "           6           67            3            1            1            2 \n",
              "      Hollow         home        hoped       hoping     horribly        hours \n",
              "           1            2            1            3            1            1 \n",
              "       house          how          How       Howard      however         howl \n",
              "           4            6            2            1            2            1 \n",
              "      huddle         huge       hugged       hummed     hundreds         hunt \n",
              "           1            2            2            1            1            1 \n",
              "     hurried      husband       hushed            I           if           If \n",
              "           2            1            1           46           13            4 \n",
              " imagination    imagining  impatiently    important      improve           in \n",
              "           1            2            1            2            1           55 \n",
              "          In          ing         inky       inside       Inside      instead \n",
              "           2            1            1            4            1            2 \n",
              "     Instead         into     involved    irritably           is           Is \n",
              "           2           17            2            1            4            1 \n",
              "         isn           it           It          its       jacket          jam \n",
              "           2           58           28            4            1            1 \n",
              "       James       jerked          jet          Jim         join      judging \n",
              "           3            2            1            2            1            1 \n",
              "     jumping         just         keep      keeping         Kent       kicked \n",
              "           1            9            1            1            2            1 \n",
              "     kicking         kill       killed         kind         kiss         knee \n",
              "           1            4            1            2            2            1 \n",
              "        knew      knocked         know         Know      knowing        known \n",
              "           2            1           12            5            3            2 \n",
              "       knows         lace         laid         lamp        lamps       landed \n",
              "           2            1            1            2            1            1 \n",
              "       large         last         late       lately        later          lay \n",
              "           5            8            1            1            1            2 \n",
              "     learned        least      leather         left       legend         legs \n",
              "           1            2            1            5            1            1 \n",
              "       lemon         lent         less          let       letter         lids \n",
              "           5            1            1            2            5            1 \n",
              "        life        light      lighter    lightning       lights         like \n",
              "           2            4            1            1            1            9 \n",
              "       liked         Lily         lips       little       Little         live \n",
              "           1            3            1            8            1            3 \n",
              "       lived        LIVED       living           ll       London         long \n",
              "           1            1            3            7            1            4 \n",
              "        look       looked      looking         lose          lot         lots \n",
              "           4            9            6            1            4            1 \n",
              "      louder       loudly          low         luck        lucky    lunchtime \n",
              "           1            1            2            1            1            1 \n",
              "           m        Madam         made         make          man          map \n",
              "           2            1            5            1           10            3 \n",
              "        maps     markings          may        maybe   McGonagall     McGuffin \n",
              "           1            2            2            1           26            1 \n",
              "          me         mean      meeting      mention          met       middle \n",
              "           8            2            1            2            1            1 \n",
              "    midnight        might         milk         mind       minute      minutes \n",
              "           1            5            1            6            1            1 \n",
              "      mirror       missed        mixed       mixing       moment         mood \n",
              "           1            1            1            1            3            2 \n",
              "        moon         more      morning         most         Most       mother \n",
              "           2            3            4            3            2            1 \n",
              "  motorcycle        mouth      mouthed         move        moved       moving \n",
              "           5            1            1            1            2            1 \n",
              "          Mr          Mrs         much      muffled       Muggle      Muggles \n",
              "          30           21            7            1            3            6 \n",
              "     mumbled     murmured     muscular         must     mustache     muttered \n",
              "           1            1            1            4            2            1 \n",
              "          my           My       myself   mysterious   Mysterious         name \n",
              "           5            2            1            3            1           11 \n",
              "    narrowed        Nasty       nation         near      nearest       nearly \n",
              "           1            1            1            1            1            2 \n",
              "        neat         neck    neighbors      neither       nephew        nerve \n",
              "           1            2            2            1            1            1 \n",
              "   nervously        never          new         news   newscaster         next \n",
              "           1           10            3            3            1            7 \n",
              "        Next         nice        night        Night    nighttime        ninth \n",
              "           1            1            5            1            1            1 \n",
              "          no           No        noble       nodded      nodding         None \n",
              "          11            5            1            1            1            1 \n",
              "    nonsense          nor       normal     normally         nose          not \n",
              "           2            3            5            3            2           15 \n",
              "     nothing      Nothing       notice      noticed     noticing          now \n",
              "           6            1            2            3            1            8 \n",
              "      number      numbers            o    obviously          odd        oddly \n",
              "           7            1            1            1            1            1 \n",
              "          of          off       office           oh           Oh          old \n",
              "          75            7            2            1            3            3 \n",
              "       older           on           On         once          one          One \n",
              "           2           49            2            1            5            1 \n",
              "        only         Only         onto         open       opened      opinion \n",
              "           5            1            1            2            2            1 \n",
              "          or           Or       orange        order        other          our \n",
              "           4            1            1            1            3            3 \n",
              "         out        Outer      outside         over     overhead          owl \n",
              "          22            3            3           17            2            5 \n",
              "        owls         Owls         pair      parking      parties       passed \n",
              "           9            2            1            1            1            3 \n",
              "   passersby         past       patted      pattern      patting     pavement \n",
              "           1            4            1            1            1            1 \n",
              "      pecked     peculiar       peered       people       People      perfect \n",
              "           1            1            1           19            2            1 \n",
              "   perfectly      Perhaps       person     persuade      Petunia      phoning \n",
              "           2            1            1            1            3            1 \n",
              "      picked     piercing      pinched    pinpricks        place       places \n",
              "           2            1            1            1            4            1 \n",
              "       plain      planets       pocket        point      pointed     pointing \n",
              "           1            1            3            2            1            1 \n",
              "     Pomfrey         poor          pop       popped     possible       Potter \n",
              "           1            1            1            1            1           11 \n",
              "     Potters        power       powers     precious      pressed      pretend \n",
              "          10            1            1            1            1            1 \n",
              "   pretended       Privet     probably     problems      prodded    Professor \n",
              "           2            8            1            2            1           30 \n",
              "     promise     promised       proper        proud         pull       pulled \n",
              "           1            1            1            1            1            2 \n",
              "      purple       pursed          put          Put      quickly        quite \n",
              "           1            1            5            3            1            2 \n",
              "      quiver         rain       rather      rattled           re      reached \n",
              "           1            1            2            1           13            2 \n",
              "        read      reading        ready         real      realize     realized \n",
              "           1            2            1            1            3            1 \n",
              "      really       Really       reason     receiver      Rejoice      related \n",
              "           1            1            6            1            1            1 \n",
              "    relieved     remember     repeated        reply       report     reported \n",
              "           1            1            1            1            1            1 \n",
              "       right         road         roar        robes       rolled         room \n",
              "           6            4            2            1            1            3 \n",
              "      rooted         rose      ruffled     rumbling    rummaging        rumor \n",
              "           1            1            2            1            1            1 \n",
              "      rumors            s            S          sad         said         same \n",
              "           2           47            1            1           32            3 \n",
              "         sat          saw          say       saying         scar        Scars \n",
              "           4            3            7           10            1            1 \n",
              "    scratchy       scream    screaming       second      seconds       secret \n",
              "           1            1            2            1            1            2 \n",
              "   secretary          see       seeing         seem       seemed        seems \n",
              "           1            9            1            3            6            2 \n",
              "        seen       seized        sense     sensible    seriously          set \n",
              "           8            1            2            1            1            2 \n",
              "     several       severe       shaggy        shake        shall        shape \n",
              "           2            1            1            1            1            1 \n",
              "      shaped        sharp      sharply          she          She         Shhh \n",
              "           1            2            1           20            6            1 \n",
              "     shocked        shone         Shoo        shook     shooting     Shooting \n",
              "           1            1            1            1            3            2 \n",
              "        shot       should     shoulder    shoulders      shouted      showers \n",
              "           1            2            1            1            1            1 \n",
              "     showing    shuddered     sideways        sight    sightings         sign \n",
              "           1            1            1            2            1            5 \n",
              "       signs      silence       silent     silently        silly       silver \n",
              "           1            1            1            1            1            3 \n",
              "      simply        since       single      sinking       sipped          sir \n",
              "           1            2            1            1            1            5 \n",
              "      Sirius       sister          sit      sitting         size          sky \n",
              "           2            7            2            5            1            3 \n",
              "     slammed        sleep   sleepiness     sleeping       sleeve        slept \n",
              "           1            1            1            1            1            1 \n",
              "    slinking      slipped        small        smile      smiling      snapped \n",
              "           1            1            3            2            1            2 \n",
              "       sniff      sniffed           so           So       sobbed         some \n",
              "           1            1           13            1            1            4 \n",
              "    somebody      somehow      someone    something          son         soon \n",
              "           1            1            1           14            7            2 \n",
              "       sorry        Sorry        sound     sounding    sparkling      special \n",
              "           2            1            1            2            1            1 \n",
              "  spectacles         sped        spend        spent        split        spoke \n",
              "           2            2            1            1            1            2 \n",
              "        spot      spotted       spying       square      squeaky        stand \n",
              "           1            2            1            1            1            1 \n",
              "    standing        stare       stared      staring        stars      started \n",
              "           2            2            2            2            5            1 \n",
              "      starts       statue      staying     steadily     steering         step \n",
              "           1            1            1            1            1            1 \n",
              "     stepped        stern        stiff      stiffly        still        stood \n",
              "           1            1            1            2            5            2 \n",
              "        stop      stopped        story     straight      strange    strangely \n",
              "           1            3            1            1            2            1 \n",
              "    stranger    streaming       street      streets      stretch      stroked \n",
              "           1            1           14            1            1            1 \n",
              "      struck        stuff     stumbled        stunt       stupid      subject \n",
              "           1            1            1            1            3            1 \n",
              "        such     suddenly      suggest      sunrise      suppose     supposed \n",
              "           3            6            1            1            4            1 \n",
              "        sure       surely    surprised      survive    swallowed     swapping \n",
              "           3            1            1            1            1            1 \n",
              "     swarmin        sweet       sweets      swelled        swept        swish \n",
              "           1            1            1            1            1            1 \n",
              "       swoop      swooped        swung            t        tabby         tail \n",
              "           1            1            1           62            4            1 \n",
              "        take        takin       taking         talk         tall      tangles \n",
              "           1            1            1            1            2            1 \n",
              "     tantrum        tawny          tea          Ted    telephone         tell \n",
              "           1            1            2            1            2            4 \n",
              "        tend          ter         than        thank     thankful         that \n",
              "           1            1            1            2            1           58 \n",
              "        That          the          The          THE        their        Their \n",
              "           1          187           16            1           10            1 \n",
              "        them         then         Then        there        There        these \n",
              "          17            4            1           11            2            3 \n",
              "       These         they         They         thin        thing       things \n",
              "           1           25            7            2            2            5 \n",
              "       think     thinking         this         This        those       though \n",
              "           8            2           13            3            1            7 \n",
              "     thought        three        threw       throat      through     throwing \n",
              "           9            1            1            1            1            1 \n",
              "        tidy          tie        tight         time        times          tin \n",
              "           1            1            1            3            2            1 \n",
              "        tiny           to           To        today     together         told \n",
              "           2           93            1            5            2            4 \n",
              "     tonight          too         took          top       toward         town \n",
              "           2            5            4            1            3            3 \n",
              "     traffic        trash     trembled        trick        tried         true \n",
              "           2            1            1            1            3            2 \n",
              "       trust       trying       Trying         tuck       tucked      Tuesday \n",
              "           2            1            1            1            1            1 \n",
              "        tuft         turn       turned      turning       twelve       Twelve \n",
              "           1            1            6            1            2            1 \n",
              "       twice    twinkling     twitched          two         tyke       unable \n",
              "           3            1            1            6            1            1 \n",
              "unblinkingly        uncle        under        Under  Underground   underneath \n",
              "           1            2            1            1            1            1 \n",
              "  understand unDursleyish       uneasy   unsticking        until      unusual \n",
              "           1            1            2            1            6            1 \n",
              "   unusually    unwelcome           up        upset     upstairs           us \n",
              "           1            1           14            3            1            2 \n",
              "         use       useful        usual      usually         vast           ve \n",
              "           1            1            2            1            1            9 \n",
              "        very      Viewers       violet      visible        voice       voices \n",
              "          17            1            1            1            3            1 \n",
              "   Voldemort      waiting         wake       waking         walk       walked \n",
              "           6            2            1            1            2            4 \n",
              "        wall        walls         want       wanted          was          Was \n",
              "           7            1            2            2           87            2 \n",
              "        wasn        watch      watched     watchers     watching          way \n",
              "           3            2            2            1            3            4 \n",
              "          we           We      wearing      weather   weatherman         week \n",
              "           4            6            5            1            1            1 \n",
              "       weeks      weirdos         well         Well         went         were \n",
              "           1            1            4            5            6           23 \n",
              "       weren          wet         what         What     whatever        wheel \n",
              "           1            1           11            3            2            1 \n",
              "        when         When        where      whether        which        While \n",
              "           7            3            4            1            7            1 \n",
              "    whiskery      whisper    whispered   whisperers   whispering          who \n",
              "           1            2            2            1            2            8 \n",
              "         Who          WHO        whole          why          Why         wide \n",
              "           5            1            1            7            1            2 \n",
              "        wife         wild         will       window       Wiping         wise \n",
              "           1            1            5            5            1            1 \n",
              "        with      without         woke        woken        woman          won \n",
              "          16            1            1            1            2            1 \n",
              "         Won     wondered         word        words         work        world \n",
              "           1            2            2            1            1            1 \n",
              "     worried     worrying        would        Would       wouldn      wounded \n",
              "           1            1           10            1            4            1 \n",
              "    wrestled      written        wrong       yawned         Yeah        years \n",
              "           1            2            1            1            1            3 \n",
              "      yelled          yes          Yes    yesterday    Yorkshire          you \n",
              "           1            6            5            1            1           33 \n",
              "         You      YouKnow        young        Young         your     yourself \n",
              "          13            1            2            1            1            3 "
            ]
          },
          "metadata": {}
        }
      ]
    },
    {
      "cell_type": "code",
      "source": [
        "str_count(ch1, '\\\\b\\\\w{5}\\\\b')"
      ],
      "metadata": {
        "id": "kueol1XKMd7r",
        "outputId": "6a2d3ae2-ca10-474b-9171-11effa629da7",
        "colab": {
          "base_uri": "https://localhost:8080/",
          "height": 34
        }
      },
      "execution_count": 78,
      "outputs": [
        {
          "output_type": "display_data",
          "data": {
            "text/html": [
              "471"
            ],
            "text/markdown": "471",
            "text/latex": "471",
            "text/plain": [
              "[1] 471"
            ]
          },
          "metadata": {}
        }
      ]
    },
    {
      "cell_type": "code",
      "source": [
        "str_extract_all(ch1, '\\\\b\\\\w{5}\\\\b')"
      ],
      "metadata": {
        "id": "faC1uCByNLln",
        "outputId": "513c2bce-a3bf-4586-b888-da6163b54bb1",
        "colab": {
          "base_uri": "https://localhost:8080/",
          "height": 670
        }
      },
      "execution_count": 80,
      "outputs": [
        {
          "output_type": "display_data",
          "data": {
            "text/html": [
              "<ol>\n",
              "\t<li><style>\n",
              ".list-inline {list-style: none; margin:0; padding: 0}\n",
              ".list-inline>li {display: inline-block}\n",
              ".list-inline>li:not(:last-child)::after {content: \"\\00b7\"; padding: 0 .5ex}\n",
              "</style>\n",
              "<ol class=list-inline><li>'LIVED'</li><li>'Drive'</li><li>'proud'</li><li>'thank'</li><li>'which'</li><li>'beefy'</li><li>'large'</li><li>'twice'</li><li>'usual'</li><li>'which'</li><li>'spent'</li><li>'small'</li><li>'their'</li><li>'there'</li><li>'finer'</li><li>'their'</li><li>'would'</li><li>'think'</li><li>'could'</li><li>'found'</li><li>'about'</li><li>'years'</li><li>'think'</li><li>'would'</li><li>'small'</li><li>'never'</li><li>'child'</li><li>'story'</li><li>'there'</li><li>'about'</li><li>'would'</li><li>'chair'</li><li>'large'</li><li>'tawny'</li><li>'eight'</li><li>'cheek'</li><li>'tried'</li><li>'walls'</li><li>'house'</li><li>'drive'</li><li>'first'</li><li>'again'</li><li>'There'</li><li>'tabby'</li><li>'Drive'</li><li>'there'</li><li>'sight'</li><li>'could'</li><li>'trick'</li><li>'light'</li><li>'drove'</li><li>'Drive'</li><li>'signs'</li><li>'shake'</li><li>'drove'</li><li>'large'</li><li>'order'</li><li>'usual'</li><li>'there'</li><li>'about'</li><li>'funny'</li><li>'young'</li><li>'wheel'</li><li>'these'</li><li>'quite'</li><li>'close'</li><li>'weren'</li><li>'young'</li><li>'older'</li><li>'green'</li><li>'cloak'</li><li>'nerve'</li><li>'silly'</li><li>'stunt'</li><li>'these'</li><li>'would'</li><li>'moved'</li><li>'later'</li><li>'ninth'</li><li>'floor'</li><li>'might'</li><li>'found'</li><li>'swoop'</li><li>'broad'</li><li>'gazed'</li><li>'after'</li><li>'never'</li><li>'calls'</li><li>'until'</li><li>'about'</li><li>'until'</li><li>'group'</li><li>'baker'</li><li>'bunch'</li><li>'large'</li><li>'words'</li><li>'right'</li><li>'heard'</li><li>'their'</li><li>'Harry'</li><li>'being'</li><li>'there'</li><li>'Harry'</li><li>'think'</li><li>'Harry'</li><li>'never'</li><li>'might'</li><li>'There'</li><li>'point'</li><li>'upset'</li><li>'blame'</li><li>'those'</li><li>'found'</li><li>'clock'</li><li>'still'</li><li>'Sorry'</li><li>'cloak'</li><li>'upset'</li><li>'being'</li><li>'split'</li><li>'smile'</li><li>'voice'</li><li>'stare'</li><li>'sorry'</li><li>'could'</li><li>'upset'</li><li>'today'</li><li>'happy'</li><li>'happy'</li><li>'stood'</li><li>'which'</li><li>'never'</li><li>'hoped'</li><li>'first'</li><li>'thing'</li><li>'tabby'</li><li>'stern'</li><li>'house'</li><li>'still'</li><li>'about'</li><li>'tried'</li><li>'catch'</li><li>'today'</li><li>'night'</li><li>'there'</li><li>'these'</li><li>'birds'</li><li>'every'</li><li>'since'</li><li>'their'</li><li>'Going'</li><li>'about'</li><li>'oddly'</li><li>'today'</li><li>'apart'</li><li>'stars'</li><li>'Night'</li><li>'early'</li><li>'until'</li><li>'folks'</li><li>'night'</li><li>'stars'</li><li>'place'</li><li>'about'</li><li>'haven'</li><li>'heard'</li><li>'angry'</li><li>'After'</li><li>'Funny'</li><li>'stuff'</li><li>'stars'</li><li>'there'</li><li>'funny'</li><li>'today'</li><li>'maybe'</li><li>'crowd'</li><li>'dared'</li><li>'heard'</li><li>'could'</li><li>'Their'</li><li>'about'</li><li>'again'</li><li>'Harry'</li><li>'Nasty'</li><li>'heart'</li><li>'quite'</li><li>'agree'</li><li>'While'</li><li>'crept'</li><li>'front'</li><li>'still'</li><li>'there'</li><li>'Drive'</li><li>'Could'</li><li>'think'</li><li>'could'</li><li>'awake'</li><li>'there'</li><li>'about'</li><li>'their'</li><li>⋯</li><li>'sense'</li><li>'blame'</li><li>'years'</li><li>'heads'</li><li>'being'</li><li>'broad'</li><li>'threw'</li><li>'sharp'</li><li>'going'</li><li>'thing'</li><li>'would'</li><li>'seems'</li><li>'found'</li><li>'about'</li><li>'seems'</li><li>'Would'</li><li>'lemon'</li><li>'lemon'</li><li>'sweet'</li><li>'thank'</li><li>'think'</li><li>'lemon'</li><li>'drops'</li><li>'years'</li><li>'lemon'</li><li>'drops'</li><li>'never'</li><li>'haven'</li><li>'knows'</li><li>'right'</li><li>'never'</li><li>'noble'</li><li>'lucky'</li><li>'haven'</li><li>'since'</li><li>'Madam'</li><li>'liked'</li><li>'sharp'</li><li>'About'</li><li>'About'</li><li>'point'</li><li>'woman'</li><li>'fixed'</li><li>'stare'</li><li>'plain'</li><li>'going'</li><li>'until'</li><li>'lemon'</li><li>'night'</li><li>'rumor'</li><li>'James'</li><li>'bowed'</li><li>'James'</li><li>'Albus'</li><li>'voice'</li><li>'tried'</li><li>'Harry'</li><li>'knows'</li><li>'Harry'</li><li>'power'</li><li>'broke'</li><li>'After'</li><li>'Harry'</li><li>'guess'</li><li>'never'</li><li>'great'</li><li>'sniff'</li><li>'watch'</li><li>'watch'</li><li>'hands'</li><li>'sense'</li><li>'going'</li><li>'bring'</li><li>'Harry'</li><li>'uncle'</li><li>'cried'</li><li>'Harry'</li><li>'place'</li><li>'uncle'</li><li>'older'</li><li>'think'</li><li>'These'</li><li>'never'</li><li>'today'</li><li>'known'</li><li>'Harry'</li><li>'there'</li><li>'books'</li><li>'about'</li><li>'Harry'</li><li>'every'</li><li>'child'</li><li>'world'</li><li>'would'</li><li>'until'</li><li>'ready'</li><li>'mouth'</li><li>'right'</li><li>'cloak'</li><li>'might'</li><li>'Harry'</li><li>'think'</li><li>'trust'</li><li>'would'</li><li>'trust'</li><li>'heart'</li><li>'right'</li><li>'place'</li><li>'sound'</li><li>'front'</li><li>'twice'</li><li>'least'</li><li>'times'</li><li>'bushy'</li><li>'black'</li><li>'beard'</li><li>'hands'</li><li>'trash'</li><li>'their'</li><li>'boots'</li><li>'where'</li><li>'giant'</li><li>'spoke'</li><li>'Young'</li><li>'Black'</li><li>'there'</li><li>'house'</li><li>'right'</li><li>'flyin'</li><li>'Under'</li><li>'black'</li><li>'could'</li><li>'where'</li><li>'about'</li><li>'could'</li><li>'Scars'</li><li>'handy'</li><li>'above'</li><li>'Harry'</li><li>'house'</li><li>'Could'</li><li>'could'</li><li>'asked'</li><li>'great'</li><li>'Harry'</li><li>'sorry'</li><li>'large'</li><li>'stand'</li><li>'James'</li><li>'Harry'</li><li>'found'</li><li>'front'</li><li>'Harry'</li><li>'cloak'</li><li>'Harry'</li><li>'other'</li><li>'three'</li><li>'stood'</li><li>'shook'</li><li>'light'</li><li>'shone'</li><li>'voice'</li><li>'takin'</li><li>'night'</li><li>'swung'</li><li>'night'</li><li>'shall'</li><li>'reply'</li><li>'Outer'</li><li>'balls'</li><li>'light'</li><li>'their'</li><li>'lamps'</li><li>'Drive'</li><li>'could'</li><li>'tabby'</li><li>'other'</li><li>'could'</li><li>'Harry'</li><li>'swish'</li><li>'cloak'</li><li>'Drive'</li><li>'which'</li><li>'under'</li><li>'place'</li><li>'would'</li><li>'Harry'</li><li>'small'</li><li>'slept'</li><li>'would'</li><li>'woken'</li><li>'hours'</li><li>'front'</li><li>'would'</li><li>'spend'</li><li>'weeks'</li><li>'being'</li><li>'their'</li><li>'Harry'</li><li>'lived'</li></ol>\n",
              "</li>\n",
              "</ol>\n"
            ],
            "text/markdown": "1. 1. 'LIVED'\n2. 'Drive'\n3. 'proud'\n4. 'thank'\n5. 'which'\n6. 'beefy'\n7. 'large'\n8. 'twice'\n9. 'usual'\n10. 'which'\n11. 'spent'\n12. 'small'\n13. 'their'\n14. 'there'\n15. 'finer'\n16. 'their'\n17. 'would'\n18. 'think'\n19. 'could'\n20. 'found'\n21. 'about'\n22. 'years'\n23. 'think'\n24. 'would'\n25. 'small'\n26. 'never'\n27. 'child'\n28. 'story'\n29. 'there'\n30. 'about'\n31. 'would'\n32. 'chair'\n33. 'large'\n34. 'tawny'\n35. 'eight'\n36. 'cheek'\n37. 'tried'\n38. 'walls'\n39. 'house'\n40. 'drive'\n41. 'first'\n42. 'again'\n43. 'There'\n44. 'tabby'\n45. 'Drive'\n46. 'there'\n47. 'sight'\n48. 'could'\n49. 'trick'\n50. 'light'\n51. 'drove'\n52. 'Drive'\n53. 'signs'\n54. 'shake'\n55. 'drove'\n56. 'large'\n57. 'order'\n58. 'usual'\n59. 'there'\n60. 'about'\n61. 'funny'\n62. 'young'\n63. 'wheel'\n64. 'these'\n65. 'quite'\n66. 'close'\n67. 'weren'\n68. 'young'\n69. 'older'\n70. 'green'\n71. 'cloak'\n72. 'nerve'\n73. 'silly'\n74. 'stunt'\n75. 'these'\n76. 'would'\n77. 'moved'\n78. 'later'\n79. 'ninth'\n80. 'floor'\n81. 'might'\n82. 'found'\n83. 'swoop'\n84. 'broad'\n85. 'gazed'\n86. 'after'\n87. 'never'\n88. 'calls'\n89. 'until'\n90. 'about'\n91. 'until'\n92. 'group'\n93. 'baker'\n94. 'bunch'\n95. 'large'\n96. 'words'\n97. 'right'\n98. 'heard'\n99. 'their'\n100. 'Harry'\n101. 'being'\n102. 'there'\n103. 'Harry'\n104. 'think'\n105. 'Harry'\n106. 'never'\n107. 'might'\n108. 'There'\n109. 'point'\n110. 'upset'\n111. 'blame'\n112. 'those'\n113. 'found'\n114. 'clock'\n115. 'still'\n116. 'Sorry'\n117. 'cloak'\n118. 'upset'\n119. 'being'\n120. 'split'\n121. 'smile'\n122. 'voice'\n123. 'stare'\n124. 'sorry'\n125. 'could'\n126. 'upset'\n127. 'today'\n128. 'happy'\n129. 'happy'\n130. 'stood'\n131. 'which'\n132. 'never'\n133. 'hoped'\n134. 'first'\n135. 'thing'\n136. 'tabby'\n137. 'stern'\n138. 'house'\n139. 'still'\n140. 'about'\n141. 'tried'\n142. 'catch'\n143. 'today'\n144. 'night'\n145. 'there'\n146. 'these'\n147. 'birds'\n148. 'every'\n149. 'since'\n150. 'their'\n151. 'Going'\n152. 'about'\n153. 'oddly'\n154. 'today'\n155. 'apart'\n156. 'stars'\n157. 'Night'\n158. 'early'\n159. 'until'\n160. 'folks'\n161. 'night'\n162. 'stars'\n163. 'place'\n164. 'about'\n165. 'haven'\n166. 'heard'\n167. 'angry'\n168. 'After'\n169. 'Funny'\n170. 'stuff'\n171. 'stars'\n172. 'there'\n173. 'funny'\n174. 'today'\n175. 'maybe'\n176. 'crowd'\n177. 'dared'\n178. 'heard'\n179. 'could'\n180. 'Their'\n181. 'about'\n182. 'again'\n183. 'Harry'\n184. 'Nasty'\n185. 'heart'\n186. 'quite'\n187. 'agree'\n188. 'While'\n189. 'crept'\n190. 'front'\n191. 'still'\n192. 'there'\n193. 'Drive'\n194. 'Could'\n195. 'think'\n196. 'could'\n197. 'awake'\n198. 'there'\n199. 'about'\n200. 'their'\n201. ⋯\n202. 'sense'\n203. 'blame'\n204. 'years'\n205. 'heads'\n206. 'being'\n207. 'broad'\n208. 'threw'\n209. 'sharp'\n210. 'going'\n211. 'thing'\n212. 'would'\n213. 'seems'\n214. 'found'\n215. 'about'\n216. 'seems'\n217. 'Would'\n218. 'lemon'\n219. 'lemon'\n220. 'sweet'\n221. 'thank'\n222. 'think'\n223. 'lemon'\n224. 'drops'\n225. 'years'\n226. 'lemon'\n227. 'drops'\n228. 'never'\n229. 'haven'\n230. 'knows'\n231. 'right'\n232. 'never'\n233. 'noble'\n234. 'lucky'\n235. 'haven'\n236. 'since'\n237. 'Madam'\n238. 'liked'\n239. 'sharp'\n240. 'About'\n241. 'About'\n242. 'point'\n243. 'woman'\n244. 'fixed'\n245. 'stare'\n246. 'plain'\n247. 'going'\n248. 'until'\n249. 'lemon'\n250. 'night'\n251. 'rumor'\n252. 'James'\n253. 'bowed'\n254. 'James'\n255. 'Albus'\n256. 'voice'\n257. 'tried'\n258. 'Harry'\n259. 'knows'\n260. 'Harry'\n261. 'power'\n262. 'broke'\n263. 'After'\n264. 'Harry'\n265. 'guess'\n266. 'never'\n267. 'great'\n268. 'sniff'\n269. 'watch'\n270. 'watch'\n271. 'hands'\n272. 'sense'\n273. 'going'\n274. 'bring'\n275. 'Harry'\n276. 'uncle'\n277. 'cried'\n278. 'Harry'\n279. 'place'\n280. 'uncle'\n281. 'older'\n282. 'think'\n283. 'These'\n284. 'never'\n285. 'today'\n286. 'known'\n287. 'Harry'\n288. 'there'\n289. 'books'\n290. 'about'\n291. 'Harry'\n292. 'every'\n293. 'child'\n294. 'world'\n295. 'would'\n296. 'until'\n297. 'ready'\n298. 'mouth'\n299. 'right'\n300. 'cloak'\n301. 'might'\n302. 'Harry'\n303. 'think'\n304. 'trust'\n305. 'would'\n306. 'trust'\n307. 'heart'\n308. 'right'\n309. 'place'\n310. 'sound'\n311. 'front'\n312. 'twice'\n313. 'least'\n314. 'times'\n315. 'bushy'\n316. 'black'\n317. 'beard'\n318. 'hands'\n319. 'trash'\n320. 'their'\n321. 'boots'\n322. 'where'\n323. 'giant'\n324. 'spoke'\n325. 'Young'\n326. 'Black'\n327. 'there'\n328. 'house'\n329. 'right'\n330. 'flyin'\n331. 'Under'\n332. 'black'\n333. 'could'\n334. 'where'\n335. 'about'\n336. 'could'\n337. 'Scars'\n338. 'handy'\n339. 'above'\n340. 'Harry'\n341. 'house'\n342. 'Could'\n343. 'could'\n344. 'asked'\n345. 'great'\n346. 'Harry'\n347. 'sorry'\n348. 'large'\n349. 'stand'\n350. 'James'\n351. 'Harry'\n352. 'found'\n353. 'front'\n354. 'Harry'\n355. 'cloak'\n356. 'Harry'\n357. 'other'\n358. 'three'\n359. 'stood'\n360. 'shook'\n361. 'light'\n362. 'shone'\n363. 'voice'\n364. 'takin'\n365. 'night'\n366. 'swung'\n367. 'night'\n368. 'shall'\n369. 'reply'\n370. 'Outer'\n371. 'balls'\n372. 'light'\n373. 'their'\n374. 'lamps'\n375. 'Drive'\n376. 'could'\n377. 'tabby'\n378. 'other'\n379. 'could'\n380. 'Harry'\n381. 'swish'\n382. 'cloak'\n383. 'Drive'\n384. 'which'\n385. 'under'\n386. 'place'\n387. 'would'\n388. 'Harry'\n389. 'small'\n390. 'slept'\n391. 'would'\n392. 'woken'\n393. 'hours'\n394. 'front'\n395. 'would'\n396. 'spend'\n397. 'weeks'\n398. 'being'\n399. 'their'\n400. 'Harry'\n401. 'lived'\n\n\n\n\n\n",
            "text/latex": "\\begin{enumerate}\n\\item \\begin{enumerate*}\n\\item 'LIVED'\n\\item 'Drive'\n\\item 'proud'\n\\item 'thank'\n\\item 'which'\n\\item 'beefy'\n\\item 'large'\n\\item 'twice'\n\\item 'usual'\n\\item 'which'\n\\item 'spent'\n\\item 'small'\n\\item 'their'\n\\item 'there'\n\\item 'finer'\n\\item 'their'\n\\item 'would'\n\\item 'think'\n\\item 'could'\n\\item 'found'\n\\item 'about'\n\\item 'years'\n\\item 'think'\n\\item 'would'\n\\item 'small'\n\\item 'never'\n\\item 'child'\n\\item 'story'\n\\item 'there'\n\\item 'about'\n\\item 'would'\n\\item 'chair'\n\\item 'large'\n\\item 'tawny'\n\\item 'eight'\n\\item 'cheek'\n\\item 'tried'\n\\item 'walls'\n\\item 'house'\n\\item 'drive'\n\\item 'first'\n\\item 'again'\n\\item 'There'\n\\item 'tabby'\n\\item 'Drive'\n\\item 'there'\n\\item 'sight'\n\\item 'could'\n\\item 'trick'\n\\item 'light'\n\\item 'drove'\n\\item 'Drive'\n\\item 'signs'\n\\item 'shake'\n\\item 'drove'\n\\item 'large'\n\\item 'order'\n\\item 'usual'\n\\item 'there'\n\\item 'about'\n\\item 'funny'\n\\item 'young'\n\\item 'wheel'\n\\item 'these'\n\\item 'quite'\n\\item 'close'\n\\item 'weren'\n\\item 'young'\n\\item 'older'\n\\item 'green'\n\\item 'cloak'\n\\item 'nerve'\n\\item 'silly'\n\\item 'stunt'\n\\item 'these'\n\\item 'would'\n\\item 'moved'\n\\item 'later'\n\\item 'ninth'\n\\item 'floor'\n\\item 'might'\n\\item 'found'\n\\item 'swoop'\n\\item 'broad'\n\\item 'gazed'\n\\item 'after'\n\\item 'never'\n\\item 'calls'\n\\item 'until'\n\\item 'about'\n\\item 'until'\n\\item 'group'\n\\item 'baker'\n\\item 'bunch'\n\\item 'large'\n\\item 'words'\n\\item 'right'\n\\item 'heard'\n\\item 'their'\n\\item 'Harry'\n\\item 'being'\n\\item 'there'\n\\item 'Harry'\n\\item 'think'\n\\item 'Harry'\n\\item 'never'\n\\item 'might'\n\\item 'There'\n\\item 'point'\n\\item 'upset'\n\\item 'blame'\n\\item 'those'\n\\item 'found'\n\\item 'clock'\n\\item 'still'\n\\item 'Sorry'\n\\item 'cloak'\n\\item 'upset'\n\\item 'being'\n\\item 'split'\n\\item 'smile'\n\\item 'voice'\n\\item 'stare'\n\\item 'sorry'\n\\item 'could'\n\\item 'upset'\n\\item 'today'\n\\item 'happy'\n\\item 'happy'\n\\item 'stood'\n\\item 'which'\n\\item 'never'\n\\item 'hoped'\n\\item 'first'\n\\item 'thing'\n\\item 'tabby'\n\\item 'stern'\n\\item 'house'\n\\item 'still'\n\\item 'about'\n\\item 'tried'\n\\item 'catch'\n\\item 'today'\n\\item 'night'\n\\item 'there'\n\\item 'these'\n\\item 'birds'\n\\item 'every'\n\\item 'since'\n\\item 'their'\n\\item 'Going'\n\\item 'about'\n\\item 'oddly'\n\\item 'today'\n\\item 'apart'\n\\item 'stars'\n\\item 'Night'\n\\item 'early'\n\\item 'until'\n\\item 'folks'\n\\item 'night'\n\\item 'stars'\n\\item 'place'\n\\item 'about'\n\\item 'haven'\n\\item 'heard'\n\\item 'angry'\n\\item 'After'\n\\item 'Funny'\n\\item 'stuff'\n\\item 'stars'\n\\item 'there'\n\\item 'funny'\n\\item 'today'\n\\item 'maybe'\n\\item 'crowd'\n\\item 'dared'\n\\item 'heard'\n\\item 'could'\n\\item 'Their'\n\\item 'about'\n\\item 'again'\n\\item 'Harry'\n\\item 'Nasty'\n\\item 'heart'\n\\item 'quite'\n\\item 'agree'\n\\item 'While'\n\\item 'crept'\n\\item 'front'\n\\item 'still'\n\\item 'there'\n\\item 'Drive'\n\\item 'Could'\n\\item 'think'\n\\item 'could'\n\\item 'awake'\n\\item 'there'\n\\item 'about'\n\\item 'their'\n\\item ⋯\n\\item 'sense'\n\\item 'blame'\n\\item 'years'\n\\item 'heads'\n\\item 'being'\n\\item 'broad'\n\\item 'threw'\n\\item 'sharp'\n\\item 'going'\n\\item 'thing'\n\\item 'would'\n\\item 'seems'\n\\item 'found'\n\\item 'about'\n\\item 'seems'\n\\item 'Would'\n\\item 'lemon'\n\\item 'lemon'\n\\item 'sweet'\n\\item 'thank'\n\\item 'think'\n\\item 'lemon'\n\\item 'drops'\n\\item 'years'\n\\item 'lemon'\n\\item 'drops'\n\\item 'never'\n\\item 'haven'\n\\item 'knows'\n\\item 'right'\n\\item 'never'\n\\item 'noble'\n\\item 'lucky'\n\\item 'haven'\n\\item 'since'\n\\item 'Madam'\n\\item 'liked'\n\\item 'sharp'\n\\item 'About'\n\\item 'About'\n\\item 'point'\n\\item 'woman'\n\\item 'fixed'\n\\item 'stare'\n\\item 'plain'\n\\item 'going'\n\\item 'until'\n\\item 'lemon'\n\\item 'night'\n\\item 'rumor'\n\\item 'James'\n\\item 'bowed'\n\\item 'James'\n\\item 'Albus'\n\\item 'voice'\n\\item 'tried'\n\\item 'Harry'\n\\item 'knows'\n\\item 'Harry'\n\\item 'power'\n\\item 'broke'\n\\item 'After'\n\\item 'Harry'\n\\item 'guess'\n\\item 'never'\n\\item 'great'\n\\item 'sniff'\n\\item 'watch'\n\\item 'watch'\n\\item 'hands'\n\\item 'sense'\n\\item 'going'\n\\item 'bring'\n\\item 'Harry'\n\\item 'uncle'\n\\item 'cried'\n\\item 'Harry'\n\\item 'place'\n\\item 'uncle'\n\\item 'older'\n\\item 'think'\n\\item 'These'\n\\item 'never'\n\\item 'today'\n\\item 'known'\n\\item 'Harry'\n\\item 'there'\n\\item 'books'\n\\item 'about'\n\\item 'Harry'\n\\item 'every'\n\\item 'child'\n\\item 'world'\n\\item 'would'\n\\item 'until'\n\\item 'ready'\n\\item 'mouth'\n\\item 'right'\n\\item 'cloak'\n\\item 'might'\n\\item 'Harry'\n\\item 'think'\n\\item 'trust'\n\\item 'would'\n\\item 'trust'\n\\item 'heart'\n\\item 'right'\n\\item 'place'\n\\item 'sound'\n\\item 'front'\n\\item 'twice'\n\\item 'least'\n\\item 'times'\n\\item 'bushy'\n\\item 'black'\n\\item 'beard'\n\\item 'hands'\n\\item 'trash'\n\\item 'their'\n\\item 'boots'\n\\item 'where'\n\\item 'giant'\n\\item 'spoke'\n\\item 'Young'\n\\item 'Black'\n\\item 'there'\n\\item 'house'\n\\item 'right'\n\\item 'flyin'\n\\item 'Under'\n\\item 'black'\n\\item 'could'\n\\item 'where'\n\\item 'about'\n\\item 'could'\n\\item 'Scars'\n\\item 'handy'\n\\item 'above'\n\\item 'Harry'\n\\item 'house'\n\\item 'Could'\n\\item 'could'\n\\item 'asked'\n\\item 'great'\n\\item 'Harry'\n\\item 'sorry'\n\\item 'large'\n\\item 'stand'\n\\item 'James'\n\\item 'Harry'\n\\item 'found'\n\\item 'front'\n\\item 'Harry'\n\\item 'cloak'\n\\item 'Harry'\n\\item 'other'\n\\item 'three'\n\\item 'stood'\n\\item 'shook'\n\\item 'light'\n\\item 'shone'\n\\item 'voice'\n\\item 'takin'\n\\item 'night'\n\\item 'swung'\n\\item 'night'\n\\item 'shall'\n\\item 'reply'\n\\item 'Outer'\n\\item 'balls'\n\\item 'light'\n\\item 'their'\n\\item 'lamps'\n\\item 'Drive'\n\\item 'could'\n\\item 'tabby'\n\\item 'other'\n\\item 'could'\n\\item 'Harry'\n\\item 'swish'\n\\item 'cloak'\n\\item 'Drive'\n\\item 'which'\n\\item 'under'\n\\item 'place'\n\\item 'would'\n\\item 'Harry'\n\\item 'small'\n\\item 'slept'\n\\item 'would'\n\\item 'woken'\n\\item 'hours'\n\\item 'front'\n\\item 'would'\n\\item 'spend'\n\\item 'weeks'\n\\item 'being'\n\\item 'their'\n\\item 'Harry'\n\\item 'lived'\n\\end{enumerate*}\n\n\\end{enumerate}\n",
            "text/plain": [
              "[[1]]\n",
              "  [1] \"LIVED\" \"Drive\" \"proud\" \"thank\" \"which\" \"beefy\" \"large\" \"twice\" \"usual\"\n",
              " [10] \"which\" \"spent\" \"small\" \"their\" \"there\" \"finer\" \"their\" \"would\" \"think\"\n",
              " [19] \"could\" \"found\" \"about\" \"years\" \"think\" \"would\" \"small\" \"never\" \"child\"\n",
              " [28] \"story\" \"there\" \"about\" \"would\" \"chair\" \"large\" \"tawny\" \"eight\" \"cheek\"\n",
              " [37] \"tried\" \"walls\" \"house\" \"drive\" \"first\" \"again\" \"There\" \"tabby\" \"Drive\"\n",
              " [46] \"there\" \"sight\" \"could\" \"trick\" \"light\" \"drove\" \"Drive\" \"signs\" \"shake\"\n",
              " [55] \"drove\" \"large\" \"order\" \"usual\" \"there\" \"about\" \"funny\" \"young\" \"wheel\"\n",
              " [64] \"these\" \"quite\" \"close\" \"weren\" \"young\" \"older\" \"green\" \"cloak\" \"nerve\"\n",
              " [73] \"silly\" \"stunt\" \"these\" \"would\" \"moved\" \"later\" \"ninth\" \"floor\" \"might\"\n",
              " [82] \"found\" \"swoop\" \"broad\" \"gazed\" \"after\" \"never\" \"calls\" \"until\" \"about\"\n",
              " [91] \"until\" \"group\" \"baker\" \"bunch\" \"large\" \"words\" \"right\" \"heard\" \"their\"\n",
              "[100] \"Harry\" \"being\" \"there\" \"Harry\" \"think\" \"Harry\" \"never\" \"might\" \"There\"\n",
              "[109] \"point\" \"upset\" \"blame\" \"those\" \"found\" \"clock\" \"still\" \"Sorry\" \"cloak\"\n",
              "[118] \"upset\" \"being\" \"split\" \"smile\" \"voice\" \"stare\" \"sorry\" \"could\" \"upset\"\n",
              "[127] \"today\" \"happy\" \"happy\" \"stood\" \"which\" \"never\" \"hoped\" \"first\" \"thing\"\n",
              "[136] \"tabby\" \"stern\" \"house\" \"still\" \"about\" \"tried\" \"catch\" \"today\" \"night\"\n",
              "[145] \"there\" \"these\" \"birds\" \"every\" \"since\" \"their\" \"Going\" \"about\" \"oddly\"\n",
              "[154] \"today\" \"apart\" \"stars\" \"Night\" \"early\" \"until\" \"folks\" \"night\" \"stars\"\n",
              "[163] \"place\" \"about\" \"haven\" \"heard\" \"angry\" \"After\" \"Funny\" \"stuff\" \"stars\"\n",
              "[172] \"there\" \"funny\" \"today\" \"maybe\" \"crowd\" \"dared\" \"heard\" \"could\" \"Their\"\n",
              "[181] \"about\" \"again\" \"Harry\" \"Nasty\" \"heart\" \"quite\" \"agree\" \"While\" \"crept\"\n",
              "[190] \"front\" \"still\" \"there\" \"Drive\" \"Could\" \"think\" \"could\" \"awake\" \"there\"\n",
              "[199] \"about\" \"their\" \"could\" \"mixed\" \"might\" \"going\" \"wrong\" \"might\" \"sleep\"\n",
              "[208] \"still\" \"fixed\" \"Drive\" \"moved\" \"Drive\" \"beard\" \"which\" \"robes\" \"cloak\"\n",
              "[217] \"swept\" \"boots\" \"light\" \"least\" \"twice\" \"Albus\" \"Albus\" \"where\" \"boots\"\n",
              "[226] \"cloak\" \"being\" \"which\" \"still\" \"other\" \"sight\" \"amuse\" \"known\" \"found\"\n",
              "[235] \"again\" \"times\" \"Outer\" \"until\" \"whole\" \"which\" \"their\" \"beady\" \"Outer\"\n",
              "[244] \"cloak\" \"where\" \"after\" \"spoke\" \"Fancy\" \"smile\" \"tabby\" \"woman\" \"shape\"\n",
              "[253] \"cloak\" \"black\" \"drawn\" \"tight\" \"asked\" \"never\" \"stiff\" \"brick\" \"could\"\n",
              "[262] \"dozen\" \"right\" \"think\" \"going\" \"their\" \"heard\" \"stars\" \"bound\" \"stars\"\n",
              "[271] \"never\" \"sense\" \"blame\" \"years\" \"heads\" \"being\" \"broad\" \"threw\" \"sharp\"\n",
              "[280] \"going\" \"thing\" \"would\" \"seems\" \"found\" \"about\" \"seems\" \"Would\" \"lemon\"\n",
              "[289] \"lemon\" \"sweet\" \"thank\" \"think\" \"lemon\" \"drops\" \"years\" \"lemon\" \"drops\"\n",
              "[298] \"never\" \"haven\" \"knows\" \"right\" \"never\" \"noble\" \"lucky\" \"haven\" \"since\"\n",
              "[307] \"Madam\" \"liked\" \"sharp\" \"About\" \"About\" \"point\" \"woman\" \"fixed\" \"stare\"\n",
              "[316] \"plain\" \"going\" \"until\" \"lemon\" \"night\" \"rumor\" \"James\" \"bowed\" \"James\"\n",
              "[325] \"Albus\" \"voice\" \"tried\" \"Harry\" \"knows\" \"Harry\" \"power\" \"broke\" \"After\"\n",
              "[334] \"Harry\" \"guess\" \"never\" \"great\" \"sniff\" \"watch\" \"watch\" \"hands\" \"sense\"\n",
              "[343] \"going\" \"bring\" \"Harry\" \"uncle\" \"cried\" \"Harry\" \"place\" \"uncle\" \"older\"\n",
              "[352] \"think\" \"These\" \"never\" \"today\" \"known\" \"Harry\" \"there\" \"books\" \"about\"\n",
              "[361] \"Harry\" \"every\" \"child\" \"world\" \"would\" \"until\" \"ready\" \"mouth\" \"right\"\n",
              "[370] \"cloak\" \"might\" \"Harry\" \"think\" \"trust\" \"would\" \"trust\" \"heart\" \"right\"\n",
              "[379] \"place\" \"sound\" \"front\" \"twice\" \"least\" \"times\" \"bushy\" \"black\" \"beard\"\n",
              "[388] \"hands\" \"trash\" \"their\" \"boots\" \"where\" \"giant\" \"spoke\" \"Young\" \"Black\"\n",
              "[397] \"there\" \"house\" \"right\" \"flyin\" \"Under\" \"black\" \"could\" \"where\" \"about\"\n",
              "[406] \"could\" \"Scars\" \"handy\" \"above\" \"Harry\" \"house\" \"Could\" \"could\" \"asked\"\n",
              "[415] \"great\" \"Harry\" \"sorry\" \"large\" \"stand\" \"James\" \"Harry\" \"found\" \"front\"\n",
              "[424] \"Harry\" \"cloak\" \"Harry\" \"other\" \"three\" \"stood\" \"shook\" \"light\" \"shone\"\n",
              "[433] \"voice\" \"takin\" \"night\" \"swung\" \"night\" \"shall\" \"reply\" \"Outer\" \"balls\"\n",
              "[442] \"light\" \"their\" \"lamps\" \"Drive\" \"could\" \"tabby\" \"other\" \"could\" \"Harry\"\n",
              "[451] \"swish\" \"cloak\" \"Drive\" \"which\" \"under\" \"place\" \"would\" \"Harry\" \"small\"\n",
              "[460] \"slept\" \"would\" \"woken\" \"hours\" \"front\" \"would\" \"spend\" \"weeks\" \"being\"\n",
              "[469] \"their\" \"Harry\" \"lived\"\n"
            ]
          },
          "metadata": {}
        }
      ]
    },
    {
      "cell_type": "markdown",
      "metadata": {
        "id": "RTl_hAldjYlW"
      },
      "source": [
        "## 🤔 Quiz\n",
        "\n",
        "How many words in `ch1` match the pattern:\n",
        "\n",
        "    <word boundary><capital letter><at least one lowercase letter><word boundary>\n",
        "\n",
        "(Example: `Harry.` matches but ` I ` does not.)\n",
        "\n",
        "<ol style=\"list-style-type: upper-alpha;\">\n",
        "    <li>Less than 100</li>\n",
        "    <li>100-299</li>\n",
        "    <li>300-599</li>\n",
        "    <li>600 or more</li>\n",
        "</ol>\n"
      ]
    },
    {
      "cell_type": "code",
      "execution_count": 79,
      "metadata": {
        "colab": {
          "base_uri": "https://localhost:8080/",
          "height": 34
        },
        "id": "QX1XHb7kjYlW",
        "outputId": "a508eb29-8a9a-443b-894c-bf396d7f2fa2"
      },
      "outputs": [
        {
          "output_type": "display_data",
          "data": {
            "text/html": [
              "600"
            ],
            "text/markdown": "600",
            "text/latex": "600",
            "text/plain": [
              "[1] 600"
            ]
          },
          "metadata": {}
        }
      ],
      "source": [
        "# cap words\n",
        "str_count(ch1, '\\\\b[A-Z][a-z]+\\\\b')"
      ]
    },
    {
      "cell_type": "markdown",
      "metadata": {
        "id": "V-ZlAh4djYlX"
      },
      "source": [
        "Let's return to an example from last lecture: find all the character names in Harry Potter. By matching all words that start with capital letters, we're off to a good start. But we pick up the beginning word of any sentence, resulting in a lot of false matches. Let's use quantifiers to restrict to only longer words, say capitalized words that are at least six characters long."
      ]
    },
    {
      "cell_type": "markdown",
      "metadata": {
        "id": "VI6a2-onjYlX"
      },
      "source": [
        "Our pattern becomes:\n",
        "\n",
        "    <word boundary><Capital letter><at least five lowercase letters><word boundary>"
      ]
    },
    {
      "cell_type": "code",
      "execution_count": 91,
      "metadata": {
        "colab": {
          "base_uri": "https://localhost:8080/",
          "height": 249
        },
        "id": "v67nLso4jYlX",
        "outputId": "914bd317-33d7-4191-8be8-6d3fbc2bfff0"
      },
      "outputs": [
        {
          "output_type": "display_data",
          "data": {
            "text/plain": [
              ".\n",
              "   Although     Bonfire    Borrowed     Bristol     Britain     Dedalus \n",
              "          1           1           1           1           1           1 \n",
              " Dumbledore     Dursley  Dursleyish    Dursleys    Everyone     Exactly \n",
              "         37          47           1           7           1           1 \n",
              "    Experts    Gonagall   Grunnings     Instead     Muggles  Mysterious \n",
              "          1          26           2           2           6           1 \n",
              "    Nothing     Perhaps     Petunia     Pomfrey     Potters   Professor \n",
              "          1           1           3           1          10          30 \n",
              "    Rejoice    Shooting     Tuesday Underground     Viewers   Voldemort \n",
              "          1           2           1           1           1           6 \n",
              "  Yorkshire \n",
              "          1 "
            ]
          },
          "metadata": {}
        }
      ],
      "source": [
        "# all starting with cap words that have at least six characters\n",
        "\n",
        "str_extract_all(ch1, '[A-Z][a-z]{6,}') %>% table"
      ]
    },
    {
      "cell_type": "markdown",
      "metadata": {
        "id": "45_BpL2bjYlX"
      },
      "source": [
        "## Grouping\n",
        "In the previous exercise we found that \"Professor\" is one of the most common capitalized words. Is there a character named Professor, or is it just a title? Now let us try to match one or more capitalized words in a row. We can accomplish this by creating a *group*, and then applying a quantifier to it. "
      ]
    },
    {
      "cell_type": "markdown",
      "metadata": {
        "id": "y8AC5IoIjYlX"
      },
      "source": [
        "To create a group, I surround a part of my regexp with parentheses:"
      ]
    },
    {
      "cell_type": "code",
      "execution_count": null,
      "metadata": {
        "id": "Lr3IraFKjYlX"
      },
      "outputs": [],
      "source": [
        "str_view(\"this will be grouped\", \"[a-z]+ ?\")\n",
        "str_view(\"this will be grouped\", \"([a-z]+ ?)\")"
      ]
    },
    {
      "cell_type": "markdown",
      "metadata": {
        "id": "2GZoiRCJjYlX"
      },
      "source": [
        "The parentheses do not change the regular expression (but they are doing something else, which we will discuss shortly.) But now I can apply a quantifier to the whole group:"
      ]
    },
    {
      "cell_type": "code",
      "execution_count": null,
      "metadata": {
        "id": "2UviocujjYlY"
      },
      "outputs": [],
      "source": [
        "str_view(\"this will be grouped\", \"([a-z]+ ?)+\")"
      ]
    },
    {
      "cell_type": "markdown",
      "metadata": {
        "id": "QA_4HM5xjYlY"
      },
      "source": [
        "So now we take the previous pattern and group it:\n",
        "\n",
        "    (<word boundary><Capital letter><at least five lowercase letters><word boundary>){match 1+ times}"
      ]
    },
    {
      "cell_type": "code",
      "execution_count": 93,
      "metadata": {
        "colab": {
          "base_uri": "https://localhost:8080/",
          "height": 535
        },
        "id": "Ga2Q8rHOjYlY",
        "outputId": "6e3def32-3692-4e5a-9b3a-baa4803e2039"
      },
      "outputs": [
        {
          "output_type": "display_data",
          "data": {
            "text/plain": [
              ".\n",
              "           Although              Bonfire             Borrowed  \n",
              "                   1                    1                    1 \n",
              "             Bristol              Britain             Dedalus  \n",
              "                   1                    1                    1 \n",
              "          Dumbledore          Dumbledore               Dursley \n",
              "                  16                   19                    9 \n",
              "            Dursley           Dursleyish              Dursleys \n",
              "                  38                    1                    2 \n",
              "           Dursleys             Everyone               Exactly \n",
              "                   5                    1                    1 \n",
              "            Experts              Gonagall            Gonagall  \n",
              "                   1                   10                   16 \n",
              "           Grunnings           Grunnings              Instead  \n",
              "                   1                    1                    2 \n",
              "             Muggles             Muggles           Mysterious  \n",
              "                   1                    5                    1 \n",
              "            Nothing              Perhaps               Petunia \n",
              "                   1                    1                    1 \n",
              "            Petunia              Pomfrey               Potters \n",
              "                   2                    1                    5 \n",
              "            Potters             Professor           Professor  \n",
              "                   5                    2                   26 \n",
              "Professor Dumbledore              Rejoice            Shooting  \n",
              "                   2                    1                    2 \n",
              "            Tuesday           Underground             Viewers  \n",
              "                   1                    1                    1 \n",
              "           Voldemort           Voldemort             Yorkshire \n",
              "                   4                    2                    1 "
            ]
          },
          "metadata": {}
        }
      ],
      "source": [
        "# match one or more cap words in a row\n",
        "str_extract_all(ch1, '([A-Z][a-z]{6,} ?)+') %>% table"
      ]
    },
    {
      "cell_type": "markdown",
      "metadata": {
        "id": "N7VmWfojjYla"
      },
      "source": [
        "## Negations\n",
        "Earlier we looked at quotations. The first quotation in chapter 1 is:"
      ]
    },
    {
      "cell_type": "code",
      "execution_count": null,
      "metadata": {
        "id": "bocudtgljYla",
        "outputId": "6ff5f5d2-c737-45e2-87d3-2cd68d3d1d28"
      },
      "outputs": [
        {
          "data": {
            "text/html": [
              "'\"Little tyke,\"'"
            ],
            "text/latex": [
              "'\"Little tyke,\"'"
            ],
            "text/markdown": [
              "'\"Little tyke,\"'"
            ],
            "text/plain": [
              "[1] \"\\\"Little tyke,\\\"\""
            ]
          },
          "metadata": {},
          "output_type": "display_data"
        }
      ],
      "source": [
        "str_sub(ch1, 2150, 2163)"
      ]
    },
    {
      "cell_type": "markdown",
      "metadata": {
        "id": "N9RogGrgjYla"
      },
      "source": [
        "How can we find other quotes? The pattern for a quote is a quotation mark, followed by any number of things that are not a quotation mark, followed by another quotation mark:\n",
        "\n",
        "    <quotation mark><anything that is not a quotation mark><quotation mark>\n"
      ]
    },
    {
      "cell_type": "code",
      "source": [
        "str_extract_all(ch1, '\\\"[^\"]+\\\"') "
      ],
      "metadata": {
        "id": "QnQ3lb3bQF7B",
        "outputId": "64f18b90-914c-4c5e-e869-ec67fc7b29cf",
        "colab": {
          "base_uri": "https://localhost:8080/",
          "height": 1000
        }
      },
      "execution_count": 94,
      "outputs": [
        {
          "output_type": "display_data",
          "data": {
            "text/html": [
              "<ol>\n",
              "\t<li><style>\n",
              ".list-inline {list-style: none; margin:0; padding: 0}\n",
              ".list-inline>li {display: inline-block}\n",
              ".list-inline>li:not(:last-child)::after {content: \"\\00b7\"; padding: 0 .5ex}\n",
              "</style>\n",
              "<ol class=list-inline><li>'\"Little tyke,\"'</li><li>'\"The Potters, that\\'s right, that\\'s what I heard yes, their son, Harry\"'</li><li>'\"Sorry,\"'</li><li>'\"Don\\'t be sorry, my dear sir, for nothing could upset me today! Rejoice, for You-Know-Who has gone at last! Even Muggles like yourself should be celebrating, this happy, happy day!\"'</li><li>'\"Shoo!\"'</li><li>'\"Won\\'t!\"'</li><li>'\"And finally, bird-watchers everywhere have reported that the nation\\'s owls have been behaving very unusually today. Although owls normally hunt at night and are hardly ever seen in daylight, there have been hundreds of sightings of these birds flying in every direction since sunrise. Experts are unable to explain why the owls have suddenly changed their sleeping pattern.\"'</li><li>'\"Most mysterious. And now, over to Jim McGuffin with the weather. Going to be any more showers of owls tonight, Jim?\"'</li><li>'\"Well, Ted,\"'</li><li>'\"I don\\'t know about that, but it\\'s not only the owls that have been acting oddly today. Viewers as far apart as Kent, Yorkshire, and Dundee have been phoning in to tell me that instead of the rain I promised yesterday, they\\'ve had a downpour of shooting stars! Perhaps people have been celebrating Bonfire Night early -- it\\'s not until next week, folks! But I can promise a wet night tonight.\"'</li><li>'\"Er -- Petunia, dear -- you haven\\'t heard from your sister lately, have you?\"'</li><li>'\"No,\"'</li><li>'\"Why?\"'</li><li>'\"Funny stuff on the news,\"'</li><li>'\"Owls... shooting stars... and there were a lot of funny-looking people in town today...\"'</li><li>'\"So?\"'</li><li>'\"Well, I just thought... maybe... it was something to do with... you know... her crowd.\"'</li><li>'\"Potter.\"'</li><li>'\"Their son -- he\\'d be about Dudley\\'s age now, wouldn\\'t he?\"'</li><li>'\"I suppose so,\"'</li><li>'\"What\\'s his name again? Howard, isn\\'t it?\"'</li><li>'\"Harry. Nasty, common name, if you ask me.\"'</li><li>'\"Oh, yes,\"'</li><li>'\"Yes, I quite agree.\"'</li><li>'\"I should have known.\"'</li><li>'\"Fancy seeing you here, Professor McGonagall.\"'</li><li>'\"How did you know it was me?\"'</li><li>'\"My dear Professor, I \\'ve never seen a cat sit so stiffly.\"'</li><li>'\"You\\'d be stiff if you\\'d been sitting on a brick wall all day,\"'</li><li>'\"All day? When you could have been celebrating? I must have passed a dozen feasts and parties on my way here.\"'</li><li>'\"Oh yes, everyone\\'s celebrating, all right,\"'</li><li>'\"You\\'d think they\\'d be a bit more careful, but no -- even the Muggles have noticed something\\'s going on. It was on their news.\"'</li><li>'\"I heard it. Flocks of owls... shooting stars.... Well, they\\'re not completely stupid. They were bound to notice something. Shooting stars down in Kent -- I\\'ll bet that was Dedalus Diggle. He never had much sense.\"'</li><li>'\"You can\\'t blame them,\"'</li><li>'\"We\\'ve had precious little to celebrate for eleven years.\"'</li><li>'\"I know that,\"'</li><li>'\"But that\\'s no reason to lose our heads. People are being downright careless, out on the streets in broad daylight, not even dressed in Muggle clothes, swapping rumors.\"'</li><li>'\"A fine thing it would be if, on the very day YouKnow-Who seems to have disappeared at last, the Muggles found out about us all. I suppose he really has gone, Dumbledore?\"'</li><li>'\"It certainly seems so,\"'</li><li>'\"We have much to be thankful for. Would you care for a lemon drop?\"'</li><li>'\"A what?\"'</li><li>'\"A lemon drop. They\\'re a kind of Muggle sweet I\\'m rather fond of\"'</li><li>'\"No, thank you,\"'</li><li>'\"As I say, even if You-Know-Who has gone -\"'</li><li>'\"My dear Professor, surely a sensible person like yourself can call him by his name? All this \\'You- Know-Who\\' nonsense -- for eleven years I have been trying to persuade people to call him by his proper name: Voldemort.\"'</li><li>'\"It all gets so confusing if we keep saying \\'You-Know-Who.\\' I have never seen any reason to be frightened of saying Voldemort\\'s name.　　\"'</li><li>'\"But you\\'re different. Everyone knows you\\'re the only one You-Know- oh, all right, Voldemort, was frightened of.\"'</li><li>'\"You flatter me,\"'</li><li>'\"Voldemort had powers I will never have.\"'</li><li>'\"Only because you\\'re too -- well -- noble to use them.\"'</li><li>'\"It\\'s lucky it\\'s dark. I haven\\'t blushed so much since Madam Pomfrey told me she liked my new earmuffs.\"'</li><li>'\"The owls are nothing next to the rumors that are flying around. You know what everyone\\'s saying? About why he\\'s disappeared? About what finally stopped him?\"'</li><li>'\"everyone\"'</li><li>'\"What they\\'re saying,\"'</li><li>'\"is that last night Voldemort turned up in Godric\\'s Hollow. He went to find the Potters. The rumor is that Lily and James Potter are -- are -- that they\\'re -- dead. \"'</li><li>'\"Lily and James... I can\\'t believe it... I didn\\'t want to believe it... Oh, Albus...\"'</li><li>'\"I know... I know...\"'</li><li>'\"That\\'s not all. They\\'re saying he tried to kill the Potter\\'s son, Harry. But -- he couldn\\'t. He couldn\\'t kill that little boy. No one knows why, or how, but they\\'re saying that when he couldn\\'t kill Harry Potter, Voldemort\\'s power somehow broke -- and that\\'s why he\\'s gone.　　Dumbledore nodded glumly.　　\"'</li><li>'\" faltered Professor McGonagall. \"'</li><li>'\"　　\"'</li><li>'\" said Dumbledore. \"'</li><li>'\"　　Professor McGonagall pulled out a lace handkerchief and dabbed at her eyes beneath her spectacles. Dumbledore gave a great sniff as he took a golden watch from his pocket and examined it. It was a very odd watch. It had twelve hands but no numbers; instead, little planets were moving around the edge. It must have made sense to Dumbledore, though, because he put it back in his pocket and said, \"'</li><li>'\"　　\"'</li><li>'\" said Professor McGonagall. \"'</li><li>'\"　　\"'</li><li>'\"　　\"'</li><li>'\" cried Professor McGonagall, jumping to her feet and pointing at number four. \"'</li><li>'\"　　\"'</li><li>'\" said Dumbledore firmly. \"'</li><li>'\"　　\"'</li><li>'\" repeated Professor McGonagall faintly, sitting back down on the wall. \"'</li><li>'\"　　\"'</li><li>'\" said Dumbledore, looking very seriously over the top of his half-moon glasses. \"'</li><li>'\"　　Professor McGonagall opened her mouth, changed her mind, swallowed, and then said, \"'</li><li>'\" She eyed his cloak suddenly as though she thought he might be hiding Harry underneath it.　　\"'</li><li>'\"　　\"'</li><li>'\"　　I would trust Hagrid with my life,\"'</li><li>'\"I\\'m not saying his heart isn\\'t in the right place,\"'</li><li>'\"but you can\\'t pretend he\\'s not careless. He does tend to -- what was that?\"'</li><li>'\"Hagrid,\"'</li><li>'\"At last. And where did you get that motorcycle?\"'</li><li>'\"Borrowed it, Professor Dumbledore, sit,\"'</li><li>'\"Young Sirius Black lent it to me. I\\'ve got him, sir.\"'</li><li>'\"No problems, were there?\"'</li><li>'\"No, sir -- house was almost destroyed, but I got him out all right before the Muggles started swarmin\\' around. He fell asleep as we was flyin\\' over Bristol.\"'</li><li>'\"Is that where -?\"'</li><li>'\"Yes,\"'</li><li>'\"He\\'ll have that scar forever.\"'</li><li>'\"Couldn\\'t you do something about it, Dumbledore?\"'</li><li>'\"Even if I could, I wouldn\\'t. Scars can come in handy. I have one myself above my left knee that is a perfect map of the London Underground. Well -- give him here, Hagrid -- we\\'d better get this over with.\"'</li><li>'\"Could I -- could I say good-bye to him, sir?\"'</li><li>'\"Shhh!\"'</li><li>'\"you\\'ll wake the Muggles!\"'</li><li>'\"S-s-sorry,\"'</li><li>'\"But I c-c-can\\'t stand it -- Lily an\\' James dead -- an\\' poor little Harry off ter live with Muggles -\"'</li><li>'\"Yes, yes, it\\'s all very sad, but get a grip on yourself, Hagrid, or we\\'ll be found,\"'</li><li>'\"Well,\"'</li><li>'\"that\\'s that. We\\'ve no business staying here. We may as well go and join the celebrations.\"'</li><li>'\"Yeah,\"'</li><li>'\"I\\'ll be takin\\' Sirius his bike back. G\\'night, Professor McGonagall -- Professor Dumbledore, sir.\"'</li><li>'\"I shall see you soon, I expect, Professor McGonagall,\"'</li><li>'\"Good luck, Harry,\"'</li></ol>\n",
              "</li>\n",
              "</ol>\n"
            ],
            "text/markdown": "1. 1. '\"Little tyke,\"'\n2. '\"The Potters, that\\'s right, that\\'s what I heard yes, their son, Harry\"'\n3. '\"Sorry,\"'\n4. '\"Don\\'t be sorry, my dear sir, for nothing could upset me today! Rejoice, for You-Know-Who has gone at last! Even Muggles like yourself should be celebrating, this happy, happy day!\"'\n5. '\"Shoo!\"'\n6. '\"Won\\'t!\"'\n7. '\"And finally, bird-watchers everywhere have reported that the nation\\'s owls have been behaving very unusually today. Although owls normally hunt at night and are hardly ever seen in daylight, there have been hundreds of sightings of these birds flying in every direction since sunrise. Experts are unable to explain why the owls have suddenly changed their sleeping pattern.\"'\n8. '\"Most mysterious. And now, over to Jim McGuffin with the weather. Going to be any more showers of owls tonight, Jim?\"'\n9. '\"Well, Ted,\"'\n10. '\"I don\\'t know about that, but it\\'s not only the owls that have been acting oddly today. Viewers as far apart as Kent, Yorkshire, and Dundee have been phoning in to tell me that instead of the rain I promised yesterday, they\\'ve had a downpour of shooting stars! Perhaps people have been celebrating Bonfire Night early -- it\\'s not until next week, folks! But I can promise a wet night tonight.\"'\n11. '\"Er -- Petunia, dear -- you haven\\'t heard from your sister lately, have you?\"'\n12. '\"No,\"'\n13. '\"Why?\"'\n14. '\"Funny stuff on the news,\"'\n15. '\"Owls... shooting stars... and there were a lot of funny-looking people in town today...\"'\n16. '\"So?\"'\n17. '\"Well, I just thought... maybe... it was something to do with... you know... her crowd.\"'\n18. '\"Potter.\"'\n19. '\"Their son -- he\\'d be about Dudley\\'s age now, wouldn\\'t he?\"'\n20. '\"I suppose so,\"'\n21. '\"What\\'s his name again? Howard, isn\\'t it?\"'\n22. '\"Harry. Nasty, common name, if you ask me.\"'\n23. '\"Oh, yes,\"'\n24. '\"Yes, I quite agree.\"'\n25. '\"I should have known.\"'\n26. '\"Fancy seeing you here, Professor McGonagall.\"'\n27. '\"How did you know it was me?\"'\n28. '\"My dear Professor, I \\'ve never seen a cat sit so stiffly.\"'\n29. '\"You\\'d be stiff if you\\'d been sitting on a brick wall all day,\"'\n30. '\"All day? When you could have been celebrating? I must have passed a dozen feasts and parties on my way here.\"'\n31. '\"Oh yes, everyone\\'s celebrating, all right,\"'\n32. '\"You\\'d think they\\'d be a bit more careful, but no -- even the Muggles have noticed something\\'s going on. It was on their news.\"'\n33. '\"I heard it. Flocks of owls... shooting stars.... Well, they\\'re not completely stupid. They were bound to notice something. Shooting stars down in Kent -- I\\'ll bet that was Dedalus Diggle. He never had much sense.\"'\n34. '\"You can\\'t blame them,\"'\n35. '\"We\\'ve had precious little to celebrate for eleven years.\"'\n36. '\"I know that,\"'\n37. '\"But that\\'s no reason to lose our heads. People are being downright careless, out on the streets in broad daylight, not even dressed in Muggle clothes, swapping rumors.\"'\n38. '\"A fine thing it would be if, on the very day YouKnow-Who seems to have disappeared at last, the Muggles found out about us all. I suppose he really has gone, Dumbledore?\"'\n39. '\"It certainly seems so,\"'\n40. '\"We have much to be thankful for. Would you care for a lemon drop?\"'\n41. '\"A what?\"'\n42. '\"A lemon drop. They\\'re a kind of Muggle sweet I\\'m rather fond of\"'\n43. '\"No, thank you,\"'\n44. '\"As I say, even if You-Know-Who has gone -\"'\n45. '\"My dear Professor, surely a sensible person like yourself can call him by his name? All this \\'You- Know-Who\\' nonsense -- for eleven years I have been trying to persuade people to call him by his proper name: Voldemort.\"'\n46. '\"It all gets so confusing if we keep saying \\'You-Know-Who.\\' I have never seen any reason to be frightened of saying Voldemort\\'s name.　　\"'\n47. '\"But you\\'re different. Everyone knows you\\'re the only one You-Know- oh, all right, Voldemort, was frightened of.\"'\n48. '\"You flatter me,\"'\n49. '\"Voldemort had powers I will never have.\"'\n50. '\"Only because you\\'re too -- well -- noble to use them.\"'\n51. '\"It\\'s lucky it\\'s dark. I haven\\'t blushed so much since Madam Pomfrey told me she liked my new earmuffs.\"'\n52. '\"The owls are nothing next to the rumors that are flying around. You know what everyone\\'s saying? About why he\\'s disappeared? About what finally stopped him?\"'\n53. '\"everyone\"'\n54. '\"What they\\'re saying,\"'\n55. '\"is that last night Voldemort turned up in Godric\\'s Hollow. He went to find the Potters. The rumor is that Lily and James Potter are -- are -- that they\\'re -- dead. \"'\n56. '\"Lily and James... I can\\'t believe it... I didn\\'t want to believe it... Oh, Albus...\"'\n57. '\"I know... I know...\"'\n58. '\"That\\'s not all. They\\'re saying he tried to kill the Potter\\'s son, Harry. But -- he couldn\\'t. He couldn\\'t kill that little boy. No one knows why, or how, but they\\'re saying that when he couldn\\'t kill Harry Potter, Voldemort\\'s power somehow broke -- and that\\'s why he\\'s gone.　　Dumbledore nodded glumly.　　\"'\n59. '\" faltered Professor McGonagall. \"'\n60. '\"　　\"'\n61. '\" said Dumbledore. \"'\n62. '\"　　Professor McGonagall pulled out a lace handkerchief and dabbed at her eyes beneath her spectacles. Dumbledore gave a great sniff as he took a golden watch from his pocket and examined it. It was a very odd watch. It had twelve hands but no numbers; instead, little planets were moving around the edge. It must have made sense to Dumbledore, though, because he put it back in his pocket and said, \"'\n63. '\"　　\"'\n64. '\" said Professor McGonagall. \"'\n65. '\"　　\"'\n66. '\"　　\"'\n67. '\" cried Professor McGonagall, jumping to her feet and pointing at number four. \"'\n68. '\"　　\"'\n69. '\" said Dumbledore firmly. \"'\n70. '\"　　\"'\n71. '\" repeated Professor McGonagall faintly, sitting back down on the wall. \"'\n72. '\"　　\"'\n73. '\" said Dumbledore, looking very seriously over the top of his half-moon glasses. \"'\n74. '\"　　Professor McGonagall opened her mouth, changed her mind, swallowed, and then said, \"'\n75. '\" She eyed his cloak suddenly as though she thought he might be hiding Harry underneath it.　　\"'\n76. '\"　　\"'\n77. '\"　　I would trust Hagrid with my life,\"'\n78. '\"I\\'m not saying his heart isn\\'t in the right place,\"'\n79. '\"but you can\\'t pretend he\\'s not careless. He does tend to -- what was that?\"'\n80. '\"Hagrid,\"'\n81. '\"At last. And where did you get that motorcycle?\"'\n82. '\"Borrowed it, Professor Dumbledore, sit,\"'\n83. '\"Young Sirius Black lent it to me. I\\'ve got him, sir.\"'\n84. '\"No problems, were there?\"'\n85. '\"No, sir -- house was almost destroyed, but I got him out all right before the Muggles started swarmin\\' around. He fell asleep as we was flyin\\' over Bristol.\"'\n86. '\"Is that where -?\"'\n87. '\"Yes,\"'\n88. '\"He\\'ll have that scar forever.\"'\n89. '\"Couldn\\'t you do something about it, Dumbledore?\"'\n90. '\"Even if I could, I wouldn\\'t. Scars can come in handy. I have one myself above my left knee that is a perfect map of the London Underground. Well -- give him here, Hagrid -- we\\'d better get this over with.\"'\n91. '\"Could I -- could I say good-bye to him, sir?\"'\n92. '\"Shhh!\"'\n93. '\"you\\'ll wake the Muggles!\"'\n94. '\"S-s-sorry,\"'\n95. '\"But I c-c-can\\'t stand it -- Lily an\\' James dead -- an\\' poor little Harry off ter live with Muggles -\"'\n96. '\"Yes, yes, it\\'s all very sad, but get a grip on yourself, Hagrid, or we\\'ll be found,\"'\n97. '\"Well,\"'\n98. '\"that\\'s that. We\\'ve no business staying here. We may as well go and join the celebrations.\"'\n99. '\"Yeah,\"'\n100. '\"I\\'ll be takin\\' Sirius his bike back. G\\'night, Professor McGonagall -- Professor Dumbledore, sir.\"'\n101. '\"I shall see you soon, I expect, Professor McGonagall,\"'\n102. '\"Good luck, Harry,\"'\n\n\n\n\n\n",
            "text/latex": "\\begin{enumerate}\n\\item \\begin{enumerate*}\n\\item '\"Little tyke,\"'\n\\item '\"The Potters, that\\textbackslash{}'s right, that\\textbackslash{}'s what I heard yes, their son, Harry\"'\n\\item '\"Sorry,\"'\n\\item '\"Don\\textbackslash{}'t be sorry, my dear sir, for nothing could upset me today! Rejoice, for You-Know-Who has gone at last! Even Muggles like yourself should be celebrating, this happy, happy day!\"'\n\\item '\"Shoo!\"'\n\\item '\"Won\\textbackslash{}'t!\"'\n\\item '\"And finally, bird-watchers everywhere have reported that the nation\\textbackslash{}'s owls have been behaving very unusually today. Although owls normally hunt at night and are hardly ever seen in daylight, there have been hundreds of sightings of these birds flying in every direction since sunrise. Experts are unable to explain why the owls have suddenly changed their sleeping pattern.\"'\n\\item '\"Most mysterious. And now, over to Jim McGuffin with the weather. Going to be any more showers of owls tonight, Jim?\"'\n\\item '\"Well, Ted,\"'\n\\item '\"I don\\textbackslash{}'t know about that, but it\\textbackslash{}'s not only the owls that have been acting oddly today. Viewers as far apart as Kent, Yorkshire, and Dundee have been phoning in to tell me that instead of the rain I promised yesterday, they\\textbackslash{}'ve had a downpour of shooting stars! Perhaps people have been celebrating Bonfire Night early -- it\\textbackslash{}'s not until next week, folks! But I can promise a wet night tonight.\"'\n\\item '\"Er -- Petunia, dear -- you haven\\textbackslash{}'t heard from your sister lately, have you?\"'\n\\item '\"No,\"'\n\\item '\"Why?\"'\n\\item '\"Funny stuff on the news,\"'\n\\item '\"Owls... shooting stars... and there were a lot of funny-looking people in town today...\"'\n\\item '\"So?\"'\n\\item '\"Well, I just thought... maybe... it was something to do with... you know... her crowd.\"'\n\\item '\"Potter.\"'\n\\item '\"Their son -- he\\textbackslash{}'d be about Dudley\\textbackslash{}'s age now, wouldn\\textbackslash{}'t he?\"'\n\\item '\"I suppose so,\"'\n\\item '\"What\\textbackslash{}'s his name again? Howard, isn\\textbackslash{}'t it?\"'\n\\item '\"Harry. Nasty, common name, if you ask me.\"'\n\\item '\"Oh, yes,\"'\n\\item '\"Yes, I quite agree.\"'\n\\item '\"I should have known.\"'\n\\item '\"Fancy seeing you here, Professor McGonagall.\"'\n\\item '\"How did you know it was me?\"'\n\\item '\"My dear Professor, I \\textbackslash{}'ve never seen a cat sit so stiffly.\"'\n\\item '\"You\\textbackslash{}'d be stiff if you\\textbackslash{}'d been sitting on a brick wall all day,\"'\n\\item '\"All day? When you could have been celebrating? I must have passed a dozen feasts and parties on my way here.\"'\n\\item '\"Oh yes, everyone\\textbackslash{}'s celebrating, all right,\"'\n\\item '\"You\\textbackslash{}'d think they\\textbackslash{}'d be a bit more careful, but no -- even the Muggles have noticed something\\textbackslash{}'s going on. It was on their news.\"'\n\\item '\"I heard it. Flocks of owls... shooting stars.... Well, they\\textbackslash{}'re not completely stupid. They were bound to notice something. Shooting stars down in Kent -- I\\textbackslash{}'ll bet that was Dedalus Diggle. He never had much sense.\"'\n\\item '\"You can\\textbackslash{}'t blame them,\"'\n\\item '\"We\\textbackslash{}'ve had precious little to celebrate for eleven years.\"'\n\\item '\"I know that,\"'\n\\item '\"But that\\textbackslash{}'s no reason to lose our heads. People are being downright careless, out on the streets in broad daylight, not even dressed in Muggle clothes, swapping rumors.\"'\n\\item '\"A fine thing it would be if, on the very day YouKnow-Who seems to have disappeared at last, the Muggles found out about us all. I suppose he really has gone, Dumbledore?\"'\n\\item '\"It certainly seems so,\"'\n\\item '\"We have much to be thankful for. Would you care for a lemon drop?\"'\n\\item '\"A what?\"'\n\\item '\"A lemon drop. They\\textbackslash{}'re a kind of Muggle sweet I\\textbackslash{}'m rather fond of\"'\n\\item '\"No, thank you,\"'\n\\item '\"As I say, even if You-Know-Who has gone -\"'\n\\item '\"My dear Professor, surely a sensible person like yourself can call him by his name? All this \\textbackslash{}'You- Know-Who\\textbackslash{}' nonsense -- for eleven years I have been trying to persuade people to call him by his proper name: Voldemort.\"'\n\\item '\"It all gets so confusing if we keep saying \\textbackslash{}'You-Know-Who.\\textbackslash{}' I have never seen any reason to be frightened of saying Voldemort\\textbackslash{}'s name.　　\"'\n\\item '\"But you\\textbackslash{}'re different. Everyone knows you\\textbackslash{}'re the only one You-Know- oh, all right, Voldemort, was frightened of.\"'\n\\item '\"You flatter me,\"'\n\\item '\"Voldemort had powers I will never have.\"'\n\\item '\"Only because you\\textbackslash{}'re too -- well -- noble to use them.\"'\n\\item '\"It\\textbackslash{}'s lucky it\\textbackslash{}'s dark. I haven\\textbackslash{}'t blushed so much since Madam Pomfrey told me she liked my new earmuffs.\"'\n\\item '\"The owls are nothing next to the rumors that are flying around. You know what everyone\\textbackslash{}'s saying? About why he\\textbackslash{}'s disappeared? About what finally stopped him?\"'\n\\item '\"everyone\"'\n\\item '\"What they\\textbackslash{}'re saying,\"'\n\\item '\"is that last night Voldemort turned up in Godric\\textbackslash{}'s Hollow. He went to find the Potters. The rumor is that Lily and James Potter are -- are -- that they\\textbackslash{}'re -- dead. \"'\n\\item '\"Lily and James... I can\\textbackslash{}'t believe it... I didn\\textbackslash{}'t want to believe it... Oh, Albus...\"'\n\\item '\"I know... I know...\"'\n\\item '\"That\\textbackslash{}'s not all. They\\textbackslash{}'re saying he tried to kill the Potter\\textbackslash{}'s son, Harry. But -- he couldn\\textbackslash{}'t. He couldn\\textbackslash{}'t kill that little boy. No one knows why, or how, but they\\textbackslash{}'re saying that when he couldn\\textbackslash{}'t kill Harry Potter, Voldemort\\textbackslash{}'s power somehow broke -- and that\\textbackslash{}'s why he\\textbackslash{}'s gone.　　Dumbledore nodded glumly.　　\"'\n\\item '\" faltered Professor McGonagall. \"'\n\\item '\"　　\"'\n\\item '\" said Dumbledore. \"'\n\\item '\"　　Professor McGonagall pulled out a lace handkerchief and dabbed at her eyes beneath her spectacles. Dumbledore gave a great sniff as he took a golden watch from his pocket and examined it. It was a very odd watch. It had twelve hands but no numbers; instead, little planets were moving around the edge. It must have made sense to Dumbledore, though, because he put it back in his pocket and said, \"'\n\\item '\"　　\"'\n\\item '\" said Professor McGonagall. \"'\n\\item '\"　　\"'\n\\item '\"　　\"'\n\\item '\" cried Professor McGonagall, jumping to her feet and pointing at number four. \"'\n\\item '\"　　\"'\n\\item '\" said Dumbledore firmly. \"'\n\\item '\"　　\"'\n\\item '\" repeated Professor McGonagall faintly, sitting back down on the wall. \"'\n\\item '\"　　\"'\n\\item '\" said Dumbledore, looking very seriously over the top of his half-moon glasses. \"'\n\\item '\"　　Professor McGonagall opened her mouth, changed her mind, swallowed, and then said, \"'\n\\item '\" She eyed his cloak suddenly as though she thought he might be hiding Harry underneath it.　　\"'\n\\item '\"　　\"'\n\\item '\"　　I would trust Hagrid with my life,\"'\n\\item '\"I\\textbackslash{}'m not saying his heart isn\\textbackslash{}'t in the right place,\"'\n\\item '\"but you can\\textbackslash{}'t pretend he\\textbackslash{}'s not careless. He does tend to -- what was that?\"'\n\\item '\"Hagrid,\"'\n\\item '\"At last. And where did you get that motorcycle?\"'\n\\item '\"Borrowed it, Professor Dumbledore, sit,\"'\n\\item '\"Young Sirius Black lent it to me. I\\textbackslash{}'ve got him, sir.\"'\n\\item '\"No problems, were there?\"'\n\\item '\"No, sir -- house was almost destroyed, but I got him out all right before the Muggles started swarmin\\textbackslash{}' around. He fell asleep as we was flyin\\textbackslash{}' over Bristol.\"'\n\\item '\"Is that where -?\"'\n\\item '\"Yes,\"'\n\\item '\"He\\textbackslash{}'ll have that scar forever.\"'\n\\item '\"Couldn\\textbackslash{}'t you do something about it, Dumbledore?\"'\n\\item '\"Even if I could, I wouldn\\textbackslash{}'t. Scars can come in handy. I have one myself above my left knee that is a perfect map of the London Underground. Well -- give him here, Hagrid -- we\\textbackslash{}'d better get this over with.\"'\n\\item '\"Could I -- could I say good-bye to him, sir?\"'\n\\item '\"Shhh!\"'\n\\item '\"you\\textbackslash{}'ll wake the Muggles!\"'\n\\item '\"S-s-sorry,\"'\n\\item '\"But I c-c-can\\textbackslash{}'t stand it -- Lily an\\textbackslash{}' James dead -- an\\textbackslash{}' poor little Harry off ter live with Muggles -\"'\n\\item '\"Yes, yes, it\\textbackslash{}'s all very sad, but get a grip on yourself, Hagrid, or we\\textbackslash{}'ll be found,\"'\n\\item '\"Well,\"'\n\\item '\"that\\textbackslash{}'s that. We\\textbackslash{}'ve no business staying here. We may as well go and join the celebrations.\"'\n\\item '\"Yeah,\"'\n\\item '\"I\\textbackslash{}'ll be takin\\textbackslash{}' Sirius his bike back. G\\textbackslash{}'night, Professor McGonagall -- Professor Dumbledore, sir.\"'\n\\item '\"I shall see you soon, I expect, Professor McGonagall,\"'\n\\item '\"Good luck, Harry,\"'\n\\end{enumerate*}\n\n\\end{enumerate}\n",
            "text/plain": [
              "[[1]]\n",
              "  [1] \"\\\"Little tyke,\\\"\"                                                                                                                                                                                                                                                                                                                                                                                                    \n",
              "  [2] \"\\\"The Potters, that's right, that's what I heard yes, their son, Harry\\\"\"                                                                                                                                                                                                                                                                                                                                            \n",
              "  [3] \"\\\"Sorry,\\\"\"                                                                                                                                                                                                                                                                                                                                                                                                          \n",
              "  [4] \"\\\"Don't be sorry, my dear sir, for nothing could upset me today! Rejoice, for You-Know-Who has gone at last! Even Muggles like yourself should be celebrating, this happy, happy day!\\\"\"                                                                                                                                                                                                                             \n",
              "  [5] \"\\\"Shoo!\\\"\"                                                                                                                                                                                                                                                                                                                                                                                                           \n",
              "  [6] \"\\\"Won't!\\\"\"                                                                                                                                                                                                                                                                                                                                                                                                          \n",
              "  [7] \"\\\"And finally, bird-watchers everywhere have reported that the nation's owls have been behaving very unusually today. Although owls normally hunt at night and are hardly ever seen in daylight, there have been hundreds of sightings of these birds flying in every direction since sunrise. Experts are unable to explain why the owls have suddenly changed their sleeping pattern.\\\"\"                           \n",
              "  [8] \"\\\"Most mysterious. And now, over to Jim McGuffin with the weather. Going to be any more showers of owls tonight, Jim?\\\"\"                                                                                                                                                                                                                                                                                             \n",
              "  [9] \"\\\"Well, Ted,\\\"\"                                                                                                                                                                                                                                                                                                                                                                                                      \n",
              " [10] \"\\\"I don't know about that, but it's not only the owls that have been acting oddly today. Viewers as far apart as Kent, Yorkshire, and Dundee have been phoning in to tell me that instead of the rain I promised yesterday, they've had a downpour of shooting stars! Perhaps people have been celebrating Bonfire Night early -- it's not until next week, folks! But I can promise a wet night tonight.\\\"\"         \n",
              " [11] \"\\\"Er -- Petunia, dear -- you haven't heard from your sister lately, have you?\\\"\"                                                                                                                                                                                                                                                                                                                                     \n",
              " [12] \"\\\"No,\\\"\"                                                                                                                                                                                                                                                                                                                                                                                                             \n",
              " [13] \"\\\"Why?\\\"\"                                                                                                                                                                                                                                                                                                                                                                                                            \n",
              " [14] \"\\\"Funny stuff on the news,\\\"\"                                                                                                                                                                                                                                                                                                                                                                                        \n",
              " [15] \"\\\"Owls... shooting stars... and there were a lot of funny-looking people in town today...\\\"\"                                                                                                                                                                                                                                                                                                                         \n",
              " [16] \"\\\"So?\\\"\"                                                                                                                                                                                                                                                                                                                                                                                                             \n",
              " [17] \"\\\"Well, I just thought... maybe... it was something to do with... you know... her crowd.\\\"\"                                                                                                                                                                                                                                                                                                                          \n",
              " [18] \"\\\"Potter.\\\"\"                                                                                                                                                                                                                                                                                                                                                                                                         \n",
              " [19] \"\\\"Their son -- he'd be about Dudley's age now, wouldn't he?\\\"\"                                                                                                                                                                                                                                                                                                                                                       \n",
              " [20] \"\\\"I suppose so,\\\"\"                                                                                                                                                                                                                                                                                                                                                                                                   \n",
              " [21] \"\\\"What's his name again? Howard, isn't it?\\\"\"                                                                                                                                                                                                                                                                                                                                                                        \n",
              " [22] \"\\\"Harry. Nasty, common name, if you ask me.\\\"\"                                                                                                                                                                                                                                                                                                                                                                       \n",
              " [23] \"\\\"Oh, yes,\\\"\"                                                                                                                                                                                                                                                                                                                                                                                                        \n",
              " [24] \"\\\"Yes, I quite agree.\\\"\"                                                                                                                                                                                                                                                                                                                                                                                             \n",
              " [25] \"\\\"I should have known.\\\"\"                                                                                                                                                                                                                                                                                                                                                                                            \n",
              " [26] \"\\\"Fancy seeing you here, Professor McGonagall.\\\"\"                                                                                                                                                                                                                                                                                                                                                                    \n",
              " [27] \"\\\"How did you know it was me?\\\"\"                                                                                                                                                                                                                                                                                                                                                                                     \n",
              " [28] \"\\\"My dear Professor, I 've never seen a cat sit so stiffly.\\\"\"                                                                                                                                                                                                                                                                                                                                                       \n",
              " [29] \"\\\"You'd be stiff if you'd been sitting on a brick wall all day,\\\"\"                                                                                                                                                                                                                                                                                                                                                   \n",
              " [30] \"\\\"All day? When you could have been celebrating? I must have passed a dozen feasts and parties on my way here.\\\"\"                                                                                                                                                                                                                                                                                                    \n",
              " [31] \"\\\"Oh yes, everyone's celebrating, all right,\\\"\"                                                                                                                                                                                                                                                                                                                                                                      \n",
              " [32] \"\\\"You'd think they'd be a bit more careful, but no -- even the Muggles have noticed something's going on. It was on their news.\\\"\"                                                                                                                                                                                                                                                                                   \n",
              " [33] \"\\\"I heard it. Flocks of owls... shooting stars.... Well, they're not completely stupid. They were bound to notice something. Shooting stars down in Kent -- I'll bet that was Dedalus Diggle. He never had much sense.\\\"\"                                                                                                                                                                                            \n",
              " [34] \"\\\"You can't blame them,\\\"\"                                                                                                                                                                                                                                                                                                                                                                                           \n",
              " [35] \"\\\"We've had precious little to celebrate for eleven years.\\\"\"                                                                                                                                                                                                                                                                                                                                                        \n",
              " [36] \"\\\"I know that,\\\"\"                                                                                                                                                                                                                                                                                                                                                                                                    \n",
              " [37] \"\\\"But that's no reason to lose our heads. People are being downright careless, out on the streets in broad daylight, not even dressed in Muggle clothes, swapping rumors.\\\"\"                                                                                                                                                                                                                                         \n",
              " [38] \"\\\"A fine thing it would be if, on the very day YouKnow-Who seems to have disappeared at last, the Muggles found out about us all. I suppose he really has gone, Dumbledore?\\\"\"                                                                                                                                                                                                                                       \n",
              " [39] \"\\\"It certainly seems so,\\\"\"                                                                                                                                                                                                                                                                                                                                                                                          \n",
              " [40] \"\\\"We have much to be thankful for. Would you care for a lemon drop?\\\"\"                                                                                                                                                                                                                                                                                                                                               \n",
              " [41] \"\\\"A what?\\\"\"                                                                                                                                                                                                                                                                                                                                                                                                         \n",
              " [42] \"\\\"A lemon drop. They're a kind of Muggle sweet I'm rather fond of\\\"\"                                                                                                                                                                                                                                                                                                                                                 \n",
              " [43] \"\\\"No, thank you,\\\"\"                                                                                                                                                                                                                                                                                                                                                                                                  \n",
              " [44] \"\\\"As I say, even if You-Know-Who has gone -\\\"\"                                                                                                                                                                                                                                                                                                                                                                       \n",
              " [45] \"\\\"My dear Professor, surely a sensible person like yourself can call him by his name? All this 'You- Know-Who' nonsense -- for eleven years I have been trying to persuade people to call him by his proper name: Voldemort.\\\"\"                                                                                                                                                                                      \n",
              " [46] \"\\\"It all gets so confusing if we keep saying 'You-Know-Who.' I have never seen any reason to be frightened of saying Voldemort's name.　　\\\"\"                                                                                                                                                                                                                                                                        \n",
              " [47] \"\\\"But you're different. Everyone knows you're the only one You-Know- oh, all right, Voldemort, was frightened of.\\\"\"                                                                                                                                                                                                                                                                                                 \n",
              " [48] \"\\\"You flatter me,\\\"\"                                                                                                                                                                                                                                                                                                                                                                                                 \n",
              " [49] \"\\\"Voldemort had powers I will never have.\\\"\"                                                                                                                                                                                                                                                                                                                                                                         \n",
              " [50] \"\\\"Only because you're too -- well -- noble to use them.\\\"\"                                                                                                                                                                                                                                                                                                                                                           \n",
              " [51] \"\\\"It's lucky it's dark. I haven't blushed so much since Madam Pomfrey told me she liked my new earmuffs.\\\"\"                                                                                                                                                                                                                                                                                                          \n",
              " [52] \"\\\"The owls are nothing next to the rumors that are flying around. You know what everyone's saying? About why he's disappeared? About what finally stopped him?\\\"\"                                                                                                                                                                                                                                                    \n",
              " [53] \"\\\"everyone\\\"\"                                                                                                                                                                                                                                                                                                                                                                                                        \n",
              " [54] \"\\\"What they're saying,\\\"\"                                                                                                                                                                                                                                                                                                                                                                                            \n",
              " [55] \"\\\"is that last night Voldemort turned up in Godric's Hollow. He went to find the Potters. The rumor is that Lily and James Potter are -- are -- that they're -- dead. \\\"\"                                                                                                                                                                                                                                            \n",
              " [56] \"\\\"Lily and James... I can't believe it... I didn't want to believe it... Oh, Albus...\\\"\"                                                                                                                                                                                                                                                                                                                             \n",
              " [57] \"\\\"I know... I know...\\\"\"                                                                                                                                                                                                                                                                                                                                                                                             \n",
              " [58] \"\\\"That's not all. They're saying he tried to kill the Potter's son, Harry. But -- he couldn't. He couldn't kill that little boy. No one knows why, or how, but they're saying that when he couldn't kill Harry Potter, Voldemort's power somehow broke -- and that's why he's gone.　　Dumbledore nodded glumly.　　\\\"\"                                                                                              \n",
              " [59] \"\\\" faltered Professor McGonagall. \\\"\"                                                                                                                                                                                                                                                                                                                                                                                \n",
              " [60] \"\\\"　　\\\"\"                                                                                                                                                                                                                                                                                                                                                                                                            \n",
              " [61] \"\\\" said Dumbledore. \\\"\"                                                                                                                                                                                                                                                                                                                                                                                              \n",
              " [62] \"\\\"　　Professor McGonagall pulled out a lace handkerchief and dabbed at her eyes beneath her spectacles. Dumbledore gave a great sniff as he took a golden watch from his pocket and examined it. It was a very odd watch. It had twelve hands but no numbers; instead, little planets were moving around the edge. It must have made sense to Dumbledore, though, because he put it back in his pocket and said, \\\"\"\n",
              " [63] \"\\\"　　\\\"\"                                                                                                                                                                                                                                                                                                                                                                                                            \n",
              " [64] \"\\\" said Professor McGonagall. \\\"\"                                                                                                                                                                                                                                                                                                                                                                                    \n",
              " [65] \"\\\"　　\\\"\"                                                                                                                                                                                                                                                                                                                                                                                                            \n",
              " [66] \"\\\"　　\\\"\"                                                                                                                                                                                                                                                                                                                                                                                                            \n",
              " [67] \"\\\" cried Professor McGonagall, jumping to her feet and pointing at number four. \\\"\"                                                                                                                                                                                                                                                                                                                                  \n",
              " [68] \"\\\"　　\\\"\"                                                                                                                                                                                                                                                                                                                                                                                                            \n",
              " [69] \"\\\" said Dumbledore firmly. \\\"\"                                                                                                                                                                                                                                                                                                                                                                                       \n",
              " [70] \"\\\"　　\\\"\"                                                                                                                                                                                                                                                                                                                                                                                                            \n",
              " [71] \"\\\" repeated Professor McGonagall faintly, sitting back down on the wall. \\\"\"                                                                                                                                                                                                                                                                                                                                         \n",
              " [72] \"\\\"　　\\\"\"                                                                                                                                                                                                                                                                                                                                                                                                            \n",
              " [73] \"\\\" said Dumbledore, looking very seriously over the top of his half-moon glasses. \\\"\"                                                                                                                                                                                                                                                                                                                                \n",
              " [74] \"\\\"　　Professor McGonagall opened her mouth, changed her mind, swallowed, and then said, \\\"\"                                                                                                                                                                                                                                                                                                                         \n",
              " [75] \"\\\" She eyed his cloak suddenly as though she thought he might be hiding Harry underneath it.　　\\\"\"                                                                                                                                                                                                                                                                                                                  \n",
              " [76] \"\\\"　　\\\"\"                                                                                                                                                                                                                                                                                                                                                                                                            \n",
              " [77] \"\\\"　　I would trust Hagrid with my life,\\\"\"                                                                                                                                                                                                                                                                                                                                                                          \n",
              " [78] \"\\\"I'm not saying his heart isn't in the right place,\\\"\"                                                                                                                                                                                                                                                                                                                                                              \n",
              " [79] \"\\\"but you can't pretend he's not careless. He does tend to -- what was that?\\\"\"                                                                                                                                                                                                                                                                                                                                      \n",
              " [80] \"\\\"Hagrid,\\\"\"                                                                                                                                                                                                                                                                                                                                                                                                         \n",
              " [81] \"\\\"At last. And where did you get that motorcycle?\\\"\"                                                                                                                                                                                                                                                                                                                                                                 \n",
              " [82] \"\\\"Borrowed it, Professor Dumbledore, sit,\\\"\"                                                                                                                                                                                                                                                                                                                                                                         \n",
              " [83] \"\\\"Young Sirius Black lent it to me. I've got him, sir.\\\"\"                                                                                                                                                                                                                                                                                                                                                            \n",
              " [84] \"\\\"No problems, were there?\\\"\"                                                                                                                                                                                                                                                                                                                                                                                        \n",
              " [85] \"\\\"No, sir -- house was almost destroyed, but I got him out all right before the Muggles started swarmin' around. He fell asleep as we was flyin' over Bristol.\\\"\"                                                                                                                                                                                                                                                    \n",
              " [86] \"\\\"Is that where -?\\\"\"                                                                                                                                                                                                                                                                                                                                                                                                \n",
              " [87] \"\\\"Yes,\\\"\"                                                                                                                                                                                                                                                                                                                                                                                                            \n",
              " [88] \"\\\"He'll have that scar forever.\\\"\"                                                                                                                                                                                                                                                                                                                                                                                   \n",
              " [89] \"\\\"Couldn't you do something about it, Dumbledore?\\\"\"                                                                                                                                                                                                                                                                                                                                                                 \n",
              " [90] \"\\\"Even if I could, I wouldn't. Scars can come in handy. I have one myself above my left knee that is a perfect map of the London Underground. Well -- give him here, Hagrid -- we'd better get this over with.\\\"\"                                                                                                                                                                                                    \n",
              " [91] \"\\\"Could I -- could I say good-bye to him, sir?\\\"\"                                                                                                                                                                                                                                                                                                                                                                    \n",
              " [92] \"\\\"Shhh!\\\"\"                                                                                                                                                                                                                                                                                                                                                                                                           \n",
              " [93] \"\\\"you'll wake the Muggles!\\\"\"                                                                                                                                                                                                                                                                                                                                                                                        \n",
              " [94] \"\\\"S-s-sorry,\\\"\"                                                                                                                                                                                                                                                                                                                                                                                                      \n",
              " [95] \"\\\"But I c-c-can't stand it -- Lily an' James dead -- an' poor little Harry off ter live with Muggles -\\\"\"                                                                                                                                                                                                                                                                                                            \n",
              " [96] \"\\\"Yes, yes, it's all very sad, but get a grip on yourself, Hagrid, or we'll be found,\\\"\"                                                                                                                                                                                                                                                                                                                             \n",
              " [97] \"\\\"Well,\\\"\"                                                                                                                                                                                                                                                                                                                                                                                                           \n",
              " [98] \"\\\"that's that. We've no business staying here. We may as well go and join the celebrations.\\\"\"                                                                                                                                                                                                                                                                                                                       \n",
              " [99] \"\\\"Yeah,\\\"\"                                                                                                                                                                                                                                                                                                                                                                                                           \n",
              "[100] \"\\\"I'll be takin' Sirius his bike back. G'night, Professor McGonagall -- Professor Dumbledore, sir.\\\"\"                                                                                                                                                                                                                                                                                                                \n",
              "[101] \"\\\"I shall see you soon, I expect, Professor McGonagall,\\\"\"                                                                                                                                                                                                                                                                                                                                                           \n",
              "[102] \"\\\"Good luck, Harry,\\\"\"                                                                                                                                                                                                                                                                                                                                                                                               \n"
            ]
          },
          "metadata": {}
        }
      ]
    },
    {
      "cell_type": "markdown",
      "metadata": {
        "id": "FV8wtc1jjYlb"
      },
      "source": [
        "To match this, we will use a *negation*. A negation is a character class that begins with the character \"^\". It matches anything that in *not* inside the character class:"
      ]
    },
    {
      "cell_type": "code",
      "execution_count": null,
      "metadata": {
        "id": "UHp31YDQjYlb",
        "outputId": "3e941035-a1ca-4f8b-a7bd-353345437faf"
      },
      "outputs": [
        {
          "data": {
            "text/plain": [
              "\u001b[90m[1] │\u001b[39m \u001b[36m<m>\u001b[39ma\u001b[36m<tch d>\u001b[39moe\u001b[36m<sn't m>\u001b[39ma\u001b[36m<tch>\u001b[39m"
            ]
          },
          "metadata": {},
          "output_type": "display_data"
        }
      ],
      "source": [
        "str_view_all(\"match doesn't match\", \"[^aeiou]+\")"
      ]
    },
    {
      "cell_type": "markdown",
      "metadata": {
        "id": "DxkB7kYbjYld"
      },
      "source": [
        "To match a quotation, we'll input the pattern that we specified above:"
      ]
    },
    {
      "cell_type": "code",
      "execution_count": null,
      "metadata": {
        "id": "7fnq6bHNjYld",
        "outputId": "4d77b22e-89f2-4e8f-cecc-7ea3019e5fd2"
      },
      "outputs": [
        {
          "data": {
            "text/plain": [
              "\u001b[90m[1] │\u001b[39m \u001b[36m<\"Here is a quotation\">\u001b[39m, said the professor. \u001b[36m<\"And here is another.\">\u001b[39m"
            ]
          },
          "metadata": {},
          "output_type": "display_data"
        }
      ],
      "source": [
        "str_view_all('\"Here is a quotation\", said the professor. \"And here is another.\"',\n",
        "             '\"[^\"]+\"')"
      ]
    },
    {
      "cell_type": "markdown",
      "metadata": {
        "id": "R6rwxmD1jYle"
      },
      "source": [
        "## 🤔 Quiz\n",
        "\n",
        "How many quotations are there in Ch. 1? (Use the pattern shown above.)\n",
        "\n",
        "<ol style=\"list-style-type: upper-alpha;\">\n",
        "    <li>Less than 50</li>\n",
        "    <li>50-100</li>\n",
        "    <li>100-150</li>\n",
        "    <li>150-200</li>\n",
        "</ol>\n"
      ]
    },
    {
      "cell_type": "code",
      "execution_count": 95,
      "metadata": {
        "colab": {
          "base_uri": "https://localhost:8080/",
          "height": 34
        },
        "id": "cXbUFchsjYle",
        "outputId": "53add0ea-2f9a-48ca-f7ef-976323af1c69"
      },
      "outputs": [
        {
          "output_type": "display_data",
          "data": {
            "text/html": [
              "102"
            ],
            "text/markdown": "102",
            "text/latex": "102",
            "text/plain": [
              "[1] 102"
            ]
          },
          "metadata": {}
        }
      ],
      "source": [
        "# number of quotes\n",
        "\n",
        "str_count(ch1, '\\\"[^\"]+\\\"') "
      ]
    },
    {
      "cell_type": "markdown",
      "metadata": {
        "id": "SHWYYOIhjYle"
      },
      "source": [
        "## Backreferences\n",
        "Parentheses define groups that can be referred to later in the match as `\\1`, `\\2` etc. This is called a backreference. For example:\n",
        "\n",
        "    (.)\\1\n",
        "\n",
        "will match the same character repeated twice in a row:"
      ]
    },
    {
      "cell_type": "code",
      "execution_count": null,
      "metadata": {
        "scrolled": true,
        "id": "gqnoDNqQjYlk",
        "outputId": "9cd87d09-d204-49d6-a686-1d690316b7e2"
      },
      "outputs": [
        {
          "data": {
            "text/plain": [
              "\u001b[90m[1] │\u001b[39m \u001b[36m<ee>\u001b[39ml"
            ]
          },
          "metadata": {},
          "output_type": "display_data"
        }
      ],
      "source": [
        "\"eel\"  %>% str_view(\"(.)\\\\1\", match = T)"
      ]
    },
    {
      "cell_type": "markdown",
      "metadata": {
        "id": "q_jSBqimjYlk"
      },
      "source": [
        "## 🤔 Quiz\n",
        "\n",
        "What does this regular expression match?:\n",
        "\n",
        "```\n",
        "(..).*\\\\1\n",
        "```\n",
        "\n",
        "\n",
        "<ol style=\"list-style-type: upper-alpha;\">\n",
        "    <li>Any word that starts and ends with the same character, e.g. `alpha`</li>\n",
        "    <li>Any word that starts and ends with the same two characters, e.g. `church`</li>\n",
        "    <li>Any word that ends with two characters that are found earlier in the string, e.g. `therefore`</li>\n",
        "    <li>I hate regular expressions.</li>\n",
        "</ol>"
      ]
    },
    {
      "cell_type": "code",
      "execution_count": 99,
      "metadata": {
        "colab": {
          "base_uri": "https://localhost:8080/",
          "height": 71
        },
        "id": "V7MC8xlDjYlk",
        "outputId": "95250d13-7fd4-4b5a-9556-05e1e69146ab"
      },
      "outputs": [
        {
          "output_type": "display_data",
          "data": {
            "text/plain": [
              "\u001b[90m[1] │\u001b[39m \u001b[36m<alpha>\u001b[39m"
            ]
          },
          "metadata": {}
        },
        {
          "output_type": "display_data",
          "data": {
            "text/plain": [
              "\u001b[90m[1] │\u001b[39m \u001b[36m<church>\u001b[39m"
            ]
          },
          "metadata": {}
        },
        {
          "output_type": "display_data",
          "data": {
            "text/plain": [
              "\u001b[90m[1] │\u001b[39m \u001b[36m<therefore>\u001b[39m"
            ]
          },
          "metadata": {}
        }
      ],
      "source": [
        "# what's it match?\n",
        "\n",
        "str_view('alpha', '(.).+\\\\1')\n",
        "\n",
        "str_view('church', '(..).+\\\\1')\n",
        "\n",
        "str_view('therefore', '.+(..).+\\\\1')"
      ]
    },
    {
      "cell_type": "markdown",
      "metadata": {
        "id": "l91tariljYll"
      },
      "source": [
        "## Anchors\n",
        "Sometimes we want a match to occur at a particular position in the string. For example, \"all words which start with b\". For this we have the special anchor characters: `^` and `$`. The caret `^` matches the beginning of a string. The `$` matches the end."
      ]
    },
    {
      "cell_type": "code",
      "execution_count": null,
      "metadata": {
        "id": "8bu_qRm4jYll",
        "outputId": "4bbae1f1-b506-44e8-fd6e-7bcff1f2b9e4"
      },
      "outputs": [
        {
          "data": {
            "text/html": [
              "<!doctype html>\n",
              "<html>\n",
              "\t<head>\n",
              "\t\t<meta charset=\"utf-8\">\n",
              "\t\t<script title=\"htmlwidgets\" src=\"data:application/javascript;base64,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\"></script>\n",
              "<link href=\"data:text/css;charset-utf-8;base64,LnN0cl92aWV3IHVsLCAuc3RyX3ZpZXcgbGkgewogIGxpc3Qtc3R5bGU6IG5vbmU7CiAgcGFkZGluZzogMDsKICBtYXJnaW46IDAuNWVtIDA7CiAgZm9udC1mYW1pbHk6IG1vbm9zcGFjZTsKfQoKLnN0cl92aWV3IC5tYXRjaCB7CiAgYm9yZGVyOiAxcHggc29saWQgI2NjYzsKICBiYWNrZ3JvdW5kLWNvbG9yOiAjZWVlOwp9Cg==\" rel=\"stylesheet\" />\n",
              "<script title=\"str_view-binding\" src=\"data:application/javascript;base64,SFRNTFdpZGdldHMud2lkZ2V0KHsKCiAgbmFtZTogJ3N0cl92aWV3JywKCiAgdHlwZTogJ291dHB1dCcsCgogIGluaXRpYWxpemU6IGZ1bmN0aW9uKGVsLCB3aWR0aCwgaGVpZ2h0KSB7CiAgfSwKCiAgcmVuZGVyVmFsdWU6IGZ1bmN0aW9uKGVsLCB4LCBpbnN0YW5jZSkgewogICAgZWwuaW5uZXJIVE1MID0geC5odG1sOwogIH0sCgogIHJlc2l6ZTogZnVuY3Rpb24oZWwsIHdpZHRoLCBoZWlnaHQsIGluc3RhbmNlKSB7CiAgfQoKfSk7Cg==\"></script>\n",
              "\t</head>\n",
              "\t<body>\n",
              "\t\t<div id=\"htmlwidget-0f1b612b4c31412e7ac5\" style=\"width:960px;height:30px;\" class=\"str_view html-widget\"></div>\n",
              "<script type=\"application/json\" data-for=\"htmlwidget-0f1b612b4c31412e7ac5\">{\"x\":{\"html\":\"<ul>\\n  <li>apple<\\/li>\\n  <li><span class='match'>b<\\/span>anana<\\/li>\\n  <li>pear<\\/li>\\n<\\/ul>\"},\"evals\":[],\"jsHooks\":[]}</script>\n",
              "\t</body>\n",
              "</html>\n"
            ],
            "text/plain": [
              "HTML widgets cannot be represented in plain text (need html)"
            ]
          },
          "metadata": {
            "text/html": {
              "isolated": true
            }
          },
          "output_type": "display_data"
        },
        {
          "data": {
            "text/html": [
              "<!doctype html>\n",
              "<html>\n",
              "\t<head>\n",
              "\t\t<meta charset=\"utf-8\">\n",
              "\t\t<script title=\"htmlwidgets\" src=\"data:application/javascript;base64,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\"></script>\n",
              "<link href=\"data:text/css;charset-utf-8;base64,LnN0cl92aWV3IHVsLCAuc3RyX3ZpZXcgbGkgewogIGxpc3Qtc3R5bGU6IG5vbmU7CiAgcGFkZGluZzogMDsKICBtYXJnaW46IDAuNWVtIDA7CiAgZm9udC1mYW1pbHk6IG1vbm9zcGFjZTsKfQoKLnN0cl92aWV3IC5tYXRjaCB7CiAgYm9yZGVyOiAxcHggc29saWQgI2NjYzsKICBiYWNrZ3JvdW5kLWNvbG9yOiAjZWVlOwp9Cg==\" rel=\"stylesheet\" />\n",
              "<script title=\"str_view-binding\" src=\"data:application/javascript;base64,SFRNTFdpZGdldHMud2lkZ2V0KHsKCiAgbmFtZTogJ3N0cl92aWV3JywKCiAgdHlwZTogJ291dHB1dCcsCgogIGluaXRpYWxpemU6IGZ1bmN0aW9uKGVsLCB3aWR0aCwgaGVpZ2h0KSB7CiAgfSwKCiAgcmVuZGVyVmFsdWU6IGZ1bmN0aW9uKGVsLCB4LCBpbnN0YW5jZSkgewogICAgZWwuaW5uZXJIVE1MID0geC5odG1sOwogIH0sCgogIHJlc2l6ZTogZnVuY3Rpb24oZWwsIHdpZHRoLCBoZWlnaHQsIGluc3RhbmNlKSB7CiAgfQoKfSk7Cg==\"></script>\n",
              "\t</head>\n",
              "\t<body>\n",
              "\t\t<div id=\"htmlwidget-0786e15f0c2352272138\" style=\"width:960px;height:30px;\" class=\"str_view html-widget\"></div>\n",
              "<script type=\"application/json\" data-for=\"htmlwidget-0786e15f0c2352272138\">{\"x\":{\"html\":\"<ul>\\n  <li>apple<\\/li>\\n  <li>banana<\\/li>\\n  <li>pea<span class='match'>r<\\/span><\\/li>\\n<\\/ul>\"},\"evals\":[],\"jsHooks\":[]}</script>\n",
              "\t</body>\n",
              "</html>\n"
            ],
            "text/plain": [
              "HTML widgets cannot be represented in plain text (need html)"
            ]
          },
          "metadata": {
            "text/html": {
              "isolated": true
            }
          },
          "output_type": "display_data"
        }
      ],
      "source": [
        "x <- c('apple', 'banana', 'pear')\n",
        "str_view(x, '^b')\n",
        "str_view(x, 'r$')"
      ]
    },
    {
      "cell_type": "markdown",
      "metadata": {
        "id": "ak_bxQMpjYlm"
      },
      "source": [
        "## 🤔 Quiz\n",
        "\n",
        "What does this regular expression match?:\n",
        "\n",
        "```\n",
        "^(.).*\\\\1$\n",
        "```\n",
        "\n",
        "\n",
        "<ol style=\"list-style-type: upper-alpha;\">\n",
        "    <li>Any word that starts and ends with the same character, e.g. `alpha`</li>\n",
        "    <li>Any word that starts and ends with the same two characters, e.g. `church`</li>\n",
        "    <li>Any word that ends with a character that is found earlier in the string, e.g. `therefore`</li></li>\n",
        "    <li>I hate regular expressions.</li>\n",
        "</ol>"
      ]
    },
    {
      "cell_type": "code",
      "execution_count": null,
      "metadata": {
        "id": "a1XGiINNjYln"
      },
      "outputs": [],
      "source": [
        "# solution"
      ]
    },
    {
      "cell_type": "code",
      "execution_count": null,
      "metadata": {
        "id": "j9IKXrvijYlr"
      },
      "outputs": [],
      "source": [
        "q = 'Research is formalized curiosity. It is poking and prying with a purpose.'\n",
        "# re to match capitalized words\n",
        "# re = NA\n",
        "# str_view(q, re)\n",
        "# str_extract(q, re)"
      ]
    },
    {
      "cell_type": "code",
      "execution_count": null,
      "metadata": {
        "id": "i3_An0RIjYlr"
      },
      "outputs": [],
      "source": [
        "### `str_match`\n",
        "`str_match(v, re)` will create a matrix out of the grouped matches in `re`. The first column has the whole match, and additional columns are added for each character group. If the pattern does not match, you will get `NA`s."
      ]
    },
    {
      "cell_type": "code",
      "execution_count": null,
      "metadata": {
        "id": "VQ5b1wZyjYlr",
        "outputId": "7d31d77e-df58-4f4d-db41-cb59b15556c3"
      },
      "outputs": [
        {
          "data": {
            "text/html": [
              "<table>\n",
              "<tbody>\n",
              "\t<tr><td>NA      </td><td>NA      </td><td>NA      </td></tr>\n",
              "\t<tr><td>able    </td><td>a       </td><td>e       </td></tr>\n",
              "\t<tr><td>about   </td><td>a       </td><td>t       </td></tr>\n",
              "\t<tr><td>absolute</td><td>a       </td><td>e       </td></tr>\n",
              "\t<tr><td>accept  </td><td>a       </td><td>t       </td></tr>\n",
              "\t<tr><td>account </td><td>a       </td><td>t       </td></tr>\n",
              "</tbody>\n",
              "</table>\n"
            ],
            "text/latex": [
              "\\begin{tabular}{lll}\n",
              "\t NA       & NA       & NA      \\\\\n",
              "\t able     & a        & e       \\\\\n",
              "\t about    & a        & t       \\\\\n",
              "\t absolute & a        & e       \\\\\n",
              "\t accept   & a        & t       \\\\\n",
              "\t account  & a        & t       \\\\\n",
              "\\end{tabular}\n"
            ],
            "text/markdown": [
              "\n",
              "| NA       | NA       | NA       | \n",
              "| able     | a        | e        | \n",
              "| about    | a        | t        | \n",
              "| absolute | a        | e        | \n",
              "| accept   | a        | t        | \n",
              "| account  | a        | t        | \n",
              "\n",
              "\n"
            ],
            "text/plain": [
              "     [,1]     [,2] [,3]\n",
              "[1,] NA       NA   NA  \n",
              "[2,] able     a    e   \n",
              "[3,] about    a    t   \n",
              "[4,] absolute a    e   \n",
              "[5,] accept   a    t   \n",
              "[6,] account  a    t   "
            ]
          },
          "metadata": {},
          "output_type": "display_data"
        }
      ],
      "source": [
        "head(str_match(words, '^(.).*(.)$'))"
      ]
    },
    {
      "cell_type": "code",
      "execution_count": null,
      "metadata": {
        "id": "WrbhgqXLjYlr"
      },
      "outputs": [],
      "source": [
        "### `str_replace`\n",
        "`str_replace(v, re, rep)` will replace each match of `re` in `v` with `rep`. The most basic usage is as a sort of find and replace:"
      ]
    },
    {
      "cell_type": "code",
      "execution_count": 100,
      "metadata": {
        "colab": {
          "base_uri": "https://localhost:8080/",
          "height": 34
        },
        "id": "Sxk2DI_HjYls",
        "outputId": "7ff21f20-e112-47f6-ca76-b8a254de1970"
      },
      "outputs": [
        {
          "output_type": "display_data",
          "data": {
            "text/html": [
              "'Give me liberty or give me pizza'"
            ],
            "text/markdown": "'Give me liberty or give me pizza'",
            "text/latex": "'Give me liberty or give me pizza'",
            "text/plain": [
              "[1] \"Give me liberty or give me pizza\""
            ]
          },
          "metadata": {}
        }
      ],
      "source": [
        "str_replace('Give me liberty or give me death', '\\\\w+$', 'pizza')"
      ]
    },
    {
      "cell_type": "code",
      "execution_count": null,
      "metadata": {
        "id": "YCbjw8ErjYls"
      },
      "outputs": [],
      "source": [
        "A very useful feature of regexp replacements is the ability to use backreferences:"
      ]
    },
    {
      "cell_type": "code",
      "execution_count": null,
      "metadata": {
        "id": "ABKBSKNXjYls"
      },
      "outputs": [],
      "source": [
        "# Your code here"
      ]
    }
  ],
  "metadata": {
    "celltoolbar": "Slideshow",
    "kernelspec": {
      "display_name": "R",
      "language": "R",
      "name": "ir"
    },
    "language_info": {
      "codemirror_mode": "r",
      "file_extension": ".r",
      "mimetype": "text/x-r-source",
      "name": "R",
      "pygments_lexer": "r",
      "version": "4.2.2"
    },
    "colab": {
      "provenance": []
    }
  },
  "nbformat": 4,
  "nbformat_minor": 0
}