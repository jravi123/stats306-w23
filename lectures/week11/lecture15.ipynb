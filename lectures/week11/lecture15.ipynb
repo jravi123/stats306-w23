{
  "cells": [
    {
      "cell_type": "code",
      "source": [
        "install.packages('nycflights13')"
      ],
      "metadata": {
        "id": "JKOHZrFOQv8K",
        "outputId": "513cca47-de42-4bb8-f3cf-b0c9efafa24f",
        "colab": {
          "base_uri": "https://localhost:8080/"
        }
      },
      "execution_count": 1,
      "outputs": [
        {
          "output_type": "stream",
          "name": "stderr",
          "text": [
            "Installing package into ‘/usr/local/lib/R/site-library’\n",
            "(as ‘lib’ is unspecified)\n",
            "\n"
          ]
        }
      ]
    },
    {
      "cell_type": "code",
      "source": [
        "install.packages('tidytext')"
      ],
      "metadata": {
        "id": "rapOykZ7Q43L",
        "outputId": "6781cdf1-6c89-4030-bc06-e3f64cddb5c8",
        "colab": {
          "base_uri": "https://localhost:8080/"
        }
      },
      "execution_count": 2,
      "outputs": [
        {
          "output_type": "stream",
          "name": "stderr",
          "text": [
            "Installing package into ‘/usr/local/lib/R/site-library’\n",
            "(as ‘lib’ is unspecified)\n",
            "\n",
            "also installing the dependencies ‘Rcpp’, ‘SnowballC’, ‘janeaustenr’, ‘tokenizers’\n",
            "\n",
            "\n"
          ]
        }
      ]
    },
    {
      "cell_type": "code",
      "execution_count": 3,
      "metadata": {
        "id": "KvQbNhRwQtIJ",
        "outputId": "3a86e117-8683-42e9-8a41-2e3f10e9b509",
        "colab": {
          "base_uri": "https://localhost:8080/"
        }
      },
      "outputs": [
        {
          "output_type": "stream",
          "name": "stderr",
          "text": [
            "Warning message in system(\"timedatectl\", intern = TRUE):\n",
            "“running command 'timedatectl' had status 1”\n",
            "── \u001b[1mAttaching packages\u001b[22m ─────────────────────────────────────── tidyverse 1.3.1 ──\n",
            "\n",
            "\u001b[32m✔\u001b[39m \u001b[34mggplot2\u001b[39m 3.4.1     \u001b[32m✔\u001b[39m \u001b[34mpurrr  \u001b[39m 1.0.1\n",
            "\u001b[32m✔\u001b[39m \u001b[34mtibble \u001b[39m 3.2.0     \u001b[32m✔\u001b[39m \u001b[34mdplyr  \u001b[39m 1.1.0\n",
            "\u001b[32m✔\u001b[39m \u001b[34mtidyr  \u001b[39m 1.3.0     \u001b[32m✔\u001b[39m \u001b[34mstringr\u001b[39m 1.4.1\n",
            "\u001b[32m✔\u001b[39m \u001b[34mreadr  \u001b[39m 2.1.4     \u001b[32m✔\u001b[39m \u001b[34mforcats\u001b[39m 1.0.0\n",
            "\n",
            "── \u001b[1mConflicts\u001b[22m ────────────────────────────────────────── tidyverse_conflicts() ──\n",
            "\u001b[31m✖\u001b[39m \u001b[34mdplyr\u001b[39m::\u001b[32mfilter()\u001b[39m masks \u001b[34mstats\u001b[39m::filter()\n",
            "\u001b[31m✖\u001b[39m \u001b[34mdplyr\u001b[39m::\u001b[32mlag()\u001b[39m    masks \u001b[34mstats\u001b[39m::lag()\n",
            "\n",
            "\n",
            "Attaching package: ‘lubridate’\n",
            "\n",
            "\n",
            "The following objects are masked from ‘package:base’:\n",
            "\n",
            "    date, intersect, setdiff, union\n",
            "\n",
            "\n"
          ]
        }
      ],
      "source": [
        "library(tidyverse)\n",
        "library(lubridate)\n",
        "library(forcats)\n",
        "library(nycflights13)\n",
        "library(tidytext)"
      ]
    },
    {
      "cell_type": "markdown",
      "metadata": {
        "id": "Y_t11T2aQtIS"
      },
      "source": [
        "# Lecture 15: Dates"
      ]
    },
    {
      "cell_type": "markdown",
      "metadata": {
        "id": "kVjmKNSqQtIU"
      },
      "source": [
        "## 🤔 Quiz\n",
        "\n",
        "Every year has 365 days:\n",
        "\n",
        "<ol style=\"list-style-type: upper-alpha;\">\n",
        "    <li>True</li>\n",
        "    <li>False</li>\n",
        "</ol>"
      ]
    },
    {
      "cell_type": "markdown",
      "metadata": {
        "id": "eLEfOAvNQtIZ"
      },
      "source": [
        "## 🤔 Quiz\n",
        "\n",
        "Every day has 24 hours:\n",
        "\n",
        "<ol style=\"list-style-type: upper-alpha;\">\n",
        "    <li>True</li>\n",
        "    <li>False</li>\n",
        "\n",
        "</ol>"
      ]
    },
    {
      "cell_type": "markdown",
      "metadata": {
        "id": "qK4A_hl_QtIa"
      },
      "source": [
        "## 🤔 Quiz\n",
        "\n",
        "Every minute has 60 seconds:\n",
        "\n",
        "&nbsp;A.&nbsp;&nbsp;True<br />\n",
        "&nbsp;B.&nbsp;&nbsp;False<br />\n",
        "&nbsp;C-E:&nbsp;I am not physically present in this room."
      ]
    },
    {
      "cell_type": "code",
      "execution_count": null,
      "metadata": {
        "id": "eENaEZjFQtIa"
      },
      "outputs": [],
      "source": [
        "# answers"
      ]
    },
    {
      "cell_type": "markdown",
      "metadata": {
        "id": "qbWSXXaKQtIb"
      },
      "source": [
        "## Dates\n",
        "Most of us have a pretty firm grasp on dates. But they can be more complicated than you might think. Consider these three questions from the book:\n",
        "* Does every year have 365 days?\n",
        "* Does every day have 24 hours?\n",
        "* Does every minute have 60 seconds?\n",
        "\n",
        "The answer to all three is \"no\"."
      ]
    },
    {
      "cell_type": "markdown",
      "metadata": {
        "id": "anMd-1oiQtIb"
      },
      "source": [
        "As before, we'll rely on the `lubridate` package to work with dates:"
      ]
    },
    {
      "cell_type": "code",
      "execution_count": null,
      "metadata": {
        "id": "--P-7dlGQtIf"
      },
      "outputs": [],
      "source": [
        "library(lubridate)"
      ]
    },
    {
      "cell_type": "markdown",
      "metadata": {
        "id": "g7p28dBLQtIg"
      },
      "source": [
        "There are three different date classes in R:\n",
        "\n",
        "* A date, printed in tibble as `<date>`, represents a full day on the calendar.\n",
        "* A time within a day, printed as `<time>`, represents a specific time within an (unspecified) day.\n",
        "* A date-time is a date plus a time (tibble: `<dttm>`). A date-time uniquely identifies an instant in time (up to a given precision, usually 1 second.)"
      ]
    },
    {
      "cell_type": "markdown",
      "metadata": {
        "id": "qe-80hIOQtIg"
      },
      "source": [
        "We've already seen examples of date-times in the `flights` tibble:"
      ]
    },
    {
      "cell_type": "code",
      "execution_count": null,
      "metadata": {
        "id": "MN8stkguQtIh",
        "outputId": "5c10ef96-31aa-4755-db95-2d357e8707ac"
      },
      "outputs": [
        {
          "name": "stdout",
          "output_type": "stream",
          "text": [
            "# A tibble: 336,776 x 1\n",
            "   time_hour          \n",
            "   <dttm>             \n",
            " 1 2013-01-01 05:00:00\n",
            " 2 2013-01-01 05:00:00\n",
            " 3 2013-01-01 05:00:00\n",
            " 4 2013-01-01 05:00:00\n",
            " 5 2013-01-01 06:00:00\n",
            " 6 2013-01-01 05:00:00\n",
            " 7 2013-01-01 06:00:00\n",
            " 8 2013-01-01 06:00:00\n",
            " 9 2013-01-01 06:00:00\n",
            "10 2013-01-01 06:00:00\n",
            "# … with 336,766 more rows\n"
          ]
        }
      ],
      "source": [
        "select(flights, time_hour) %>% print"
      ]
    },
    {
      "cell_type": "markdown",
      "metadata": {
        "id": "yk0kxbK1QtIi"
      },
      "source": [
        "You should tend to favor working with dates over date-times if possible. The latter are more complicated because of the need to handle time zones.\n",
        "\n"
      ]
    },
    {
      "cell_type": "markdown",
      "metadata": {
        "id": "3K1adfHMQtIi"
      },
      "source": [
        "We can get the current date and date-time using the `today()` and `now()` commands:"
      ]
    },
    {
      "cell_type": "code",
      "execution_count": null,
      "metadata": {
        "id": "anGnIEEqQtIi",
        "outputId": "dcfcd349-049d-4e87-c33d-77795553f5dd"
      },
      "outputs": [
        {
          "data": {
            "text/html": [
              "<time datetime=\"2023-03-15\">2023-03-15</time>"
            ],
            "text/latex": [
              "2023-03-15"
            ],
            "text/markdown": [
              "2023-03-15"
            ],
            "text/plain": [
              "[1] \"2023-03-15\""
            ]
          },
          "metadata": {},
          "output_type": "display_data"
        }
      ],
      "source": [
        "today()"
      ]
    },
    {
      "cell_type": "code",
      "execution_count": null,
      "metadata": {
        "id": "mtltYWRyQtIj",
        "outputId": "daa96f69-605d-49a3-b9bc-f83eba6080e4"
      },
      "outputs": [
        {
          "data": {
            "text/plain": [
              "[1] \"2023-03-15 08:56:32 EDT\""
            ]
          },
          "metadata": {},
          "output_type": "display_data"
        }
      ],
      "source": [
        "now()"
      ]
    },
    {
      "cell_type": "markdown",
      "metadata": {
        "id": "YeBRYEUHQtIj"
      },
      "source": [
        "### Converting strings to dates and times\n",
        "Frequently you will be encounter date and/or time data stored as text. You will need to convert these data into the native R date classes in order to use date functions on them. The `mdy/ymd/dmy` functions accomplish this."
      ]
    },
    {
      "cell_type": "code",
      "execution_count": null,
      "metadata": {
        "id": "ymevHa_uQtIj",
        "outputId": "e518601a-d10d-42ab-e1c7-db1bd120ad5b"
      },
      "outputs": [
        {
          "data": {
            "text/html": [
              "<time datetime=\"2017-01-31\">2017-01-31</time>"
            ],
            "text/latex": [
              "2017-01-31"
            ],
            "text/markdown": [
              "2017-01-31"
            ],
            "text/plain": [
              "[1] \"2017-01-31\""
            ]
          },
          "metadata": {},
          "output_type": "display_data"
        },
        {
          "data": {
            "text/html": [
              "<time datetime=\"2017-01-31\">2017-01-31</time>"
            ],
            "text/latex": [
              "2017-01-31"
            ],
            "text/markdown": [
              "2017-01-31"
            ],
            "text/plain": [
              "[1] \"2017-01-31\""
            ]
          },
          "metadata": {},
          "output_type": "display_data"
        },
        {
          "data": {
            "text/html": [
              "<time datetime=\"2017-01-31\">2017-01-31</time>"
            ],
            "text/latex": [
              "2017-01-31"
            ],
            "text/markdown": [
              "2017-01-31"
            ],
            "text/plain": [
              "[1] \"2017-01-31\""
            ]
          },
          "metadata": {},
          "output_type": "display_data"
        },
        {
          "data": {
            "text/html": [
              "<time datetime=\"2017-01-31\">2017-01-31</time>"
            ],
            "text/latex": [
              "2017-01-31"
            ],
            "text/markdown": [
              "2017-01-31"
            ],
            "text/plain": [
              "[1] \"2017-01-31\""
            ]
          },
          "metadata": {},
          "output_type": "display_data"
        }
      ],
      "source": [
        "ymd(\"2017 01 31\")\n",
        "mdy(\"1 31 2017\")\n",
        "dmy(\"31 1 2017\")\n",
        "dmy(\"31-Jan-2017\")"
      ]
    },
    {
      "cell_type": "markdown",
      "metadata": {
        "id": "fjwmLbklQtIk"
      },
      "source": [
        "#### Date-time parsers\n",
        "There are also equivalent functions for parsing date-times:"
      ]
    },
    {
      "cell_type": "code",
      "execution_count": null,
      "metadata": {
        "id": "Il_zE0zLQtIk",
        "outputId": "d1b963a9-37d5-4c60-fdb2-161e729d9845"
      },
      "outputs": [
        {
          "data": {
            "text/plain": [
              "[1] \"2017-01-31 20:11:59 UTC\""
            ]
          },
          "metadata": {},
          "output_type": "display_data"
        }
      ],
      "source": [
        "ymd_hms(\"2017-01-31 20:11:59\")"
      ]
    },
    {
      "cell_type": "code",
      "execution_count": null,
      "metadata": {
        "id": "mhhfFmEgQtIr",
        "outputId": "4d7464d3-3aa9-4b89-894f-ac6150aee1dd"
      },
      "outputs": [
        {
          "data": {
            "text/plain": [
              "[1] \"2017-01-31 08:01:00 UTC\""
            ]
          },
          "metadata": {},
          "output_type": "display_data"
        }
      ],
      "source": [
        "mdy_hm(\"01/31/2017 08:01\")"
      ]
    },
    {
      "cell_type": "markdown",
      "metadata": {
        "id": "LFCNnlfbQtIs"
      },
      "source": [
        "Sometimes you can get away with calling `as_datetime()`:"
      ]
    },
    {
      "cell_type": "code",
      "execution_count": 4,
      "metadata": {
        "id": "4Mzy-86-QtIs",
        "outputId": "212e4184-925c-442c-d5e3-7210d930fc3b",
        "colab": {
          "base_uri": "https://localhost:8080/",
          "height": 34
        }
      },
      "outputs": [
        {
          "output_type": "display_data",
          "data": {
            "text/plain": [
              "[1] \"2017-01-31 20:11:59 UTC\""
            ]
          },
          "metadata": {}
        }
      ],
      "source": [
        "as_datetime(\"2017-01-31 20:11:59\")\n"
      ]
    },
    {
      "cell_type": "markdown",
      "metadata": {
        "id": "41SIOOzNQtI4"
      },
      "source": [
        "But not always:"
      ]
    },
    {
      "cell_type": "code",
      "execution_count": 7,
      "metadata": {
        "id": "yq4H3HgIQtI4",
        "outputId": "487cae81-4274-413a-b5db-ba0e2cd1098e",
        "colab": {
          "base_uri": "https://localhost:8080/",
          "height": 69
        }
      },
      "outputs": [
        {
          "output_type": "stream",
          "name": "stderr",
          "text": [
            "Warning message:\n",
            "“All formats failed to parse. No formats found.”\n"
          ]
        },
        {
          "output_type": "display_data",
          "data": {
            "text/plain": [
              "[1] NA"
            ]
          },
          "metadata": {}
        }
      ],
      "source": [
        "as_datetime(\"01/31/2017 08:01\")"
      ]
    },
    {
      "cell_type": "code",
      "source": [
        "?as_datetime"
      ],
      "metadata": {
        "id": "eIi1U2mrZ2IX"
      },
      "execution_count": 9,
      "outputs": []
    },
    {
      "cell_type": "markdown",
      "metadata": {
        "id": "zRhzM-8ZQtI5"
      },
      "source": [
        "### Time zones\n",
        "When we create a date-time, the default time zone is \"UTC\":"
      ]
    },
    {
      "cell_type": "code",
      "execution_count": null,
      "metadata": {
        "id": "q4BBymTjQtI5",
        "outputId": "ab98ff53-1df2-4973-a08a-7a3aedef9fa9"
      },
      "outputs": [
        {
          "data": {
            "text/plain": [
              "[1] \"2000-01-30 UTC\""
            ]
          },
          "metadata": {},
          "output_type": "display_data"
        }
      ],
      "source": [
        "ymd_hm(\"2000-01-30 00:00\")"
      ]
    },
    {
      "cell_type": "markdown",
      "metadata": {
        "id": "TKcMCFfKQtI6"
      },
      "source": [
        "This is a standard time zone which is, for historical reasons, equal to time in Greenwich, England."
      ]
    },
    {
      "cell_type": "markdown",
      "metadata": {
        "id": "bhvet9WCQtI6"
      },
      "source": [
        "If your times are coming from a different time zone you must specify using the `tz=` option:"
      ]
    },
    {
      "cell_type": "code",
      "execution_count": null,
      "metadata": {
        "id": "rW_f_XEeQtI7",
        "outputId": "a0967408-3074-479b-ec1c-81ed3e653583"
      },
      "outputs": [
        {
          "data": {
            "text/plain": [
              "[1] \"2017-06-30 20:11:59 EDT\""
            ]
          },
          "metadata": {},
          "output_type": "display_data"
        },
        {
          "data": {
            "text/plain": [
              "[1] \"2017-06-30 20:11:59 PDT\""
            ]
          },
          "metadata": {},
          "output_type": "display_data"
        }
      ],
      "source": [
        "ymd_hms(\"2017-6-30 20:11:59\", tz=\"America/Detroit\")\n",
        "ymd_hms(\"2017-6-30 20:11:59\", tz=\"America/Los_Angeles\")"
      ]
    },
    {
      "cell_type": "markdown",
      "metadata": {
        "id": "FzRdkEFhQtI8"
      },
      "source": [
        "You can find your local time zone using:"
      ]
    },
    {
      "cell_type": "code",
      "execution_count": null,
      "metadata": {
        "id": "2l_vOyTMQtI8",
        "outputId": "688fa346-f9b8-4e9a-c934-c1f9b23887c7"
      },
      "outputs": [
        {
          "data": {
            "text/html": [
              "'America/Detroit'"
            ],
            "text/latex": [
              "'America/Detroit'"
            ],
            "text/markdown": [
              "'America/Detroit'"
            ],
            "text/plain": [
              "[1] \"America/Detroit\""
            ]
          },
          "metadata": {},
          "output_type": "display_data"
        }
      ],
      "source": [
        "Sys.timezone()"
      ]
    },
    {
      "cell_type": "markdown",
      "metadata": {
        "id": "ZJeD2h4FQtI8"
      },
      "source": [
        "### `strptime()`\n",
        "Sometimes you are given a weird date format that can't be automatically recognized by any of the preceding methods. As a last resort, you have the `strptime()` function for low-level date parsing."
      ]
    },
    {
      "cell_type": "code",
      "execution_count": 11,
      "metadata": {
        "id": "jUNLjJTzQtI9",
        "outputId": "3886e217-a79b-4cc6-a209-68e543ed28ea",
        "colab": {
          "base_uri": "https://localhost:8080/",
          "height": 69
        }
      },
      "outputs": [
        {
          "output_type": "stream",
          "name": "stderr",
          "text": [
            "Warning message:\n",
            "“All formats failed to parse. No formats found.”\n"
          ]
        },
        {
          "output_type": "display_data",
          "data": {
            "text/html": [
              "<time datetime=\"&lt;NA&gt;\">&lt;NA&gt;</time>"
            ],
            "text/markdown": "&lt;NA&gt;",
            "text/latex": "<NA>",
            "text/plain": [
              "[1] NA"
            ]
          },
          "metadata": {}
        }
      ],
      "source": [
        "# date format: (year(month(day))) \n",
        "tdy <- \"March 15th, 2023\"\n",
        "ymd(tdy)\n",
        "# strptime"
      ]
    },
    {
      "cell_type": "code",
      "source": [
        "strptime(\"15 March, 2023\", tz = \"EST\")"
      ],
      "metadata": {
        "id": "5FOGGZ6EcPW7",
        "outputId": "1d5e92a8-6b15-47e8-aabd-974027f4b9d9",
        "colab": {
          "base_uri": "https://localhost:8080/",
          "height": 148
        }
      },
      "execution_count": 21,
      "outputs": [
        {
          "output_type": "error",
          "ename": "ERROR",
          "evalue": "ignored",
          "traceback": [
            "Error in strptime(\"15 March, 2023\", tz = \"EST\"): argument \"format\" is missing, with no default\nTraceback:\n",
            "1. strptime(\"15 March, 2023\", tz = \"EST\")"
          ]
        }
      ]
    },
    {
      "cell_type": "code",
      "source": [
        "?strptime"
      ],
      "metadata": {
        "id": "y6oZ60egbr2a"
      },
      "execution_count": 13,
      "outputs": []
    },
    {
      "cell_type": "markdown",
      "metadata": {
        "id": "rkqBfXZ-QtI9"
      },
      "source": [
        "### The epoch\n",
        "UNIX systems sometimes represent time as \"the number of seconds which have elapsed since 1-1-1970.\" This date is known as \"[the epoch](https://en.wikipedia.org/wiki/Unix_time)\". So you may occasionally come across date-times that look like:"
      ]
    },
    {
      "cell_type": "code",
      "execution_count": null,
      "metadata": {
        "id": "yq-DsNFYQtI9",
        "outputId": "203cf269-6d47-4eef-9228-f3697765b8e0"
      },
      "outputs": [
        {
          "data": {
            "text/plain": [
              "[1] 1572358737"
            ]
          },
          "metadata": {},
          "output_type": "display_data"
        }
      ],
      "source": [
        "now() %>% as.integer() "
      ]
    },
    {
      "cell_type": "markdown",
      "metadata": {
        "id": "8ceq0hDRQtI9"
      },
      "source": [
        "To convert these to date format you can use `as_datetime`:"
      ]
    },
    {
      "cell_type": "code",
      "execution_count": null,
      "metadata": {
        "id": "hqjhuEG7QtI-",
        "outputId": "6a32ad44-db0d-4cd0-b24c-43ab0d19a377"
      },
      "outputs": [
        {
          "data": {
            "text/plain": [
              "[1] \"1970-01-02 UTC\""
            ]
          },
          "metadata": {},
          "output_type": "display_data"
        }
      ],
      "source": [
        "as_datetime(3600 * 24)  # 24 hours after the epoch"
      ]
    },
    {
      "cell_type": "markdown",
      "metadata": {
        "id": "AFSZe6JDQtI_"
      },
      "source": [
        "## 🤔 Quiz\n",
        "\n",
        "Julian was born on September 22, 2019 at 1:05PM EDT. How many seconds old is Julian?\n",
        "\n",
        "<ol style=\"list-style-type: upper-alpha;\">\n",
        "    <li>About $10^7$</li>\n",
        "    <li>About $10^8$</li>\n",
        "    <li>About $10^9$</li>\n",
        "    <li>About $10^{10}$</li>\n",
        "</ol>"
      ]
    },
    {
      "cell_type": "code",
      "execution_count": null,
      "metadata": {
        "id": "EIVzNrwlQtI_"
      },
      "outputs": [],
      "source": [
        "# second old"
      ]
    },
    {
      "cell_type": "markdown",
      "metadata": {
        "id": "-sZvzjqCQtJA"
      },
      "source": [
        "### Making a date-time from components\n",
        "The `make_date` and `make_datetime` functions can make dates from individual (numerical) components:"
      ]
    },
    {
      "cell_type": "code",
      "execution_count": null,
      "metadata": {
        "id": "FHpbeb3fQtJA",
        "outputId": "e8f8777b-7f79-47e5-abed-5545b890d024"
      },
      "outputs": [
        {
          "data": {
            "text/plain": [
              "[1] \"2023-03-15 14:00:59 EDT\""
            ]
          },
          "metadata": {},
          "output_type": "display_data"
        }
      ],
      "source": [
        "make_datetime(2023, 3, 15, 10, 00, 59, tz=\"EDT\")"
      ]
    },
    {
      "cell_type": "markdown",
      "metadata": {
        "id": "7iFU4cVMQtJA"
      },
      "source": [
        "#### Example: departure and arrival times in `flights`\n",
        "The `flights` table has scheduled as well as actual arrival and departure times. Let's create a date-time variable from the actual departure time. First we need to take note of the fact that `dep_time` and `arr_time` are in a weird format:"
      ]
    },
    {
      "cell_type": "code",
      "execution_count": null,
      "metadata": {
        "id": "JFX5VSvwQtJB",
        "outputId": "c7557218-00e5-42a5-a653-46d9b5245c3b"
      },
      "outputs": [
        {
          "data": {
            "text/html": [
              "<table class=\"dataframe\">\n",
              "<caption>A tibble: 6 × 1</caption>\n",
              "<thead>\n",
              "\t<tr><th scope=col>dep_time</th></tr>\n",
              "\t<tr><th scope=col>&lt;int&gt;</th></tr>\n",
              "</thead>\n",
              "<tbody>\n",
              "\t<tr><td>517</td></tr>\n",
              "\t<tr><td>533</td></tr>\n",
              "\t<tr><td>542</td></tr>\n",
              "\t<tr><td>544</td></tr>\n",
              "\t<tr><td>554</td></tr>\n",
              "\t<tr><td>554</td></tr>\n",
              "</tbody>\n",
              "</table>\n"
            ],
            "text/latex": [
              "A tibble: 6 × 1\n",
              "\\begin{tabular}{l}\n",
              " dep\\_time\\\\\n",
              " <int>\\\\\n",
              "\\hline\n",
              "\t 517\\\\\n",
              "\t 533\\\\\n",
              "\t 542\\\\\n",
              "\t 544\\\\\n",
              "\t 554\\\\\n",
              "\t 554\\\\\n",
              "\\end{tabular}\n"
            ],
            "text/markdown": [
              "\n",
              "A tibble: 6 × 1\n",
              "\n",
              "| dep_time &lt;int&gt; |\n",
              "|---|\n",
              "| 517 |\n",
              "| 533 |\n",
              "| 542 |\n",
              "| 544 |\n",
              "| 554 |\n",
              "| 554 |\n",
              "\n"
            ],
            "text/plain": [
              "  dep_time\n",
              "1 517     \n",
              "2 533     \n",
              "3 542     \n",
              "4 544     \n",
              "5 554     \n",
              "6 554     "
            ]
          },
          "metadata": {},
          "output_type": "display_data"
        }
      ],
      "source": [
        "flights %>% select(dep_time) %>% head"
      ]
    },
    {
      "cell_type": "code",
      "execution_count": 32,
      "metadata": {
        "scrolled": true,
        "id": "NcX70zItQtJB"
      },
      "outputs": [],
      "source": [
        "# create datetime and sched_dep_time from flights\n",
        "flights_dt <- flights %>% \n",
        "  mutate(across(c(dep_time, sched_dep_time, arr_time, sched_arr_time), \n",
        "                          ~ make_datetime(year, month, day, . %/% 100, . %% 100)))"
      ]
    },
    {
      "cell_type": "markdown",
      "metadata": {
        "id": "JXUEmwqFQtJB"
      },
      "source": [
        "Now we can use built in R command to query and plot these data based on actual departure time:"
      ]
    },
    {
      "cell_type": "code",
      "execution_count": null,
      "metadata": {
        "id": "weFzI7bcQtJB",
        "outputId": "8c054c1c-45eb-4f4f-f1dd-03603d4e1558"
      },
      "outputs": [
        {
          "data": {
            "image/png": "[encoded data removed]",
            "text/plain": [
              "plot without title"
            ]
          },
          "metadata": {
            "image/png": {
              "height": 375,
              "width": 600
            }
          },
          "output_type": "display_data"
        }
      ],
      "source": [
        "flights_dt %>% \n",
        "  filter(dep_time < ymd(20130130), dep_time >= ymd(20130120)) %>% \n",
        "  ggplot(aes(x=dep_time)) + \n",
        "  geom_density(bw=3*3600)"
      ]
    },
    {
      "cell_type": "code",
      "execution_count": null,
      "metadata": {
        "id": "-a03pvT5QtJC"
      },
      "outputs": [],
      "source": [
        "?geom_density"
      ]
    },
    {
      "cell_type": "markdown",
      "metadata": {
        "id": "JMJ1GFGxQtJC"
      },
      "source": [
        "Notice that this command and resulting graph looks much nicer than if we did not use the date classes:\n",
        "* The filter on `dep_time` looks more natural than `filter(day<2, month==1, year==2013)`.\n",
        "* We can easily express the bin-width of 600 seconds in `geom_freqpoly(binwidth = 600)`. When you use date-times in a numeric context (like in a histogram), 1 means 1 second; for dates, 1 means 1 day.\n",
        "* The plot x axis has nice readable labels."
      ]
    },
    {
      "cell_type": "markdown",
      "metadata": {
        "id": "sYW2yHATQtJC"
      },
      "source": [
        "### Date-time components\n",
        "The functions `year()`, `month()`, `mday()` (day of the month), `yday()` (day of the year), `wday()` (day of the week), `hour()`, `minute()`, and `second()` can extract components from dates and times:"
      ]
    },
    {
      "cell_type": "code",
      "execution_count": null,
      "metadata": {
        "id": "l27wwTwPQtJC",
        "outputId": "7e9a9ee1-c4b4-4bae-9234-bef4e56263e8"
      },
      "outputs": [
        {
          "data": {
            "text/plain": [
              "[1] \"2018-03-12 12:00:00 UTC\""
            ]
          },
          "metadata": {},
          "output_type": "display_data"
        }
      ],
      "source": [
        "mdy_hms(c(\"March 12, 2018 12:00:00\")) "
      ]
    },
    {
      "cell_type": "markdown",
      "metadata": {
        "id": "SJFbjfcuQtJC"
      },
      "source": [
        "### Example\n",
        "By extracting the minute component of scheduled departure time, we uncover a surprising pattern:"
      ]
    },
    {
      "cell_type": "code",
      "execution_count": null,
      "metadata": {
        "id": "IOvfZKmGQtJC",
        "outputId": "d4cbd8d2-4840-49cb-b94a-9e63cfda48f1"
      },
      "outputs": [
        {
          "name": "stderr",
          "output_type": "stream",
          "text": [
            "Warning message:\n",
            "“\u001b[1m\u001b[22mRemoved 1 row containing missing values (`geom_line()`).”\n"
          ]
        },
        {
          "data": {
            "image/png": "[encoded data removed]",
            "text/plain": [
              "plot without title"
            ]
          },
          "metadata": {
            "image/png": {
              "height": 375,
              "width": 600
            }
          },
          "output_type": "display_data"
        }
      ],
      "source": [
        "flights_dt %>% \n",
        "  mutate(minute = minute(dep_time)) %>% \n",
        "  group_by(minute) %>% \n",
        "  summarise(\n",
        "    avg_delay = mean(dep_delay, na.rm = TRUE),\n",
        "    n = n()) %>% \n",
        "  ggplot(aes(minute, avg_delay)) +\n",
        "    geom_line() + labs(x=\"minute(dep_time)\")"
      ]
    },
    {
      "cell_type": "markdown",
      "metadata": {
        "id": "jwpgF6o3QtJD"
      },
      "source": [
        "But when grouped by *scheduled departure*, time the delays seem to be random:"
      ]
    },
    {
      "cell_type": "code",
      "execution_count": null,
      "metadata": {
        "id": "_cXgJsUAQtJD",
        "outputId": "cce2dc8f-8afd-49df-fa2c-3e0bd5c95a35"
      },
      "outputs": [
        {
          "data": {
            "image/png": "[encoded data removed]",
            "text/plain": [
              "plot without title"
            ]
          },
          "metadata": {
            "image/png": {
              "height": 375,
              "width": 600
            }
          },
          "output_type": "display_data"
        }
      ],
      "source": [
        "sched_dep <- flights_dt %>% \n",
        "  mutate(minute = minute(sched_dep_time)) %>% \n",
        "  group_by(minute) %>% \n",
        "  summarise(\n",
        "    avg_delay = mean(dep_delay, na.rm = TRUE),\n",
        "    n = n())\n",
        "\n",
        "ggplot(sched_dep, aes(minute, avg_delay)) +\n",
        "  geom_line()"
      ]
    },
    {
      "cell_type": "markdown",
      "metadata": {
        "id": "2DgB9QsiQtJD"
      },
      "source": [
        "What explains this odd pattern? Hint:"
      ]
    },
    {
      "cell_type": "markdown",
      "metadata": {
        "id": "eWLTrapgQtJD"
      },
      "source": [
        "### Time spans\n",
        "Time spans are the difference between two time points. These are represented in R by the `difftime` class:"
      ]
    },
    {
      "cell_type": "code",
      "execution_count": null,
      "metadata": {
        "id": "_oYNOy2CQtJE",
        "outputId": "44d16cc4-6281-4811-ad9d-0297632870aa"
      },
      "outputs": [
        {
          "data": {
            "text/plain": [
              "Time difference of 3287 days"
            ]
          },
          "metadata": {},
          "output_type": "display_data"
        },
        {
          "data": {
            "text/plain": [
              "[1] \"difftime\""
            ]
          },
          "metadata": {},
          "output_type": "display_data"
        }
      ],
      "source": [
        "(d = today() - update(today(), year=2010))\n",
        "class(d)"
      ]
    },
    {
      "cell_type": "markdown",
      "metadata": {
        "id": "LYEiGEFhQtJE"
      },
      "source": [
        "Because it is usually simpler to reason about time differences in terms of a single number, `lubridate` also provides a `duration` class which is stored in terms of seconds:"
      ]
    },
    {
      "cell_type": "code",
      "execution_count": null,
      "metadata": {
        "id": "9ffutswpQtJE",
        "outputId": "4c74c394-76a6-4a6d-ab09-c6b1a45f56c8"
      },
      "outputs": [
        {
          "data": {
            "text/plain": [
              "[1] \"1234s (~20.57 minutes)\""
            ]
          },
          "metadata": {},
          "output_type": "display_data"
        }
      ],
      "source": [
        "as.duration(1234)"
      ]
    },
    {
      "cell_type": "code",
      "execution_count": null,
      "metadata": {
        "id": "xC7Pw3kXQtJE",
        "outputId": "a38dc015-c0be-42a5-f703-5626ef49c0f2"
      },
      "outputs": [
        {
          "data": {
            "text/plain": [
              "[1] \"10s\""
            ]
          },
          "metadata": {},
          "output_type": "display_data"
        }
      ],
      "source": [
        "dseconds(10)"
      ]
    },
    {
      "cell_type": "code",
      "execution_count": null,
      "metadata": {
        "id": "TAw_l5jKQtJI",
        "outputId": "b4758f64-204d-46d8-e3eb-ae45d4c358e7"
      },
      "outputs": [
        {
          "data": {
            "text/plain": [
              "[1] \"1814400s (~3 weeks)\""
            ]
          },
          "metadata": {},
          "output_type": "display_data"
        }
      ],
      "source": [
        "dweeks(3)"
      ]
    },
    {
      "cell_type": "markdown",
      "metadata": {
        "id": "c9GqTlD-QtJI"
      },
      "source": [
        "Arithmetic with durations works as you would expect:"
      ]
    },
    {
      "cell_type": "code",
      "execution_count": null,
      "metadata": {
        "id": "svu0tnSQQtJI",
        "outputId": "a9ef22b0-10c1-4f8f-baa1-5af668232dce"
      },
      "outputs": [
        {
          "data": {
            "text/plain": [
              "[1] \"63072000s (~2 years)\""
            ]
          },
          "metadata": {},
          "output_type": "display_data"
        }
      ],
      "source": [
        "2 * dyears(1)"
      ]
    },
    {
      "cell_type": "code",
      "execution_count": null,
      "metadata": {
        "id": "yIxaDc7jQtJI",
        "outputId": "2355dd55-0d40-45e7-a4f8-5031c60e94da"
      },
      "outputs": [
        {
          "data": {
            "text/plain": [
              "[1] \"38847600s (~1.23 years)\""
            ]
          },
          "metadata": {},
          "output_type": "display_data"
        }
      ],
      "source": [
        "dyears(1) + dweeks(12) + dhours(15)"
      ]
    },
    {
      "cell_type": "markdown",
      "metadata": {
        "id": "-vYgo5PCQtJI"
      },
      "source": [
        "You have to be careful when adding durations and dates. What is 1 day after last Saturday at 1pm?"
      ]
    },
    {
      "cell_type": "code",
      "execution_count": null,
      "metadata": {
        "id": "cbGAjakZQtJJ",
        "outputId": "3a42f7f1-c5f7-45cb-8190-c1dc8c55ca39"
      },
      "outputs": [
        {
          "data": {
            "text/plain": [
              "[1] \"2023-03-12 14:00:00 EDT\""
            ]
          },
          "metadata": {},
          "output_type": "display_data"
        }
      ],
      "source": [
        "next_saturday = mdy_hm(\"Mar. 11, 2023 13:00PM\", tz=\"America/Detroit\")\n",
        "next_saturday + ddays(1)"
      ]
    },
    {
      "cell_type": "markdown",
      "metadata": {
        "id": "cQlbpawEQtJJ"
      },
      "source": [
        "To prevent this sort of thing from happening, `lubridate` also offers objects called \"periods\":"
      ]
    },
    {
      "cell_type": "code",
      "execution_count": null,
      "metadata": {
        "id": "Au33FZXlQtJJ",
        "outputId": "a612b296-1938-409a-9698-d3c0a738e79b"
      },
      "outputs": [
        {
          "data": {
            "text/plain": [
              "[1] \"1d 0H 0M 0S\""
            ]
          },
          "metadata": {},
          "output_type": "display_data"
        },
        {
          "data": {
            "text/plain": [
              "[1] \"Period\"\n",
              "attr(,\"package\")\n",
              "[1] \"lubridate\""
            ]
          },
          "metadata": {},
          "output_type": "display_data"
        }
      ],
      "source": [
        "days(1)\n",
        "class(days(1))"
      ]
    },
    {
      "cell_type": "markdown",
      "metadata": {
        "id": "LHAAVOKWQtJJ"
      },
      "source": [
        "Similarly, periods have the expected behaviour if you add one year to a leap year:"
      ]
    },
    {
      "cell_type": "code",
      "execution_count": null,
      "metadata": {
        "id": "geysbWr-QtJJ",
        "outputId": "d53aa6c1-a59b-48ad-adf0-3c96d08a1511"
      },
      "outputs": [
        {
          "data": {
            "text/plain": [
              "[1] \"2020-12-31 06:00:00 UTC\""
            ]
          },
          "metadata": {},
          "output_type": "display_data"
        },
        {
          "data": {
            "text/html": [
              "<time datetime=\"2021-01-01\">2021-01-01</time>"
            ],
            "text/latex": [
              "2021-01-01"
            ],
            "text/markdown": [
              "2021-01-01"
            ],
            "text/plain": [
              "[1] \"2021-01-01\""
            ]
          },
          "metadata": {},
          "output_type": "display_data"
        }
      ],
      "source": [
        "ymd(\"2020-01-01\") + dyears(1)\n",
        "ymd(\"2020-01-01\") + years(1)"
      ]
    },
    {
      "cell_type": "markdown",
      "metadata": {
        "id": "-FaoQG1bQtJK"
      },
      "source": [
        "## 🤔 Quiz\n",
        "\n",
        "Leo was born on May 16, 2022. When will Leo be 1000 days old?\n",
        "\n",
        "<ol style=\"list-style-type: upper-alpha;\">\n",
        "    <li>Today</li>\n",
        "    <li>January 8, 2024</li>\n",
        "    <li>February 9, 2025</li>\n",
        "    <li>March 10, 2026</li>\n",
        "</ol>"
      ]
    },
    {
      "cell_type": "code",
      "execution_count": null,
      "metadata": {
        "id": "_F5YWdRqQtJK"
      },
      "outputs": [],
      "source": [
        "# 1k days old"
      ]
    },
    {
      "cell_type": "markdown",
      "metadata": {
        "id": "x1VYnWjtQtJL"
      },
      "source": [
        "#### Using time spans\n",
        "Earlier in the semester we saw how some flights seem to have arrived before they departed:"
      ]
    },
    {
      "cell_type": "code",
      "execution_count": null,
      "metadata": {
        "id": "QRPWUBTqQtJL",
        "outputId": "e180d68b-e86c-4f17-a723-b8050d933abe"
      },
      "outputs": [
        {
          "name": "stdout",
          "output_type": "stream",
          "text": [
            "\u001b[90m# A tibble: 6 × 19\u001b[39m\n",
            "   year month   day dep_time sched_dep…¹ dep_d…² arr_t…³ sched…⁴ arr_d…⁵ carrier\n",
            "  \u001b[3m\u001b[90m<int>\u001b[39m\u001b[23m \u001b[3m\u001b[90m<int>\u001b[39m\u001b[23m \u001b[3m\u001b[90m<int>\u001b[39m\u001b[23m    \u001b[3m\u001b[90m<int>\u001b[39m\u001b[23m       \u001b[3m\u001b[90m<int>\u001b[39m\u001b[23m   \u001b[3m\u001b[90m<dbl>\u001b[39m\u001b[23m   \u001b[3m\u001b[90m<int>\u001b[39m\u001b[23m   \u001b[3m\u001b[90m<int>\u001b[39m\u001b[23m   \u001b[3m\u001b[90m<dbl>\u001b[39m\u001b[23m \u001b[3m\u001b[90m<chr>\u001b[39m\u001b[23m  \n",
            "\u001b[90m1\u001b[39m  \u001b[4m2\u001b[24m013     1     1     \u001b[4m1\u001b[24m929        \u001b[4m1\u001b[24m920       9       3       7      -\u001b[31m4\u001b[39m UA     \n",
            "\u001b[90m2\u001b[39m  \u001b[4m2\u001b[24m013     1     1     \u001b[4m1\u001b[24m939        \u001b[4m1\u001b[24m840      59      29    \u001b[4m2\u001b[24m151      \u001b[31mNA\u001b[39m 9E     \n",
            "\u001b[90m3\u001b[39m  \u001b[4m2\u001b[24m013     1     1     \u001b[4m2\u001b[24m058        \u001b[4m2\u001b[24m100      -\u001b[31m2\u001b[39m       8    \u001b[4m2\u001b[24m359       9 UA     \n",
            "\u001b[90m4\u001b[39m  \u001b[4m2\u001b[24m013     1     1     \u001b[4m2\u001b[24m102        \u001b[4m2\u001b[24m108      -\u001b[31m6\u001b[39m     146     158     -\u001b[31m12\u001b[39m UA     \n",
            "\u001b[90m5\u001b[39m  \u001b[4m2\u001b[24m013     1     1     \u001b[4m2\u001b[24m108        \u001b[4m2\u001b[24m057      11      25      39     -\u001b[31m14\u001b[39m UA     \n",
            "\u001b[90m6\u001b[39m  \u001b[4m2\u001b[24m013     1     1     \u001b[4m2\u001b[24m120        \u001b[4m2\u001b[24m130     -\u001b[31m10\u001b[39m      16      18      -\u001b[31m2\u001b[39m B6     \n",
            "\u001b[90m# … with 9 more variables: flight <int>, tailnum <chr>, origin <chr>,\u001b[39m\n",
            "\u001b[90m#   dest <chr>, air_time <dbl>, distance <dbl>, hour <dbl>, minute <dbl>,\u001b[39m\n",
            "\u001b[90m#   time_hour <dttm>, and abbreviated variable names ¹​sched_dep_time,\u001b[39m\n",
            "\u001b[90m#   ²​dep_delay, ³​arr_time, ⁴​sched_arr_time, ⁵​arr_delay\u001b[39m\n"
          ]
        }
      ],
      "source": [
        "filter(flights, arr_time < dep_time) %>% head %>% print"
      ]
    },
    {
      "cell_type": "markdown",
      "metadata": {
        "id": "18dOf5cHQtJL"
      },
      "source": [
        "This is because these are overnight flights. To fix this, we can now simply add one day to `arr_time`:"
      ]
    },
    {
      "cell_type": "code",
      "execution_count": null,
      "metadata": {
        "id": "D_7yni0YQtJL",
        "outputId": "fd0af080-98a6-4588-b277-393193e04a71"
      },
      "outputs": [
        {
          "name": "stdout",
          "output_type": "stream",
          "text": [
            "# A tibble: 328,063 x 10\n",
            "   origin dest  dep_delay arr_delay dep_time            sched_dep_time     \n",
            "   <chr>  <chr>     <dbl>     <dbl> <dttm>              <dttm>             \n",
            " 1 EWR    IAH           2        11 2013-01-01 05:17:00 2013-01-01 05:15:00\n",
            " 2 LGA    IAH           4        20 2013-01-01 05:33:00 2013-01-01 05:29:00\n",
            " 3 JFK    MIA           2        33 2013-01-01 05:42:00 2013-01-01 05:40:00\n",
            " 4 JFK    BQN          -1       -18 2013-01-01 05:44:00 2013-01-01 05:45:00\n",
            " 5 LGA    ATL          -6       -25 2013-01-01 05:54:00 2013-01-01 06:00:00\n",
            " 6 EWR    ORD          -4        12 2013-01-01 05:54:00 2013-01-01 05:58:00\n",
            " 7 EWR    FLL          -5        19 2013-01-01 05:55:00 2013-01-01 06:00:00\n",
            " 8 LGA    IAD          -3       -14 2013-01-01 05:57:00 2013-01-01 06:00:00\n",
            " 9 JFK    MCO          -3        -8 2013-01-01 05:57:00 2013-01-01 06:00:00\n",
            "10 LGA    ORD          -2         8 2013-01-01 05:58:00 2013-01-01 06:00:00\n",
            "# … with 328,053 more rows, and 4 more variables: arr_time <dttm>,\n",
            "#   sched_arr_time <dttm>, air_time <dbl>, overnight <lgl>\n"
          ]
        }
      ],
      "source": [
        "# add one day to arr time"
      ]
    },
    {
      "cell_type": "code",
      "execution_count": null,
      "metadata": {
        "id": "adcPdKzlQtJL"
      },
      "outputs": [],
      "source": [
        "How does this affect calculations like average departure delay?"
      ]
    },
    {
      "cell_type": "markdown",
      "metadata": {
        "id": "vmfrzsl0QtJM"
      },
      "source": [
        "## Trump Twitter data\n",
        "Let's use what we learned in the past two classes to analyze some real data. "
      ]
    },
    {
      "cell_type": "code",
      "execution_count": 65,
      "metadata": {
        "id": "iTkObWw9QtJM",
        "outputId": "f44ab616-f4bb-4912-d54d-75ea9ce16db3",
        "colab": {
          "base_uri": "https://localhost:8080/"
        }
      },
      "outputs": [
        {
          "output_type": "stream",
          "name": "stderr",
          "text": [
            "Warning message:\n",
            "“\u001b[1m\u001b[22mOne or more parsing issues, call `problems()` on your data frame for details,\n",
            "e.g.:\n",
            "  dat <- vroom(...)\n",
            "  problems(dat)”\n",
            "\u001b[1mRows: \u001b[22m\u001b[34m23073\u001b[39m \u001b[1mColumns: \u001b[22m\u001b[34m4\u001b[39m\n",
            "\u001b[36m──\u001b[39m \u001b[1mColumn specification\u001b[22m \u001b[36m────────────────────────────────────────────────────────\u001b[39m\n",
            "\u001b[1mDelimiter:\u001b[22m \",\"\n",
            "\u001b[31mchr\u001b[39m  (3): ID, Tweet URL, Tweet Text\n",
            "\u001b[34mdttm\u001b[39m (1): Time\n",
            "\n",
            "\u001b[36mℹ\u001b[39m Use `spec()` to retrieve the full column specification for this data.\n",
            "\u001b[36mℹ\u001b[39m Specify the column types or set `show_col_types = FALSE` to quiet this message.\n"
          ]
        }
      ],
      "source": [
        "trump_tweets <- read_csv(\"https://github.com/MarkHershey/CompleteTrumpTweetsArchive/blob/master/data/realDonaldTrump_in_office.csv?raw=true\")"
      ]
    },
    {
      "cell_type": "markdown",
      "metadata": {
        "id": "_0CeowSQQtJP"
      },
      "source": [
        "`trump_tweets` is a dataset of all 23,073 Tweets that Donald Trump sent between taking office and getting kicked off Twitter in Jan 2021."
      ]
    },
    {
      "cell_type": "code",
      "execution_count": 66,
      "metadata": {
        "id": "i70s16oHQtJP",
        "outputId": "ecdcb42a-89e4-440f-8ed7-5f8f372c0082",
        "colab": {
          "base_uri": "https://localhost:8080/",
          "height": 792
        }
      },
      "outputs": [
        {
          "output_type": "display_data",
          "data": {
            "text/html": [
              "<table class=\"dataframe\">\n",
              "<caption>A tibble: 6 × 4</caption>\n",
              "<thead>\n",
              "\t<tr><th scope=col>ID</th><th scope=col>Time</th><th scope=col>Tweet URL</th><th scope=col>Tweet Text</th></tr>\n",
              "\t<tr><th scope=col>&lt;chr&gt;</th><th scope=col>&lt;dttm&gt;</th><th scope=col>&lt;chr&gt;</th><th scope=col>&lt;chr&gt;</th></tr>\n",
              "</thead>\n",
              "<tbody>\n",
              "\t<tr><td>@realDonaldTrump</td><td>2021-01-07 03:38:00</td><td>https://twitter.com/realDonaldTrump/status/1346904110969315332</td><td>Please support our Capitol Police and Law Enforcement. They are truly on the side of our Country. Stay peaceful!                                                                                                                  </td></tr>\n",
              "\t<tr><td>@realDonaldTrump</td><td>2021-01-07 04:13:00</td><td>https://twitter.com/realDonaldTrump/status/1346912780700577792</td><td><span style=white-space:pre-wrap>I am asking for everyone at the U.S. Capitol to remain peaceful. No violence! Remember, WE are the Party of Law &amp;amp; Order – respect the Law and our great men and women in Blue. Thank you!                                     </span></td></tr>\n",
              "\t<tr><td>@realDonaldTrump</td><td>2021-01-07 05:17:00</td><td>https://twitter.com/realDonaldTrump/status/1346928882595885058</td><td>https://t.co/Pm2PKV0Fp3                                                                                                                                                                                                           </td></tr>\n",
              "\t<tr><td>@realDonaldTrump</td><td>2021-01-08 08:10:00</td><td>https://twitter.com/realDonaldTrump/status/1347334804052844550</td><td>https://t.co/csX07ZVWGe                                                                                                                                                                                                           </td></tr>\n",
              "\t<tr><td>@realDonaldTrump</td><td>2021-01-08 22:46:00</td><td>https://twitter.com/realDonaldTrump/status/1347555316863553542</td><td>The 75,000,000 great American Patriots who voted for me, AMERICA FIRST, and MAKE AMERICA GREAT AGAIN, will have a GIANT VOICE long into the future. They will not be disrespected or treated unfairly in any way, shape or form!!!</td></tr>\n",
              "\t<tr><td>@realDonaldTrump</td><td>2021-01-08 23:44:00</td><td>https://twitter.com/realDonaldTrump/status/1347569870578266115</td><td>To all of those who have asked                                                                                                                                                                                                    </td></tr>\n",
              "</tbody>\n",
              "</table>\n"
            ],
            "text/markdown": "\nA tibble: 6 × 4\n\n| ID &lt;chr&gt; | Time &lt;dttm&gt; | Tweet URL &lt;chr&gt; | Tweet Text &lt;chr&gt; |\n|---|---|---|---|\n| @realDonaldTrump | 2021-01-07 03:38:00 | https://twitter.com/realDonaldTrump/status/1346904110969315332 | Please support our Capitol Police and Law Enforcement. They are truly on the side of our Country. Stay peaceful!                                                                                                                   |\n| @realDonaldTrump | 2021-01-07 04:13:00 | https://twitter.com/realDonaldTrump/status/1346912780700577792 | I am asking for everyone at the U.S. Capitol to remain peaceful. No violence! Remember, WE are the Party of Law &amp;amp; Order – respect the Law and our great men and women in Blue. Thank you!                                      |\n| @realDonaldTrump | 2021-01-07 05:17:00 | https://twitter.com/realDonaldTrump/status/1346928882595885058 | https://t.co/Pm2PKV0Fp3                                                                                                                                                                                                            |\n| @realDonaldTrump | 2021-01-08 08:10:00 | https://twitter.com/realDonaldTrump/status/1347334804052844550 | https://t.co/csX07ZVWGe                                                                                                                                                                                                            |\n| @realDonaldTrump | 2021-01-08 22:46:00 | https://twitter.com/realDonaldTrump/status/1347555316863553542 | The 75,000,000 great American Patriots who voted for me, AMERICA FIRST, and MAKE AMERICA GREAT AGAIN, will have a GIANT VOICE long into the future. They will not be disrespected or treated unfairly in any way, shape or form!!! |\n| @realDonaldTrump | 2021-01-08 23:44:00 | https://twitter.com/realDonaldTrump/status/1347569870578266115 | To all of those who have asked                                                                                                                                                                                                     |\n\n",
            "text/latex": "A tibble: 6 × 4\n\\begin{tabular}{llll}\n ID & Time & Tweet URL & Tweet Text\\\\\n <chr> & <dttm> & <chr> & <chr>\\\\\n\\hline\n\t @realDonaldTrump & 2021-01-07 03:38:00 & https://twitter.com/realDonaldTrump/status/1346904110969315332 & Please support our Capitol Police and Law Enforcement. They are truly on the side of our Country. Stay peaceful!                                                                                                                  \\\\\n\t @realDonaldTrump & 2021-01-07 04:13:00 & https://twitter.com/realDonaldTrump/status/1346912780700577792 & I am asking for everyone at the U.S. Capitol to remain peaceful. No violence! Remember, WE are the Party of Law \\&amp; Order – respect the Law and our great men and women in Blue. Thank you!                                     \\\\\n\t @realDonaldTrump & 2021-01-07 05:17:00 & https://twitter.com/realDonaldTrump/status/1346928882595885058 & https://t.co/Pm2PKV0Fp3                                                                                                                                                                                                           \\\\\n\t @realDonaldTrump & 2021-01-08 08:10:00 & https://twitter.com/realDonaldTrump/status/1347334804052844550 & https://t.co/csX07ZVWGe                                                                                                                                                                                                           \\\\\n\t @realDonaldTrump & 2021-01-08 22:46:00 & https://twitter.com/realDonaldTrump/status/1347555316863553542 & The 75,000,000 great American Patriots who voted for me, AMERICA FIRST, and MAKE AMERICA GREAT AGAIN, will have a GIANT VOICE long into the future. They will not be disrespected or treated unfairly in any way, shape or form!!!\\\\\n\t @realDonaldTrump & 2021-01-08 23:44:00 & https://twitter.com/realDonaldTrump/status/1347569870578266115 & To all of those who have asked                                                                                                                                                                                                    \\\\\n\\end{tabular}\n",
            "text/plain": [
              "  ID               Time               \n",
              "1 @realDonaldTrump 2021-01-07 03:38:00\n",
              "2 @realDonaldTrump 2021-01-07 04:13:00\n",
              "3 @realDonaldTrump 2021-01-07 05:17:00\n",
              "4 @realDonaldTrump 2021-01-08 08:10:00\n",
              "5 @realDonaldTrump 2021-01-08 22:46:00\n",
              "6 @realDonaldTrump 2021-01-08 23:44:00\n",
              "  Tweet URL                                                     \n",
              "1 https://twitter.com/realDonaldTrump/status/1346904110969315332\n",
              "2 https://twitter.com/realDonaldTrump/status/1346912780700577792\n",
              "3 https://twitter.com/realDonaldTrump/status/1346928882595885058\n",
              "4 https://twitter.com/realDonaldTrump/status/1347334804052844550\n",
              "5 https://twitter.com/realDonaldTrump/status/1347555316863553542\n",
              "6 https://twitter.com/realDonaldTrump/status/1347569870578266115\n",
              "  Tweet Text                                                                                                                                                                                                                        \n",
              "1 Please support our Capitol Police and Law Enforcement. They are truly on the side of our Country. Stay peaceful!                                                                                                                  \n",
              "2 I am asking for everyone at the U.S. Capitol to remain peaceful. No violence! Remember, WE are the Party of Law &amp; Order – respect the Law and our great men and women in Blue. Thank you!                                     \n",
              "3 https://t.co/Pm2PKV0Fp3                                                                                                                                                                                                           \n",
              "4 https://t.co/csX07ZVWGe                                                                                                                                                                                                           \n",
              "5 The 75,000,000 great American Patriots who voted for me, AMERICA FIRST, and MAKE AMERICA GREAT AGAIN, will have a GIANT VOICE long into the future. They will not be disrespected or treated unfairly in any way, shape or form!!!\n",
              "6 To all of those who have asked                                                                                                                                                                                                    "
            ]
          },
          "metadata": {}
        }
      ],
      "source": [
        "tail(trump_tweets)"
      ]
    },
    {
      "cell_type": "markdown",
      "metadata": {
        "id": "RuKbF1fFQtJQ"
      },
      "source": [
        "The number of Tweets that Donald Trump has made for each quarter of the year from 2010 to present."
      ]
    },
    {
      "cell_type": "code",
      "source": [
        "# number of tweets"
      ],
      "metadata": {
        "id": "-l4Z1zmiorBm",
        "outputId": "e2b4a807-0800-428f-97eb-dc94fbf22ecf",
        "colab": {
          "base_uri": "https://localhost:8080/",
          "height": 437
        }
      },
      "execution_count": 76,
      "outputs": [
        {
          "output_type": "display_data",
          "data": {
            "text/plain": [
              "plot without title"
            ],
            "image/png": "[encoded data removed]"
          },
          "metadata": {
            "image/png": {
              "width": 420,
              "height": 420
            }
          }
        }
      ]
    },
    {
      "cell_type": "markdown",
      "metadata": {
        "id": "aqSfgqI1QtJQ"
      },
      "source": [
        "Recall that `words` contains common English words. After filtering out these words, and all words that were shorter than six characters, the most common words that the President used were. Hint: use anti_join to remove stop_words"
      ]
    },
    {
      "cell_type": "code",
      "source": [],
      "metadata": {
        "id": "FtIxjfdovAvg"
      },
      "execution_count": null,
      "outputs": []
    },
    {
      "cell_type": "code",
      "source": [
        "stop_words"
      ],
      "metadata": {
        "id": "whzBgy_Rv52t",
        "outputId": "49fd9cc4-b8a2-4b6c-c602-6e6333f4cebc",
        "colab": {
          "base_uri": "https://localhost:8080/",
          "height": 1000
        }
      },
      "execution_count": 82,
      "outputs": [
        {
          "output_type": "display_data",
          "data": {
            "text/html": [
              "<table class=\"dataframe\">\n",
              "<caption>A tibble: 1149 × 2</caption>\n",
              "<thead>\n",
              "\t<tr><th scope=col>word</th><th scope=col>lexicon</th></tr>\n",
              "\t<tr><th scope=col>&lt;chr&gt;</th><th scope=col>&lt;chr&gt;</th></tr>\n",
              "</thead>\n",
              "<tbody>\n",
              "\t<tr><td>a          </td><td>SMART</td></tr>\n",
              "\t<tr><td>a's        </td><td>SMART</td></tr>\n",
              "\t<tr><td>able       </td><td>SMART</td></tr>\n",
              "\t<tr><td>about      </td><td>SMART</td></tr>\n",
              "\t<tr><td>above      </td><td>SMART</td></tr>\n",
              "\t<tr><td>according  </td><td>SMART</td></tr>\n",
              "\t<tr><td>accordingly</td><td>SMART</td></tr>\n",
              "\t<tr><td>across     </td><td>SMART</td></tr>\n",
              "\t<tr><td>actually   </td><td>SMART</td></tr>\n",
              "\t<tr><td>after      </td><td>SMART</td></tr>\n",
              "\t<tr><td>afterwards </td><td>SMART</td></tr>\n",
              "\t<tr><td>again      </td><td>SMART</td></tr>\n",
              "\t<tr><td>against    </td><td>SMART</td></tr>\n",
              "\t<tr><td>ain't      </td><td>SMART</td></tr>\n",
              "\t<tr><td>all        </td><td>SMART</td></tr>\n",
              "\t<tr><td>allow      </td><td>SMART</td></tr>\n",
              "\t<tr><td>allows     </td><td>SMART</td></tr>\n",
              "\t<tr><td>almost     </td><td>SMART</td></tr>\n",
              "\t<tr><td>alone      </td><td>SMART</td></tr>\n",
              "\t<tr><td>along      </td><td>SMART</td></tr>\n",
              "\t<tr><td>already    </td><td>SMART</td></tr>\n",
              "\t<tr><td>also       </td><td>SMART</td></tr>\n",
              "\t<tr><td>although   </td><td>SMART</td></tr>\n",
              "\t<tr><td>always     </td><td>SMART</td></tr>\n",
              "\t<tr><td>am         </td><td>SMART</td></tr>\n",
              "\t<tr><td>among      </td><td>SMART</td></tr>\n",
              "\t<tr><td>amongst    </td><td>SMART</td></tr>\n",
              "\t<tr><td>an         </td><td>SMART</td></tr>\n",
              "\t<tr><td>and        </td><td>SMART</td></tr>\n",
              "\t<tr><td>another    </td><td>SMART</td></tr>\n",
              "\t<tr><td>⋮</td><td>⋮</td></tr>\n",
              "\t<tr><td>went    </td><td>onix</td></tr>\n",
              "\t<tr><td>were    </td><td>onix</td></tr>\n",
              "\t<tr><td>what    </td><td>onix</td></tr>\n",
              "\t<tr><td>when    </td><td>onix</td></tr>\n",
              "\t<tr><td>where   </td><td>onix</td></tr>\n",
              "\t<tr><td>whether </td><td>onix</td></tr>\n",
              "\t<tr><td>which   </td><td>onix</td></tr>\n",
              "\t<tr><td>while   </td><td>onix</td></tr>\n",
              "\t<tr><td>who     </td><td>onix</td></tr>\n",
              "\t<tr><td>whole   </td><td>onix</td></tr>\n",
              "\t<tr><td>whose   </td><td>onix</td></tr>\n",
              "\t<tr><td>why     </td><td>onix</td></tr>\n",
              "\t<tr><td>will    </td><td>onix</td></tr>\n",
              "\t<tr><td>with    </td><td>onix</td></tr>\n",
              "\t<tr><td>within  </td><td>onix</td></tr>\n",
              "\t<tr><td>without </td><td>onix</td></tr>\n",
              "\t<tr><td>work    </td><td>onix</td></tr>\n",
              "\t<tr><td>worked  </td><td>onix</td></tr>\n",
              "\t<tr><td>working </td><td>onix</td></tr>\n",
              "\t<tr><td>works   </td><td>onix</td></tr>\n",
              "\t<tr><td>would   </td><td>onix</td></tr>\n",
              "\t<tr><td>year    </td><td>onix</td></tr>\n",
              "\t<tr><td>years   </td><td>onix</td></tr>\n",
              "\t<tr><td>yet     </td><td>onix</td></tr>\n",
              "\t<tr><td>you     </td><td>onix</td></tr>\n",
              "\t<tr><td>young   </td><td>onix</td></tr>\n",
              "\t<tr><td>younger </td><td>onix</td></tr>\n",
              "\t<tr><td>youngest</td><td>onix</td></tr>\n",
              "\t<tr><td>your    </td><td>onix</td></tr>\n",
              "\t<tr><td>yours   </td><td>onix</td></tr>\n",
              "</tbody>\n",
              "</table>\n"
            ],
            "text/markdown": "\nA tibble: 1149 × 2\n\n| word &lt;chr&gt; | lexicon &lt;chr&gt; |\n|---|---|\n| a           | SMART |\n| a's         | SMART |\n| able        | SMART |\n| about       | SMART |\n| above       | SMART |\n| according   | SMART |\n| accordingly | SMART |\n| across      | SMART |\n| actually    | SMART |\n| after       | SMART |\n| afterwards  | SMART |\n| again       | SMART |\n| against     | SMART |\n| ain't       | SMART |\n| all         | SMART |\n| allow       | SMART |\n| allows      | SMART |\n| almost      | SMART |\n| alone       | SMART |\n| along       | SMART |\n| already     | SMART |\n| also        | SMART |\n| although    | SMART |\n| always      | SMART |\n| am          | SMART |\n| among       | SMART |\n| amongst     | SMART |\n| an          | SMART |\n| and         | SMART |\n| another     | SMART |\n| ⋮ | ⋮ |\n| went     | onix |\n| were     | onix |\n| what     | onix |\n| when     | onix |\n| where    | onix |\n| whether  | onix |\n| which    | onix |\n| while    | onix |\n| who      | onix |\n| whole    | onix |\n| whose    | onix |\n| why      | onix |\n| will     | onix |\n| with     | onix |\n| within   | onix |\n| without  | onix |\n| work     | onix |\n| worked   | onix |\n| working  | onix |\n| works    | onix |\n| would    | onix |\n| year     | onix |\n| years    | onix |\n| yet      | onix |\n| you      | onix |\n| young    | onix |\n| younger  | onix |\n| youngest | onix |\n| your     | onix |\n| yours    | onix |\n\n",
            "text/latex": "A tibble: 1149 × 2\n\\begin{tabular}{ll}\n word & lexicon\\\\\n <chr> & <chr>\\\\\n\\hline\n\t a           & SMART\\\\\n\t a's         & SMART\\\\\n\t able        & SMART\\\\\n\t about       & SMART\\\\\n\t above       & SMART\\\\\n\t according   & SMART\\\\\n\t accordingly & SMART\\\\\n\t across      & SMART\\\\\n\t actually    & SMART\\\\\n\t after       & SMART\\\\\n\t afterwards  & SMART\\\\\n\t again       & SMART\\\\\n\t against     & SMART\\\\\n\t ain't       & SMART\\\\\n\t all         & SMART\\\\\n\t allow       & SMART\\\\\n\t allows      & SMART\\\\\n\t almost      & SMART\\\\\n\t alone       & SMART\\\\\n\t along       & SMART\\\\\n\t already     & SMART\\\\\n\t also        & SMART\\\\\n\t although    & SMART\\\\\n\t always      & SMART\\\\\n\t am          & SMART\\\\\n\t among       & SMART\\\\\n\t amongst     & SMART\\\\\n\t an          & SMART\\\\\n\t and         & SMART\\\\\n\t another     & SMART\\\\\n\t ⋮ & ⋮\\\\\n\t went     & onix\\\\\n\t were     & onix\\\\\n\t what     & onix\\\\\n\t when     & onix\\\\\n\t where    & onix\\\\\n\t whether  & onix\\\\\n\t which    & onix\\\\\n\t while    & onix\\\\\n\t who      & onix\\\\\n\t whole    & onix\\\\\n\t whose    & onix\\\\\n\t why      & onix\\\\\n\t will     & onix\\\\\n\t with     & onix\\\\\n\t within   & onix\\\\\n\t without  & onix\\\\\n\t work     & onix\\\\\n\t worked   & onix\\\\\n\t working  & onix\\\\\n\t works    & onix\\\\\n\t would    & onix\\\\\n\t year     & onix\\\\\n\t years    & onix\\\\\n\t yet      & onix\\\\\n\t you      & onix\\\\\n\t young    & onix\\\\\n\t younger  & onix\\\\\n\t youngest & onix\\\\\n\t your     & onix\\\\\n\t yours    & onix\\\\\n\\end{tabular}\n",
            "text/plain": [
              "     word        lexicon\n",
              "1    a           SMART  \n",
              "2    a's         SMART  \n",
              "3    able        SMART  \n",
              "4    about       SMART  \n",
              "5    above       SMART  \n",
              "6    according   SMART  \n",
              "7    accordingly SMART  \n",
              "8    across      SMART  \n",
              "9    actually    SMART  \n",
              "10   after       SMART  \n",
              "11   afterwards  SMART  \n",
              "12   again       SMART  \n",
              "13   against     SMART  \n",
              "14   ain't       SMART  \n",
              "15   all         SMART  \n",
              "16   allow       SMART  \n",
              "17   allows      SMART  \n",
              "18   almost      SMART  \n",
              "19   alone       SMART  \n",
              "20   along       SMART  \n",
              "21   already     SMART  \n",
              "22   also        SMART  \n",
              "23   although    SMART  \n",
              "24   always      SMART  \n",
              "25   am          SMART  \n",
              "26   among       SMART  \n",
              "27   amongst     SMART  \n",
              "28   an          SMART  \n",
              "29   and         SMART  \n",
              "30   another     SMART  \n",
              "⋮    ⋮           ⋮      \n",
              "1120 went        onix   \n",
              "1121 were        onix   \n",
              "1122 what        onix   \n",
              "1123 when        onix   \n",
              "1124 where       onix   \n",
              "1125 whether     onix   \n",
              "1126 which       onix   \n",
              "1127 while       onix   \n",
              "1128 who         onix   \n",
              "1129 whole       onix   \n",
              "1130 whose       onix   \n",
              "1131 why         onix   \n",
              "1132 will        onix   \n",
              "1133 with        onix   \n",
              "1134 within      onix   \n",
              "1135 without     onix   \n",
              "1136 work        onix   \n",
              "1137 worked      onix   \n",
              "1138 working     onix   \n",
              "1139 works       onix   \n",
              "1140 would       onix   \n",
              "1141 year        onix   \n",
              "1142 years       onix   \n",
              "1143 yet         onix   \n",
              "1144 you         onix   \n",
              "1145 young       onix   \n",
              "1146 younger     onix   \n",
              "1147 youngest    onix   \n",
              "1148 your        onix   \n",
              "1149 yours       onix   "
            ]
          },
          "metadata": {}
        }
      ]
    },
    {
      "cell_type": "code",
      "execution_count": null,
      "metadata": {
        "id": "OlQWH7aPQtJQ",
        "outputId": "0229ce67-d175-41e0-ab9f-08ee928f3f7b"
      },
      "outputs": [
        {
          "name": "stderr",
          "output_type": "stream",
          "text": [
            "\u001b[1m\u001b[22mJoining with `by = join_by(word)`\n",
            "\u001b[1m\u001b[22mSelecting by n\n"
          ]
        },
        {
          "data": {
            "text/html": [
              "<table class=\"dataframe\">\n",
              "<caption>A spec_tbl_df: 20 × 2</caption>\n",
              "<thead>\n",
              "\t<tr><th scope=col>word</th><th scope=col>n</th></tr>\n",
              "\t<tr><th scope=col>&lt;chr&gt;</th><th scope=col>&lt;int&gt;</th></tr>\n",
              "</thead>\n",
              "<tbody>\n",
              "\t<tr><td>america        </td><td> 1130</td></tr>\n",
              "\t<tr><td>american       </td><td> 1194</td></tr>\n",
              "\t<tr><td>amp            </td><td> 3468</td></tr>\n",
              "\t<tr><td>biden          </td><td>  946</td></tr>\n",
              "\t<tr><td>border         </td><td>  878</td></tr>\n",
              "\t<tr><td>country        </td><td> 1404</td></tr>\n",
              "\t<tr><td>democrats      </td><td> 1717</td></tr>\n",
              "\t<tr><td>election       </td><td>  922</td></tr>\n",
              "\t<tr><td>fake           </td><td> 1228</td></tr>\n",
              "\t<tr><td>house          </td><td>  868</td></tr>\n",
              "\t<tr><td>https          </td><td>12225</td></tr>\n",
              "\t<tr><td>media          </td><td>  902</td></tr>\n",
              "\t<tr><td>news           </td><td> 1526</td></tr>\n",
              "\t<tr><td>people         </td><td> 2219</td></tr>\n",
              "\t<tr><td>president      </td><td> 2883</td></tr>\n",
              "\t<tr><td>realdonaldtrump</td><td> 2371</td></tr>\n",
              "\t<tr><td>rt             </td><td> 7582</td></tr>\n",
              "\t<tr><td>time           </td><td> 1028</td></tr>\n",
              "\t<tr><td>trump          </td><td> 2249</td></tr>\n",
              "\t<tr><td>vote           </td><td>  980</td></tr>\n",
              "</tbody>\n",
              "</table>\n"
            ],
            "text/latex": [
              "A spec\\_tbl\\_df: 20 × 2\n",
              "\\begin{tabular}{ll}\n",
              " word & n\\\\\n",
              " <chr> & <int>\\\\\n",
              "\\hline\n",
              "\t america         &  1130\\\\\n",
              "\t american        &  1194\\\\\n",
              "\t amp             &  3468\\\\\n",
              "\t biden           &   946\\\\\n",
              "\t border          &   878\\\\\n",
              "\t country         &  1404\\\\\n",
              "\t democrats       &  1717\\\\\n",
              "\t election        &   922\\\\\n",
              "\t fake            &  1228\\\\\n",
              "\t house           &   868\\\\\n",
              "\t https           & 12225\\\\\n",
              "\t media           &   902\\\\\n",
              "\t news            &  1526\\\\\n",
              "\t people          &  2219\\\\\n",
              "\t president       &  2883\\\\\n",
              "\t realdonaldtrump &  2371\\\\\n",
              "\t rt              &  7582\\\\\n",
              "\t time            &  1028\\\\\n",
              "\t trump           &  2249\\\\\n",
              "\t vote            &   980\\\\\n",
              "\\end{tabular}\n"
            ],
            "text/markdown": [
              "\n",
              "A spec_tbl_df: 20 × 2\n",
              "\n",
              "| word &lt;chr&gt; | n &lt;int&gt; |\n",
              "|---|---|\n",
              "| america         |  1130 |\n",
              "| american        |  1194 |\n",
              "| amp             |  3468 |\n",
              "| biden           |   946 |\n",
              "| border          |   878 |\n",
              "| country         |  1404 |\n",
              "| democrats       |  1717 |\n",
              "| election        |   922 |\n",
              "| fake            |  1228 |\n",
              "| house           |   868 |\n",
              "| https           | 12225 |\n",
              "| media           |   902 |\n",
              "| news            |  1526 |\n",
              "| people          |  2219 |\n",
              "| president       |  2883 |\n",
              "| realdonaldtrump |  2371 |\n",
              "| rt              |  7582 |\n",
              "| time            |  1028 |\n",
              "| trump           |  2249 |\n",
              "| vote            |   980 |\n",
              "\n"
            ],
            "text/plain": [
              "   word            n    \n",
              "1  america          1130\n",
              "2  american         1194\n",
              "3  amp              3468\n",
              "4  biden             946\n",
              "5  border            878\n",
              "6  country          1404\n",
              "7  democrats        1717\n",
              "8  election          922\n",
              "9  fake             1228\n",
              "10 house             868\n",
              "11 https           12225\n",
              "12 media             902\n",
              "13 news             1526\n",
              "14 people           2219\n",
              "15 president        2883\n",
              "16 realdonaldtrump  2371\n",
              "17 rt               7582\n",
              "18 time             1028\n",
              "19 trump            2249\n",
              "20 vote              980"
            ]
          },
          "metadata": {},
          "output_type": "display_data"
        }
      ],
      "source": [
        "# top words"
      ]
    },
    {
      "cell_type": "markdown",
      "metadata": {
        "id": "DtZvsUW_QtJQ"
      },
      "source": [
        "What were the president's favorite #hashtags?"
      ]
    },
    {
      "cell_type": "code",
      "execution_count": 102,
      "metadata": {
        "scrolled": true,
        "id": "FrUL5JO3QtJR",
        "outputId": "6061f0c6-f03c-4aae-9cbb-4ffa73cf5536",
        "colab": {
          "base_uri": "https://localhost:8080/",
          "height": 429
        }
      },
      "outputs": [
        {
          "output_type": "stream",
          "name": "stderr",
          "text": [
            "\u001b[1m\u001b[22mSelecting by n\n"
          ]
        },
        {
          "output_type": "display_data",
          "data": {
            "text/html": [
              "<table class=\"dataframe\">\n",
              "<caption>A tibble: 10 × 2</caption>\n",
              "<thead>\n",
              "\t<tr><th scope=col>hashtag</th><th scope=col>n</th></tr>\n",
              "\t<tr><th scope=col>&lt;chr&gt;</th><th scope=col>&lt;int&gt;</th></tr>\n",
              "</thead>\n",
              "<tbody>\n",
              "\t<tr><td>#1           </td><td>   26</td></tr>\n",
              "\t<tr><td>#AmericaFirst</td><td>   32</td></tr>\n",
              "\t<tr><td>#COVID19     </td><td>   49</td></tr>\n",
              "\t<tr><td>#Dorian      </td><td>   36</td></tr>\n",
              "\t<tr><td>#FakeNews    </td><td>   25</td></tr>\n",
              "\t<tr><td>#KAG2020     </td><td>   52</td></tr>\n",
              "\t<tr><td>#MAGA        </td><td>  392</td></tr>\n",
              "\t<tr><td>#USMCA       </td><td>   31</td></tr>\n",
              "\t<tr><td>#coronavirus </td><td>   24</td></tr>\n",
              "\t<tr><td>NA           </td><td>20139</td></tr>\n",
              "</tbody>\n",
              "</table>\n"
            ],
            "text/markdown": "\nA tibble: 10 × 2\n\n| hashtag &lt;chr&gt; | n &lt;int&gt; |\n|---|---|\n| #1            |    26 |\n| #AmericaFirst |    32 |\n| #COVID19      |    49 |\n| #Dorian       |    36 |\n| #FakeNews     |    25 |\n| #KAG2020      |    52 |\n| #MAGA         |   392 |\n| #USMCA        |    31 |\n| #coronavirus  |    24 |\n| NA            | 20139 |\n\n",
            "text/latex": "A tibble: 10 × 2\n\\begin{tabular}{ll}\n hashtag & n\\\\\n <chr> & <int>\\\\\n\\hline\n\t \\#1            &    26\\\\\n\t \\#AmericaFirst &    32\\\\\n\t \\#COVID19      &    49\\\\\n\t \\#Dorian       &    36\\\\\n\t \\#FakeNews     &    25\\\\\n\t \\#KAG2020      &    52\\\\\n\t \\#MAGA         &   392\\\\\n\t \\#USMCA        &    31\\\\\n\t \\#coronavirus  &    24\\\\\n\t NA            & 20139\\\\\n\\end{tabular}\n",
            "text/plain": [
              "   hashtag       n    \n",
              "1  #1               26\n",
              "2  #AmericaFirst    32\n",
              "3  #COVID19         49\n",
              "4  #Dorian          36\n",
              "5  #FakeNews        25\n",
              "6  #KAG2020         52\n",
              "7  #MAGA           392\n",
              "8  #USMCA           31\n",
              "9  #coronavirus     24\n",
              "10 NA            20139"
            ]
          },
          "metadata": {}
        }
      ],
      "source": [
        "# favorite hashtags\n",
        "\n",
        "trump_tweets %>% \n",
        "  mutate(hashtag = str_extract(`Tweet Text`, regex('# ?\\\\w+\\\\b'))) %>% \n",
        "    count(hashtag) %>% top_n(10)"
      ]
    },
    {
      "cell_type": "markdown",
      "metadata": {
        "id": "Ml34vVvXQtJR"
      },
      "source": [
        "At what hour of the day (or night) is the Donald Trump most likely to tweet, and how has this changed over time?"
      ]
    },
    {
      "cell_type": "code",
      "execution_count": null,
      "metadata": {
        "id": "s9vi545eQtJR"
      },
      "outputs": [],
      "source": [
        "# Solution"
      ]
    }
  ],
  "metadata": {
    "celltoolbar": "Slideshow",
    "kernelspec": {
      "display_name": "R",
      "language": "R",
      "name": "ir"
    },
    "language_info": {
      "codemirror_mode": "r",
      "file_extension": ".r",
      "mimetype": "text/x-r-source",
      "name": "R",
      "pygments_lexer": "r",
      "version": "4.2.1"
    },
    "toc": {
      "nav_menu": {},
      "number_sections": true,
      "sideBar": true,
      "skip_h1_title": true,
      "toc_cell": false,
      "toc_position": {},
      "toc_section_display": "block",
      "toc_window_display": true
    },
    "colab": {
      "provenance": []
    }
  },
  "nbformat": 4,
  "nbformat_minor": 0
}