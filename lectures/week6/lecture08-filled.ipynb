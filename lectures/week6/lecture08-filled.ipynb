{
  "cells": [
    {
      "cell_type": "markdown",
      "metadata": {
        "id": "21uEKXE4ZnFi"
      },
      "source": [
        "# Lecture 09: Relational Data\n",
        "<div style=\"border: 1px double black; padding: 10px; margin: 10px\">\n",
        "\n",
        "**Goals for today's lecture:**\n",
        "* Learn about [keys](#Keys)\n",
        "* Different types of [relations](#Relations) between tables\n",
        "* [Commands for joining related tables together](#Outer-joins)\n",
        "</div>\n"
      ]
    },
    {
      "cell_type": "markdown",
      "metadata": {
        "id": "Q43WMoxiZnFm"
      },
      "source": [
        "We have already spent a lot of time analyzing the `flights` table. In fact, there are four other tables in `nycflights13` that contain related information about these flights:"
      ]
    },
    {
      "cell_type": "code",
      "execution_count": 37,
      "metadata": {
        "id": "rvhddC6zZnFn"
      },
      "outputs": [],
      "source": [
        "# install.packages('nycflights13')\n",
        "library(tidyverse)\n",
        "library(nycflights13)"
      ]
    },
    {
      "cell_type": "code",
      "execution_count": null,
      "metadata": {
        "id": "8UpTlgDqZnFq",
        "outputId": "42ad7453-ca9d-4a91-ef2c-db1f343b3315"
      },
      "outputs": [
        {
          "name": "stdout",
          "output_type": "stream",
          "text": [
            "\u001b[90m# A tibble: 16 × 2\u001b[39m\n",
            "   carrier name                       \n",
            "   \u001b[3m\u001b[90m<chr>\u001b[39m\u001b[23m   \u001b[3m\u001b[90m<chr>\u001b[39m\u001b[23m                      \n",
            "\u001b[90m 1\u001b[39m 9E      Endeavor Air Inc.          \n",
            "\u001b[90m 2\u001b[39m AA      American Airlines Inc.     \n",
            "\u001b[90m 3\u001b[39m AS      Alaska Airlines Inc.       \n",
            "\u001b[90m 4\u001b[39m B6      JetBlue Airways            \n",
            "\u001b[90m 5\u001b[39m DL      Delta Air Lines Inc.       \n",
            "\u001b[90m 6\u001b[39m EV      ExpressJet Airlines Inc.   \n",
            "\u001b[90m 7\u001b[39m F9      Frontier Airlines Inc.     \n",
            "\u001b[90m 8\u001b[39m FL      AirTran Airways Corporation\n",
            "\u001b[90m 9\u001b[39m HA      Hawaiian Airlines Inc.     \n",
            "\u001b[90m10\u001b[39m MQ      Envoy Air                  \n",
            "\u001b[90m11\u001b[39m OO      SkyWest Airlines Inc.      \n",
            "\u001b[90m12\u001b[39m UA      United Air Lines Inc.      \n",
            "\u001b[90m13\u001b[39m US      US Airways Inc.            \n",
            "\u001b[90m14\u001b[39m VX      Virgin America             \n",
            "\u001b[90m15\u001b[39m WN      Southwest Airlines Co.     \n",
            "\u001b[90m16\u001b[39m YV      Mesa Airlines Inc.         \n"
          ]
        }
      ],
      "source": [
        "print(airlines)"
      ]
    },
    {
      "cell_type": "code",
      "execution_count": 38,
      "metadata": {
        "id": "fTJsL9wrZnFt",
        "outputId": "7db46173-bad8-4e1b-a7c6-600b075cfaa9",
        "colab": {
          "base_uri": "https://localhost:8080/",
          "height": 147
        }
      },
      "outputs": [
        {
          "output_type": "display_data",
          "data": {
            "text/html": [
              "<table class=\"dataframe\">\n",
              "<caption>A tibble: 1 × 8</caption>\n",
              "<thead>\n",
              "\t<tr><th scope=col>faa</th><th scope=col>name</th><th scope=col>lat</th><th scope=col>lon</th><th scope=col>alt</th><th scope=col>tz</th><th scope=col>dst</th><th scope=col>tzone</th></tr>\n",
              "\t<tr><th scope=col>&lt;chr&gt;</th><th scope=col>&lt;chr&gt;</th><th scope=col>&lt;dbl&gt;</th><th scope=col>&lt;dbl&gt;</th><th scope=col>&lt;dbl&gt;</th><th scope=col>&lt;dbl&gt;</th><th scope=col>&lt;chr&gt;</th><th scope=col>&lt;chr&gt;</th></tr>\n",
              "</thead>\n",
              "<tbody>\n",
              "\t<tr><td>DTW</td><td>Detroit Metro Wayne Co</td><td>42.21244</td><td>-83.35339</td><td>645</td><td>-5</td><td>A</td><td>America/New_York</td></tr>\n",
              "</tbody>\n",
              "</table>\n"
            ],
            "text/markdown": "\nA tibble: 1 × 8\n\n| faa &lt;chr&gt; | name &lt;chr&gt; | lat &lt;dbl&gt; | lon &lt;dbl&gt; | alt &lt;dbl&gt; | tz &lt;dbl&gt; | dst &lt;chr&gt; | tzone &lt;chr&gt; |\n|---|---|---|---|---|---|---|---|\n| DTW | Detroit Metro Wayne Co | 42.21244 | -83.35339 | 645 | -5 | A | America/New_York |\n\n",
            "text/latex": "A tibble: 1 × 8\n\\begin{tabular}{llllllll}\n faa & name & lat & lon & alt & tz & dst & tzone\\\\\n <chr> & <chr> & <dbl> & <dbl> & <dbl> & <dbl> & <chr> & <chr>\\\\\n\\hline\n\t DTW & Detroit Metro Wayne Co & 42.21244 & -83.35339 & 645 & -5 & A & America/New\\_York\\\\\n\\end{tabular}\n",
            "text/plain": [
              "  faa name                   lat      lon       alt tz dst tzone           \n",
              "1 DTW Detroit Metro Wayne Co 42.21244 -83.35339 645 -5 A   America/New_York"
            ]
          },
          "metadata": {}
        }
      ],
      "source": [
        "airports %>% filter(faa == \"DTW\")"
      ]
    },
    {
      "cell_type": "code",
      "execution_count": 39,
      "metadata": {
        "id": "qVeNyqEbZnFu",
        "outputId": "38290064-d14c-4237-dcb9-df3b46a4c2c4",
        "colab": {
          "base_uri": "https://localhost:8080/"
        }
      },
      "outputs": [
        {
          "output_type": "stream",
          "name": "stdout",
          "text": [
            "\u001b[90m# A tibble: 3,322 × 9\u001b[39m\n",
            "   tailnum  year type                   manuf…¹ model engines seats speed engine\n",
            "   \u001b[3m\u001b[90m<chr>\u001b[39m\u001b[23m   \u001b[3m\u001b[90m<int>\u001b[39m\u001b[23m \u001b[3m\u001b[90m<chr>\u001b[39m\u001b[23m                  \u001b[3m\u001b[90m<chr>\u001b[39m\u001b[23m   \u001b[3m\u001b[90m<chr>\u001b[39m\u001b[23m   \u001b[3m\u001b[90m<int>\u001b[39m\u001b[23m \u001b[3m\u001b[90m<int>\u001b[39m\u001b[23m \u001b[3m\u001b[90m<int>\u001b[39m\u001b[23m \u001b[3m\u001b[90m<chr>\u001b[39m\u001b[23m \n",
            "\u001b[90m 1\u001b[39m N10156   \u001b[4m2\u001b[24m004 Fixed wing multi engi… EMBRAER EMB-…       2    55    \u001b[31mNA\u001b[39m Turbo…\n",
            "\u001b[90m 2\u001b[39m N102UW   \u001b[4m1\u001b[24m998 Fixed wing multi engi… AIRBUS… A320…       2   182    \u001b[31mNA\u001b[39m Turbo…\n",
            "\u001b[90m 3\u001b[39m N103US   \u001b[4m1\u001b[24m999 Fixed wing multi engi… AIRBUS… A320…       2   182    \u001b[31mNA\u001b[39m Turbo…\n",
            "\u001b[90m 4\u001b[39m N104UW   \u001b[4m1\u001b[24m999 Fixed wing multi engi… AIRBUS… A320…       2   182    \u001b[31mNA\u001b[39m Turbo…\n",
            "\u001b[90m 5\u001b[39m N10575   \u001b[4m2\u001b[24m002 Fixed wing multi engi… EMBRAER EMB-…       2    55    \u001b[31mNA\u001b[39m Turbo…\n",
            "\u001b[90m 6\u001b[39m N105UW   \u001b[4m1\u001b[24m999 Fixed wing multi engi… AIRBUS… A320…       2   182    \u001b[31mNA\u001b[39m Turbo…\n",
            "\u001b[90m 7\u001b[39m N107US   \u001b[4m1\u001b[24m999 Fixed wing multi engi… AIRBUS… A320…       2   182    \u001b[31mNA\u001b[39m Turbo…\n",
            "\u001b[90m 8\u001b[39m N108UW   \u001b[4m1\u001b[24m999 Fixed wing multi engi… AIRBUS… A320…       2   182    \u001b[31mNA\u001b[39m Turbo…\n",
            "\u001b[90m 9\u001b[39m N109UW   \u001b[4m1\u001b[24m999 Fixed wing multi engi… AIRBUS… A320…       2   182    \u001b[31mNA\u001b[39m Turbo…\n",
            "\u001b[90m10\u001b[39m N110UW   \u001b[4m1\u001b[24m999 Fixed wing multi engi… AIRBUS… A320…       2   182    \u001b[31mNA\u001b[39m Turbo…\n",
            "\u001b[90m# … with 3,312 more rows, and abbreviated variable name ¹​manufacturer\u001b[39m\n"
          ]
        }
      ],
      "source": [
        "print(planes)"
      ]
    },
    {
      "cell_type": "code",
      "execution_count": 40,
      "metadata": {
        "id": "_dNhAqUjZnFv",
        "outputId": "1d268801-c4ae-438f-982a-3ca88b22911a",
        "colab": {
          "base_uri": "https://localhost:8080/"
        }
      },
      "outputs": [
        {
          "output_type": "stream",
          "name": "stdout",
          "text": [
            "\u001b[90m# A tibble: 26,115 × 15\u001b[39m\n",
            "   origin  year month   day  hour  temp  dewp humid wind_dir wind_speed wind_g…¹\n",
            "   \u001b[3m\u001b[90m<chr>\u001b[39m\u001b[23m  \u001b[3m\u001b[90m<int>\u001b[39m\u001b[23m \u001b[3m\u001b[90m<int>\u001b[39m\u001b[23m \u001b[3m\u001b[90m<int>\u001b[39m\u001b[23m \u001b[3m\u001b[90m<int>\u001b[39m\u001b[23m \u001b[3m\u001b[90m<dbl>\u001b[39m\u001b[23m \u001b[3m\u001b[90m<dbl>\u001b[39m\u001b[23m \u001b[3m\u001b[90m<dbl>\u001b[39m\u001b[23m    \u001b[3m\u001b[90m<dbl>\u001b[39m\u001b[23m      \u001b[3m\u001b[90m<dbl>\u001b[39m\u001b[23m    \u001b[3m\u001b[90m<dbl>\u001b[39m\u001b[23m\n",
            "\u001b[90m 1\u001b[39m EWR     \u001b[4m2\u001b[24m013     1     1     1  39.0  26.1  59.4      270      10.4        \u001b[31mNA\u001b[39m\n",
            "\u001b[90m 2\u001b[39m EWR     \u001b[4m2\u001b[24m013     1     1     2  39.0  27.0  61.6      250       8.06       \u001b[31mNA\u001b[39m\n",
            "\u001b[90m 3\u001b[39m EWR     \u001b[4m2\u001b[24m013     1     1     3  39.0  28.0  64.4      240      11.5        \u001b[31mNA\u001b[39m\n",
            "\u001b[90m 4\u001b[39m EWR     \u001b[4m2\u001b[24m013     1     1     4  39.9  28.0  62.2      250      12.7        \u001b[31mNA\u001b[39m\n",
            "\u001b[90m 5\u001b[39m EWR     \u001b[4m2\u001b[24m013     1     1     5  39.0  28.0  64.4      260      12.7        \u001b[31mNA\u001b[39m\n",
            "\u001b[90m 6\u001b[39m EWR     \u001b[4m2\u001b[24m013     1     1     6  37.9  28.0  67.2      240      11.5        \u001b[31mNA\u001b[39m\n",
            "\u001b[90m 7\u001b[39m EWR     \u001b[4m2\u001b[24m013     1     1     7  39.0  28.0  64.4      240      15.0        \u001b[31mNA\u001b[39m\n",
            "\u001b[90m 8\u001b[39m EWR     \u001b[4m2\u001b[24m013     1     1     8  39.9  28.0  62.2      250      10.4        \u001b[31mNA\u001b[39m\n",
            "\u001b[90m 9\u001b[39m EWR     \u001b[4m2\u001b[24m013     1     1     9  39.9  28.0  62.2      260      15.0        \u001b[31mNA\u001b[39m\n",
            "\u001b[90m10\u001b[39m EWR     \u001b[4m2\u001b[24m013     1     1    10  41    28.0  59.6      260      13.8        \u001b[31mNA\u001b[39m\n",
            "\u001b[90m# … with 26,105 more rows, 4 more variables: precip <dbl>, pressure <dbl>,\u001b[39m\n",
            "\u001b[90m#   visib <dbl>, time_hour <dttm>, and abbreviated variable name ¹​wind_gust\u001b[39m\n"
          ]
        }
      ],
      "source": [
        "print(weather)"
      ]
    },
    {
      "cell_type": "markdown",
      "metadata": {
        "id": "CWKivkErZnFv"
      },
      "source": [
        "Together these four tables form a *relational database*. The relationships can be graphed like so:\n",
        "![table relationships](http://r4ds.had.co.nz/diagrams/relational-nycflights.png)"
      ]
    },
    {
      "cell_type": "markdown",
      "metadata": {
        "id": "xoENgEHaZnFw"
      },
      "source": [
        "The particular relationships in this database are:\n",
        "- `flights` connects to `planes` via `tailnum`.\n",
        "- `flights` connects to `airlines` via `carrier`.\n",
        "- `flights` connects to `airports` twice: via `origin` and `dest`.\n",
        "- `flights` connects to `weather` via `origin` (the location), and `year`, `month`, `day` and `hour`."
      ]
    },
    {
      "cell_type": "markdown",
      "metadata": {
        "id": "tnlq31dAZnFw"
      },
      "source": [
        "## Keys\n",
        "The \"key\" to understanding relational databases is... keys. \n",
        "\n"
      ]
    },
    {
      "cell_type": "markdown",
      "metadata": {
        "id": "fCUkuIs0ZnFx"
      },
      "source": [
        "### Primary Key\n",
        "A *primary key* is a variable (or set of variables) that uniquely identifies an observation in its own table: there is **at most** one row in the table that corresponds to any setting of the columns which comprise the key."
      ]
    },
    {
      "cell_type": "markdown",
      "metadata": {
        "id": "2IUw8nVoZnFy"
      },
      "source": [
        "In the `planes` table, each airplane is identified by its `tailnum`:"
      ]
    },
    {
      "cell_type": "code",
      "execution_count": null,
      "metadata": {
        "id": "1OhjMys9ZnFz",
        "outputId": "096d2f7b-2449-47b8-8f15-95a51a925f3d"
      },
      "outputs": [
        {
          "name": "stdout",
          "output_type": "stream",
          "text": [
            "# A tibble: 3,322 x 9\n",
            "   tailnum  year type          manufacturer   model  engines seats speed engine \n",
            "   <chr>   <int> <chr>         <chr>          <chr>    <int> <int> <int> <chr>  \n",
            " 1 N10156   2004 Fixed wing m… EMBRAER        EMB-1…       2    55    NA Turbo-…\n",
            " 2 N102UW   1998 Fixed wing m… AIRBUS INDUST… A320-…       2   182    NA Turbo-…\n",
            " 3 N103US   1999 Fixed wing m… AIRBUS INDUST… A320-…       2   182    NA Turbo-…\n",
            " 4 N104UW   1999 Fixed wing m… AIRBUS INDUST… A320-…       2   182    NA Turbo-…\n",
            " 5 N10575   2002 Fixed wing m… EMBRAER        EMB-1…       2    55    NA Turbo-…\n",
            " 6 N105UW   1999 Fixed wing m… AIRBUS INDUST… A320-…       2   182    NA Turbo-…\n",
            " 7 N107US   1999 Fixed wing m… AIRBUS INDUST… A320-…       2   182    NA Turbo-…\n",
            " 8 N108UW   1999 Fixed wing m… AIRBUS INDUST… A320-…       2   182    NA Turbo-…\n",
            " 9 N109UW   1999 Fixed wing m… AIRBUS INDUST… A320-…       2   182    NA Turbo-…\n",
            "10 N110UW   1999 Fixed wing m… AIRBUS INDUST… A320-…       2   182    NA Turbo-…\n",
            "# … with 3,312 more rows\n"
          ]
        }
      ],
      "source": [
        "print(planes)"
      ]
    },
    {
      "cell_type": "markdown",
      "metadata": {
        "id": "SFvZTe1LZnFz"
      },
      "source": [
        "The tail number of an airplane is assigned by a government agency and is unique: no two planes can have the same tail number. Thus, `tailnum` should be a primary key in this table. \n",
        "\n",
        "To check that one or more variables constitutes a primary key, we can group by those variables and then check that the number of distinct values equals the number of rows in the data set:"
      ]
    },
    {
      "cell_type": "code",
      "execution_count": 41,
      "metadata": {
        "id": "srfVrOiIZnF0",
        "outputId": "9edbce19-3b44-43dc-ce0e-8a8561d6e9f1",
        "colab": {
          "base_uri": "https://localhost:8080/",
          "height": 129
        }
      },
      "outputs": [
        {
          "output_type": "display_data",
          "data": {
            "text/html": [
              "<table class=\"dataframe\">\n",
              "<caption>A tibble: 1 × 2</caption>\n",
              "<thead>\n",
              "\t<tr><th scope=col>n</th><th scope=col>nd</th></tr>\n",
              "\t<tr><th scope=col>&lt;int&gt;</th><th scope=col>&lt;int&gt;</th></tr>\n",
              "</thead>\n",
              "<tbody>\n",
              "\t<tr><td>3322</td><td>3322</td></tr>\n",
              "</tbody>\n",
              "</table>\n"
            ],
            "text/markdown": "\nA tibble: 1 × 2\n\n| n &lt;int&gt; | nd &lt;int&gt; |\n|---|---|\n| 3322 | 3322 |\n\n",
            "text/latex": "A tibble: 1 × 2\n\\begin{tabular}{ll}\n n & nd\\\\\n <int> & <int>\\\\\n\\hline\n\t 3322 & 3322\\\\\n\\end{tabular}\n",
            "text/plain": [
              "  n    nd  \n",
              "1 3322 3322"
            ]
          },
          "metadata": {}
        }
      ],
      "source": [
        "# planes %>% print\n",
        "planes %>% summarize(n = n(), nd = n_distinct(tailnum))"
      ]
    },
    {
      "cell_type": "markdown",
      "metadata": {
        "id": "-qkhuWr8ZnF0"
      },
      "source": [
        "Compare with `flights`, where tailnum does *not* uniquely identify each row. (There are many flights present for the same airplane.)"
      ]
    },
    {
      "cell_type": "code",
      "execution_count": 43,
      "metadata": {
        "id": "whEmpF_uZnF1",
        "outputId": "3e19cf4f-52f1-4bd1-fe2a-721e0eca9f93",
        "colab": {
          "base_uri": "https://localhost:8080/"
        }
      },
      "outputs": [
        {
          "output_type": "stream",
          "name": "stdout",
          "text": [
            "\u001b[90m# A tibble: 4,044 × 2\u001b[39m\n",
            "   tailnum     n\n",
            "   \u001b[3m\u001b[90m<chr>\u001b[39m\u001b[23m   \u001b[3m\u001b[90m<int>\u001b[39m\u001b[23m\n",
            "\u001b[90m 1\u001b[39m D942DN      4\n",
            "\u001b[90m 2\u001b[39m N0EGMQ    371\n",
            "\u001b[90m 3\u001b[39m N10156    153\n",
            "\u001b[90m 4\u001b[39m N102UW     48\n",
            "\u001b[90m 5\u001b[39m N103US     46\n",
            "\u001b[90m 6\u001b[39m N104UW     47\n",
            "\u001b[90m 7\u001b[39m N10575    289\n",
            "\u001b[90m 8\u001b[39m N105UW     45\n",
            "\u001b[90m 9\u001b[39m N107US     41\n",
            "\u001b[90m10\u001b[39m N108UW     60\n",
            "\u001b[90m# … with 4,034 more rows\u001b[39m\n"
          ]
        }
      ],
      "source": [
        "count(flights, tailnum) %>% print"
      ]
    },
    {
      "cell_type": "markdown",
      "metadata": {
        "id": "1NwYLxhnZnF1"
      },
      "source": [
        "What is the primary key for the `flights` table?"
      ]
    },
    {
      "cell_type": "code",
      "execution_count": 47,
      "metadata": {
        "id": "sMEN7zNxZnF2",
        "outputId": "06737609-3c8c-4e28-8967-8b39baee7a46",
        "colab": {
          "base_uri": "https://localhost:8080/"
        }
      },
      "outputs": [
        {
          "output_type": "stream",
          "name": "stdout",
          "text": [
            "\u001b[90m# A tibble: 0 × 6\u001b[39m\n",
            "\u001b[90m# … with 6 variables: year <int>, month <int>, day <int>, dep_time <int>,\u001b[39m\n",
            "\u001b[90m#   tailnum <chr>, n <int>\u001b[39m\n"
          ]
        }
      ],
      "source": [
        "flights %>% \n",
        "  filter(!is.na(tailnum)) %>% \n",
        "    count(year, month, day, dep_time, tailnum)  %>%\n",
        "      filter(n>1, !is.na(dep_time)) %>% print"
      ]
    },
    {
      "cell_type": "markdown",
      "metadata": {
        "id": "Z7t8wEXhZnF2"
      },
      "source": [
        "We might guess that `year`, `month`, `day`, and `tailnum` are sufficient to identify each row in `flights`, but this is not true:"
      ]
    },
    {
      "cell_type": "code",
      "execution_count": 48,
      "metadata": {
        "id": "E9M-hHhyZnF2",
        "outputId": "1e85ccbd-4564-4c06-e208-10f430d80c0a",
        "colab": {
          "base_uri": "https://localhost:8080/",
          "height": 129
        }
      },
      "outputs": [
        {
          "output_type": "display_data",
          "data": {
            "text/html": [
              "<table class=\"dataframe\">\n",
              "<caption>A tibble: 1 × 2</caption>\n",
              "<thead>\n",
              "\t<tr><th scope=col>n</th><th scope=col>nd</th></tr>\n",
              "\t<tr><th scope=col>&lt;int&gt;</th><th scope=col>&lt;int&gt;</th></tr>\n",
              "</thead>\n",
              "<tbody>\n",
              "\t<tr><td>336776</td><td>251727</td></tr>\n",
              "</tbody>\n",
              "</table>\n"
            ],
            "text/markdown": "\nA tibble: 1 × 2\n\n| n &lt;int&gt; | nd &lt;int&gt; |\n|---|---|\n| 336776 | 251727 |\n\n",
            "text/latex": "A tibble: 1 × 2\n\\begin{tabular}{ll}\n n & nd\\\\\n <int> & <int>\\\\\n\\hline\n\t 336776 & 251727\\\\\n\\end{tabular}\n",
            "text/plain": [
              "  n      nd    \n",
              "1 336776 251727"
            ]
          },
          "metadata": {}
        }
      ],
      "source": [
        "flights %>% summarize(n=n(), nd=n_distinct(year, month, day, tailnum))"
      ]
    },
    {
      "cell_type": "markdown",
      "metadata": {
        "id": "l_ggVzonZnF3"
      },
      "source": [
        "In fact, even restricting to the exact *minute* that an airplane departed is not sufficient:"
      ]
    },
    {
      "cell_type": "code",
      "execution_count": 49,
      "metadata": {
        "id": "AKuTdP2gZnF3",
        "outputId": "9c65344c-39a6-473d-e24d-fa50c5598f9e",
        "colab": {
          "base_uri": "https://localhost:8080/",
          "height": 129
        }
      },
      "outputs": [
        {
          "output_type": "display_data",
          "data": {
            "text/html": [
              "<table class=\"dataframe\">\n",
              "<caption>A tibble: 1 × 2</caption>\n",
              "<thead>\n",
              "\t<tr><th scope=col>n</th><th scope=col>nd</th></tr>\n",
              "\t<tr><th scope=col>&lt;int&gt;</th><th scope=col>&lt;int&gt;</th></tr>\n",
              "</thead>\n",
              "<tbody>\n",
              "\t<tr><td>336776</td><td>336367</td></tr>\n",
              "</tbody>\n",
              "</table>\n"
            ],
            "text/markdown": "\nA tibble: 1 × 2\n\n| n &lt;int&gt; | nd &lt;int&gt; |\n|---|---|\n| 336776 | 336367 |\n\n",
            "text/latex": "A tibble: 1 × 2\n\\begin{tabular}{ll}\n n & nd\\\\\n <int> & <int>\\\\\n\\hline\n\t 336776 & 336367\\\\\n\\end{tabular}\n",
            "text/plain": [
              "  n      nd    \n",
              "1 336776 336367"
            ]
          },
          "metadata": {}
        }
      ],
      "source": [
        "flights %>% summarize(n=n(), nd=n_distinct(tailnum, time_hour, minute))"
      ]
    },
    {
      "cell_type": "markdown",
      "metadata": {
        "id": "EHO7DrvXZnF3"
      },
      "source": [
        "This says that there are certain airplanes that are marked as having departed more than once in the same year, month, day, hour and minute. We can inspect these rows as follows:"
      ]
    },
    {
      "cell_type": "code",
      "execution_count": 50,
      "metadata": {
        "id": "iR_UhUhgZnF4",
        "outputId": "be86a54d-354d-4065-abb9-246903ff3487",
        "colab": {
          "base_uri": "https://localhost:8080/"
        }
      },
      "outputs": [
        {
          "output_type": "stream",
          "name": "stdout",
          "text": [
            "\u001b[90m# A tibble: 298 × 4\u001b[39m\n",
            "\u001b[90m# Groups:   tailnum, time_hour, minute [298]\u001b[39m\n",
            "   tailnum time_hour           minute     n\n",
            "   \u001b[3m\u001b[90m<chr>\u001b[39m\u001b[23m   \u001b[3m\u001b[90m<dttm>\u001b[39m\u001b[23m               \u001b[3m\u001b[90m<dbl>\u001b[39m\u001b[23m \u001b[3m\u001b[90m<int>\u001b[39m\u001b[23m\n",
            "\u001b[90m 1\u001b[39m N11119  2013-06-10 \u001b[90m16:00:00\u001b[39m     55     2\n",
            "\u001b[90m 2\u001b[39m N11192  2013-08-26 \u001b[90m08:00:00\u001b[39m     30     2\n",
            "\u001b[90m 3\u001b[39m N12563  2013-02-04 \u001b[90m16:00:00\u001b[39m     19     2\n",
            "\u001b[90m 4\u001b[39m N12564  2013-01-13 \u001b[90m20:00:00\u001b[39m      0     2\n",
            "\u001b[90m 5\u001b[39m N12900  2013-07-10 \u001b[90m21:00:00\u001b[39m     29     2\n",
            "\u001b[90m 6\u001b[39m N13969  2013-01-28 \u001b[90m07:00:00\u001b[39m     59     2\n",
            "\u001b[90m 7\u001b[39m N14148  2013-03-12 \u001b[90m06:00:00\u001b[39m     30     2\n",
            "\u001b[90m 8\u001b[39m N14558  2013-04-19 \u001b[90m13:00:00\u001b[39m     29     2\n",
            "\u001b[90m 9\u001b[39m N14916  2013-02-11 \u001b[90m13:00:00\u001b[39m     15     2\n",
            "\u001b[90m10\u001b[39m N14974  2013-07-26 \u001b[90m06:00:00\u001b[39m     30     2\n",
            "\u001b[90m# … with 288 more rows\u001b[39m\n"
          ]
        }
      ],
      "source": [
        "group_by(flights, tailnum, time_hour, minute) %>% \n",
        "  count %>% \n",
        "    filter(n > 1) %>% \n",
        "      arrange(tailnum, time_hour) %>% print"
      ]
    },
    {
      "cell_type": "markdown",
      "metadata": {
        "id": "9uomNFpQZnF4"
      },
      "source": [
        "These likely indicate data entry errors."
      ]
    },
    {
      "cell_type": "markdown",
      "metadata": {
        "id": "iOCIKh_EZnF4"
      },
      "source": [
        "## 🤔 Quiz\n",
        "\n",
        "What column(s) constitute a primary key in the `mpg` table?\n",
        "\n",
        "<ol style=\"list-style-type: upper-alpha;\">\n",
        "    <li><code>manufacturer</code> and <code>model</code></li>\n",
        "    <li><code>manufacturer</code>, <code>year</code>, and <code>model</code></li>\n",
        "    <li><code>manufacturer</code>, <code>year</code>, <code>displ</code>, and <code>model</code></li>\n",
        "    <li><code>manufacturer</code>, <code>year</code>, <code>displ</code>, <code>trans</code>, and <code>model</code></li>\n",
        "    <li>None of these</li>\n",
        "</ol>\n",
        "\n"
      ]
    },
    {
      "cell_type": "code",
      "execution_count": 57,
      "metadata": {
        "id": "q2yyVV-bZnF4",
        "outputId": "514edd5b-6227-407c-dff1-ab4f035f7760",
        "colab": {
          "base_uri": "https://localhost:8080/"
        }
      },
      "outputs": [
        {
          "output_type": "stream",
          "name": "stdout",
          "text": [
            "\u001b[90m# A tibble: 9 × 12\u001b[39m\n",
            "  manufacturer model displ  year   cyl trans drv     cty   hwy fl    class     n\n",
            "  \u001b[3m\u001b[90m<chr>\u001b[39m\u001b[23m        \u001b[3m\u001b[90m<chr>\u001b[39m\u001b[23m \u001b[3m\u001b[90m<dbl>\u001b[39m\u001b[23m \u001b[3m\u001b[90m<int>\u001b[39m\u001b[23m \u001b[3m\u001b[90m<int>\u001b[39m\u001b[23m \u001b[3m\u001b[90m<chr>\u001b[39m\u001b[23m \u001b[3m\u001b[90m<chr>\u001b[39m\u001b[23m \u001b[3m\u001b[90m<int>\u001b[39m\u001b[23m \u001b[3m\u001b[90m<int>\u001b[39m\u001b[23m \u001b[3m\u001b[90m<chr>\u001b[39m\u001b[23m \u001b[3m\u001b[90m<chr>\u001b[39m\u001b[23m \u001b[3m\u001b[90m<int>\u001b[39m\u001b[23m\n",
            "\u001b[90m1\u001b[39m chevrolet    c150…   5.3  \u001b[4m2\u001b[24m008     8 auto… r        14    20 r     suv       2\n",
            "\u001b[90m2\u001b[39m dodge        cara…   3.3  \u001b[4m1\u001b[24m999     6 auto… f        16    22 r     mini…     2\n",
            "\u001b[90m3\u001b[39m dodge        cara…   3.3  \u001b[4m2\u001b[24m008     6 auto… f        17    24 r     mini…     2\n",
            "\u001b[90m4\u001b[39m dodge        dako…   4.7  \u001b[4m2\u001b[24m008     8 auto… 4        14    19 r     pick…     2\n",
            "\u001b[90m5\u001b[39m dodge        dura…   4.7  \u001b[4m2\u001b[24m008     8 auto… 4        13    17 r     suv       2\n",
            "\u001b[90m6\u001b[39m dodge        ram …   4.7  \u001b[4m2\u001b[24m008     8 auto… 4        13    17 r     pick…     2\n",
            "\u001b[90m7\u001b[39m dodge        ram …   4.7  \u001b[4m2\u001b[24m008     8 manu… 4        12    16 r     pick…     2\n",
            "\u001b[90m8\u001b[39m ford         expl…   4    \u001b[4m1\u001b[24m999     6 auto… 4        14    17 r     suv       2\n",
            "\u001b[90m9\u001b[39m honda        civic   1.6  \u001b[4m1\u001b[24m999     4 auto… f        24    32 r     subc…     2\n"
          ]
        }
      ],
      "source": [
        "# primary key in mpg \n",
        "count(mpg, across(everything())) %>% \n",
        "  filter(n > 1) %>% print"
      ]
    },
    {
      "cell_type": "markdown",
      "metadata": {
        "id": "oLwporvKZnF5"
      },
      "source": [
        "## Relations\n",
        "A primary key and the corresponding foreign key in another table form a *relation*. Relations come in several forms:\n",
        "- *One-to-many*. (Most common). For example, each flight has one plane, but each plane has many flights. \n",
        "- *Many-to-many*: For example, each airline flies to many airports; each airport hosts many airlines.\n",
        "- *One-to-one*. Each row in one table corresponds uniquely to a row in a second table. This is relatively uncommon because you could just as easily combine the two tables into one."
      ]
    },
    {
      "cell_type": "code",
      "execution_count": 58,
      "metadata": {
        "id": "Tm2l4uv-ZnF5"
      },
      "outputs": [],
      "source": [
        "x = tribble(\n",
        "  ~key, ~val_x,\n",
        "     1, \"x1\",\n",
        "     2, \"x2\",\n",
        "     3, \"x3\"\n",
        ")\n",
        "y = tribble(\n",
        "  ~key, ~val_y,\n",
        "     1, \"y1\",\n",
        "     2, \"y2\",\n",
        "     4, \"y3\"\n",
        ")"
      ]
    },
    {
      "cell_type": "code",
      "execution_count": 59,
      "metadata": {
        "id": "SY64fOblZnF5",
        "outputId": "bbbf53fc-fbab-4ee3-c166-c8ee19aaaa95",
        "colab": {
          "base_uri": "https://localhost:8080/",
          "height": 367
        }
      },
      "outputs": [
        {
          "output_type": "display_data",
          "data": {
            "text/html": [
              "<table class=\"dataframe\">\n",
              "<caption>A tibble: 3 × 2</caption>\n",
              "<thead>\n",
              "\t<tr><th scope=col>key</th><th scope=col>val_x</th></tr>\n",
              "\t<tr><th scope=col>&lt;dbl&gt;</th><th scope=col>&lt;chr&gt;</th></tr>\n",
              "</thead>\n",
              "<tbody>\n",
              "\t<tr><td>1</td><td>x1</td></tr>\n",
              "\t<tr><td>2</td><td>x2</td></tr>\n",
              "\t<tr><td>3</td><td>x3</td></tr>\n",
              "</tbody>\n",
              "</table>\n"
            ],
            "text/markdown": "\nA tibble: 3 × 2\n\n| key &lt;dbl&gt; | val_x &lt;chr&gt; |\n|---|---|\n| 1 | x1 |\n| 2 | x2 |\n| 3 | x3 |\n\n",
            "text/latex": "A tibble: 3 × 2\n\\begin{tabular}{ll}\n key & val\\_x\\\\\n <dbl> & <chr>\\\\\n\\hline\n\t 1 & x1\\\\\n\t 2 & x2\\\\\n\t 3 & x3\\\\\n\\end{tabular}\n",
            "text/plain": [
              "  key val_x\n",
              "1 1   x1   \n",
              "2 2   x2   \n",
              "3 3   x3   "
            ]
          },
          "metadata": {}
        },
        {
          "output_type": "display_data",
          "data": {
            "text/html": [
              "<table class=\"dataframe\">\n",
              "<caption>A tibble: 3 × 2</caption>\n",
              "<thead>\n",
              "\t<tr><th scope=col>key</th><th scope=col>val_y</th></tr>\n",
              "\t<tr><th scope=col>&lt;dbl&gt;</th><th scope=col>&lt;chr&gt;</th></tr>\n",
              "</thead>\n",
              "<tbody>\n",
              "\t<tr><td>1</td><td>y1</td></tr>\n",
              "\t<tr><td>2</td><td>y2</td></tr>\n",
              "\t<tr><td>4</td><td>y3</td></tr>\n",
              "</tbody>\n",
              "</table>\n"
            ],
            "text/markdown": "\nA tibble: 3 × 2\n\n| key &lt;dbl&gt; | val_y &lt;chr&gt; |\n|---|---|\n| 1 | y1 |\n| 2 | y2 |\n| 4 | y3 |\n\n",
            "text/latex": "A tibble: 3 × 2\n\\begin{tabular}{ll}\n key & val\\_y\\\\\n <dbl> & <chr>\\\\\n\\hline\n\t 1 & y1\\\\\n\t 2 & y2\\\\\n\t 4 & y3\\\\\n\\end{tabular}\n",
            "text/plain": [
              "  key val_y\n",
              "1 1   y1   \n",
              "2 2   y2   \n",
              "3 4   y3   "
            ]
          },
          "metadata": {}
        }
      ],
      "source": [
        "x\n",
        "y"
      ]
    },
    {
      "cell_type": "markdown",
      "metadata": {
        "id": "UHT5BdPwZnF6"
      },
      "source": [
        "## Joins\n",
        "Joins are the way we combine or \"merge\" two data tables based on keys.\n",
        "To understand how joins work we'll study these two simple tables:\n",
        "![simple tables](http://r4ds.had.co.nz/diagrams/join-setup.png)"
      ]
    },
    {
      "cell_type": "markdown",
      "metadata": {
        "id": "Fz2ffpSDZnF6"
      },
      "source": [
        "### Inner joins\n",
        "Inner joins match a pair of observations whenever their keys are equal:\n",
        "![match example](https://r4ds.hadley.nz/diagrams/join/inner.png)"
      ]
    },
    {
      "cell_type": "code",
      "execution_count": 62,
      "metadata": {
        "id": "Ywi7yPVAZnF6",
        "outputId": "69a050b8-3357-4323-d930-5670ba545bb9",
        "colab": {
          "base_uri": "https://localhost:8080/",
          "height": 161
        }
      },
      "outputs": [
        {
          "output_type": "display_data",
          "data": {
            "text/html": [
              "<table class=\"dataframe\">\n",
              "<caption>A tibble: 2 × 3</caption>\n",
              "<thead>\n",
              "\t<tr><th scope=col>key</th><th scope=col>val_x</th><th scope=col>val_y</th></tr>\n",
              "\t<tr><th scope=col>&lt;dbl&gt;</th><th scope=col>&lt;chr&gt;</th><th scope=col>&lt;chr&gt;</th></tr>\n",
              "</thead>\n",
              "<tbody>\n",
              "\t<tr><td>1</td><td>x1</td><td>y1</td></tr>\n",
              "\t<tr><td>2</td><td>x2</td><td>y2</td></tr>\n",
              "</tbody>\n",
              "</table>\n"
            ],
            "text/markdown": "\nA tibble: 2 × 3\n\n| key &lt;dbl&gt; | val_x &lt;chr&gt; | val_y &lt;chr&gt; |\n|---|---|---|\n| 1 | x1 | y1 |\n| 2 | x2 | y2 |\n\n",
            "text/latex": "A tibble: 2 × 3\n\\begin{tabular}{lll}\n key & val\\_x & val\\_y\\\\\n <dbl> & <chr> & <chr>\\\\\n\\hline\n\t 1 & x1 & y1\\\\\n\t 2 & x2 & y2\\\\\n\\end{tabular}\n",
            "text/plain": [
              "  key val_x val_y\n",
              "1 1   x1    y1   \n",
              "2 2   x2    y2   "
            ]
          },
          "metadata": {}
        }
      ],
      "source": [
        "x %>% inner_join(y, by = \"key\")"
      ]
    },
    {
      "cell_type": "markdown",
      "metadata": {
        "id": "zOIL2LELZnF7"
      },
      "source": [
        "Note that there is no row for `key=3` or `key=4`: with an inner join, unmatched rows are not included in the result. For this reason, we do not as often use inner joins for data analysis since you can easily lose observations."
      ]
    },
    {
      "cell_type": "markdown",
      "metadata": {
        "id": "C5pdxsWgZnF7"
      },
      "source": [
        "### Outer joins\n",
        "An outer join keeps observations that appear in at least one of the tables. There are three types of outer joins:\n",
        "- A left join keeps all observations in x.\n",
        "- A right join keeps all observations in y.\n",
        "- A full join keeps all observations in x and y."
      ]
    },
    {
      "cell_type": "markdown",
      "metadata": {
        "id": "ELBNpyWEZnF8"
      },
      "source": [
        "![match example](https://r4ds.hadley.nz/diagrams/join/left.png)"
      ]
    },
    {
      "cell_type": "markdown",
      "metadata": {
        "id": "hHD5efMkZnF8"
      },
      "source": [
        "![match example](https://r4ds.hadley.nz/diagrams/join/right.png)"
      ]
    },
    {
      "cell_type": "markdown",
      "metadata": {
        "id": "u9au7gtvZnF8"
      },
      "source": [
        "![match example](https://r4ds.hadley.nz/diagrams/join/full.png)"
      ]
    },
    {
      "cell_type": "markdown",
      "metadata": {
        "id": "2a90In5aZnF8"
      },
      "source": [
        "Left joins are the most common. Use them to look up data in another table, but preserve your original observations when there are records on the left table for which the other table does not have a match."
      ]
    },
    {
      "cell_type": "markdown",
      "metadata": {
        "id": "4s-2TJwuZnGC"
      },
      "source": [
        "### Example\n",
        "The `flights` table has a `carrier` column which is a two-letter code for the airline. The `airlines` table maps these code to recognizable airline names. \n",
        "\n",
        "How many flighs are there per carrier in the dataset?"
      ]
    },
    {
      "cell_type": "code",
      "execution_count": 64,
      "metadata": {
        "id": "xbC3yUFfZnGD",
        "outputId": "f9394590-6d68-4835-d835-ac5747dca929",
        "colab": {
          "base_uri": "https://localhost:8080/",
          "height": 618
        }
      },
      "outputs": [
        {
          "output_type": "stream",
          "name": "stderr",
          "text": [
            "\u001b[1m\u001b[22mJoining, by = \"carrier\"\n"
          ]
        },
        {
          "output_type": "display_data",
          "data": {
            "text/html": [
              "<table class=\"dataframe\">\n",
              "<caption>A tibble: 16 × 3</caption>\n",
              "<thead>\n",
              "\t<tr><th scope=col>carrier</th><th scope=col>n</th><th scope=col>name</th></tr>\n",
              "\t<tr><th scope=col>&lt;chr&gt;</th><th scope=col>&lt;int&gt;</th><th scope=col>&lt;chr&gt;</th></tr>\n",
              "</thead>\n",
              "<tbody>\n",
              "\t<tr><td>9E</td><td>18460</td><td>Endeavor Air Inc.          </td></tr>\n",
              "\t<tr><td>AA</td><td>32729</td><td>American Airlines Inc.     </td></tr>\n",
              "\t<tr><td>AS</td><td>  714</td><td>Alaska Airlines Inc.       </td></tr>\n",
              "\t<tr><td>B6</td><td>54635</td><td>JetBlue Airways            </td></tr>\n",
              "\t<tr><td>DL</td><td>48110</td><td>Delta Air Lines Inc.       </td></tr>\n",
              "\t<tr><td>EV</td><td>54173</td><td>ExpressJet Airlines Inc.   </td></tr>\n",
              "\t<tr><td>F9</td><td>  685</td><td>Frontier Airlines Inc.     </td></tr>\n",
              "\t<tr><td>FL</td><td> 3260</td><td>AirTran Airways Corporation</td></tr>\n",
              "\t<tr><td>HA</td><td>  342</td><td>Hawaiian Airlines Inc.     </td></tr>\n",
              "\t<tr><td>MQ</td><td>26397</td><td>Envoy Air                  </td></tr>\n",
              "\t<tr><td>OO</td><td>   32</td><td>SkyWest Airlines Inc.      </td></tr>\n",
              "\t<tr><td>UA</td><td>58665</td><td>United Air Lines Inc.      </td></tr>\n",
              "\t<tr><td>US</td><td>20536</td><td>US Airways Inc.            </td></tr>\n",
              "\t<tr><td>VX</td><td> 5162</td><td>Virgin America             </td></tr>\n",
              "\t<tr><td>WN</td><td>12275</td><td>Southwest Airlines Co.     </td></tr>\n",
              "\t<tr><td>YV</td><td>  601</td><td>Mesa Airlines Inc.         </td></tr>\n",
              "</tbody>\n",
              "</table>\n"
            ],
            "text/markdown": "\nA tibble: 16 × 3\n\n| carrier &lt;chr&gt; | n &lt;int&gt; | name &lt;chr&gt; |\n|---|---|---|\n| 9E | 18460 | Endeavor Air Inc.           |\n| AA | 32729 | American Airlines Inc.      |\n| AS |   714 | Alaska Airlines Inc.        |\n| B6 | 54635 | JetBlue Airways             |\n| DL | 48110 | Delta Air Lines Inc.        |\n| EV | 54173 | ExpressJet Airlines Inc.    |\n| F9 |   685 | Frontier Airlines Inc.      |\n| FL |  3260 | AirTran Airways Corporation |\n| HA |   342 | Hawaiian Airlines Inc.      |\n| MQ | 26397 | Envoy Air                   |\n| OO |    32 | SkyWest Airlines Inc.       |\n| UA | 58665 | United Air Lines Inc.       |\n| US | 20536 | US Airways Inc.             |\n| VX |  5162 | Virgin America              |\n| WN | 12275 | Southwest Airlines Co.      |\n| YV |   601 | Mesa Airlines Inc.          |\n\n",
            "text/latex": "A tibble: 16 × 3\n\\begin{tabular}{lll}\n carrier & n & name\\\\\n <chr> & <int> & <chr>\\\\\n\\hline\n\t 9E & 18460 & Endeavor Air Inc.          \\\\\n\t AA & 32729 & American Airlines Inc.     \\\\\n\t AS &   714 & Alaska Airlines Inc.       \\\\\n\t B6 & 54635 & JetBlue Airways            \\\\\n\t DL & 48110 & Delta Air Lines Inc.       \\\\\n\t EV & 54173 & ExpressJet Airlines Inc.   \\\\\n\t F9 &   685 & Frontier Airlines Inc.     \\\\\n\t FL &  3260 & AirTran Airways Corporation\\\\\n\t HA &   342 & Hawaiian Airlines Inc.     \\\\\n\t MQ & 26397 & Envoy Air                  \\\\\n\t OO &    32 & SkyWest Airlines Inc.      \\\\\n\t UA & 58665 & United Air Lines Inc.      \\\\\n\t US & 20536 & US Airways Inc.            \\\\\n\t VX &  5162 & Virgin America             \\\\\n\t WN & 12275 & Southwest Airlines Co.     \\\\\n\t YV &   601 & Mesa Airlines Inc.         \\\\\n\\end{tabular}\n",
            "text/plain": [
              "   carrier n     name                       \n",
              "1  9E      18460 Endeavor Air Inc.          \n",
              "2  AA      32729 American Airlines Inc.     \n",
              "3  AS        714 Alaska Airlines Inc.       \n",
              "4  B6      54635 JetBlue Airways            \n",
              "5  DL      48110 Delta Air Lines Inc.       \n",
              "6  EV      54173 ExpressJet Airlines Inc.   \n",
              "7  F9        685 Frontier Airlines Inc.     \n",
              "8  FL       3260 AirTran Airways Corporation\n",
              "9  HA        342 Hawaiian Airlines Inc.     \n",
              "10 MQ      26397 Envoy Air                  \n",
              "11 OO         32 SkyWest Airlines Inc.      \n",
              "12 UA      58665 United Air Lines Inc.      \n",
              "13 US      20536 US Airways Inc.            \n",
              "14 VX       5162 Virgin America             \n",
              "15 WN      12275 Southwest Airlines Co.     \n",
              "16 YV        601 Mesa Airlines Inc.         "
            ]
          },
          "metadata": {}
        }
      ],
      "source": [
        "# flights per carrier\n",
        "flights %>% count(carrier) %>% left_join(airlines)"
      ]
    },
    {
      "cell_type": "markdown",
      "metadata": {
        "id": "_QhwKGsQZnGD"
      },
      "source": [
        "## 🤔 Quiz\n",
        "\n",
        "How many flights departing from EWR were operated by Envoy Air?\n",
        "\n",
        "<ol style=\"list-style-type: upper-alpha;\">\n",
        "    <li>46087</li>\n",
        "    <li>26397</li>\n",
        "    <li>2276</li>\n",
        "    <li>18460</li>\n",
        "    <li>43939</li>\n",
        "</ol>"
      ]
    },
    {
      "cell_type": "code",
      "execution_count": 67,
      "metadata": {
        "id": "kq4kLBv2ZnGD",
        "outputId": "e7da78a5-8f0c-448a-96f2-6816b733f262",
        "colab": {
          "base_uri": "https://localhost:8080/",
          "height": 165
        }
      },
      "outputs": [
        {
          "output_type": "stream",
          "name": "stderr",
          "text": [
            "\u001b[1m\u001b[22mJoining, by = \"carrier\"\n"
          ]
        },
        {
          "output_type": "display_data",
          "data": {
            "text/html": [
              "<table class=\"dataframe\">\n",
              "<caption>A tibble: 1 × 1</caption>\n",
              "<thead>\n",
              "\t<tr><th scope=col>n</th></tr>\n",
              "\t<tr><th scope=col>&lt;int&gt;</th></tr>\n",
              "</thead>\n",
              "<tbody>\n",
              "\t<tr><td>2276</td></tr>\n",
              "</tbody>\n",
              "</table>\n"
            ],
            "text/markdown": "\nA tibble: 1 × 1\n\n| n &lt;int&gt; |\n|---|\n| 2276 |\n\n",
            "text/latex": "A tibble: 1 × 1\n\\begin{tabular}{l}\n n\\\\\n <int>\\\\\n\\hline\n\t 2276\\\\\n\\end{tabular}\n",
            "text/plain": [
              "  n   \n",
              "1 2276"
            ]
          },
          "metadata": {}
        }
      ],
      "source": [
        "# envoy flights from ewr\n",
        "flights %>%\n",
        "  left_join(airlines) %>% \n",
        "  filter(origin == 'EWR', name == 'Envoy Air') %>% count"
      ]
    },
    {
      "cell_type": "markdown",
      "metadata": {
        "id": "DFcFUSqUZnGD"
      },
      "source": [
        "### Duplicate keys\n",
        "Although we have defined keys in terms of uniqueness, it's not required that a key be unique. There are several possibilities:"
      ]
    },
    {
      "cell_type": "markdown",
      "metadata": {
        "id": "SrqtgLsyZnGD"
      },
      "source": [
        "##### One table has duplicate keys\n",
        "This is useful when you want to add in additional information as there is typically a one-to-many relationship.\n",
        "![duplicate keys](http://r4ds.had.co.nz/diagrams/join-one-to-many.png)"
      ]
    },
    {
      "cell_type": "markdown",
      "metadata": {
        "id": "t4fb-ur5ZnGE"
      },
      "source": [
        "In fact, we already saw an example of this above when we joined `planes` to `flights`: each plane belongs to potentially many flights."
      ]
    },
    {
      "cell_type": "markdown",
      "metadata": {
        "id": "AqyeYMQ3ZnGE"
      },
      "source": [
        "### Exercise\n",
        "What is the most common model of airplane used by each carrier?"
      ]
    },
    {
      "cell_type": "code",
      "execution_count": 74,
      "metadata": {
        "id": "32yulBYiZnGE",
        "outputId": "6d18e3d8-a18d-4711-b752-4fcdf534ea2c",
        "colab": {
          "base_uri": "https://localhost:8080/",
          "height": 653
        }
      },
      "outputs": [
        {
          "output_type": "stream",
          "name": "stderr",
          "text": [
            "\u001b[1m\u001b[22m`summarise()` has grouped output by 'carrier'. You can override using the\n",
            "`.groups` argument.\n",
            "\u001b[1m\u001b[22mSelecting by n\n"
          ]
        },
        {
          "output_type": "display_data",
          "data": {
            "text/html": [
              "<table class=\"dataframe\">\n",
              "<caption>A grouped_df: 16 × 3</caption>\n",
              "<thead>\n",
              "\t<tr><th scope=col>carrier</th><th scope=col>model</th><th scope=col>n</th></tr>\n",
              "\t<tr><th scope=col>&lt;chr&gt;</th><th scope=col>&lt;chr&gt;</th><th scope=col>&lt;int&gt;</th></tr>\n",
              "</thead>\n",
              "<tbody>\n",
              "\t<tr><td>9E</td><td>CL-600-2D24</td><td>10580</td></tr>\n",
              "\t<tr><td>AA</td><td>NA         </td><td>22558</td></tr>\n",
              "\t<tr><td>AS</td><td>737-890    </td><td>  346</td></tr>\n",
              "\t<tr><td>B6</td><td>A320-232   </td><td>34063</td></tr>\n",
              "\t<tr><td>DL</td><td>MD-88      </td><td>10191</td></tr>\n",
              "\t<tr><td>EV</td><td>EMB-145LR  </td><td>28027</td></tr>\n",
              "\t<tr><td>F9</td><td>A320-214   </td><td>  617</td></tr>\n",
              "\t<tr><td>FL</td><td>717-200    </td><td> 2774</td></tr>\n",
              "\t<tr><td>HA</td><td>A330-243   </td><td>  342</td></tr>\n",
              "\t<tr><td>MQ</td><td>NA         </td><td>25397</td></tr>\n",
              "\t<tr><td>OO</td><td>CL-600-2C10</td><td>   25</td></tr>\n",
              "\t<tr><td>UA</td><td>737-824    </td><td>13809</td></tr>\n",
              "\t<tr><td>US</td><td>A319-112   </td><td> 5844</td></tr>\n",
              "\t<tr><td>VX</td><td>A320-214   </td><td> 4859</td></tr>\n",
              "\t<tr><td>WN</td><td>737-7H4    </td><td>10389</td></tr>\n",
              "\t<tr><td>YV</td><td>CL-600-2C10</td><td>  311</td></tr>\n",
              "</tbody>\n",
              "</table>\n"
            ],
            "text/markdown": "\nA grouped_df: 16 × 3\n\n| carrier &lt;chr&gt; | model &lt;chr&gt; | n &lt;int&gt; |\n|---|---|---|\n| 9E | CL-600-2D24 | 10580 |\n| AA | NA          | 22558 |\n| AS | 737-890     |   346 |\n| B6 | A320-232    | 34063 |\n| DL | MD-88       | 10191 |\n| EV | EMB-145LR   | 28027 |\n| F9 | A320-214    |   617 |\n| FL | 717-200     |  2774 |\n| HA | A330-243    |   342 |\n| MQ | NA          | 25397 |\n| OO | CL-600-2C10 |    25 |\n| UA | 737-824     | 13809 |\n| US | A319-112    |  5844 |\n| VX | A320-214    |  4859 |\n| WN | 737-7H4     | 10389 |\n| YV | CL-600-2C10 |   311 |\n\n",
            "text/latex": "A grouped\\_df: 16 × 3\n\\begin{tabular}{lll}\n carrier & model & n\\\\\n <chr> & <chr> & <int>\\\\\n\\hline\n\t 9E & CL-600-2D24 & 10580\\\\\n\t AA & NA          & 22558\\\\\n\t AS & 737-890     &   346\\\\\n\t B6 & A320-232    & 34063\\\\\n\t DL & MD-88       & 10191\\\\\n\t EV & EMB-145LR   & 28027\\\\\n\t F9 & A320-214    &   617\\\\\n\t FL & 717-200     &  2774\\\\\n\t HA & A330-243    &   342\\\\\n\t MQ & NA          & 25397\\\\\n\t OO & CL-600-2C10 &    25\\\\\n\t UA & 737-824     & 13809\\\\\n\t US & A319-112    &  5844\\\\\n\t VX & A320-214    &  4859\\\\\n\t WN & 737-7H4     & 10389\\\\\n\t YV & CL-600-2C10 &   311\\\\\n\\end{tabular}\n",
            "text/plain": [
              "   carrier model       n    \n",
              "1  9E      CL-600-2D24 10580\n",
              "2  AA      NA          22558\n",
              "3  AS      737-890       346\n",
              "4  B6      A320-232    34063\n",
              "5  DL      MD-88       10191\n",
              "6  EV      EMB-145LR   28027\n",
              "7  F9      A320-214      617\n",
              "8  FL      717-200      2774\n",
              "9  HA      A330-243      342\n",
              "10 MQ      NA          25397\n",
              "11 OO      CL-600-2C10    25\n",
              "12 UA      737-824     13809\n",
              "13 US      A319-112     5844\n",
              "14 VX      A320-214     4859\n",
              "15 WN      737-7H4     10389\n",
              "16 YV      CL-600-2C10   311"
            ]
          },
          "metadata": {}
        }
      ],
      "source": [
        "# most common model\n",
        "flights %>% \n",
        "  left_join(planes, by='tailnum') %>% \n",
        "    group_by(carrier, model) %>% \n",
        "      summarise(n = n()) %>% top_n(1)"
      ]
    },
    {
      "cell_type": "markdown",
      "metadata": {
        "id": "kH3mZWpSZnGE"
      },
      "source": [
        "##### When Both tables have duplicate keys\n",
        "This represents a many-to-many join and is usually an error since the key does not uniquely identify observations in either table. Joining duplicated keys results in the Cartesian product of all the possible matches:\n",
        "![cartesian](http://r4ds.had.co.nz/diagrams/join-many-to-many.png)"
      ]
    },
    {
      "cell_type": "markdown",
      "metadata": {
        "id": "PZFOnB4GZnGE"
      },
      "source": [
        "Be careful when doing many-to-many merges. It's possible to generate huge tables by accident and crash R."
      ]
    },
    {
      "cell_type": "markdown",
      "metadata": {
        "id": "5UYQJ2aTZnGE"
      },
      "source": [
        "## 🤔 Quiz\n",
        "To understand what the weather conditions were when each flight departed, I will join the weather table to the first 100 rows of the flights table using the command\n",
        "\n",
        "```\n",
        "flights %>% slice(1:100) %>% left_join(weather, by=c(\"origin\", \"hour\"))\n",
        "```\n",
        "\n",
        "How many rows does the resulting table have?\n",
        "\n",
        "<ol style=\"list-style-type: upper-alpha;\">\n",
        "    <li>100</li>\n",
        "    <li>36344</li>\n",
        "    <li>336776</li>\n",
        "    <li>Zero</li>\n",
        "    <li><code>NA</code></li>\n",
        "</ol>"
      ]
    },
    {
      "cell_type": "code",
      "source": [
        "flights %>% \n",
        "  slice(1:100) %>% \n",
        "    left_join(weather) %>% count"
      ],
      "metadata": {
        "id": "Ru08hrT1xKBs",
        "outputId": "3b1bbc3d-e40e-4595-d7fa-a9edb9ef0d16",
        "colab": {
          "base_uri": "https://localhost:8080/",
          "height": 165
        }
      },
      "execution_count": 79,
      "outputs": [
        {
          "output_type": "stream",
          "name": "stderr",
          "text": [
            "\u001b[1m\u001b[22mJoining, by = c(\"year\", \"month\", \"day\", \"origin\", \"hour\", \"time_hour\")\n"
          ]
        },
        {
          "output_type": "display_data",
          "data": {
            "text/html": [
              "<table class=\"dataframe\">\n",
              "<caption>A tibble: 1 × 1</caption>\n",
              "<thead>\n",
              "\t<tr><th scope=col>n</th></tr>\n",
              "\t<tr><th scope=col>&lt;int&gt;</th></tr>\n",
              "</thead>\n",
              "<tbody>\n",
              "\t<tr><td>100</td></tr>\n",
              "</tbody>\n",
              "</table>\n"
            ],
            "text/markdown": "\nA tibble: 1 × 1\n\n| n &lt;int&gt; |\n|---|\n| 100 |\n\n",
            "text/latex": "A tibble: 1 × 1\n\\begin{tabular}{l}\n n\\\\\n <int>\\\\\n\\hline\n\t 100\\\\\n\\end{tabular}\n",
            "text/plain": [
              "  n  \n",
              "1 100"
            ]
          },
          "metadata": {}
        }
      ]
    },
    {
      "cell_type": "code",
      "execution_count": null,
      "metadata": {
        "id": "oIwZgMSlZnGE"
      },
      "outputs": [],
      "source": [
        "# flights %>% slice(1:100) %>% left_join(weather, by=c(\"origin\", \"hour\")) "
      ]
    },
    {
      "cell_type": "markdown",
      "metadata": {
        "id": "-NIw-PnEZnGF"
      },
      "source": [
        "### Defining the key columns\n",
        "When we do a join using `left_join()`, R take as the key whatever column names the two tables have in common:"
      ]
    },
    {
      "cell_type": "code",
      "execution_count": null,
      "metadata": {
        "id": "BzPL6SX-ZnGF",
        "outputId": "c790124f-2960-4e51-feaa-5c5e9a781f86"
      },
      "outputs": [
        {
          "name": "stderr",
          "output_type": "stream",
          "text": [
            "Joining, by = c(\"year\", \"tailnum\")\n"
          ]
        },
        {
          "name": "stdout",
          "output_type": "stream",
          "text": [
            "# A tibble: 336,776 x 26\n",
            "    year month   day dep_time sched_dep_time dep_delay arr_time sched_arr_time\n",
            "   <int> <int> <int>    <int>          <int>     <dbl>    <int>          <int>\n",
            " 1  2013     1     1      517            515         2      830            819\n",
            " 2  2013     1     1      533            529         4      850            830\n",
            " 3  2013     1     1      542            540         2      923            850\n",
            " 4  2013     1     1      544            545        -1     1004           1022\n",
            " 5  2013     1     1      554            600        -6      812            837\n",
            " 6  2013     1     1      554            558        -4      740            728\n",
            " 7  2013     1     1      555            600        -5      913            854\n",
            " 8  2013     1     1      557            600        -3      709            723\n",
            " 9  2013     1     1      557            600        -3      838            846\n",
            "10  2013     1     1      558            600        -2      753            745\n",
            "# … with 336,766 more rows, and 18 more variables: arr_delay <dbl>,\n",
            "#   carrier <chr>, flight <int>, tailnum <chr>, origin <chr>, dest <chr>,\n",
            "#   air_time <dbl>, distance <dbl>, hour <dbl>, minute <dbl>, time_hour <dttm>,\n",
            "#   type <chr>, manufacturer <chr>, model <chr>, engines <int>, seats <int>,\n",
            "#   speed <int>, engine <chr>\n"
          ]
        }
      ],
      "source": [
        "left_join(flights, planes) %>% print\n",
        "   # select(year, month, day, origin, type, tailnum, manufacturer) %>% \n",
        "   # print"
      ]
    },
    {
      "cell_type": "markdown",
      "metadata": {
        "id": "ChnNuz5xZnGF"
      },
      "source": [
        "This is called a *natural join*. If the key column(s) are named differently in the two tables, we must specify the mapping between the two using the `by=` parameter.\n"
      ]
    },
    {
      "cell_type": "markdown",
      "metadata": {
        "id": "WJH_QVsDZnGF"
      },
      "source": [
        "Consider joining `airports` to `flights`:\n",
        "```\n",
        "> left_join(flights, airports)\n",
        "Error: `by` required, because the data sources have no common variables\n",
        "Traceback:\n",
        "\n",
        "1. left_join(flights, airports)\n",
        "2. left_join.tbl_df(flights, airports)\n",
        "3. common_by(by, x, y)\n",
        "4. common_by.NULL(by, x, y)\n",
        "5. bad_args(\"by\", \"required, because the data sources have no common variables\")\n",
        "6. glubort(fmt_args(args), ..., .envir = .envir)\n",
        "7. .abort(text)\n",
        "```"
      ]
    },
    {
      "cell_type": "code",
      "source": [
        "left_join(flights, airports, by=c(\"origin\" = \"faa\")) %>% print"
      ],
      "metadata": {
        "id": "BkM0xbL-yVRR",
        "outputId": "36bda01b-9d9c-452b-f69b-dae3d8369411",
        "colab": {
          "base_uri": "https://localhost:8080/"
        }
      },
      "execution_count": 86,
      "outputs": [
        {
          "output_type": "stream",
          "name": "stdout",
          "text": [
            "\u001b[90m# A tibble: 336,776 × 26\u001b[39m\n",
            "    year month   day dep_time sched_de…¹ dep_d…² arr_t…³ sched…⁴ arr_d…⁵ carrier\n",
            "   \u001b[3m\u001b[90m<int>\u001b[39m\u001b[23m \u001b[3m\u001b[90m<int>\u001b[39m\u001b[23m \u001b[3m\u001b[90m<int>\u001b[39m\u001b[23m    \u001b[3m\u001b[90m<int>\u001b[39m\u001b[23m      \u001b[3m\u001b[90m<int>\u001b[39m\u001b[23m   \u001b[3m\u001b[90m<dbl>\u001b[39m\u001b[23m   \u001b[3m\u001b[90m<int>\u001b[39m\u001b[23m   \u001b[3m\u001b[90m<int>\u001b[39m\u001b[23m   \u001b[3m\u001b[90m<dbl>\u001b[39m\u001b[23m \u001b[3m\u001b[90m<chr>\u001b[39m\u001b[23m  \n",
            "\u001b[90m 1\u001b[39m  \u001b[4m2\u001b[24m013     1     1      517        515       2     830     819      11 UA     \n",
            "\u001b[90m 2\u001b[39m  \u001b[4m2\u001b[24m013     1     1      533        529       4     850     830      20 UA     \n",
            "\u001b[90m 3\u001b[39m  \u001b[4m2\u001b[24m013     1     1      542        540       2     923     850      33 AA     \n",
            "\u001b[90m 4\u001b[39m  \u001b[4m2\u001b[24m013     1     1      544        545      -\u001b[31m1\u001b[39m    \u001b[4m1\u001b[24m004    \u001b[4m1\u001b[24m022     -\u001b[31m18\u001b[39m B6     \n",
            "\u001b[90m 5\u001b[39m  \u001b[4m2\u001b[24m013     1     1      554        600      -\u001b[31m6\u001b[39m     812     837     -\u001b[31m25\u001b[39m DL     \n",
            "\u001b[90m 6\u001b[39m  \u001b[4m2\u001b[24m013     1     1      554        558      -\u001b[31m4\u001b[39m     740     728      12 UA     \n",
            "\u001b[90m 7\u001b[39m  \u001b[4m2\u001b[24m013     1     1      555        600      -\u001b[31m5\u001b[39m     913     854      19 B6     \n",
            "\u001b[90m 8\u001b[39m  \u001b[4m2\u001b[24m013     1     1      557        600      -\u001b[31m3\u001b[39m     709     723     -\u001b[31m14\u001b[39m EV     \n",
            "\u001b[90m 9\u001b[39m  \u001b[4m2\u001b[24m013     1     1      557        600      -\u001b[31m3\u001b[39m     838     846      -\u001b[31m8\u001b[39m B6     \n",
            "\u001b[90m10\u001b[39m  \u001b[4m2\u001b[24m013     1     1      558        600      -\u001b[31m2\u001b[39m     753     745       8 AA     \n",
            "\u001b[90m# … with 336,766 more rows, 16 more variables: flight <int>, tailnum <chr>,\u001b[39m\n",
            "\u001b[90m#   origin <chr>, dest <chr>, air_time <dbl>, distance <dbl>, hour <dbl>,\u001b[39m\n",
            "\u001b[90m#   minute <dbl>, time_hour <dttm>, name <chr>, lat <dbl>, lon <dbl>,\u001b[39m\n",
            "\u001b[90m#   alt <dbl>, tz <dbl>, dst <chr>, tzone <chr>, and abbreviated variable names\u001b[39m\n",
            "\u001b[90m#   ¹​sched_dep_time, ²​dep_delay, ³​arr_time, ⁴​sched_arr_time, ⁵​arr_delay\u001b[39m\n"
          ]
        }
      ]
    },
    {
      "cell_type": "code",
      "source": [
        "airports %>% print"
      ],
      "metadata": {
        "id": "iyBNvyw7yhZI",
        "outputId": "aed07b38-edff-4c44-d6ce-cc116df01d87",
        "colab": {
          "base_uri": "https://localhost:8080/"
        }
      },
      "execution_count": 84,
      "outputs": [
        {
          "output_type": "stream",
          "name": "stdout",
          "text": [
            "\u001b[90m# A tibble: 1,458 × 8\u001b[39m\n",
            "   faa   name                             lat    lon   alt    tz dst   tzone    \n",
            "   \u001b[3m\u001b[90m<chr>\u001b[39m\u001b[23m \u001b[3m\u001b[90m<chr>\u001b[39m\u001b[23m                          \u001b[3m\u001b[90m<dbl>\u001b[39m\u001b[23m  \u001b[3m\u001b[90m<dbl>\u001b[39m\u001b[23m \u001b[3m\u001b[90m<dbl>\u001b[39m\u001b[23m \u001b[3m\u001b[90m<dbl>\u001b[39m\u001b[23m \u001b[3m\u001b[90m<chr>\u001b[39m\u001b[23m \u001b[3m\u001b[90m<chr>\u001b[39m\u001b[23m    \n",
            "\u001b[90m 1\u001b[39m 04G   Lansdowne Airport               41.1  -\u001b[31m80\u001b[39m\u001b[31m.\u001b[39m\u001b[31m6\u001b[39m  \u001b[4m1\u001b[24m044    -\u001b[31m5\u001b[39m A     America/…\n",
            "\u001b[90m 2\u001b[39m 06A   Moton Field Municipal Airport   32.5  -\u001b[31m85\u001b[39m\u001b[31m.\u001b[39m\u001b[31m7\u001b[39m   264    -\u001b[31m6\u001b[39m A     America/…\n",
            "\u001b[90m 3\u001b[39m 06C   Schaumburg Regional             42.0  -\u001b[31m88\u001b[39m\u001b[31m.\u001b[39m\u001b[31m1\u001b[39m   801    -\u001b[31m6\u001b[39m A     America/…\n",
            "\u001b[90m 4\u001b[39m 06N   Randall Airport                 41.4  -\u001b[31m74\u001b[39m\u001b[31m.\u001b[39m\u001b[31m4\u001b[39m   523    -\u001b[31m5\u001b[39m A     America/…\n",
            "\u001b[90m 5\u001b[39m 09J   Jekyll Island Airport           31.1  -\u001b[31m81\u001b[39m\u001b[31m.\u001b[39m\u001b[31m4\u001b[39m    11    -\u001b[31m5\u001b[39m A     America/…\n",
            "\u001b[90m 6\u001b[39m 0A9   Elizabethton Municipal Airport  36.4  -\u001b[31m82\u001b[39m\u001b[31m.\u001b[39m\u001b[31m2\u001b[39m  \u001b[4m1\u001b[24m593    -\u001b[31m5\u001b[39m A     America/…\n",
            "\u001b[90m 7\u001b[39m 0G6   Williams County Airport         41.5  -\u001b[31m84\u001b[39m\u001b[31m.\u001b[39m\u001b[31m5\u001b[39m   730    -\u001b[31m5\u001b[39m A     America/…\n",
            "\u001b[90m 8\u001b[39m 0G7   Finger Lakes Regional Airport   42.9  -\u001b[31m76\u001b[39m\u001b[31m.\u001b[39m\u001b[31m8\u001b[39m   492    -\u001b[31m5\u001b[39m A     America/…\n",
            "\u001b[90m 9\u001b[39m 0P2   Shoestring Aviation Airfield    39.8  -\u001b[31m76\u001b[39m\u001b[31m.\u001b[39m\u001b[31m6\u001b[39m  \u001b[4m1\u001b[24m000    -\u001b[31m5\u001b[39m U     America/…\n",
            "\u001b[90m10\u001b[39m 0S9   Jefferson County Intl           48.1 -\u001b[31m123\u001b[39m\u001b[31m.\u001b[39m    108    -\u001b[31m8\u001b[39m A     America/…\n",
            "\u001b[90m# … with 1,448 more rows\u001b[39m\n"
          ]
        }
      ]
    },
    {
      "cell_type": "markdown",
      "metadata": {
        "id": "GPH0-Ti4ZnGF"
      },
      "source": [
        "This has produced an error, because airports and flights do not have any columns in common. Indeed, the three digit FAA code is called `faa` in `airports`, but appears as either `origin` or `dest` in `flights`. To fix the error, we must specify which of `origin` or `dest` should be matched:"
      ]
    },
    {
      "cell_type": "code",
      "execution_count": null,
      "metadata": {
        "id": "Zv_VM3JdZnGF"
      },
      "outputs": [],
      "source": [
        "# join_by"
      ]
    },
    {
      "cell_type": "markdown",
      "metadata": {
        "id": "nah6DcX3ZnGF"
      },
      "source": [
        "## 🤔 Quiz\n",
        "\n",
        "How many flights in February were bound for tropical destinations?\n",
        "<img src='https://camo.githubusercontent.com/5a1a728ea646d55a3e73924f15bb2ba116d06b4fe1ac1aaa0628bb891a43c496/68747470733a2f2f75706c6f61642e77696b696d656469612e6f72672f77696b6970656469612f636f6d6d6f6e732f7468756d622f622f62302f576f726c645f6d61705f696e6469636174696e675f74726f706963735f616e645f73756274726f706963732e706e672f36343070782d576f726c645f6d61705f696e6469636174696e675f74726f706963735f616e645f73756274726f706963732e706e67' />\n",
        "https://kids.britannica.com/kids/article/latitude-and-longitude/353366\n",
        "\n",
        "\n",
        "<ol style=\"list-style-type: upper-alpha;\">\n",
        "    <li>56</li>\n",
        "    <li>18</li>\n",
        "    <li>71</li>\n",
        "    <li>39</li>\n",
        "    <li>50</li>\n",
        "</ol>\n",
        "\n",
        "(Note: there is a quantitative definition of what it means for a location on Earth to be tropical. It does not have to do with sitting on the beach.)"
      ]
    },
    {
      "cell_type": "code",
      "execution_count": 90,
      "metadata": {
        "id": "J1GuXplfZnGH",
        "outputId": "147a9ad2-01a6-417c-9afa-1155e94f887d",
        "colab": {
          "base_uri": "https://localhost:8080/",
          "height": 147
        }
      },
      "outputs": [
        {
          "output_type": "display_data",
          "data": {
            "text/html": [
              "<table class=\"dataframe\">\n",
              "<caption>A tibble: 1 × 1</caption>\n",
              "<thead>\n",
              "\t<tr><th scope=col>n</th></tr>\n",
              "\t<tr><th scope=col>&lt;int&gt;</th></tr>\n",
              "</thead>\n",
              "<tbody>\n",
              "\t<tr><td>56</td></tr>\n",
              "</tbody>\n",
              "</table>\n"
            ],
            "text/markdown": "\nA tibble: 1 × 1\n\n| n &lt;int&gt; |\n|---|\n| 56 |\n\n",
            "text/latex": "A tibble: 1 × 1\n\\begin{tabular}{l}\n n\\\\\n <int>\\\\\n\\hline\n\t 56\\\\\n\\end{tabular}\n",
            "text/plain": [
              "  n \n",
              "1 56"
            ]
          },
          "metadata": {}
        }
      ],
      "source": [
        "# tropical flights # 23.5\n",
        "flights %>% left_join(airports, by = c(\"dest\" = \"faa\")) %>%\n",
        "  filter(month == 2, lat <= 23.5) %>% count"
      ]
    },
    {
      "cell_type": "markdown",
      "metadata": {
        "id": "fneOdjXwZnGH"
      },
      "source": [
        "## Filtering joins\n",
        "\n",
        "Filtering joins allow us to filter rows on one table based on their presence or absence in another table. We've already seen some examples of this on the problem sets:"
      ]
    },
    {
      "cell_type": "code",
      "execution_count": null,
      "metadata": {
        "id": "xH7PvDJpZnGH",
        "outputId": "740f3042-e52e-4f53-ec90-ee3370b7cb67"
      },
      "outputs": [
        {
          "name": "stderr",
          "output_type": "stream",
          "text": [
            "\u001b[1m\u001b[22mSelecting by n\n"
          ]
        },
        {
          "data": {
            "text/html": [
              "94326"
            ],
            "text/latex": [
              "94326"
            ],
            "text/markdown": [
              "94326"
            ],
            "text/plain": [
              "[1] 94326"
            ]
          },
          "metadata": {},
          "output_type": "display_data"
        }
      ],
      "source": [
        "dest_top6 <- count(flights, dest) %>% top_n(6)\n",
        "filter(flights, dest %in% dest_top6$dest) %>% nrow"
      ]
    },
    {
      "cell_type": "markdown",
      "metadata": {
        "id": "fabxTAbdZnGH"
      },
      "source": [
        "### Semi-join\n",
        "`semi_join(x, y)` keeps all the observations in `x` that are also in `y`.\n",
        "![semi join](http://r4ds.had.co.nz/diagrams/join-semi.png)"
      ]
    },
    {
      "cell_type": "code",
      "execution_count": 94,
      "metadata": {
        "id": "2byLEDAoZnGH",
        "outputId": "66555992-0225-46d4-9ebd-0bf9a6c87e22",
        "colab": {
          "base_uri": "https://localhost:8080/",
          "height": 183
        }
      },
      "outputs": [
        {
          "output_type": "stream",
          "name": "stderr",
          "text": [
            "\u001b[1m\u001b[22mSelecting by n\n",
            "\u001b[1m\u001b[22mJoining, by = \"dest\"\n"
          ]
        },
        {
          "output_type": "display_data",
          "data": {
            "text/html": [
              "<table class=\"dataframe\">\n",
              "<caption>A tibble: 1 × 1</caption>\n",
              "<thead>\n",
              "\t<tr><th scope=col>n</th></tr>\n",
              "\t<tr><th scope=col>&lt;int&gt;</th></tr>\n",
              "</thead>\n",
              "<tbody>\n",
              "\t<tr><td>94326</td></tr>\n",
              "</tbody>\n",
              "</table>\n"
            ],
            "text/markdown": "\nA tibble: 1 × 1\n\n| n &lt;int&gt; |\n|---|\n| 94326 |\n\n",
            "text/latex": "A tibble: 1 × 1\n\\begin{tabular}{l}\n n\\\\\n <int>\\\\\n\\hline\n\t 94326\\\\\n\\end{tabular}\n",
            "text/plain": [
              "  n    \n",
              "1 94326"
            ]
          },
          "metadata": {}
        }
      ],
      "source": [
        "# find all the flights with destinations in the top 6\n",
        "flights %>% \n",
        "  right_join(count(flights, dest) %>% \n",
        "    top_n(6)) %>% count"
      ]
    }
  ],
  "metadata": {
    "celltoolbar": "Slideshow",
    "kernelspec": {
      "display_name": "R",
      "language": "R",
      "name": "ir"
    },
    "language_info": {
      "codemirror_mode": "r",
      "file_extension": ".r",
      "mimetype": "text/x-r-source",
      "name": "R",
      "pygments_lexer": "r",
      "version": "4.2.2"
    },
    "colab": {
      "provenance": []
    }
  },
  "nbformat": 4,
  "nbformat_minor": 0
}