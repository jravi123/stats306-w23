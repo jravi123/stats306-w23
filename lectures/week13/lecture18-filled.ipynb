{
  "cells": [
    {
      "cell_type": "code",
      "execution_count": 85,
      "metadata": {
        "id": "Fq-FAw1zJc0w"
      },
      "outputs": [],
      "source": [
        "library(tidyverse)\n",
        "theme_set(theme_classic())\n",
        "options(repr.plot.width=8, repr.plot.height=5)"
      ]
    },
    {
      "cell_type": "markdown",
      "metadata": {
        "id": "oi4zw7rY8QHo"
      },
      "source": [
        "# Lecture 18: Linear regression\n",
        "\n",
        "<div style=\"border: 1px double black; padding: 10px; margin: 10px\">\n",
        "\n",
        "**After today's lecture you will understand:**\n",
        "* How to run linear regressions using `lm()`\n",
        "* How to interprate the output of `summary.lm()`\n",
        "* Some examples of how regression analysis is used on real data.\n",
        "</div>\n",
        "\n",
        "These notes follow Chapters 1 and 3 of [Linear Regression Using R](https://conservancy.umn.edu/bitstream/handle/11299/189222/LinearRegressionUsingR2ed_fulltext.pdf?sequence=12&isAllowed=y)."
      ]
    },
    {
      "cell_type": "markdown",
      "metadata": {
        "id": "LcuOPP1K8QHq"
      },
      "source": [
        "## What is a model\n",
        "\n",
        "A statistical model is a mathematical formula that relates an outcome with one or more explanatory variables.\n",
        "\n",
        "$$ Y = f (X) + \t\\epsilon$$\n",
        "\n",
        "* Y - outcome\n",
        "* f - model function\n",
        "* X - explainer\n",
        "* $\\epsilon$ - noise"
      ]
    },
    {
      "cell_type": "markdown",
      "metadata": {
        "id": "Zl5YXC978QHr"
      },
      "source": [
        "### Model classes\n",
        "The types of functions $f$ that we allow determine what is called the *model class*. For example, in STATS 250 you learned about linear regression, where $f$ is any function of the form \n",
        "\n",
        "$$f(x) = a_0 + a_1x $$\n",
        "\n",
        "for some *parameters* $a_0$ and $a_1$. This defines a whole *family* of models: one for each choice of slope and intercept.\n",
        "\n",
        "_Linear regression modeling_ is a specific form of _regression modeling_ that assumes\n",
        "that the output can be explained using a linear combination of the input\n",
        "values."
      ]
    },
    {
      "cell_type": "markdown",
      "metadata": {
        "id": "_0hhWHV28QHs"
      },
      "source": [
        "### Model fitting\n",
        "The process of *fitting* a model refers to selecting the particular choice $a_0, a_1$ from the family of models that we have chosen, in order to best fit the data. The fitted model is the member of the model family we have selected that is \"closest\" to the data. This *does not* mean that this is the \"true\" model! In most cases there is no \"true\" model. The goal of a model is not to uncover truth, but to discover a simple approximation that is still useful.\n",
        "\n",
        "### Model selection\n",
        "There is also the question of which family of models to use. In other words, which types of functions $f(x)$ to use. To use a fashionable example, we could have instead chosen our model family to be \n",
        "\n",
        "$$\\{f: \\text{$f$ is a neural network}\\}.$$ \n",
        "\n",
        "The problem of choosing a model family is known as *model selection*. It is a much trickier problem than model fitting because there is no one correct answer: \"all models are wrong\"; the appropriate model family balances our needs for interpretability, predictiveness, etc."
      ]
    },
    {
      "cell_type": "markdown",
      "metadata": {
        "id": "pm0-zmxtJc05"
      },
      "source": [
        "### The `lm` command\n",
        "\n",
        "This week we will focus on the linear model (the most important model in statistics). The command to fit linear models in R is `lm()`.\n"
      ]
    },
    {
      "cell_type": "markdown",
      "metadata": {
        "id": "klVD79wzJc06"
      },
      "source": [
        "`lm` is (an important) part of \"base R\". We also load the `modelr` package in order to make `lm` behave more like the tidyverse commands that we have seen all semester:"
      ]
    },
    {
      "cell_type": "code",
      "execution_count": 86,
      "metadata": {
        "id": "GRQOkeYbJc06"
      },
      "outputs": [],
      "source": [
        "library(modelr)"
      ]
    },
    {
      "cell_type": "markdown",
      "metadata": {
        "id": "07llIeF38QHu"
      },
      "source": [
        "The `modelr` package comes with a simple bivariate dataset that we can model:"
      ]
    },
    {
      "cell_type": "code",
      "execution_count": null,
      "metadata": {
        "colab": {
          "base_uri": "https://localhost:8080/"
        },
        "id": "gDiPdC_S8QHv",
        "outputId": "5a20b3a3-8712-45d8-e8b6-5cc5a4d160ca"
      },
      "outputs": [
        {
          "output_type": "stream",
          "name": "stdout",
          "text": [
            "\u001b[90m# A tibble: 30 × 2\u001b[39m\n",
            "       x     y\n",
            "   \u001b[3m\u001b[90m<int>\u001b[39m\u001b[23m \u001b[3m\u001b[90m<dbl>\u001b[39m\u001b[23m\n",
            "\u001b[90m 1\u001b[39m     1  4.20\n",
            "\u001b[90m 2\u001b[39m     1  7.51\n",
            "\u001b[90m 3\u001b[39m     1  2.13\n",
            "\u001b[90m 4\u001b[39m     2  8.99\n",
            "\u001b[90m 5\u001b[39m     2 10.2 \n",
            "\u001b[90m 6\u001b[39m     2 11.3 \n",
            "\u001b[90m 7\u001b[39m     3  7.36\n",
            "\u001b[90m 8\u001b[39m     3 10.5 \n",
            "\u001b[90m 9\u001b[39m     3 10.5 \n",
            "\u001b[90m10\u001b[39m     4 12.4 \n",
            "\u001b[90m# … with 20 more rows\u001b[39m\n"
          ]
        }
      ],
      "source": [
        "sim1 %>% print"
      ]
    },
    {
      "cell_type": "markdown",
      "metadata": {
        "id": "uMwBf2Ne8QHw"
      },
      "source": [
        "The first step is to explore the data using the techniques we have already learned:"
      ]
    },
    {
      "cell_type": "code",
      "execution_count": null,
      "metadata": {
        "colab": {
          "base_uri": "https://localhost:8080/",
          "height": 317
        },
        "id": "-mq6Ycv48QHx",
        "outputId": "3916b12d-1f37-4a43-bdf0-99df9b0c4ee4"
      },
      "outputs": [
        {
          "output_type": "display_data",
          "data": {
            "text/plain": [
              "plot without title"
            ],
            "image/png": "[encoded data removed]"
          },
          "metadata": {
            "image/png": {
              "width": 480,
              "height": 300
            }
          }
        }
      ],
      "source": [
        "ggplot(sim1, aes(x, y)) + geom_point()"
      ]
    },
    {
      "cell_type": "markdown",
      "metadata": {
        "id": "HacOv5-D8QHy"
      },
      "source": [
        "The plot suggests a strong linear relationship. We suspect that a good model might be the one we saw above: $y = a_0 + a_1x$. If we select a particular $a_0$ and $a_1$, this gives us a potential model for the data. We can plot this for various choices of $a_0$ and $a_1$ and see visually see how well it might fit:"
      ]
    },
    {
      "cell_type": "code",
      "execution_count": null,
      "metadata": {
        "colab": {
          "base_uri": "https://localhost:8080/",
          "height": 317
        },
        "id": "guPqQ-dS8QHy",
        "outputId": "bb22ef11-de67-4ca9-a482-fd8d3a3b806a"
      },
      "outputs": [
        {
          "output_type": "display_data",
          "data": {
            "text/plain": [
              "plot without title"
            ],
            "image/png": "[encoded data removed]"
          },
          "metadata": {
            "image/png": {
              "width": 480,
              "height": 300
            }
          }
        }
      ],
      "source": [
        "a0 = 2\n",
        "a1 = 2.5\n",
        "ggplot(sim1, aes(x, y)) + \n",
        "  geom_abline(aes(intercept = a0, slope = a1), color=\"red\") +\n",
        "  geom_point()"
      ]
    },
    {
      "cell_type": "markdown",
      "metadata": {
        "id": "yqAHUHMo8QHz"
      },
      "source": [
        "The red line represents the value of $y$ that we would predict for each value of $x$. To measure how good our model fit is we can do the following: for each pair of data points $(x_i,y_i)$, measure the distance $|\\hat{y}_i - y_i|$ between predicted and observed values of $y_i$. \n",
        "\n",
        "The value $\\hat{y}_i - y_i$ is called the *residual*. It's the component of the data that isn't predicted by our model. Adding up the residuals gives us a measure of how good our model fits the data. If we predict the data perfectly ($\\hat{y}_i = y_i$ for all $i$) then this would equal zero, so lower values are better. (Next week, we  will see that this is only true up to a point; it is generally not a good idea to fit the data perfectly.)"
      ]
    },
    {
      "cell_type": "markdown",
      "metadata": {
        "id": "omfVP4z4Jc0_"
      },
      "source": [
        "To fit a linear model in R, we use a special *formula syntax* which is denoted by the `~`:\n",
        "\n",
        "    lm(y ~ x, data)\n",
        "    \n",
        "says regress `data$y` on `data$x`."
      ]
    },
    {
      "cell_type": "code",
      "execution_count": null,
      "metadata": {
        "id": "61Y_xYfzJc0_",
        "outputId": "3ea6d814-196e-40d4-8704-859e5cffbd38",
        "colab": {
          "base_uri": "https://localhost:8080/"
        }
      },
      "outputs": [
        {
          "output_type": "stream",
          "name": "stdout",
          "text": [
            "\n",
            "Call:\n",
            "lm(formula = y ~ x, data = sim1)\n",
            "\n",
            "Coefficients:\n",
            "(Intercept)            x  \n",
            "      4.221        2.052  \n",
            "\n"
          ]
        }
      ],
      "source": [
        "mdl <- lm(y ~ x, data = sim1) %>% print"
      ]
    },
    {
      "cell_type": "markdown",
      "metadata": {
        "id": "JAOev_pEJc1A"
      },
      "source": [
        "This says that the best-fitting linear model has $\\hat{a}_0=4.22$ and $\\hat{a}_1=2.052$. \n",
        "\n",
        "In what sense is this model \"the best\"? It means that over _all possible_ choice of $a_0,a_1$, the ones selected by `lm()`, which we call $\\hat{a}_0$ and $\\hat{a}_1,$ minimize the squared error:\n",
        "\n",
        "$$\\sum_i \\big[ \\underbrace{y_i}_{\\text{observed}} - \\underbrace{(\\hat{a}_0 + \\hat{a}_1 x_i)}_{\\text{predicted}}\\big]^2$$"
      ]
    },
    {
      "cell_type": "markdown",
      "metadata": {
        "id": "07wGlO8fJc1C"
      },
      "source": [
        "We can use the function `add_predictions()` to add the predicted values into the original data frame:"
      ]
    },
    {
      "cell_type": "code",
      "execution_count": null,
      "metadata": {
        "id": "ILU6wyL8Jc1C",
        "outputId": "e79e2d83-4525-4327-f32b-49bb647c309e",
        "colab": {
          "base_uri": "https://localhost:8080/"
        }
      },
      "outputs": [
        {
          "output_type": "stream",
          "name": "stdout",
          "text": [
            "\u001b[90m# A tibble: 30 × 3\u001b[39m\n",
            "       x     y  pred\n",
            "   \u001b[3m\u001b[90m<int>\u001b[39m\u001b[23m \u001b[3m\u001b[90m<dbl>\u001b[39m\u001b[23m \u001b[3m\u001b[90m<dbl>\u001b[39m\u001b[23m\n",
            "\u001b[90m 1\u001b[39m     1  4.20  6.27\n",
            "\u001b[90m 2\u001b[39m     1  7.51  6.27\n",
            "\u001b[90m 3\u001b[39m     1  2.13  6.27\n",
            "\u001b[90m 4\u001b[39m     2  8.99  8.32\n",
            "\u001b[90m 5\u001b[39m     2 10.2   8.32\n",
            "\u001b[90m 6\u001b[39m     2 11.3   8.32\n",
            "\u001b[90m 7\u001b[39m     3  7.36 10.4 \n",
            "\u001b[90m 8\u001b[39m     3 10.5  10.4 \n",
            "\u001b[90m 9\u001b[39m     3 10.5  10.4 \n",
            "\u001b[90m10\u001b[39m     4 12.4  12.4 \n",
            "\u001b[90m# … with 20 more rows\u001b[39m\n"
          ]
        }
      ],
      "source": [
        "sim1 %>% add_predictions(mdl) %>% print"
      ]
    },
    {
      "cell_type": "markdown",
      "metadata": {
        "id": "I9Ob45BGJc1C"
      },
      "source": [
        "## 🤔 Quiz\n",
        "\n",
        "```\n",
        "Call:\n",
        "lm(formula = y ~ x, data = sim1)\n",
        "\n",
        "Coefficients:\n",
        "(Intercept)            x  \n",
        "      4.221        2.052  \n",
        "```\n",
        "\n",
        "According to this model, what is the predicted value of $y$ when $x = 9.9$?\n",
        "\n",
        "<ol style=\"list-style-type: upper-alpha;\">\n",
        "    <li>51.7871</li>\n",
        "    <li>24.736</li>\n",
        "    <li>24.5358</li>\n",
        "    <li>20.12</li>\n",
        "</ol>"
      ]
    },
    {
      "cell_type": "code",
      "execution_count": 87,
      "metadata": {
        "id": "TVdPbHnZJc1D",
        "outputId": "d74a0345-06ee-43f9-8190-026488b8cab6",
        "colab": {
          "base_uri": "https://localhost:8080/",
          "height": 34
        }
      },
      "outputs": [
        {
          "output_type": "display_data",
          "data": {
            "text/html": [
              "24.5358"
            ],
            "text/markdown": "24.5358",
            "text/latex": "24.5358",
            "text/plain": [
              "[1] 24.5358"
            ]
          },
          "metadata": {}
        }
      ],
      "source": [
        "# predicted value\n",
        "\n",
        "x = 9.9\n",
        "4.221 + 2.052 * x"
      ]
    },
    {
      "cell_type": "markdown",
      "metadata": {
        "id": "7LfCbTQbJc1D"
      },
      "source": [
        "### Summarizing the linear model\n",
        "The main tool we have to understand the output of `lm` is the `summary` function:"
      ]
    },
    {
      "cell_type": "code",
      "execution_count": null,
      "metadata": {
        "scrolled": true,
        "id": "9X_jj6C0Jc1D",
        "outputId": "d6c089dd-df8a-4961-a940-fbc67cd78433",
        "colab": {
          "base_uri": "https://localhost:8080/",
          "height": 329
        }
      },
      "outputs": [
        {
          "output_type": "display_data",
          "data": {
            "text/plain": [
              "\n",
              "Call:\n",
              "lm(formula = y ~ x, data = sim1)\n",
              "\n",
              "Residuals:\n",
              "    Min      1Q  Median      3Q     Max \n",
              "-4.1469 -1.5197  0.1331  1.4670  4.6516 \n",
              "\n",
              "Coefficients:\n",
              "            Estimate Std. Error t value Pr(>|t|)    \n",
              "(Intercept)   4.2208     0.8688   4.858 4.09e-05 ***\n",
              "x             2.0515     0.1400  14.651 1.17e-14 ***\n",
              "---\n",
              "Signif. codes:  0 ‘***’ 0.001 ‘**’ 0.01 ‘*’ 0.05 ‘.’ 0.1 ‘ ’ 1\n",
              "\n",
              "Residual standard error: 2.203 on 28 degrees of freedom\n",
              "Multiple R-squared:  0.8846,\tAdjusted R-squared:  0.8805 \n",
              "F-statistic: 214.7 on 1 and 28 DF,  p-value: 1.173e-14\n"
            ]
          },
          "metadata": {}
        }
      ],
      "source": [
        "summary(mdl)"
      ]
    },
    {
      "cell_type": "markdown",
      "metadata": {
        "id": "0lVtnuswJc1D"
      },
      "source": [
        "In most cases, the part you are most interested in is the \"Coefficients\" section:\n",
        "\n",
        "```\n",
        "Coefficients:\n",
        "            Estimate Std. Error t value Pr(>|t|)    \n",
        "(Intercept)   4.2208     0.8688   4.858 4.09e-05 ***\n",
        "x             2.0515     0.1400  14.651 1.17e-14 ***\n",
        "```"
      ]
    },
    {
      "cell_type": "markdown",
      "metadata": {
        "id": "gZyDLY5rJc1E"
      },
      "source": [
        "The `Estimate` column contains the fitted values. This says that a one-unit increase in `x` is predicted to increase `y` by 2.05. The `(Intercept)` term is the predicted value of `y` when `x=0`."
      ]
    },
    {
      "cell_type": "markdown",
      "metadata": {
        "id": "o_zcwx6-Jc1E"
      },
      "source": [
        "### Standard errors\n",
        "The standard errors, $t$-values, and $p$-values measure the degree of certainty about the estimates in the `Estimate` column.\n",
        "- Since the standard error of the `x` coefficient is 0.1400, this says that with a high degree of certainty, the \"true\" estimate lies is the interval $2.05 \\pm 2 \\times 0.14$ (say). \n",
        "- The `p`-value, shown here as `Pr(>|t|)`, is the probability of observing this value under the null hypothesis that the true value is actually zero. We see that this is extremely unlikely: both the mean and the slope are significantly different from zero.\n",
        "- Next to the `p`-value are different numbers of `*`s depending on whether the coefficient is significant at the .1%/1%/5% level."
      ]
    },
    {
      "cell_type": "markdown",
      "metadata": {
        "id": "vh4C5RViJc1F"
      },
      "source": [
        "### Residuals\n",
        "\n",
        "The residual is the difference between the predicted and observed value:\n",
        "\n",
        "$$\\text{resid}_i = y_i - \\hat{y}_i = y_i - (a_0 + a_1 x_i).$$\n",
        "\n",
        "(Thus, from two slides up, linear regression minimizes the *sum of squared residuals*.)\n"
      ]
    },
    {
      "cell_type": "markdown",
      "metadata": {
        "id": "UXridce8Jc1G"
      },
      "source": [
        "The linear modal summary gives some information about the distribution of the residuals:\n",
        "\n",
        "```\n",
        "Residuals:\n",
        "    Min      1Q  Median      3Q     Max \n",
        "-4.1469 -1.5197  0.1331  1.4670  4.6516 \n",
        "```"
      ]
    },
    {
      "cell_type": "markdown",
      "metadata": {
        "id": "GIpwm-VRJc1G"
      },
      "source": [
        "If the linear model is correct, we would expect residual values that are normally distributed\n",
        "around a mean of zero, median value near zero,\n",
        "minimum and maximum values of roughly the same magnitude, and first\n",
        "and third quartile values of roughly the same magnitude. The `Residuals` section of the linear model summary shows us these statistics. \n",
        "(Why isn't the mean shown?)\n",
        "\n",
        "Remember, the linear model formally assumes that the residuals are normally distributed. If that is true, then the distribution should be symmetric with a median of around zero. The numbers shown here help you to assess that.\n"
      ]
    },
    {
      "cell_type": "markdown",
      "metadata": {
        "id": "PGlKbRSWJc1G"
      },
      "source": [
        "If we turn the original linear model around, we have\n",
        "\n",
        "$$y_i - (a_0 +  a_1 x_i) = \\text{noise}.$$\n",
        "\n",
        "So, it should be the case that, if we plot the distribution of the residuals, it looks \"normal\"."
      ]
    },
    {
      "cell_type": "code",
      "execution_count": null,
      "metadata": {
        "id": "B2KAPAUNJc1H",
        "outputId": "41a96a8d-0bac-4f5e-9ddc-77ceb2da1829",
        "colab": {
          "base_uri": "https://localhost:8080/",
          "height": 334
        }
      },
      "outputs": [
        {
          "output_type": "stream",
          "name": "stderr",
          "text": [
            "\u001b[1m\u001b[22m`stat_bin()` using `bins = 30`. Pick better value with `binwidth`.\n"
          ]
        },
        {
          "output_type": "display_data",
          "data": {
            "text/plain": [
              "plot without title"
            ],
            "image/png": "[encoded data removed]"
          },
          "metadata": {
            "image/png": {
              "width": 480,
              "height": 300
            }
          }
        }
      ],
      "source": [
        "sim1 %>% add_residuals(mdl) %>% ggplot + geom_histogram(aes(x=resid))"
      ]
    },
    {
      "cell_type": "markdown",
      "metadata": {
        "id": "yDgUFQlxJc1H"
      },
      "source": [
        "If the model has done a good job of capturing patterns in the data, then the residuals should look like random noise. \n",
        "\n",
        "In other words, if the residuals contain obvious patterns, then there is more modeling work to be done! You should confirm this by visualizing the residuals."
      ]
    },
    {
      "cell_type": "markdown",
      "metadata": {
        "id": "aeaJGBDJJc1H"
      },
      "source": [
        "Let's see an example where the residuals look very non-normal:"
      ]
    },
    {
      "cell_type": "code",
      "execution_count": null,
      "metadata": {
        "id": "gKkZ4mcKJc1I",
        "outputId": "b4b94fda-ce4d-4af8-947e-8845471a608a",
        "colab": {
          "base_uri": "https://localhost:8080/",
          "height": 329
        }
      },
      "outputs": [
        {
          "output_type": "display_data",
          "data": {
            "text/plain": [
              "\n",
              "Call:\n",
              "lm(formula = y ~ x, data = df)\n",
              "\n",
              "Residuals:\n",
              "    Min      1Q  Median      3Q     Max \n",
              "-1.5107 -0.6345 -0.2111  0.3249  3.3283 \n",
              "\n",
              "Coefficients:\n",
              "            Estimate Std. Error t value Pr(>|t|)    \n",
              "(Intercept)  1.02134    0.09818   10.40   <2e-16 ***\n",
              "x            1.28779    0.10315   12.48   <2e-16 ***\n",
              "---\n",
              "Signif. codes:  0 ‘***’ 0.001 ‘**’ 0.01 ‘*’ 0.05 ‘.’ 0.1 ‘ ’ 1\n",
              "\n",
              "Residual standard error: 0.9817 on 98 degrees of freedom\n",
              "Multiple R-squared:  0.614,\tAdjusted R-squared:   0.61 \n",
              "F-statistic: 155.9 on 1 and 98 DF,  p-value: < 2.2e-16\n"
            ]
          },
          "metadata": {}
        }
      ],
      "source": [
        "df <- tibble(x = rnorm(n = 100), y = x + rexp(n=100))\n",
        "fit <- lm(y ~ x, df)\n",
        "summary(fit)"
      ]
    },
    {
      "cell_type": "code",
      "execution_count": null,
      "metadata": {
        "id": "Se5RXSjgJc1I",
        "outputId": "c827e956-5b32-4d2a-9fe7-47b10456faf0",
        "colab": {
          "base_uri": "https://localhost:8080/",
          "height": 334
        }
      },
      "outputs": [
        {
          "output_type": "stream",
          "name": "stderr",
          "text": [
            "\u001b[1m\u001b[22m`stat_bin()` using `bins = 30`. Pick better value with `binwidth`.\n"
          ]
        },
        {
          "output_type": "display_data",
          "data": {
            "text/plain": [
              "plot without title"
            ],
            "image/png": "[encoded data removed]"
          },
          "metadata": {
            "image/png": {
              "width": 480,
              "height": 300
            }
          }
        }
      ],
      "source": [
        "df %>% add_residuals(fit) %>% ggplot() + geom_histogram(aes(x=resid))"
      ]
    },
    {
      "cell_type": "markdown",
      "metadata": {
        "id": "m6uCxMjRJc1I"
      },
      "source": [
        "If you saw this in real data, it would be a signal that the simple linear model is not appropriate."
      ]
    },
    {
      "cell_type": "markdown",
      "metadata": {
        "id": "1z4XKIAZJc1J"
      },
      "source": [
        "### Measures of goodness-of-fit\n",
        "\n",
        "The last few lines of the summary output contain some information about the overall fit of the linear model to this data set:\n",
        "\n",
        "```\n",
        "Residual standard error: 2.203 on 28 degrees of freedom\n",
        "Multiple R-squared:  0.8846,\tAdjusted R-squared:  0.8805 \n",
        "F-statistic: 214.7 on 1 and 28 DF,  p-value: 1.173e-14\n",
        "```"
      ]
    },
    {
      "cell_type": "markdown",
      "metadata": {
        "id": "2VGtDeD1Jc1J"
      },
      "source": [
        "- Degrees of freedom (`df`) is the number of observations minus the number of estimated parameters.\n",
        "- SSe - The sum of squares residual is $\\sum_{i=1}^{n} (\\hat{y}_i - y_i)^2$\n",
        "- The residual standard error is $\\sqrt{\\sum_{i=1}^{n} (\\hat{y}_i - y_i)^2 / \\text{df}}$ \n",
        "- SSy - The sum of squared differences between individual data points ($y_i$) and the mean of the response variable (y)\n",
        "\n",
        "$$\\text{SSy} = \\sum_{i=1}^{n} [y_i - \\bar{y}]^2$$.\n",
        "- R-squared: `1 - SSe / SSy`\n",
        "- Adjusted R-squared takes into account the number of predictors that were used. \n",
        "- F-statistic: test of the hypothesis that *all* of the coefficients in the model are simultaneously zero.\n",
        "\n",
        "Remember that R-squared always goes up as you add more variables! "
      ]
    },
    {
      "cell_type": "code",
      "execution_count": null,
      "metadata": {
        "id": "ku-P4v8nJc1J",
        "outputId": "acfb82dd-ee42-4f4e-ec48-ca40468c28d1",
        "colab": {
          "base_uri": "https://localhost:8080/",
          "height": 329
        }
      },
      "outputs": [
        {
          "output_type": "display_data",
          "data": {
            "text/plain": [
              "\n",
              "Call:\n",
              "lm(formula = y ~ x, data = sim1)\n",
              "\n",
              "Residuals:\n",
              "    Min      1Q  Median      3Q     Max \n",
              "-4.1469 -1.5197  0.1331  1.4670  4.6516 \n",
              "\n",
              "Coefficients:\n",
              "            Estimate Std. Error t value Pr(>|t|)    \n",
              "(Intercept)   4.2208     0.8688   4.858 4.09e-05 ***\n",
              "x             2.0515     0.1400  14.651 1.17e-14 ***\n",
              "---\n",
              "Signif. codes:  0 ‘***’ 0.001 ‘**’ 0.01 ‘*’ 0.05 ‘.’ 0.1 ‘ ’ 1\n",
              "\n",
              "Residual standard error: 2.203 on 28 degrees of freedom\n",
              "Multiple R-squared:  0.8846,\tAdjusted R-squared:  0.8805 \n",
              "F-statistic: 214.7 on 1 and 28 DF,  p-value: 1.173e-14\n"
            ]
          },
          "metadata": {}
        }
      ],
      "source": [
        "lm(y ~ x, sim1) %>% summary"
      ]
    },
    {
      "cell_type": "code",
      "execution_count": null,
      "metadata": {
        "id": "Nk57WY2pJc1J",
        "outputId": "2d711577-b859-46d9-99b9-8b01d5474f7c",
        "colab": {
          "base_uri": "https://localhost:8080/",
          "height": 129
        }
      },
      "outputs": [
        {
          "output_type": "display_data",
          "data": {
            "text/html": [
              "<table class=\"dataframe\">\n",
              "<caption>A tibble: 1 × 3</caption>\n",
              "<thead>\n",
              "\t<tr><th scope=col>SSy</th><th scope=col>SSe</th><th scope=col>R2</th></tr>\n",
              "\t<tr><th scope=col>&lt;dbl&gt;</th><th scope=col>&lt;dbl&gt;</th><th scope=col>&lt;dbl&gt;</th></tr>\n",
              "</thead>\n",
              "<tbody>\n",
              "\t<tr><td>1177.55</td><td>135.8746</td><td>0.8846124</td></tr>\n",
              "</tbody>\n",
              "</table>\n"
            ],
            "text/markdown": "\nA tibble: 1 × 3\n\n| SSy &lt;dbl&gt; | SSe &lt;dbl&gt; | R2 &lt;dbl&gt; |\n|---|---|---|\n| 1177.55 | 135.8746 | 0.8846124 |\n\n",
            "text/latex": "A tibble: 1 × 3\n\\begin{tabular}{lll}\n SSy & SSe & R2\\\\\n <dbl> & <dbl> & <dbl>\\\\\n\\hline\n\t 1177.55 & 135.8746 & 0.8846124\\\\\n\\end{tabular}\n",
            "text/plain": [
              "  SSy     SSe      R2       \n",
              "1 1177.55 135.8746 0.8846124"
            ]
          },
          "metadata": {}
        }
      ],
      "source": [
        "# R-squared\n",
        "sim1 %>% add_residuals(mdl) %>% summarize(SSy = sum((y - mean(y))^2), SSe = sum(resid^2)) %>% \n",
        "    mutate(R2 = 1 - SSe / SSy)"
      ]
    },
    {
      "cell_type": "markdown",
      "metadata": {
        "id": "k0_Y7BXSJc1K"
      },
      "source": [
        "## 🤔 Quiz\n",
        "\n",
        "```\n",
        "Call:\n",
        "lm(formula = y ~ x, data = df)\n",
        "\n",
        "Residuals:\n",
        "    Min      1Q  Median      3Q     Max \n",
        "-6.7935 -1.6009 -0.0075  1.7413  6.5397 \n",
        "\n",
        "Coefficients:\n",
        "            Estimate Std. Error t value Pr(>|t|)    \n",
        "(Intercept)  0.03546    0.13904   0.255    0.799    \n",
        "x2          -2.78252    0.21783 -12.774   <2e-16 ***\n",
        "---\n",
        "Signif. codes:  0 ‘***’ 0.001 ‘**’ 0.01 ‘*’ 0.05 ‘.’ 0.1 ‘ ’ 1\n",
        "\n",
        "Residual standard error: 2.408 on 298 degrees of freedom\n",
        "Multiple R-squared:  0.3538,\tAdjusted R-squared:  0.3516 \n",
        "F-statistic: 163.2 on 1 and 298 DF,  p-value: < 2.2e-16\n",
        "```\n",
        "\n",
        "How many non-missing observations are there in `df`?\n",
        "\n",
        "<ol style=\"list-style-type: upper-alpha;\">\n",
        "    <li>200</li>\n",
        "    <li>298</li>\n",
        "    <li>300</li>\n",
        "    <li>302</li>\n",
        "</ol>"
      ]
    },
    {
      "cell_type": "markdown",
      "metadata": {
        "id": "t_mct-02Jc1L"
      },
      "source": [
        "All of the goodness-of-fit measures shown above in some way measure the amount of signal in your data relative to the amount of noise. \n",
        "\n",
        "To see this, let's study the effect of adding progressively more noise to a made-up data set."
      ]
    },
    {
      "cell_type": "code",
      "execution_count": null,
      "metadata": {
        "id": "L2KT-ryoJc1L",
        "outputId": "1c6c4211-1906-4e16-c410-31591a64ad54",
        "colab": {
          "base_uri": "https://localhost:8080/",
          "height": 647
        }
      },
      "outputs": [
        {
          "output_type": "stream",
          "name": "stderr",
          "text": [
            "\u001b[1m\u001b[22m`geom_smooth()` using formula = 'y ~ x'\n"
          ]
        },
        {
          "output_type": "display_data",
          "data": {
            "text/plain": [
              "\n",
              "Call:\n",
              "lm(formula = y ~ x, data = df.sigma)\n",
              "\n",
              "Residuals:\n",
              "     Min       1Q   Median       3Q      Max \n",
              "-0.21736 -0.04307  0.01313  0.05281  0.21499 \n",
              "\n",
              "Coefficients:\n",
              "             Estimate Std. Error t value Pr(>|t|)    \n",
              "(Intercept) -0.011594   0.007983  -1.452     0.15    \n",
              "x            0.990112   0.008301 119.280   <2e-16 ***\n",
              "---\n",
              "Signif. codes:  0 ‘***’ 0.001 ‘**’ 0.01 ‘*’ 0.05 ‘.’ 0.1 ‘ ’ 1\n",
              "\n",
              "Residual standard error: 0.07942 on 98 degrees of freedom\n",
              "Multiple R-squared:  0.9932,\tAdjusted R-squared:  0.9931 \n",
              "F-statistic: 1.423e+04 on 1 and 98 DF,  p-value: < 2.2e-16\n"
            ]
          },
          "metadata": {}
        },
        {
          "output_type": "display_data",
          "data": {
            "text/plain": [
              "plot without title"
            ],
            "image/png": "[encoded data removed]"
          },
          "metadata": {
            "image/png": {
              "width": 480,
              "height": 300
            }
          }
        }
      ],
      "source": [
        "sigma <- 0.1  # noise level\n",
        "df.sigma <- tibble(x = rnorm(n = 100), y = x + rnorm(n = 100, sd = sigma)) \n",
        "ggplot(df.sigma, aes(x = x, y = y)) + geom_point() + geom_smooth(method = \"lm\")\n",
        "lm(y ~ x, df.sigma) %>% summary"
      ]
    },
    {
      "cell_type": "markdown",
      "metadata": {
        "id": "2YMEiEc_-icL"
      },
      "source": [
        "## Regression example #1: CPU DB database \n",
        "\n",
        "The first dataset we will use to practice regression comes from the book. It consists of data on computer processors and performance-related metrics.\n",
        "\n",
        "<img src='https://upload.wikimedia.org/wikipedia/commons/thumb/b/bf/Intel_CPU_Core_i7_12700K_Alder_Lake_perspective.jpg/1280px-Intel_CPU_Core_i7_12700K_Alder_Lake_perspective.jpg' width=600 />\n",
        "\n"
      ]
    },
    {
      "cell_type": "code",
      "execution_count": null,
      "metadata": {
        "id": "yAMnBOrq-txl"
      },
      "outputs": [],
      "source": [
        "load(url('https://datasets.stats306.org/cpus.RData'))"
      ]
    },
    {
      "cell_type": "markdown",
      "metadata": {
        "id": "HhWDZcHhA29V"
      },
      "source": [
        "### Available dataframes\n",
        "\n",
        "* The data frame **int00.dat** contains the data from the CPU DB database\n",
        "for all of the processors for which performance results were available for\n",
        "the SPEC Integer 2000 (Int2000) benchmark program. \n",
        "* fp00.dat contains the data for the processors that executed the Floating-Point 2000 (Fp2000) benchmarks\n",
        "\n",
        "and so on.\n",
        "\n",
        "We will use `int00.dat` in this lesson and now let us take a look at the first few records of this dataframe"
      ]
    },
    {
      "cell_type": "code",
      "execution_count": null,
      "metadata": {
        "colab": {
          "base_uri": "https://localhost:8080/",
          "height": 306
        },
        "id": "3M1Dg3lfBT3I",
        "outputId": "c891e1ba-4aa2-4338-fc95-f1fce4377b26"
      },
      "outputs": [
        {
          "output_type": "display_data",
          "data": {
            "text/html": [
              "<table class=\"dataframe\">\n",
              "<caption>A tibble: 6 × 16</caption>\n",
              "<thead>\n",
              "\t<tr><th scope=col>nperf</th><th scope=col>perf</th><th scope=col>clock</th><th scope=col>threads</th><th scope=col>cores</th><th scope=col>TDP</th><th scope=col>transistors</th><th scope=col>dieSize</th><th scope=col>voltage</th><th scope=col>featureSize</th><th scope=col>channel</th><th scope=col>FO4delay</th><th scope=col>L1icache</th><th scope=col>L1dcache</th><th scope=col>L2cache</th><th scope=col>L3cache</th></tr>\n",
              "\t<tr><th scope=col>&lt;dbl&gt;</th><th scope=col>&lt;dbl&gt;</th><th scope=col>&lt;dbl&gt;</th><th scope=col>&lt;int&gt;</th><th scope=col>&lt;int&gt;</th><th scope=col>&lt;dbl&gt;</th><th scope=col>&lt;dbl&gt;</th><th scope=col>&lt;int&gt;</th><th scope=col>&lt;dbl&gt;</th><th scope=col>&lt;dbl&gt;</th><th scope=col>&lt;dbl&gt;</th><th scope=col>&lt;dbl&gt;</th><th scope=col>&lt;int&gt;</th><th scope=col>&lt;int&gt;</th><th scope=col>&lt;int&gt;</th><th scope=col>&lt;int&gt;</th></tr>\n",
              "</thead>\n",
              "<tbody>\n",
              "\t<tr><td>11.07218</td><td> 425.6607</td><td>1200</td><td>1</td><td>1</td><td>NA</td><td>NA</td><td> NA</td><td> NA</td><td>0.18</td><td>0.10</td><td>36.0</td><td>64</td><td>64</td><td> 256</td><td>NA</td></tr>\n",
              "\t<tr><td>11.48725</td><td> 438.0000</td><td>1300</td><td>1</td><td>1</td><td>NA</td><td>NA</td><td> NA</td><td> NA</td><td>0.18</td><td>0.10</td><td>36.0</td><td>64</td><td>64</td><td> 256</td><td>NA</td></tr>\n",
              "\t<tr><td>12.96734</td><td> 482.0000</td><td>1333</td><td>1</td><td>1</td><td>NA</td><td>NA</td><td> NA</td><td> NA</td><td>0.18</td><td>0.10</td><td>36.0</td><td>64</td><td>64</td><td> 256</td><td>NA</td></tr>\n",
              "\t<tr><td>13.40464</td><td> 495.0000</td><td>1400</td><td>1</td><td>1</td><td>56</td><td>NA</td><td>120</td><td>1.8</td><td>0.18</td><td>0.10</td><td>36.0</td><td>64</td><td>64</td><td> 256</td><td>NA</td></tr>\n",
              "\t<tr><td>39.33987</td><td>1266.0000</td><td>2000</td><td>1</td><td>1</td><td>NA</td><td>NA</td><td> NA</td><td> NA</td><td>0.13</td><td>0.07</td><td>25.2</td><td>64</td><td>64</td><td>1024</td><td>NA</td></tr>\n",
              "\t<tr><td>39.44078</td><td>1269.0000</td><td>2600</td><td>1</td><td>1</td><td>NA</td><td>NA</td><td> NA</td><td> NA</td><td>0.13</td><td>0.07</td><td>25.2</td><td>64</td><td>64</td><td>1024</td><td>NA</td></tr>\n",
              "</tbody>\n",
              "</table>\n"
            ],
            "text/markdown": "\nA tibble: 6 × 16\n\n| nperf &lt;dbl&gt; | perf &lt;dbl&gt; | clock &lt;dbl&gt; | threads &lt;int&gt; | cores &lt;int&gt; | TDP &lt;dbl&gt; | transistors &lt;dbl&gt; | dieSize &lt;int&gt; | voltage &lt;dbl&gt; | featureSize &lt;dbl&gt; | channel &lt;dbl&gt; | FO4delay &lt;dbl&gt; | L1icache &lt;int&gt; | L1dcache &lt;int&gt; | L2cache &lt;int&gt; | L3cache &lt;int&gt; |\n|---|---|---|---|---|---|---|---|---|---|---|---|---|---|---|---|\n| 11.07218 |  425.6607 | 1200 | 1 | 1 | NA | NA |  NA |  NA | 0.18 | 0.10 | 36.0 | 64 | 64 |  256 | NA |\n| 11.48725 |  438.0000 | 1300 | 1 | 1 | NA | NA |  NA |  NA | 0.18 | 0.10 | 36.0 | 64 | 64 |  256 | NA |\n| 12.96734 |  482.0000 | 1333 | 1 | 1 | NA | NA |  NA |  NA | 0.18 | 0.10 | 36.0 | 64 | 64 |  256 | NA |\n| 13.40464 |  495.0000 | 1400 | 1 | 1 | 56 | NA | 120 | 1.8 | 0.18 | 0.10 | 36.0 | 64 | 64 |  256 | NA |\n| 39.33987 | 1266.0000 | 2000 | 1 | 1 | NA | NA |  NA |  NA | 0.13 | 0.07 | 25.2 | 64 | 64 | 1024 | NA |\n| 39.44078 | 1269.0000 | 2600 | 1 | 1 | NA | NA |  NA |  NA | 0.13 | 0.07 | 25.2 | 64 | 64 | 1024 | NA |\n\n",
            "text/latex": "A tibble: 6 × 16\n\\begin{tabular}{llllllllllllllll}\n nperf & perf & clock & threads & cores & TDP & transistors & dieSize & voltage & featureSize & channel & FO4delay & L1icache & L1dcache & L2cache & L3cache\\\\\n <dbl> & <dbl> & <dbl> & <int> & <int> & <dbl> & <dbl> & <int> & <dbl> & <dbl> & <dbl> & <dbl> & <int> & <int> & <int> & <int>\\\\\n\\hline\n\t 11.07218 &  425.6607 & 1200 & 1 & 1 & NA & NA &  NA &  NA & 0.18 & 0.10 & 36.0 & 64 & 64 &  256 & NA\\\\\n\t 11.48725 &  438.0000 & 1300 & 1 & 1 & NA & NA &  NA &  NA & 0.18 & 0.10 & 36.0 & 64 & 64 &  256 & NA\\\\\n\t 12.96734 &  482.0000 & 1333 & 1 & 1 & NA & NA &  NA &  NA & 0.18 & 0.10 & 36.0 & 64 & 64 &  256 & NA\\\\\n\t 13.40464 &  495.0000 & 1400 & 1 & 1 & 56 & NA & 120 & 1.8 & 0.18 & 0.10 & 36.0 & 64 & 64 &  256 & NA\\\\\n\t 39.33987 & 1266.0000 & 2000 & 1 & 1 & NA & NA &  NA &  NA & 0.13 & 0.07 & 25.2 & 64 & 64 & 1024 & NA\\\\\n\t 39.44078 & 1269.0000 & 2600 & 1 & 1 & NA & NA &  NA &  NA & 0.13 & 0.07 & 25.2 & 64 & 64 & 1024 & NA\\\\\n\\end{tabular}\n",
            "text/plain": [
              "  nperf    perf      clock threads cores TDP transistors dieSize voltage\n",
              "1 11.07218  425.6607 1200  1       1     NA  NA           NA      NA    \n",
              "2 11.48725  438.0000 1300  1       1     NA  NA           NA      NA    \n",
              "3 12.96734  482.0000 1333  1       1     NA  NA           NA      NA    \n",
              "4 13.40464  495.0000 1400  1       1     56  NA          120     1.8    \n",
              "5 39.33987 1266.0000 2000  1       1     NA  NA           NA      NA    \n",
              "6 39.44078 1269.0000 2600  1       1     NA  NA           NA      NA    \n",
              "  featureSize channel FO4delay L1icache L1dcache L2cache L3cache\n",
              "1 0.18        0.10    36.0     64       64        256    NA     \n",
              "2 0.18        0.10    36.0     64       64        256    NA     \n",
              "3 0.18        0.10    36.0     64       64        256    NA     \n",
              "4 0.18        0.10    36.0     64       64        256    NA     \n",
              "5 0.13        0.07    25.2     64       64       1024    NA     \n",
              "6 0.13        0.07    25.2     64       64       1024    NA     "
            ]
          },
          "metadata": {}
        }
      ],
      "source": [
        "int00.dat %>% head"
      ]
    },
    {
      "cell_type": "markdown",
      "metadata": {
        "id": "MnCFiDblCFmQ"
      },
      "source": [
        "Variables:\n",
        "* _nperf_ -  Normalized performance\n",
        "* _perf_ - SPEC performance\n",
        "* _clock_ - Clock frequency (MHz)\n",
        "* _threads_ - Number of hardware threads available\n",
        "* _cores_ - Number of hardware cores available\n",
        "* _TDP_ - Thermal design power\n",
        "* _transistors_ - Number of transistors on the chip (M)\n",
        "* _dieSize_ - The size of the chip\n",
        "* _voltage_ - Nominal operating voltage\n",
        "* _featureSize_ - Fabrication feature size\n",
        "* _channel_ - Fabrication channel size\n",
        "* _FO4delay_ - Fan-out-four delay\n",
        "* _L1icache_ - Level 1 instruction cache size\n",
        "* _L1dcache_ - Level 1 data cache size\n",
        "* _L2cache_ - Level 2 cache size\n",
        "* _L3cache_ - Level 3 cache size"
      ]
    },
    {
      "cell_type": "markdown",
      "metadata": {
        "id": "Fq0esDpdFQ8S"
      },
      "source": [
        "### `perf` vs. `clock`\n",
        "`perf` measure performance and `clock` measures clock speed. Are they linearly related?\n"
      ]
    },
    {
      "cell_type": "code",
      "execution_count": null,
      "metadata": {
        "colab": {
          "base_uri": "https://localhost:8080/",
          "height": 317
        },
        "id": "AM5jj-R1FWfy",
        "outputId": "6bca2e6d-cddf-4d85-e26d-c5710394640d"
      },
      "outputs": [
        {
          "output_type": "display_data",
          "data": {
            "text/plain": [
              "plot without title"
            ],
            "image/png": "[encoded data removed]"
          },
          "metadata": {
            "image/png": {
              "width": 480,
              "height": 300
            }
          }
        }
      ],
      "source": [
        "ggplot(int00.dat) + geom_point(aes(x=clock, y=perf))"
      ]
    },
    {
      "cell_type": "markdown",
      "metadata": {
        "id": "4cuWvDaa8QH-"
      },
      "source": [
        "Let's consider the simple model:\n",
        "\n",
        "$$\\text{perf} = a_0 + a_1 \\cdot \\text{clock}.$$\n",
        "\n",
        "To find the best-fitting $a_0$ and $a_1$, regress `perf` on `clock` using `lm()`."
      ]
    },
    {
      "cell_type": "code",
      "execution_count": null,
      "metadata": {
        "colab": {
          "base_uri": "https://localhost:8080/",
          "height": 139
        },
        "id": "c9Vi75HK8QH_",
        "outputId": "3b2e828d-55e5-4bd3-c817-ec200678cd81"
      },
      "outputs": [
        {
          "output_type": "display_data",
          "data": {
            "text/plain": [
              "\n",
              "Call:\n",
              "lm(formula = perf ~ clock, data = int00.dat)\n",
              "\n",
              "Coefficients:\n",
              "(Intercept)        clock  \n",
              "    51.7871       0.5863  \n"
            ]
          },
          "metadata": {}
        }
      ],
      "source": [
        "int00.lm <- lm(perf ~ clock, data = int00.dat)\n",
        "int00.lm"
      ]
    },
    {
      "cell_type": "markdown",
      "metadata": {
        "id": "fWE8qLHyGCrn"
      },
      "source": [
        "## 🤔 Quiz\n",
        "\n",
        "What is the value of $a_0$ determined by linear regression from the `int00.dat` data?\n",
        "\n",
        "<ol style=\"list-style-type: upper-alpha;\">\n",
        "    <li>51.7871</li>\n",
        "    <li>.5863</li>\n",
        "    <li>.1251</li>\n",
        "    <li>42</li>\n",
        "</ol>\n"
      ]
    },
    {
      "cell_type": "markdown",
      "metadata": {
        "id": "vaEWJB5UJc1N"
      },
      "source": [
        "We can use `geom_smooth()` to plot the regression line atop the data:"
      ]
    },
    {
      "cell_type": "code",
      "execution_count": null,
      "metadata": {
        "colab": {
          "base_uri": "https://localhost:8080/",
          "height": 334
        },
        "id": "tcWK14NMBkgj",
        "outputId": "92e6b2d0-3027-4f5d-bb85-3130cef580e2"
      },
      "outputs": [
        {
          "output_type": "stream",
          "name": "stderr",
          "text": [
            "\u001b[1m\u001b[22m`geom_smooth()` using formula = 'y ~ x'\n"
          ]
        },
        {
          "output_type": "display_data",
          "data": {
            "text/plain": [
              "plot without title"
            ],
            "image/png": "[encoded data removed]"
          },
          "metadata": {
            "image/png": {
              "width": 480,
              "height": 300
            }
          }
        }
      ],
      "source": [
        "ggplot(int00.dat, aes(x=clock, y=perf)) + geom_point() + geom_smooth(method = \"lm\")"
      ]
    },
    {
      "cell_type": "markdown",
      "metadata": {
        "id": "tmycTh1ZJc1N"
      },
      "source": [
        "Now let's summarize the regression:"
      ]
    },
    {
      "cell_type": "code",
      "execution_count": null,
      "metadata": {
        "scrolled": true,
        "id": "rE9KYTMDJc1N",
        "outputId": "c5c3cc66-11b5-495c-dc73-9dd5f10b8eb7",
        "colab": {
          "base_uri": "https://localhost:8080/",
          "height": 329
        }
      },
      "outputs": [
        {
          "output_type": "display_data",
          "data": {
            "text/plain": [
              "\n",
              "Call:\n",
              "lm(formula = perf ~ clock, data = int00.dat)\n",
              "\n",
              "Residuals:\n",
              "    Min      1Q  Median      3Q     Max \n",
              "-634.61 -276.17  -30.83   75.38 1299.52 \n",
              "\n",
              "Coefficients:\n",
              "            Estimate Std. Error t value Pr(>|t|)    \n",
              "(Intercept) 51.78709   53.31513   0.971    0.332    \n",
              "clock        0.58635    0.02697  21.741   <2e-16 ***\n",
              "---\n",
              "Signif. codes:  0 ‘***’ 0.001 ‘**’ 0.01 ‘*’ 0.05 ‘.’ 0.1 ‘ ’ 1\n",
              "\n",
              "Residual standard error: 396.1 on 254 degrees of freedom\n",
              "Multiple R-squared:  0.6505,\tAdjusted R-squared:  0.6491 \n",
              "F-statistic: 472.7 on 1 and 254 DF,  p-value: < 2.2e-16\n"
            ]
          },
          "metadata": {}
        }
      ],
      "source": [
        "summary(int00.lm)"
      ]
    },
    {
      "cell_type": "markdown",
      "metadata": {
        "id": "fgJ3ETxvJc1O"
      },
      "source": [
        "### Estimates\n",
        "The `Estimate` column contains the fitted values ($\\hat{a}_0$ and $\\hat{a}_1$) in the notation above. This says that a one-unit increase in `clock` is predicted to increase `perf` by 0.586. The `(Intercept)` term is the predicted value of `perf` when `clock=0`.\n",
        "\n",
        "### Standard errors\n",
        "- Since the standard error of the `clock` coefficient is 0.027, this says that with a high degree of certainty, the \"true\" estimate lies is the interval $0.586 \\pm 3 \\times 0.14$ (say). \n",
        "\n",
        "### Model fit:\n",
        "- The residual standard error is high (about 400) relative to the scale of perf (1000-2000)\n",
        "- $R$-squared is .65, which is neither high nor low."
      ]
    },
    {
      "cell_type": "markdown",
      "metadata": {
        "id": "vPeAQRDkJc1O"
      },
      "source": [
        "Next, let's visualize the residuals:"
      ]
    },
    {
      "cell_type": "code",
      "execution_count": null,
      "metadata": {
        "colab": {
          "base_uri": "https://localhost:8080/",
          "height": 334
        },
        "id": "zlw2aT0o8QID",
        "outputId": "caafd81a-e70b-48fa-d61f-60a67e02cb10"
      },
      "outputs": [
        {
          "output_type": "stream",
          "name": "stderr",
          "text": [
            "\u001b[1m\u001b[22m`stat_bin()` using `bins = 30`. Pick better value with `binwidth`.\n"
          ]
        },
        {
          "output_type": "display_data",
          "data": {
            "text/plain": [
              "plot without title"
            ],
            "image/png": "[encoded data removed]"
          },
          "metadata": {
            "image/png": {
              "width": 480,
              "height": 300
            }
          }
        }
      ],
      "source": [
        "int00.dat %>% add_residuals(int00.lm) %>% ggplot + \n",
        "  geom_histogram(aes(x=resid))"
      ]
    },
    {
      "cell_type": "markdown",
      "metadata": {
        "id": "CdWdC138Jc1O"
      },
      "source": [
        "As you could probably already guess from looking at the plot of `perf` vs. `clock`, the residuals do not appear to be normally distributed. "
      ]
    },
    {
      "cell_type": "markdown",
      "metadata": {
        "id": "VVXHVHy3Zmc0"
      },
      "source": [
        "### Residual vs. fitted\n",
        "\n",
        "Next let's consider a plot of the residuals versus the fitted values:"
      ]
    },
    {
      "cell_type": "code",
      "execution_count": null,
      "metadata": {
        "colab": {
          "base_uri": "https://localhost:8080/",
          "height": 317
        },
        "id": "2o0blQVkUeED",
        "outputId": "2e069d02-ec80-4469-be7b-5319a43f4295"
      },
      "outputs": [
        {
          "output_type": "display_data",
          "data": {
            "text/plain": [
              "plot without title"
            ],
            "image/png": "[encoded data removed]"
          },
          "metadata": {
            "image/png": {
              "width": 480,
              "height": 300
            }
          }
        }
      ],
      "source": [
        "int00.dat %>% add_residuals(int00.lm) %>% add_predictions(int00.lm) %>% \n",
        "    ggplot() + geom_point(aes(x = resid, y = pred))"
      ]
    },
    {
      "cell_type": "markdown",
      "metadata": {
        "id": "nuk8VupHJc1P"
      },
      "source": [
        "The linear model says that, after accounting for the predictors, the remaining variation should look like pure noise. So:\n",
        "\n",
        "- If the linear model is correct, then there should be *no discernible relationship* between the predictors and the residuals. \n",
        "- (The fitted values are linear functions of the predictors.)\n",
        "- If there are obvious patterns, then the model is probably not correct.\n",
        "\n",
        "Here we see that:\n",
        "\n",
        "* The residuals have increasing variance for larger values of `clock`.\n",
        "* There are several \"clusters\" of residuals.\n",
        "\n",
        "It is likely that _clock_ alone is not sufficient to fully explain the outcome variable."
      ]
    },
    {
      "cell_type": "code",
      "execution_count": null,
      "metadata": {
        "id": "7Hgvf5R6Jc1P",
        "outputId": "3682bbab-345c-4281-bde3-39affa8f6558",
        "colab": {
          "base_uri": "https://localhost:8080/",
          "height": 306
        }
      },
      "outputs": [
        {
          "output_type": "display_data",
          "data": {
            "text/html": [
              "<table class=\"dataframe\">\n",
              "<caption>A tibble: 6 × 16</caption>\n",
              "<thead>\n",
              "\t<tr><th scope=col>nperf</th><th scope=col>perf</th><th scope=col>clock</th><th scope=col>threads</th><th scope=col>cores</th><th scope=col>TDP</th><th scope=col>transistors</th><th scope=col>dieSize</th><th scope=col>voltage</th><th scope=col>featureSize</th><th scope=col>channel</th><th scope=col>FO4delay</th><th scope=col>L1icache</th><th scope=col>L1dcache</th><th scope=col>L2cache</th><th scope=col>L3cache</th></tr>\n",
              "\t<tr><th scope=col>&lt;dbl&gt;</th><th scope=col>&lt;dbl&gt;</th><th scope=col>&lt;dbl&gt;</th><th scope=col>&lt;int&gt;</th><th scope=col>&lt;int&gt;</th><th scope=col>&lt;dbl&gt;</th><th scope=col>&lt;dbl&gt;</th><th scope=col>&lt;int&gt;</th><th scope=col>&lt;dbl&gt;</th><th scope=col>&lt;dbl&gt;</th><th scope=col>&lt;dbl&gt;</th><th scope=col>&lt;dbl&gt;</th><th scope=col>&lt;int&gt;</th><th scope=col>&lt;int&gt;</th><th scope=col>&lt;int&gt;</th><th scope=col>&lt;int&gt;</th></tr>\n",
              "</thead>\n",
              "<tbody>\n",
              "\t<tr><td>11.07218</td><td> 425.6607</td><td>1200</td><td>1</td><td>1</td><td>NA</td><td>NA</td><td> NA</td><td> NA</td><td>0.18</td><td>0.10</td><td>36.0</td><td>64</td><td>64</td><td> 256</td><td>NA</td></tr>\n",
              "\t<tr><td>11.48725</td><td> 438.0000</td><td>1300</td><td>1</td><td>1</td><td>NA</td><td>NA</td><td> NA</td><td> NA</td><td>0.18</td><td>0.10</td><td>36.0</td><td>64</td><td>64</td><td> 256</td><td>NA</td></tr>\n",
              "\t<tr><td>12.96734</td><td> 482.0000</td><td>1333</td><td>1</td><td>1</td><td>NA</td><td>NA</td><td> NA</td><td> NA</td><td>0.18</td><td>0.10</td><td>36.0</td><td>64</td><td>64</td><td> 256</td><td>NA</td></tr>\n",
              "\t<tr><td>13.40464</td><td> 495.0000</td><td>1400</td><td>1</td><td>1</td><td>56</td><td>NA</td><td>120</td><td>1.8</td><td>0.18</td><td>0.10</td><td>36.0</td><td>64</td><td>64</td><td> 256</td><td>NA</td></tr>\n",
              "\t<tr><td>39.33987</td><td>1266.0000</td><td>2000</td><td>1</td><td>1</td><td>NA</td><td>NA</td><td> NA</td><td> NA</td><td>0.13</td><td>0.07</td><td>25.2</td><td>64</td><td>64</td><td>1024</td><td>NA</td></tr>\n",
              "\t<tr><td>39.44078</td><td>1269.0000</td><td>2600</td><td>1</td><td>1</td><td>NA</td><td>NA</td><td> NA</td><td> NA</td><td>0.13</td><td>0.07</td><td>25.2</td><td>64</td><td>64</td><td>1024</td><td>NA</td></tr>\n",
              "</tbody>\n",
              "</table>\n"
            ],
            "text/markdown": "\nA tibble: 6 × 16\n\n| nperf &lt;dbl&gt; | perf &lt;dbl&gt; | clock &lt;dbl&gt; | threads &lt;int&gt; | cores &lt;int&gt; | TDP &lt;dbl&gt; | transistors &lt;dbl&gt; | dieSize &lt;int&gt; | voltage &lt;dbl&gt; | featureSize &lt;dbl&gt; | channel &lt;dbl&gt; | FO4delay &lt;dbl&gt; | L1icache &lt;int&gt; | L1dcache &lt;int&gt; | L2cache &lt;int&gt; | L3cache &lt;int&gt; |\n|---|---|---|---|---|---|---|---|---|---|---|---|---|---|---|---|\n| 11.07218 |  425.6607 | 1200 | 1 | 1 | NA | NA |  NA |  NA | 0.18 | 0.10 | 36.0 | 64 | 64 |  256 | NA |\n| 11.48725 |  438.0000 | 1300 | 1 | 1 | NA | NA |  NA |  NA | 0.18 | 0.10 | 36.0 | 64 | 64 |  256 | NA |\n| 12.96734 |  482.0000 | 1333 | 1 | 1 | NA | NA |  NA |  NA | 0.18 | 0.10 | 36.0 | 64 | 64 |  256 | NA |\n| 13.40464 |  495.0000 | 1400 | 1 | 1 | 56 | NA | 120 | 1.8 | 0.18 | 0.10 | 36.0 | 64 | 64 |  256 | NA |\n| 39.33987 | 1266.0000 | 2000 | 1 | 1 | NA | NA |  NA |  NA | 0.13 | 0.07 | 25.2 | 64 | 64 | 1024 | NA |\n| 39.44078 | 1269.0000 | 2600 | 1 | 1 | NA | NA |  NA |  NA | 0.13 | 0.07 | 25.2 | 64 | 64 | 1024 | NA |\n\n",
            "text/latex": "A tibble: 6 × 16\n\\begin{tabular}{llllllllllllllll}\n nperf & perf & clock & threads & cores & TDP & transistors & dieSize & voltage & featureSize & channel & FO4delay & L1icache & L1dcache & L2cache & L3cache\\\\\n <dbl> & <dbl> & <dbl> & <int> & <int> & <dbl> & <dbl> & <int> & <dbl> & <dbl> & <dbl> & <dbl> & <int> & <int> & <int> & <int>\\\\\n\\hline\n\t 11.07218 &  425.6607 & 1200 & 1 & 1 & NA & NA &  NA &  NA & 0.18 & 0.10 & 36.0 & 64 & 64 &  256 & NA\\\\\n\t 11.48725 &  438.0000 & 1300 & 1 & 1 & NA & NA &  NA &  NA & 0.18 & 0.10 & 36.0 & 64 & 64 &  256 & NA\\\\\n\t 12.96734 &  482.0000 & 1333 & 1 & 1 & NA & NA &  NA &  NA & 0.18 & 0.10 & 36.0 & 64 & 64 &  256 & NA\\\\\n\t 13.40464 &  495.0000 & 1400 & 1 & 1 & 56 & NA & 120 & 1.8 & 0.18 & 0.10 & 36.0 & 64 & 64 &  256 & NA\\\\\n\t 39.33987 & 1266.0000 & 2000 & 1 & 1 & NA & NA &  NA &  NA & 0.13 & 0.07 & 25.2 & 64 & 64 & 1024 & NA\\\\\n\t 39.44078 & 1269.0000 & 2600 & 1 & 1 & NA & NA &  NA &  NA & 0.13 & 0.07 & 25.2 & 64 & 64 & 1024 & NA\\\\\n\\end{tabular}\n",
            "text/plain": [
              "  nperf    perf      clock threads cores TDP transistors dieSize voltage\n",
              "1 11.07218  425.6607 1200  1       1     NA  NA           NA      NA    \n",
              "2 11.48725  438.0000 1300  1       1     NA  NA           NA      NA    \n",
              "3 12.96734  482.0000 1333  1       1     NA  NA           NA      NA    \n",
              "4 13.40464  495.0000 1400  1       1     56  NA          120     1.8    \n",
              "5 39.33987 1266.0000 2000  1       1     NA  NA           NA      NA    \n",
              "6 39.44078 1269.0000 2600  1       1     NA  NA           NA      NA    \n",
              "  featureSize channel FO4delay L1icache L1dcache L2cache L3cache\n",
              "1 0.18        0.10    36.0     64       64        256    NA     \n",
              "2 0.18        0.10    36.0     64       64        256    NA     \n",
              "3 0.18        0.10    36.0     64       64        256    NA     \n",
              "4 0.18        0.10    36.0     64       64        256    NA     \n",
              "5 0.13        0.07    25.2     64       64       1024    NA     \n",
              "6 0.13        0.07    25.2     64       64       1024    NA     "
            ]
          },
          "metadata": {}
        }
      ],
      "source": [
        "int00.dat %>% head"
      ]
    },
    {
      "cell_type": "markdown",
      "metadata": {
        "id": "lipOaMb3Jc1P"
      },
      "source": [
        "What explains the weird patterns we're seeing in the data and residuals? Hint:"
      ]
    },
    {
      "cell_type": "code",
      "execution_count": null,
      "metadata": {
        "id": "zJY0zViuJc1P",
        "outputId": "a1a531f6-6301-4107-f653-894b504187a4",
        "colab": {
          "base_uri": "https://localhost:8080/",
          "height": 317
        }
      },
      "outputs": [
        {
          "output_type": "display_data",
          "data": {
            "text/plain": [
              "plot without title"
            ],
            "image/png": "[encoded data removed]"
          },
          "metadata": {
            "image/png": {
              "width": 480,
              "height": 300
            }
          }
        }
      ],
      "source": [
        "int00.dat %>% ggplot(aes(x = clock, y = perf, \n",
        "color = factor(cores))) + geom_point()"
      ]
    },
    {
      "cell_type": "markdown",
      "metadata": {
        "id": "Irp-eBrbJc1P"
      },
      "source": [
        "Next lecture we'll talk about multiple linear regression, which let's us take into account multiple predictors at a time."
      ]
    },
    {
      "cell_type": "markdown",
      "metadata": {
        "id": "ZrhYKgC0wJLN"
      },
      "source": [
        "## Regression example #2: Modeling the price of diamonds\n",
        "Next we will use linear regression to study the relationship between the price and weight of diamonds."
      ]
    },
    {
      "cell_type": "code",
      "execution_count": null,
      "metadata": {
        "colab": {
          "base_uri": "https://localhost:8080/"
        },
        "id": "nWxR0dkCwH-r",
        "outputId": "2268e6be-9c40-4047-f834-0c89f557401d"
      },
      "outputs": [
        {
          "output_type": "stream",
          "name": "stdout",
          "text": [
            "\u001b[90m# A tibble: 53,940 × 10\u001b[39m\n",
            "   carat cut       color clarity depth table price     x     y     z\n",
            "   \u001b[3m\u001b[90m<dbl>\u001b[39m\u001b[23m \u001b[3m\u001b[90m<ord>\u001b[39m\u001b[23m     \u001b[3m\u001b[90m<ord>\u001b[39m\u001b[23m \u001b[3m\u001b[90m<ord>\u001b[39m\u001b[23m   \u001b[3m\u001b[90m<dbl>\u001b[39m\u001b[23m \u001b[3m\u001b[90m<dbl>\u001b[39m\u001b[23m \u001b[3m\u001b[90m<int>\u001b[39m\u001b[23m \u001b[3m\u001b[90m<dbl>\u001b[39m\u001b[23m \u001b[3m\u001b[90m<dbl>\u001b[39m\u001b[23m \u001b[3m\u001b[90m<dbl>\u001b[39m\u001b[23m\n",
            "\u001b[90m 1\u001b[39m  0.23 Ideal     E     SI2      61.5    55   326  3.95  3.98  2.43\n",
            "\u001b[90m 2\u001b[39m  0.21 Premium   E     SI1      59.8    61   326  3.89  3.84  2.31\n",
            "\u001b[90m 3\u001b[39m  0.23 Good      E     VS1      56.9    65   327  4.05  4.07  2.31\n",
            "\u001b[90m 4\u001b[39m  0.29 Premium   I     VS2      62.4    58   334  4.2   4.23  2.63\n",
            "\u001b[90m 5\u001b[39m  0.31 Good      J     SI2      63.3    58   335  4.34  4.35  2.75\n",
            "\u001b[90m 6\u001b[39m  0.24 Very Good J     VVS2     62.8    57   336  3.94  3.96  2.48\n",
            "\u001b[90m 7\u001b[39m  0.24 Very Good I     VVS1     62.3    57   336  3.95  3.98  2.47\n",
            "\u001b[90m 8\u001b[39m  0.26 Very Good H     SI1      61.9    55   337  4.07  4.11  2.53\n",
            "\u001b[90m 9\u001b[39m  0.22 Fair      E     VS2      65.1    61   337  3.87  3.78  2.49\n",
            "\u001b[90m10\u001b[39m  0.23 Very Good H     VS1      59.4    61   338  4     4.05  2.39\n",
            "\u001b[90m# … with 53,930 more rows\u001b[39m\n"
          ]
        }
      ],
      "source": [
        "diamonds %>% print"
      ]
    },
    {
      "cell_type": "markdown",
      "metadata": {
        "id": "U1UQY2b-Jc1Q"
      },
      "source": [
        "Let's visualize the relationship between price and weight (`carat`) of diamonds:"
      ]
    },
    {
      "cell_type": "code",
      "source": [
        "install.packages(\"hexbin\")"
      ],
      "metadata": {
        "id": "DbUZawQebqEi",
        "outputId": "75fbe540-b1a1-4766-ab40-77fbaf050a90",
        "colab": {
          "base_uri": "https://localhost:8080/"
        }
      },
      "execution_count": null,
      "outputs": [
        {
          "output_type": "stream",
          "name": "stderr",
          "text": [
            "Installing package into ‘/usr/local/lib/R/site-library’\n",
            "(as ‘lib’ is unspecified)\n",
            "\n"
          ]
        }
      ]
    },
    {
      "cell_type": "code",
      "execution_count": null,
      "metadata": {
        "id": "xQva14g6Jc1Q",
        "outputId": "b41850b3-d631-4c91-aaa6-96a35164fe97",
        "colab": {
          "base_uri": "https://localhost:8080/",
          "height": 334
        }
      },
      "outputs": [
        {
          "output_type": "stream",
          "name": "stderr",
          "text": [
            "\u001b[1m\u001b[22m`geom_smooth()` using method = 'gam' and formula = 'y ~ s(x, bs = \"cs\")'\n"
          ]
        },
        {
          "output_type": "display_data",
          "data": {
            "text/plain": [
              "plot without title"
            ],
            "image/png": "[encoded data removed]"
          },
          "metadata": {
            "image/png": {
              "width": 480,
              "height": 300
            }
          }
        }
      ],
      "source": [
        "ggplot(diamonds, aes(x=carat, y=price)) + geom_hex() + geom_smooth()"
      ]
    },
    {
      "cell_type": "markdown",
      "metadata": {
        "id": "44HY9Uw5Jc1Q"
      },
      "source": [
        "The smoothing line suggests that relationship between price and carat is not necessarily linear. "
      ]
    },
    {
      "cell_type": "code",
      "execution_count": null,
      "metadata": {
        "id": "axX7xGewJc1Q",
        "outputId": "184e8a28-165e-4fe1-d223-09326c9f265c",
        "colab": {
          "base_uri": "https://localhost:8080/",
          "height": 329
        }
      },
      "outputs": [
        {
          "output_type": "display_data",
          "data": {
            "text/plain": [
              "\n",
              "Call:\n",
              "lm(formula = log(price) ~ log(carat), data = diamonds)\n",
              "\n",
              "Residuals:\n",
              "     Min       1Q   Median       3Q      Max \n",
              "-1.50833 -0.16951 -0.00591  0.16637  1.33793 \n",
              "\n",
              "Coefficients:\n",
              "            Estimate Std. Error t value Pr(>|t|)    \n",
              "(Intercept) 8.448661   0.001365  6190.9   <2e-16 ***\n",
              "log(carat)  1.675817   0.001934   866.6   <2e-16 ***\n",
              "---\n",
              "Signif. codes:  0 ‘***’ 0.001 ‘**’ 0.01 ‘*’ 0.05 ‘.’ 0.1 ‘ ’ 1\n",
              "\n",
              "Residual standard error: 0.2627 on 53938 degrees of freedom\n",
              "Multiple R-squared:  0.933,\tAdjusted R-squared:  0.933 \n",
              "F-statistic: 7.51e+05 on 1 and 53938 DF,  p-value: < 2.2e-16\n"
            ]
          },
          "metadata": {}
        }
      ],
      "source": [
        "dm.lm <- lm(log(price) ~ log(carat), data = diamonds)\n",
        "summary(dm.lm)"
      ]
    },
    {
      "cell_type": "code",
      "execution_count": null,
      "metadata": {
        "id": "3t3mgSB5Jc1R",
        "outputId": "8519265d-cafc-429d-a955-7b38bbcac401",
        "colab": {
          "base_uri": "https://localhost:8080/",
          "height": 334
        }
      },
      "outputs": [
        {
          "output_type": "stream",
          "name": "stderr",
          "text": [
            "\u001b[1m\u001b[22m`stat_bin()` using `bins = 30`. Pick better value with `binwidth`.\n"
          ]
        },
        {
          "output_type": "display_data",
          "data": {
            "text/plain": [
              "plot without title"
            ],
            "image/png": "[encoded data removed]"
          },
          "metadata": {
            "image/png": {
              "width": 480,
              "height": 300
            }
          }
        }
      ],
      "source": [
        "diamonds %>% add_residuals(dm.lm) %>% ggplot + \n",
        "  geom_histogram(aes(x=resid))"
      ]
    },
    {
      "cell_type": "markdown",
      "metadata": {
        "id": "QtjvP0VvJc1R"
      },
      "source": [
        "Sometimes, a linear relationship emerges if we first transform the data in a certain way. Let's see what happens if we consider $\\log(\\text{price})$ vs. $\\log(\\text{carat})$."
      ]
    },
    {
      "cell_type": "markdown",
      "metadata": {
        "id": "J-WavuhWJc1R"
      },
      "source": [
        "## 🤔 Quiz\n",
        "\n",
        "According to the model `lm(log(price) ~ log(carat), data = diamonds)`, what is the predicted _price_ (not log(price)) of a 1-carat diamond?\n",
        "\n",
        "\n",
        "<ol style=\"list-style-type: upper-alpha;\">\n",
        "    <li>$8.45</li>\n",
        "    <li>$10.12</li>\n",
        "    <li>$4,668.82</li>\n",
        "    <li>$24,946.22</li>\n",
        "</ol>"
      ]
    },
    {
      "cell_type": "code",
      "execution_count": 92,
      "metadata": {
        "id": "_gucxiskJc1R",
        "outputId": "5a230be2-89e4-4e65-bb0e-bc01ed9d35ab",
        "colab": {
          "base_uri": "https://localhost:8080/"
        }
      },
      "outputs": [
        {
          "output_type": "stream",
          "name": "stdout",
          "text": [
            "[1] 4668.817\n"
          ]
        }
      ],
      "source": [
        "# price of diamond\n",
        "\n",
        "a0 = 8.448661 \n",
        "a1 = 1.675817\n",
        "\n",
        "log_price = a0 + a1 * log(1)\n",
        "price = exp(log_price)\n",
        "print(price)"
      ]
    },
    {
      "cell_type": "markdown",
      "metadata": {
        "id": "0dC-43GfJc1R"
      },
      "source": [
        "## Regression example #3: Forecasting population growth\n",
        "\n",
        "Next let's use regression to study human population growth. We have already seen the `population` table earlier in the semester, which contains historical population information for many countries:\n"
      ]
    },
    {
      "cell_type": "code",
      "execution_count": null,
      "metadata": {
        "id": "50pzNXSjJc1R"
      },
      "outputs": [],
      "source": [
        "population %>% head"
      ]
    },
    {
      "cell_type": "markdown",
      "metadata": {
        "id": "d7_mCR35Jc1S"
      },
      "source": [
        "We'll use the following table which is the same data source but more complete:"
      ]
    },
    {
      "cell_type": "code",
      "execution_count": null,
      "metadata": {
        "id": "IZm9trDFJc1S"
      },
      "outputs": [],
      "source": [
        "pop <- read_csv(\"https://datasets.stats306.org/population-and-demography.csv.gz\")\n"
      ]
    },
    {
      "cell_type": "markdown",
      "metadata": {
        "id": "IwTiYkbhJc1S"
      },
      "source": [
        "In the absence of any resource constraints, ecological theory predicts that a population will grow *exponentially*: if every individual has (say) 2 children, then the population doubles in size at each generation. However, in real life, the environment has a certain *carrying capacity* which limits the a population's ability to grow. "
      ]
    },
    {
      "cell_type": "code",
      "execution_count": null,
      "metadata": {
        "id": "DuaTZDbnJc1S"
      },
      "outputs": [],
      "source": [
        "logistic_growth <- function(t, growth_rate, carrying_cap, initial_size = 1, t0 = 0) {\n",
        "    carrying_cap / (\n",
        "        1 + (carrying_cap - initial_size) / initial_size * exp(-growth_rate * (t - t0))\n",
        "    )\n",
        "}"
      ]
    },
    {
      "cell_type": "code",
      "execution_count": null,
      "metadata": {
        "id": "rTQXYJDmJc1S"
      },
      "outputs": [],
      "source": [
        "ggplot() + geom_function(fun = exp, colour = \"black\") +\n",
        "    geom_function(fun = \\(x) logistic_growth(x, 1, 20000), color = \"red\") + \n",
        "    xlim(c(0, 20)) + ylim(c(0, 3e4))"
      ]
    },
    {
      "cell_type": "markdown",
      "metadata": {
        "id": "NTUeRMcoJc1S"
      },
      "source": [
        "Let's use the logistic growth model to study the population growth of India. "
      ]
    },
    {
      "cell_type": "code",
      "execution_count": null,
      "metadata": {
        "id": "Kl4bdW9pJc1T"
      },
      "outputs": [],
      "source": [
        "pop.ind <- filter(pop, `Country name` == \"India\")\n",
        "pop.ind %>% ggplot(aes(x=Year, y=Population)) + geom_line()"
      ]
    },
    {
      "cell_type": "markdown",
      "metadata": {
        "id": "zdkf3X5VJc1T"
      },
      "source": [
        "We will let $P(t)$ be the population of India in year $t$. (We observe this.) Mathematically, the logistic growth model satisfies a *differential equation*:\n",
        "$$\\frac{dP/dt}{P} = r \\left(1 - \\frac{P}{K}\\right)$$\n",
        "If we somehow knew how to calculate the left-hand side of this equation, then this would be a linear regression!\n",
        "$$\\underbrace{Y_t}_{?} = \\underbrace{r}_{a_0} - \\underbrace{(r/K)}_{a_1} P_t$$\n"
      ]
    },
    {
      "cell_type": "markdown",
      "metadata": {
        "id": "UaMEOIJjJc1T"
      },
      "source": [
        "The only missing piece of information is the derivative, $dP/dt$. A reasonable estimator is the change in population for each year:"
      ]
    },
    {
      "cell_type": "code",
      "execution_count": null,
      "metadata": {
        "id": "vO_QU4bGJc1T"
      },
      "outputs": [],
      "source": [
        "pop.ind %>% mutate(dP_dt = Population - lag(Population)) %>% ggplot(aes(x=Year, y=dP_dt)) + geom_line()"
      ]
    },
    {
      "cell_type": "code",
      "execution_count": null,
      "metadata": {
        "id": "MSPO6dF9Jc1T"
      },
      "outputs": [],
      "source": [
        "mdl <- pop.ind %>% mutate(dP_dt = Population - lag(Population)) %>% \n",
        "    lm(dP_dt / Population ~ Population, .)\n",
        "summary(mdl)"
      ]
    },
    {
      "cell_type": "markdown",
      "metadata": {
        "id": "MRHeqVF_Jc1T"
      },
      "source": [
        "From the formula above, we know that the intercept is the estimate of the growth rate $r$, and the slope is the ratio of the estimated growth rate to the carrying capacity:"
      ]
    },
    {
      "cell_type": "code",
      "execution_count": null,
      "metadata": {
        "id": "07yY0F2bJc1T"
      },
      "outputs": [],
      "source": [
        "r = coefficients(mdl)[1]\n",
        "K = -r / coefficients(mdl)[2]\n",
        "c(r, K)"
      ]
    },
    {
      "cell_type": "markdown",
      "metadata": {
        "id": "I85KtVYEJc1T"
      },
      "source": [
        "Now let's compare the fitted growth curve with the observed data:"
      ]
    },
    {
      "cell_type": "code",
      "execution_count": null,
      "metadata": {
        "id": "ZFESrEG5Jc1U"
      },
      "outputs": [],
      "source": [
        "P0 <- pop.ind %>% head(1) %>% pull(Population)\n",
        "t0 <- pop.ind %>% head(1) %>% pull(Year)"
      ]
    },
    {
      "cell_type": "code",
      "execution_count": null,
      "metadata": {
        "id": "olHSTdc9Jc1U"
      },
      "outputs": [],
      "source": [
        "pop.ind %>% \n",
        "    mutate(pred_pop = logistic_growth(carrying_cap = K, growth_rate = r, t = Year, \n",
        "                                      t0 = t0, initial_size = P0)) %>% \n",
        "    ggplot(aes(x = Year)) +  geom_line(aes(y = Population)) + \n",
        "    geom_line(aes(y = pred_pop), color = \"red\")"
      ]
    },
    {
      "cell_type": "markdown",
      "metadata": {
        "id": "qSECriZ3Jc1U"
      },
      "source": [
        "We can use this model to forecast the population of India into the future:"
      ]
    },
    {
      "cell_type": "markdown",
      "metadata": {
        "id": "Euy-5qKDJc1W"
      },
      "source": [
        "## 🤔 Quiz\n",
        "\n",
        "According to this model, what is the predicted population of India in 2050?\n",
        "\n",
        "<ol style=\"list-style-type: upper-alpha;\">\n",
        "    <li>1.3-1.4 billion</li>\n",
        "    <li>1.4-1.5 billion</li>\n",
        "    <li>1.5-1.6 billion</li>\n",
        "    <li>1.6-1.7 billion</li>\n",
        "    <li>1.7-1.8 billion</li>\n",
        "</ol>"
      ]
    },
    {
      "cell_type": "code",
      "execution_count": null,
      "metadata": {
        "id": "pDSHaXuxJc1W"
      },
      "outputs": [],
      "source": [
        "# forecasting"
      ]
    }
  ],
  "metadata": {
    "celltoolbar": "Slideshow",
    "colab": {
      "provenance": []
    },
    "kernelspec": {
      "display_name": "R",
      "language": "R",
      "name": "ir"
    },
    "language_info": {
      "codemirror_mode": "r",
      "file_extension": ".r",
      "mimetype": "text/x-r-source",
      "name": "R",
      "pygments_lexer": "r",
      "version": "4.2.1"
    }
  },
  "nbformat": 4,
  "nbformat_minor": 0
}