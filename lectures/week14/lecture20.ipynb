{
  "cells": [
    {
      "cell_type": "code",
      "source": [
        "library(modelr)\n",
        "library(tidyverse)"
      ],
      "metadata": {
        "id": "t5kLJIeHbtW4",
        "outputId": "32ff027f-01f4-43b7-fcfe-c0db3d6eb7fe",
        "colab": {
          "base_uri": "https://localhost:8080/"
        }
      },
      "execution_count": 1,
      "outputs": [
        {
          "output_type": "stream",
          "name": "stderr",
          "text": [
            "Warning message in system(\"timedatectl\", intern = TRUE):\n",
            "“running command 'timedatectl' had status 1”\n",
            "── \u001b[1mAttaching packages\u001b[22m ─────────────────────────────────────── tidyverse 1.3.1 ──\n",
            "\n",
            "\u001b[32m✔\u001b[39m \u001b[34mggplot2\u001b[39m 3.4.1     \u001b[32m✔\u001b[39m \u001b[34mpurrr  \u001b[39m 1.0.1\n",
            "\u001b[32m✔\u001b[39m \u001b[34mtibble \u001b[39m 3.2.1     \u001b[32m✔\u001b[39m \u001b[34mdplyr  \u001b[39m 1.1.1\n",
            "\u001b[32m✔\u001b[39m \u001b[34mtidyr  \u001b[39m 1.3.0     \u001b[32m✔\u001b[39m \u001b[34mstringr\u001b[39m 1.4.1\n",
            "\u001b[32m✔\u001b[39m \u001b[34mreadr  \u001b[39m 2.1.4     \u001b[32m✔\u001b[39m \u001b[34mforcats\u001b[39m 1.0.0\n",
            "\n",
            "── \u001b[1mConflicts\u001b[22m ────────────────────────────────────────── tidyverse_conflicts() ──\n",
            "\u001b[31m✖\u001b[39m \u001b[34mdplyr\u001b[39m::\u001b[32mfilter()\u001b[39m masks \u001b[34mstats\u001b[39m::filter()\n",
            "\u001b[31m✖\u001b[39m \u001b[34mdplyr\u001b[39m::\u001b[32mlag()\u001b[39m    masks \u001b[34mstats\u001b[39m::lag()\n",
            "\n"
          ]
        }
      ]
    },
    {
      "cell_type": "markdown",
      "metadata": {
        "id": "v56MiyjDZQhC"
      },
      "source": [
        "# Lecture 20: Classification and logistic regression\n",
        "\n",
        "<div style=\"border: 1px double black; padding: 10px; margin: 10px\">\n",
        "\n",
        "**After today's lecture you will understand:**\n",
        "* Fitting logistic regression models in R using `glm()`.\n",
        "* Use the fitted model to predict outcome for new dataset.\n",
        "* Ways to measure the accuracy of a binary classifier.\n",
        "</div>\n",
        "\n"
      ]
    },
    {
      "cell_type": "markdown",
      "metadata": {
        "id": "uYTcj-gGZQhD"
      },
      "source": [
        "## Modeling with categorical outcomes\n",
        "Last lecture we learned all about regression. In regression, we have a continuous outcome (height, population growth, etc.), and some predictors which could be either categorical or continuous. We built a function that predicts the mean of the outcome given the predictors, e.g.\n",
        "\n",
        "$$\n",
        "\\mathbb{E}(y \\mid x) = a_0 + a_1 x.\n",
        "$$"
      ]
    },
    {
      "cell_type": "markdown",
      "metadata": {
        "id": "oW6g2hWWZQhE"
      },
      "source": [
        "For example, we fit the following model:"
      ]
    },
    {
      "cell_type": "code",
      "execution_count": 2,
      "metadata": {
        "id": "p949WWsvZQhF",
        "outputId": "c37bc8f3-d81c-4d11-be48-51da82b10bb2",
        "colab": {
          "base_uri": "https://localhost:8080/",
          "height": 329
        }
      },
      "outputs": [
        {
          "output_type": "display_data",
          "data": {
            "text/plain": [
              "\n",
              "Call:\n",
              "lm(formula = price ~ carat, data = diamonds)\n",
              "\n",
              "Residuals:\n",
              "     Min       1Q   Median       3Q      Max \n",
              "-18585.3   -804.8    -18.9    537.4  12731.7 \n",
              "\n",
              "Coefficients:\n",
              "            Estimate Std. Error t value Pr(>|t|)    \n",
              "(Intercept) -2256.36      13.06  -172.8   <2e-16 ***\n",
              "carat        7756.43      14.07   551.4   <2e-16 ***\n",
              "---\n",
              "Signif. codes:  0 ‘***’ 0.001 ‘**’ 0.01 ‘*’ 0.05 ‘.’ 0.1 ‘ ’ 1\n",
              "\n",
              "Residual standard error: 1549 on 53938 degrees of freedom\n",
              "Multiple R-squared:  0.8493,\tAdjusted R-squared:  0.8493 \n",
              "F-statistic: 3.041e+05 on 1 and 53938 DF,  p-value: < 2.2e-16\n"
            ]
          },
          "metadata": {}
        }
      ],
      "source": [
        "lm(price ~ carat, diamonds) %>% summary"
      ]
    },
    {
      "cell_type": "markdown",
      "metadata": {
        "id": "e5Xykue7ZQhG"
      },
      "source": [
        "This says that the average value of `log(price)` given `log(carat)` is \n",
        "\n",
        "$$8.449 + 1.676 \\cdot \\log(\\text{carat})\\quad\\text{(avg. value of log(price))}$$"
      ]
    },
    {
      "cell_type": "markdown",
      "metadata": {
        "id": "O2JYjfmDZQhG"
      },
      "source": [
        "In today's lecture, we are going to look at a different kind of regression model, with the main difference being that our outcome is no longer a continuous variable like price or log(price). Instead, the outcome is a True/False variable which indicates whether or not some event happened."
      ]
    },
    {
      "cell_type": "markdown",
      "metadata": {
        "id": "_lfrhwcTZQhH"
      },
      "source": [
        "## Deaths on the *RMS Titanic*\n",
        "The [RMS Titanic](https://en.wikipedia.org/wiki/Titanic) famously sank on April 15, 1912 during its maiden voyage, killing about 2/3rds of its passengers. The `titanic` data set records the fates of everyone aboard."
      ]
    },
    {
      "cell_type": "code",
      "execution_count": 3,
      "metadata": {
        "id": "YXqHqr4KZQhH",
        "outputId": "d8f8c4f2-d288-4030-c41c-ed8a30cdcd6f",
        "colab": {
          "base_uri": "https://localhost:8080/"
        }
      },
      "outputs": [
        {
          "output_type": "stream",
          "name": "stdout",
          "text": [
            "\u001b[90m# A tibble: 2,201 × 4\u001b[39m\n",
            "   Class Sex   Age   Survived\n",
            "   \u001b[3m\u001b[90m<chr>\u001b[39m\u001b[23m \u001b[3m\u001b[90m<chr>\u001b[39m\u001b[23m \u001b[3m\u001b[90m<chr>\u001b[39m\u001b[23m \u001b[3m\u001b[90m<lgl>\u001b[39m\u001b[23m   \n",
            "\u001b[90m 1\u001b[39m 3rd   Male  Child FALSE   \n",
            "\u001b[90m 2\u001b[39m 3rd   Male  Child FALSE   \n",
            "\u001b[90m 3\u001b[39m 3rd   Male  Child FALSE   \n",
            "\u001b[90m 4\u001b[39m 3rd   Male  Child FALSE   \n",
            "\u001b[90m 5\u001b[39m 3rd   Male  Child FALSE   \n",
            "\u001b[90m 6\u001b[39m 3rd   Male  Child FALSE   \n",
            "\u001b[90m 7\u001b[39m 3rd   Male  Child FALSE   \n",
            "\u001b[90m 8\u001b[39m 3rd   Male  Child FALSE   \n",
            "\u001b[90m 9\u001b[39m 3rd   Male  Child FALSE   \n",
            "\u001b[90m10\u001b[39m 3rd   Male  Child FALSE   \n",
            "\u001b[90m# ℹ 2,191 more rows\u001b[39m\n"
          ]
        }
      ],
      "source": [
        "data(Titanic)\n",
        "titanic_df <- Titanic %>% as_tibble %>% mutate(Survived = Survived == \"Yes\") \n",
        "titanic_df <- titanic_df[rep(row.names(titanic_df), titanic_df$n), -5]\n",
        "titanic_df %>% print"
      ]
    },
    {
      "cell_type": "code",
      "execution_count": 4,
      "metadata": {
        "id": "xiw9BKQYZQhI",
        "outputId": "120ab958-9e15-4bd7-a37d-6e7e0459ff09",
        "colab": {
          "base_uri": "https://localhost:8080/",
          "height": 437
        }
      },
      "outputs": [
        {
          "output_type": "display_data",
          "data": {
            "text/plain": [
              "plot without title"
            ],
            "image/png": "[encoded data removed]"
          },
          "metadata": {
            "image/png": {
              "width": 420,
              "height": 420
            }
          }
        }
      ],
      "source": [
        "ggplot(titanic_df) + geom_bar(aes(x=interaction(Class, Sex, Age), fill=Survived), \n",
        "                              position='dodge') + coord_flip()"
      ]
    },
    {
      "cell_type": "markdown",
      "metadata": {
        "id": "GIiHz3cBZQhI"
      },
      "source": [
        "We have three categorical predictors: sex, age (adult / child), and class (1st-3rd or crew). Our outcome is also categorical: survived or not."
      ]
    },
    {
      "cell_type": "markdown",
      "metadata": {
        "id": "_6lRfljTZQhJ"
      },
      "source": [
        "## Logistic regression\n",
        "Suppose we want to build a regression model for predicting categorical outcomes.\n",
        "In all of the regressions we have seen so far, the dependent ($y$) variable has been continuous: population growth, life expectancy, price, etc. However, there are many situations where the outcome is categorical. For simplicity, we will assume it's binary, and can be coded as 0/1. How should we model binary data?"
      ]
    },
    {
      "cell_type": "markdown",
      "metadata": {
        "id": "oqUowqFdZQhJ"
      },
      "source": [
        "One idea is to just stick what we know and use the linear model. Will this work?"
      ]
    },
    {
      "cell_type": "code",
      "execution_count": 5,
      "metadata": {
        "id": "xk0ChCFTZQhJ",
        "outputId": "b3e8e3ae-33c7-4875-8aaa-e81ce4a7ae47",
        "colab": {
          "base_uri": "https://localhost:8080/",
          "height": 399
        }
      },
      "outputs": [
        {
          "output_type": "display_data",
          "data": {
            "text/plain": [
              "\n",
              "Call:\n",
              "lm(formula = Survived ~ Class + Sex + Age, data = titanic_df)\n",
              "\n",
              "Residuals:\n",
              "    Min      1Q  Median      3Q     Max \n",
              "-0.8930 -0.2268 -0.2163  0.2324  0.9044 \n",
              "\n",
              "Coefficients:\n",
              "            Estimate Std. Error t value Pr(>|t|)    \n",
              "(Intercept)  0.89303    0.02585  34.546  < 2e-16 ***\n",
              "Class2nd    -0.18608    0.03301  -5.637 1.95e-08 ***\n",
              "Class3rd    -0.30673    0.02771 -11.070  < 2e-16 ***\n",
              "ClassCrew   -0.17555    0.02797  -6.277 4.15e-10 ***\n",
              "SexMale     -0.49068    0.02301 -21.329  < 2e-16 ***\n",
              "AgeChild     0.18130    0.04097   4.425 1.01e-05 ***\n",
              "---\n",
              "Signif. codes:  0 ‘***’ 0.001 ‘**’ 0.01 ‘*’ 0.05 ‘.’ 0.1 ‘ ’ 1\n",
              "\n",
              "Residual standard error: 0.4047 on 2195 degrees of freedom\n",
              "Multiple R-squared:  0.2529,\tAdjusted R-squared:  0.2512 \n",
              "F-statistic: 148.6 on 5 and 2195 DF,  p-value: < 2.2e-16\n"
            ]
          },
          "metadata": {}
        }
      ],
      "source": [
        "mdl <- lm(Survived ~ Class + Sex + Age, data = titanic_df)\n",
        "summary(mdl)"
      ]
    },
    {
      "cell_type": "markdown",
      "metadata": {
        "id": "j6NODDjgZQhK"
      },
      "source": [
        "R did not generate any errors. But the regression looks \"weird\" in many ways:\n",
        "- The $R$-squared low.\n",
        "- The residual standard error is large relative to the outcome (which is always either zero or one).\n",
        "- The residuals look weird:"
      ]
    },
    {
      "cell_type": "code",
      "execution_count": 6,
      "metadata": {
        "id": "vT216kGKZQhK",
        "outputId": "8691b3ee-80e8-41b9-aa7c-4814bd7db0aa",
        "colab": {
          "base_uri": "https://localhost:8080/",
          "height": 437
        }
      },
      "outputs": [
        {
          "output_type": "display_data",
          "data": {
            "text/plain": [
              "plot without title"
            ],
            "image/png": "[encoded data removed]"
          },
          "metadata": {
            "image/png": {
              "width": 420,
              "height": 420
            }
          }
        }
      ],
      "source": [
        "titanic_df %>% add_residuals(mdl) %>% mutate(resid=as.numeric(resid)) %>% \n",
        "    ggplot + geom_histogram(aes(x=resid), binwidth=.1)"
      ]
    },
    {
      "cell_type": "markdown",
      "metadata": {
        "id": "qcbyPsNXZQhK"
      },
      "source": [
        "What about predictions? The predicted outcomes are decimal numbers, whereas in the original model, the outcome was `TRUE` or `FALSE`."
      ]
    },
    {
      "cell_type": "code",
      "execution_count": 7,
      "metadata": {
        "id": "5q-fkjt4ZQhK",
        "outputId": "11a04882-e9ad-4134-b40d-8e3cc849be01",
        "colab": {
          "base_uri": "https://localhost:8080/",
          "height": 286
        }
      },
      "outputs": [
        {
          "output_type": "display_data",
          "data": {
            "text/html": [
              "<table class=\"dataframe\">\n",
              "<caption>A tibble: 6 × 5</caption>\n",
              "<thead>\n",
              "\t<tr><th scope=col>Class</th><th scope=col>Sex</th><th scope=col>Age</th><th scope=col>Survived</th><th scope=col>pred</th></tr>\n",
              "\t<tr><th scope=col>&lt;chr&gt;</th><th scope=col>&lt;chr&gt;</th><th scope=col>&lt;chr&gt;</th><th scope=col>&lt;lgl&gt;</th><th scope=col>&lt;dbl&gt;</th></tr>\n",
              "</thead>\n",
              "<tbody>\n",
              "\t<tr><td>3rd </td><td>Male  </td><td>Child</td><td>FALSE</td><td>0.2769110</td></tr>\n",
              "\t<tr><td>3rd </td><td>Female</td><td>Child</td><td>FALSE</td><td>0.7675908</td></tr>\n",
              "\t<tr><td>1st </td><td>Male  </td><td>Adult</td><td>FALSE</td><td>0.4023497</td></tr>\n",
              "\t<tr><td>2nd </td><td>Male  </td><td>Adult</td><td>FALSE</td><td>0.2162696</td></tr>\n",
              "\t<tr><td>3rd </td><td>Male  </td><td>Adult</td><td>FALSE</td><td>0.0956153</td></tr>\n",
              "\t<tr><td>Crew</td><td>Male  </td><td>Adult</td><td>FALSE</td><td>0.2267959</td></tr>\n",
              "</tbody>\n",
              "</table>\n"
            ],
            "text/markdown": "\nA tibble: 6 × 5\n\n| Class &lt;chr&gt; | Sex &lt;chr&gt; | Age &lt;chr&gt; | Survived &lt;lgl&gt; | pred &lt;dbl&gt; |\n|---|---|---|---|---|\n| 3rd  | Male   | Child | FALSE | 0.2769110 |\n| 3rd  | Female | Child | FALSE | 0.7675908 |\n| 1st  | Male   | Adult | FALSE | 0.4023497 |\n| 2nd  | Male   | Adult | FALSE | 0.2162696 |\n| 3rd  | Male   | Adult | FALSE | 0.0956153 |\n| Crew | Male   | Adult | FALSE | 0.2267959 |\n\n",
            "text/latex": "A tibble: 6 × 5\n\\begin{tabular}{lllll}\n Class & Sex & Age & Survived & pred\\\\\n <chr> & <chr> & <chr> & <lgl> & <dbl>\\\\\n\\hline\n\t 3rd  & Male   & Child & FALSE & 0.2769110\\\\\n\t 3rd  & Female & Child & FALSE & 0.7675908\\\\\n\t 1st  & Male   & Adult & FALSE & 0.4023497\\\\\n\t 2nd  & Male   & Adult & FALSE & 0.2162696\\\\\n\t 3rd  & Male   & Adult & FALSE & 0.0956153\\\\\n\t Crew & Male   & Adult & FALSE & 0.2267959\\\\\n\\end{tabular}\n",
            "text/plain": [
              "  Class Sex    Age   Survived pred     \n",
              "1 3rd   Male   Child FALSE    0.2769110\n",
              "2 3rd   Female Child FALSE    0.7675908\n",
              "3 1st   Male   Adult FALSE    0.4023497\n",
              "4 2nd   Male   Adult FALSE    0.2162696\n",
              "5 3rd   Male   Adult FALSE    0.0956153\n",
              "6 Crew  Male   Adult FALSE    0.2267959"
            ]
          },
          "metadata": {}
        }
      ],
      "source": [
        "titanic_df %>% add_predictions(mdl) %>% distinct %>% head"
      ]
    },
    {
      "cell_type": "markdown",
      "metadata": {
        "id": "K6rl6QEsZQhL"
      },
      "source": [
        "The linear model says:\n",
        "\n",
        "$$y = f(a + b x)$$ \n",
        "\n",
        "for $f(x)=x$. For 0/1 outcomes, let's instead try to think probabilistically:\n",
        "\n",
        "$$\\text{Prob}(y=1) = \\underbrace{f(a + b x)}_{(\\text{some function of the covariates})}$$"
      ]
    },
    {
      "cell_type": "markdown",
      "metadata": {
        "id": "Aw7zVlyOZQhL"
      },
      "source": [
        "What criteria should this function $f$ have?\n",
        "- It's range needs to be $[0,1]$.\n",
        "- For \"extreme\" values of $a + bx$ it should tend to zero or one.\n",
        "\n",
        "A function which satisfies both the properties is the **logistic function**:\n",
        "$$f(x) = \\frac{1}{1 + e^{-x}}.$$"
      ]
    },
    {
      "cell_type": "code",
      "execution_count": 8,
      "metadata": {
        "id": "lusTt0ywZQhM",
        "outputId": "9398738c-51bd-400d-f2b2-23c3af91c21b",
        "colab": {
          "base_uri": "https://localhost:8080/",
          "height": 437
        }
      },
      "outputs": [
        {
          "output_type": "display_data",
          "data": {
            "text/plain": [
              "plot without title"
            ],
            "image/png": "[encoded data removed]"
          },
          "metadata": {
            "image/png": {
              "width": 420,
              "height": 420
            }
          }
        }
      ],
      "source": [
        "expand.grid(x=seq(-5, 5, .1)) %>% ggplot(aes(x=x)) + \n",
        "    stat_function(fun=function(x) (1 / (1 + exp(-x))), xlim=c(-5, 5), color=\"blue\") +\n",
        "    stat_function(fun=function(x) 1/2 + x/5, xlim=c(-5, 5), color=\"red\") +\n",
        "    annotate(x=3.5, y=1.5, geom=\"text\", label=\"linear model\", color=\"red\") +\n",
        "    annotate(x=4.0, y=.85, geom=\"text\", label=\"logistic model\", color=\"blue\") + \n",
        "    ylab(\"predicted probability\")"
      ]
    },
    {
      "cell_type": "markdown",
      "metadata": {
        "id": "ax-a7JyqZQhM"
      },
      "source": [
        "To fit this model in R, we use a similar command as for linear regression: `glm()`. (The \"g\" stands for **g**eneralized linear model.) We'll start as we did with linear regression, using a single predictor:"
      ]
    },
    {
      "cell_type": "code",
      "execution_count": 9,
      "metadata": {
        "id": "xn-GKkm0ZQhM",
        "outputId": "de30b76f-7fbc-4054-e8dd-927fd6817b9e",
        "colab": {
          "base_uri": "https://localhost:8080/",
          "height": 191
        }
      },
      "outputs": [
        {
          "output_type": "display_data",
          "data": {
            "text/plain": [
              "\n",
              "Call:  glm(formula = Survived ~ Sex, family = \"binomial\", data = titanic_df)\n",
              "\n",
              "Coefficients:\n",
              "(Intercept)      SexMale  \n",
              "      1.004       -2.317  \n",
              "\n",
              "Degrees of Freedom: 2200 Total (i.e. Null);  2199 Residual\n",
              "Null Deviance:\t    2769 \n",
              "Residual Deviance: 2335 \tAIC: 2339"
            ]
          },
          "metadata": {}
        }
      ],
      "source": [
        "mdl <- glm(Survived ~ Sex, data = titanic_df, family = \"binomial\")\n",
        "#                                             ^^^^^^ important\n",
        "mdl"
      ]
    },
    {
      "cell_type": "markdown",
      "metadata": {
        "id": "wPokV2GOZQhN"
      },
      "source": [
        "Although these results look similar to linear regression, their interpretation is quite different. Specifically, they are interpreted in terms of their effect on the *log-odds ratio*."
      ]
    },
    {
      "cell_type": "markdown",
      "metadata": {
        "id": "6QTrc64YZQhN"
      },
      "source": [
        " The model we estimated above is \n",
        " \n",
        " $$\\log \\left( \\frac{p}{1-p} \\right) = a_0 + a_1 \\cdot \\{\\text{Male}\\}$$\n",
        "\n",
        "where $p$ is now the probability that a passenger survived"
      ]
    },
    {
      "cell_type": "markdown",
      "metadata": {
        "id": "rOl_fFdNZQhN"
      },
      "source": [
        "Let's confirm this by calculating the percentage of male passengers that survived:"
      ]
    },
    {
      "cell_type": "code",
      "execution_count": 10,
      "metadata": {
        "id": "zh1WBkgAZQhO",
        "outputId": "f0a9eaf8-ef7a-4481-c0e9-383c6996c753",
        "colab": {
          "base_uri": "https://localhost:8080/",
          "height": 223
        }
      },
      "outputs": [
        {
          "output_type": "display_data",
          "data": {
            "text/html": [
              "<table class=\"dataframe\">\n",
              "<caption>A tibble: 4 × 3</caption>\n",
              "<thead>\n",
              "\t<tr><th scope=col>Sex</th><th scope=col>Survived</th><th scope=col>n</th></tr>\n",
              "\t<tr><th scope=col>&lt;chr&gt;</th><th scope=col>&lt;lgl&gt;</th><th scope=col>&lt;int&gt;</th></tr>\n",
              "</thead>\n",
              "<tbody>\n",
              "\t<tr><td>Female</td><td>FALSE</td><td> 126</td></tr>\n",
              "\t<tr><td>Female</td><td> TRUE</td><td> 344</td></tr>\n",
              "\t<tr><td>Male  </td><td>FALSE</td><td>1364</td></tr>\n",
              "\t<tr><td>Male  </td><td> TRUE</td><td> 367</td></tr>\n",
              "</tbody>\n",
              "</table>\n"
            ],
            "text/markdown": "\nA tibble: 4 × 3\n\n| Sex &lt;chr&gt; | Survived &lt;lgl&gt; | n &lt;int&gt; |\n|---|---|---|\n| Female | FALSE |  126 |\n| Female |  TRUE |  344 |\n| Male   | FALSE | 1364 |\n| Male   |  TRUE |  367 |\n\n",
            "text/latex": "A tibble: 4 × 3\n\\begin{tabular}{lll}\n Sex & Survived & n\\\\\n <chr> & <lgl> & <int>\\\\\n\\hline\n\t Female & FALSE &  126\\\\\n\t Female &  TRUE &  344\\\\\n\t Male   & FALSE & 1364\\\\\n\t Male   &  TRUE &  367\\\\\n\\end{tabular}\n",
            "text/plain": [
              "  Sex    Survived n   \n",
              "1 Female FALSE     126\n",
              "2 Female  TRUE     344\n",
              "3 Male   FALSE    1364\n",
              "4 Male    TRUE     367"
            ]
          },
          "metadata": {}
        }
      ],
      "source": [
        "titanic_df %>% count(Sex, Survived)"
      ]
    },
    {
      "cell_type": "code",
      "source": [
        "367 / (1364 + 367)\n",
        "\n",
        "344 / (126 + 344)"
      ],
      "metadata": {
        "id": "O5TGuE9PeWQr",
        "outputId": "972059cb-ed4a-4146-e69e-c4856219e428",
        "colab": {
          "base_uri": "https://localhost:8080/",
          "height": 52
        }
      },
      "execution_count": 11,
      "outputs": [
        {
          "output_type": "display_data",
          "data": {
            "text/html": [
              "0.212016175621028"
            ],
            "text/markdown": "0.212016175621028",
            "text/latex": "0.212016175621028",
            "text/plain": [
              "[1] 0.2120162"
            ]
          },
          "metadata": {}
        },
        {
          "output_type": "display_data",
          "data": {
            "text/html": [
              "0.731914893617021"
            ],
            "text/markdown": "0.731914893617021",
            "text/latex": "0.731914893617021",
            "text/plain": [
              "[1] 0.7319149"
            ]
          },
          "metadata": {}
        }
      ]
    },
    {
      "cell_type": "markdown",
      "metadata": {
        "id": "1O9vY51JZQhU"
      },
      "source": [
        "### The logistic function\n",
        "The logistic function is $\\sigma(x) = 1 / (1 + e^{-x})$. It is the inverse of the log-odds function:\n",
        "\n",
        "$$\\sigma \\left( \\log \\frac{p}{1-p} \\right) = p.$$\n",
        "\n",
        "So, to calculate predicted probabilities from the log-odds, we apply the $\\sigma(x)$ function to the predicted log-odds:"
      ]
    },
    {
      "cell_type": "code",
      "execution_count": 12,
      "metadata": {
        "scrolled": true,
        "id": "qJwgGWB-ZQhU",
        "outputId": "44dfe202-49f3-40f5-8f70-847c4771136d",
        "colab": {
          "base_uri": "https://localhost:8080/",
          "height": 34
        }
      },
      "outputs": [
        {
          "output_type": "display_data",
          "data": {
            "text/html": [
              "<style>\n",
              ".dl-inline {width: auto; margin:0; padding: 0}\n",
              ".dl-inline>dt, .dl-inline>dd {float: none; width: auto; display: inline-block}\n",
              ".dl-inline>dt::after {content: \":\\0020\"; padding-right: .5ex}\n",
              ".dl-inline>dt:not(:first-of-type) {padding-left: .5ex}\n",
              "</style><dl class=dl-inline><dt>(Intercept)</dt><dd>0.731914893616478</dd><dt>2</dt><dd>0.212016175621147</dd></dl>\n"
            ],
            "text/markdown": "(Intercept)\n:   0.7319148936164782\n:   0.212016175621147\n\n",
            "text/latex": "\\begin{description*}\n\\item[(Intercept)] 0.731914893616478\n\\item[2] 0.212016175621147\n\\end{description*}\n",
            "text/plain": [
              "(Intercept)             \n",
              "  0.7319149   0.2120162 "
            ]
          },
          "metadata": {}
        }
      ],
      "source": [
        "sigma <- function(x) 1 / (1 + exp(-x))\n",
        "log.odds.female <- coef(mdl)[1]\n",
        "\n",
        "log.odds.male <- sum(coef(mdl))\n",
        "\n",
        "p.female <- sigma(log.odds.female)\n",
        "\n",
        "p.male <- sigma(log.odds.male)\n",
        "\n",
        "c(p.female, p.male)"
      ]
    },
    {
      "cell_type": "markdown",
      "metadata": {
        "id": "FzoAfXOFZQhV"
      },
      "source": [
        "### Continuous predictor\n",
        "Now let's consider logistic regression using a continuous predictor. To do this we'll download a richer version of this dataset which includes age as a number, instead of just classifying each passenger as adult or child:"
      ]
    },
    {
      "cell_type": "code",
      "execution_count": 13,
      "metadata": {
        "id": "dzM06uDMZQhV",
        "outputId": "64ae5e79-9385-429b-caad-b2df6e678a65",
        "colab": {
          "base_uri": "https://localhost:8080/"
        }
      },
      "outputs": [
        {
          "output_type": "stream",
          "name": "stderr",
          "text": [
            "\u001b[1mRows: \u001b[22m\u001b[34m891\u001b[39m \u001b[1mColumns: \u001b[22m\u001b[34m12\u001b[39m\n",
            "\u001b[36m──\u001b[39m \u001b[1mColumn specification\u001b[22m \u001b[36m────────────────────────────────────────────────────────\u001b[39m\n",
            "\u001b[1mDelimiter:\u001b[22m \",\"\n",
            "\u001b[31mchr\u001b[39m (5): Name, Sex, Ticket, Cabin, Embarked\n",
            "\u001b[32mdbl\u001b[39m (7): PassengerId, Survived, Pclass, Age, SibSp, Parch, Fare\n",
            "\n",
            "\u001b[36mℹ\u001b[39m Use `spec()` to retrieve the full column specification for this data.\n",
            "\u001b[36mℹ\u001b[39m Specify the column types or set `show_col_types = FALSE` to quiet this message.\n"
          ]
        },
        {
          "output_type": "stream",
          "name": "stdout",
          "text": [
            "\u001b[90m# A tibble: 891 × 12\u001b[39m\n",
            "   PassengerId Survived Pclass Name   Sex     Age SibSp Parch Ticket  Fare Cabin\n",
            "         \u001b[3m\u001b[90m<dbl>\u001b[39m\u001b[23m    \u001b[3m\u001b[90m<dbl>\u001b[39m\u001b[23m  \u001b[3m\u001b[90m<dbl>\u001b[39m\u001b[23m \u001b[3m\u001b[90m<chr>\u001b[39m\u001b[23m  \u001b[3m\u001b[90m<chr>\u001b[39m\u001b[23m \u001b[3m\u001b[90m<dbl>\u001b[39m\u001b[23m \u001b[3m\u001b[90m<dbl>\u001b[39m\u001b[23m \u001b[3m\u001b[90m<dbl>\u001b[39m\u001b[23m \u001b[3m\u001b[90m<chr>\u001b[39m\u001b[23m  \u001b[3m\u001b[90m<dbl>\u001b[39m\u001b[23m \u001b[3m\u001b[90m<chr>\u001b[39m\u001b[23m\n",
            "\u001b[90m 1\u001b[39m           1        0      3 Braun… male     22     1     0 A/5 2…  7.25 \u001b[31mNA\u001b[39m   \n",
            "\u001b[90m 2\u001b[39m           2        1      1 Cumin… fema…    38     1     0 PC 17… 71.3  C85  \n",
            "\u001b[90m 3\u001b[39m           3        1      3 Heikk… fema…    26     0     0 STON/…  7.92 \u001b[31mNA\u001b[39m   \n",
            "\u001b[90m 4\u001b[39m           4        1      1 Futre… fema…    35     1     0 113803 53.1  C123 \n",
            "\u001b[90m 5\u001b[39m           5        0      3 Allen… male     35     0     0 373450  8.05 \u001b[31mNA\u001b[39m   \n",
            "\u001b[90m 6\u001b[39m           6        0      3 Moran… male     \u001b[31mNA\u001b[39m     0     0 330877  8.46 \u001b[31mNA\u001b[39m   \n",
            "\u001b[90m 7\u001b[39m           7        0      1 McCar… male     54     0     0 17463  51.9  E46  \n",
            "\u001b[90m 8\u001b[39m           8        0      3 Palss… male      2     3     1 349909 21.1  \u001b[31mNA\u001b[39m   \n",
            "\u001b[90m 9\u001b[39m           9        1      3 Johns… fema…    27     0     2 347742 11.1  \u001b[31mNA\u001b[39m   \n",
            "\u001b[90m10\u001b[39m          10        1      2 Nasse… fema…    14     1     0 237736 30.1  \u001b[31mNA\u001b[39m   \n",
            "\u001b[90m# ℹ 881 more rows\u001b[39m\n",
            "\u001b[90m# ℹ 1 more variable: Embarked <chr>\u001b[39m\n"
          ]
        }
      ],
      "source": [
        "titanic_df2 <- read_csv('https://raw.githubusercontent.com/datasciencedojo/datasets/master/titanic.csv')\n",
        "titanic_df2 %>% print"
      ]
    },
    {
      "cell_type": "code",
      "execution_count": 27,
      "metadata": {
        "id": "0GbyjPLuZQhV",
        "outputId": "4418d894-fa91-4a3a-98c2-d425e295aee0",
        "colab": {
          "base_uri": "https://localhost:8080/",
          "height": 416
        }
      },
      "outputs": [
        {
          "output_type": "display_data",
          "data": {
            "text/plain": [
              "\n",
              "Call:\n",
              "glm(formula = Survived ~ Age, family = \"binomial\", data = titanic_df2)\n",
              "\n",
              "Deviance Residuals: \n",
              "    Min       1Q   Median       3Q      Max  \n",
              "-1.1488  -1.0361  -0.9544   1.3159   1.5908  \n",
              "\n",
              "Coefficients:\n",
              "            Estimate Std. Error z value Pr(>|z|)  \n",
              "(Intercept) -0.05672    0.17358  -0.327   0.7438  \n",
              "Age         -0.01096    0.00533  -2.057   0.0397 *\n",
              "---\n",
              "Signif. codes:  0 ‘***’ 0.001 ‘**’ 0.01 ‘*’ 0.05 ‘.’ 0.1 ‘ ’ 1\n",
              "\n",
              "(Dispersion parameter for binomial family taken to be 1)\n",
              "\n",
              "    Null deviance: 964.52  on 713  degrees of freedom\n",
              "Residual deviance: 960.23  on 712  degrees of freedom\n",
              "  (177 observations deleted due to missingness)\n",
              "AIC: 964.23\n",
              "\n",
              "Number of Fisher Scoring iterations: 4\n"
            ]
          },
          "metadata": {}
        }
      ],
      "source": [
        "mdl <- glm(Survived ~ Age, data = titanic_df2, family = \"binomial\")\n",
        "summary(mdl)"
      ]
    },
    {
      "cell_type": "markdown",
      "metadata": {
        "id": "ulY3Qh2lZQhW"
      },
      "source": [
        "Now our regression model is\n",
        "\n",
        "$$\\log \\left( \\frac{p}{1-p} \\right) = a_0 + a_1 \\cdot \\text{Age}.$$"
      ]
    },
    {
      "cell_type": "markdown",
      "metadata": {
        "id": "rGPSZ6wLZQhW"
      },
      "source": [
        "## 🤔 Quiz\n",
        "\n",
        "```\n",
        "Call:\n",
        "glm(formula = Survived ~ Age, family = \"binomial\")\n",
        "\n",
        "\n",
        "Coefficients:\n",
        "            Estimate Std. Error z value Pr(>|z|)  \n",
        "(Intercept) -0.05672    0.17358  -0.327   0.7438  \n",
        "Age         -0.01096    0.00533  -2.057   0.0397 *\n",
        "```\n",
        "\n",
        "\n",
        "\n",
        "According to the model, what is predicted probability that an 11-year old child survived the sinking of the Titanic?\n",
        "\n",
        "<ol style=\"list-style-type: upper-alpha;\">\n",
        "    <li>&lt; 60%</li>\n",
        "    <li>60-70%</li>\n",
        "    <li>70-80%</li>\n",
        "    <li>80-90%</li>\n",
        "    <li>&gt; 90%</li>\n",
        "</ol>"
      ]
    },
    {
      "cell_type": "code",
      "source": [
        "tibble(Age = 11) %>% add_predictions(mdl) %>% sigma"
      ],
      "metadata": {
        "id": "sLxTRpOjo9i8",
        "outputId": "7f6624b6-1110-4999-9215-d35d1e5c6fce",
        "colab": {
          "base_uri": "https://localhost:8080/",
          "height": 129
        }
      },
      "execution_count": 30,
      "outputs": [
        {
          "output_type": "display_data",
          "data": {
            "text/html": [
              "<table class=\"dataframe\">\n",
              "<caption>A data.frame: 1 × 2</caption>\n",
              "<thead>\n",
              "\t<tr><th scope=col>Age</th><th scope=col>pred</th></tr>\n",
              "\t<tr><th scope=col>&lt;dbl&gt;</th><th scope=col>&lt;dbl&gt;</th></tr>\n",
              "</thead>\n",
              "<tbody>\n",
              "\t<tr><td>0.9999833</td><td>0.4557854</td></tr>\n",
              "</tbody>\n",
              "</table>\n"
            ],
            "text/markdown": "\nA data.frame: 1 × 2\n\n| Age &lt;dbl&gt; | pred &lt;dbl&gt; |\n|---|---|\n| 0.9999833 | 0.4557854 |\n\n",
            "text/latex": "A data.frame: 1 × 2\n\\begin{tabular}{ll}\n Age & pred\\\\\n <dbl> & <dbl>\\\\\n\\hline\n\t 0.9999833 & 0.4557854\\\\\n\\end{tabular}\n",
            "text/plain": [
              "  Age       pred     \n",
              "1 0.9999833 0.4557854"
            ]
          },
          "metadata": {}
        }
      ]
    },
    {
      "cell_type": "code",
      "source": [
        "sigma(coef(mdl)[1] + 11 * coef(mdl)[2])\n"
      ],
      "metadata": {
        "id": "OTn4xvnLpdW4",
        "outputId": "8187c2a4-36b9-43c8-fbb9-7ea31c02944b",
        "colab": {
          "base_uri": "https://localhost:8080/",
          "height": 34
        }
      },
      "execution_count": 29,
      "outputs": [
        {
          "output_type": "display_data",
          "data": {
            "text/html": [
              "<strong>(Intercept):</strong> 0.455785386958961"
            ],
            "text/markdown": "**(Intercept):** 0.455785386958961",
            "text/latex": "\\textbf{(Intercept):} 0.455785386958961",
            "text/plain": [
              "(Intercept) \n",
              "  0.4557854 "
            ]
          },
          "metadata": {}
        }
      ]
    },
    {
      "cell_type": "markdown",
      "metadata": {
        "id": "tCXElIcZZQhX"
      },
      "source": [
        "### Logistic regression with multiple predictors\n",
        "\n",
        "Just like with linear regression, multiple predictors can be added to logistic regression. The predicted log-odds becomes a multilinear function of the predictors:\n",
        "\n",
        "$$\\log \\left( \\frac{p}{1-p} \\right) = a_0 + a_1 x_1 + \\cdots + a_k x_k $$"
      ]
    },
    {
      "cell_type": "code",
      "execution_count": 15,
      "metadata": {
        "id": "dGAtyzBDZQhX",
        "outputId": "a965ee80-d76f-453b-84de-5743676b9e8e",
        "colab": {
          "base_uri": "https://localhost:8080/",
          "height": 486
        }
      },
      "outputs": [
        {
          "output_type": "display_data",
          "data": {
            "text/plain": [
              "\n",
              "Call:\n",
              "glm(formula = Survived ~ Class + Age + Sex, family = \"binomial\", \n",
              "    data = titanic_df)\n",
              "\n",
              "Deviance Residuals: \n",
              "    Min       1Q   Median       3Q      Max  \n",
              "-2.0812  -0.7149  -0.6656   0.6858   2.1278  \n",
              "\n",
              "Coefficients:\n",
              "            Estimate Std. Error z value Pr(>|z|)    \n",
              "(Intercept)   2.0438     0.1679  12.171  < 2e-16 ***\n",
              "Class2nd     -1.0181     0.1960  -5.194 2.05e-07 ***\n",
              "Class3rd     -1.7778     0.1716 -10.362  < 2e-16 ***\n",
              "ClassCrew    -0.8577     0.1573  -5.451 5.00e-08 ***\n",
              "AgeChild      1.0615     0.2440   4.350 1.36e-05 ***\n",
              "SexMale      -2.4201     0.1404 -17.236  < 2e-16 ***\n",
              "---\n",
              "Signif. codes:  0 ‘***’ 0.001 ‘**’ 0.01 ‘*’ 0.05 ‘.’ 0.1 ‘ ’ 1\n",
              "\n",
              "(Dispersion parameter for binomial family taken to be 1)\n",
              "\n",
              "    Null deviance: 2769.5  on 2200  degrees of freedom\n",
              "Residual deviance: 2210.1  on 2195  degrees of freedom\n",
              "AIC: 2222.1\n",
              "\n",
              "Number of Fisher Scoring iterations: 4\n"
            ]
          },
          "metadata": {}
        }
      ],
      "source": [
        "mdl <- glm(Survived ~ Class + Age + Sex, data = titanic_df, family = \"binomial\")\n",
        "#                                                           ^^^^^^ important! \n",
        "summary(mdl)"
      ]
    },
    {
      "cell_type": "markdown",
      "metadata": {
        "id": "LZ2DMETMZQhX"
      },
      "source": [
        "The model we are fitting here is:\n",
        "\n",
        "$$\\underbrace{ \\log\\left( \\frac{p_\\text{survival}}{1-p_\\text{survival}}  \\right)}_\\text{log odds ratio} = 2.04-1.02\\times\\texttt{\\{2nd class\\}}+\\cdots-2.42\\times \\texttt{male}$$"
      ]
    },
    {
      "cell_type": "markdown",
      "metadata": {
        "id": "WWF_EYZHZQhX"
      },
      "source": [
        "To be clear, the \"model\" for how the above data was generated is the following:\n",
        "1. First, I use all the predictors to form the log-odds ratio. For example, for an adult, male, third-class passenger, the predicted log-odds ratio is:"
      ]
    },
    {
      "cell_type": "code",
      "execution_count": 16,
      "metadata": {
        "id": "9PkuydleZQhX",
        "outputId": "e5b46d1b-0663-4c72-dcd2-f69f421c9d29",
        "colab": {
          "base_uri": "https://localhost:8080/",
          "height": 286
        }
      },
      "outputs": [
        {
          "output_type": "display_data",
          "data": {
            "text/html": [
              "<table class=\"dataframe\">\n",
              "<caption>A tibble: 6 × 5</caption>\n",
              "<thead>\n",
              "\t<tr><th scope=col>Class</th><th scope=col>Sex</th><th scope=col>Age</th><th scope=col>Survived</th><th scope=col>pred</th></tr>\n",
              "\t<tr><th scope=col>&lt;chr&gt;</th><th scope=col>&lt;chr&gt;</th><th scope=col>&lt;chr&gt;</th><th scope=col>&lt;lgl&gt;</th><th scope=col>&lt;dbl&gt;</th></tr>\n",
              "</thead>\n",
              "<tbody>\n",
              "\t<tr><td>3rd</td><td>Male</td><td>Adult</td><td>FALSE</td><td>-2.153985</td></tr>\n",
              "\t<tr><td>3rd</td><td>Male</td><td>Adult</td><td>FALSE</td><td>-2.153985</td></tr>\n",
              "\t<tr><td>3rd</td><td>Male</td><td>Adult</td><td>FALSE</td><td>-2.153985</td></tr>\n",
              "\t<tr><td>3rd</td><td>Male</td><td>Adult</td><td>FALSE</td><td>-2.153985</td></tr>\n",
              "\t<tr><td>3rd</td><td>Male</td><td>Adult</td><td>FALSE</td><td>-2.153985</td></tr>\n",
              "\t<tr><td>3rd</td><td>Male</td><td>Adult</td><td>FALSE</td><td>-2.153985</td></tr>\n",
              "</tbody>\n",
              "</table>\n"
            ],
            "text/markdown": "\nA tibble: 6 × 5\n\n| Class &lt;chr&gt; | Sex &lt;chr&gt; | Age &lt;chr&gt; | Survived &lt;lgl&gt; | pred &lt;dbl&gt; |\n|---|---|---|---|---|\n| 3rd | Male | Adult | FALSE | -2.153985 |\n| 3rd | Male | Adult | FALSE | -2.153985 |\n| 3rd | Male | Adult | FALSE | -2.153985 |\n| 3rd | Male | Adult | FALSE | -2.153985 |\n| 3rd | Male | Adult | FALSE | -2.153985 |\n| 3rd | Male | Adult | FALSE | -2.153985 |\n\n",
            "text/latex": "A tibble: 6 × 5\n\\begin{tabular}{lllll}\n Class & Sex & Age & Survived & pred\\\\\n <chr> & <chr> & <chr> & <lgl> & <dbl>\\\\\n\\hline\n\t 3rd & Male & Adult & FALSE & -2.153985\\\\\n\t 3rd & Male & Adult & FALSE & -2.153985\\\\\n\t 3rd & Male & Adult & FALSE & -2.153985\\\\\n\t 3rd & Male & Adult & FALSE & -2.153985\\\\\n\t 3rd & Male & Adult & FALSE & -2.153985\\\\\n\t 3rd & Male & Adult & FALSE & -2.153985\\\\\n\\end{tabular}\n",
            "text/plain": [
              "  Class Sex  Age   Survived pred     \n",
              "1 3rd   Male Adult FALSE    -2.153985\n",
              "2 3rd   Male Adult FALSE    -2.153985\n",
              "3 3rd   Male Adult FALSE    -2.153985\n",
              "4 3rd   Male Adult FALSE    -2.153985\n",
              "5 3rd   Male Adult FALSE    -2.153985\n",
              "6 3rd   Male Adult FALSE    -2.153985"
            ]
          },
          "metadata": {}
        }
      ],
      "source": [
        "titanic_df %>% add_predictions(mdl) %>% \n",
        "    filter(Class == \"3rd\", Sex == \"Male\", Age == \"Adult\") %>% head"
      ]
    },
    {
      "cell_type": "markdown",
      "metadata": {
        "id": "MqwA5Tc4ZQhX"
      },
      "source": [
        "2. The log-odds ratio is -2.153985. The predicted probability of survival is obtained by solving \n",
        "\n",
        "$$\\log\\left(\\frac{p}{1-p}\\right) = -2.153985$$ for $p$. \n",
        "\n",
        "To do this we apply the logistic function $f(x)=1/(1+e^{-x})$ to both sides:\n",
        "\n",
        "$$p = \\frac{1}{1 + \\exp(2.153985)} = .104$$\n",
        "\n",
        "\n"
      ]
    },
    {
      "cell_type": "markdown",
      "metadata": {
        "id": "uJ1nxQMoZQhY"
      },
      "source": []
    },
    {
      "cell_type": "markdown",
      "metadata": {
        "id": "2fUpmxyOZQhY"
      },
      "source": [
        "### ROC curve\n",
        "With multiple predictors, we can no longer easily visualize the logistic regression model as we did above. However, there is a very useful visualization for assessing its performance as a classifier called the receiver operating characteric (ROC) curve. To understand what this represents, let's add the predicted probabilities to our model:"
      ]
    },
    {
      "cell_type": "code",
      "execution_count": 17,
      "metadata": {
        "id": "tdYrsZwbZQhY",
        "outputId": "1aab995e-c2e6-4e49-8047-2a944620d874",
        "colab": {
          "base_uri": "https://localhost:8080/"
        }
      },
      "outputs": [
        {
          "output_type": "stream",
          "name": "stdout",
          "text": [
            "\u001b[90m# A tibble: 2,201 × 5\u001b[39m\n",
            "   Class Sex   Age   Survived  pred\n",
            "   \u001b[3m\u001b[90m<chr>\u001b[39m\u001b[23m \u001b[3m\u001b[90m<chr>\u001b[39m\u001b[23m \u001b[3m\u001b[90m<chr>\u001b[39m\u001b[23m \u001b[3m\u001b[90m<lgl>\u001b[39m\u001b[23m    \u001b[3m\u001b[90m<dbl>\u001b[39m\u001b[23m\n",
            "\u001b[90m 1\u001b[39m 3rd   Male  Child FALSE    0.251\n",
            "\u001b[90m 2\u001b[39m 3rd   Male  Child FALSE    0.251\n",
            "\u001b[90m 3\u001b[39m 3rd   Male  Child FALSE    0.251\n",
            "\u001b[90m 4\u001b[39m 3rd   Male  Child FALSE    0.251\n",
            "\u001b[90m 5\u001b[39m 3rd   Male  Child FALSE    0.251\n",
            "\u001b[90m 6\u001b[39m 3rd   Male  Child FALSE    0.251\n",
            "\u001b[90m 7\u001b[39m 3rd   Male  Child FALSE    0.251\n",
            "\u001b[90m 8\u001b[39m 3rd   Male  Child FALSE    0.251\n",
            "\u001b[90m 9\u001b[39m 3rd   Male  Child FALSE    0.251\n",
            "\u001b[90m10\u001b[39m 3rd   Male  Child FALSE    0.251\n",
            "\u001b[90m# ℹ 2,191 more rows\u001b[39m\n"
          ]
        }
      ],
      "source": [
        "titanic_pred <- titanic_df %>% \n",
        "  add_predictions(mdl, type = \"response\") %>% \n",
        "    print"
      ]
    },
    {
      "cell_type": "markdown",
      "metadata": {
        "id": "7HbjaLDiZQhY"
      },
      "source": [
        "The output of logistic regression is a set of _probabilities_ (numbers between 0 and 1), whereas the observed value is either 0 or 1. To convert from probabilities to prediction of 0 or 1, most of use would probably use the common sense rule\n",
        "\n",
        "> Predict that Survived=1 if the predicted probability of survival is > 1/2."
      ]
    },
    {
      "cell_type": "code",
      "execution_count": 18,
      "metadata": {
        "id": "xUuS-cV7ZQhY",
        "outputId": "6f816a54-8c19-4489-9c86-3944bc4db31a",
        "colab": {
          "base_uri": "https://localhost:8080/",
          "height": 286
        }
      },
      "outputs": [
        {
          "output_type": "display_data",
          "data": {
            "text/html": [
              "<table class=\"dataframe\">\n",
              "<caption>A tibble: 6 × 6</caption>\n",
              "<thead>\n",
              "\t<tr><th scope=col>Class</th><th scope=col>Sex</th><th scope=col>Age</th><th scope=col>Survived</th><th scope=col>pred</th><th scope=col>Survived_hat</th></tr>\n",
              "\t<tr><th scope=col>&lt;chr&gt;</th><th scope=col>&lt;chr&gt;</th><th scope=col>&lt;chr&gt;</th><th scope=col>&lt;lgl&gt;</th><th scope=col>&lt;dbl&gt;</th><th scope=col>&lt;int&gt;</th></tr>\n",
              "</thead>\n",
              "<tbody>\n",
              "\t<tr><td>3rd</td><td>Male</td><td>Child</td><td>FALSE</td><td>0.2511586</td><td>0</td></tr>\n",
              "\t<tr><td>3rd</td><td>Male</td><td>Child</td><td>FALSE</td><td>0.2511586</td><td>0</td></tr>\n",
              "\t<tr><td>3rd</td><td>Male</td><td>Child</td><td>FALSE</td><td>0.2511586</td><td>0</td></tr>\n",
              "\t<tr><td>3rd</td><td>Male</td><td>Child</td><td>FALSE</td><td>0.2511586</td><td>0</td></tr>\n",
              "\t<tr><td>3rd</td><td>Male</td><td>Child</td><td>FALSE</td><td>0.2511586</td><td>0</td></tr>\n",
              "\t<tr><td>3rd</td><td>Male</td><td>Child</td><td>FALSE</td><td>0.2511586</td><td>0</td></tr>\n",
              "</tbody>\n",
              "</table>\n"
            ],
            "text/markdown": "\nA tibble: 6 × 6\n\n| Class &lt;chr&gt; | Sex &lt;chr&gt; | Age &lt;chr&gt; | Survived &lt;lgl&gt; | pred &lt;dbl&gt; | Survived_hat &lt;int&gt; |\n|---|---|---|---|---|---|\n| 3rd | Male | Child | FALSE | 0.2511586 | 0 |\n| 3rd | Male | Child | FALSE | 0.2511586 | 0 |\n| 3rd | Male | Child | FALSE | 0.2511586 | 0 |\n| 3rd | Male | Child | FALSE | 0.2511586 | 0 |\n| 3rd | Male | Child | FALSE | 0.2511586 | 0 |\n| 3rd | Male | Child | FALSE | 0.2511586 | 0 |\n\n",
            "text/latex": "A tibble: 6 × 6\n\\begin{tabular}{llllll}\n Class & Sex & Age & Survived & pred & Survived\\_hat\\\\\n <chr> & <chr> & <chr> & <lgl> & <dbl> & <int>\\\\\n\\hline\n\t 3rd & Male & Child & FALSE & 0.2511586 & 0\\\\\n\t 3rd & Male & Child & FALSE & 0.2511586 & 0\\\\\n\t 3rd & Male & Child & FALSE & 0.2511586 & 0\\\\\n\t 3rd & Male & Child & FALSE & 0.2511586 & 0\\\\\n\t 3rd & Male & Child & FALSE & 0.2511586 & 0\\\\\n\t 3rd & Male & Child & FALSE & 0.2511586 & 0\\\\\n\\end{tabular}\n",
            "text/plain": [
              "  Class Sex  Age   Survived pred      Survived_hat\n",
              "1 3rd   Male Child FALSE    0.2511586 0           \n",
              "2 3rd   Male Child FALSE    0.2511586 0           \n",
              "3 3rd   Male Child FALSE    0.2511586 0           \n",
              "4 3rd   Male Child FALSE    0.2511586 0           \n",
              "5 3rd   Male Child FALSE    0.2511586 0           \n",
              "6 3rd   Male Child FALSE    0.2511586 0           "
            ]
          },
          "metadata": {}
        }
      ],
      "source": [
        "titanic_pred %>% mutate(Survived_hat = as.integer(pred > 1/2)) %>% head"
      ]
    },
    {
      "cell_type": "markdown",
      "metadata": {
        "id": "YcZsOuHSZQhZ"
      },
      "source": [
        "\n",
        "<img src='https://ebooks.mobibootcamp.com/ml_ai/confusion_matrix.png' />\n",
        "\n",
        "\n",
        "To evaluate our classifier we'll think about 2 measures:\n",
        "\n",
        "- True positive rate: The percentage of people who are predicted to survive who in fact survived.\n",
        "- False positive rate: The percentage of people who are predicted to survive who in fact perished.\n"
      ]
    },
    {
      "cell_type": "code",
      "execution_count": 19,
      "metadata": {
        "id": "HyseGyp7ZQhZ",
        "outputId": "07a22407-7a05-45e5-8aa3-efdac01a2b19",
        "colab": {
          "base_uri": "https://localhost:8080/",
          "height": 129
        }
      },
      "outputs": [
        {
          "output_type": "display_data",
          "data": {
            "text/html": [
              "<table class=\"dataframe\">\n",
              "<caption>A tibble: 1 × 2</caption>\n",
              "<thead>\n",
              "\t<tr><th scope=col>fpr</th><th scope=col>tpr</th></tr>\n",
              "\t<tr><th scope=col>&lt;dbl&gt;</th><th scope=col>&lt;dbl&gt;</th></tr>\n",
              "</thead>\n",
              "<tbody>\n",
              "\t<tr><td>0.1637584</td><td>0.5864979</td></tr>\n",
              "</tbody>\n",
              "</table>\n"
            ],
            "text/markdown": "\nA tibble: 1 × 2\n\n| fpr &lt;dbl&gt; | tpr &lt;dbl&gt; |\n|---|---|\n| 0.1637584 | 0.5864979 |\n\n",
            "text/latex": "A tibble: 1 × 2\n\\begin{tabular}{ll}\n fpr & tpr\\\\\n <dbl> & <dbl>\\\\\n\\hline\n\t 0.1637584 & 0.5864979\\\\\n\\end{tabular}\n",
            "text/plain": [
              "  fpr       tpr      \n",
              "1 0.1637584 0.5864979"
            ]
          },
          "metadata": {}
        }
      ],
      "source": [
        "titanic_pred %>% mutate(\n",
        "    Survived_hat = pred > .4,\n",
        "    Perished = !Survived, \n",
        "    Perished_hat = !Survived_hat,\n",
        "    tn = Perished_hat & Perished,  # true -\n",
        "    tp = Survived & Survived_hat,  # true +\n",
        "    fp = Survived_hat & Perished,  # false +\n",
        "    fn = Perished_hat & Survived   # false -\n",
        ") %>% summarize(\n",
        "    fpr = sum(fp) / (sum(fp) + sum(tn)),  # fraction of true - incorrectly classified as +,\n",
        "    tpr = sum(tp) / (sum(tp) + sum(fn))  # fraction of true + correctly classified as +\n",
        ")"
      ]
    },
    {
      "cell_type": "markdown",
      "metadata": {
        "id": "bAfXdvjwZQhZ"
      },
      "source": [
        "When we choose an extreme high value of the threshold, our classification rule always predicts `Survival = 0`, it has a false-positive rate of zero. This is good; we want our classifier to make as few false-positive predictions as possible. \n",
        "\n",
        "However, it also has a true positive rate of zero! So it has no power to correctly predict that any of the true survivors in fact survived.\n",
        "\n",
        "Conversely, when we choose an extremely low value, it always predicts survival, so `TPR = FPR = 1`."
      ]
    },
    {
      "cell_type": "markdown",
      "metadata": {
        "id": "c5Os_A6PZQhZ"
      },
      "source": [
        "From the preceding discussion, we see that, given any probabilistic classifier, we can always make it have $\\text{FPR}=\\text{TPR}=1$ or $\\text{FPR}=\\text{TPR}=0$ by choosing an extreme probability cutoff. In other words, there is a tradeoff between having a good (i.e. close to zero) false-positive rate and a good (i.e. close to 1) true positive rate.\n",
        "\n",
        "The ROC curve is a visual summary of this tradeoff. It plots the false positive rate on the $x$-axis, and the true positive rate on the $y$ axis. "
      ]
    },
    {
      "cell_type": "code",
      "execution_count": 23,
      "metadata": {
        "id": "cEc-44m0ZQhZ",
        "outputId": "efa160bf-e8dd-44a5-a15e-60e61b61efa5",
        "colab": {
          "base_uri": "https://localhost:8080/",
          "height": 235
        }
      },
      "outputs": [
        {
          "output_type": "stream",
          "name": "stderr",
          "text": [
            "Installing package into ‘/usr/local/lib/R/site-library’\n",
            "(as ‘lib’ is unspecified)\n",
            "\n",
            "also installing the dependencies ‘bitops’, ‘gtools’, ‘caTools’, ‘gplots’\n",
            "\n",
            "\n"
          ]
        },
        {
          "output_type": "error",
          "ename": "ERROR",
          "evalue": "ignored",
          "traceback": [
            "Error in library(rocr): there is no package called ‘rocr’\nTraceback:\n",
            "1. library(rocr)"
          ]
        }
      ],
      "source": [
        "install.packages(\"ROCR\")"
      ]
    },
    {
      "cell_type": "code",
      "source": [
        "library(ROCR)\n",
        "roc <- titanic_pred %>% roc_curve(factor(!Survived), pred)\n",
        "autoplot(roc)"
      ],
      "metadata": {
        "id": "jg2CpLMwn6IZ",
        "outputId": "f9fc6552-2087-4c75-ba15-8133816d918a",
        "colab": {
          "base_uri": "https://localhost:8080/",
          "height": 131
        }
      },
      "execution_count": 24,
      "outputs": [
        {
          "output_type": "error",
          "ename": "ERROR",
          "evalue": "ignored",
          "traceback": [
            "Error in roc_curve(., factor(!Survived), pred): could not find function \"roc_curve\"\nTraceback:\n",
            "1. titanic_pred %>% roc_curve(factor(!Survived), pred)"
          ]
        }
      ]
    },
    {
      "cell_type": "markdown",
      "metadata": {
        "id": "f9YDuPT-ZQhb"
      },
      "source": [
        "### Area under curve\n",
        "A useful summary of the ROC curve is the area under the curve (AUC), which ranges between 1/2 and 1. A classifier that has AUC=1 can perfectly classify the data since it achieves TPR=1 and FPR=0."
      ]
    },
    {
      "cell_type": "markdown",
      "metadata": {
        "id": "QuXsaRkFZQhb"
      },
      "source": [
        "## Who will win?\n",
        "![image.png](attachment:image.png)\n",
        "Tonight is the final game of March Madness: UConn will play San Diego State for the national championship. Who will win the game? Given some data about each team, can we build a statistical model that predicts who will win?"
      ]
    },
    {
      "cell_type": "code",
      "execution_count": null,
      "metadata": {
        "id": "v-iSj0mLZQhb"
      },
      "outputs": [],
      "source": [
        "load(url('https://datasets.stats306.org/ncaa.RData'))"
      ]
    },
    {
      "cell_type": "markdown",
      "metadata": {
        "id": "Wim6R0ngZQhb"
      },
      "source": [
        "This command loads three tables:\n",
        "- `ncaa_games`: outcomes of every game from 2002-2018.\n",
        "- `ncaa_players`: all players and their stats for the same time period.\n",
        "- `ncaa_schools`: table mapping schools to their numerical ID."
      ]
    },
    {
      "cell_type": "code",
      "execution_count": null,
      "metadata": {
        "id": "xqBt4C4HZQhb"
      },
      "outputs": [],
      "source": [
        "ncaa_games %>% head"
      ]
    },
    {
      "cell_type": "code",
      "execution_count": null,
      "metadata": {
        "id": "RzDwrJloZQhc"
      },
      "outputs": [],
      "source": [
        "ncaa_schools %>% filter(school_id %in% c(1390, 26172))"
      ]
    },
    {
      "cell_type": "code",
      "execution_count": null,
      "metadata": {
        "id": "ilj5V6vMZQhc"
      },
      "outputs": [],
      "source": [
        "ncaa_players %>% head"
      ]
    },
    {
      "cell_type": "code",
      "execution_count": null,
      "metadata": {
        "id": "K7HzllxNZQhc"
      },
      "outputs": [],
      "source": [
        "ncaa_players[1,] %>% t"
      ]
    },
    {
      "cell_type": "markdown",
      "metadata": {
        "id": "d807limCZQhc"
      },
      "source": [
        "For this analysis, we will summarize each team by simply averaging the stats of each player on the team for that year:"
      ]
    },
    {
      "cell_type": "code",
      "execution_count": null,
      "metadata": {
        "id": "McahQDGCZQhc"
      },
      "outputs": [],
      "source": [
        "school_stats <- ncaa_players %>% \n",
        "    group_by(school_id, year) %>% \n",
        "    summarize(across(where(is.double), \\(x) mean(x, na.rm = T))) %>% \n",
        "    select(-c(dd, td, turnovers))  # these are missing for almost every player/team"
      ]
    },
    {
      "cell_type": "markdown",
      "metadata": {
        "id": "Gj3mUpKrZQhc"
      },
      "source": [
        "Next, we need to create the data frame that we will use to train our model. This means joining data for each pair of teams that played in each game. Note that each game is represented twice in the dataset, with each team being called \"opponent\", e.g.:"
      ]
    },
    {
      "cell_type": "code",
      "execution_count": null,
      "metadata": {
        "id": "UW5YWJqHZQhc"
      },
      "outputs": [],
      "source": [
        "ncaa_games %>% filter(game_date == \"2001-11-16\", school_id == 26172 | opponent_id == 26172)"
      ]
    },
    {
      "cell_type": "markdown",
      "metadata": {
        "id": "6T0boDX3ZQhd"
      },
      "source": [
        "Now we perform the join. (To make things go faster we are going to downsample the data to only 30,000 games.)"
      ]
    },
    {
      "cell_type": "code",
      "execution_count": null,
      "metadata": {
        "id": "cSQJN7mwZQhd"
      },
      "outputs": [],
      "source": [
        "ncaa_data <- ncaa_games %>% sample_n(30000) %>% inner_join(school_stats) %>% \n",
        "    inner_join(school_stats, join_by(opponent_id == school_id, year), suffix = c(\"\", \"_opponent\")) %>% \n",
        "    mutate(win = score > opponent_score) "
      ]
    },
    {
      "cell_type": "markdown",
      "metadata": {
        "id": "K34uqXrAZQhd"
      },
      "source": [
        "### Selecting a good model\n",
        "Last lecture, we saw how to create large, rich regression models by including more and more predictors into our regression. But we also saw that this could actually decrease predictive accuracy when analyzing data that the model had never seen before. \n",
        "\n",
        "Now, we will learn ways to systematically find a good model by dividing our data and using out-of-sample predictive performance to guide model selection."
      ]
    },
    {
      "cell_type": "markdown",
      "metadata": {
        "id": "DfY0t7x8ZQhd"
      },
      "source": [
        "The first step will be to divide our data into two sets, training and test.\n",
        "- We will use the **training** set to train our model, and then\n",
        "- The **testing** set will be used to judge how accurate it is on new data."
      ]
    },
    {
      "cell_type": "code",
      "execution_count": null,
      "metadata": {
        "id": "pD0SWI_OZQhd"
      },
      "outputs": [],
      "source": [
        "ncaa_split <- ncaa_data %>% \n",
        "    select(win, where(is.double), location, attendence, -game_date) %>% \n",
        "    filter(complete.cases(.)) %>% \n",
        "    initial_split(prop = .9)\n",
        "training(ncaa_split) %>% glimpse\n",
        "testing(ncaa_split) %>% glimpse"
      ]
    },
    {
      "cell_type": "markdown",
      "metadata": {
        "id": "ES18W_nzZQhe"
      },
      "source": [
        "Let's try fitting the logistic regression model to this data set, and measure its performance using cross-entropy loss:"
      ]
    },
    {
      "cell_type": "code",
      "execution_count": null,
      "metadata": {
        "id": "6Bn85TfsZQhe"
      },
      "outputs": [],
      "source": [
        "mdl <- glm(win ~ (height + g + fg_made + rebounds_avg + height_opponent + fg_made_opponent)^2,\n",
        "                  data = training(ncaa_split), family = \"binomial\")"
      ]
    },
    {
      "cell_type": "code",
      "execution_count": null,
      "metadata": {
        "id": "I3d94l07ZQhe"
      },
      "outputs": [],
      "source": [
        "summary(mdl)"
      ]
    },
    {
      "cell_type": "markdown",
      "metadata": {
        "id": "07kJIak_ZQhe"
      },
      "source": [
        "### Cross-entropy loss\n",
        "\n",
        "Now let's define what it means for a binary prediction to be good. For a binary variable $y \\in \\{0, 1\\}$ with predicted value $\\hat{y} \\in [0, 1]$, the *cross-entropy loss* is defined as \n",
        "\n",
        "$$ -y \\log(\\hat{y}) - (1 - y) \\log(1 - \\hat{y}) $$\n",
        "\n",
        "(lower is better)"
      ]
    },
    {
      "cell_type": "code",
      "execution_count": null,
      "metadata": {
        "id": "jhbPrxzlZQhe"
      },
      "outputs": [],
      "source": [
        "cross.entropy <- function(y, yhat) {\n",
        "    -y * log(yhat) - (1 - y) * log1p(-yhat)\n",
        "}"
      ]
    },
    {
      "cell_type": "code",
      "execution_count": null,
      "metadata": {
        "id": "cXmJIvOSZQhe"
      },
      "outputs": [],
      "source": [
        "training(ncaa_split) %>% add_predictions(mdl, type = \"response\") %>% \n",
        "    mutate(loss = cross.entropy(win, pred)) %>% summarize(mean(loss, na.rm = T))"
      ]
    },
    {
      "cell_type": "markdown",
      "metadata": {
        "id": "wUOY34C3ZQhe"
      },
      "source": [
        "## Automatic model selection\n",
        "Next, we will use the `tidymodels` packing to automate the process of finding a good model. First, we tell tidymodels that we want to perform logistic regression:"
      ]
    },
    {
      "cell_type": "code",
      "execution_count": null,
      "metadata": {
        "id": "BWGf-ORlZQhf"
      },
      "outputs": [],
      "source": [
        "lr_mod <- \n",
        "  logistic_reg(penalty = tune(), mixture = 1) %>% \n",
        "  set_engine(\"glmnet\")"
      ]
    },
    {
      "cell_type": "markdown",
      "metadata": {
        "id": "e-vztfpqZQhf"
      },
      "source": [
        "Next, we create a \"recipe\" that tells tidymodels how to set up the data for our prediction problem."
      ]
    },
    {
      "cell_type": "code",
      "execution_count": null,
      "metadata": {
        "id": "LbU71mFAZQhf"
      },
      "outputs": [],
      "source": [
        "lr_recipe <- recipe(win ~ ., data = ncaa_split) %>% \n",
        "    step_bin2factor(win) %>% \n",
        "    step_dummy(location)"
      ]
    },
    {
      "cell_type": "code",
      "execution_count": null,
      "metadata": {
        "id": "bBpg3LtKZQhf"
      },
      "outputs": [],
      "source": [
        "lr_workflow <- \n",
        "  workflow() %>% \n",
        "  add_model(lr_mod) %>% \n",
        "  add_recipe(lr_recipe)"
      ]
    },
    {
      "cell_type": "code",
      "execution_count": null,
      "metadata": {
        "id": "j4rHIFq6ZQhf"
      },
      "outputs": [],
      "source": [
        "val_set <- validation_split(training(ncaa_split))\n",
        "lr_reg_grid <- tibble(penalty = 10^seq(-4, -1, length.out = 30))\n",
        "lr_res <- \n",
        "  lr_workflow %>% \n",
        "  tune_grid(val_set,\n",
        "            grid = lr_reg_grid,\n",
        "            control = control_grid(save_pred = TRUE),\n",
        "            metrics = metric_set(roc_auc))"
      ]
    },
    {
      "cell_type": "code",
      "execution_count": null,
      "metadata": {
        "id": "g1k_CFNZZQhf"
      },
      "outputs": [],
      "source": [
        "lr_res"
      ]
    },
    {
      "cell_type": "code",
      "execution_count": null,
      "metadata": {
        "id": "MaqU2keEZQhg"
      },
      "outputs": [],
      "source": [
        "## A different algorithm"
      ]
    },
    {
      "cell_type": "code",
      "execution_count": null,
      "metadata": {
        "id": "BPr9EhMCZQhg"
      },
      "outputs": [],
      "source": [
        "rf_mod <- \n",
        "  rand_forest(mtry = tune(), min_n = tune(), trees = 1000) %>% \n",
        "  set_engine(\"ranger\", num.threads = cores) %>% \n",
        "  set_mode(\"classification\")"
      ]
    }
  ],
  "metadata": {
    "celltoolbar": "Slideshow",
    "kernelspec": {
      "display_name": "R",
      "language": "R",
      "name": "ir"
    },
    "language_info": {
      "codemirror_mode": "r",
      "file_extension": ".r",
      "mimetype": "text/x-r-source",
      "name": "R",
      "pygments_lexer": "r",
      "version": "4.2.1"
    },
    "colab": {
      "provenance": []
    }
  },
  "nbformat": 4,
  "nbformat_minor": 0
}