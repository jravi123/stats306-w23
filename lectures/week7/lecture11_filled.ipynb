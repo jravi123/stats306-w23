{
 "cells": [
  {
   "cell_type": "code",
   "execution_count": 2,
   "metadata": {
    "scrolled": true,
    "slideshow": {
     "slide_type": "notes"
    }
   },
   "outputs": [
    {
     "name": "stderr",
     "output_type": "stream",
     "text": [
      "── \u001b[1mAttaching packages\u001b[22m ──────────────────────────────────────────────────────────────────────────────────────────────────── tidyverse 1.3.2 ──\n",
      "\u001b[32m✔\u001b[39m \u001b[34mggplot2\u001b[39m 3.4.0     \u001b[32m✔\u001b[39m \u001b[34mpurrr  \u001b[39m 1.0.1\n",
      "\u001b[32m✔\u001b[39m \u001b[34mtibble \u001b[39m 3.1.8     \u001b[32m✔\u001b[39m \u001b[34mdplyr  \u001b[39m 1.1.0\n",
      "\u001b[32m✔\u001b[39m \u001b[34mtidyr  \u001b[39m 1.2.1     \u001b[32m✔\u001b[39m \u001b[34mstringr\u001b[39m 1.4.1\n",
      "\u001b[32m✔\u001b[39m \u001b[34mreadr  \u001b[39m 2.1.3     \u001b[32m✔\u001b[39m \u001b[34mforcats\u001b[39m 0.5.2\n",
      "── \u001b[1mConflicts\u001b[22m ─────────────────────────────────────────────────────────────────────────────────────────────────────── tidyverse_conflicts() ──\n",
      "\u001b[31m✖\u001b[39m \u001b[34mdplyr\u001b[39m::\u001b[32mfilter()\u001b[39m masks \u001b[34mstats\u001b[39m::filter()\n",
      "\u001b[31m✖\u001b[39m \u001b[34mdplyr\u001b[39m::\u001b[32mlag()\u001b[39m    masks \u001b[34mstats\u001b[39m::lag()\n",
      "\n",
      "Attaching package: ‘rvest’\n",
      "\n",
      "\n",
      "The following object is masked from ‘package:readr’:\n",
      "\n",
      "    guess_encoding\n",
      "\n",
      "\n"
     ]
    }
   ],
   "source": [
    "library(tidyverse)\n",
    "library(rvest)"
   ]
  },
  {
   "cell_type": "markdown",
   "metadata": {
    "slideshow": {
     "slide_type": "slide"
    }
   },
   "source": [
    "# Lecture 11: Web scraping\n",
    "\n",
    "<div style=\"border: 1px double black; padding: 10px; margin: 10px\">\n",
    "\n",
    "**After today's lecture you will:**\n",
    "* Understand how to import data from online sources by scraping web pages.\n",
    "</div>\n",
    "\n",
    "These notes correspond to Chapter 26 of your book.\n"
   ]
  },
  {
   "cell_type": "markdown",
   "metadata": {
    "slideshow": {
     "slide_type": "slide"
    }
   },
   "source": [
    "## Ethics of scraping data online\n",
    "You should carefully read [Section 26.2](https://r4ds.hadley.nz/webscraping.html#scraping-ethics-and-legalities) of the book concerning various ethical and legal issues surrounding scraping web sites for data. In this class we will only look at large, public web sites like Wikipedia and IMDB, where there is no risk of anything bad happening. However, there are other situations where it may be unethical, or even illegal, to harvest data from a website, even if you are technically able. **As data scientists in the real world, it will be up to you to carefully weigh these concerns before using the tools discussed in today's lecture.**"
   ]
  },
  {
   "cell_type": "markdown",
   "metadata": {
    "slideshow": {
     "slide_type": "slide"
    }
   },
   "source": [
    "## Reading data from the Internet\n",
    "These days, it's increasingly common to pull data from online sources. For example, say I wanted to know the population of European countries. This is [easily found](https://en.wikipedia.org/wiki/Demographics_of_Europe#Population_by_country) on Wikipedia. How can I get these data into R and analyze them?"
   ]
  },
  {
   "cell_type": "markdown",
   "metadata": {
    "slideshow": {
     "slide_type": "slide"
    }
   },
   "source": [
    "## How do web pages work?\n",
    "\n",
    "Web pages are written in a special language called HTML (**H**yper**t**ext **M**arkup **L**anguage). Here is a simple example of some HTML:\n",
    "\n",
    "    <html>\n",
    "    <head> \n",
    "      <title>Page title</title>\n",
    "    </head>\n",
    "    <body>\n",
    "      <h1 id='first'>A heading</h1>\n",
    "      <p>Some text &amp; <b>some bold text.</b></p>\n",
    "      <img src='myimg.png' width='100' height='100'>\n",
    "    </body>"
   ]
  },
  {
   "cell_type": "markdown",
   "metadata": {
    "slideshow": {
     "slide_type": "notes"
    }
   },
   "source": [
    "Web scraping is possible because most web pages have a consistent, hierarchical structure. For example, if I asked you how to navigate to the title of the web page shown above, you would follow the \"path\"\n",
    "\n",
    "    html > head > title\n",
    "    \n",
    "to arrive at \"Page title\"."
   ]
  },
  {
   "cell_type": "markdown",
   "metadata": {
    "slideshow": {
     "slide_type": "slide"
    }
   },
   "source": [
    "## HTML elements\n",
    "\n",
    "There are a lot of HTML elements that might contain interesting information. Here are a few of the most common:\n",
    "- Block tags that denote sections of text: `<h1>` (heading), `<p>` (paragraph), `<ul>`/`<ol>` (un)ordered list, etc.\n",
    "- `<table>` (a table), `<tr>` (a table row), `<td>` (a table cell), etc.\n",
    "- Each of these elements can contain attributes such as `id=` or `class=`. For example, `<table id=\"movies\">` is probably a table that contains movie information."
   ]
  },
  {
   "cell_type": "markdown",
   "metadata": {
    "slideshow": {
     "slide_type": "slide"
    }
   },
   "source": [
    "The `rvest` package is used to load a web page and extract elements and tables based on their HTML tags. Let's see how it works by scraping the Wikipedia page mentioned earlier:"
   ]
  },
  {
   "cell_type": "code",
   "execution_count": 257,
   "metadata": {},
   "outputs": [],
   "source": [
    "library(rvest)\n",
    "europop <- read_html(\"http://en.wikipedia.org/wiki/Demographics_of_Europe#Population_by_country\")"
   ]
  },
  {
   "cell_type": "markdown",
   "metadata": {
    "slideshow": {
     "slide_type": "slide"
    }
   },
   "source": [
    "In this page there are many tables:"
   ]
  },
  {
   "cell_type": "code",
   "execution_count": 294,
   "metadata": {
    "scrolled": true
   },
   "outputs": [
    {
     "data": {
      "text/html": [
       "<table class=\"dataframe\">\n",
       "<caption>A tibble: 72 × 3</caption>\n",
       "<thead>\n",
       "\t<tr><th scope=col>Year</th><th scope=col>Averagepopulation</th><th scope=col>avg_pop</th></tr>\n",
       "\t<tr><th scope=col>&lt;int&gt;</th><th scope=col>&lt;chr&gt;</th><th scope=col>&lt;dbl&gt;</th></tr>\n",
       "</thead>\n",
       "<tbody>\n",
       "\t<tr><td>1950</td><td>549,721,718</td><td>549721718</td></tr>\n",
       "\t<tr><td>1951</td><td>554,559,502</td><td>554559502</td></tr>\n",
       "\t<tr><td>1952</td><td>559,609,904</td><td>559609904</td></tr>\n",
       "\t<tr><td>1953</td><td>565,058,633</td><td>565058633</td></tr>\n",
       "\t<tr><td>1954</td><td>570,670,994</td><td>570670994</td></tr>\n",
       "\t<tr><td>1955</td><td>576,304,974</td><td>576304974</td></tr>\n",
       "\t<tr><td>1956</td><td>581,975,516</td><td>581975516</td></tr>\n",
       "\t<tr><td>1957</td><td>587,711,635</td><td>587711635</td></tr>\n",
       "\t<tr><td>1958</td><td>593,669,297</td><td>593669297</td></tr>\n",
       "\t<tr><td>1959</td><td>599,684,870</td><td>599684870</td></tr>\n",
       "\t<tr><td>1960</td><td>605,629,870</td><td>605629870</td></tr>\n",
       "\t<tr><td>1961</td><td>611,711,020</td><td>611711020</td></tr>\n",
       "\t<tr><td>1962</td><td>617,672,206</td><td>617672206</td></tr>\n",
       "\t<tr><td>1963</td><td>623,335,994</td><td>623335994</td></tr>\n",
       "\t<tr><td>1964</td><td>628,944,878</td><td>628944878</td></tr>\n",
       "\t<tr><td>1965</td><td>634,267,606</td><td>634267606</td></tr>\n",
       "\t<tr><td>1966</td><td>639,264,461</td><td>639264461</td></tr>\n",
       "\t<tr><td>1967</td><td>644,114,436</td><td>644114436</td></tr>\n",
       "\t<tr><td>1968</td><td>648,610,191</td><td>648610191</td></tr>\n",
       "\t<tr><td>1969</td><td>652,740,596</td><td>652740596</td></tr>\n",
       "\t<tr><td>1970</td><td>656,521,426</td><td>656521426</td></tr>\n",
       "\t<tr><td>1971</td><td>660,476,010</td><td>660476010</td></tr>\n",
       "\t<tr><td>1972</td><td>664,799,679</td><td>664799679</td></tr>\n",
       "\t<tr><td>1973</td><td>668,909,022</td><td>668909022</td></tr>\n",
       "\t<tr><td>1974</td><td>672,912,941</td><td>672912941</td></tr>\n",
       "\t<tr><td>1975</td><td>676,770,845</td><td>676770845</td></tr>\n",
       "\t<tr><td>1976</td><td>680,361,150</td><td>680361150</td></tr>\n",
       "\t<tr><td>1977</td><td>683,848,710</td><td>683848710</td></tr>\n",
       "\t<tr><td>1978</td><td>687,149,553</td><td>687149553</td></tr>\n",
       "\t<tr><td>1979</td><td>690,287,705</td><td>690287705</td></tr>\n",
       "\t<tr><td>⋮</td><td>⋮</td><td>⋮</td></tr>\n",
       "\t<tr><td>1992</td><td>725,259,493</td><td>725259493</td></tr>\n",
       "\t<tr><td>1993</td><td>726,441,892</td><td>726441892</td></tr>\n",
       "\t<tr><td>1994</td><td>727,063,162</td><td>727063162</td></tr>\n",
       "\t<tr><td>1995</td><td>727,300,408</td><td>727300408</td></tr>\n",
       "\t<tr><td>1996</td><td>727,453,566</td><td>727453566</td></tr>\n",
       "\t<tr><td>1997</td><td>727,566,480</td><td>727566480</td></tr>\n",
       "\t<tr><td>1998</td><td>727,445,606</td><td>727445606</td></tr>\n",
       "\t<tr><td>1999</td><td>727,100,016</td><td>727100016</td></tr>\n",
       "\t<tr><td>2000</td><td>726,968,473</td><td>726968473</td></tr>\n",
       "\t<tr><td>2001</td><td>726,878,371</td><td>726878371</td></tr>\n",
       "\t<tr><td>2002</td><td>726,939,358</td><td>726939358</td></tr>\n",
       "\t<tr><td>2003</td><td>727,424,988</td><td>727424988</td></tr>\n",
       "\t<tr><td>2004</td><td>728,163,243</td><td>728163243</td></tr>\n",
       "\t<tr><td>2005</td><td>728,950,486</td><td>728950486</td></tr>\n",
       "\t<tr><td>2006</td><td>729,857,708</td><td>729857708</td></tr>\n",
       "\t<tr><td>2007</td><td>731,393,136</td><td>731393136</td></tr>\n",
       "\t<tr><td>2008</td><td>733,256,182</td><td>733256182</td></tr>\n",
       "\t<tr><td>2009</td><td>734,902,805</td><td>734902805</td></tr>\n",
       "\t<tr><td>2010</td><td>736,276,813</td><td>736276813</td></tr>\n",
       "\t<tr><td>2011</td><td>737,589,666</td><td>737589666</td></tr>\n",
       "\t<tr><td>2012</td><td>738,907,594</td><td>738907594</td></tr>\n",
       "\t<tr><td>2013</td><td>740,013,806</td><td>740013806</td></tr>\n",
       "\t<tr><td>2014</td><td>741,014,147</td><td>741014147</td></tr>\n",
       "\t<tr><td>2015</td><td>742,107,449</td><td>742107449</td></tr>\n",
       "\t<tr><td>2016</td><td>743,318,582</td><td>743318582</td></tr>\n",
       "\t<tr><td>2017</td><td>744,449,361</td><td>744449361</td></tr>\n",
       "\t<tr><td>2018</td><td>745,359,130</td><td>745359130</td></tr>\n",
       "\t<tr><td>2019</td><td>746,189,645</td><td>746189645</td></tr>\n",
       "\t<tr><td>2020</td><td>746,225,356</td><td>746225356</td></tr>\n",
       "\t<tr><td>2021</td><td>745,173,774</td><td>745173774</td></tr>\n",
       "</tbody>\n",
       "</table>\n"
      ],
      "text/latex": [
       "A tibble: 72 × 3\n",
       "\\begin{tabular}{lll}\n",
       " Year & Averagepopulation & avg\\_pop\\\\\n",
       " <int> & <chr> & <dbl>\\\\\n",
       "\\hline\n",
       "\t 1950 & 549,721,718 & 549721718\\\\\n",
       "\t 1951 & 554,559,502 & 554559502\\\\\n",
       "\t 1952 & 559,609,904 & 559609904\\\\\n",
       "\t 1953 & 565,058,633 & 565058633\\\\\n",
       "\t 1954 & 570,670,994 & 570670994\\\\\n",
       "\t 1955 & 576,304,974 & 576304974\\\\\n",
       "\t 1956 & 581,975,516 & 581975516\\\\\n",
       "\t 1957 & 587,711,635 & 587711635\\\\\n",
       "\t 1958 & 593,669,297 & 593669297\\\\\n",
       "\t 1959 & 599,684,870 & 599684870\\\\\n",
       "\t 1960 & 605,629,870 & 605629870\\\\\n",
       "\t 1961 & 611,711,020 & 611711020\\\\\n",
       "\t 1962 & 617,672,206 & 617672206\\\\\n",
       "\t 1963 & 623,335,994 & 623335994\\\\\n",
       "\t 1964 & 628,944,878 & 628944878\\\\\n",
       "\t 1965 & 634,267,606 & 634267606\\\\\n",
       "\t 1966 & 639,264,461 & 639264461\\\\\n",
       "\t 1967 & 644,114,436 & 644114436\\\\\n",
       "\t 1968 & 648,610,191 & 648610191\\\\\n",
       "\t 1969 & 652,740,596 & 652740596\\\\\n",
       "\t 1970 & 656,521,426 & 656521426\\\\\n",
       "\t 1971 & 660,476,010 & 660476010\\\\\n",
       "\t 1972 & 664,799,679 & 664799679\\\\\n",
       "\t 1973 & 668,909,022 & 668909022\\\\\n",
       "\t 1974 & 672,912,941 & 672912941\\\\\n",
       "\t 1975 & 676,770,845 & 676770845\\\\\n",
       "\t 1976 & 680,361,150 & 680361150\\\\\n",
       "\t 1977 & 683,848,710 & 683848710\\\\\n",
       "\t 1978 & 687,149,553 & 687149553\\\\\n",
       "\t 1979 & 690,287,705 & 690287705\\\\\n",
       "\t ⋮ & ⋮ & ⋮\\\\\n",
       "\t 1992 & 725,259,493 & 725259493\\\\\n",
       "\t 1993 & 726,441,892 & 726441892\\\\\n",
       "\t 1994 & 727,063,162 & 727063162\\\\\n",
       "\t 1995 & 727,300,408 & 727300408\\\\\n",
       "\t 1996 & 727,453,566 & 727453566\\\\\n",
       "\t 1997 & 727,566,480 & 727566480\\\\\n",
       "\t 1998 & 727,445,606 & 727445606\\\\\n",
       "\t 1999 & 727,100,016 & 727100016\\\\\n",
       "\t 2000 & 726,968,473 & 726968473\\\\\n",
       "\t 2001 & 726,878,371 & 726878371\\\\\n",
       "\t 2002 & 726,939,358 & 726939358\\\\\n",
       "\t 2003 & 727,424,988 & 727424988\\\\\n",
       "\t 2004 & 728,163,243 & 728163243\\\\\n",
       "\t 2005 & 728,950,486 & 728950486\\\\\n",
       "\t 2006 & 729,857,708 & 729857708\\\\\n",
       "\t 2007 & 731,393,136 & 731393136\\\\\n",
       "\t 2008 & 733,256,182 & 733256182\\\\\n",
       "\t 2009 & 734,902,805 & 734902805\\\\\n",
       "\t 2010 & 736,276,813 & 736276813\\\\\n",
       "\t 2011 & 737,589,666 & 737589666\\\\\n",
       "\t 2012 & 738,907,594 & 738907594\\\\\n",
       "\t 2013 & 740,013,806 & 740013806\\\\\n",
       "\t 2014 & 741,014,147 & 741014147\\\\\n",
       "\t 2015 & 742,107,449 & 742107449\\\\\n",
       "\t 2016 & 743,318,582 & 743318582\\\\\n",
       "\t 2017 & 744,449,361 & 744449361\\\\\n",
       "\t 2018 & 745,359,130 & 745359130\\\\\n",
       "\t 2019 & 746,189,645 & 746189645\\\\\n",
       "\t 2020 & 746,225,356 & 746225356\\\\\n",
       "\t 2021 & 745,173,774 & 745173774\\\\\n",
       "\\end{tabular}\n"
      ],
      "text/markdown": [
       "\n",
       "A tibble: 72 × 3\n",
       "\n",
       "| Year &lt;int&gt; | Averagepopulation &lt;chr&gt; | avg_pop &lt;dbl&gt; |\n",
       "|---|---|---|\n",
       "| 1950 | 549,721,718 | 549721718 |\n",
       "| 1951 | 554,559,502 | 554559502 |\n",
       "| 1952 | 559,609,904 | 559609904 |\n",
       "| 1953 | 565,058,633 | 565058633 |\n",
       "| 1954 | 570,670,994 | 570670994 |\n",
       "| 1955 | 576,304,974 | 576304974 |\n",
       "| 1956 | 581,975,516 | 581975516 |\n",
       "| 1957 | 587,711,635 | 587711635 |\n",
       "| 1958 | 593,669,297 | 593669297 |\n",
       "| 1959 | 599,684,870 | 599684870 |\n",
       "| 1960 | 605,629,870 | 605629870 |\n",
       "| 1961 | 611,711,020 | 611711020 |\n",
       "| 1962 | 617,672,206 | 617672206 |\n",
       "| 1963 | 623,335,994 | 623335994 |\n",
       "| 1964 | 628,944,878 | 628944878 |\n",
       "| 1965 | 634,267,606 | 634267606 |\n",
       "| 1966 | 639,264,461 | 639264461 |\n",
       "| 1967 | 644,114,436 | 644114436 |\n",
       "| 1968 | 648,610,191 | 648610191 |\n",
       "| 1969 | 652,740,596 | 652740596 |\n",
       "| 1970 | 656,521,426 | 656521426 |\n",
       "| 1971 | 660,476,010 | 660476010 |\n",
       "| 1972 | 664,799,679 | 664799679 |\n",
       "| 1973 | 668,909,022 | 668909022 |\n",
       "| 1974 | 672,912,941 | 672912941 |\n",
       "| 1975 | 676,770,845 | 676770845 |\n",
       "| 1976 | 680,361,150 | 680361150 |\n",
       "| 1977 | 683,848,710 | 683848710 |\n",
       "| 1978 | 687,149,553 | 687149553 |\n",
       "| 1979 | 690,287,705 | 690287705 |\n",
       "| ⋮ | ⋮ | ⋮ |\n",
       "| 1992 | 725,259,493 | 725259493 |\n",
       "| 1993 | 726,441,892 | 726441892 |\n",
       "| 1994 | 727,063,162 | 727063162 |\n",
       "| 1995 | 727,300,408 | 727300408 |\n",
       "| 1996 | 727,453,566 | 727453566 |\n",
       "| 1997 | 727,566,480 | 727566480 |\n",
       "| 1998 | 727,445,606 | 727445606 |\n",
       "| 1999 | 727,100,016 | 727100016 |\n",
       "| 2000 | 726,968,473 | 726968473 |\n",
       "| 2001 | 726,878,371 | 726878371 |\n",
       "| 2002 | 726,939,358 | 726939358 |\n",
       "| 2003 | 727,424,988 | 727424988 |\n",
       "| 2004 | 728,163,243 | 728163243 |\n",
       "| 2005 | 728,950,486 | 728950486 |\n",
       "| 2006 | 729,857,708 | 729857708 |\n",
       "| 2007 | 731,393,136 | 731393136 |\n",
       "| 2008 | 733,256,182 | 733256182 |\n",
       "| 2009 | 734,902,805 | 734902805 |\n",
       "| 2010 | 736,276,813 | 736276813 |\n",
       "| 2011 | 737,589,666 | 737589666 |\n",
       "| 2012 | 738,907,594 | 738907594 |\n",
       "| 2013 | 740,013,806 | 740013806 |\n",
       "| 2014 | 741,014,147 | 741014147 |\n",
       "| 2015 | 742,107,449 | 742107449 |\n",
       "| 2016 | 743,318,582 | 743318582 |\n",
       "| 2017 | 744,449,361 | 744449361 |\n",
       "| 2018 | 745,359,130 | 745359130 |\n",
       "| 2019 | 746,189,645 | 746189645 |\n",
       "| 2020 | 746,225,356 | 746225356 |\n",
       "| 2021 | 745,173,774 | 745173774 |\n",
       "\n"
      ],
      "text/plain": [
       "   Year Averagepopulation avg_pop  \n",
       "1  1950 549,721,718       549721718\n",
       "2  1951 554,559,502       554559502\n",
       "3  1952 559,609,904       559609904\n",
       "4  1953 565,058,633       565058633\n",
       "5  1954 570,670,994       570670994\n",
       "6  1955 576,304,974       576304974\n",
       "7  1956 581,975,516       581975516\n",
       "8  1957 587,711,635       587711635\n",
       "9  1958 593,669,297       593669297\n",
       "10 1959 599,684,870       599684870\n",
       "11 1960 605,629,870       605629870\n",
       "12 1961 611,711,020       611711020\n",
       "13 1962 617,672,206       617672206\n",
       "14 1963 623,335,994       623335994\n",
       "15 1964 628,944,878       628944878\n",
       "16 1965 634,267,606       634267606\n",
       "17 1966 639,264,461       639264461\n",
       "18 1967 644,114,436       644114436\n",
       "19 1968 648,610,191       648610191\n",
       "20 1969 652,740,596       652740596\n",
       "21 1970 656,521,426       656521426\n",
       "22 1971 660,476,010       660476010\n",
       "23 1972 664,799,679       664799679\n",
       "24 1973 668,909,022       668909022\n",
       "25 1974 672,912,941       672912941\n",
       "26 1975 676,770,845       676770845\n",
       "27 1976 680,361,150       680361150\n",
       "28 1977 683,848,710       683848710\n",
       "29 1978 687,149,553       687149553\n",
       "30 1979 690,287,705       690287705\n",
       "⋮  ⋮    ⋮                 ⋮        \n",
       "43 1992 725,259,493       725259493\n",
       "44 1993 726,441,892       726441892\n",
       "45 1994 727,063,162       727063162\n",
       "46 1995 727,300,408       727300408\n",
       "47 1996 727,453,566       727453566\n",
       "48 1997 727,566,480       727566480\n",
       "49 1998 727,445,606       727445606\n",
       "50 1999 727,100,016       727100016\n",
       "51 2000 726,968,473       726968473\n",
       "52 2001 726,878,371       726878371\n",
       "53 2002 726,939,358       726939358\n",
       "54 2003 727,424,988       727424988\n",
       "55 2004 728,163,243       728163243\n",
       "56 2005 728,950,486       728950486\n",
       "57 2006 729,857,708       729857708\n",
       "58 2007 731,393,136       731393136\n",
       "59 2008 733,256,182       733256182\n",
       "60 2009 734,902,805       734902805\n",
       "61 2010 736,276,813       736276813\n",
       "62 2011 737,589,666       737589666\n",
       "63 2012 738,907,594       738907594\n",
       "64 2013 740,013,806       740013806\n",
       "65 2014 741,014,147       741014147\n",
       "66 2015 742,107,449       742107449\n",
       "67 2016 743,318,582       743318582\n",
       "68 2017 744,449,361       744449361\n",
       "69 2018 745,359,130       745359130\n",
       "70 2019 746,189,645       746189645\n",
       "71 2020 746,225,356       746225356\n",
       "72 2021 745,173,774       745173774"
      ]
     },
     "metadata": {},
     "output_type": "display_data"
    }
   ],
   "source": [
    "wiki_tables <- europop %>% html_elements(\"table.wikitable.sortable\") %>% html_table\n",
    "wiki_tables[[3]] %>% select(1:2) %>% slice(-1) %>% \n",
    "    mutate(Year = as.integer(Year), avg_pop = parse_number(Averagepopulation)) "
   ]
  },
  {
   "cell_type": "markdown",
   "metadata": {
    "slideshow": {
     "slide_type": "notes"
    }
   },
   "source": [
    "How can we find the correct one? One option is to use our browser to find something that uniquely identifies the table that we want. Alternatively, since there are only about 17, we can just at each table until we find the one we want:"
   ]
  },
  {
   "cell_type": "code",
   "execution_count": 46,
   "metadata": {
    "slideshow": {
     "slide_type": "slide"
    }
   },
   "outputs": [],
   "source": [
    "# find the table that contains the population for each country"
   ]
  },
  {
   "cell_type": "markdown",
   "metadata": {
    "slideshow": {
     "slide_type": "slide"
    }
   },
   "source": [
    "## 🤔 Quiz\n",
    "\n",
    "What's the average population density ($\\text{persons}/\\text{km}^2$) for countries in Europe?\n",
    "\n",
    "<ol style=\"list-style-type: upper-alpha;\">\n",
    "    <li>1234.5</li>\n",
    "    <li>20000.0</li>\n",
    "    <li>611.8</li>\n",
    "    <li>6520.5</li>\n",
    "    <li>101.1</li>\n",
    "</ol>\n",
    "\n"
   ]
  },
  {
   "cell_type": "code",
   "execution_count": 306,
   "metadata": {
    "slideshow": {
     "slide_type": "slide"
    }
   },
   "outputs": [
    {
     "data": {
      "text/html": [
       "<table class=\"dataframe\">\n",
       "<caption>A tibble: 1 × 1</caption>\n",
       "<thead>\n",
       "\t<tr><th scope=col>mean(dens)</th></tr>\n",
       "\t<tr><th scope=col>&lt;dbl&gt;</th></tr>\n",
       "</thead>\n",
       "<tbody>\n",
       "\t<tr><td>611.819</td></tr>\n",
       "</tbody>\n",
       "</table>\n"
      ],
      "text/latex": [
       "A tibble: 1 × 1\n",
       "\\begin{tabular}{l}\n",
       " mean(dens)\\\\\n",
       " <dbl>\\\\\n",
       "\\hline\n",
       "\t 611.819\\\\\n",
       "\\end{tabular}\n"
      ],
      "text/markdown": [
       "\n",
       "A tibble: 1 × 1\n",
       "\n",
       "| mean(dens) &lt;dbl&gt; |\n",
       "|---|\n",
       "| 611.819 |\n",
       "\n"
      ],
      "text/plain": [
       "  mean(dens)\n",
       "1 611.819   "
      ]
     },
     "metadata": {},
     "output_type": "display_data"
    }
   ],
   "source": [
    "wiki_tables <- europop %>% html_elements(\"table.wikitable.sortable\") %>% html_table\n",
    "wiki_tables[[4]] %>% select(dens=4) %>% mutate(dens=parse_number(dens)) %>% summarize(mean(dens))"
   ]
  },
  {
   "cell_type": "markdown",
   "metadata": {
    "slideshow": {
     "slide_type": "slide"
    }
   },
   "source": [
    "## 🤔 Quiz\n",
    "\n",
    "Use the same page Wikipedia page (Demographics of Europe) to answer the following question:\n",
    "\n",
    "On average, how many people were born *each day* in Europe between 2010 and 2021 (inclusive)?\n",
    "\n",
    "<ol style=\"list-style-type: upper-alpha;\">\n",
    "    <li>90210.10</li>\n",
    "    <li>23043.97</li>\n",
    "    <li>7710127</li>\n",
    "    <li>21123.64</li>\n",
    "    <li>21109.18</li>\n",
    "</ol>\n",
    "\n"
   ]
  },
  {
   "cell_type": "code",
   "execution_count": 326,
   "metadata": {
    "slideshow": {
     "slide_type": "slide"
    }
   },
   "outputs": [
    {
     "data": {
      "text/plain": [
       "Time difference of -4383 days"
      ]
     },
     "metadata": {},
     "output_type": "display_data"
    }
   ],
   "source": [
    "# wiki_tables[[3]] %>% select(c(1,3)) %>% slice(-1) %>% mutate_all(parse_number) %>% filter(Year >= 2010) %>% \n",
    "#     summarize(b = sum(`Live births`) / (365 * (n() - 3) + 366 * 3))\n",
    "\n",
    "library(lubridate)\n",
    "# lubridate::make_date\n",
    "difftime(make_date(2010, 1, 1), make_date(2022, 1, 1), \"days\")\n",
    "\n",
    "# 365 * 9 + 366 * 3\n"
   ]
  },
  {
   "cell_type": "code",
   "execution_count": 171,
   "metadata": {
    "slideshow": {
     "slide_type": "slide"
    }
   },
   "outputs": [],
   "source": [
    "# number of days in 2010--2021"
   ]
  },
  {
   "cell_type": "markdown",
   "metadata": {
    "slideshow": {
     "slide_type": "slide"
    }
   },
   "source": [
    "## The Simpsons\n",
    "\n",
    "The Simpsons is a popular and long-running TV show. How many people still watch the Simpsons? What is their most popular episode?"
   ]
  },
  {
   "cell_type": "code",
   "execution_count": 211,
   "metadata": {},
   "outputs": [],
   "source": [
    "simpsons <- read_html('https://en.wikipedia.org/wiki/List_of_The_Simpsons_episodes_(season_21–present)')"
   ]
  },
  {
   "cell_type": "code",
   "execution_count": 353,
   "metadata": {
    "slideshow": {
     "slide_type": "slide"
    }
   },
   "outputs": [
    {
     "name": "stderr",
     "output_type": "stream",
     "text": [
      "Warning message:\n",
      "“\u001b[1m\u001b[22mThere was 1 warning in `mutate()`.\n",
      "\u001b[1m\u001b[22m\u001b[36mℹ\u001b[39m In argument: `viewers = parse_number(viewers)`.\n",
      "Caused by warning:\n",
      "\u001b[33m!\u001b[39m 10 parsing failures.\n",
      "row col expected actual\n",
      "297  -- a number    TBD\n",
      "298  -- a number    TBD\n",
      "299  -- a number    TBD\n",
      "300  -- a number    TBD\n",
      "301  -- a number    TBD\n",
      "... ... ........ ......\n",
      "See problems(...) for more details.”\n",
      "Warning message:\n",
      "“\u001b[1m\u001b[22mRemoved 10 rows containing missing values (`position_stack()`).”\n"
     ]
    },
    {
     "data": {
      "image/png": "[encoded data removed]",
      "text/plain": [
       "plot without title"
      ]
     },
     "metadata": {
      "image/png": {
       "height": 420,
       "width": 420
      }
     },
     "output_type": "display_data"
    }
   ],
   "source": [
    "# parse simpsons\n",
    "simpsons %>% html_elements(\"table.wikiepisodetable\") %>% html_table %>% .[-6] %>% bind_rows %>% \n",
    "    select(Title, viewers=8) %>% mutate(viewers = parse_number(viewers), n = row_number()) %>% \n",
    "    ggplot(aes(x=n, y=viewers)) + geom_col()"
   ]
  },
  {
   "cell_type": "markdown",
   "metadata": {
    "slideshow": {
     "slide_type": "slide"
    }
   },
   "source": [
    "## 🤔 Quiz\n",
    "\n",
    "The episode with the largest number of viewers was **Once Upon a Time in Springfield**. Which episode of the Simpsons had the **smallest** number of viewers?\n",
    "\n",
    "\n",
    "<ol style=\"list-style-type: upper-alpha;\">\n",
    "    <li>My Octopus and a Teacher</li>\n",
    "    <li>Treehouse of Horror XXI</li>\n",
    "    <li>Marge the Meanie</li>\n",
    "    <li>The D'oh-cial Network</li>\n",
    "    <li>The Devil Wears Nada</li>\n",
    "</ol>\n",
    "\n"
   ]
  },
  {
   "cell_type": "code",
   "execution_count": 249,
   "metadata": {
    "slideshow": {
     "slide_type": "slide"
    }
   },
   "outputs": [],
   "source": [
    "# smallest number of viewers"
   ]
  },
  {
   "cell_type": "markdown",
   "metadata": {
    "slideshow": {
     "slide_type": "slide"
    }
   },
   "source": [
    "## IMDB top movies\n",
    "\n",
    "Let's consider a well-known table: the [top 250 movies on IMDB](https://www.imdb.com/chart/top/)."
   ]
  },
  {
   "cell_type": "code",
   "execution_count": 354,
   "metadata": {
    "slideshow": {
     "slide_type": "-"
    }
   },
   "outputs": [],
   "source": [
    "imdb.250 <- read_html(\"https://www.imdb.com/chart/top/\")"
   ]
  },
  {
   "cell_type": "code",
   "execution_count": 383,
   "metadata": {
    "slideshow": {
     "slide_type": "slide"
    }
   },
   "outputs": [
    {
     "data": {
      "text/html": [
       "<table class=\"dataframe\">\n",
       "<caption>A tibble: 11 × 6</caption>\n",
       "<thead>\n",
       "\t<tr><th scope=col>title</th><th scope=col>year</th><th scope=col>rating</th><th scope=col>top_rating</th><th scope=col>king</th><th scope=col>delta</th></tr>\n",
       "\t<tr><th scope=col>&lt;chr&gt;</th><th scope=col>&lt;dbl&gt;</th><th scope=col>&lt;dbl&gt;</th><th scope=col>&lt;dbl&gt;</th><th scope=col>&lt;lgl&gt;</th><th scope=col>&lt;dbl&gt;</th></tr>\n",
       "</thead>\n",
       "<tbody>\n",
       "\t<tr><td>\n",
       "      The Kid\n",
       "                         </td><td>1921</td><td>8.2</td><td>8.2</td><td>TRUE</td><td> 6</td></tr>\n",
       "\t<tr><td>\n",
       "      Metropolis\n",
       "                      </td><td>1927</td><td>8.2</td><td>8.2</td><td>TRUE</td><td> 4</td></tr>\n",
       "\t<tr><td>\n",
       "      City Lights\n",
       "                     </td><td>1931</td><td>8.4</td><td>8.4</td><td>TRUE</td><td> 5</td></tr>\n",
       "\t<tr><td>\n",
       "      Modern Times\n",
       "                    </td><td>1936</td><td>8.4</td><td>8.4</td><td>TRUE</td><td> 4</td></tr>\n",
       "\t<tr><td>\n",
       "      The Great Dictator\n",
       "              </td><td>1940</td><td>8.4</td><td>8.4</td><td>TRUE</td><td> 2</td></tr>\n",
       "\t<tr><td>\n",
       "      Casablanca\n",
       "                      </td><td>1942</td><td>8.5</td><td>8.5</td><td>TRUE</td><td> 4</td></tr>\n",
       "\t<tr><td>\n",
       "      It's a Wonderful Life\n",
       "           </td><td>1946</td><td>8.6</td><td>8.6</td><td>TRUE</td><td> 8</td></tr>\n",
       "\t<tr><td>\n",
       "      Seven Samurai\n",
       "                   </td><td>1954</td><td>8.6</td><td>8.6</td><td>TRUE</td><td> 3</td></tr>\n",
       "\t<tr><td>\n",
       "      12 Angry Men\n",
       "                    </td><td>1957</td><td>9.0</td><td>9.0</td><td>TRUE</td><td>15</td></tr>\n",
       "\t<tr><td>\n",
       "      The Godfather\n",
       "                   </td><td>1972</td><td>9.2</td><td>9.2</td><td>TRUE</td><td>22</td></tr>\n",
       "\t<tr><td>\n",
       "      The Shawshank Redemption\n",
       "        </td><td>1994</td><td>9.2</td><td>9.2</td><td>TRUE</td><td>NA</td></tr>\n",
       "</tbody>\n",
       "</table>\n"
      ],
      "text/latex": [
       "A tibble: 11 × 6\n",
       "\\begin{tabular}{llllll}\n",
       " title & year & rating & top\\_rating & king & delta\\\\\n",
       " <chr> & <dbl> & <dbl> & <dbl> & <lgl> & <dbl>\\\\\n",
       "\\hline\n",
       "\t \n",
       "      The Kid\n",
       "                          & 1921 & 8.2 & 8.2 & TRUE &  6\\\\\n",
       "\t \n",
       "      Metropolis\n",
       "                       & 1927 & 8.2 & 8.2 & TRUE &  4\\\\\n",
       "\t \n",
       "      City Lights\n",
       "                      & 1931 & 8.4 & 8.4 & TRUE &  5\\\\\n",
       "\t \n",
       "      Modern Times\n",
       "                     & 1936 & 8.4 & 8.4 & TRUE &  4\\\\\n",
       "\t \n",
       "      The Great Dictator\n",
       "               & 1940 & 8.4 & 8.4 & TRUE &  2\\\\\n",
       "\t \n",
       "      Casablanca\n",
       "                       & 1942 & 8.5 & 8.5 & TRUE &  4\\\\\n",
       "\t \n",
       "      It's a Wonderful Life\n",
       "            & 1946 & 8.6 & 8.6 & TRUE &  8\\\\\n",
       "\t \n",
       "      Seven Samurai\n",
       "                    & 1954 & 8.6 & 8.6 & TRUE &  3\\\\\n",
       "\t \n",
       "      12 Angry Men\n",
       "                     & 1957 & 9.0 & 9.0 & TRUE & 15\\\\\n",
       "\t \n",
       "      The Godfather\n",
       "                    & 1972 & 9.2 & 9.2 & TRUE & 22\\\\\n",
       "\t \n",
       "      The Shawshank Redemption\n",
       "         & 1994 & 9.2 & 9.2 & TRUE & NA\\\\\n",
       "\\end{tabular}\n"
      ],
      "text/markdown": [
       "\n",
       "A tibble: 11 × 6\n",
       "\n",
       "| title &lt;chr&gt; | year &lt;dbl&gt; | rating &lt;dbl&gt; | top_rating &lt;dbl&gt; | king &lt;lgl&gt; | delta &lt;dbl&gt; |\n",
       "|---|---|---|---|---|---|\n",
       "| \n",
       "      The Kid\n",
       "                          | 1921 | 8.2 | 8.2 | TRUE |  6 |\n",
       "| \n",
       "      Metropolis\n",
       "                       | 1927 | 8.2 | 8.2 | TRUE |  4 |\n",
       "| \n",
       "      City Lights\n",
       "                      | 1931 | 8.4 | 8.4 | TRUE |  5 |\n",
       "| \n",
       "      Modern Times\n",
       "                     | 1936 | 8.4 | 8.4 | TRUE |  4 |\n",
       "| \n",
       "      The Great Dictator\n",
       "               | 1940 | 8.4 | 8.4 | TRUE |  2 |\n",
       "| \n",
       "      Casablanca\n",
       "                       | 1942 | 8.5 | 8.5 | TRUE |  4 |\n",
       "| \n",
       "      It's a Wonderful Life\n",
       "            | 1946 | 8.6 | 8.6 | TRUE |  8 |\n",
       "| \n",
       "      Seven Samurai\n",
       "                    | 1954 | 8.6 | 8.6 | TRUE |  3 |\n",
       "| \n",
       "      12 Angry Men\n",
       "                     | 1957 | 9.0 | 9.0 | TRUE | 15 |\n",
       "| \n",
       "      The Godfather\n",
       "                    | 1972 | 9.2 | 9.2 | TRUE | 22 |\n",
       "| \n",
       "      The Shawshank Redemption\n",
       "         | 1994 | 9.2 | 9.2 | TRUE | NA |\n",
       "\n"
      ],
      "text/plain": [
       "   title                                      year rating top_rating king delta\n",
       "1  \\n      The Kid\\n                          1921 8.2    8.2        TRUE  6   \n",
       "2  \\n      Metropolis\\n                       1927 8.2    8.2        TRUE  4   \n",
       "3  \\n      City Lights\\n                      1931 8.4    8.4        TRUE  5   \n",
       "4  \\n      Modern Times\\n                     1936 8.4    8.4        TRUE  4   \n",
       "5  \\n      The Great Dictator\\n               1940 8.4    8.4        TRUE  2   \n",
       "6  \\n      Casablanca\\n                       1942 8.5    8.5        TRUE  4   \n",
       "7  \\n      It's a Wonderful Life\\n            1946 8.6    8.6        TRUE  8   \n",
       "8  \\n      Seven Samurai\\n                    1954 8.6    8.6        TRUE  3   \n",
       "9  \\n      12 Angry Men\\n                     1957 9.0    9.0        TRUE 15   \n",
       "10 \\n      The Godfather\\n                    1972 9.2    9.2        TRUE 22   \n",
       "11 \\n      The Shawshank Redemption\\n         1994 9.2    9.2        TRUE NA   "
      ]
     },
     "metadata": {},
     "output_type": "display_data"
    }
   ],
   "source": [
    "# parse imdb\n",
    "imdbf %>% arrange(year) %>% mutate(top_rating = cummax(rating), king = rating == top_rating) %>% \n",
    "    filter(king) %>% mutate(delta = lead(year) - year)\n"
   ]
  },
  {
   "cell_type": "markdown",
   "metadata": {
    "slideshow": {
     "slide_type": "slide"
    }
   },
   "source": [
    "## Exercise\n",
    "\n",
    "\"The Kid\" came out in 1921 and has a rating of 8.2. Another movie that was rated at least as high didn't come out until 1927 (Metropolis), so we could say that The Kid reigned as the #1 film for six years. Metropolis reigned for four years until City Lights (rating 8.4) came out.\n",
    "\n",
    "Which film reigned for the longest amount of time?"
   ]
  },
  {
   "cell_type": "code",
   "execution_count": null,
   "metadata": {
    "slideshow": {
     "slide_type": "slide"
    }
   },
   "outputs": [],
   "source": [
    "# longest reign"
   ]
  },
  {
   "cell_type": "markdown",
   "metadata": {
    "slideshow": {
     "slide_type": "slide"
    }
   },
   "source": [
    "## Super Bowl TV ratings\n",
    "We just had the Super Bowl. How have the TV ratings for the Super Bowl changed over the years?"
   ]
  },
  {
   "cell_type": "code",
   "execution_count": 126,
   "metadata": {},
   "outputs": [],
   "source": [
    "sbtv <- read_html('https://en.wikipedia.org/wiki/Super_Bowl_television_ratings') %>% html_elements('table') %>% .[[1]] %>% html_table"
   ]
  },
  {
   "cell_type": "code",
   "execution_count": 138,
   "metadata": {},
   "outputs": [],
   "source": [
    "# viewers over time"
   ]
  },
  {
   "cell_type": "markdown",
   "metadata": {
    "slideshow": {
     "slide_type": "slide"
    }
   },
   "source": [
    "How does this compare with other major sports?\n",
    "\n",
    "- https://en.wikipedia.org/wiki/World_Series_television_ratings\n",
    "- https://en.wikipedia.org/wiki/NBA_Finals_television_ratings"
   ]
  },
  {
   "cell_type": "code",
   "execution_count": null,
   "metadata": {
    "slideshow": {
     "slide_type": "slide"
    }
   },
   "outputs": [],
   "source": [
    "# super bowl vs world series"
   ]
  },
  {
   "cell_type": "markdown",
   "metadata": {
    "slideshow": {
     "slide_type": "notes"
    }
   },
   "source": [
    "## Scraping other types of web data\n",
    "\n",
    "Here are some examples of other types of web data we can scrape:"
   ]
  },
  {
   "cell_type": "markdown",
   "metadata": {
    "slideshow": {
     "slide_type": "slide"
    }
   },
   "source": [
    "### The UofM Stats department\n",
    "Let's say I wanted to make a table of all the [undergraduate stats courses](https://lsa.umich.edu/stats/undergraduate-students/statistics-courses.html) offered by the department. "
   ]
  },
  {
   "cell_type": "code",
   "execution_count": 148,
   "metadata": {},
   "outputs": [],
   "source": [
    "stats <- read_html('https://lsa.umich.edu/stats/undergraduate-students/statistics-courses.html')"
   ]
  },
  {
   "cell_type": "markdown",
   "metadata": {
    "slideshow": {
     "slide_type": "notes"
    }
   },
   "source": [
    "How should we extract the data from this web page? We notice from inspecting the page that each course title is a `<b>` (bold) element:"
   ]
  },
  {
   "cell_type": "code",
   "execution_count": 161,
   "metadata": {},
   "outputs": [],
   "source": [
    "# extract statistics courses"
   ]
  },
  {
   "cell_type": "markdown",
   "metadata": {
    "slideshow": {
     "slide_type": "slide"
    }
   },
   "source": [
    "### Reddit\n",
    "Let's see how to scrape the [UofM Reddit site](https://old.reddit.com/r/uofm):"
   ]
  },
  {
   "cell_type": "code",
   "execution_count": 162,
   "metadata": {},
   "outputs": [],
   "source": [
    "top.reddit <- read_html('https://old.reddit.com/r/uofm/top/?sort=top&t=all')"
   ]
  },
  {
   "cell_type": "markdown",
   "metadata": {
    "slideshow": {
     "slide_type": "slide"
    }
   },
   "source": [
    "Let's plot the top scoring posts, when they were posted, and how many votes they have received."
   ]
  },
  {
   "cell_type": "code",
   "execution_count": 121,
   "metadata": {},
   "outputs": [],
   "source": [
    "# top posts on r/uofm"
   ]
  }
 ],
 "metadata": {
  "celltoolbar": "Slideshow",
  "kernelspec": {
   "display_name": "R",
   "language": "R",
   "name": "ir"
  },
  "language_info": {
   "codemirror_mode": "r",
   "file_extension": ".r",
   "mimetype": "text/x-r-source",
   "name": "R",
   "pygments_lexer": "r",
   "version": "4.2.1"
  }
 },
 "nbformat": 4,
 "nbformat_minor": 2
}
