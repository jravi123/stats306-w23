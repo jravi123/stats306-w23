{
  "cells": [
    {
      "cell_type": "code",
      "execution_count": 1,
      "metadata": {
        "scrolled": true,
        "colab": {
          "base_uri": "https://localhost:8080/"
        },
        "id": "DZcT1CcOcIIM",
        "outputId": "dbb738ef-f0bb-4670-8ffb-c6661b8d1bd8"
      },
      "outputs": [
        {
          "output_type": "stream",
          "name": "stderr",
          "text": [
            "Warning message in system(\"timedatectl\", intern = TRUE):\n",
            "“running command 'timedatectl' had status 1”\n",
            "── \u001b[1mAttaching packages\u001b[22m ─────────────────────────────────────── tidyverse 1.3.1 ──\n",
            "\n",
            "\u001b[32m✔\u001b[39m \u001b[34mggplot2\u001b[39m 3.4.1     \u001b[32m✔\u001b[39m \u001b[34mpurrr  \u001b[39m 1.0.1\n",
            "\u001b[32m✔\u001b[39m \u001b[34mtibble \u001b[39m 3.1.8     \u001b[32m✔\u001b[39m \u001b[34mdplyr  \u001b[39m 1.1.0\n",
            "\u001b[32m✔\u001b[39m \u001b[34mtidyr  \u001b[39m 1.3.0     \u001b[32m✔\u001b[39m \u001b[34mstringr\u001b[39m 1.4.1\n",
            "\u001b[32m✔\u001b[39m \u001b[34mreadr  \u001b[39m 2.1.4     \u001b[32m✔\u001b[39m \u001b[34mforcats\u001b[39m 1.0.0\n",
            "\n",
            "── \u001b[1mConflicts\u001b[22m ────────────────────────────────────────── tidyverse_conflicts() ──\n",
            "\u001b[31m✖\u001b[39m \u001b[34mdplyr\u001b[39m::\u001b[32mfilter()\u001b[39m masks \u001b[34mstats\u001b[39m::filter()\n",
            "\u001b[31m✖\u001b[39m \u001b[34mdplyr\u001b[39m::\u001b[32mlag()\u001b[39m    masks \u001b[34mstats\u001b[39m::lag()\n",
            "\n",
            "\n",
            "Attaching package: ‘rvest’\n",
            "\n",
            "\n",
            "The following object is masked from ‘package:readr’:\n",
            "\n",
            "    guess_encoding\n",
            "\n",
            "\n"
          ]
        }
      ],
      "source": [
        "library(tidyverse)\n",
        "library(rvest)"
      ]
    },
    {
      "cell_type": "markdown",
      "metadata": {
        "id": "o-yN6ogkcIIU"
      },
      "source": [
        "# Lecture 11: Web scraping\n",
        "\n",
        "<div style=\"border: 1px double black; padding: 10px; margin: 10px\">\n",
        "\n",
        "**After today's lecture you will:**\n",
        "* Understand how to import data from online sources by scraping web pages.\n",
        "</div>\n",
        "\n",
        "These notes correspond to Chapter 26 of your book.\n"
      ]
    },
    {
      "cell_type": "markdown",
      "metadata": {
        "id": "y0JSUSsucIIY"
      },
      "source": [
        "## Ethics of scraping data online\n",
        "You should carefully read [Section 26.2](https://r4ds.hadley.nz/webscraping.html#scraping-ethics-and-legalities) of the book concerning various ethical and legal issues surrounding scraping web sites for data. In this class we will only look at large, public web sites like Wikipedia and IMDB, where there is no risk of anything bad happening. However, there are other situations where it may be unethical, or even illegal, to harvest data from a website, even if you are technically able. **As data scientists in the real world, it will be up to you to carefully weigh these concerns before using the tools discussed in today's lecture.**"
      ]
    },
    {
      "cell_type": "markdown",
      "metadata": {
        "id": "yKRP8wywcIIb"
      },
      "source": [
        "## Reading data from the Internet\n",
        "These days, it's increasingly common to pull data from online sources. For example, say I wanted to know the population of European countries. This is [easily found](https://en.wikipedia.org/wiki/Demographics_of_Europe#Population_by_country) on Wikipedia. How can I get these data into R and analyze them?"
      ]
    },
    {
      "cell_type": "markdown",
      "metadata": {
        "id": "f2cTZwnZcIIc"
      },
      "source": [
        "## How do web pages work?\n",
        "\n",
        "Web pages are written in a special language called HTML (**H**yper**t**ext **M**arkup **L**anguage). Here is a simple example of some HTML:\n",
        "\n",
        "    <html>\n",
        "    <head> \n",
        "      <title>Page title</title>\n",
        "    </head>\n",
        "    <body>\n",
        "      <h1 id='first'>A heading</h1>\n",
        "      <p>Some text &amp; <b>some bold text.</b></p>\n",
        "      <img src='myimg.png' width='100' height='100'>\n",
        "    </body>"
      ]
    },
    {
      "cell_type": "markdown",
      "metadata": {
        "id": "XLMsnRjEcIId"
      },
      "source": [
        "Web scraping is possible because most web pages have a consistent, hierarchical structure. For example, if I asked you how to navigate to the title of the web page shown above, you would follow the \"path\"\n",
        "\n",
        "    html > head > title\n",
        "    \n",
        "to arrive at \"Page title\"."
      ]
    },
    {
      "cell_type": "markdown",
      "metadata": {
        "id": "aTlSRHDJcIIe"
      },
      "source": [
        "## HTML elements\n",
        "\n",
        "There are a lot of HTML elements that might contain interesting information. Here are a few of the most common:\n",
        "- Block tags that denote sections of text: `<h1>` (heading), `<p>` (paragraph), `<ul>`/`<ol>` (un)ordered list, etc.\n",
        "- `<table>` (a table), `<tr>` (a table row), `<td>` (a table cell), etc.\n",
        "- Each of these elements can contain attributes such as `id=` or `class=`. For example, `<table id=\"movies\">` is probably a table that contains movie information."
      ]
    },
    {
      "cell_type": "markdown",
      "metadata": {
        "id": "gytle3WbcIIf"
      },
      "source": [
        "The `rvest` package is used to load a web page and extract elements and tables based on their HTML tags. Let's see how it works by scraping the Wikipedia page mentioned earlier:"
      ]
    },
    {
      "cell_type": "code",
      "execution_count": 3,
      "metadata": {
        "id": "OxPSvO_CcIIf"
      },
      "outputs": [],
      "source": [
        "library(rvest)\n",
        "europop <- read_html(\"http://en.wikipedia.org/wiki/Demographics_of_Europe#Population_by_country\")"
      ]
    },
    {
      "cell_type": "markdown",
      "metadata": {
        "id": "QTrSjMWScIIg"
      },
      "source": [
        "In this page there are many tables:"
      ]
    },
    {
      "cell_type": "code",
      "execution_count": null,
      "metadata": {
        "scrolled": true,
        "id": "G1Ad3oVQcIIg"
      },
      "outputs": [],
      "source": [
        "wiki_tables <- europop %>% html_elements(\"table.wikitable.sortable\") %>% html_table\n",
        "wiki_tables "
      ]
    },
    {
      "cell_type": "markdown",
      "source": [
        "We will get the third table, select the first two columns, slice off the first row using 'slice()' function and then convert the datatypes of the columns using\n",
        "* as.integer\n",
        "* parse_number"
      ],
      "metadata": {
        "id": "sWbDjjNGfATg"
      }
    },
    {
      "cell_type": "code",
      "source": [
        "#"
      ],
      "metadata": {
        "colab": {
          "base_uri": "https://localhost:8080/",
          "height": 1000
        },
        "id": "YKivRuN3f0gV",
        "outputId": "9e1b9746-de61-468b-d4af-a74365c8e1d2"
      },
      "execution_count": 40,
      "outputs": [
        {
          "output_type": "display_data",
          "data": {
            "text/html": [
              "<table class=\"dataframe\">\n",
              "<caption>A tibble: 72 × 3</caption>\n",
              "<thead>\n",
              "\t<tr><th scope=col>Year</th><th scope=col>Averagepopulation</th><th scope=col>avg_pop</th></tr>\n",
              "\t<tr><th scope=col>&lt;int&gt;</th><th scope=col>&lt;chr&gt;</th><th scope=col>&lt;dbl&gt;</th></tr>\n",
              "</thead>\n",
              "<tbody>\n",
              "\t<tr><td>1950</td><td>549,721,718</td><td>549721718</td></tr>\n",
              "\t<tr><td>1951</td><td>554,559,502</td><td>554559502</td></tr>\n",
              "\t<tr><td>1952</td><td>559,609,904</td><td>559609904</td></tr>\n",
              "\t<tr><td>1953</td><td>565,058,633</td><td>565058633</td></tr>\n",
              "\t<tr><td>1954</td><td>570,670,994</td><td>570670994</td></tr>\n",
              "\t<tr><td>1955</td><td>576,304,974</td><td>576304974</td></tr>\n",
              "\t<tr><td>1956</td><td>581,975,516</td><td>581975516</td></tr>\n",
              "\t<tr><td>1957</td><td>587,711,635</td><td>587711635</td></tr>\n",
              "\t<tr><td>1958</td><td>593,669,297</td><td>593669297</td></tr>\n",
              "\t<tr><td>1959</td><td>599,684,870</td><td>599684870</td></tr>\n",
              "\t<tr><td>1960</td><td>605,629,870</td><td>605629870</td></tr>\n",
              "\t<tr><td>1961</td><td>611,711,020</td><td>611711020</td></tr>\n",
              "\t<tr><td>1962</td><td>617,672,206</td><td>617672206</td></tr>\n",
              "\t<tr><td>1963</td><td>623,335,994</td><td>623335994</td></tr>\n",
              "\t<tr><td>1964</td><td>628,944,878</td><td>628944878</td></tr>\n",
              "\t<tr><td>1965</td><td>634,267,606</td><td>634267606</td></tr>\n",
              "\t<tr><td>1966</td><td>639,264,461</td><td>639264461</td></tr>\n",
              "\t<tr><td>1967</td><td>644,114,436</td><td>644114436</td></tr>\n",
              "\t<tr><td>1968</td><td>648,610,191</td><td>648610191</td></tr>\n",
              "\t<tr><td>1969</td><td>652,740,596</td><td>652740596</td></tr>\n",
              "\t<tr><td>1970</td><td>656,521,426</td><td>656521426</td></tr>\n",
              "\t<tr><td>1971</td><td>660,476,010</td><td>660476010</td></tr>\n",
              "\t<tr><td>1972</td><td>664,799,679</td><td>664799679</td></tr>\n",
              "\t<tr><td>1973</td><td>668,909,022</td><td>668909022</td></tr>\n",
              "\t<tr><td>1974</td><td>672,912,941</td><td>672912941</td></tr>\n",
              "\t<tr><td>1975</td><td>676,770,845</td><td>676770845</td></tr>\n",
              "\t<tr><td>1976</td><td>680,361,150</td><td>680361150</td></tr>\n",
              "\t<tr><td>1977</td><td>683,848,710</td><td>683848710</td></tr>\n",
              "\t<tr><td>1978</td><td>687,149,553</td><td>687149553</td></tr>\n",
              "\t<tr><td>1979</td><td>690,287,705</td><td>690287705</td></tr>\n",
              "\t<tr><td>⋮</td><td>⋮</td><td>⋮</td></tr>\n",
              "\t<tr><td>1992</td><td>725,259,493</td><td>725259493</td></tr>\n",
              "\t<tr><td>1993</td><td>726,441,892</td><td>726441892</td></tr>\n",
              "\t<tr><td>1994</td><td>727,063,162</td><td>727063162</td></tr>\n",
              "\t<tr><td>1995</td><td>727,300,408</td><td>727300408</td></tr>\n",
              "\t<tr><td>1996</td><td>727,453,566</td><td>727453566</td></tr>\n",
              "\t<tr><td>1997</td><td>727,566,480</td><td>727566480</td></tr>\n",
              "\t<tr><td>1998</td><td>727,445,606</td><td>727445606</td></tr>\n",
              "\t<tr><td>1999</td><td>727,100,016</td><td>727100016</td></tr>\n",
              "\t<tr><td>2000</td><td>726,968,473</td><td>726968473</td></tr>\n",
              "\t<tr><td>2001</td><td>726,878,371</td><td>726878371</td></tr>\n",
              "\t<tr><td>2002</td><td>726,939,358</td><td>726939358</td></tr>\n",
              "\t<tr><td>2003</td><td>727,424,988</td><td>727424988</td></tr>\n",
              "\t<tr><td>2004</td><td>728,163,243</td><td>728163243</td></tr>\n",
              "\t<tr><td>2005</td><td>728,950,486</td><td>728950486</td></tr>\n",
              "\t<tr><td>2006</td><td>729,857,708</td><td>729857708</td></tr>\n",
              "\t<tr><td>2007</td><td>731,393,136</td><td>731393136</td></tr>\n",
              "\t<tr><td>2008</td><td>733,256,182</td><td>733256182</td></tr>\n",
              "\t<tr><td>2009</td><td>734,902,805</td><td>734902805</td></tr>\n",
              "\t<tr><td>2010</td><td>736,276,813</td><td>736276813</td></tr>\n",
              "\t<tr><td>2011</td><td>737,589,666</td><td>737589666</td></tr>\n",
              "\t<tr><td>2012</td><td>738,907,594</td><td>738907594</td></tr>\n",
              "\t<tr><td>2013</td><td>740,013,806</td><td>740013806</td></tr>\n",
              "\t<tr><td>2014</td><td>741,014,147</td><td>741014147</td></tr>\n",
              "\t<tr><td>2015</td><td>742,107,449</td><td>742107449</td></tr>\n",
              "\t<tr><td>2016</td><td>743,318,582</td><td>743318582</td></tr>\n",
              "\t<tr><td>2017</td><td>744,449,361</td><td>744449361</td></tr>\n",
              "\t<tr><td>2018</td><td>745,359,130</td><td>745359130</td></tr>\n",
              "\t<tr><td>2019</td><td>746,189,645</td><td>746189645</td></tr>\n",
              "\t<tr><td>2020</td><td>746,225,356</td><td>746225356</td></tr>\n",
              "\t<tr><td>2021</td><td>745,173,774</td><td>745173774</td></tr>\n",
              "</tbody>\n",
              "</table>\n"
            ],
            "text/markdown": "\nA tibble: 72 × 3\n\n| Year &lt;int&gt; | Averagepopulation &lt;chr&gt; | avg_pop &lt;dbl&gt; |\n|---|---|---|\n| 1950 | 549,721,718 | 549721718 |\n| 1951 | 554,559,502 | 554559502 |\n| 1952 | 559,609,904 | 559609904 |\n| 1953 | 565,058,633 | 565058633 |\n| 1954 | 570,670,994 | 570670994 |\n| 1955 | 576,304,974 | 576304974 |\n| 1956 | 581,975,516 | 581975516 |\n| 1957 | 587,711,635 | 587711635 |\n| 1958 | 593,669,297 | 593669297 |\n| 1959 | 599,684,870 | 599684870 |\n| 1960 | 605,629,870 | 605629870 |\n| 1961 | 611,711,020 | 611711020 |\n| 1962 | 617,672,206 | 617672206 |\n| 1963 | 623,335,994 | 623335994 |\n| 1964 | 628,944,878 | 628944878 |\n| 1965 | 634,267,606 | 634267606 |\n| 1966 | 639,264,461 | 639264461 |\n| 1967 | 644,114,436 | 644114436 |\n| 1968 | 648,610,191 | 648610191 |\n| 1969 | 652,740,596 | 652740596 |\n| 1970 | 656,521,426 | 656521426 |\n| 1971 | 660,476,010 | 660476010 |\n| 1972 | 664,799,679 | 664799679 |\n| 1973 | 668,909,022 | 668909022 |\n| 1974 | 672,912,941 | 672912941 |\n| 1975 | 676,770,845 | 676770845 |\n| 1976 | 680,361,150 | 680361150 |\n| 1977 | 683,848,710 | 683848710 |\n| 1978 | 687,149,553 | 687149553 |\n| 1979 | 690,287,705 | 690287705 |\n| ⋮ | ⋮ | ⋮ |\n| 1992 | 725,259,493 | 725259493 |\n| 1993 | 726,441,892 | 726441892 |\n| 1994 | 727,063,162 | 727063162 |\n| 1995 | 727,300,408 | 727300408 |\n| 1996 | 727,453,566 | 727453566 |\n| 1997 | 727,566,480 | 727566480 |\n| 1998 | 727,445,606 | 727445606 |\n| 1999 | 727,100,016 | 727100016 |\n| 2000 | 726,968,473 | 726968473 |\n| 2001 | 726,878,371 | 726878371 |\n| 2002 | 726,939,358 | 726939358 |\n| 2003 | 727,424,988 | 727424988 |\n| 2004 | 728,163,243 | 728163243 |\n| 2005 | 728,950,486 | 728950486 |\n| 2006 | 729,857,708 | 729857708 |\n| 2007 | 731,393,136 | 731393136 |\n| 2008 | 733,256,182 | 733256182 |\n| 2009 | 734,902,805 | 734902805 |\n| 2010 | 736,276,813 | 736276813 |\n| 2011 | 737,589,666 | 737589666 |\n| 2012 | 738,907,594 | 738907594 |\n| 2013 | 740,013,806 | 740013806 |\n| 2014 | 741,014,147 | 741014147 |\n| 2015 | 742,107,449 | 742107449 |\n| 2016 | 743,318,582 | 743318582 |\n| 2017 | 744,449,361 | 744449361 |\n| 2018 | 745,359,130 | 745359130 |\n| 2019 | 746,189,645 | 746189645 |\n| 2020 | 746,225,356 | 746225356 |\n| 2021 | 745,173,774 | 745173774 |\n\n",
            "text/latex": "A tibble: 72 × 3\n\\begin{tabular}{lll}\n Year & Averagepopulation & avg\\_pop\\\\\n <int> & <chr> & <dbl>\\\\\n\\hline\n\t 1950 & 549,721,718 & 549721718\\\\\n\t 1951 & 554,559,502 & 554559502\\\\\n\t 1952 & 559,609,904 & 559609904\\\\\n\t 1953 & 565,058,633 & 565058633\\\\\n\t 1954 & 570,670,994 & 570670994\\\\\n\t 1955 & 576,304,974 & 576304974\\\\\n\t 1956 & 581,975,516 & 581975516\\\\\n\t 1957 & 587,711,635 & 587711635\\\\\n\t 1958 & 593,669,297 & 593669297\\\\\n\t 1959 & 599,684,870 & 599684870\\\\\n\t 1960 & 605,629,870 & 605629870\\\\\n\t 1961 & 611,711,020 & 611711020\\\\\n\t 1962 & 617,672,206 & 617672206\\\\\n\t 1963 & 623,335,994 & 623335994\\\\\n\t 1964 & 628,944,878 & 628944878\\\\\n\t 1965 & 634,267,606 & 634267606\\\\\n\t 1966 & 639,264,461 & 639264461\\\\\n\t 1967 & 644,114,436 & 644114436\\\\\n\t 1968 & 648,610,191 & 648610191\\\\\n\t 1969 & 652,740,596 & 652740596\\\\\n\t 1970 & 656,521,426 & 656521426\\\\\n\t 1971 & 660,476,010 & 660476010\\\\\n\t 1972 & 664,799,679 & 664799679\\\\\n\t 1973 & 668,909,022 & 668909022\\\\\n\t 1974 & 672,912,941 & 672912941\\\\\n\t 1975 & 676,770,845 & 676770845\\\\\n\t 1976 & 680,361,150 & 680361150\\\\\n\t 1977 & 683,848,710 & 683848710\\\\\n\t 1978 & 687,149,553 & 687149553\\\\\n\t 1979 & 690,287,705 & 690287705\\\\\n\t ⋮ & ⋮ & ⋮\\\\\n\t 1992 & 725,259,493 & 725259493\\\\\n\t 1993 & 726,441,892 & 726441892\\\\\n\t 1994 & 727,063,162 & 727063162\\\\\n\t 1995 & 727,300,408 & 727300408\\\\\n\t 1996 & 727,453,566 & 727453566\\\\\n\t 1997 & 727,566,480 & 727566480\\\\\n\t 1998 & 727,445,606 & 727445606\\\\\n\t 1999 & 727,100,016 & 727100016\\\\\n\t 2000 & 726,968,473 & 726968473\\\\\n\t 2001 & 726,878,371 & 726878371\\\\\n\t 2002 & 726,939,358 & 726939358\\\\\n\t 2003 & 727,424,988 & 727424988\\\\\n\t 2004 & 728,163,243 & 728163243\\\\\n\t 2005 & 728,950,486 & 728950486\\\\\n\t 2006 & 729,857,708 & 729857708\\\\\n\t 2007 & 731,393,136 & 731393136\\\\\n\t 2008 & 733,256,182 & 733256182\\\\\n\t 2009 & 734,902,805 & 734902805\\\\\n\t 2010 & 736,276,813 & 736276813\\\\\n\t 2011 & 737,589,666 & 737589666\\\\\n\t 2012 & 738,907,594 & 738907594\\\\\n\t 2013 & 740,013,806 & 740013806\\\\\n\t 2014 & 741,014,147 & 741014147\\\\\n\t 2015 & 742,107,449 & 742107449\\\\\n\t 2016 & 743,318,582 & 743318582\\\\\n\t 2017 & 744,449,361 & 744449361\\\\\n\t 2018 & 745,359,130 & 745359130\\\\\n\t 2019 & 746,189,645 & 746189645\\\\\n\t 2020 & 746,225,356 & 746225356\\\\\n\t 2021 & 745,173,774 & 745173774\\\\\n\\end{tabular}\n",
            "text/plain": [
              "   Year Averagepopulation avg_pop  \n",
              "1  1950 549,721,718       549721718\n",
              "2  1951 554,559,502       554559502\n",
              "3  1952 559,609,904       559609904\n",
              "4  1953 565,058,633       565058633\n",
              "5  1954 570,670,994       570670994\n",
              "6  1955 576,304,974       576304974\n",
              "7  1956 581,975,516       581975516\n",
              "8  1957 587,711,635       587711635\n",
              "9  1958 593,669,297       593669297\n",
              "10 1959 599,684,870       599684870\n",
              "11 1960 605,629,870       605629870\n",
              "12 1961 611,711,020       611711020\n",
              "13 1962 617,672,206       617672206\n",
              "14 1963 623,335,994       623335994\n",
              "15 1964 628,944,878       628944878\n",
              "16 1965 634,267,606       634267606\n",
              "17 1966 639,264,461       639264461\n",
              "18 1967 644,114,436       644114436\n",
              "19 1968 648,610,191       648610191\n",
              "20 1969 652,740,596       652740596\n",
              "21 1970 656,521,426       656521426\n",
              "22 1971 660,476,010       660476010\n",
              "23 1972 664,799,679       664799679\n",
              "24 1973 668,909,022       668909022\n",
              "25 1974 672,912,941       672912941\n",
              "26 1975 676,770,845       676770845\n",
              "27 1976 680,361,150       680361150\n",
              "28 1977 683,848,710       683848710\n",
              "29 1978 687,149,553       687149553\n",
              "30 1979 690,287,705       690287705\n",
              "⋮  ⋮    ⋮                 ⋮        \n",
              "43 1992 725,259,493       725259493\n",
              "44 1993 726,441,892       726441892\n",
              "45 1994 727,063,162       727063162\n",
              "46 1995 727,300,408       727300408\n",
              "47 1996 727,453,566       727453566\n",
              "48 1997 727,566,480       727566480\n",
              "49 1998 727,445,606       727445606\n",
              "50 1999 727,100,016       727100016\n",
              "51 2000 726,968,473       726968473\n",
              "52 2001 726,878,371       726878371\n",
              "53 2002 726,939,358       726939358\n",
              "54 2003 727,424,988       727424988\n",
              "55 2004 728,163,243       728163243\n",
              "56 2005 728,950,486       728950486\n",
              "57 2006 729,857,708       729857708\n",
              "58 2007 731,393,136       731393136\n",
              "59 2008 733,256,182       733256182\n",
              "60 2009 734,902,805       734902805\n",
              "61 2010 736,276,813       736276813\n",
              "62 2011 737,589,666       737589666\n",
              "63 2012 738,907,594       738907594\n",
              "64 2013 740,013,806       740013806\n",
              "65 2014 741,014,147       741014147\n",
              "66 2015 742,107,449       742107449\n",
              "67 2016 743,318,582       743318582\n",
              "68 2017 744,449,361       744449361\n",
              "69 2018 745,359,130       745359130\n",
              "70 2019 746,189,645       746189645\n",
              "71 2020 746,225,356       746225356\n",
              "72 2021 745,173,774       745173774"
            ]
          },
          "metadata": {}
        }
      ]
    },
    {
      "cell_type": "markdown",
      "metadata": {
        "id": "mJ7m4s4TcIIh"
      },
      "source": [
        "How can we find the correct one? One option is to use our browser to find something that uniquely identifies the table that we want. Alternatively, if a small number, we can just use index number to find the one we want:"
      ]
    },
    {
      "cell_type": "code",
      "execution_count": null,
      "metadata": {
        "id": "iBk5NmBncIIh"
      },
      "outputs": [],
      "source": [
        "# find the table that contains the population for each country\n"
      ]
    },
    {
      "cell_type": "markdown",
      "metadata": {
        "id": "3HtYdEX1cIIi"
      },
      "source": [
        "## 🤔 Quiz\n",
        "\n",
        "What's the average population density ($\\text{persons}/\\text{km}^2$) for countries in Europe?\n",
        "\n",
        "<ol style=\"list-style-type: upper-alpha;\">\n",
        "    <li>1234.5</li>\n",
        "    <li>20000.0</li>\n",
        "    <li>611.8</li>\n",
        "    <li>6520.5</li>\n",
        "    <li>101.1</li>\n",
        "</ol>\n",
        "\n"
      ]
    },
    {
      "cell_type": "code",
      "execution_count": 47,
      "metadata": {
        "id": "zPT36QG8cIIi"
      },
      "outputs": [],
      "source": [
        "wiki_tables <- europop %>% html_elements(\"table.wikitable.sortable\") %>% html_table\n"
      ]
    },
    {
      "cell_type": "code",
      "source": [
        "wiki_tables[[4]] %>% colnames"
      ],
      "metadata": {
        "colab": {
          "base_uri": "https://localhost:8080/",
          "height": 52
        },
        "id": "MYySp7NNlA0N",
        "outputId": "26a553a3-9747-42d7-bbb6-b3c08cad94d5"
      },
      "execution_count": 49,
      "outputs": [
        {
          "output_type": "display_data",
          "data": {
            "text/html": [
              "<style>\n",
              ".list-inline {list-style: none; margin:0; padding: 0}\n",
              ".list-inline>li {display: inline-block}\n",
              ".list-inline>li:not(:last-child)::after {content: \"\\00b7\"; padding: 0 .5ex}\n",
              "</style>\n",
              "<ol class=list-inline><li>'Country (or territory)'</li><li>'Population[1][2]'</li><li>'Area.mw-parser-output .nobold{font-weight:normal}(km2)[14]'</li><li>'Density(per km2)'</li><li>'Capital'</li></ol>\n"
            ],
            "text/markdown": "1. 'Country (or territory)'\n2. 'Population[1][2]'\n3. 'Area.mw-parser-output .nobold{font-weight:normal}(km2)[14]'\n4. 'Density(per km2)'\n5. 'Capital'\n\n\n",
            "text/latex": "\\begin{enumerate*}\n\\item 'Country (or territory)'\n\\item 'Population{[}1{]}{[}2{]}'\n\\item 'Area.mw-parser-output .nobold\\{font-weight:normal\\}(km2){[}14{]}'\n\\item 'Density(per km2)'\n\\item 'Capital'\n\\end{enumerate*}\n",
            "text/plain": [
              "[1] \"Country (or territory)\"                                    \n",
              "[2] \"Population[1][2]\"                                          \n",
              "[3] \"Area.mw-parser-output .nobold{font-weight:normal}(km2)[14]\"\n",
              "[4] \"Density(per km2)\"                                          \n",
              "[5] \"Capital\"                                                   "
            ]
          },
          "metadata": {}
        }
      ]
    },
    {
      "cell_type": "markdown",
      "metadata": {
        "id": "Y-LP_fxmcIIj"
      },
      "source": [
        "## 🤔 Quiz\n",
        "\n",
        "Use the same page Wikipedia page (Demographics of Europe) to answer the following question:\n",
        "\n",
        "On average, how many people were born *each day* in Europe between 2010 and 2021 (inclusive)?\n",
        "\n",
        "<ol style=\"list-style-type: upper-alpha;\">\n",
        "    <li>90210.10</li>\n",
        "    <li>23043.97</li>\n",
        "    <li>7710127</li>\n",
        "    <li>21123.64</li>\n",
        "    <li>21109.18</li>\n",
        "</ol>\n",
        "\n"
      ]
    },
    {
      "cell_type": "code",
      "execution_count": 73,
      "metadata": {
        "colab": {
          "base_uri": "https://localhost:8080/",
          "height": 35
        },
        "id": "_f9WDX9kcIIj",
        "outputId": "85e17c58-1d49-44ca-adf9-60075b2fd250"
      },
      "outputs": [
        {
          "output_type": "display_data",
          "data": {
            "text/plain": [
              "Time difference of -731 days"
            ]
          },
          "metadata": {}
        }
      ],
      "source": [
        "library(lubridate)\n",
        "# lubridate::make_date\n",
        "difftime(make_date(2020, 1, 1), make_date(2022, 1, 1), \"days\")\n",
        "\n",
        "# 366 + 365\n"
      ]
    },
    {
      "cell_type": "markdown",
      "metadata": {
        "id": "a_gYzf6CcIIp"
      },
      "source": [
        "### The UofM Stats department\n",
        "Let's say I wanted to make a table of all the [undergraduate stats courses](https://lsa.umich.edu/stats/undergraduate-students/statistics-courses.html) offered by the department. "
      ]
    },
    {
      "cell_type": "code",
      "source": [
        "stats <- read_html('https://lsa.umich.edu/stats/undergraduate-students/statistics-courses.html')"
      ],
      "metadata": {
        "id": "9JpcwO4Kt7B0"
      },
      "execution_count": 68,
      "outputs": []
    },
    {
      "cell_type": "markdown",
      "source": [
        "How should we extract the data from this web page? We notice from inspecting the page that each course title is a `<b>` (bold) element:"
      ],
      "metadata": {
        "id": "4mfPL_CdtyFN"
      }
    },
    {
      "cell_type": "code",
      "source": [
        "#"
      ],
      "metadata": {
        "colab": {
          "base_uri": "https://localhost:8080/",
          "height": 399
        },
        "id": "on_C7_qrt87H",
        "outputId": "32c87db4-454d-40a9-b35d-55d87e1f763e"
      },
      "execution_count": 72,
      "outputs": [
        {
          "output_type": "display_data",
          "data": {
            "text/html": [
              "<style>\n",
              ".list-inline {list-style: none; margin:0; padding: 0}\n",
              ".list-inline>li {display: inline-block}\n",
              ".list-inline>li:not(:last-child)::after {content: \"\\00b7\"; padding: 0 .5ex}\n",
              "</style>\n",
              "<ol class=list-inline><li>'STATS 100: Introduction to Statistics, Probability and Mathematical Modeling'</li><li>'STATS 125: Statistics, Games and Coincidences'</li><li>'STATS 150: Making Sense of Data'</li><li>'STATS 180: AP Statistics'</li><li>'STATS 206/DATASCI 101: Introduction to Data Science'</li><li>'STATS 250: Introduction to Statistics and Data Analysis'</li><li>'STATS 251 – Introductory Statistics Supplement for Mathematics Education'</li><li>'STATS 280: Honors Introduction to Statistics &amp; Data Analysis'</li><li>'STATS 299 - Workplace Internship for Undergraduate Statistics Majors'</li><li>'STATS/DATASCI 306: Introduction to Statistical Computing'</li><li>'STATS/DATASCI 315 – Statistics and Artificial Intelligence '</li><li>''</li><li>'STATS 401: Applied Statistical Methods II'</li><li>'STATS 403: Introduction to Quantitative Research Methods'</li><li>'STATS 404: Effective Communication in Statistics'</li><li>'STATS/DATASCI 406: Computational Methods in Statistics and Data Science'</li><li>'STATS 412: Introduction to Probability &amp; Statistics'</li><li>'STATS/DATASCI 413: Applied Regression Analysis'</li><li>'STATS 414: Topics Course'</li><li>'STATS/DATASCI 415: Data Mining and Statistical Learning'</li><li>'STATS/MATH 425: Introduction to Probability'</li><li>'STATS 426: Introduction to Theoretical Statistics'</li><li>'STATS 430: Applied Probability'</li><li>'STATS/BIOSTAT 449: Topics in Biostatistics'</li><li>'STATS/DATASCI 451: Bayesian Data Analysis'</li><li>'STATS 470: Introduction to the Design of Experiments'</li><li>'STATS 480: Survey Sampling Techniques'</li><li>'STATS/DATASCI 485: Capstone Seminar'</li><li>'STATS 489: Independent Study in Statistics'</li><li>'STATS 499: Honors Seminar'</li><li>'Please send permission requests to statsugradprogram@umich.edu'</li></ol>\n"
            ],
            "text/markdown": "1. 'STATS 100: Introduction to Statistics, Probability and Mathematical Modeling'\n2. 'STATS 125: Statistics, Games and Coincidences'\n3. 'STATS 150: Making Sense of Data'\n4. 'STATS 180: AP Statistics'\n5. 'STATS 206/DATASCI 101: Introduction to Data Science'\n6. 'STATS 250: Introduction to Statistics and Data Analysis'\n7. 'STATS 251 – Introductory Statistics Supplement for Mathematics Education'\n8. 'STATS 280: Honors Introduction to Statistics &amp; Data Analysis'\n9. 'STATS 299 - Workplace Internship for Undergraduate Statistics Majors'\n10. 'STATS/DATASCI 306: Introduction to Statistical Computing'\n11. 'STATS/DATASCI 315 – Statistics and Artificial Intelligence '\n12. ''\n13. 'STATS 401: Applied Statistical Methods II'\n14. 'STATS 403: Introduction to Quantitative Research Methods'\n15. 'STATS 404: Effective Communication in Statistics'\n16. 'STATS/DATASCI 406: Computational Methods in Statistics and Data Science'\n17. 'STATS 412: Introduction to Probability &amp; Statistics'\n18. 'STATS/DATASCI 413: Applied Regression Analysis'\n19. 'STATS 414: Topics Course'\n20. 'STATS/DATASCI 415: Data Mining and Statistical Learning'\n21. 'STATS/MATH 425: Introduction to Probability'\n22. 'STATS 426: Introduction to Theoretical Statistics'\n23. 'STATS 430: Applied Probability'\n24. 'STATS/BIOSTAT 449: Topics in Biostatistics'\n25. 'STATS/DATASCI 451: Bayesian Data Analysis'\n26. 'STATS 470: Introduction to the Design of Experiments'\n27. 'STATS 480: Survey Sampling Techniques'\n28. 'STATS/DATASCI 485: Capstone Seminar'\n29. 'STATS 489: Independent Study in Statistics'\n30. 'STATS 499: Honors Seminar'\n31. 'Please send permission requests to statsugradprogram@umich.edu'\n\n\n",
            "text/latex": "\\begin{enumerate*}\n\\item 'STATS 100: Introduction to Statistics, Probability and Mathematical Modeling'\n\\item 'STATS 125: Statistics, Games and Coincidences'\n\\item 'STATS 150: Making Sense of Data'\n\\item 'STATS 180: AP Statistics'\n\\item 'STATS 206/DATASCI 101: Introduction to Data Science'\n\\item 'STATS 250: Introduction to Statistics and Data Analysis'\n\\item 'STATS 251 – Introductory Statistics Supplement for Mathematics Education'\n\\item 'STATS 280: Honors Introduction to Statistics \\& Data Analysis'\n\\item 'STATS 299 - Workplace Internship for Undergraduate Statistics Majors'\n\\item 'STATS/DATASCI 306: Introduction to Statistical Computing'\n\\item 'STATS/DATASCI 315 – Statistics and Artificial Intelligence '\n\\item ''\n\\item 'STATS 401: Applied Statistical Methods II'\n\\item 'STATS 403: Introduction to Quantitative Research Methods'\n\\item 'STATS 404: Effective Communication in Statistics'\n\\item 'STATS/DATASCI 406: Computational Methods in Statistics and Data Science'\n\\item 'STATS 412: Introduction to Probability \\& Statistics'\n\\item 'STATS/DATASCI 413: Applied Regression Analysis'\n\\item 'STATS 414: Topics Course'\n\\item 'STATS/DATASCI 415: Data Mining and Statistical Learning'\n\\item 'STATS/MATH 425: Introduction to Probability'\n\\item 'STATS 426: Introduction to Theoretical Statistics'\n\\item 'STATS 430: Applied Probability'\n\\item 'STATS/BIOSTAT 449: Topics in Biostatistics'\n\\item 'STATS/DATASCI 451: Bayesian Data Analysis'\n\\item 'STATS 470: Introduction to the Design of Experiments'\n\\item 'STATS 480: Survey Sampling Techniques'\n\\item 'STATS/DATASCI 485: Capstone Seminar'\n\\item 'STATS 489: Independent Study in Statistics'\n\\item 'STATS 499: Honors Seminar'\n\\item 'Please send permission requests to statsugradprogram@umich.edu'\n\\end{enumerate*}\n",
            "text/plain": [
              " [1] \"STATS 100: Introduction to Statistics, Probability and Mathematical Modeling\"\n",
              " [2] \"STATS 125: Statistics, Games and Coincidences\"                               \n",
              " [3] \"STATS 150: Making Sense of Data\"                                             \n",
              " [4] \"STATS 180: AP Statistics\"                                                    \n",
              " [5] \"STATS 206/DATASCI 101: Introduction to Data Science\"                         \n",
              " [6] \"STATS 250: Introduction to Statistics and Data Analysis\"                     \n",
              " [7] \"STATS 251 – Introductory Statistics Supplement for Mathematics Education\"    \n",
              " [8] \"STATS 280: Honors Introduction to Statistics & Data Analysis\"                \n",
              " [9] \"STATS 299 - Workplace Internship for Undergraduate Statistics Majors\"        \n",
              "[10] \"STATS/DATASCI 306: Introduction to Statistical Computing\"                    \n",
              "[11] \"STATS/DATASCI 315 – Statistics and Artificial Intelligence \"                 \n",
              "[12] \"\"                                                                            \n",
              "[13] \"STATS 401: Applied Statistical Methods II\"                                   \n",
              "[14] \"STATS 403: Introduction to Quantitative Research Methods\"                    \n",
              "[15] \"STATS 404: Effective Communication in Statistics\"                            \n",
              "[16] \"STATS/DATASCI 406: Computational Methods in Statistics and Data Science\"     \n",
              "[17] \"STATS 412: Introduction to Probability & Statistics\"                         \n",
              "[18] \"STATS/DATASCI 413: Applied Regression Analysis\"                              \n",
              "[19] \"STATS 414: Topics Course\"                                                    \n",
              "[20] \"STATS/DATASCI 415: Data Mining and Statistical Learning\"                     \n",
              "[21] \"STATS/MATH 425: Introduction to Probability\"                                 \n",
              "[22] \"STATS 426: Introduction to Theoretical Statistics\"                           \n",
              "[23] \"STATS 430: Applied Probability\"                                              \n",
              "[24] \"STATS/BIOSTAT 449: Topics in Biostatistics\"                                  \n",
              "[25] \"STATS/DATASCI 451: Bayesian Data Analysis\"                                   \n",
              "[26] \"STATS 470: Introduction to the Design of Experiments\"                        \n",
              "[27] \"STATS 480: Survey Sampling Techniques\"                                       \n",
              "[28] \"STATS/DATASCI 485: Capstone Seminar\"                                         \n",
              "[29] \"STATS 489: Independent Study in Statistics\"                                  \n",
              "[30] \"STATS 499: Honors Seminar\"                                                   \n",
              "[31] \"Please send permission requests to statsugradprogram@umich.edu\"              "
            ]
          },
          "metadata": {}
        }
      ]
    },
    {
      "cell_type": "markdown",
      "metadata": {
        "id": "9mdwPBE9cIIm"
      },
      "source": [
        "## IMDB top movies\n",
        "\n",
        "Let's consider a well-known table: the [top 250 movies on IMDB](https://www.imdb.com/chart/top/)."
      ]
    },
    {
      "cell_type": "code",
      "execution_count": null,
      "metadata": {
        "id": "WeuxJw9scIIm"
      },
      "outputs": [],
      "source": [
        "imdb.250 <- read_html(\"https://www.imdb.com/chart/top/\")"
      ]
    },
    {
      "cell_type": "code",
      "execution_count": null,
      "metadata": {
        "id": "3Z7fw8Z7cIIm",
        "outputId": "6ee00773-e0cf-4ac1-fa9b-375e7f011223"
      },
      "outputs": [
        {
          "data": {
            "text/html": [
              "<table class=\"dataframe\">\n",
              "<caption>A tibble: 11 × 6</caption>\n",
              "<thead>\n",
              "\t<tr><th scope=col>title</th><th scope=col>year</th><th scope=col>rating</th><th scope=col>top_rating</th><th scope=col>king</th><th scope=col>delta</th></tr>\n",
              "\t<tr><th scope=col>&lt;chr&gt;</th><th scope=col>&lt;dbl&gt;</th><th scope=col>&lt;dbl&gt;</th><th scope=col>&lt;dbl&gt;</th><th scope=col>&lt;lgl&gt;</th><th scope=col>&lt;dbl&gt;</th></tr>\n",
              "</thead>\n",
              "<tbody>\n",
              "\t<tr><td>\n",
              "      The Kid\n",
              "                         </td><td>1921</td><td>8.2</td><td>8.2</td><td>TRUE</td><td> 6</td></tr>\n",
              "\t<tr><td>\n",
              "      Metropolis\n",
              "                      </td><td>1927</td><td>8.2</td><td>8.2</td><td>TRUE</td><td> 4</td></tr>\n",
              "\t<tr><td>\n",
              "      City Lights\n",
              "                     </td><td>1931</td><td>8.4</td><td>8.4</td><td>TRUE</td><td> 5</td></tr>\n",
              "\t<tr><td>\n",
              "      Modern Times\n",
              "                    </td><td>1936</td><td>8.4</td><td>8.4</td><td>TRUE</td><td> 4</td></tr>\n",
              "\t<tr><td>\n",
              "      The Great Dictator\n",
              "              </td><td>1940</td><td>8.4</td><td>8.4</td><td>TRUE</td><td> 2</td></tr>\n",
              "\t<tr><td>\n",
              "      Casablanca\n",
              "                      </td><td>1942</td><td>8.5</td><td>8.5</td><td>TRUE</td><td> 4</td></tr>\n",
              "\t<tr><td>\n",
              "      It's a Wonderful Life\n",
              "           </td><td>1946</td><td>8.6</td><td>8.6</td><td>TRUE</td><td> 8</td></tr>\n",
              "\t<tr><td>\n",
              "      Seven Samurai\n",
              "                   </td><td>1954</td><td>8.6</td><td>8.6</td><td>TRUE</td><td> 3</td></tr>\n",
              "\t<tr><td>\n",
              "      12 Angry Men\n",
              "                    </td><td>1957</td><td>9.0</td><td>9.0</td><td>TRUE</td><td>15</td></tr>\n",
              "\t<tr><td>\n",
              "      The Godfather\n",
              "                   </td><td>1972</td><td>9.2</td><td>9.2</td><td>TRUE</td><td>22</td></tr>\n",
              "\t<tr><td>\n",
              "      The Shawshank Redemption\n",
              "        </td><td>1994</td><td>9.2</td><td>9.2</td><td>TRUE</td><td>NA</td></tr>\n",
              "</tbody>\n",
              "</table>\n"
            ],
            "text/latex": [
              "A tibble: 11 × 6\n",
              "\\begin{tabular}{llllll}\n",
              " title & year & rating & top\\_rating & king & delta\\\\\n",
              " <chr> & <dbl> & <dbl> & <dbl> & <lgl> & <dbl>\\\\\n",
              "\\hline\n",
              "\t \n",
              "      The Kid\n",
              "                          & 1921 & 8.2 & 8.2 & TRUE &  6\\\\\n",
              "\t \n",
              "      Metropolis\n",
              "                       & 1927 & 8.2 & 8.2 & TRUE &  4\\\\\n",
              "\t \n",
              "      City Lights\n",
              "                      & 1931 & 8.4 & 8.4 & TRUE &  5\\\\\n",
              "\t \n",
              "      Modern Times\n",
              "                     & 1936 & 8.4 & 8.4 & TRUE &  4\\\\\n",
              "\t \n",
              "      The Great Dictator\n",
              "               & 1940 & 8.4 & 8.4 & TRUE &  2\\\\\n",
              "\t \n",
              "      Casablanca\n",
              "                       & 1942 & 8.5 & 8.5 & TRUE &  4\\\\\n",
              "\t \n",
              "      It's a Wonderful Life\n",
              "            & 1946 & 8.6 & 8.6 & TRUE &  8\\\\\n",
              "\t \n",
              "      Seven Samurai\n",
              "                    & 1954 & 8.6 & 8.6 & TRUE &  3\\\\\n",
              "\t \n",
              "      12 Angry Men\n",
              "                     & 1957 & 9.0 & 9.0 & TRUE & 15\\\\\n",
              "\t \n",
              "      The Godfather\n",
              "                    & 1972 & 9.2 & 9.2 & TRUE & 22\\\\\n",
              "\t \n",
              "      The Shawshank Redemption\n",
              "         & 1994 & 9.2 & 9.2 & TRUE & NA\\\\\n",
              "\\end{tabular}\n"
            ],
            "text/markdown": [
              "\n",
              "A tibble: 11 × 6\n",
              "\n",
              "| title &lt;chr&gt; | year &lt;dbl&gt; | rating &lt;dbl&gt; | top_rating &lt;dbl&gt; | king &lt;lgl&gt; | delta &lt;dbl&gt; |\n",
              "|---|---|---|---|---|---|\n",
              "| \n",
              "      The Kid\n",
              "                          | 1921 | 8.2 | 8.2 | TRUE |  6 |\n",
              "| \n",
              "      Metropolis\n",
              "                       | 1927 | 8.2 | 8.2 | TRUE |  4 |\n",
              "| \n",
              "      City Lights\n",
              "                      | 1931 | 8.4 | 8.4 | TRUE |  5 |\n",
              "| \n",
              "      Modern Times\n",
              "                     | 1936 | 8.4 | 8.4 | TRUE |  4 |\n",
              "| \n",
              "      The Great Dictator\n",
              "               | 1940 | 8.4 | 8.4 | TRUE |  2 |\n",
              "| \n",
              "      Casablanca\n",
              "                       | 1942 | 8.5 | 8.5 | TRUE |  4 |\n",
              "| \n",
              "      It's a Wonderful Life\n",
              "            | 1946 | 8.6 | 8.6 | TRUE |  8 |\n",
              "| \n",
              "      Seven Samurai\n",
              "                    | 1954 | 8.6 | 8.6 | TRUE |  3 |\n",
              "| \n",
              "      12 Angry Men\n",
              "                     | 1957 | 9.0 | 9.0 | TRUE | 15 |\n",
              "| \n",
              "      The Godfather\n",
              "                    | 1972 | 9.2 | 9.2 | TRUE | 22 |\n",
              "| \n",
              "      The Shawshank Redemption\n",
              "         | 1994 | 9.2 | 9.2 | TRUE | NA |\n",
              "\n"
            ],
            "text/plain": [
              "   title                                      year rating top_rating king delta\n",
              "1  \\n      The Kid\\n                          1921 8.2    8.2        TRUE  6   \n",
              "2  \\n      Metropolis\\n                       1927 8.2    8.2        TRUE  4   \n",
              "3  \\n      City Lights\\n                      1931 8.4    8.4        TRUE  5   \n",
              "4  \\n      Modern Times\\n                     1936 8.4    8.4        TRUE  4   \n",
              "5  \\n      The Great Dictator\\n               1940 8.4    8.4        TRUE  2   \n",
              "6  \\n      Casablanca\\n                       1942 8.5    8.5        TRUE  4   \n",
              "7  \\n      It's a Wonderful Life\\n            1946 8.6    8.6        TRUE  8   \n",
              "8  \\n      Seven Samurai\\n                    1954 8.6    8.6        TRUE  3   \n",
              "9  \\n      12 Angry Men\\n                     1957 9.0    9.0        TRUE 15   \n",
              "10 \\n      The Godfather\\n                    1972 9.2    9.2        TRUE 22   \n",
              "11 \\n      The Shawshank Redemption\\n         1994 9.2    9.2        TRUE NA   "
            ]
          },
          "metadata": {},
          "output_type": "display_data"
        }
      ],
      "source": [
        "# parse imdb\n",
        "imdbf %>% arrange(year) %>% mutate(top_rating = cummax(rating), king = rating == top_rating) %>% \n",
        "    filter(king) %>% mutate(delta = lead(year) - year)\n"
      ]
    },
    {
      "cell_type": "markdown",
      "metadata": {
        "id": "SC4OaGHWcIIn"
      },
      "source": [
        "## Exercise\n",
        "\n",
        "\"The Kid\" came out in 1921 and has a rating of 8.2. Another movie that was rated at least as high didn't come out until 1927 (Metropolis), so we could say that The Kid reigned as the #1 film for six years. Metropolis reigned for four years until City Lights (rating 8.4) came out.\n",
        "\n",
        "Which film reigned for the longest amount of time?"
      ]
    },
    {
      "cell_type": "code",
      "execution_count": null,
      "metadata": {
        "id": "B-AOtarScIIn"
      },
      "outputs": [],
      "source": [
        "# longest reign"
      ]
    },
    {
      "cell_type": "markdown",
      "metadata": {
        "id": "tX6IG-dGcIIn"
      },
      "source": [
        "## Super Bowl TV ratings\n",
        "We just had the Super Bowl. How have the TV ratings for the Super Bowl changed over the years?"
      ]
    },
    {
      "cell_type": "code",
      "execution_count": null,
      "metadata": {
        "id": "hyjnMloncIIn"
      },
      "outputs": [],
      "source": [
        "sbtv <- read_html('https://en.wikipedia.org/wiki/Super_Bowl_television_ratings') %>% html_elements('table') %>% .[[1]] %>% html_table"
      ]
    },
    {
      "cell_type": "code",
      "execution_count": null,
      "metadata": {
        "id": "ZPqeVqyUcIIo"
      },
      "outputs": [],
      "source": [
        "# viewers over time"
      ]
    },
    {
      "cell_type": "markdown",
      "metadata": {
        "id": "72G_9s03cIIo"
      },
      "source": [
        "How does this compare with other major sports?\n",
        "\n",
        "- https://en.wikipedia.org/wiki/World_Series_television_ratings\n",
        "- https://en.wikipedia.org/wiki/NBA_Finals_television_ratings"
      ]
    },
    {
      "cell_type": "code",
      "execution_count": null,
      "metadata": {
        "id": "NzwMai6JcIIo"
      },
      "outputs": [],
      "source": [
        "# super bowl vs world series"
      ]
    },
    {
      "cell_type": "markdown",
      "metadata": {
        "id": "NLWLKMrfcIIq"
      },
      "source": [
        "### Reddit\n",
        "Let's see how to scrape the [UofM Reddit site](https://old.reddit.com/r/uofm):"
      ]
    },
    {
      "cell_type": "code",
      "execution_count": null,
      "metadata": {
        "id": "6WB640fycIIq"
      },
      "outputs": [],
      "source": [
        "top.reddit <- read_html('https://old.reddit.com/r/uofm/top/?sort=top&t=all')"
      ]
    },
    {
      "cell_type": "markdown",
      "metadata": {
        "id": "-lRngwqUcIIq"
      },
      "source": [
        "Let's plot the top scoring posts, when they were posted, and how many votes they have received."
      ]
    },
    {
      "cell_type": "code",
      "execution_count": null,
      "metadata": {
        "id": "Ky9xfX8_cIIq"
      },
      "outputs": [],
      "source": [
        "# top posts on r/uofm"
      ]
    }
  ],
  "metadata": {
    "celltoolbar": "Slideshow",
    "kernelspec": {
      "display_name": "R",
      "language": "R",
      "name": "ir"
    },
    "language_info": {
      "codemirror_mode": "r",
      "file_extension": ".r",
      "mimetype": "text/x-r-source",
      "name": "R",
      "pygments_lexer": "r",
      "version": "4.2.1"
    },
    "colab": {
      "provenance": []
    }
  },
  "nbformat": 4,
  "nbformat_minor": 0
}