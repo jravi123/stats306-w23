{
  "cells": [
    {
      "cell_type": "code",
      "execution_count": 1,
      "metadata": {
        "scrolled": true,
        "colab": {
          "base_uri": "https://localhost:8080/"
        },
        "id": "DZcT1CcOcIIM",
        "outputId": "a0a0c49c-1afb-4d92-c746-4aba536b3015"
      },
      "outputs": [
        {
          "output_type": "stream",
          "name": "stderr",
          "text": [
            "Warning message in system(\"timedatectl\", intern = TRUE):\n",
            "“running command 'timedatectl' had status 1”\n",
            "── \u001b[1mAttaching packages\u001b[22m ─────────────────────────────────────── tidyverse 1.3.1 ──\n",
            "\n",
            "\u001b[32m✔\u001b[39m \u001b[34mggplot2\u001b[39m 3.4.1     \u001b[32m✔\u001b[39m \u001b[34mpurrr  \u001b[39m 1.0.1\n",
            "\u001b[32m✔\u001b[39m \u001b[34mtibble \u001b[39m 3.1.8     \u001b[32m✔\u001b[39m \u001b[34mdplyr  \u001b[39m 1.1.0\n",
            "\u001b[32m✔\u001b[39m \u001b[34mtidyr  \u001b[39m 1.3.0     \u001b[32m✔\u001b[39m \u001b[34mstringr\u001b[39m 1.4.1\n",
            "\u001b[32m✔\u001b[39m \u001b[34mreadr  \u001b[39m 2.1.4     \u001b[32m✔\u001b[39m \u001b[34mforcats\u001b[39m 1.0.0\n",
            "\n",
            "── \u001b[1mConflicts\u001b[22m ────────────────────────────────────────── tidyverse_conflicts() ──\n",
            "\u001b[31m✖\u001b[39m \u001b[34mdplyr\u001b[39m::\u001b[32mfilter()\u001b[39m masks \u001b[34mstats\u001b[39m::filter()\n",
            "\u001b[31m✖\u001b[39m \u001b[34mdplyr\u001b[39m::\u001b[32mlag()\u001b[39m    masks \u001b[34mstats\u001b[39m::lag()\n",
            "\n",
            "\n",
            "Attaching package: ‘rvest’\n",
            "\n",
            "\n",
            "The following object is masked from ‘package:readr’:\n",
            "\n",
            "    guess_encoding\n",
            "\n",
            "\n"
          ]
        }
      ],
      "source": [
        "library(tidyverse)\n",
        "library(rvest)"
      ]
    },
    {
      "cell_type": "markdown",
      "metadata": {
        "id": "o-yN6ogkcIIU"
      },
      "source": [
        "# Lecture 11: Web scraping\n",
        "\n",
        "<div style=\"border: 1px double black; padding: 10px; margin: 10px\">\n",
        "\n",
        "**After today's lecture you will:**\n",
        "* Understand how to import data from online sources by scraping web pages.\n",
        "</div>\n",
        "\n",
        "These notes correspond to Chapter 26 of your book.\n"
      ]
    },
    {
      "cell_type": "markdown",
      "metadata": {
        "id": "y0JSUSsucIIY"
      },
      "source": [
        "## Ethics of scraping data online\n",
        "You should carefully read [Section 26.2](https://r4ds.hadley.nz/webscraping.html#scraping-ethics-and-legalities) of the book concerning various ethical and legal issues surrounding scraping web sites for data. In this class we will only look at large, public web sites like Wikipedia and IMDB, where there is no risk of anything bad happening. However, there are other situations where it may be unethical, or even illegal, to harvest data from a website, even if you are technically able. **As data scientists in the real world, it will be up to you to carefully weigh these concerns before using the tools discussed in today's lecture.**"
      ]
    },
    {
      "cell_type": "markdown",
      "metadata": {
        "id": "yKRP8wywcIIb"
      },
      "source": [
        "## Reading data from the Internet\n",
        "These days, it's increasingly common to pull data from online sources. For example, say I wanted to know the population of European countries. This is [easily found](https://en.wikipedia.org/wiki/Demographics_of_Europe#Population_by_country) on Wikipedia. How can I get these data into R and analyze them?"
      ]
    },
    {
      "cell_type": "markdown",
      "metadata": {
        "id": "f2cTZwnZcIIc"
      },
      "source": [
        "## How do web pages work?\n",
        "\n",
        "Web pages are written in a special language called HTML (**H**yper**t**ext **M**arkup **L**anguage). Here is a simple example of some HTML:\n",
        "\n",
        "    <html>\n",
        "    <head> \n",
        "      <title>Page title</title>\n",
        "    </head>\n",
        "    <body>\n",
        "      <h1 id='first'>A heading</h1>\n",
        "      <p>Some text &amp; <b>some bold text.</b></p>\n",
        "      <img src='myimg.png' width='100' height='100'>\n",
        "    </body>\n",
        "    </html>"
      ]
    },
    {
      "cell_type": "markdown",
      "metadata": {
        "id": "XLMsnRjEcIId"
      },
      "source": [
        "Web scraping is possible because most web pages have a consistent, hierarchical structure. For example, if I asked you how to navigate to the title of the web page shown above, you would follow the \"path\"\n",
        "\n",
        "    html > head > title\n",
        "    \n",
        "to arrive at \"Page title\"."
      ]
    },
    {
      "cell_type": "markdown",
      "metadata": {
        "id": "aTlSRHDJcIIe"
      },
      "source": [
        "## HTML elements\n",
        "\n",
        "There are a lot of HTML elements that might contain interesting information. Here are a few of the most common:\n",
        "- Block tags that denote sections of text: `<h1>` (heading), `<p>` (paragraph), `<ul>`/`<ol>` (un)ordered list, etc.\n",
        "- `<table>` (a table), `<tr>` (a table row), `<td>` (a table cell), etc.\n",
        "- Each of these elements can contain attributes such as `id=` or `class=`. For example, `<table id=\"movies\">` is probably a table that contains movie information."
      ]
    },
    {
      "cell_type": "markdown",
      "metadata": {
        "id": "gytle3WbcIIf"
      },
      "source": [
        "The `rvest` package is used to load a web page and extract elements and tables based on their HTML tags. Let's see how it works by scraping the Wikipedia page mentioned earlier:"
      ]
    },
    {
      "cell_type": "code",
      "execution_count": 3,
      "metadata": {
        "id": "OxPSvO_CcIIf",
        "outputId": "6bea1e91-ee5f-4a1f-f5f8-0c57c63adcbe",
        "colab": {
          "base_uri": "https://localhost:8080/",
          "height": 213
        }
      },
      "outputs": [
        {
          "output_type": "display_data",
          "data": {
            "text/plain": [
              "{html_document}\n",
              "<html class=\"client-nojs vector-feature-language-in-header-enabled vector-feature-language-in-main-page-header-disabled vector-feature-language-alert-in-sidebar-enabled vector-feature-sticky-header-disabled vector-feature-page-tools-disabled vector-feature-page-tools-pinned-disabled vector-feature-main-menu-pinned-disabled vector-feature-limited-width-enabled vector-feature-limited-width-content-enabled\" lang=\"en\" dir=\"ltr\">\n",
              "[1] <head>\\n<meta http-equiv=\"Content-Type\" content=\"text/html; charset=UTF-8 ...\n",
              "[2] <body class=\"skin-vector skin-vector-search-vue vector-toc-pinned mediawi ..."
            ]
          },
          "metadata": {}
        }
      ],
      "source": [
        "library(rvest)\n",
        "europop <- read_html(\"http://en.wikipedia.org/wiki/Demographics_of_Europe#Population_by_country\")\n",
        "europop"
      ]
    },
    {
      "cell_type": "markdown",
      "metadata": {
        "id": "QTrSjMWScIIg"
      },
      "source": [
        "In this page there are many tables:"
      ]
    },
    {
      "cell_type": "code",
      "execution_count": null,
      "metadata": {
        "scrolled": true,
        "id": "G1Ad3oVQcIIg"
      },
      "outputs": [],
      "source": [
        "wiki_tables <- europop %>% \n",
        "  html_elements(\"table.wikitable.sortable\") %>% \n",
        "    html_table\n",
        "wiki_tables "
      ]
    },
    {
      "cell_type": "markdown",
      "source": [
        "We will get the third table, select the first two columns, slice off the first row using 'slice()' function and then convert the datatypes of the columns using\n",
        "* as.integer\n",
        "* parse_number"
      ],
      "metadata": {
        "id": "sWbDjjNGfATg"
      }
    },
    {
      "cell_type": "code",
      "source": [
        "#\n",
        "wiki_tables[[3]] %>% select(1:3) %>% slice(-1) %>%\n",
        "  mutate(\n",
        "  Year = as.integer(Year),\n",
        "  Averagepopulation = parse_number(Averagepopulation),\n",
        "  b = parse_number(`Live births`))"
      ],
      "metadata": {
        "colab": {
          "base_uri": "https://localhost:8080/",
          "height": 1000
        },
        "id": "YKivRuN3f0gV",
        "outputId": "5ae58c4a-e8f7-41eb-c3a6-79bd44bd7853"
      },
      "execution_count": 13,
      "outputs": [
        {
          "output_type": "display_data",
          "data": {
            "text/html": [
              "<table class=\"dataframe\">\n",
              "<caption>A tibble: 72 × 4</caption>\n",
              "<thead>\n",
              "\t<tr><th scope=col>Year</th><th scope=col>Averagepopulation</th><th scope=col>Live births</th><th scope=col>b</th></tr>\n",
              "\t<tr><th scope=col>&lt;int&gt;</th><th scope=col>&lt;dbl&gt;</th><th scope=col>&lt;chr&gt;</th><th scope=col>&lt;dbl&gt;</th></tr>\n",
              "</thead>\n",
              "<tbody>\n",
              "\t<tr><td>1950</td><td>549721718</td><td>12,202,220</td><td>12202220</td></tr>\n",
              "\t<tr><td>1951</td><td>554559502</td><td>12,112,425</td><td>12112425</td></tr>\n",
              "\t<tr><td>1952</td><td>559609904</td><td>12,142,368</td><td>12142368</td></tr>\n",
              "\t<tr><td>1953</td><td>565058633</td><td>12,120,826</td><td>12120826</td></tr>\n",
              "\t<tr><td>1954</td><td>570670994</td><td>12,151,779</td><td>12151779</td></tr>\n",
              "\t<tr><td>1955</td><td>576304974</td><td>12,134,270</td><td>12134270</td></tr>\n",
              "\t<tr><td>1956</td><td>581975516</td><td>12,133,583</td><td>12133583</td></tr>\n",
              "\t<tr><td>1957</td><td>587711635</td><td>12,194,100</td><td>12194100</td></tr>\n",
              "\t<tr><td>1958</td><td>593669297</td><td>12,177,600</td><td>12177600</td></tr>\n",
              "\t<tr><td>1959</td><td>599684870</td><td>12,178,245</td><td>12178245</td></tr>\n",
              "\t<tr><td>1960</td><td>605629870</td><td>12,098,378</td><td>12098378</td></tr>\n",
              "\t<tr><td>1961</td><td>611711020</td><td>11,990,399</td><td>11990399</td></tr>\n",
              "\t<tr><td>1962</td><td>617672206</td><td>11,784,056</td><td>11784056</td></tr>\n",
              "\t<tr><td>1963</td><td>623335994</td><td>11,654,646</td><td>11654646</td></tr>\n",
              "\t<tr><td>1964</td><td>628944878</td><td>11,467,618</td><td>11467618</td></tr>\n",
              "\t<tr><td>1965</td><td>634267606</td><td>11,141,596</td><td>11141596</td></tr>\n",
              "\t<tr><td>1966</td><td>639264461</td><td>10,950,076</td><td>10950076</td></tr>\n",
              "\t<tr><td>1967</td><td>644114436</td><td>10,969,039</td><td>10969039</td></tr>\n",
              "\t<tr><td>1968</td><td>648610191</td><td>10,821,004</td><td>10821004</td></tr>\n",
              "\t<tr><td>1969</td><td>652740596</td><td>10,685,498</td><td>10685498</td></tr>\n",
              "\t<tr><td>1970</td><td>656521426</td><td>10,568,071</td><td>10568071</td></tr>\n",
              "\t<tr><td>1971</td><td>660476010</td><td>10,662,541</td><td>10662541</td></tr>\n",
              "\t<tr><td>1972</td><td>664799679</td><td>10,499,844</td><td>10499844</td></tr>\n",
              "\t<tr><td>1973</td><td>668909022</td><td>10,322,172</td><td>10322172</td></tr>\n",
              "\t<tr><td>1974</td><td>672912941</td><td>10,406,013</td><td>10406013</td></tr>\n",
              "\t<tr><td>1975</td><td>676770845</td><td>10,285,047</td><td>10285047</td></tr>\n",
              "\t<tr><td>1976</td><td>680361150</td><td>10,242,399</td><td>10242399</td></tr>\n",
              "\t<tr><td>1977</td><td>683848710</td><td>10,171,264</td><td>10171264</td></tr>\n",
              "\t<tr><td>1978</td><td>687149553</td><td>10,143,418</td><td>10143418</td></tr>\n",
              "\t<tr><td>1979</td><td>690287705</td><td>10,159,933</td><td>10159933</td></tr>\n",
              "\t<tr><td>⋮</td><td>⋮</td><td>⋮</td><td>⋮</td></tr>\n",
              "\t<tr><td>1992</td><td>725259493</td><td>8,523,515</td><td>8523515</td></tr>\n",
              "\t<tr><td>1993</td><td>726441892</td><td>8,138,793</td><td>8138793</td></tr>\n",
              "\t<tr><td>1994</td><td>727063162</td><td>7,913,453</td><td>7913453</td></tr>\n",
              "\t<tr><td>1995</td><td>727300408</td><td>7,663,831</td><td>7663831</td></tr>\n",
              "\t<tr><td>1996</td><td>727453566</td><td>7,581,575</td><td>7581575</td></tr>\n",
              "\t<tr><td>1997</td><td>727566480</td><td>7,476,674</td><td>7476674</td></tr>\n",
              "\t<tr><td>1998</td><td>727445606</td><td>7,369,527</td><td>7369527</td></tr>\n",
              "\t<tr><td>1999</td><td>727100016</td><td>7,264,382</td><td>7264382</td></tr>\n",
              "\t<tr><td>2000</td><td>726968473</td><td>7,325,763</td><td>7325763</td></tr>\n",
              "\t<tr><td>2001</td><td>726878371</td><td>7,277,594</td><td>7277594</td></tr>\n",
              "\t<tr><td>2002</td><td>726939358</td><td>7,330,526</td><td>7330526</td></tr>\n",
              "\t<tr><td>2003</td><td>727424988</td><td>7,442,475</td><td>7442475</td></tr>\n",
              "\t<tr><td>2004</td><td>728163243</td><td>7,558,652</td><td>7558652</td></tr>\n",
              "\t<tr><td>2005</td><td>728950486</td><td>7,568,637</td><td>7568637</td></tr>\n",
              "\t<tr><td>2006</td><td>729857708</td><td>7,703,029</td><td>7703029</td></tr>\n",
              "\t<tr><td>2007</td><td>731393136</td><td>7,886,129</td><td>7886129</td></tr>\n",
              "\t<tr><td>2008</td><td>733256182</td><td>8,169,398</td><td>8169398</td></tr>\n",
              "\t<tr><td>2009</td><td>734902805</td><td>8,208,268</td><td>8208268</td></tr>\n",
              "\t<tr><td>2010</td><td>736276813</td><td>8,227,484</td><td>8227484</td></tr>\n",
              "\t<tr><td>2011</td><td>737589666</td><td>8,132,980</td><td>8132980</td></tr>\n",
              "\t<tr><td>2012</td><td>738907594</td><td>8,178,804</td><td>8178804</td></tr>\n",
              "\t<tr><td>2013</td><td>740013806</td><td>8,039,791</td><td>8039791</td></tr>\n",
              "\t<tr><td>2014</td><td>741014147</td><td>8,067,454</td><td>8067454</td></tr>\n",
              "\t<tr><td>2015</td><td>742107449</td><td>8,004,465</td><td>8004465</td></tr>\n",
              "\t<tr><td>2016</td><td>743318582</td><td>7,950,684</td><td>7950684</td></tr>\n",
              "\t<tr><td>2017</td><td>744449361</td><td>7,617,755</td><td>7617755</td></tr>\n",
              "\t<tr><td>2018</td><td>745359130</td><td>7,375,157</td><td>7375157</td></tr>\n",
              "\t<tr><td>2019</td><td>746189645</td><td>7,108,392</td><td>7108392</td></tr>\n",
              "\t<tr><td>2020</td><td>746225356</td><td>6,938,739</td><td>6938739</td></tr>\n",
              "\t<tr><td>2021</td><td>745173774</td><td>6,879,818</td><td>6879818</td></tr>\n",
              "</tbody>\n",
              "</table>\n"
            ],
            "text/markdown": "\nA tibble: 72 × 4\n\n| Year &lt;int&gt; | Averagepopulation &lt;dbl&gt; | Live births &lt;chr&gt; | b &lt;dbl&gt; |\n|---|---|---|---|\n| 1950 | 549721718 | 12,202,220 | 12202220 |\n| 1951 | 554559502 | 12,112,425 | 12112425 |\n| 1952 | 559609904 | 12,142,368 | 12142368 |\n| 1953 | 565058633 | 12,120,826 | 12120826 |\n| 1954 | 570670994 | 12,151,779 | 12151779 |\n| 1955 | 576304974 | 12,134,270 | 12134270 |\n| 1956 | 581975516 | 12,133,583 | 12133583 |\n| 1957 | 587711635 | 12,194,100 | 12194100 |\n| 1958 | 593669297 | 12,177,600 | 12177600 |\n| 1959 | 599684870 | 12,178,245 | 12178245 |\n| 1960 | 605629870 | 12,098,378 | 12098378 |\n| 1961 | 611711020 | 11,990,399 | 11990399 |\n| 1962 | 617672206 | 11,784,056 | 11784056 |\n| 1963 | 623335994 | 11,654,646 | 11654646 |\n| 1964 | 628944878 | 11,467,618 | 11467618 |\n| 1965 | 634267606 | 11,141,596 | 11141596 |\n| 1966 | 639264461 | 10,950,076 | 10950076 |\n| 1967 | 644114436 | 10,969,039 | 10969039 |\n| 1968 | 648610191 | 10,821,004 | 10821004 |\n| 1969 | 652740596 | 10,685,498 | 10685498 |\n| 1970 | 656521426 | 10,568,071 | 10568071 |\n| 1971 | 660476010 | 10,662,541 | 10662541 |\n| 1972 | 664799679 | 10,499,844 | 10499844 |\n| 1973 | 668909022 | 10,322,172 | 10322172 |\n| 1974 | 672912941 | 10,406,013 | 10406013 |\n| 1975 | 676770845 | 10,285,047 | 10285047 |\n| 1976 | 680361150 | 10,242,399 | 10242399 |\n| 1977 | 683848710 | 10,171,264 | 10171264 |\n| 1978 | 687149553 | 10,143,418 | 10143418 |\n| 1979 | 690287705 | 10,159,933 | 10159933 |\n| ⋮ | ⋮ | ⋮ | ⋮ |\n| 1992 | 725259493 | 8,523,515 | 8523515 |\n| 1993 | 726441892 | 8,138,793 | 8138793 |\n| 1994 | 727063162 | 7,913,453 | 7913453 |\n| 1995 | 727300408 | 7,663,831 | 7663831 |\n| 1996 | 727453566 | 7,581,575 | 7581575 |\n| 1997 | 727566480 | 7,476,674 | 7476674 |\n| 1998 | 727445606 | 7,369,527 | 7369527 |\n| 1999 | 727100016 | 7,264,382 | 7264382 |\n| 2000 | 726968473 | 7,325,763 | 7325763 |\n| 2001 | 726878371 | 7,277,594 | 7277594 |\n| 2002 | 726939358 | 7,330,526 | 7330526 |\n| 2003 | 727424988 | 7,442,475 | 7442475 |\n| 2004 | 728163243 | 7,558,652 | 7558652 |\n| 2005 | 728950486 | 7,568,637 | 7568637 |\n| 2006 | 729857708 | 7,703,029 | 7703029 |\n| 2007 | 731393136 | 7,886,129 | 7886129 |\n| 2008 | 733256182 | 8,169,398 | 8169398 |\n| 2009 | 734902805 | 8,208,268 | 8208268 |\n| 2010 | 736276813 | 8,227,484 | 8227484 |\n| 2011 | 737589666 | 8,132,980 | 8132980 |\n| 2012 | 738907594 | 8,178,804 | 8178804 |\n| 2013 | 740013806 | 8,039,791 | 8039791 |\n| 2014 | 741014147 | 8,067,454 | 8067454 |\n| 2015 | 742107449 | 8,004,465 | 8004465 |\n| 2016 | 743318582 | 7,950,684 | 7950684 |\n| 2017 | 744449361 | 7,617,755 | 7617755 |\n| 2018 | 745359130 | 7,375,157 | 7375157 |\n| 2019 | 746189645 | 7,108,392 | 7108392 |\n| 2020 | 746225356 | 6,938,739 | 6938739 |\n| 2021 | 745173774 | 6,879,818 | 6879818 |\n\n",
            "text/latex": "A tibble: 72 × 4\n\\begin{tabular}{llll}\n Year & Averagepopulation & Live births & b\\\\\n <int> & <dbl> & <chr> & <dbl>\\\\\n\\hline\n\t 1950 & 549721718 & 12,202,220 & 12202220\\\\\n\t 1951 & 554559502 & 12,112,425 & 12112425\\\\\n\t 1952 & 559609904 & 12,142,368 & 12142368\\\\\n\t 1953 & 565058633 & 12,120,826 & 12120826\\\\\n\t 1954 & 570670994 & 12,151,779 & 12151779\\\\\n\t 1955 & 576304974 & 12,134,270 & 12134270\\\\\n\t 1956 & 581975516 & 12,133,583 & 12133583\\\\\n\t 1957 & 587711635 & 12,194,100 & 12194100\\\\\n\t 1958 & 593669297 & 12,177,600 & 12177600\\\\\n\t 1959 & 599684870 & 12,178,245 & 12178245\\\\\n\t 1960 & 605629870 & 12,098,378 & 12098378\\\\\n\t 1961 & 611711020 & 11,990,399 & 11990399\\\\\n\t 1962 & 617672206 & 11,784,056 & 11784056\\\\\n\t 1963 & 623335994 & 11,654,646 & 11654646\\\\\n\t 1964 & 628944878 & 11,467,618 & 11467618\\\\\n\t 1965 & 634267606 & 11,141,596 & 11141596\\\\\n\t 1966 & 639264461 & 10,950,076 & 10950076\\\\\n\t 1967 & 644114436 & 10,969,039 & 10969039\\\\\n\t 1968 & 648610191 & 10,821,004 & 10821004\\\\\n\t 1969 & 652740596 & 10,685,498 & 10685498\\\\\n\t 1970 & 656521426 & 10,568,071 & 10568071\\\\\n\t 1971 & 660476010 & 10,662,541 & 10662541\\\\\n\t 1972 & 664799679 & 10,499,844 & 10499844\\\\\n\t 1973 & 668909022 & 10,322,172 & 10322172\\\\\n\t 1974 & 672912941 & 10,406,013 & 10406013\\\\\n\t 1975 & 676770845 & 10,285,047 & 10285047\\\\\n\t 1976 & 680361150 & 10,242,399 & 10242399\\\\\n\t 1977 & 683848710 & 10,171,264 & 10171264\\\\\n\t 1978 & 687149553 & 10,143,418 & 10143418\\\\\n\t 1979 & 690287705 & 10,159,933 & 10159933\\\\\n\t ⋮ & ⋮ & ⋮ & ⋮\\\\\n\t 1992 & 725259493 & 8,523,515 & 8523515\\\\\n\t 1993 & 726441892 & 8,138,793 & 8138793\\\\\n\t 1994 & 727063162 & 7,913,453 & 7913453\\\\\n\t 1995 & 727300408 & 7,663,831 & 7663831\\\\\n\t 1996 & 727453566 & 7,581,575 & 7581575\\\\\n\t 1997 & 727566480 & 7,476,674 & 7476674\\\\\n\t 1998 & 727445606 & 7,369,527 & 7369527\\\\\n\t 1999 & 727100016 & 7,264,382 & 7264382\\\\\n\t 2000 & 726968473 & 7,325,763 & 7325763\\\\\n\t 2001 & 726878371 & 7,277,594 & 7277594\\\\\n\t 2002 & 726939358 & 7,330,526 & 7330526\\\\\n\t 2003 & 727424988 & 7,442,475 & 7442475\\\\\n\t 2004 & 728163243 & 7,558,652 & 7558652\\\\\n\t 2005 & 728950486 & 7,568,637 & 7568637\\\\\n\t 2006 & 729857708 & 7,703,029 & 7703029\\\\\n\t 2007 & 731393136 & 7,886,129 & 7886129\\\\\n\t 2008 & 733256182 & 8,169,398 & 8169398\\\\\n\t 2009 & 734902805 & 8,208,268 & 8208268\\\\\n\t 2010 & 736276813 & 8,227,484 & 8227484\\\\\n\t 2011 & 737589666 & 8,132,980 & 8132980\\\\\n\t 2012 & 738907594 & 8,178,804 & 8178804\\\\\n\t 2013 & 740013806 & 8,039,791 & 8039791\\\\\n\t 2014 & 741014147 & 8,067,454 & 8067454\\\\\n\t 2015 & 742107449 & 8,004,465 & 8004465\\\\\n\t 2016 & 743318582 & 7,950,684 & 7950684\\\\\n\t 2017 & 744449361 & 7,617,755 & 7617755\\\\\n\t 2018 & 745359130 & 7,375,157 & 7375157\\\\\n\t 2019 & 746189645 & 7,108,392 & 7108392\\\\\n\t 2020 & 746225356 & 6,938,739 & 6938739\\\\\n\t 2021 & 745173774 & 6,879,818 & 6879818\\\\\n\\end{tabular}\n",
            "text/plain": [
              "   Year Averagepopulation Live births b       \n",
              "1  1950 549721718         12,202,220  12202220\n",
              "2  1951 554559502         12,112,425  12112425\n",
              "3  1952 559609904         12,142,368  12142368\n",
              "4  1953 565058633         12,120,826  12120826\n",
              "5  1954 570670994         12,151,779  12151779\n",
              "6  1955 576304974         12,134,270  12134270\n",
              "7  1956 581975516         12,133,583  12133583\n",
              "8  1957 587711635         12,194,100  12194100\n",
              "9  1958 593669297         12,177,600  12177600\n",
              "10 1959 599684870         12,178,245  12178245\n",
              "11 1960 605629870         12,098,378  12098378\n",
              "12 1961 611711020         11,990,399  11990399\n",
              "13 1962 617672206         11,784,056  11784056\n",
              "14 1963 623335994         11,654,646  11654646\n",
              "15 1964 628944878         11,467,618  11467618\n",
              "16 1965 634267606         11,141,596  11141596\n",
              "17 1966 639264461         10,950,076  10950076\n",
              "18 1967 644114436         10,969,039  10969039\n",
              "19 1968 648610191         10,821,004  10821004\n",
              "20 1969 652740596         10,685,498  10685498\n",
              "21 1970 656521426         10,568,071  10568071\n",
              "22 1971 660476010         10,662,541  10662541\n",
              "23 1972 664799679         10,499,844  10499844\n",
              "24 1973 668909022         10,322,172  10322172\n",
              "25 1974 672912941         10,406,013  10406013\n",
              "26 1975 676770845         10,285,047  10285047\n",
              "27 1976 680361150         10,242,399  10242399\n",
              "28 1977 683848710         10,171,264  10171264\n",
              "29 1978 687149553         10,143,418  10143418\n",
              "30 1979 690287705         10,159,933  10159933\n",
              "⋮  ⋮    ⋮                 ⋮           ⋮       \n",
              "43 1992 725259493         8,523,515   8523515 \n",
              "44 1993 726441892         8,138,793   8138793 \n",
              "45 1994 727063162         7,913,453   7913453 \n",
              "46 1995 727300408         7,663,831   7663831 \n",
              "47 1996 727453566         7,581,575   7581575 \n",
              "48 1997 727566480         7,476,674   7476674 \n",
              "49 1998 727445606         7,369,527   7369527 \n",
              "50 1999 727100016         7,264,382   7264382 \n",
              "51 2000 726968473         7,325,763   7325763 \n",
              "52 2001 726878371         7,277,594   7277594 \n",
              "53 2002 726939358         7,330,526   7330526 \n",
              "54 2003 727424988         7,442,475   7442475 \n",
              "55 2004 728163243         7,558,652   7558652 \n",
              "56 2005 728950486         7,568,637   7568637 \n",
              "57 2006 729857708         7,703,029   7703029 \n",
              "58 2007 731393136         7,886,129   7886129 \n",
              "59 2008 733256182         8,169,398   8169398 \n",
              "60 2009 734902805         8,208,268   8208268 \n",
              "61 2010 736276813         8,227,484   8227484 \n",
              "62 2011 737589666         8,132,980   8132980 \n",
              "63 2012 738907594         8,178,804   8178804 \n",
              "64 2013 740013806         8,039,791   8039791 \n",
              "65 2014 741014147         8,067,454   8067454 \n",
              "66 2015 742107449         8,004,465   8004465 \n",
              "67 2016 743318582         7,950,684   7950684 \n",
              "68 2017 744449361         7,617,755   7617755 \n",
              "69 2018 745359130         7,375,157   7375157 \n",
              "70 2019 746189645         7,108,392   7108392 \n",
              "71 2020 746225356         6,938,739   6938739 \n",
              "72 2021 745173774         6,879,818   6879818 "
            ]
          },
          "metadata": {}
        }
      ]
    },
    {
      "cell_type": "markdown",
      "metadata": {
        "id": "mJ7m4s4TcIIh"
      },
      "source": [
        "How can we find the correct one? One option is to use our browser to find something that uniquely identifies the table that we want. Alternatively, if a small number, we can just use index number to find the one we want:"
      ]
    },
    {
      "cell_type": "code",
      "execution_count": null,
      "metadata": {
        "id": "iBk5NmBncIIh"
      },
      "outputs": [],
      "source": [
        "# find the table that contains the population for each country\n"
      ]
    },
    {
      "cell_type": "markdown",
      "metadata": {
        "id": "3HtYdEX1cIIi"
      },
      "source": [
        "## 🤔 Quiz\n",
        "\n",
        "What's the average population density ($\\text{persons}/\\text{km}^2$) for countries in Europe?\n",
        "\n",
        "<ol style=\"list-style-type: upper-alpha;\">\n",
        "    <li>1234.5</li>\n",
        "    <li>20000.0</li>\n",
        "    <li>611.8</li>\n",
        "    <li>6520.5</li>\n",
        "    <li>101.1</li>\n",
        "</ol>\n",
        "\n"
      ]
    },
    {
      "cell_type": "code",
      "execution_count": 20,
      "metadata": {
        "id": "zPT36QG8cIIi",
        "outputId": "6c74d8f7-967d-49a5-ab1d-303f17c2b469",
        "colab": {
          "base_uri": "https://localhost:8080/",
          "height": 52
        }
      },
      "outputs": [
        {
          "output_type": "display_data",
          "data": {
            "text/html": [
              "<style>\n",
              ".list-inline {list-style: none; margin:0; padding: 0}\n",
              ".list-inline>li {display: inline-block}\n",
              ".list-inline>li:not(:last-child)::after {content: \"\\00b7\"; padding: 0 .5ex}\n",
              "</style>\n",
              "<ol class=list-inline><li>'Country (or territory)'</li><li>'Population[1][2]'</li><li>'Area.mw-parser-output .nobold{font-weight:normal}(km2)[14]'</li><li>'Density(per km2)'</li><li>'Capital'</li></ol>\n"
            ],
            "text/markdown": "1. 'Country (or territory)'\n2. 'Population[1][2]'\n3. 'Area.mw-parser-output .nobold{font-weight:normal}(km2)[14]'\n4. 'Density(per km2)'\n5. 'Capital'\n\n\n",
            "text/latex": "\\begin{enumerate*}\n\\item 'Country (or territory)'\n\\item 'Population{[}1{]}{[}2{]}'\n\\item 'Area.mw-parser-output .nobold\\{font-weight:normal\\}(km2){[}14{]}'\n\\item 'Density(per km2)'\n\\item 'Capital'\n\\end{enumerate*}\n",
            "text/plain": [
              "[1] \"Country (or territory)\"                                    \n",
              "[2] \"Population[1][2]\"                                          \n",
              "[3] \"Area.mw-parser-output .nobold{font-weight:normal}(km2)[14]\"\n",
              "[4] \"Density(per km2)\"                                          \n",
              "[5] \"Capital\"                                                   "
            ]
          },
          "metadata": {}
        }
      ],
      "source": [
        "wiki_tables <- europop %>% html_elements(\"table.wikitable.sortable\") %>% html_table\n",
        "wiki_tables[[4]] %>% colnames"
      ]
    },
    {
      "cell_type": "code",
      "source": [
        "wiki_tables[[4]] %>% \n",
        "  select(dens = `Density(per km2)`) %>% \n",
        "  mutate(dens = parse_number(dens)) %>%\n",
        "    summarise(avg = mean(dens))"
      ],
      "metadata": {
        "colab": {
          "base_uri": "https://localhost:8080/",
          "height": 147
        },
        "id": "MYySp7NNlA0N",
        "outputId": "4ae3418d-e368-4d91-8e58-6167f349e3e4"
      },
      "execution_count": 18,
      "outputs": [
        {
          "output_type": "display_data",
          "data": {
            "text/html": [
              "<table class=\"dataframe\">\n",
              "<caption>A tibble: 1 × 1</caption>\n",
              "<thead>\n",
              "\t<tr><th scope=col>avg</th></tr>\n",
              "\t<tr><th scope=col>&lt;dbl&gt;</th></tr>\n",
              "</thead>\n",
              "<tbody>\n",
              "\t<tr><td>611.819</td></tr>\n",
              "</tbody>\n",
              "</table>\n"
            ],
            "text/markdown": "\nA tibble: 1 × 1\n\n| avg &lt;dbl&gt; |\n|---|\n| 611.819 |\n\n",
            "text/latex": "A tibble: 1 × 1\n\\begin{tabular}{l}\n avg\\\\\n <dbl>\\\\\n\\hline\n\t 611.819\\\\\n\\end{tabular}\n",
            "text/plain": [
              "  avg    \n",
              "1 611.819"
            ]
          },
          "metadata": {}
        }
      ]
    },
    {
      "cell_type": "markdown",
      "metadata": {
        "id": "Y-LP_fxmcIIj"
      },
      "source": [
        "## 🤔 Quiz\n",
        "\n",
        "Use the same page Wikipedia page (Demographics of Europe) to answer the following question:\n",
        "\n",
        "On average, how many people were born *each day* in Europe between 2010 and 2021 (inclusive)?\n",
        "\n",
        "<ol style=\"list-style-type: upper-alpha;\">\n",
        "    <li>90210.10</li>\n",
        "    <li>23043.97</li>\n",
        "    <li>7710127</li>\n",
        "    <li>21123.64</li>\n",
        "    <li>21109.18</li>\n",
        "</ol>\n",
        "\n"
      ]
    },
    {
      "cell_type": "code",
      "execution_count": 29,
      "metadata": {
        "colab": {
          "base_uri": "https://localhost:8080/",
          "height": 35
        },
        "id": "_f9WDX9kcIIj",
        "outputId": "79cd9fd5-a4b0-4cce-ffdf-b4a2ce02693d"
      },
      "outputs": [
        {
          "output_type": "display_data",
          "data": {
            "text/plain": [
              "Time difference of 4383 days"
            ]
          },
          "metadata": {}
        }
      ],
      "source": [
        "library(lubridate)\n",
        "# lubridate::make_date\n",
        "difftime(make_date(2022, 1, 1), make_date(2010, 1, 1), \"days\")\n",
        "\n",
        "# 366 + 365\n"
      ]
    },
    {
      "cell_type": "code",
      "source": [
        "wiki_tables[[3]] %>% select(1:3) %>% slice(-1) %>%\n",
        "  mutate(Year = as.integer(Year),\n",
        "Averagepopulation = parse_number(Averagepopulation),\n",
        "b = parse_number(`Live births`)) %>% filter(Year >= 2010) %>%\n",
        "  summarise(avg_birth = sum(b)/4383)"
      ],
      "metadata": {
        "id": "uJmEzyPSGwCd",
        "outputId": "970dfd69-3fcf-400d-975f-ad43e56f0c25",
        "colab": {
          "base_uri": "https://localhost:8080/",
          "height": 129
        }
      },
      "execution_count": 31,
      "outputs": [
        {
          "output_type": "display_data",
          "data": {
            "text/html": [
              "<table class=\"dataframe\">\n",
              "<caption>A tibble: 1 × 1</caption>\n",
              "<thead>\n",
              "\t<tr><th scope=col>avg_birth</th></tr>\n",
              "\t<tr><th scope=col>&lt;dbl&gt;</th></tr>\n",
              "</thead>\n",
              "<tbody>\n",
              "\t<tr><td>21109.18</td></tr>\n",
              "</tbody>\n",
              "</table>\n"
            ],
            "text/markdown": "\nA tibble: 1 × 1\n\n| avg_birth &lt;dbl&gt; |\n|---|\n| 21109.18 |\n\n",
            "text/latex": "A tibble: 1 × 1\n\\begin{tabular}{l}\n avg\\_birth\\\\\n <dbl>\\\\\n\\hline\n\t 21109.18\\\\\n\\end{tabular}\n",
            "text/plain": [
              "  avg_birth\n",
              "1 21109.18 "
            ]
          },
          "metadata": {}
        }
      ]
    },
    {
      "cell_type": "markdown",
      "metadata": {
        "id": "a_gYzf6CcIIp"
      },
      "source": [
        "### The UofM Stats department\n",
        "Let's say I wanted to make a table of all the [undergraduate stats courses](https://lsa.umich.edu/stats/undergraduate-students/statistics-courses.html) offered by the department. "
      ]
    },
    {
      "cell_type": "code",
      "source": [
        "stats <- read_html('https://lsa.umich.edu/stats/undergraduate-students/statistics-courses.html')\n",
        "stats %>% html_elements(\"b\") %>% html_text"
      ],
      "metadata": {
        "id": "9JpcwO4Kt7B0",
        "outputId": "87b80cb4-374c-4783-fed4-70ab335318be",
        "colab": {
          "base_uri": "https://localhost:8080/",
          "height": 399
        }
      },
      "execution_count": 37,
      "outputs": [
        {
          "output_type": "display_data",
          "data": {
            "text/html": [
              "<style>\n",
              ".list-inline {list-style: none; margin:0; padding: 0}\n",
              ".list-inline>li {display: inline-block}\n",
              ".list-inline>li:not(:last-child)::after {content: \"\\00b7\"; padding: 0 .5ex}\n",
              "</style>\n",
              "<ol class=list-inline><li>'STATS 100: Introduction to Statistics, Probability and Mathematical Modeling'</li><li>'STATS 125: Statistics, Games and Coincidences'</li><li>'STATS 150: Making Sense of Data'</li><li>'STATS 180: AP Statistics'</li><li>'STATS 206/DATASCI 101: Introduction to Data Science'</li><li>'STATS 250: Introduction to Statistics and Data Analysis'</li><li>'STATS 251 – Introductory Statistics Supplement for Mathematics Education'</li><li>'STATS 280: Honors Introduction to Statistics &amp; Data Analysis'</li><li>'STATS 299 - Workplace Internship for Undergraduate Statistics Majors'</li><li>'STATS/DATASCI 306: Introduction to Statistical Computing'</li><li>'STATS/DATASCI 315 – Statistics and Artificial Intelligence '</li><li>''</li><li>'STATS 401: Applied Statistical Methods II'</li><li>'STATS 403: Introduction to Quantitative Research Methods'</li><li>'STATS 404: Effective Communication in Statistics'</li><li>'STATS/DATASCI 406: Computational Methods in Statistics and Data Science'</li><li>'STATS 412: Introduction to Probability &amp; Statistics'</li><li>'STATS/DATASCI 413: Applied Regression Analysis'</li><li>'STATS 414: Topics Course'</li><li>'STATS/DATASCI 415: Data Mining and Statistical Learning'</li><li>'STATS/MATH 425: Introduction to Probability'</li><li>'STATS 426: Introduction to Theoretical Statistics'</li><li>'STATS 430: Applied Probability'</li><li>'STATS/BIOSTAT 449: Topics in Biostatistics'</li><li>'STATS/DATASCI 451: Bayesian Data Analysis'</li><li>'STATS 470: Introduction to the Design of Experiments'</li><li>'STATS 480: Survey Sampling Techniques'</li><li>'STATS/DATASCI 485: Capstone Seminar'</li><li>'STATS 489: Independent Study in Statistics'</li><li>'STATS 499: Honors Seminar'</li><li>'Please send permission requests to statsugradprogram@umich.edu'</li></ol>\n"
            ],
            "text/markdown": "1. 'STATS 100: Introduction to Statistics, Probability and Mathematical Modeling'\n2. 'STATS 125: Statistics, Games and Coincidences'\n3. 'STATS 150: Making Sense of Data'\n4. 'STATS 180: AP Statistics'\n5. 'STATS 206/DATASCI 101: Introduction to Data Science'\n6. 'STATS 250: Introduction to Statistics and Data Analysis'\n7. 'STATS 251 – Introductory Statistics Supplement for Mathematics Education'\n8. 'STATS 280: Honors Introduction to Statistics &amp; Data Analysis'\n9. 'STATS 299 - Workplace Internship for Undergraduate Statistics Majors'\n10. 'STATS/DATASCI 306: Introduction to Statistical Computing'\n11. 'STATS/DATASCI 315 – Statistics and Artificial Intelligence '\n12. ''\n13. 'STATS 401: Applied Statistical Methods II'\n14. 'STATS 403: Introduction to Quantitative Research Methods'\n15. 'STATS 404: Effective Communication in Statistics'\n16. 'STATS/DATASCI 406: Computational Methods in Statistics and Data Science'\n17. 'STATS 412: Introduction to Probability &amp; Statistics'\n18. 'STATS/DATASCI 413: Applied Regression Analysis'\n19. 'STATS 414: Topics Course'\n20. 'STATS/DATASCI 415: Data Mining and Statistical Learning'\n21. 'STATS/MATH 425: Introduction to Probability'\n22. 'STATS 426: Introduction to Theoretical Statistics'\n23. 'STATS 430: Applied Probability'\n24. 'STATS/BIOSTAT 449: Topics in Biostatistics'\n25. 'STATS/DATASCI 451: Bayesian Data Analysis'\n26. 'STATS 470: Introduction to the Design of Experiments'\n27. 'STATS 480: Survey Sampling Techniques'\n28. 'STATS/DATASCI 485: Capstone Seminar'\n29. 'STATS 489: Independent Study in Statistics'\n30. 'STATS 499: Honors Seminar'\n31. 'Please send permission requests to statsugradprogram@umich.edu'\n\n\n",
            "text/latex": "\\begin{enumerate*}\n\\item 'STATS 100: Introduction to Statistics, Probability and Mathematical Modeling'\n\\item 'STATS 125: Statistics, Games and Coincidences'\n\\item 'STATS 150: Making Sense of Data'\n\\item 'STATS 180: AP Statistics'\n\\item 'STATS 206/DATASCI 101: Introduction to Data Science'\n\\item 'STATS 250: Introduction to Statistics and Data Analysis'\n\\item 'STATS 251 – Introductory Statistics Supplement for Mathematics Education'\n\\item 'STATS 280: Honors Introduction to Statistics \\& Data Analysis'\n\\item 'STATS 299 - Workplace Internship for Undergraduate Statistics Majors'\n\\item 'STATS/DATASCI 306: Introduction to Statistical Computing'\n\\item 'STATS/DATASCI 315 – Statistics and Artificial Intelligence '\n\\item ''\n\\item 'STATS 401: Applied Statistical Methods II'\n\\item 'STATS 403: Introduction to Quantitative Research Methods'\n\\item 'STATS 404: Effective Communication in Statistics'\n\\item 'STATS/DATASCI 406: Computational Methods in Statistics and Data Science'\n\\item 'STATS 412: Introduction to Probability \\& Statistics'\n\\item 'STATS/DATASCI 413: Applied Regression Analysis'\n\\item 'STATS 414: Topics Course'\n\\item 'STATS/DATASCI 415: Data Mining and Statistical Learning'\n\\item 'STATS/MATH 425: Introduction to Probability'\n\\item 'STATS 426: Introduction to Theoretical Statistics'\n\\item 'STATS 430: Applied Probability'\n\\item 'STATS/BIOSTAT 449: Topics in Biostatistics'\n\\item 'STATS/DATASCI 451: Bayesian Data Analysis'\n\\item 'STATS 470: Introduction to the Design of Experiments'\n\\item 'STATS 480: Survey Sampling Techniques'\n\\item 'STATS/DATASCI 485: Capstone Seminar'\n\\item 'STATS 489: Independent Study in Statistics'\n\\item 'STATS 499: Honors Seminar'\n\\item 'Please send permission requests to statsugradprogram@umich.edu'\n\\end{enumerate*}\n",
            "text/plain": [
              " [1] \"STATS 100: Introduction to Statistics, Probability and Mathematical Modeling\"\n",
              " [2] \"STATS 125: Statistics, Games and Coincidences\"                               \n",
              " [3] \"STATS 150: Making Sense of Data\"                                             \n",
              " [4] \"STATS 180: AP Statistics\"                                                    \n",
              " [5] \"STATS 206/DATASCI 101: Introduction to Data Science\"                         \n",
              " [6] \"STATS 250: Introduction to Statistics and Data Analysis\"                     \n",
              " [7] \"STATS 251 – Introductory Statistics Supplement for Mathematics Education\"    \n",
              " [8] \"STATS 280: Honors Introduction to Statistics & Data Analysis\"                \n",
              " [9] \"STATS 299 - Workplace Internship for Undergraduate Statistics Majors\"        \n",
              "[10] \"STATS/DATASCI 306: Introduction to Statistical Computing\"                    \n",
              "[11] \"STATS/DATASCI 315 – Statistics and Artificial Intelligence \"                 \n",
              "[12] \"\"                                                                            \n",
              "[13] \"STATS 401: Applied Statistical Methods II\"                                   \n",
              "[14] \"STATS 403: Introduction to Quantitative Research Methods\"                    \n",
              "[15] \"STATS 404: Effective Communication in Statistics\"                            \n",
              "[16] \"STATS/DATASCI 406: Computational Methods in Statistics and Data Science\"     \n",
              "[17] \"STATS 412: Introduction to Probability & Statistics\"                         \n",
              "[18] \"STATS/DATASCI 413: Applied Regression Analysis\"                              \n",
              "[19] \"STATS 414: Topics Course\"                                                    \n",
              "[20] \"STATS/DATASCI 415: Data Mining and Statistical Learning\"                     \n",
              "[21] \"STATS/MATH 425: Introduction to Probability\"                                 \n",
              "[22] \"STATS 426: Introduction to Theoretical Statistics\"                           \n",
              "[23] \"STATS 430: Applied Probability\"                                              \n",
              "[24] \"STATS/BIOSTAT 449: Topics in Biostatistics\"                                  \n",
              "[25] \"STATS/DATASCI 451: Bayesian Data Analysis\"                                   \n",
              "[26] \"STATS 470: Introduction to the Design of Experiments\"                        \n",
              "[27] \"STATS 480: Survey Sampling Techniques\"                                       \n",
              "[28] \"STATS/DATASCI 485: Capstone Seminar\"                                         \n",
              "[29] \"STATS 489: Independent Study in Statistics\"                                  \n",
              "[30] \"STATS 499: Honors Seminar\"                                                   \n",
              "[31] \"Please send permission requests to statsugradprogram@umich.edu\"              "
            ]
          },
          "metadata": {}
        }
      ]
    },
    {
      "cell_type": "markdown",
      "source": [
        "How should we extract the data from this web page? We notice from inspecting the page that each course title is a `<b>` (bold) element:"
      ],
      "metadata": {
        "id": "4mfPL_CdtyFN"
      }
    },
    {
      "cell_type": "markdown",
      "metadata": {
        "id": "9mdwPBE9cIIm"
      },
      "source": [
        "## IMDB top movies\n",
        "\n",
        "Let's consider a well-known table: the [top 250 movies on IMDB](https://www.imdb.com/chart/top/)."
      ]
    },
    {
      "cell_type": "code",
      "execution_count": null,
      "metadata": {
        "id": "WeuxJw9scIIm"
      },
      "outputs": [],
      "source": [
        "imdb.250 <- read_html(\"https://www.imdb.com/chart/top/\")"
      ]
    },
    {
      "cell_type": "code",
      "execution_count": null,
      "metadata": {
        "id": "3Z7fw8Z7cIIm",
        "outputId": "6ee00773-e0cf-4ac1-fa9b-375e7f011223"
      },
      "outputs": [
        {
          "data": {
            "text/html": [
              "<table class=\"dataframe\">\n",
              "<caption>A tibble: 11 × 6</caption>\n",
              "<thead>\n",
              "\t<tr><th scope=col>title</th><th scope=col>year</th><th scope=col>rating</th><th scope=col>top_rating</th><th scope=col>king</th><th scope=col>delta</th></tr>\n",
              "\t<tr><th scope=col>&lt;chr&gt;</th><th scope=col>&lt;dbl&gt;</th><th scope=col>&lt;dbl&gt;</th><th scope=col>&lt;dbl&gt;</th><th scope=col>&lt;lgl&gt;</th><th scope=col>&lt;dbl&gt;</th></tr>\n",
              "</thead>\n",
              "<tbody>\n",
              "\t<tr><td>\n",
              "      The Kid\n",
              "                         </td><td>1921</td><td>8.2</td><td>8.2</td><td>TRUE</td><td> 6</td></tr>\n",
              "\t<tr><td>\n",
              "      Metropolis\n",
              "                      </td><td>1927</td><td>8.2</td><td>8.2</td><td>TRUE</td><td> 4</td></tr>\n",
              "\t<tr><td>\n",
              "      City Lights\n",
              "                     </td><td>1931</td><td>8.4</td><td>8.4</td><td>TRUE</td><td> 5</td></tr>\n",
              "\t<tr><td>\n",
              "      Modern Times\n",
              "                    </td><td>1936</td><td>8.4</td><td>8.4</td><td>TRUE</td><td> 4</td></tr>\n",
              "\t<tr><td>\n",
              "      The Great Dictator\n",
              "              </td><td>1940</td><td>8.4</td><td>8.4</td><td>TRUE</td><td> 2</td></tr>\n",
              "\t<tr><td>\n",
              "      Casablanca\n",
              "                      </td><td>1942</td><td>8.5</td><td>8.5</td><td>TRUE</td><td> 4</td></tr>\n",
              "\t<tr><td>\n",
              "      It's a Wonderful Life\n",
              "           </td><td>1946</td><td>8.6</td><td>8.6</td><td>TRUE</td><td> 8</td></tr>\n",
              "\t<tr><td>\n",
              "      Seven Samurai\n",
              "                   </td><td>1954</td><td>8.6</td><td>8.6</td><td>TRUE</td><td> 3</td></tr>\n",
              "\t<tr><td>\n",
              "      12 Angry Men\n",
              "                    </td><td>1957</td><td>9.0</td><td>9.0</td><td>TRUE</td><td>15</td></tr>\n",
              "\t<tr><td>\n",
              "      The Godfather\n",
              "                   </td><td>1972</td><td>9.2</td><td>9.2</td><td>TRUE</td><td>22</td></tr>\n",
              "\t<tr><td>\n",
              "      The Shawshank Redemption\n",
              "        </td><td>1994</td><td>9.2</td><td>9.2</td><td>TRUE</td><td>NA</td></tr>\n",
              "</tbody>\n",
              "</table>\n"
            ],
            "text/latex": [
              "A tibble: 11 × 6\n",
              "\\begin{tabular}{llllll}\n",
              " title & year & rating & top\\_rating & king & delta\\\\\n",
              " <chr> & <dbl> & <dbl> & <dbl> & <lgl> & <dbl>\\\\\n",
              "\\hline\n",
              "\t \n",
              "      The Kid\n",
              "                          & 1921 & 8.2 & 8.2 & TRUE &  6\\\\\n",
              "\t \n",
              "      Metropolis\n",
              "                       & 1927 & 8.2 & 8.2 & TRUE &  4\\\\\n",
              "\t \n",
              "      City Lights\n",
              "                      & 1931 & 8.4 & 8.4 & TRUE &  5\\\\\n",
              "\t \n",
              "      Modern Times\n",
              "                     & 1936 & 8.4 & 8.4 & TRUE &  4\\\\\n",
              "\t \n",
              "      The Great Dictator\n",
              "               & 1940 & 8.4 & 8.4 & TRUE &  2\\\\\n",
              "\t \n",
              "      Casablanca\n",
              "                       & 1942 & 8.5 & 8.5 & TRUE &  4\\\\\n",
              "\t \n",
              "      It's a Wonderful Life\n",
              "            & 1946 & 8.6 & 8.6 & TRUE &  8\\\\\n",
              "\t \n",
              "      Seven Samurai\n",
              "                    & 1954 & 8.6 & 8.6 & TRUE &  3\\\\\n",
              "\t \n",
              "      12 Angry Men\n",
              "                     & 1957 & 9.0 & 9.0 & TRUE & 15\\\\\n",
              "\t \n",
              "      The Godfather\n",
              "                    & 1972 & 9.2 & 9.2 & TRUE & 22\\\\\n",
              "\t \n",
              "      The Shawshank Redemption\n",
              "         & 1994 & 9.2 & 9.2 & TRUE & NA\\\\\n",
              "\\end{tabular}\n"
            ],
            "text/markdown": [
              "\n",
              "A tibble: 11 × 6\n",
              "\n",
              "| title &lt;chr&gt; | year &lt;dbl&gt; | rating &lt;dbl&gt; | top_rating &lt;dbl&gt; | king &lt;lgl&gt; | delta &lt;dbl&gt; |\n",
              "|---|---|---|---|---|---|\n",
              "| \n",
              "      The Kid\n",
              "                          | 1921 | 8.2 | 8.2 | TRUE |  6 |\n",
              "| \n",
              "      Metropolis\n",
              "                       | 1927 | 8.2 | 8.2 | TRUE |  4 |\n",
              "| \n",
              "      City Lights\n",
              "                      | 1931 | 8.4 | 8.4 | TRUE |  5 |\n",
              "| \n",
              "      Modern Times\n",
              "                     | 1936 | 8.4 | 8.4 | TRUE |  4 |\n",
              "| \n",
              "      The Great Dictator\n",
              "               | 1940 | 8.4 | 8.4 | TRUE |  2 |\n",
              "| \n",
              "      Casablanca\n",
              "                       | 1942 | 8.5 | 8.5 | TRUE |  4 |\n",
              "| \n",
              "      It's a Wonderful Life\n",
              "            | 1946 | 8.6 | 8.6 | TRUE |  8 |\n",
              "| \n",
              "      Seven Samurai\n",
              "                    | 1954 | 8.6 | 8.6 | TRUE |  3 |\n",
              "| \n",
              "      12 Angry Men\n",
              "                     | 1957 | 9.0 | 9.0 | TRUE | 15 |\n",
              "| \n",
              "      The Godfather\n",
              "                    | 1972 | 9.2 | 9.2 | TRUE | 22 |\n",
              "| \n",
              "      The Shawshank Redemption\n",
              "         | 1994 | 9.2 | 9.2 | TRUE | NA |\n",
              "\n"
            ],
            "text/plain": [
              "   title                                      year rating top_rating king delta\n",
              "1  \\n      The Kid\\n                          1921 8.2    8.2        TRUE  6   \n",
              "2  \\n      Metropolis\\n                       1927 8.2    8.2        TRUE  4   \n",
              "3  \\n      City Lights\\n                      1931 8.4    8.4        TRUE  5   \n",
              "4  \\n      Modern Times\\n                     1936 8.4    8.4        TRUE  4   \n",
              "5  \\n      The Great Dictator\\n               1940 8.4    8.4        TRUE  2   \n",
              "6  \\n      Casablanca\\n                       1942 8.5    8.5        TRUE  4   \n",
              "7  \\n      It's a Wonderful Life\\n            1946 8.6    8.6        TRUE  8   \n",
              "8  \\n      Seven Samurai\\n                    1954 8.6    8.6        TRUE  3   \n",
              "9  \\n      12 Angry Men\\n                     1957 9.0    9.0        TRUE 15   \n",
              "10 \\n      The Godfather\\n                    1972 9.2    9.2        TRUE 22   \n",
              "11 \\n      The Shawshank Redemption\\n         1994 9.2    9.2        TRUE NA   "
            ]
          },
          "metadata": {},
          "output_type": "display_data"
        }
      ],
      "source": [
        "# parse imdb\n",
        "imdbf %>% arrange(year) %>% mutate(top_rating = cummax(rating), king = rating == top_rating) %>% \n",
        "    filter(king) %>% mutate(delta = lead(year) - year)\n"
      ]
    },
    {
      "cell_type": "markdown",
      "metadata": {
        "id": "SC4OaGHWcIIn"
      },
      "source": [
        "## Exercise\n",
        "\n",
        "\"The Kid\" came out in 1921 and has a rating of 8.2. Another movie that was rated at least as high didn't come out until 1927 (Metropolis), so we could say that The Kid reigned as the #1 film for six years. Metropolis reigned for four years until City Lights (rating 8.4) came out.\n",
        "\n",
        "Which film reigned for the longest amount of time?"
      ]
    },
    {
      "cell_type": "code",
      "execution_count": null,
      "metadata": {
        "id": "B-AOtarScIIn"
      },
      "outputs": [],
      "source": [
        "# longest reign"
      ]
    },
    {
      "cell_type": "markdown",
      "metadata": {
        "id": "tX6IG-dGcIIn"
      },
      "source": [
        "## Super Bowl TV ratings\n",
        "We just had the Super Bowl. How have the TV ratings for the Super Bowl changed over the years?"
      ]
    },
    {
      "cell_type": "code",
      "execution_count": null,
      "metadata": {
        "id": "hyjnMloncIIn"
      },
      "outputs": [],
      "source": [
        "sbtv <- read_html('https://en.wikipedia.org/wiki/Super_Bowl_television_ratings') %>% html_elements('table') %>% .[[1]] %>% html_table"
      ]
    },
    {
      "cell_type": "code",
      "execution_count": null,
      "metadata": {
        "id": "ZPqeVqyUcIIo"
      },
      "outputs": [],
      "source": [
        "# viewers over time"
      ]
    },
    {
      "cell_type": "markdown",
      "metadata": {
        "id": "72G_9s03cIIo"
      },
      "source": [
        "How does this compare with other major sports?\n",
        "\n",
        "- https://en.wikipedia.org/wiki/World_Series_television_ratings\n",
        "- https://en.wikipedia.org/wiki/NBA_Finals_television_ratings"
      ]
    },
    {
      "cell_type": "code",
      "execution_count": null,
      "metadata": {
        "id": "NzwMai6JcIIo"
      },
      "outputs": [],
      "source": [
        "# super bowl vs world series"
      ]
    },
    {
      "cell_type": "markdown",
      "metadata": {
        "id": "NLWLKMrfcIIq"
      },
      "source": [
        "### Reddit\n",
        "Let's see how to scrape the [UofM Reddit site](https://old.reddit.com/r/uofm):"
      ]
    },
    {
      "cell_type": "code",
      "execution_count": null,
      "metadata": {
        "id": "6WB640fycIIq"
      },
      "outputs": [],
      "source": [
        "top.reddit <- read_html('https://old.reddit.com/r/uofm/top/?sort=top&t=all')"
      ]
    },
    {
      "cell_type": "markdown",
      "metadata": {
        "id": "-lRngwqUcIIq"
      },
      "source": [
        "Let's plot the top scoring posts, when they were posted, and how many votes they have received."
      ]
    },
    {
      "cell_type": "code",
      "execution_count": null,
      "metadata": {
        "id": "Ky9xfX8_cIIq"
      },
      "outputs": [],
      "source": [
        "# top posts on r/uofm"
      ]
    }
  ],
  "metadata": {
    "celltoolbar": "Slideshow",
    "kernelspec": {
      "display_name": "R",
      "language": "R",
      "name": "ir"
    },
    "language_info": {
      "codemirror_mode": "r",
      "file_extension": ".r",
      "mimetype": "text/x-r-source",
      "name": "R",
      "pygments_lexer": "r",
      "version": "4.2.1"
    },
    "colab": {
      "provenance": []
    }
  },
  "nbformat": 4,
  "nbformat_minor": 0
}