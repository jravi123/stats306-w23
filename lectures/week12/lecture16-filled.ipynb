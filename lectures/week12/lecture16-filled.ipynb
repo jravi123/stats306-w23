{
  "cells": [
    {
      "cell_type": "markdown",
      "metadata": {
        "id": "XlOf9RFL1GTi"
      },
      "source": [
        "# Lecture 16: Writing Functions in R\n",
        "<div style=\"border: 1px double black; padding: 10px; margin: 10px\">\n",
        "\n",
        "**After today's lecture you will understand:**\n",
        "* how to write functions in R\n",
        "</div>\n",
        "\n",
        "This correpsonds to Chapter 26 of your book\n",
        "\n",
        "\n",
        "\n"
      ]
    },
    {
      "cell_type": "code",
      "execution_count": null,
      "metadata": {
        "id": "LNaTvkfD1GTn",
        "colab": {
          "base_uri": "https://localhost:8080/"
        },
        "outputId": "d63b4993-b83d-4b84-ac17-4d579711cf0c"
      },
      "outputs": [
        {
          "output_type": "stream",
          "name": "stderr",
          "text": [
            "Warning message in system(\"timedatectl\", intern = TRUE):\n",
            "“running command 'timedatectl' had status 1”\n",
            "── \u001b[1mAttaching packages\u001b[22m ─────────────────────────────────────── tidyverse 1.3.1 ──\n",
            "\n",
            "\u001b[32m✔\u001b[39m \u001b[34mggplot2\u001b[39m 3.4.1     \u001b[32m✔\u001b[39m \u001b[34mpurrr  \u001b[39m 1.0.1\n",
            "\u001b[32m✔\u001b[39m \u001b[34mtibble \u001b[39m 3.2.0     \u001b[32m✔\u001b[39m \u001b[34mdplyr  \u001b[39m 1.1.0\n",
            "\u001b[32m✔\u001b[39m \u001b[34mtidyr  \u001b[39m 1.3.0     \u001b[32m✔\u001b[39m \u001b[34mstringr\u001b[39m 1.4.1\n",
            "\u001b[32m✔\u001b[39m \u001b[34mreadr  \u001b[39m 2.1.4     \u001b[32m✔\u001b[39m \u001b[34mforcats\u001b[39m 1.0.0\n",
            "\n",
            "── \u001b[1mConflicts\u001b[22m ────────────────────────────────────────── tidyverse_conflicts() ──\n",
            "\u001b[31m✖\u001b[39m \u001b[34mdplyr\u001b[39m::\u001b[32mfilter()\u001b[39m masks \u001b[34mstats\u001b[39m::filter()\n",
            "\u001b[31m✖\u001b[39m \u001b[34mdplyr\u001b[39m::\u001b[32mlag()\u001b[39m    masks \u001b[34mstats\u001b[39m::lag()\n",
            "\n",
            "Downloading GitHub repo bradleyboehmke/harrypotter@HEAD\n",
            "\n"
          ]
        },
        {
          "output_type": "stream",
          "name": "stdout",
          "text": [
            "\u001b[36m──\u001b[39m \u001b[36mR CMD build\u001b[39m \u001b[36m─────────────────────────────────────────────────────────────────\u001b[39m\n",
            "* checking for file ‘/tmp/RtmpXRCotN/remotes46c5249d3e8/bradleyboehmke-harrypotter-51f7146/DESCRIPTION’ ... OK\n",
            "* preparing ‘harrypotter’:\n",
            "* checking DESCRIPTION meta-information ... OK\n",
            "* checking for LF line-endings in source and make files and shell scripts\n",
            "* checking for empty or unneeded directories\n",
            "* building ‘harrypotter_0.1.0.tar.gz’\n",
            "\n"
          ]
        },
        {
          "output_type": "stream",
          "name": "stderr",
          "text": [
            "Installing package into ‘/usr/local/lib/R/site-library’\n",
            "(as ‘lib’ is unspecified)\n",
            "\n",
            "Installing package into ‘/usr/local/lib/R/site-library’\n",
            "(as ‘lib’ is unspecified)\n",
            "\n",
            "also installing the dependencies ‘Rcpp’, ‘SnowballC’, ‘janeaustenr’, ‘tokenizers’\n",
            "\n",
            "\n"
          ]
        }
      ],
      "source": [
        "library(tidyverse)\n",
        "remotes::install_github(\"bradleyboehmke/harrypotter\")\n",
        "install.packages(\"tidytext\")\n",
        "library(harrypotter)\n",
        "library(tidytext)"
      ]
    },
    {
      "cell_type": "markdown",
      "source": [
        "# Function\n",
        "Function is not new to use, we have been using `functions` right from day-1. \n",
        "\n",
        "`print`, `filter`, `tibble` - are all functions. \n",
        "\n",
        "Try \n",
        "\n",
        "`class(print)`\n",
        "\n",
        "Today we will learn to write our own functions"
      ],
      "metadata": {
        "id": "xJgocmutIfof"
      }
    },
    {
      "cell_type": "markdown",
      "source": [
        "### Why write out own functions??\n",
        "\n",
        "Often when programming we find ourselves repeating the same block of code with minor modifications. \n",
        "\n",
        "Did you encounter this situation in your HW7 when you applied the same logic again and again, while deriving the sentiment score for all the Harry Potter books??\n",
        "\n",
        "That is precisely when a function is defined to save ourselves from repetition!\n",
        "\n",
        "Let us start with simple examples. When building machine learning models (which you will learn next week) it is common practice to normalize all the columns values to the same scale; typically between 0 and 1. Let us take the `mpg` dataset and see its current min and max values:"
      ],
      "metadata": {
        "id": "GjeuBDWQ7ubr"
      }
    },
    {
      "cell_type": "code",
      "source": [
        "class(print)"
      ],
      "metadata": {
        "id": "hA7lDAXPnTcD",
        "outputId": "18617ac0-1057-4b7f-ece6-e2b8d4f9063e",
        "colab": {
          "base_uri": "https://localhost:8080/",
          "height": 34
        }
      },
      "execution_count": 96,
      "outputs": [
        {
          "output_type": "display_data",
          "data": {
            "text/html": [
              "'function'"
            ],
            "text/markdown": "'function'",
            "text/latex": "'function'",
            "text/plain": [
              "[1] \"function\""
            ]
          },
          "metadata": {}
        }
      ]
    },
    {
      "cell_type": "code",
      "source": [
        "mpg$hwy %>% range"
      ],
      "metadata": {
        "colab": {
          "base_uri": "https://localhost:8080/",
          "height": 34
        },
        "id": "ZwBcWuaSC65I",
        "outputId": "ca421d71-071a-4d06-ca3b-e94fb7271aa6"
      },
      "execution_count": null,
      "outputs": [
        {
          "output_type": "display_data",
          "data": {
            "text/html": [
              "<style>\n",
              ".list-inline {list-style: none; margin:0; padding: 0}\n",
              ".list-inline>li {display: inline-block}\n",
              ".list-inline>li:not(:last-child)::after {content: \"\\00b7\"; padding: 0 .5ex}\n",
              "</style>\n",
              "<ol class=list-inline><li>12</li><li>44</li></ol>\n"
            ],
            "text/markdown": "1. 12\n2. 44\n\n\n",
            "text/latex": "\\begin{enumerate*}\n\\item 12\n\\item 44\n\\end{enumerate*}\n",
            "text/plain": [
              "[1] 12 44"
            ]
          },
          "metadata": {}
        }
      ]
    },
    {
      "cell_type": "markdown",
      "source": [
        "Let us now normalize it"
      ],
      "metadata": {
        "id": "tZi8Sl3BDGrg"
      }
    },
    {
      "cell_type": "code",
      "source": [
        "hwy_a <- (mpg$hwy - min(mpg$hwy, na.rm = TRUE)) / (max(mpg$hwy, na.rm = TRUE) - min(mpg$hwy, na.rm = TRUE))\n",
        "hwy_a %>% range"
      ],
      "metadata": {
        "colab": {
          "base_uri": "https://localhost:8080/",
          "height": 34
        },
        "id": "IbO0bI637vLy",
        "outputId": "4828a279-fa2b-4503-dda9-aef208e9c550"
      },
      "execution_count": 98,
      "outputs": [
        {
          "output_type": "display_data",
          "data": {
            "text/html": [
              "<style>\n",
              ".list-inline {list-style: none; margin:0; padding: 0}\n",
              ".list-inline>li {display: inline-block}\n",
              ".list-inline>li:not(:last-child)::after {content: \"\\00b7\"; padding: 0 .5ex}\n",
              "</style>\n",
              "<ol class=list-inline><li>0</li><li>1</li></ol>\n"
            ],
            "text/markdown": "1. 0\n2. 1\n\n\n",
            "text/latex": "\\begin{enumerate*}\n\\item 0\n\\item 1\n\\end{enumerate*}\n",
            "text/plain": [
              "[1] 0 1"
            ]
          },
          "metadata": {}
        }
      ]
    },
    {
      "cell_type": "markdown",
      "source": [
        "We need to do the exact same for all columns; to begin with let us do for all numerical columns. And it is easy to copy and paste the same code from above and change the variable names"
      ],
      "metadata": {
        "id": "d39irSk0DU7K"
      }
    },
    {
      "cell_type": "code",
      "source": [
        "cty_a <- (mpg$cty - min(mpg$cty, na.rm = TRUE)) / (max(mpg$cty, na.rm = TRUE) - min(mpg$hwy, na.rm = TRUE))\n",
        "cty_a %>% range"
      ],
      "metadata": {
        "colab": {
          "base_uri": "https://localhost:8080/",
          "height": 34
        },
        "id": "55332GY1Dk5k",
        "outputId": "e7c2c1da-c10a-4ccf-d8b7-ec78fe88d17d"
      },
      "execution_count": null,
      "outputs": [
        {
          "output_type": "display_data",
          "data": {
            "text/html": [
              "<style>\n",
              ".list-inline {list-style: none; margin:0; padding: 0}\n",
              ".list-inline>li {display: inline-block}\n",
              ".list-inline>li:not(:last-child)::after {content: \"\\00b7\"; padding: 0 .5ex}\n",
              "</style>\n",
              "<ol class=list-inline><li>0</li><li>1.1304347826087</li></ol>\n"
            ],
            "text/markdown": "1. 0\n2. 1.1304347826087\n\n\n",
            "text/latex": "\\begin{enumerate*}\n\\item 0\n\\item 1.1304347826087\n\\end{enumerate*}\n",
            "text/plain": [
              "[1] 0.000000 1.130435"
            ]
          },
          "metadata": {}
        }
      ]
    },
    {
      "cell_type": "markdown",
      "source": [
        "Do you want to use HackerRank to compenstate your iClicker participate score\n",
        "\n",
        "* A - Yes\n",
        "* B - No"
      ],
      "metadata": {
        "id": "kAjz6zHZpoOe"
      }
    },
    {
      "cell_type": "markdown",
      "source": [
        "🤔 Quiz\n",
        "\n",
        "Why is the range not showing a maximum of 1?\n",
        "\n",
        "* A. For the `cty` values it cannot have a maximum value of 1\n",
        "* B. The numerator should use `max` function\n",
        "* C. Copy-paste technique not done correctly is the reason for a `flaw` in the formula"
      ],
      "metadata": {
        "id": "9Xgz9o_wD5wP"
      }
    },
    {
      "cell_type": "markdown",
      "source": [
        "We still need to do the exact same procedure for all other columns as well and so intead of repeating ourselves we can introduce a function to do the repeats."
      ],
      "metadata": {
        "id": "-phP4EpQFT3l"
      }
    },
    {
      "cell_type": "code",
      "source": [
        "rescale <- function(x){\n",
        "  (x - min(x, na.rm = TRUE)) / (max(x, na.rm = TRUE) - min(x, na.rm = TRUE))\n",
        "}\n",
        "rescale(mpg$hwy) %>% range\n",
        "rescale(mpg$cyl) %>% range"
      ],
      "metadata": {
        "id": "ER9iBKfgFS7-",
        "outputId": "a8f6cd03-11f6-43e4-fd97-e4569260b024",
        "colab": {
          "base_uri": "https://localhost:8080/",
          "height": 52
        }
      },
      "execution_count": 112,
      "outputs": [
        {
          "output_type": "display_data",
          "data": {
            "text/html": [
              "<style>\n",
              ".list-inline {list-style: none; margin:0; padding: 0}\n",
              ".list-inline>li {display: inline-block}\n",
              ".list-inline>li:not(:last-child)::after {content: \"\\00b7\"; padding: 0 .5ex}\n",
              "</style>\n",
              "<ol class=list-inline><li>0</li><li>1</li></ol>\n"
            ],
            "text/markdown": "1. 0\n2. 1\n\n\n",
            "text/latex": "\\begin{enumerate*}\n\\item 0\n\\item 1\n\\end{enumerate*}\n",
            "text/plain": [
              "[1] 0 1"
            ]
          },
          "metadata": {}
        },
        {
          "output_type": "display_data",
          "data": {
            "text/html": [
              "<style>\n",
              ".list-inline {list-style: none; margin:0; padding: 0}\n",
              ".list-inline>li {display: inline-block}\n",
              ".list-inline>li:not(:last-child)::after {content: \"\\00b7\"; padding: 0 .5ex}\n",
              "</style>\n",
              "<ol class=list-inline><li>0</li><li>1</li></ol>\n"
            ],
            "text/markdown": "1. 0\n2. 1\n\n\n",
            "text/latex": "\\begin{enumerate*}\n\\item 0\n\\item 1\n\\end{enumerate*}\n",
            "text/plain": [
              "[1] 0 1"
            ]
          },
          "metadata": {}
        }
      ]
    },
    {
      "cell_type": "code",
      "source": [
        "mpg %>% glimpse"
      ],
      "metadata": {
        "id": "CX_tUVdcrhNC",
        "outputId": "910096ed-218b-4f89-e266-0349b855111c",
        "colab": {
          "base_uri": "https://localhost:8080/"
        }
      },
      "execution_count": 102,
      "outputs": [
        {
          "output_type": "stream",
          "name": "stdout",
          "text": [
            "Rows: 234\n",
            "Columns: 11\n",
            "$ manufacturer \u001b[3m\u001b[90m<chr>\u001b[39m\u001b[23m \"audi\", \"audi\", \"audi\", \"audi\", \"audi\", \"audi\", \"audi\", \"…\n",
            "$ model        \u001b[3m\u001b[90m<chr>\u001b[39m\u001b[23m \"a4\", \"a4\", \"a4\", \"a4\", \"a4\", \"a4\", \"a4\", \"a4 quattro\", \"…\n",
            "$ displ        \u001b[3m\u001b[90m<dbl>\u001b[39m\u001b[23m 1.8, 1.8, 2.0, 2.0, 2.8, 2.8, 3.1, 1.8, 1.8, 2.0, 2.0, 2.…\n",
            "$ year         \u001b[3m\u001b[90m<int>\u001b[39m\u001b[23m 1999, 1999, 2008, 2008, 1999, 1999, 2008, 1999, 1999, 200…\n",
            "$ cyl          \u001b[3m\u001b[90m<int>\u001b[39m\u001b[23m 4, 4, 4, 4, 6, 6, 6, 4, 4, 4, 4, 6, 6, 6, 6, 6, 6, 8, 8, …\n",
            "$ trans        \u001b[3m\u001b[90m<chr>\u001b[39m\u001b[23m \"auto(l5)\", \"manual(m5)\", \"manual(m6)\", \"auto(av)\", \"auto…\n",
            "$ drv          \u001b[3m\u001b[90m<chr>\u001b[39m\u001b[23m \"f\", \"f\", \"f\", \"f\", \"f\", \"f\", \"f\", \"4\", \"4\", \"4\", \"4\", \"4…\n",
            "$ cty          \u001b[3m\u001b[90m<int>\u001b[39m\u001b[23m 18, 21, 20, 21, 16, 18, 18, 18, 16, 20, 19, 15, 17, 17, 1…\n",
            "$ hwy          \u001b[3m\u001b[90m<int>\u001b[39m\u001b[23m 29, 29, 31, 30, 26, 26, 27, 26, 25, 28, 27, 25, 25, 25, 2…\n",
            "$ fl           \u001b[3m\u001b[90m<chr>\u001b[39m\u001b[23m \"p\", \"p\", \"p\", \"p\", \"p\", \"p\", \"p\", \"p\", \"p\", \"p\", \"p\", \"p…\n",
            "$ class        \u001b[3m\u001b[90m<chr>\u001b[39m\u001b[23m \"compact\", \"compact\", \"compact\", \"compact\", \"compact\", \"c…\n"
          ]
        }
      ]
    },
    {
      "cell_type": "markdown",
      "source": [
        "## Anatomy of a function\n",
        "To write a function we should first think about the inputs and output. A function takes input(s), does something(s) to them, and then returns an output.\n",
        "\n"
      ],
      "metadata": {
        "id": "Pp_j9XXuGHxC"
      }
    },
    {
      "cell_type": "markdown",
      "source": [
        "🤔 Quiz\n",
        "\n",
        "What is the output of our rescale function?\n",
        "\n",
        "* A. x\n",
        "* B. nothing\n",
        "* C. rescaled vector values\n"
      ],
      "metadata": {
        "id": "gUmAiBFQGUgk"
      }
    },
    {
      "cell_type": "markdown",
      "source": [
        "In R, it is not necessary to use a `return` keyword to specify the return value of a function. The return value of a function is simply the value of the last expression evaluated within the function body. "
      ],
      "metadata": {
        "id": "dtRoursTGxz4"
      }
    },
    {
      "cell_type": "markdown",
      "source": [
        "### Multiple return example\n",
        "\n",
        "\n",
        "This function returns 'fizz' if the given number is a multiple of 3. 'buzz' if it is a multiple of 5. If neither a multiple of 3 or 5, it simply returns the given number"
      ],
      "metadata": {
        "id": "4WK4uxFRQixO"
      }
    },
    {
      "cell_type": "code",
      "source": [
        "fizzbuzz <- function(x){\n",
        "  if(x %% 3 == 0){\n",
        "    return('fizz')\n",
        "  } else if(x %% 5 == 0){\n",
        "    return('buzz')\n",
        "  }\n",
        "  return (x)\n",
        "}\n",
        "\n",
        "fizzbuzz(7)"
      ],
      "metadata": {
        "id": "4DHFN2j1uPKp",
        "outputId": "778c39be-6bf1-4d36-a065-3f9f0711e398",
        "colab": {
          "base_uri": "https://localhost:8080/",
          "height": 34
        }
      },
      "execution_count": 118,
      "outputs": [
        {
          "output_type": "display_data",
          "data": {
            "text/html": [
              "7"
            ],
            "text/markdown": "7",
            "text/latex": "7",
            "text/plain": [
              "[1] 7"
            ]
          },
          "metadata": {}
        }
      ]
    },
    {
      "cell_type": "markdown",
      "metadata": {
        "id": "fCgIwRmV1GT3"
      },
      "source": [
        "\n",
        "### Arguments\n",
        "\n",
        "Functions will often have multiple arguments. Some arguments have default values, others do not. All arguments without default values must be passed to a function. Arguments can be passed by name or position. For instance, \n",
        "\n",
        "\n"
      ]
    },
    {
      "cell_type": "code",
      "execution_count": 119,
      "metadata": {
        "id": "eNJoozbP1GT4",
        "outputId": "f0865722-90c9-445a-eb3e-8131763a10c3",
        "colab": {
          "base_uri": "https://localhost:8080/",
          "height": 241
        }
      },
      "outputs": [
        {
          "output_type": "display_data",
          "data": {
            "text/html": [
              "<table class=\"dataframe\">\n",
              "<caption>A matrix: 5 × 3 of type dbl</caption>\n",
              "<thead>\n",
              "\t<tr><th scope=col>w</th><th scope=col>x</th><th scope=col>y</th></tr>\n",
              "</thead>\n",
              "<tbody>\n",
              "\t<tr><td> 0.3</td><td>-0.6</td><td>-0.6</td></tr>\n",
              "\t<tr><td>-0.1</td><td>-1.3</td><td> 0.2</td></tr>\n",
              "\t<tr><td> 1.1</td><td>-1.4</td><td>-0.1</td></tr>\n",
              "\t<tr><td>-0.3</td><td> 0.0</td><td>-0.1</td></tr>\n",
              "\t<tr><td>-0.8</td><td>-0.1</td><td> 0.7</td></tr>\n",
              "</tbody>\n",
              "</table>\n"
            ],
            "text/markdown": "\nA matrix: 5 × 3 of type dbl\n\n| w | x | y |\n|---|---|---|\n|  0.3 | -0.6 | -0.6 |\n| -0.1 | -1.3 |  0.2 |\n|  1.1 | -1.4 | -0.1 |\n| -0.3 |  0.0 | -0.1 |\n| -0.8 | -0.1 |  0.7 |\n\n",
            "text/latex": "A matrix: 5 × 3 of type dbl\n\\begin{tabular}{lll}\n w & x & y\\\\\n\\hline\n\t  0.3 & -0.6 & -0.6\\\\\n\t -0.1 & -1.3 &  0.2\\\\\n\t  1.1 & -1.4 & -0.1\\\\\n\t -0.3 &  0.0 & -0.1\\\\\n\t -0.8 & -0.1 &  0.7\\\\\n\\end{tabular}\n",
            "text/plain": [
              "     w    x    y   \n",
              "[1,]  0.3 -0.6 -0.6\n",
              "[2,] -0.1 -1.3  0.2\n",
              "[3,]  1.1 -1.4 -0.1\n",
              "[4,] -0.3  0.0 -0.1\n",
              "[5,] -0.8 -0.1  0.7"
            ]
          },
          "metadata": {}
        }
      ],
      "source": [
        "# generate 5 numbers from a Normal(0, 1) distribution.\n",
        "w = rnorm(5, mean = 0, sd = 1)\n",
        "x = rnorm(n = 5, mean = 0, sd = 1)\n",
        "y = rnorm(5, 0, 1)\n",
        "z = rnorm(5)\n",
        "round(cbind(w, x, y, z), 1)"
      ]
    },
    {
      "cell_type": "markdown",
      "metadata": {
        "id": "LIZuAcKF1GT9"
      },
      "source": [
        "Arguments passed by name need not be in order:"
      ]
    },
    {
      "cell_type": "code",
      "execution_count": 120,
      "metadata": {
        "id": "nAeMGzyS1GT-",
        "outputId": "afd2c4b0-c4fa-44d1-c14c-2299e9f3111c",
        "colab": {
          "base_uri": "https://localhost:8080/",
          "height": 97
        }
      },
      "outputs": [
        {
          "output_type": "display_data",
          "data": {
            "text/html": [
              "<table class=\"dataframe\">\n",
              "<caption>A matrix: 2 × 5 of type dbl</caption>\n",
              "<tbody>\n",
              "\t<tr><th scope=row>u</th><td> 0.3</td><td>0.2</td><td>-0.3</td><td> 0.3</td><td>1.6</td></tr>\n",
              "\t<tr><th scope=row>w</th><td>-0.1</td><td>0.3</td><td>-0.7</td><td>-0.2</td><td>1.7</td></tr>\n",
              "</tbody>\n",
              "</table>\n"
            ],
            "text/markdown": "\nA matrix: 2 × 5 of type dbl\n\n| u |  0.3 | 0.2 | -0.3 |  0.3 | 1.6 |\n| w | -0.1 | 0.3 | -0.7 | -0.2 | 1.7 |\n\n",
            "text/latex": "A matrix: 2 × 5 of type dbl\n\\begin{tabular}{r|lllll}\n\tu &  0.3 & 0.2 & -0.3 &  0.3 & 1.6\\\\\n\tw & -0.1 & 0.3 & -0.7 & -0.2 & 1.7\\\\\n\\end{tabular}\n",
            "text/plain": [
              "  [,1] [,2] [,3] [,4] [,5]\n",
              "u  0.3 0.2  -0.3  0.3 1.6 \n",
              "w -0.1 0.3  -0.7 -0.2 1.7 "
            ]
          },
          "metadata": {}
        }
      ],
      "source": [
        "w = rnorm(mean = 0, sd = 1, n = 5)\n",
        "u = rnorm(mean = 0, sd = 1, 5) # This also works but is bad style. \n",
        "round(rbind(u = u, w = w), 1)\n",
        "\n",
        "# unnamed arguments get passed to the first argument after the names arguments are assigned"
      ]
    },
    {
      "cell_type": "markdown",
      "metadata": {
        "id": "AR9KrJnn1GUL"
      },
      "source": [
        "# z-score function\n",
        "\n",
        "Let us create a function to compute z-scores of a vector"
      ]
    },
    {
      "cell_type": "code",
      "execution_count": 126,
      "metadata": {
        "id": "qaLeKXql1GUL",
        "colab": {
          "base_uri": "https://localhost:8080/",
          "height": 52
        },
        "outputId": "762f2378-c3c2-4cbf-f603-fdd0d467daa8"
      },
      "outputs": [
        {
          "output_type": "stream",
          "name": "stdout",
          "text": [
            "[1] 7.234178\n"
          ]
        },
        {
          "output_type": "display_data",
          "data": {
            "text/html": [
              "<style>\n",
              ".list-inline {list-style: none; margin:0; padding: 0}\n",
              ".list-inline>li {display: inline-block}\n",
              ".list-inline>li:not(:last-child)::after {content: \"\\00b7\"; padding: 0 .5ex}\n",
              "</style>\n",
              "<ol class=list-inline><li>-0.645085948617728</li><li>-0.5068532453425</li><li>1.15193919396023</li></ol>\n"
            ],
            "text/markdown": "1. -0.645085948617728\n2. -0.5068532453425\n3. 1.15193919396023\n\n\n",
            "text/latex": "\\begin{enumerate*}\n\\item -0.645085948617728\n\\item -0.5068532453425\n\\item 1.15193919396023\n\\end{enumerate*}\n",
            "text/plain": [
              "[1] -0.6450859 -0.5068532  1.1519392"
            ]
          },
          "metadata": {}
        }
      ],
      "source": [
        "# function to compute z-scores\n",
        "z_score1 <- function(x) {\n",
        "  #inputs: x - a numeric vector\n",
        "  #outputs: the z-scores for x\n",
        "  xbar = mean(x)\n",
        "  s = sd(x)\n",
        "  print(s)\n",
        "  z = (x - xbar) / s\n",
        "  return(z)  \n",
        "}\n",
        "\n",
        "result <- z_score1(c(10,11,23))\n",
        "result"
      ]
    },
    {
      "cell_type": "markdown",
      "metadata": {
        "id": "3lIvlpaL1GUM"
      },
      "source": [
        "The return statement is not strictly necessary, but can make complex functions more readable. It is good practice to avoid creating intermediate objects to store values only used once.\n",
        "\n"
      ]
    },
    {
      "cell_type": "code",
      "execution_count": 128,
      "metadata": {
        "id": "XgehWNLH1GUN",
        "outputId": "18b203b3-893a-4fb1-d6a5-c53e1c7d2be8",
        "colab": {
          "base_uri": "https://localhost:8080/",
          "height": 34
        }
      },
      "outputs": [
        {
          "output_type": "display_data",
          "data": {
            "text/html": [
              "<style>\n",
              ".list-inline {list-style: none; margin:0; padding: 0}\n",
              ".list-inline>li {display: inline-block}\n",
              ".list-inline>li:not(:last-child)::after {content: \"\\00b7\"; padding: 0 .5ex}\n",
              "</style>\n",
              "<ol class=list-inline><li>-0.645085948617728</li><li>-0.5068532453425</li><li>1.15193919396023</li></ol>\n"
            ],
            "text/markdown": "1. -0.645085948617728\n2. -0.5068532453425\n3. 1.15193919396023\n\n\n",
            "text/latex": "\\begin{enumerate*}\n\\item -0.645085948617728\n\\item -0.5068532453425\n\\item 1.15193919396023\n\\end{enumerate*}\n",
            "text/plain": [
              "[1] -0.6450859 -0.5068532  1.1519392"
            ]
          },
          "metadata": {}
        }
      ],
      "source": [
        "# function to compute z-scores\n",
        "z_score2 = function(x){\n",
        "  #inputs: x - a numeric vector\n",
        "  #outputs: the z-scores for x\n",
        "  (x - mean(x)) / sd(x)\n",
        "}\n",
        "\n",
        "z_score2(c(10,11,23))"
      ]
    },
    {
      "cell_type": "code",
      "execution_count": 129,
      "metadata": {
        "id": "nLASHgAw1GUP",
        "outputId": "6fc48b37-d0df-4537-a04f-dbd9789f9904",
        "colab": {
          "base_uri": "https://localhost:8080/",
          "height": 415
        }
      },
      "outputs": [
        {
          "output_type": "stream",
          "name": "stdout",
          "text": [
            "[1] 0.9154493\n"
          ]
        },
        {
          "output_type": "display_data",
          "data": {
            "text/html": [
              "<table class=\"dataframe\">\n",
              "<caption>A matrix: 10 × 3 of type dbl</caption>\n",
              "<thead>\n",
              "\t<tr><th scope=col>x</th><th scope=col>Z1</th><th scope=col>Z2</th></tr>\n",
              "</thead>\n",
              "<tbody>\n",
              "\t<tr><td>4.1</td><td> 1.0</td><td> 1.0</td></tr>\n",
              "\t<tr><td>3.1</td><td>-0.1</td><td>-0.1</td></tr>\n",
              "\t<tr><td>4.1</td><td> 1.0</td><td> 1.0</td></tr>\n",
              "\t<tr><td>4.4</td><td> 1.3</td><td> 1.3</td></tr>\n",
              "\t<tr><td>3.1</td><td>-0.1</td><td>-0.1</td></tr>\n",
              "\t<tr><td>2.8</td><td>-0.4</td><td>-0.4</td></tr>\n",
              "\t<tr><td>4.0</td><td> 0.8</td><td> 0.8</td></tr>\n",
              "\t<tr><td>2.1</td><td>-1.2</td><td>-1.2</td></tr>\n",
              "\t<tr><td>2.2</td><td>-1.1</td><td>-1.1</td></tr>\n",
              "\t<tr><td>2.0</td><td>-1.3</td><td>-1.3</td></tr>\n",
              "</tbody>\n",
              "</table>\n"
            ],
            "text/markdown": "\nA matrix: 10 × 3 of type dbl\n\n| x | Z1 | Z2 |\n|---|---|---|\n| 4.1 |  1.0 |  1.0 |\n| 3.1 | -0.1 | -0.1 |\n| 4.1 |  1.0 |  1.0 |\n| 4.4 |  1.3 |  1.3 |\n| 3.1 | -0.1 | -0.1 |\n| 2.8 | -0.4 | -0.4 |\n| 4.0 |  0.8 |  0.8 |\n| 2.1 | -1.2 | -1.2 |\n| 2.2 | -1.1 | -1.1 |\n| 2.0 | -1.3 | -1.3 |\n\n",
            "text/latex": "A matrix: 10 × 3 of type dbl\n\\begin{tabular}{lll}\n x & Z1 & Z2\\\\\n\\hline\n\t 4.1 &  1.0 &  1.0\\\\\n\t 3.1 & -0.1 & -0.1\\\\\n\t 4.1 &  1.0 &  1.0\\\\\n\t 4.4 &  1.3 &  1.3\\\\\n\t 3.1 & -0.1 & -0.1\\\\\n\t 2.8 & -0.4 & -0.4\\\\\n\t 4.0 &  0.8 &  0.8\\\\\n\t 2.1 & -1.2 & -1.2\\\\\n\t 2.2 & -1.1 & -1.1\\\\\n\t 2.0 & -1.3 & -1.3\\\\\n\\end{tabular}\n",
            "text/plain": [
              "      x   Z1   Z2  \n",
              " [1,] 4.1  1.0  1.0\n",
              " [2,] 3.1 -0.1 -0.1\n",
              " [3,] 4.1  1.0  1.0\n",
              " [4,] 4.4  1.3  1.3\n",
              " [5,] 3.1 -0.1 -0.1\n",
              " [6,] 2.8 -0.4 -0.4\n",
              " [7,] 4.0  0.8  0.8\n",
              " [8,] 2.1 -1.2 -1.2\n",
              " [9,] 2.2 -1.1 -1.1\n",
              "[10,] 2.0 -1.3 -1.3"
            ]
          },
          "metadata": {}
        }
      ],
      "source": [
        "x = rnorm(10, 3, 1) ## generate some normally distributed values\n",
        "round(cbind(x, 'Z1' = z_score1(x), 'Z2' = z_score2(x) ), 1)"
      ]
    },
    {
      "cell_type": "markdown",
      "metadata": {
        "id": "mTPxbzoZ1GUQ"
      },
      "source": [
        "### Default Parameters\n",
        "\n",
        "We can set default values for parameters using the construction `parameter = xx` in the function definition.\n",
        "\n",
        "\n"
      ]
    },
    {
      "cell_type": "code",
      "execution_count": 130,
      "metadata": {
        "id": "X7FzgVA21GUR"
      },
      "outputs": [],
      "source": [
        "# function to compute z-scores\n",
        "z_score3 = function(x, na.rm = T){\n",
        "  {x - mean(x, na.rm = na.rm)} / sd(x, na.rm = na.rm)\n",
        "}"
      ]
    },
    {
      "cell_type": "code",
      "execution_count": 131,
      "metadata": {
        "id": "637mAQHt1GUR",
        "outputId": "e0f2a446-8366-4cba-8f7e-81aaf244da75",
        "colab": {
          "base_uri": "https://localhost:8080/",
          "height": 478
        }
      },
      "outputs": [
        {
          "output_type": "stream",
          "name": "stdout",
          "text": [
            "[1] NA\n"
          ]
        },
        {
          "output_type": "display_data",
          "data": {
            "text/html": [
              "<table class=\"dataframe\">\n",
              "<caption>A matrix: 12 × 4 of type dbl</caption>\n",
              "<thead>\n",
              "\t<tr><th scope=col>x</th><th scope=col>Z1</th><th scope=col>Z2</th><th scope=col>Z3</th></tr>\n",
              "</thead>\n",
              "<tbody>\n",
              "\t<tr><td> NA</td><td>NA</td><td>NA</td><td>  NA</td></tr>\n",
              "\t<tr><td>4.1</td><td>NA</td><td>NA</td><td> 1.0</td></tr>\n",
              "\t<tr><td>3.1</td><td>NA</td><td>NA</td><td>-0.1</td></tr>\n",
              "\t<tr><td>4.1</td><td>NA</td><td>NA</td><td> 1.0</td></tr>\n",
              "\t<tr><td>4.4</td><td>NA</td><td>NA</td><td> 1.3</td></tr>\n",
              "\t<tr><td>3.1</td><td>NA</td><td>NA</td><td>-0.1</td></tr>\n",
              "\t<tr><td>2.8</td><td>NA</td><td>NA</td><td>-0.4</td></tr>\n",
              "\t<tr><td>4.0</td><td>NA</td><td>NA</td><td> 0.8</td></tr>\n",
              "\t<tr><td>2.1</td><td>NA</td><td>NA</td><td>-1.2</td></tr>\n",
              "\t<tr><td>2.2</td><td>NA</td><td>NA</td><td>-1.1</td></tr>\n",
              "\t<tr><td>2.0</td><td>NA</td><td>NA</td><td>-1.3</td></tr>\n",
              "\t<tr><td> NA</td><td>NA</td><td>NA</td><td>  NA</td></tr>\n",
              "</tbody>\n",
              "</table>\n"
            ],
            "text/markdown": "\nA matrix: 12 × 4 of type dbl\n\n| x | Z1 | Z2 | Z3 |\n|---|---|---|---|\n|  NA | NA | NA |   NA |\n| 4.1 | NA | NA |  1.0 |\n| 3.1 | NA | NA | -0.1 |\n| 4.1 | NA | NA |  1.0 |\n| 4.4 | NA | NA |  1.3 |\n| 3.1 | NA | NA | -0.1 |\n| 2.8 | NA | NA | -0.4 |\n| 4.0 | NA | NA |  0.8 |\n| 2.1 | NA | NA | -1.2 |\n| 2.2 | NA | NA | -1.1 |\n| 2.0 | NA | NA | -1.3 |\n|  NA | NA | NA |   NA |\n\n",
            "text/latex": "A matrix: 12 × 4 of type dbl\n\\begin{tabular}{llll}\n x & Z1 & Z2 & Z3\\\\\n\\hline\n\t  NA & NA & NA &   NA\\\\\n\t 4.1 & NA & NA &  1.0\\\\\n\t 3.1 & NA & NA & -0.1\\\\\n\t 4.1 & NA & NA &  1.0\\\\\n\t 4.4 & NA & NA &  1.3\\\\\n\t 3.1 & NA & NA & -0.1\\\\\n\t 2.8 & NA & NA & -0.4\\\\\n\t 4.0 & NA & NA &  0.8\\\\\n\t 2.1 & NA & NA & -1.2\\\\\n\t 2.2 & NA & NA & -1.1\\\\\n\t 2.0 & NA & NA & -1.3\\\\\n\t  NA & NA & NA &   NA\\\\\n\\end{tabular}\n",
            "text/plain": [
              "      x   Z1 Z2 Z3  \n",
              " [1,]  NA NA NA   NA\n",
              " [2,] 4.1 NA NA  1.0\n",
              " [3,] 3.1 NA NA -0.1\n",
              " [4,] 4.1 NA NA  1.0\n",
              " [5,] 4.4 NA NA  1.3\n",
              " [6,] 3.1 NA NA -0.1\n",
              " [7,] 2.8 NA NA -0.4\n",
              " [8,] 4.0 NA NA  0.8\n",
              " [9,] 2.1 NA NA -1.2\n",
              "[10,] 2.2 NA NA -1.1\n",
              "[11,] 2.0 NA NA -1.3\n",
              "[12,]  NA NA NA   NA"
            ]
          },
          "metadata": {}
        }
      ],
      "source": [
        "x = c(NA, x, NA)\n",
        "round( cbind(x, 'Z1' = z_score1(x), 'Z2' = z_score2(x), 'Z3' = z_score3(x) ), 1)"
      ]
    },
    {
      "cell_type": "markdown",
      "metadata": {
        "id": "zd8lUNBT1GUU"
      },
      "source": [
        "## Scope\n",
        "\n",
        "Scoping refers to how R looks up the value associated with an object referred to by name. There are two types of scoping – lexical and dynamic – but we will concern ourselves only with lexical scoping here. There are four keys to understanding scoping:\n",
        "\n",
        "- environments\n",
        "- name masking\n",
        "- variables vs functions\n",
        "- dynamic look up \n"
      ]
    },
    {
      "cell_type": "markdown",
      "metadata": {
        "id": "WKt7nGqZ1GUV"
      },
      "source": [
        "An environment can be thought of as a context in which names are associated with objects. Each time a function is called, it generates a new environment for the computation.\n",
        "\n",
        "Consider the following examples:"
      ]
    },
    {
      "cell_type": "code",
      "execution_count": 132,
      "metadata": {
        "id": "0wNRpFvV1GUV",
        "outputId": "2842e9b8-4194-484e-d312-639a896724ef",
        "colab": {
          "base_uri": "https://localhost:8080/",
          "height": 52
        }
      },
      "outputs": [
        {
          "output_type": "display_data",
          "data": {
            "text/html": [
              "<style>\n",
              ".list-inline {list-style: none; margin:0; padding: 0}\n",
              ".list-inline>li {display: inline-block}\n",
              ".list-inline>li:not(:last-child)::after {content: \"\\00b7\"; padding: 0 .5ex}\n",
              "</style>\n",
              "<ol class=list-inline><li>'d1'</li><li>'f2'</li><li>'fizzbuzz'</li><li>'hwy_a'</li><li>'nearest_friday'</li><li>'rescale'</li><li>'result'</li><li>'str_d'</li><li>'test'</li><li>'u'</li><li>'w'</li><li>'x'</li><li>'y'</li><li>'z'</li><li>'z_score1'</li><li>'z_score2'</li><li>'z_score3'</li></ol>\n"
            ],
            "text/markdown": "1. 'd1'\n2. 'f2'\n3. 'fizzbuzz'\n4. 'hwy_a'\n5. 'nearest_friday'\n6. 'rescale'\n7. 'result'\n8. 'str_d'\n9. 'test'\n10. 'u'\n11. 'w'\n12. 'x'\n13. 'y'\n14. 'z'\n15. 'z_score1'\n16. 'z_score2'\n17. 'z_score3'\n\n\n",
            "text/latex": "\\begin{enumerate*}\n\\item 'd1'\n\\item 'f2'\n\\item 'fizzbuzz'\n\\item 'hwy\\_a'\n\\item 'nearest\\_friday'\n\\item 'rescale'\n\\item 'result'\n\\item 'str\\_d'\n\\item 'test'\n\\item 'u'\n\\item 'w'\n\\item 'x'\n\\item 'y'\n\\item 'z'\n\\item 'z\\_score1'\n\\item 'z\\_score2'\n\\item 'z\\_score3'\n\\end{enumerate*}\n",
            "text/plain": [
              " [1] \"d1\"             \"f2\"             \"fizzbuzz\"       \"hwy_a\"         \n",
              " [5] \"nearest_friday\" \"rescale\"        \"result\"         \"str_d\"         \n",
              " [9] \"test\"           \"u\"              \"w\"              \"x\"             \n",
              "[13] \"y\"              \"z\"              \"z_score1\"       \"z_score2\"      \n",
              "[17] \"z_score3\"      "
            ]
          },
          "metadata": {}
        }
      ],
      "source": [
        "ls()"
      ]
    },
    {
      "cell_type": "code",
      "execution_count": 136,
      "metadata": {
        "id": "qyf0VEhu1GUY",
        "outputId": "1dffdf8e-1a50-4eed-b489-e1b10172dd8e",
        "colab": {
          "base_uri": "https://localhost:8080/",
          "height": 69
        }
      },
      "outputs": [
        {
          "output_type": "display_data",
          "data": {
            "text/html": [
              "<style>\n",
              ".list-inline {list-style: none; margin:0; padding: 0}\n",
              ".list-inline>li {display: inline-block}\n",
              ".list-inline>li:not(:last-child)::after {content: \"\\00b7\"; padding: 0 .5ex}\n",
              "</style>\n",
              "<ol class=list-inline><li>'f1_message'</li><li>'x'</li></ol>\n"
            ],
            "text/markdown": "1. 'f1_message'\n2. 'x'\n\n\n",
            "text/latex": "\\begin{enumerate*}\n\\item 'f1\\_message'\n\\item 'x'\n\\end{enumerate*}\n",
            "text/plain": [
              "[1] \"f1_message\" \"x\"         "
            ]
          },
          "metadata": {}
        },
        {
          "output_type": "display_data",
          "data": {
            "text/html": [
              "<style>\n",
              ".list-inline {list-style: none; margin:0; padding: 0}\n",
              ".list-inline>li {display: inline-block}\n",
              ".list-inline>li:not(:last-child)::after {content: \"\\00b7\"; padding: 0 .5ex}\n",
              "</style>\n",
              "<ol class=list-inline><li>'d1'</li><li>'f1'</li><li>'f2'</li><li>'fizzbuzz'</li><li>'hwy_a'</li><li>'nearest_friday'</li><li>'rescale'</li><li>'result'</li><li>'str_d'</li><li>'test'</li><li>'u'</li><li>'w'</li><li>'x'</li><li>'y'</li><li>'z'</li><li>'z_score1'</li><li>'z_score2'</li><li>'z_score3'</li></ol>\n"
            ],
            "text/markdown": "1. 'd1'\n2. 'f1'\n3. 'f2'\n4. 'fizzbuzz'\n5. 'hwy_a'\n6. 'nearest_friday'\n7. 'rescale'\n8. 'result'\n9. 'str_d'\n10. 'test'\n11. 'u'\n12. 'w'\n13. 'x'\n14. 'y'\n15. 'z'\n16. 'z_score1'\n17. 'z_score2'\n18. 'z_score3'\n\n\n",
            "text/latex": "\\begin{enumerate*}\n\\item 'd1'\n\\item 'f1'\n\\item 'f2'\n\\item 'fizzbuzz'\n\\item 'hwy\\_a'\n\\item 'nearest\\_friday'\n\\item 'rescale'\n\\item 'result'\n\\item 'str\\_d'\n\\item 'test'\n\\item 'u'\n\\item 'w'\n\\item 'x'\n\\item 'y'\n\\item 'z'\n\\item 'z\\_score1'\n\\item 'z\\_score2'\n\\item 'z\\_score3'\n\\end{enumerate*}\n",
            "text/plain": [
              " [1] \"d1\"             \"f1\"             \"f2\"             \"fizzbuzz\"      \n",
              " [5] \"hwy_a\"          \"nearest_friday\" \"rescale\"        \"result\"        \n",
              " [9] \"str_d\"          \"test\"           \"u\"              \"w\"             \n",
              "[13] \"x\"              \"y\"              \"z\"              \"z_score1\"      \n",
              "[17] \"z_score2\"       \"z_score3\"      "
            ]
          },
          "metadata": {}
        }
      ],
      "source": [
        "f1 = function() {\n",
        "  f1_message = \"I'm defined inside of f!\"  # `message` is a function in base\n",
        "  x = 10\n",
        "  ls()\n",
        "}\n",
        "f1()\n",
        "ls()"
      ]
    },
    {
      "cell_type": "code",
      "execution_count": 137,
      "metadata": {
        "id": "D_nbqpJY1GUZ",
        "outputId": "5b12de69-b5d3-4cc6-e87f-5f393e025949",
        "colab": {
          "base_uri": "https://localhost:8080/",
          "height": 34
        }
      },
      "outputs": [
        {
          "output_type": "display_data",
          "data": {
            "text/html": [
              "TRUE"
            ],
            "text/markdown": "TRUE",
            "text/latex": "TRUE",
            "text/plain": [
              "[1] TRUE"
            ]
          },
          "metadata": {}
        }
      ],
      "source": [
        "exists('f1') # f1 %in% ls() "
      ]
    },
    {
      "cell_type": "code",
      "execution_count": 140,
      "metadata": {
        "id": "_QG0qrLD1GUa",
        "outputId": "01ad4564-e872-4753-b1a1-c1cda5310237",
        "colab": {
          "base_uri": "https://localhost:8080/",
          "height": 34
        }
      },
      "outputs": [
        {
          "output_type": "display_data",
          "data": {
            "text/html": [
              "FALSE"
            ],
            "text/markdown": "FALSE",
            "text/latex": "FALSE",
            "text/plain": [
              "[1] FALSE"
            ]
          },
          "metadata": {}
        }
      ],
      "source": [
        "# what about f1_message?\n",
        "exists('f1_message')"
      ]
    },
    {
      "cell_type": "code",
      "execution_count": null,
      "metadata": {
        "id": "7olP1gHu1GUa",
        "outputId": "44c2ac4d-ca5c-4351-c31e-922513dde406",
        "colab": {
          "base_uri": "https://localhost:8080/",
          "height": 34
        }
      },
      "outputs": [
        {
          "output_type": "display_data",
          "data": {
            "text/plain": [
              "<environment: R_GlobalEnv>"
            ]
          },
          "metadata": {}
        }
      ],
      "source": [
        "environment() # here we are in the global environment"
      ]
    },
    {
      "cell_type": "code",
      "execution_count": 141,
      "metadata": {
        "id": "UvGiVtd91GUd",
        "outputId": "b58347cc-0c36-4ee1-ee8f-989f256739a0",
        "colab": {
          "base_uri": "https://localhost:8080/",
          "height": 35
        }
      },
      "outputs": [
        {
          "output_type": "display_data",
          "data": {
            "text/plain": [
              "<environment: 0x55d2a60b9168>"
            ]
          },
          "metadata": {}
        }
      ],
      "source": [
        "f2 = function(){\n",
        "  environment() # here we are in the local environment -- each time we get a different local environment\n",
        "    # created for the purpose of this function\n",
        "}\n",
        "f2()"
      ]
    },
    {
      "cell_type": "code",
      "execution_count": 142,
      "metadata": {
        "id": "57mLeAoN1GUd"
      },
      "outputs": [],
      "source": [
        "rm(f1, f2)"
      ]
    },
    {
      "cell_type": "code",
      "source": [
        "exists('f1')"
      ],
      "metadata": {
        "id": "3A1zjmpS01T_",
        "outputId": "0169400b-a7b3-477e-9ef2-a291cff68e39",
        "colab": {
          "base_uri": "https://localhost:8080/",
          "height": 34
        }
      },
      "execution_count": 143,
      "outputs": [
        {
          "output_type": "display_data",
          "data": {
            "text/html": [
              "FALSE"
            ],
            "text/markdown": "FALSE",
            "text/latex": "FALSE",
            "text/plain": [
              "[1] FALSE"
            ]
          },
          "metadata": {}
        }
      ]
    },
    {
      "cell_type": "markdown",
      "metadata": {
        "id": "kG--gm7L1GUe"
      },
      "source": [
        "Name masking refers to where and in what order `R` looks for object names.\n",
        "When we call `f1` above, `R` first looks in the current environment which happens to be the global environment. The call to `ls()` however, happens within the environment created by the function call and hence returns only the objects defined in the local environment."
      ]
    },
    {
      "cell_type": "markdown",
      "metadata": {
        "id": "aCkUBwRM1GUg"
      },
      "source": [
        "When an environment is created, it gets nested within the current environment referred to as the “parent environment”. When an object is referenced we first look in the current environment and move recursively up through parent environments until we find a value bound to that name.\n",
        "\n"
      ]
    },
    {
      "cell_type": "markdown",
      "metadata": {
        "id": "kdykZtFW1GUh"
      },
      "source": [
        "Name masking refers to the notion that objects of the same name can exist in different environments. Consider these examples:\n",
        "\n"
      ]
    },
    {
      "cell_type": "code",
      "execution_count": 145,
      "metadata": {
        "id": "Rqu63x6V1GUh",
        "outputId": "dbe7a2cb-866f-42b7-9c0c-ced2af4286fb",
        "colab": {
          "base_uri": "https://localhost:8080/"
        }
      },
      "outputs": [
        {
          "output_type": "stream",
          "name": "stdout",
          "text": [
            "[1] \"x = I came from inside of f! and y = Y - I came from outside of f!\"\n"
          ]
        }
      ],
      "source": [
        "#  Example 3 -- lexical scoping\n",
        "y = 'Y - I came from outside of f!'\n",
        "x = 'X - I came from outside of f!'\n",
        "f3 = function(){\n",
        "  x =  'I came from inside of f!'\n",
        "  print(paste(\"x =\", x, \"and y =\", y))\n",
        "}\n",
        "f3()"
      ]
    },
    {
      "cell_type": "code",
      "source": [
        "print(paste(\"outside-x =\", x, \"and outside-y =\", y))"
      ],
      "metadata": {
        "id": "_F94IMAu1cXd",
        "outputId": "3ac7f4ef-ef13-4549-f355-c344827e07dd",
        "colab": {
          "base_uri": "https://localhost:8080/"
        }
      },
      "execution_count": 146,
      "outputs": [
        {
          "output_type": "stream",
          "name": "stdout",
          "text": [
            "[1] \"outside-x = X - I came from outside of f! and outside-y = Y - I came from outside of f!\"\n"
          ]
        }
      ]
    },
    {
      "cell_type": "markdown",
      "source": [
        "* x is redefined inside the function enviornment\n",
        "* y is not, so R will search for y in the parent environment and keep moving up\n",
        "* x that is associated with f3, is not going to change the x in the global environment, unless we explicitly write the code to do that"
      ],
      "metadata": {
        "id": "B4v1OFQzaYdN"
      }
    },
    {
      "cell_type": "code",
      "execution_count": 148,
      "metadata": {
        "id": "KsUNVcUK1GUk",
        "outputId": "a7b3b994-0f6c-4c11-8e57-0614ba4808c2",
        "colab": {
          "base_uri": "https://localhost:8080/",
          "height": 34
        }
      },
      "outputs": [
        {
          "output_type": "display_data",
          "data": {
            "text/html": [
              "55"
            ],
            "text/markdown": "55",
            "text/latex": "55",
            "text/plain": [
              "[1] 55"
            ]
          },
          "metadata": {}
        }
      ],
      "source": [
        "#  Example 4 -- masking\n",
        "mean = function(x){ \n",
        "    sum(x)\n",
        "}\n",
        "mean(1:10)"
      ]
    },
    {
      "cell_type": "code",
      "execution_count": null,
      "metadata": {
        "id": "-UZUcOyz1GUl",
        "outputId": "1b7351f3-efa6-4e63-fa55-3c8a38dd04be",
        "colab": {
          "base_uri": "https://localhost:8080/",
          "height": 34
        }
      },
      "outputs": [
        {
          "output_type": "display_data",
          "data": {
            "text/html": [
              "5.5"
            ],
            "text/markdown": "5.5",
            "text/latex": "5.5",
            "text/plain": [
              "[1] 5.5"
            ]
          },
          "metadata": {}
        }
      ],
      "source": [
        "base::mean(1:10)"
      ]
    },
    {
      "cell_type": "code",
      "execution_count": 149,
      "metadata": {
        "id": "Kgp1U3nd1GUm"
      },
      "outputs": [],
      "source": [
        "rm(mean)"
      ]
    },
    {
      "cell_type": "markdown",
      "metadata": {
        "id": "_sroTkw31GUo"
      },
      "source": [
        "R also uses dynamic look up, meaning values are searched for when a function is called, not when it is created. In the example above, y was defined in the global environment rather than within the function body. This means the value returned by f3 depends on the value of y in the global environment. You should generally avoid this, but there are occasions where it can be useful.\n",
        "\n"
      ]
    },
    {
      "cell_type": "code",
      "execution_count": null,
      "metadata": {
        "id": "9KRL-9jU1GUp",
        "outputId": "5817dde3-b739-43cf-ee25-8f1853de0741"
      },
      "outputs": [
        {
          "data": {
            "text/html": [
              "<dl>\n",
              "\t<dt>$x</dt>\n",
              "\t\t<dd>'I came from inside of f!'</dd>\n",
              "\t<dt>$y</dt>\n",
              "\t\t<dd>'I have been reinvented!'</dd>\n",
              "</dl>\n"
            ],
            "text/latex": [
              "\\begin{description}\n",
              "\\item[\\$x] 'I came from inside of f!'\n",
              "\\item[\\$y] 'I have been reinvented!'\n",
              "\\end{description}\n"
            ],
            "text/markdown": [
              "$x\n",
              ":   'I came from inside of f!'\n",
              "$y\n",
              ":   'I have been reinvented!'\n",
              "\n",
              "\n"
            ],
            "text/plain": [
              "$x\n",
              "[1] \"I came from inside of f!\"\n",
              "\n",
              "$y\n",
              "[1] \"I have been reinvented!\"\n"
            ]
          },
          "metadata": {},
          "output_type": "display_data"
        }
      ],
      "source": [
        "# Example 5 - dynamic lookup\n",
        "y = \"I have been reinvented!\"\n",
        "f3()"
      ]
    },
    {
      "cell_type": "markdown",
      "source": [
        "## Dataframe functions\n",
        "\n",
        "A case of a problem of `indirection`, as `dplyr` uses `tidy evaluation` to allow you to refer to the names of variables inside your data frame without any special treatment."
      ],
      "metadata": {
        "id": "5TFrrXCAcnDe"
      }
    },
    {
      "cell_type": "code",
      "source": [
        "grouped_mean <- function(df, group_var, mean_var) {\n",
        "  df %>% \n",
        "    group_by(group_var) %>%\n",
        "    summarize(mean(mean_var))\n",
        "}\n",
        "\n",
        "grouped_mean(mpg, model, hwy)"
      ],
      "metadata": {
        "colab": {
          "base_uri": "https://localhost:8080/",
          "height": 310
        },
        "id": "7wSvTLhXc1BY",
        "outputId": "6de88b6c-275f-48dc-d83a-45975e09e32b"
      },
      "execution_count": 150,
      "outputs": [
        {
          "output_type": "error",
          "ename": "ERROR",
          "evalue": "ignored",
          "traceback": [
            "\u001b[1m\u001b[33mError\u001b[39m in `group_by()`:\u001b[22m\n\u001b[1m\u001b[22m\u001b[33m!\u001b[39m Must group by variables found in `.data`.\n\u001b[31m✖\u001b[39m Column `group_var` is not found.\nTraceback:\n",
            "1. grouped_mean(mpg, model, hwy)",
            "2. df %>% group_by(group_var) %>% summarize(mean(mean_var))   # at line 2-4 of file <text>",
            "3. summarize(., mean(mean_var))",
            "4. group_by(., group_var)",
            "5. group_by.data.frame(., group_var)",
            "6. group_by_prepare(.data, ..., .add = .add, error_call = current_env())",
            "7. abort(bullets, call = error_call)",
            "8. signal_abort(cnd, .file)"
          ]
        }
      ]
    },
    {
      "cell_type": "code",
      "source": [
        "mpg %>% group_by(model) %>% summarise(mean(hwy))"
      ],
      "metadata": {
        "colab": {
          "base_uri": "https://localhost:8080/",
          "height": 286
        },
        "id": "2lvE6L_adDSS",
        "outputId": "0325dbc0-a6b9-40c1-a2ad-8b19398e9aaf"
      },
      "execution_count": null,
      "outputs": [
        {
          "output_type": "display_data",
          "data": {
            "text/html": [
              "<table class=\"dataframe\">\n",
              "<caption>A tibble: 6 × 2</caption>\n",
              "<thead>\n",
              "\t<tr><th scope=col>model</th><th scope=col>mean(hwy)</th></tr>\n",
              "\t<tr><th scope=col>&lt;chr&gt;</th><th scope=col>&lt;dbl&gt;</th></tr>\n",
              "</thead>\n",
              "<tbody>\n",
              "\t<tr><td>4runner 4wd       </td><td>18.83333</td></tr>\n",
              "\t<tr><td>a4                </td><td>28.28571</td></tr>\n",
              "\t<tr><td>a4 quattro        </td><td>25.75000</td></tr>\n",
              "\t<tr><td>a6 quattro        </td><td>24.00000</td></tr>\n",
              "\t<tr><td>altima            </td><td>28.66667</td></tr>\n",
              "\t<tr><td>c1500 suburban 2wd</td><td>17.80000</td></tr>\n",
              "</tbody>\n",
              "</table>\n"
            ],
            "text/markdown": "\nA tibble: 6 × 2\n\n| model &lt;chr&gt; | mean(hwy) &lt;dbl&gt; |\n|---|---|\n| 4runner 4wd        | 18.83333 |\n| a4                 | 28.28571 |\n| a4 quattro         | 25.75000 |\n| a6 quattro         | 24.00000 |\n| altima             | 28.66667 |\n| c1500 suburban 2wd | 17.80000 |\n\n",
            "text/latex": "A tibble: 6 × 2\n\\begin{tabular}{ll}\n model & mean(hwy)\\\\\n <chr> & <dbl>\\\\\n\\hline\n\t 4runner 4wd        & 18.83333\\\\\n\t a4                 & 28.28571\\\\\n\t a4 quattro         & 25.75000\\\\\n\t a6 quattro         & 24.00000\\\\\n\t altima             & 28.66667\\\\\n\t c1500 suburban 2wd & 17.80000\\\\\n\\end{tabular}\n",
            "text/plain": [
              "  model              mean(hwy)\n",
              "1 4runner 4wd        18.83333 \n",
              "2 a4                 28.28571 \n",
              "3 a4 quattro         25.75000 \n",
              "4 a6 quattro         24.00000 \n",
              "5 altima             28.66667 \n",
              "6 c1500 suburban 2wd 17.80000 "
            ]
          },
          "metadata": {}
        }
      ]
    },
    {
      "cell_type": "markdown",
      "source": [
        "### Fix with embracing `{{ }}`"
      ],
      "metadata": {
        "id": "e-HInchNexcy"
      }
    },
    {
      "cell_type": "code",
      "source": [
        "grouped_mean <- function(df, group_var, mean_var) {\n",
        "  df %>% \n",
        "    group_by({{ group_var }}) |> \n",
        "    summarize(mean({{ mean_var }}))\n",
        "}\n",
        "\n",
        "grouped_mean(mpg, model, hwy) %>% head"
      ],
      "metadata": {
        "colab": {
          "base_uri": "https://localhost:8080/",
          "height": 286
        },
        "id": "otjDdfr8sF_5",
        "outputId": "a7137a9d-030c-40ad-bf22-49844b91812f"
      },
      "execution_count": 154,
      "outputs": [
        {
          "output_type": "display_data",
          "data": {
            "text/html": [
              "<table class=\"dataframe\">\n",
              "<caption>A tibble: 6 × 2</caption>\n",
              "<thead>\n",
              "\t<tr><th scope=col>model</th><th scope=col>mean(hwy)</th></tr>\n",
              "\t<tr><th scope=col>&lt;chr&gt;</th><th scope=col>&lt;dbl&gt;</th></tr>\n",
              "</thead>\n",
              "<tbody>\n",
              "\t<tr><td>4runner 4wd       </td><td>18.83333</td></tr>\n",
              "\t<tr><td>a4                </td><td>28.28571</td></tr>\n",
              "\t<tr><td>a4 quattro        </td><td>25.75000</td></tr>\n",
              "\t<tr><td>a6 quattro        </td><td>24.00000</td></tr>\n",
              "\t<tr><td>altima            </td><td>28.66667</td></tr>\n",
              "\t<tr><td>c1500 suburban 2wd</td><td>17.80000</td></tr>\n",
              "</tbody>\n",
              "</table>\n"
            ],
            "text/markdown": "\nA tibble: 6 × 2\n\n| model &lt;chr&gt; | mean(hwy) &lt;dbl&gt; |\n|---|---|\n| 4runner 4wd        | 18.83333 |\n| a4                 | 28.28571 |\n| a4 quattro         | 25.75000 |\n| a6 quattro         | 24.00000 |\n| altima             | 28.66667 |\n| c1500 suburban 2wd | 17.80000 |\n\n",
            "text/latex": "A tibble: 6 × 2\n\\begin{tabular}{ll}\n model & mean(hwy)\\\\\n <chr> & <dbl>\\\\\n\\hline\n\t 4runner 4wd        & 18.83333\\\\\n\t a4                 & 28.28571\\\\\n\t a4 quattro         & 25.75000\\\\\n\t a6 quattro         & 24.00000\\\\\n\t altima             & 28.66667\\\\\n\t c1500 suburban 2wd & 17.80000\\\\\n\\end{tabular}\n",
            "text/plain": [
              "  model              mean(hwy)\n",
              "1 4runner 4wd        18.83333 \n",
              "2 a4                 28.28571 \n",
              "3 a4 quattro         25.75000 \n",
              "4 a6 quattro         24.00000 \n",
              "5 altima             28.66667 \n",
              "6 c1500 suburban 2wd 17.80000 "
            ]
          },
          "metadata": {}
        }
      ]
    },
    {
      "cell_type": "code",
      "source": [
        "mpg %>% group_by(model) %>% summarise(mean(hwy))"
      ],
      "metadata": {
        "id": "hEvbFCMP4N64",
        "outputId": "c44480c9-575e-40dc-e9ea-ee82928196ec",
        "colab": {
          "base_uri": "https://localhost:8080/",
          "height": 1000
        }
      },
      "execution_count": 153,
      "outputs": [
        {
          "output_type": "display_data",
          "data": {
            "text/html": [
              "<table class=\"dataframe\">\n",
              "<caption>A tibble: 38 × 2</caption>\n",
              "<thead>\n",
              "\t<tr><th scope=col>model</th><th scope=col>mean(hwy)</th></tr>\n",
              "\t<tr><th scope=col>&lt;chr&gt;</th><th scope=col>&lt;dbl&gt;</th></tr>\n",
              "</thead>\n",
              "<tbody>\n",
              "\t<tr><td>4runner 4wd           </td><td>18.83333</td></tr>\n",
              "\t<tr><td>a4                    </td><td>28.28571</td></tr>\n",
              "\t<tr><td>a4 quattro            </td><td>25.75000</td></tr>\n",
              "\t<tr><td>a6 quattro            </td><td>24.00000</td></tr>\n",
              "\t<tr><td>altima                </td><td>28.66667</td></tr>\n",
              "\t<tr><td>c1500 suburban 2wd    </td><td>17.80000</td></tr>\n",
              "\t<tr><td>camry                 </td><td>28.28571</td></tr>\n",
              "\t<tr><td>camry solara          </td><td>28.14286</td></tr>\n",
              "\t<tr><td>caravan 2wd           </td><td>22.36364</td></tr>\n",
              "\t<tr><td>civic                 </td><td>32.55556</td></tr>\n",
              "\t<tr><td>corolla               </td><td>34.00000</td></tr>\n",
              "\t<tr><td>corvette              </td><td>24.80000</td></tr>\n",
              "\t<tr><td>dakota pickup 4wd     </td><td>17.00000</td></tr>\n",
              "\t<tr><td>durango 4wd           </td><td>16.00000</td></tr>\n",
              "\t<tr><td>expedition 2wd        </td><td>17.33333</td></tr>\n",
              "\t<tr><td>explorer 4wd          </td><td>18.00000</td></tr>\n",
              "\t<tr><td>f150 pickup 4wd       </td><td>16.42857</td></tr>\n",
              "\t<tr><td>forester awd          </td><td>25.00000</td></tr>\n",
              "\t<tr><td>grand cherokee 4wd    </td><td>17.62500</td></tr>\n",
              "\t<tr><td>grand prix            </td><td>26.40000</td></tr>\n",
              "\t<tr><td>gti                   </td><td>27.40000</td></tr>\n",
              "\t<tr><td>impreza awd           </td><td>26.00000</td></tr>\n",
              "\t<tr><td>jetta                 </td><td>29.11111</td></tr>\n",
              "\t<tr><td>k1500 tahoe 4wd       </td><td>16.25000</td></tr>\n",
              "\t<tr><td>land cruiser wagon 4wd</td><td>16.50000</td></tr>\n",
              "\t<tr><td>malibu                </td><td>27.60000</td></tr>\n",
              "\t<tr><td>maxima                </td><td>25.33333</td></tr>\n",
              "\t<tr><td>mountaineer 4wd       </td><td>18.00000</td></tr>\n",
              "\t<tr><td>mustang               </td><td>23.22222</td></tr>\n",
              "\t<tr><td>navigator 2wd         </td><td>17.00000</td></tr>\n",
              "\t<tr><td>new beetle            </td><td>32.83333</td></tr>\n",
              "\t<tr><td>passat                </td><td>27.57143</td></tr>\n",
              "\t<tr><td>pathfinder 4wd        </td><td>18.00000</td></tr>\n",
              "\t<tr><td>ram 1500 pickup 4wd   </td><td>15.30000</td></tr>\n",
              "\t<tr><td>range rover           </td><td>16.50000</td></tr>\n",
              "\t<tr><td>sonata                </td><td>27.71429</td></tr>\n",
              "\t<tr><td>tiburon               </td><td>26.00000</td></tr>\n",
              "\t<tr><td>toyota tacoma 4wd     </td><td>19.42857</td></tr>\n",
              "</tbody>\n",
              "</table>\n"
            ],
            "text/markdown": "\nA tibble: 38 × 2\n\n| model &lt;chr&gt; | mean(hwy) &lt;dbl&gt; |\n|---|---|\n| 4runner 4wd            | 18.83333 |\n| a4                     | 28.28571 |\n| a4 quattro             | 25.75000 |\n| a6 quattro             | 24.00000 |\n| altima                 | 28.66667 |\n| c1500 suburban 2wd     | 17.80000 |\n| camry                  | 28.28571 |\n| camry solara           | 28.14286 |\n| caravan 2wd            | 22.36364 |\n| civic                  | 32.55556 |\n| corolla                | 34.00000 |\n| corvette               | 24.80000 |\n| dakota pickup 4wd      | 17.00000 |\n| durango 4wd            | 16.00000 |\n| expedition 2wd         | 17.33333 |\n| explorer 4wd           | 18.00000 |\n| f150 pickup 4wd        | 16.42857 |\n| forester awd           | 25.00000 |\n| grand cherokee 4wd     | 17.62500 |\n| grand prix             | 26.40000 |\n| gti                    | 27.40000 |\n| impreza awd            | 26.00000 |\n| jetta                  | 29.11111 |\n| k1500 tahoe 4wd        | 16.25000 |\n| land cruiser wagon 4wd | 16.50000 |\n| malibu                 | 27.60000 |\n| maxima                 | 25.33333 |\n| mountaineer 4wd        | 18.00000 |\n| mustang                | 23.22222 |\n| navigator 2wd          | 17.00000 |\n| new beetle             | 32.83333 |\n| passat                 | 27.57143 |\n| pathfinder 4wd         | 18.00000 |\n| ram 1500 pickup 4wd    | 15.30000 |\n| range rover            | 16.50000 |\n| sonata                 | 27.71429 |\n| tiburon                | 26.00000 |\n| toyota tacoma 4wd      | 19.42857 |\n\n",
            "text/latex": "A tibble: 38 × 2\n\\begin{tabular}{ll}\n model & mean(hwy)\\\\\n <chr> & <dbl>\\\\\n\\hline\n\t 4runner 4wd            & 18.83333\\\\\n\t a4                     & 28.28571\\\\\n\t a4 quattro             & 25.75000\\\\\n\t a6 quattro             & 24.00000\\\\\n\t altima                 & 28.66667\\\\\n\t c1500 suburban 2wd     & 17.80000\\\\\n\t camry                  & 28.28571\\\\\n\t camry solara           & 28.14286\\\\\n\t caravan 2wd            & 22.36364\\\\\n\t civic                  & 32.55556\\\\\n\t corolla                & 34.00000\\\\\n\t corvette               & 24.80000\\\\\n\t dakota pickup 4wd      & 17.00000\\\\\n\t durango 4wd            & 16.00000\\\\\n\t expedition 2wd         & 17.33333\\\\\n\t explorer 4wd           & 18.00000\\\\\n\t f150 pickup 4wd        & 16.42857\\\\\n\t forester awd           & 25.00000\\\\\n\t grand cherokee 4wd     & 17.62500\\\\\n\t grand prix             & 26.40000\\\\\n\t gti                    & 27.40000\\\\\n\t impreza awd            & 26.00000\\\\\n\t jetta                  & 29.11111\\\\\n\t k1500 tahoe 4wd        & 16.25000\\\\\n\t land cruiser wagon 4wd & 16.50000\\\\\n\t malibu                 & 27.60000\\\\\n\t maxima                 & 25.33333\\\\\n\t mountaineer 4wd        & 18.00000\\\\\n\t mustang                & 23.22222\\\\\n\t navigator 2wd          & 17.00000\\\\\n\t new beetle             & 32.83333\\\\\n\t passat                 & 27.57143\\\\\n\t pathfinder 4wd         & 18.00000\\\\\n\t ram 1500 pickup 4wd    & 15.30000\\\\\n\t range rover            & 16.50000\\\\\n\t sonata                 & 27.71429\\\\\n\t tiburon                & 26.00000\\\\\n\t toyota tacoma 4wd      & 19.42857\\\\\n\\end{tabular}\n",
            "text/plain": [
              "   model                  mean(hwy)\n",
              "1  4runner 4wd            18.83333 \n",
              "2  a4                     28.28571 \n",
              "3  a4 quattro             25.75000 \n",
              "4  a6 quattro             24.00000 \n",
              "5  altima                 28.66667 \n",
              "6  c1500 suburban 2wd     17.80000 \n",
              "7  camry                  28.28571 \n",
              "8  camry solara           28.14286 \n",
              "9  caravan 2wd            22.36364 \n",
              "10 civic                  32.55556 \n",
              "11 corolla                34.00000 \n",
              "12 corvette               24.80000 \n",
              "13 dakota pickup 4wd      17.00000 \n",
              "14 durango 4wd            16.00000 \n",
              "15 expedition 2wd         17.33333 \n",
              "16 explorer 4wd           18.00000 \n",
              "17 f150 pickup 4wd        16.42857 \n",
              "18 forester awd           25.00000 \n",
              "19 grand cherokee 4wd     17.62500 \n",
              "20 grand prix             26.40000 \n",
              "21 gti                    27.40000 \n",
              "22 impreza awd            26.00000 \n",
              "23 jetta                  29.11111 \n",
              "24 k1500 tahoe 4wd        16.25000 \n",
              "25 land cruiser wagon 4wd 16.50000 \n",
              "26 malibu                 27.60000 \n",
              "27 maxima                 25.33333 \n",
              "28 mountaineer 4wd        18.00000 \n",
              "29 mustang                23.22222 \n",
              "30 navigator 2wd          17.00000 \n",
              "31 new beetle             32.83333 \n",
              "32 passat                 27.57143 \n",
              "33 pathfinder 4wd         18.00000 \n",
              "34 ram 1500 pickup 4wd    15.30000 \n",
              "35 range rover            16.50000 \n",
              "36 sonata                 27.71429 \n",
              "37 tiburon                26.00000 \n",
              "38 toyota tacoma 4wd      19.42857 "
            ]
          },
          "metadata": {}
        }
      ]
    },
    {
      "cell_type": "markdown",
      "source": [
        "### When to embrace?🤔\n",
        "\n",
        "There are two terms to look for in the docs which correspond to the two most common sub-types of tidy evaluation:\n",
        "\n",
        "* Data-masking: this is used in functions like arrange(), filter(), and summarize() that compute with variables.\n",
        "\n",
        "* Tidy-selection: this is used for functions like select(), relocate(), and rename() that select variables."
      ],
      "metadata": {
        "id": "eaaqoymmgTe2"
      }
    },
    {
      "cell_type": "code",
      "source": [
        "?select"
      ],
      "metadata": {
        "id": "Q0hT4lH-gjFY"
      },
      "execution_count": 155,
      "outputs": []
    },
    {
      "cell_type": "code",
      "source": [
        "?summarize"
      ],
      "metadata": {
        "id": "uQkZNTXZgy29"
      },
      "execution_count": null,
      "outputs": []
    },
    {
      "cell_type": "markdown",
      "source": [
        "## Pick function\n",
        "\n",
        "Applied for verbs that use data-masking when sub-selecting the columns"
      ],
      "metadata": {
        "id": "gclOUru_tZRC"
      }
    },
    {
      "cell_type": "code",
      "source": [
        "?pick"
      ],
      "metadata": {
        "id": "OhzV0P_GuoWv"
      },
      "execution_count": null,
      "outputs": []
    },
    {
      "cell_type": "code",
      "source": [
        "mean_hwy <- function(df, var1, var2, var_3) {\n",
        "  df |> \n",
        "    group_by({{ var1 }}, {{ var2 }}) |> \n",
        "    summarize(\n",
        "      mean = mean(is.na({{ var_3 }})),\n",
        "      .groups = \"drop\"\n",
        "    )\n",
        "}\n",
        "\n",
        "mpg |> \n",
        "  mean_hwy(manufacturer, model, hwy) %>% head"
      ],
      "metadata": {
        "colab": {
          "base_uri": "https://localhost:8080/",
          "height": 286
        },
        "id": "LjMSX_YrskNs",
        "outputId": "550a24bc-3bb6-4ce5-bfd6-ed3297888e59"
      },
      "execution_count": null,
      "outputs": [
        {
          "output_type": "display_data",
          "data": {
            "text/html": [
              "<table class=\"dataframe\">\n",
              "<caption>A tibble: 6 × 3</caption>\n",
              "<thead>\n",
              "\t<tr><th scope=col>manufacturer</th><th scope=col>model</th><th scope=col>mean</th></tr>\n",
              "\t<tr><th scope=col>&lt;chr&gt;</th><th scope=col>&lt;chr&gt;</th><th scope=col>&lt;dbl&gt;</th></tr>\n",
              "</thead>\n",
              "<tbody>\n",
              "\t<tr><td>audi     </td><td>a4                </td><td>0</td></tr>\n",
              "\t<tr><td>audi     </td><td>a4 quattro        </td><td>0</td></tr>\n",
              "\t<tr><td>audi     </td><td>a6 quattro        </td><td>0</td></tr>\n",
              "\t<tr><td>chevrolet</td><td>c1500 suburban 2wd</td><td>0</td></tr>\n",
              "\t<tr><td>chevrolet</td><td>corvette          </td><td>0</td></tr>\n",
              "\t<tr><td>chevrolet</td><td>k1500 tahoe 4wd   </td><td>0</td></tr>\n",
              "</tbody>\n",
              "</table>\n"
            ],
            "text/markdown": "\nA tibble: 6 × 3\n\n| manufacturer &lt;chr&gt; | model &lt;chr&gt; | mean &lt;dbl&gt; |\n|---|---|---|\n| audi      | a4                 | 0 |\n| audi      | a4 quattro         | 0 |\n| audi      | a6 quattro         | 0 |\n| chevrolet | c1500 suburban 2wd | 0 |\n| chevrolet | corvette           | 0 |\n| chevrolet | k1500 tahoe 4wd    | 0 |\n\n",
            "text/latex": "A tibble: 6 × 3\n\\begin{tabular}{lll}\n manufacturer & model & mean\\\\\n <chr> & <chr> & <dbl>\\\\\n\\hline\n\t audi      & a4                 & 0\\\\\n\t audi      & a4 quattro         & 0\\\\\n\t audi      & a6 quattro         & 0\\\\\n\t chevrolet & c1500 suburban 2wd & 0\\\\\n\t chevrolet & corvette           & 0\\\\\n\t chevrolet & k1500 tahoe 4wd    & 0\\\\\n\\end{tabular}\n",
            "text/plain": [
              "  manufacturer model              mean\n",
              "1 audi         a4                 0   \n",
              "2 audi         a4 quattro         0   \n",
              "3 audi         a6 quattro         0   \n",
              "4 chevrolet    c1500 suburban 2wd 0   \n",
              "5 chevrolet    corvette           0   \n",
              "6 chevrolet    k1500 tahoe 4wd    0   "
            ]
          },
          "metadata": {}
        }
      ]
    },
    {
      "cell_type": "markdown",
      "source": [
        "## Using pick"
      ],
      "metadata": {
        "id": "PP2qmWazY7eO"
      }
    },
    {
      "cell_type": "code",
      "source": [
        "mean_hwy <- function(df, var1, var2) {\n",
        "  df |> \n",
        "    group_by(pick({{ var1 }})) |> \n",
        "    summarize(\n",
        "      mean = mean(is.na({{ var2 }})),\n",
        "      .groups = \"drop\"\n",
        "    )\n",
        "}\n",
        "\n",
        "mpg |> \n",
        "  mean_hwy(c(manufacturer, model), hwy) %>% head"
      ],
      "metadata": {
        "colab": {
          "base_uri": "https://localhost:8080/",
          "height": 286
        },
        "id": "4KcPn0QeuQ8E",
        "outputId": "34704ecf-34d8-48b3-e8c1-06233f5c69c8"
      },
      "execution_count": null,
      "outputs": [
        {
          "output_type": "display_data",
          "data": {
            "text/html": [
              "<table class=\"dataframe\">\n",
              "<caption>A tibble: 6 × 3</caption>\n",
              "<thead>\n",
              "\t<tr><th scope=col>manufacturer</th><th scope=col>model</th><th scope=col>mean</th></tr>\n",
              "\t<tr><th scope=col>&lt;chr&gt;</th><th scope=col>&lt;chr&gt;</th><th scope=col>&lt;dbl&gt;</th></tr>\n",
              "</thead>\n",
              "<tbody>\n",
              "\t<tr><td>audi     </td><td>a4                </td><td>0</td></tr>\n",
              "\t<tr><td>audi     </td><td>a4 quattro        </td><td>0</td></tr>\n",
              "\t<tr><td>audi     </td><td>a6 quattro        </td><td>0</td></tr>\n",
              "\t<tr><td>chevrolet</td><td>c1500 suburban 2wd</td><td>0</td></tr>\n",
              "\t<tr><td>chevrolet</td><td>corvette          </td><td>0</td></tr>\n",
              "\t<tr><td>chevrolet</td><td>k1500 tahoe 4wd   </td><td>0</td></tr>\n",
              "</tbody>\n",
              "</table>\n"
            ],
            "text/markdown": "\nA tibble: 6 × 3\n\n| manufacturer &lt;chr&gt; | model &lt;chr&gt; | mean &lt;dbl&gt; |\n|---|---|---|\n| audi      | a4                 | 0 |\n| audi      | a4 quattro         | 0 |\n| audi      | a6 quattro         | 0 |\n| chevrolet | c1500 suburban 2wd | 0 |\n| chevrolet | corvette           | 0 |\n| chevrolet | k1500 tahoe 4wd    | 0 |\n\n",
            "text/latex": "A tibble: 6 × 3\n\\begin{tabular}{lll}\n manufacturer & model & mean\\\\\n <chr> & <chr> & <dbl>\\\\\n\\hline\n\t audi      & a4                 & 0\\\\\n\t audi      & a4 quattro         & 0\\\\\n\t audi      & a6 quattro         & 0\\\\\n\t chevrolet & c1500 suburban 2wd & 0\\\\\n\t chevrolet & corvette           & 0\\\\\n\t chevrolet & k1500 tahoe 4wd    & 0\\\\\n\\end{tabular}\n",
            "text/plain": [
              "  manufacturer model              mean\n",
              "1 audi         a4                 0   \n",
              "2 audi         a4 quattro         0   \n",
              "3 audi         a6 quattro         0   \n",
              "4 chevrolet    c1500 suburban 2wd 0   \n",
              "5 chevrolet    corvette           0   \n",
              "6 chevrolet    k1500 tahoe 4wd    0   "
            ]
          },
          "metadata": {}
        }
      ]
    },
    {
      "cell_type": "markdown",
      "source": [
        "### Other useful functions\n",
        "\n",
        "### `bind_rows`\n",
        "\n",
        "To combine multiple dataframe into one large dataframe, you cna use `bind_rows`.\n",
        "Recollect you encountered the need for this in hw7 although you could have solved the problems without knowing about this, it would have been easier if you knew this!\n",
        "\n"
      ],
      "metadata": {
        "id": "79WNRsBsV_JE"
      }
    },
    {
      "cell_type": "code",
      "source": [
        "phil_tbl <- tibble(chapter=seq_along(philosophers_stone), text=philosophers_stone)\n",
        "chamber_tbl <- tibble(chapter=seq_along(chamber_of_secrets), text=chamber_of_secrets)\n",
        "prisoner_tbl <- tibble(chapter=seq_along(prisoner_of_azkaban), text=prisoner_of_azkaban)\n",
        "goblet_tbl <- tibble(chapter=seq_along(goblet_of_fire), text=goblet_of_fire)\n",
        "order_of_tbl <- tibble(chapter=seq_along(order_of_the_phoenix), text=order_of_the_phoenix)\n",
        "half_blood_tbl <- tibble(chapter=seq_along(half_blood_prince), text=half_blood_prince)\n",
        "deathly_tbl <- tibble(chapter=seq_along(deathly_hallows), text=deathly_hallows)\n",
        "\n",
        "combined <- bind_rows(phil_tbl, chamber_tbl, prisoner_tbl, goblet_tbl, order_of_tbl, half_blood_tbl, deathly_tbl)"
      ],
      "metadata": {
        "id": "3zXOxHFxWB-1"
      },
      "execution_count": null,
      "outputs": []
    },
    {
      "cell_type": "code",
      "source": [
        "combined %>% glimpse"
      ],
      "metadata": {
        "id": "0i2QPg0vWJMt"
      },
      "execution_count": null,
      "outputs": []
    },
    {
      "cell_type": "markdown",
      "source": [
        "If the data frames have different column names or types, bind_rows will try to match them based on their column names, and it will coerce the columns to a common type if necessary."
      ],
      "metadata": {
        "id": "DeawbKkeWNM5"
      }
    },
    {
      "cell_type": "markdown",
      "source": [
        "### `purr::map` function\n",
        "\n",
        "When you want to apply a function to individual elements of a list, a good option to consider is `map`\n"
      ],
      "metadata": {
        "id": "-hhqYlz9WQoi"
      }
    },
    {
      "cell_type": "code",
      "source": [
        "my_list <- list(1:5, 6:10, 11:15)\n",
        "\n",
        "print(my_list)\n",
        "\n",
        "# Add 2 to each element in the list using map()\n",
        "my_list_plus_two <- map(my_list, ~ .x + 2)\n",
        "\n",
        "# Print the result\n",
        "my_list_plus_two"
      ],
      "metadata": {
        "id": "Ev4GtuwsWS26",
        "outputId": "39cea758-38d7-400c-af9a-8a22e02d73c6",
        "colab": {
          "base_uri": "https://localhost:8080/",
          "height": 257
        }
      },
      "execution_count": 156,
      "outputs": [
        {
          "output_type": "stream",
          "name": "stdout",
          "text": [
            "[[1]]\n",
            "[1] 1 2 3 4 5\n",
            "\n",
            "[[2]]\n",
            "[1]  6  7  8  9 10\n",
            "\n",
            "[[3]]\n",
            "[1] 11 12 13 14 15\n",
            "\n"
          ]
        },
        {
          "output_type": "display_data",
          "data": {
            "text/html": [
              "<ol>\n",
              "\t<li><style>\n",
              ".list-inline {list-style: none; margin:0; padding: 0}\n",
              ".list-inline>li {display: inline-block}\n",
              ".list-inline>li:not(:last-child)::after {content: \"\\00b7\"; padding: 0 .5ex}\n",
              "</style>\n",
              "<ol class=list-inline><li>3</li><li>4</li><li>5</li><li>6</li><li>7</li></ol>\n",
              "</li>\n",
              "\t<li><style>\n",
              ".list-inline {list-style: none; margin:0; padding: 0}\n",
              ".list-inline>li {display: inline-block}\n",
              ".list-inline>li:not(:last-child)::after {content: \"\\00b7\"; padding: 0 .5ex}\n",
              "</style>\n",
              "<ol class=list-inline><li>8</li><li>9</li><li>10</li><li>11</li><li>12</li></ol>\n",
              "</li>\n",
              "\t<li><style>\n",
              ".list-inline {list-style: none; margin:0; padding: 0}\n",
              ".list-inline>li {display: inline-block}\n",
              ".list-inline>li:not(:last-child)::after {content: \"\\00b7\"; padding: 0 .5ex}\n",
              "</style>\n",
              "<ol class=list-inline><li>13</li><li>14</li><li>15</li><li>16</li><li>17</li></ol>\n",
              "</li>\n",
              "</ol>\n"
            ],
            "text/markdown": "1. 1. 3\n2. 4\n3. 5\n4. 6\n5. 7\n\n\n\n2. 1. 8\n2. 9\n3. 10\n4. 11\n5. 12\n\n\n\n3. 1. 13\n2. 14\n3. 15\n4. 16\n5. 17\n\n\n\n\n\n",
            "text/latex": "\\begin{enumerate}\n\\item \\begin{enumerate*}\n\\item 3\n\\item 4\n\\item 5\n\\item 6\n\\item 7\n\\end{enumerate*}\n\n\\item \\begin{enumerate*}\n\\item 8\n\\item 9\n\\item 10\n\\item 11\n\\item 12\n\\end{enumerate*}\n\n\\item \\begin{enumerate*}\n\\item 13\n\\item 14\n\\item 15\n\\item 16\n\\item 17\n\\end{enumerate*}\n\n\\end{enumerate}\n",
            "text/plain": [
              "[[1]]\n",
              "[1] 3 4 5 6 7\n",
              "\n",
              "[[2]]\n",
              "[1]  8  9 10 11 12\n",
              "\n",
              "[[3]]\n",
              "[1] 13 14 15 16 17\n"
            ]
          },
          "metadata": {}
        }
      ]
    },
    {
      "cell_type": "markdown",
      "source": [
        "### Using `map_dfr` \n",
        "\n",
        "While map is applied to a list or vector, `map_dfr` can be used to apply functions on dataframe.\n",
        "\n"
      ],
      "metadata": {
        "id": "72n9UEsEWVwO"
      }
    },
    {
      "cell_type": "code",
      "source": [
        "books = c(\n",
        "    \"philosophers_stone\",\n",
        "    \"chamber_of_secrets\", \n",
        "    \"prisoner_of_azkaban\",\n",
        "    \"goblet_of_fire\", \n",
        "    \"half_blood_prince\",\n",
        "    \"order_of_the_phoenix\",\n",
        "    \"deathly_hallows\"\n",
        ")\n",
        "\n",
        "combined <- map_dfr(books, ~ tibble(book=., chapter=seq_along(get(.)), text=get(.))) %>%\n",
        "  glimpse"
      ],
      "metadata": {
        "id": "g9KBEBBpWYFE"
      },
      "execution_count": null,
      "outputs": []
    },
    {
      "cell_type": "markdown",
      "source": [
        "Now it is good idea to re-factor your HW7 to use all of these new functions!\n",
        "\n",
        "## What is refactoring?\n",
        "\n",
        "In software it is customary to first get 'a' solution for a problem.  Once you have a working software, you should always think through and see if there are opportunities to make things better. That step is called refactoring!\n",
        "Invariably everytime you relook at your code, you will find opportunities to make things better. Some of the things that stand out are\n",
        "* Code that is repeating - pull them over to a function\n",
        "* Renaming your variables to make it more meaningful so that a third person who looks at your code can understand what you are trying to do (sometimes it helps you to recollect what you were doing, when you revisit your code after a few months)\n",
        "* See if there are other builtin functions that you replace your code with \n",
        "\n",
        "These are only some tips, to get your started in refactoring path. However, attempting to write the best code possible to begin with itself could take you in an analysis-paralysis mode. So the first step always is to get it working in some form and then think of refactoring. However, as you gain experience, you will apply the correct methods itself in your first attempt.\n",
        "But in anycase writing code itself is a iterating process"
      ],
      "metadata": {
        "id": "4zruY_n7WbtK"
      }
    }
  ],
  "metadata": {
    "kernelspec": {
      "display_name": "R",
      "language": "R",
      "name": "ir"
    },
    "language_info": {
      "codemirror_mode": "r",
      "file_extension": ".r",
      "mimetype": "text/x-r-source",
      "name": "R",
      "pygments_lexer": "r",
      "version": "4.1.1"
    },
    "colab": {
      "provenance": []
    }
  },
  "nbformat": 4,
  "nbformat_minor": 0
}