{
  "cells": [
    {
      "cell_type": "code",
      "execution_count": 1,
      "metadata": {
        "colab": {
          "base_uri": "https://localhost:8080/"
        },
        "id": "__szmnTH1lex",
        "outputId": "af4c0a14-33d4-4c89-f581-6ab8ffa85c4a"
      },
      "outputs": [
        {
          "output_type": "stream",
          "name": "stderr",
          "text": [
            "Warning message in system(\"timedatectl\", intern = TRUE):\n",
            "“running command 'timedatectl' had status 1”\n",
            "── \u001b[1mAttaching packages\u001b[22m ─────────────────────────────────────── tidyverse 1.3.1 ──\n",
            "\n",
            "\u001b[32m✔\u001b[39m \u001b[34mggplot2\u001b[39m 3.4.1     \u001b[32m✔\u001b[39m \u001b[34mpurrr  \u001b[39m 1.0.1\n",
            "\u001b[32m✔\u001b[39m \u001b[34mtibble \u001b[39m 3.2.0     \u001b[32m✔\u001b[39m \u001b[34mdplyr  \u001b[39m 1.1.0\n",
            "\u001b[32m✔\u001b[39m \u001b[34mtidyr  \u001b[39m 1.3.0     \u001b[32m✔\u001b[39m \u001b[34mstringr\u001b[39m 1.4.1\n",
            "\u001b[32m✔\u001b[39m \u001b[34mreadr  \u001b[39m 2.1.4     \u001b[32m✔\u001b[39m \u001b[34mforcats\u001b[39m 1.0.0\n",
            "\n",
            "── \u001b[1mConflicts\u001b[22m ────────────────────────────────────────── tidyverse_conflicts() ──\n",
            "\u001b[31m✖\u001b[39m \u001b[34mdplyr\u001b[39m::\u001b[32mfilter()\u001b[39m masks \u001b[34mstats\u001b[39m::filter()\n",
            "\u001b[31m✖\u001b[39m \u001b[34mdplyr\u001b[39m::\u001b[32mlag()\u001b[39m    masks \u001b[34mstats\u001b[39m::lag()\n",
            "\n",
            "Installing package into ‘/usr/local/lib/R/site-library’\n",
            "(as ‘lib’ is unspecified)\n",
            "\n",
            "Downloading GitHub repo bradleyboehmke/harrypotter@HEAD\n",
            "\n"
          ]
        },
        {
          "output_type": "stream",
          "name": "stdout",
          "text": [
            "\u001b[36m──\u001b[39m \u001b[36mR CMD build\u001b[39m \u001b[36m─────────────────────────────────────────────────────────────────\u001b[39m\n",
            "* checking for file ‘/tmp/Rtmp8DqsGk/remotes865bf65b27/bradleyboehmke-harrypotter-51f7146/DESCRIPTION’ ... OK\n",
            "* preparing ‘harrypotter’:\n",
            "* checking DESCRIPTION meta-information ... OK\n",
            "* checking for LF line-endings in source and make files and shell scripts\n",
            "* checking for empty or unneeded directories\n",
            "* building ‘harrypotter_0.1.0.tar.gz’\n",
            "\n"
          ]
        },
        {
          "output_type": "stream",
          "name": "stderr",
          "text": [
            "Installing package into ‘/usr/local/lib/R/site-library’\n",
            "(as ‘lib’ is unspecified)\n",
            "\n",
            "Installing package into ‘/usr/local/lib/R/site-library’\n",
            "(as ‘lib’ is unspecified)\n",
            "\n",
            "also installing the dependencies ‘Rcpp’, ‘SnowballC’, ‘janeaustenr’, ‘tokenizers’\n",
            "\n",
            "\n"
          ]
        }
      ],
      "source": [
        "library(tidyverse)\n",
        "install.packages('nycflights13')\n",
        "library(nycflights13)\n",
        "\n",
        "remotes::install_github(\"bradleyboehmke/harrypotter\")\n",
        "install.packages(\"tidytext\")\n",
        "library(harrypotter)"
      ]
    },
    {
      "cell_type": "markdown",
      "metadata": {
        "id": "m-DHRmHF1lev"
      },
      "source": [
        "# Lecture 17: Iteration and Functional Programming\n",
        "<div style=\"border: 1px double black; padding: 10px; margin: 10px\">\n",
        "\n",
        "**After today's lecture you will understand:**\n",
        "- [Iteration](#Iteration): `for`/`while` loops.\n",
        "- [Functional programming](#Functional-programming) (FP): functions that operate on other functions.\n",
        "</div>\n",
        "\n",
        "These notes correspond to Chapter 27 of the book."
      ]
    },
    {
      "cell_type": "code",
      "execution_count": null,
      "metadata": {
        "colab": {
          "base_uri": "https://localhost:8080/"
        },
        "outputId": "0c676323-5f72-4ce0-f2d6-e0c5f15a6d86",
        "id": "GTiVMAPfRnxX"
      },
      "outputs": [
        {
          "name": "stderr",
          "output_type": "stream",
          "text": [
            "Installing package into ‘/usr/local/lib/R/site-library’\n",
            "(as ‘lib’ is unspecified)\n",
            "\n"
          ]
        }
      ],
      "source": [
        "library(tidyverse)\n",
        "install.packages('nycflights13')\n",
        "library(nycflights13)\n",
        "\n",
        "remotes::install_github(\"bradleyboehmke/harrypotter\")\n",
        "install.packages(\"tidytext\")\n",
        "library(harrypotter)"
      ]
    },
    {
      "cell_type": "markdown",
      "metadata": {
        "id": "cbQT6tefRnxY"
      },
      "source": [
        "## Doing the same thing over and over again\n",
        "Very often in programming, it happens that you need to perform the same \"action\" on multiple \"things\". Examples we have already seen in this class:\n",
        "- `facet_wrap()`, `facet_grid()`: make the same plot for various combinations of factors.\n",
        "- `group_by()` + `summarize()`: compute the same statistic for various groups of data.\n",
        "\n",
        "We've also encountered examples where we needed to do the same thing repeatedly, but didn't have a ready-made function (so probably resorted to copy-paste):\n",
        "\n",
        "\n",
        "- HW7: bind together all the Harry Potter books into one data frame."
      ]
    },
    {
      "cell_type": "markdown",
      "metadata": {
        "id": "MR8ZJXyyRnxZ"
      },
      "source": [
        "### Performing the same action on multiple columns\n",
        "Consider the following table with four columns `a`-`d`:"
      ]
    },
    {
      "cell_type": "code",
      "execution_count": null,
      "metadata": {
        "id": "vdf7h_A9RnxZ"
      },
      "outputs": [],
      "source": [
        "df <- tibble(\n",
        "  a = rnorm(10),\n",
        "  b = rnorm(10),\n",
        "  c = rnorm(10),\n",
        "  d = rnorm(10)\n",
        ")"
      ]
    },
    {
      "cell_type": "markdown",
      "metadata": {
        "id": "z13XHW5cRnxa"
      },
      "source": [
        "In the last class, we wrote a `z_score()` function which standardizes a vector of data to have unit variance and zero mean:"
      ]
    },
    {
      "cell_type": "code",
      "execution_count": null,
      "metadata": {
        "id": "3Uc5Tfc2Rnxa"
      },
      "outputs": [],
      "source": [
        "z_score <- function(x, na.rm = T) {\n",
        "    (x - mean(x, na.rm = na.rm)) / sd(x, na.rm = na.rm)\n",
        "}"
      ]
    },
    {
      "cell_type": "markdown",
      "metadata": {
        "id": "WeiZi5a0Rnxb"
      },
      "source": [
        "Let's say we want to standardize the four coulmns in our data frame. Up to now, we would probably write:"
      ]
    },
    {
      "cell_type": "code",
      "execution_count": null,
      "metadata": {
        "id": "ST9rAG1FRnxd",
        "outputId": "17fb0f1a-8de4-4c4e-c51f-4e14f67fb041"
      },
      "outputs": [
        {
          "data": {
            "text/html": [
              "<table class=\"dataframe\">\n",
              "<caption>A tibble: 10 × 4</caption>\n",
              "<thead>\n",
              "\t<tr><th scope=col>a</th><th scope=col>b</th><th scope=col>c</th><th scope=col>d</th></tr>\n",
              "\t<tr><th scope=col>&lt;dbl&gt;</th><th scope=col>&lt;dbl&gt;</th><th scope=col>&lt;dbl&gt;</th><th scope=col>&lt;dbl&gt;</th></tr>\n",
              "</thead>\n",
              "<tbody>\n",
              "\t<tr><td>-0.39981933</td><td> 0.3698648</td><td> 0.49708396</td><td>-0.4999849</td></tr>\n",
              "\t<tr><td> 1.32621146</td><td> 1.0416398</td><td> 1.54118966</td><td>-0.4236470</td></tr>\n",
              "\t<tr><td> 0.04826911</td><td> 0.8630754</td><td>-0.67704723</td><td> 0.6290743</td></tr>\n",
              "\t<tr><td>-1.07054424</td><td> 0.2749919</td><td> 0.66433231</td><td>-1.0543276</td></tr>\n",
              "\t<tr><td>-0.56684428</td><td>-0.2337472</td><td> 1.01391562</td><td>-0.6718809</td></tr>\n",
              "\t<tr><td>-0.79138575</td><td>-0.5181794</td><td>-0.08357779</td><td> 0.1649473</td></tr>\n",
              "\t<tr><td> 0.15027973</td><td> 0.4490149</td><td>-1.28146810</td><td>-0.5798573</td></tr>\n",
              "\t<tr><td>-1.27404632</td><td> 0.9923308</td><td>-1.12332318</td><td> 2.1943352</td></tr>\n",
              "\t<tr><td> 1.38058932</td><td>-1.9378141</td><td>-1.10832735</td><td>-0.7172142</td></tr>\n",
              "\t<tr><td> 1.19729029</td><td>-1.3011767</td><td> 0.55722210</td><td> 0.9585551</td></tr>\n",
              "</tbody>\n",
              "</table>\n"
            ],
            "text/latex": [
              "A tibble: 10 × 4\n",
              "\\begin{tabular}{llll}\n",
              " a & b & c & d\\\\\n",
              " <dbl> & <dbl> & <dbl> & <dbl>\\\\\n",
              "\\hline\n",
              "\t -0.39981933 &  0.3698648 &  0.49708396 & -0.4999849\\\\\n",
              "\t  1.32621146 &  1.0416398 &  1.54118966 & -0.4236470\\\\\n",
              "\t  0.04826911 &  0.8630754 & -0.67704723 &  0.6290743\\\\\n",
              "\t -1.07054424 &  0.2749919 &  0.66433231 & -1.0543276\\\\\n",
              "\t -0.56684428 & -0.2337472 &  1.01391562 & -0.6718809\\\\\n",
              "\t -0.79138575 & -0.5181794 & -0.08357779 &  0.1649473\\\\\n",
              "\t  0.15027973 &  0.4490149 & -1.28146810 & -0.5798573\\\\\n",
              "\t -1.27404632 &  0.9923308 & -1.12332318 &  2.1943352\\\\\n",
              "\t  1.38058932 & -1.9378141 & -1.10832735 & -0.7172142\\\\\n",
              "\t  1.19729029 & -1.3011767 &  0.55722210 &  0.9585551\\\\\n",
              "\\end{tabular}\n"
            ],
            "text/markdown": [
              "\n",
              "A tibble: 10 × 4\n",
              "\n",
              "| a &lt;dbl&gt; | b &lt;dbl&gt; | c &lt;dbl&gt; | d &lt;dbl&gt; |\n",
              "|---|---|---|---|\n",
              "| -0.39981933 |  0.3698648 |  0.49708396 | -0.4999849 |\n",
              "|  1.32621146 |  1.0416398 |  1.54118966 | -0.4236470 |\n",
              "|  0.04826911 |  0.8630754 | -0.67704723 |  0.6290743 |\n",
              "| -1.07054424 |  0.2749919 |  0.66433231 | -1.0543276 |\n",
              "| -0.56684428 | -0.2337472 |  1.01391562 | -0.6718809 |\n",
              "| -0.79138575 | -0.5181794 | -0.08357779 |  0.1649473 |\n",
              "|  0.15027973 |  0.4490149 | -1.28146810 | -0.5798573 |\n",
              "| -1.27404632 |  0.9923308 | -1.12332318 |  2.1943352 |\n",
              "|  1.38058932 | -1.9378141 | -1.10832735 | -0.7172142 |\n",
              "|  1.19729029 | -1.3011767 |  0.55722210 |  0.9585551 |\n",
              "\n"
            ],
            "text/plain": [
              "   a           b          c           d         \n",
              "1  -0.39981933  0.3698648  0.49708396 -0.4999849\n",
              "2   1.32621146  1.0416398  1.54118966 -0.4236470\n",
              "3   0.04826911  0.8630754 -0.67704723  0.6290743\n",
              "4  -1.07054424  0.2749919  0.66433231 -1.0543276\n",
              "5  -0.56684428 -0.2337472  1.01391562 -0.6718809\n",
              "6  -0.79138575 -0.5181794 -0.08357779  0.1649473\n",
              "7   0.15027973  0.4490149 -1.28146810 -0.5798573\n",
              "8  -1.27404632  0.9923308 -1.12332318  2.1943352\n",
              "9   1.38058932 -1.9378141 -1.10832735 -0.7172142\n",
              "10  1.19729029 -1.3011767  0.55722210  0.9585551"
            ]
          },
          "metadata": {},
          "output_type": "display_data"
        }
      ],
      "source": [
        "# mutate the manual way. Your numbers would be different dueto randomness"
      ]
    },
    {
      "cell_type": "markdown",
      "metadata": {
        "id": "NVWOoCB2Rnxg"
      },
      "source": [
        "In the preceding example, we just copy-pasted the same bit of code four times. From now on, we shall adopt a rule: \"never copy-paste more than twice!\" If you find yourself copy-pasting code more than two times, it pays to think of a better way to accomplish the task at hand."
      ]
    },
    {
      "cell_type": "markdown",
      "metadata": {
        "id": "geX7QP3oRnxg"
      },
      "source": [
        "### `across()`\n",
        "The better way in this case is to use a new `dplyr` verb called `across()`. It's easiest to explain with an example:"
      ]
    },
    {
      "cell_type": "code",
      "execution_count": null,
      "metadata": {
        "id": "yyuc7w_URnxh",
        "outputId": "26835e2a-9aea-4527-c784-2e456cdf64a1"
      },
      "outputs": [
        {
          "data": {
            "text/html": [
              "<table class=\"dataframe\">\n",
              "<caption>A tibble: 10 × 4</caption>\n",
              "<thead>\n",
              "\t<tr><th scope=col>a</th><th scope=col>b</th><th scope=col>c</th><th scope=col>d</th></tr>\n",
              "\t<tr><th scope=col>&lt;dbl&gt;</th><th scope=col>&lt;dbl&gt;</th><th scope=col>&lt;dbl&gt;</th><th scope=col>&lt;dbl&gt;</th></tr>\n",
              "</thead>\n",
              "<tbody>\n",
              "\t<tr><td>-0.39981933</td><td> 0.3698648</td><td> 0.3076984</td><td>-0.7851996</td></tr>\n",
              "\t<tr><td> 1.32621146</td><td> 1.0416398</td><td> 1.4272315</td><td>-0.7116773</td></tr>\n",
              "\t<tr><td> 0.04826911</td><td> 0.8630754</td><td>-0.9512533</td><td> 0.3022164</td></tr>\n",
              "\t<tr><td>-1.07054424</td><td> 0.2749919</td><td> 0.4870290</td><td>-1.3190964</td></tr>\n",
              "\t<tr><td>-0.56684428</td><td>-0.2337472</td><td> 0.8618666</td><td>-0.9507556</td></tr>\n",
              "\t<tr><td>-0.79138575</td><td>-0.5181794</td><td>-0.3149110</td><td>-0.1447921</td></tr>\n",
              "\t<tr><td> 0.15027973</td><td> 0.4490149</td><td>-1.5993383</td><td>-0.8621261</td></tr>\n",
              "\t<tr><td>-1.27404632</td><td> 0.9923308</td><td>-1.4297688</td><td> 1.8097456</td></tr>\n",
              "\t<tr><td> 1.38058932</td><td>-1.9378141</td><td>-1.4136896</td><td>-0.9944168</td></tr>\n",
              "\t<tr><td> 1.19729029</td><td>-1.3011767</td><td> 0.3721810</td><td> 0.6195450</td></tr>\n",
              "</tbody>\n",
              "</table>\n"
            ],
            "text/latex": [
              "A tibble: 10 × 4\n",
              "\\begin{tabular}{llll}\n",
              " a & b & c & d\\\\\n",
              " <dbl> & <dbl> & <dbl> & <dbl>\\\\\n",
              "\\hline\n",
              "\t -0.39981933 &  0.3698648 &  0.3076984 & -0.7851996\\\\\n",
              "\t  1.32621146 &  1.0416398 &  1.4272315 & -0.7116773\\\\\n",
              "\t  0.04826911 &  0.8630754 & -0.9512533 &  0.3022164\\\\\n",
              "\t -1.07054424 &  0.2749919 &  0.4870290 & -1.3190964\\\\\n",
              "\t -0.56684428 & -0.2337472 &  0.8618666 & -0.9507556\\\\\n",
              "\t -0.79138575 & -0.5181794 & -0.3149110 & -0.1447921\\\\\n",
              "\t  0.15027973 &  0.4490149 & -1.5993383 & -0.8621261\\\\\n",
              "\t -1.27404632 &  0.9923308 & -1.4297688 &  1.8097456\\\\\n",
              "\t  1.38058932 & -1.9378141 & -1.4136896 & -0.9944168\\\\\n",
              "\t  1.19729029 & -1.3011767 &  0.3721810 &  0.6195450\\\\\n",
              "\\end{tabular}\n"
            ],
            "text/markdown": [
              "\n",
              "A tibble: 10 × 4\n",
              "\n",
              "| a &lt;dbl&gt; | b &lt;dbl&gt; | c &lt;dbl&gt; | d &lt;dbl&gt; |\n",
              "|---|---|---|---|\n",
              "| -0.39981933 |  0.3698648 |  0.3076984 | -0.7851996 |\n",
              "|  1.32621146 |  1.0416398 |  1.4272315 | -0.7116773 |\n",
              "|  0.04826911 |  0.8630754 | -0.9512533 |  0.3022164 |\n",
              "| -1.07054424 |  0.2749919 |  0.4870290 | -1.3190964 |\n",
              "| -0.56684428 | -0.2337472 |  0.8618666 | -0.9507556 |\n",
              "| -0.79138575 | -0.5181794 | -0.3149110 | -0.1447921 |\n",
              "|  0.15027973 |  0.4490149 | -1.5993383 | -0.8621261 |\n",
              "| -1.27404632 |  0.9923308 | -1.4297688 |  1.8097456 |\n",
              "|  1.38058932 | -1.9378141 | -1.4136896 | -0.9944168 |\n",
              "|  1.19729029 | -1.3011767 |  0.3721810 |  0.6195450 |\n",
              "\n"
            ],
            "text/plain": [
              "   a           b          c          d         \n",
              "1  -0.39981933  0.3698648  0.3076984 -0.7851996\n",
              "2   1.32621146  1.0416398  1.4272315 -0.7116773\n",
              "3   0.04826911  0.8630754 -0.9512533  0.3022164\n",
              "4  -1.07054424  0.2749919  0.4870290 -1.3190964\n",
              "5  -0.56684428 -0.2337472  0.8618666 -0.9507556\n",
              "6  -0.79138575 -0.5181794 -0.3149110 -0.1447921\n",
              "7   0.15027973  0.4490149 -1.5993383 -0.8621261\n",
              "8  -1.27404632  0.9923308 -1.4297688  1.8097456\n",
              "9   1.38058932 -1.9378141 -1.4136896 -0.9944168\n",
              "10  1.19729029 -1.3011767  0.3721810  0.6195450"
            ]
          },
          "metadata": {},
          "output_type": "display_data"
        }
      ],
      "source": [
        "# use across instead"
      ]
    },
    {
      "cell_type": "markdown",
      "metadata": {
        "id": "wipqVljwRnxh"
      },
      "source": [
        "The columns selected by `across()` work in the same way as `select`:"
      ]
    },
    {
      "cell_type": "code",
      "execution_count": null,
      "metadata": {
        "id": "wNUug57fRnxh",
        "outputId": "fc39bcb3-dcff-4887-c57b-eb98f1792935"
      },
      "outputs": [
        {
          "data": {
            "text/html": [
              "<table class=\"dataframe\">\n",
              "<caption>A tibble: 1 × 4</caption>\n",
              "<thead>\n",
              "\t<tr><th scope=col>a</th><th scope=col>b</th><th scope=col>c</th><th scope=col>d</th></tr>\n",
              "\t<tr><th scope=col>&lt;dbl&gt;</th><th scope=col>&lt;dbl&gt;</th><th scope=col>&lt;dbl&gt;</th><th scope=col>&lt;dbl&gt;</th></tr>\n",
              "</thead>\n",
              "<tbody>\n",
              "\t<tr><td>-0.1569263</td><td>2.218278e-17</td><td>-2.73761e-18</td><td>-4.996004e-17</td></tr>\n",
              "</tbody>\n",
              "</table>\n"
            ],
            "text/latex": [
              "A tibble: 1 × 4\n",
              "\\begin{tabular}{llll}\n",
              " a & b & c & d\\\\\n",
              " <dbl> & <dbl> & <dbl> & <dbl>\\\\\n",
              "\\hline\n",
              "\t -0.1569263 & 2.218278e-17 & -2.73761e-18 & -4.996004e-17\\\\\n",
              "\\end{tabular}\n"
            ],
            "text/markdown": [
              "\n",
              "A tibble: 1 × 4\n",
              "\n",
              "| a &lt;dbl&gt; | b &lt;dbl&gt; | c &lt;dbl&gt; | d &lt;dbl&gt; |\n",
              "|---|---|---|---|\n",
              "| -0.1569263 | 2.218278e-17 | -2.73761e-18 | -4.996004e-17 |\n",
              "\n"
            ],
            "text/plain": [
              "  a          b            c            d            \n",
              "1 -0.1569263 2.218278e-17 -2.73761e-18 -4.996004e-17"
            ]
          },
          "metadata": {},
          "output_type": "display_data"
        }
      ],
      "source": [
        "# standardize everything except column a, then compute the mean"
      ]
    },
    {
      "cell_type": "markdown",
      "metadata": {
        "id": "HtIzzJvgRnxi"
      },
      "source": [
        "### Selecting columns based on their type\n",
        "It only makes sense to standardize a numerical random variable. Hence, the following won't work:\n",
        "\n",
        "    mpg %>% mutate(across(everything(), z_score))"
      ]
    },
    {
      "cell_type": "markdown",
      "metadata": {
        "id": "xr3owsRCRnxi"
      },
      "source": [
        "Instead, we can use `where()` to select columns that have a particular type:"
      ]
    },
    {
      "cell_type": "code",
      "execution_count": null,
      "metadata": {
        "id": "RfVPXrTORnxi",
        "outputId": "70d19030-cb88-4172-e126-ab50b7aebf96"
      },
      "outputs": [
        {
          "data": {
            "text/html": [
              "<table class=\"dataframe\">\n",
              "<caption>A tibble: 234 × 11</caption>\n",
              "<thead>\n",
              "\t<tr><th scope=col>manufacturer</th><th scope=col>model</th><th scope=col>displ</th><th scope=col>year</th><th scope=col>cyl</th><th scope=col>trans</th><th scope=col>drv</th><th scope=col>cty</th><th scope=col>hwy</th><th scope=col>fl</th><th scope=col>class</th></tr>\n",
              "\t<tr><th scope=col>&lt;chr&gt;</th><th scope=col>&lt;chr&gt;</th><th scope=col>&lt;dbl&gt;</th><th scope=col>&lt;dbl&gt;</th><th scope=col>&lt;dbl&gt;</th><th scope=col>&lt;chr&gt;</th><th scope=col>&lt;chr&gt;</th><th scope=col>&lt;dbl&gt;</th><th scope=col>&lt;dbl&gt;</th><th scope=col>&lt;chr&gt;</th><th scope=col>&lt;chr&gt;</th></tr>\n",
              "</thead>\n",
              "<tbody>\n",
              "\t<tr><td>audi     </td><td>a4                </td><td>-1.2939999</td><td>-0.997861</td><td>-1.1721058</td><td>auto(l5)  </td><td>f</td><td> 0.26810155</td><td> 0.93369639</td><td>p</td><td>compact</td></tr>\n",
              "\t<tr><td>audi     </td><td>a4                </td><td>-1.2939999</td><td>-0.997861</td><td>-1.1721058</td><td>manual(m5)</td><td>f</td><td> 0.97299777</td><td> 0.93369639</td><td>p</td><td>compact</td></tr>\n",
              "\t<tr><td>audi     </td><td>a4                </td><td>-1.1391962</td><td> 0.997861</td><td>-1.1721058</td><td>manual(m6)</td><td>f</td><td> 0.73803236</td><td> 1.26956872</td><td>p</td><td>compact</td></tr>\n",
              "\t<tr><td>audi     </td><td>a4                </td><td>-1.1391962</td><td> 0.997861</td><td>-1.1721058</td><td>auto(av)  </td><td>f</td><td> 0.97299777</td><td> 1.10163255</td><td>p</td><td>compact</td></tr>\n",
              "\t<tr><td>audi     </td><td>a4                </td><td>-0.5199816</td><td>-0.997861</td><td> 0.0689474</td><td>auto(l5)  </td><td>f</td><td>-0.20182926</td><td> 0.42988788</td><td>p</td><td>compact</td></tr>\n",
              "\t<tr><td>audi     </td><td>a4                </td><td>-0.5199816</td><td>-0.997861</td><td> 0.0689474</td><td>manual(m5)</td><td>f</td><td> 0.26810155</td><td> 0.42988788</td><td>p</td><td>compact</td></tr>\n",
              "\t<tr><td>audi     </td><td>a4                </td><td>-0.2877761</td><td> 0.997861</td><td> 0.0689474</td><td>auto(av)  </td><td>f</td><td> 0.26810155</td><td> 0.59782405</td><td>p</td><td>compact</td></tr>\n",
              "\t<tr><td>audi     </td><td>a4 quattro        </td><td>-1.2939999</td><td>-0.997861</td><td>-1.1721058</td><td>manual(m5)</td><td>4</td><td> 0.26810155</td><td> 0.42988788</td><td>p</td><td>compact</td></tr>\n",
              "\t<tr><td>audi     </td><td>a4 quattro        </td><td>-1.2939999</td><td>-0.997861</td><td>-1.1721058</td><td>auto(l5)  </td><td>4</td><td>-0.20182926</td><td> 0.26195171</td><td>p</td><td>compact</td></tr>\n",
              "\t<tr><td>audi     </td><td>a4 quattro        </td><td>-1.1391962</td><td> 0.997861</td><td>-1.1721058</td><td>manual(m6)</td><td>4</td><td> 0.73803236</td><td> 0.76576022</td><td>p</td><td>compact</td></tr>\n",
              "\t<tr><td>audi     </td><td>a4 quattro        </td><td>-1.1391962</td><td> 0.997861</td><td>-1.1721058</td><td>auto(s6)  </td><td>4</td><td> 0.50306696</td><td> 0.59782405</td><td>p</td><td>compact</td></tr>\n",
              "\t<tr><td>audi     </td><td>a4 quattro        </td><td>-0.5199816</td><td>-0.997861</td><td> 0.0689474</td><td>auto(l5)  </td><td>4</td><td>-0.43679466</td><td> 0.26195171</td><td>p</td><td>compact</td></tr>\n",
              "\t<tr><td>audi     </td><td>a4 quattro        </td><td>-0.5199816</td><td>-0.997861</td><td> 0.0689474</td><td>manual(m5)</td><td>4</td><td> 0.03313615</td><td> 0.26195171</td><td>p</td><td>compact</td></tr>\n",
              "\t<tr><td>audi     </td><td>a4 quattro        </td><td>-0.2877761</td><td> 0.997861</td><td> 0.0689474</td><td>auto(s6)  </td><td>4</td><td> 0.03313615</td><td> 0.26195171</td><td>p</td><td>compact</td></tr>\n",
              "\t<tr><td>audi     </td><td>a4 quattro        </td><td>-0.2877761</td><td> 0.997861</td><td> 0.0689474</td><td>manual(m6)</td><td>4</td><td>-0.43679466</td><td> 0.26195171</td><td>p</td><td>compact</td></tr>\n",
              "\t<tr><td>audi     </td><td>a6 quattro        </td><td>-0.5199816</td><td>-0.997861</td><td> 0.0689474</td><td>auto(l5)  </td><td>4</td><td>-0.43679466</td><td> 0.09401555</td><td>p</td><td>midsize</td></tr>\n",
              "\t<tr><td>audi     </td><td>a6 quattro        </td><td>-0.2877761</td><td> 0.997861</td><td> 0.0689474</td><td>auto(s6)  </td><td>4</td><td> 0.03313615</td><td> 0.26195171</td><td>p</td><td>midsize</td></tr>\n",
              "\t<tr><td>audi     </td><td>a6 quattro        </td><td> 0.5636441</td><td> 0.997861</td><td> 1.3100006</td><td>auto(s6)  </td><td>4</td><td>-0.20182926</td><td>-0.07392062</td><td>p</td><td>midsize</td></tr>\n",
              "\t<tr><td>chevrolet</td><td>c1500 suburban 2wd</td><td> 1.4150643</td><td> 0.997861</td><td> 1.3100006</td><td>auto(l4)  </td><td>r</td><td>-0.67176007</td><td>-0.57772912</td><td>r</td><td>suv    </td></tr>\n",
              "\t<tr><td>chevrolet</td><td>c1500 suburban 2wd</td><td> 1.4150643</td><td> 0.997861</td><td> 1.3100006</td><td>auto(l4)  </td><td>r</td><td>-1.37665628</td><td>-1.41740996</td><td>e</td><td>suv    </td></tr>\n",
              "\t<tr><td>chevrolet</td><td>c1500 suburban 2wd</td><td> 1.4150643</td><td> 0.997861</td><td> 1.3100006</td><td>auto(l4)  </td><td>r</td><td>-0.67176007</td><td>-0.57772912</td><td>r</td><td>suv    </td></tr>\n",
              "\t<tr><td>chevrolet</td><td>c1500 suburban 2wd</td><td> 1.7246717</td><td>-0.997861</td><td> 1.3100006</td><td>auto(l4)  </td><td>r</td><td>-0.90672547</td><td>-1.08153763</td><td>r</td><td>suv    </td></tr>\n",
              "\t<tr><td>chevrolet</td><td>c1500 suburban 2wd</td><td> 1.9568772</td><td> 0.997861</td><td> 1.3100006</td><td>auto(l4)  </td><td>r</td><td>-1.14169088</td><td>-1.08153763</td><td>r</td><td>suv    </td></tr>\n",
              "\t<tr><td>chevrolet</td><td>corvette          </td><td> 1.7246717</td><td>-0.997861</td><td> 1.3100006</td><td>manual(m6)</td><td>r</td><td>-0.20182926</td><td> 0.42988788</td><td>p</td><td>2seater</td></tr>\n",
              "\t<tr><td>chevrolet</td><td>corvette          </td><td> 1.7246717</td><td>-0.997861</td><td> 1.3100006</td><td>auto(l4)  </td><td>r</td><td>-0.43679466</td><td>-0.07392062</td><td>p</td><td>2seater</td></tr>\n",
              "\t<tr><td>chevrolet</td><td>corvette          </td><td> 2.1116808</td><td> 0.997861</td><td> 1.3100006</td><td>manual(m6)</td><td>r</td><td>-0.20182926</td><td> 0.42988788</td><td>p</td><td>2seater</td></tr>\n",
              "\t<tr><td>chevrolet</td><td>corvette          </td><td> 2.1116808</td><td> 0.997861</td><td> 1.3100006</td><td>auto(s6)  </td><td>r</td><td>-0.43679466</td><td> 0.26195171</td><td>p</td><td>2seater</td></tr>\n",
              "\t<tr><td>chevrolet</td><td>corvette          </td><td> 2.7308955</td><td> 0.997861</td><td> 1.3100006</td><td>manual(m6)</td><td>r</td><td>-0.43679466</td><td> 0.09401555</td><td>p</td><td>2seater</td></tr>\n",
              "\t<tr><td>chevrolet</td><td>k1500 tahoe 4wd   </td><td> 1.4150643</td><td> 0.997861</td><td> 1.3100006</td><td>auto(l4)  </td><td>4</td><td>-0.67176007</td><td>-0.74566529</td><td>r</td><td>suv    </td></tr>\n",
              "\t<tr><td>chevrolet</td><td>k1500 tahoe 4wd   </td><td> 1.4150643</td><td> 0.997861</td><td> 1.3100006</td><td>auto(l4)  </td><td>4</td><td>-1.37665628</td><td>-1.58534613</td><td>e</td><td>suv    </td></tr>\n",
              "\t<tr><td>⋮</td><td>⋮</td><td>⋮</td><td>⋮</td><td>⋮</td><td>⋮</td><td>⋮</td><td>⋮</td><td>⋮</td><td>⋮</td><td>⋮</td></tr>\n",
              "\t<tr><td>toyota    </td><td>toyota tacoma 4wd</td><td>-0.05557055</td><td>-0.997861</td><td> 0.0689474</td><td>auto(l4)  </td><td>4</td><td>-0.43679466</td><td>-0.74566529</td><td>r</td><td>pickup    </td></tr>\n",
              "\t<tr><td>toyota    </td><td>toyota tacoma 4wd</td><td> 0.40884046</td><td> 0.997861</td><td> 0.0689474</td><td>manual(m6)</td><td>4</td><td>-0.43679466</td><td>-0.91360146</td><td>r</td><td>pickup    </td></tr>\n",
              "\t<tr><td>toyota    </td><td>toyota tacoma 4wd</td><td> 0.40884046</td><td> 0.997861</td><td> 0.0689474</td><td>auto(l5)  </td><td>4</td><td>-0.20182926</td><td>-0.57772912</td><td>r</td><td>pickup    </td></tr>\n",
              "\t<tr><td>volkswagen</td><td>gti              </td><td>-1.13919624</td><td>-0.997861</td><td>-1.1721058</td><td>manual(m5)</td><td>f</td><td> 0.97299777</td><td> 0.93369639</td><td>r</td><td>compact   </td></tr>\n",
              "\t<tr><td>volkswagen</td><td>gti              </td><td>-1.13919624</td><td>-0.997861</td><td>-1.1721058</td><td>auto(l4)  </td><td>f</td><td> 0.50306696</td><td> 0.42988788</td><td>r</td><td>compact   </td></tr>\n",
              "\t<tr><td>volkswagen</td><td>gti              </td><td>-1.13919624</td><td> 0.997861</td><td>-1.1721058</td><td>manual(m6)</td><td>f</td><td> 0.97299777</td><td> 0.93369639</td><td>p</td><td>compact   </td></tr>\n",
              "\t<tr><td>volkswagen</td><td>gti              </td><td>-1.13919624</td><td> 0.997861</td><td>-1.1721058</td><td>auto(s6)  </td><td>f</td><td> 1.20796317</td><td> 0.93369639</td><td>p</td><td>compact   </td></tr>\n",
              "\t<tr><td>volkswagen</td><td>gti              </td><td>-0.51998156</td><td>-0.997861</td><td> 0.0689474</td><td>manual(m5)</td><td>f</td><td> 0.03313615</td><td> 0.09401555</td><td>r</td><td>compact   </td></tr>\n",
              "\t<tr><td>volkswagen</td><td>jetta            </td><td>-1.21659808</td><td>-0.997861</td><td>-1.1721058</td><td>manual(m5)</td><td>f</td><td> 3.79258263</td><td> 3.45273890</td><td>d</td><td>compact   </td></tr>\n",
              "\t<tr><td>volkswagen</td><td>jetta            </td><td>-1.13919624</td><td>-0.997861</td><td>-1.1721058</td><td>manual(m5)</td><td>f</td><td> 0.97299777</td><td> 0.93369639</td><td>r</td><td>compact   </td></tr>\n",
              "\t<tr><td>volkswagen</td><td>jetta            </td><td>-1.13919624</td><td>-0.997861</td><td>-1.1721058</td><td>auto(l4)  </td><td>f</td><td> 0.50306696</td><td> 0.42988788</td><td>r</td><td>compact   </td></tr>\n",
              "\t<tr><td>volkswagen</td><td>jetta            </td><td>-1.13919624</td><td> 0.997861</td><td>-1.1721058</td><td>auto(s6)  </td><td>f</td><td> 1.20796317</td><td> 0.93369639</td><td>p</td><td>compact   </td></tr>\n",
              "\t<tr><td>volkswagen</td><td>jetta            </td><td>-1.13919624</td><td> 0.997861</td><td>-1.1721058</td><td>manual(m6)</td><td>f</td><td> 0.97299777</td><td> 0.93369639</td><td>p</td><td>compact   </td></tr>\n",
              "\t<tr><td>volkswagen</td><td>jetta            </td><td>-0.75218707</td><td> 0.997861</td><td>-0.5515792</td><td>auto(s6)  </td><td>f</td><td> 0.97299777</td><td> 0.93369639</td><td>r</td><td>compact   </td></tr>\n",
              "\t<tr><td>volkswagen</td><td>jetta            </td><td>-0.75218707</td><td> 0.997861</td><td>-0.5515792</td><td>manual(m5)</td><td>f</td><td> 0.97299777</td><td> 0.93369639</td><td>r</td><td>compact   </td></tr>\n",
              "\t<tr><td>volkswagen</td><td>jetta            </td><td>-0.51998156</td><td>-0.997861</td><td> 0.0689474</td><td>auto(l4)  </td><td>f</td><td>-0.20182926</td><td>-0.07392062</td><td>r</td><td>compact   </td></tr>\n",
              "\t<tr><td>volkswagen</td><td>jetta            </td><td>-0.51998156</td><td>-0.997861</td><td> 0.0689474</td><td>manual(m5)</td><td>f</td><td> 0.03313615</td><td> 0.09401555</td><td>r</td><td>compact   </td></tr>\n",
              "\t<tr><td>volkswagen</td><td>new beetle       </td><td>-1.21659808</td><td>-0.997861</td><td>-1.1721058</td><td>manual(m5)</td><td>f</td><td> 4.26251344</td><td> 3.45273890</td><td>d</td><td>subcompact</td></tr>\n",
              "\t<tr><td>volkswagen</td><td>new beetle       </td><td>-1.21659808</td><td>-0.997861</td><td>-1.1721058</td><td>auto(l4)  </td><td>f</td><td> 2.85272101</td><td> 2.94893040</td><td>d</td><td>subcompact</td></tr>\n",
              "\t<tr><td>volkswagen</td><td>new beetle       </td><td>-1.13919624</td><td>-0.997861</td><td>-1.1721058</td><td>manual(m5)</td><td>f</td><td> 0.97299777</td><td> 0.93369639</td><td>r</td><td>subcompact</td></tr>\n",
              "\t<tr><td>volkswagen</td><td>new beetle       </td><td>-1.13919624</td><td>-0.997861</td><td>-1.1721058</td><td>auto(l4)  </td><td>f</td><td> 0.50306696</td><td> 0.42988788</td><td>r</td><td>subcompact</td></tr>\n",
              "\t<tr><td>volkswagen</td><td>new beetle       </td><td>-0.75218707</td><td> 0.997861</td><td>-0.5515792</td><td>manual(m5)</td><td>f</td><td> 0.73803236</td><td> 0.76576022</td><td>r</td><td>subcompact</td></tr>\n",
              "\t<tr><td>volkswagen</td><td>new beetle       </td><td>-0.75218707</td><td> 0.997861</td><td>-0.5515792</td><td>auto(s6)  </td><td>f</td><td> 0.73803236</td><td> 0.93369639</td><td>r</td><td>subcompact</td></tr>\n",
              "\t<tr><td>volkswagen</td><td>passat           </td><td>-1.29399991</td><td>-0.997861</td><td>-1.1721058</td><td>manual(m5)</td><td>f</td><td> 0.97299777</td><td> 0.93369639</td><td>p</td><td>midsize   </td></tr>\n",
              "\t<tr><td>volkswagen</td><td>passat           </td><td>-1.29399991</td><td>-0.997861</td><td>-1.1721058</td><td>auto(l5)  </td><td>f</td><td> 0.26810155</td><td> 0.93369639</td><td>p</td><td>midsize   </td></tr>\n",
              "\t<tr><td>volkswagen</td><td>passat           </td><td>-1.13919624</td><td> 0.997861</td><td>-1.1721058</td><td>auto(s6)  </td><td>f</td><td> 0.50306696</td><td> 0.76576022</td><td>p</td><td>midsize   </td></tr>\n",
              "\t<tr><td>volkswagen</td><td>passat           </td><td>-1.13919624</td><td> 0.997861</td><td>-1.1721058</td><td>manual(m6)</td><td>f</td><td> 0.97299777</td><td> 0.93369639</td><td>p</td><td>midsize   </td></tr>\n",
              "\t<tr><td>volkswagen</td><td>passat           </td><td>-0.51998156</td><td>-0.997861</td><td> 0.0689474</td><td>auto(l5)  </td><td>f</td><td>-0.20182926</td><td> 0.42988788</td><td>p</td><td>midsize   </td></tr>\n",
              "\t<tr><td>volkswagen</td><td>passat           </td><td>-0.51998156</td><td>-0.997861</td><td> 0.0689474</td><td>manual(m5)</td><td>f</td><td> 0.26810155</td><td> 0.42988788</td><td>p</td><td>midsize   </td></tr>\n",
              "\t<tr><td>volkswagen</td><td>passat           </td><td> 0.09923312</td><td> 0.997861</td><td> 0.0689474</td><td>auto(s6)  </td><td>f</td><td> 0.03313615</td><td> 0.42988788</td><td>p</td><td>midsize   </td></tr>\n",
              "</tbody>\n",
              "</table>\n"
            ],
            "text/latex": [
              "A tibble: 234 × 11\n",
              "\\begin{tabular}{lllllllllll}\n",
              " manufacturer & model & displ & year & cyl & trans & drv & cty & hwy & fl & class\\\\\n",
              " <chr> & <chr> & <dbl> & <dbl> & <dbl> & <chr> & <chr> & <dbl> & <dbl> & <chr> & <chr>\\\\\n",
              "\\hline\n",
              "\t audi      & a4                 & -1.2939999 & -0.997861 & -1.1721058 & auto(l5)   & f &  0.26810155 &  0.93369639 & p & compact\\\\\n",
              "\t audi      & a4                 & -1.2939999 & -0.997861 & -1.1721058 & manual(m5) & f &  0.97299777 &  0.93369639 & p & compact\\\\\n",
              "\t audi      & a4                 & -1.1391962 &  0.997861 & -1.1721058 & manual(m6) & f &  0.73803236 &  1.26956872 & p & compact\\\\\n",
              "\t audi      & a4                 & -1.1391962 &  0.997861 & -1.1721058 & auto(av)   & f &  0.97299777 &  1.10163255 & p & compact\\\\\n",
              "\t audi      & a4                 & -0.5199816 & -0.997861 &  0.0689474 & auto(l5)   & f & -0.20182926 &  0.42988788 & p & compact\\\\\n",
              "\t audi      & a4                 & -0.5199816 & -0.997861 &  0.0689474 & manual(m5) & f &  0.26810155 &  0.42988788 & p & compact\\\\\n",
              "\t audi      & a4                 & -0.2877761 &  0.997861 &  0.0689474 & auto(av)   & f &  0.26810155 &  0.59782405 & p & compact\\\\\n",
              "\t audi      & a4 quattro         & -1.2939999 & -0.997861 & -1.1721058 & manual(m5) & 4 &  0.26810155 &  0.42988788 & p & compact\\\\\n",
              "\t audi      & a4 quattro         & -1.2939999 & -0.997861 & -1.1721058 & auto(l5)   & 4 & -0.20182926 &  0.26195171 & p & compact\\\\\n",
              "\t audi      & a4 quattro         & -1.1391962 &  0.997861 & -1.1721058 & manual(m6) & 4 &  0.73803236 &  0.76576022 & p & compact\\\\\n",
              "\t audi      & a4 quattro         & -1.1391962 &  0.997861 & -1.1721058 & auto(s6)   & 4 &  0.50306696 &  0.59782405 & p & compact\\\\\n",
              "\t audi      & a4 quattro         & -0.5199816 & -0.997861 &  0.0689474 & auto(l5)   & 4 & -0.43679466 &  0.26195171 & p & compact\\\\\n",
              "\t audi      & a4 quattro         & -0.5199816 & -0.997861 &  0.0689474 & manual(m5) & 4 &  0.03313615 &  0.26195171 & p & compact\\\\\n",
              "\t audi      & a4 quattro         & -0.2877761 &  0.997861 &  0.0689474 & auto(s6)   & 4 &  0.03313615 &  0.26195171 & p & compact\\\\\n",
              "\t audi      & a4 quattro         & -0.2877761 &  0.997861 &  0.0689474 & manual(m6) & 4 & -0.43679466 &  0.26195171 & p & compact\\\\\n",
              "\t audi      & a6 quattro         & -0.5199816 & -0.997861 &  0.0689474 & auto(l5)   & 4 & -0.43679466 &  0.09401555 & p & midsize\\\\\n",
              "\t audi      & a6 quattro         & -0.2877761 &  0.997861 &  0.0689474 & auto(s6)   & 4 &  0.03313615 &  0.26195171 & p & midsize\\\\\n",
              "\t audi      & a6 quattro         &  0.5636441 &  0.997861 &  1.3100006 & auto(s6)   & 4 & -0.20182926 & -0.07392062 & p & midsize\\\\\n",
              "\t chevrolet & c1500 suburban 2wd &  1.4150643 &  0.997861 &  1.3100006 & auto(l4)   & r & -0.67176007 & -0.57772912 & r & suv    \\\\\n",
              "\t chevrolet & c1500 suburban 2wd &  1.4150643 &  0.997861 &  1.3100006 & auto(l4)   & r & -1.37665628 & -1.41740996 & e & suv    \\\\\n",
              "\t chevrolet & c1500 suburban 2wd &  1.4150643 &  0.997861 &  1.3100006 & auto(l4)   & r & -0.67176007 & -0.57772912 & r & suv    \\\\\n",
              "\t chevrolet & c1500 suburban 2wd &  1.7246717 & -0.997861 &  1.3100006 & auto(l4)   & r & -0.90672547 & -1.08153763 & r & suv    \\\\\n",
              "\t chevrolet & c1500 suburban 2wd &  1.9568772 &  0.997861 &  1.3100006 & auto(l4)   & r & -1.14169088 & -1.08153763 & r & suv    \\\\\n",
              "\t chevrolet & corvette           &  1.7246717 & -0.997861 &  1.3100006 & manual(m6) & r & -0.20182926 &  0.42988788 & p & 2seater\\\\\n",
              "\t chevrolet & corvette           &  1.7246717 & -0.997861 &  1.3100006 & auto(l4)   & r & -0.43679466 & -0.07392062 & p & 2seater\\\\\n",
              "\t chevrolet & corvette           &  2.1116808 &  0.997861 &  1.3100006 & manual(m6) & r & -0.20182926 &  0.42988788 & p & 2seater\\\\\n",
              "\t chevrolet & corvette           &  2.1116808 &  0.997861 &  1.3100006 & auto(s6)   & r & -0.43679466 &  0.26195171 & p & 2seater\\\\\n",
              "\t chevrolet & corvette           &  2.7308955 &  0.997861 &  1.3100006 & manual(m6) & r & -0.43679466 &  0.09401555 & p & 2seater\\\\\n",
              "\t chevrolet & k1500 tahoe 4wd    &  1.4150643 &  0.997861 &  1.3100006 & auto(l4)   & 4 & -0.67176007 & -0.74566529 & r & suv    \\\\\n",
              "\t chevrolet & k1500 tahoe 4wd    &  1.4150643 &  0.997861 &  1.3100006 & auto(l4)   & 4 & -1.37665628 & -1.58534613 & e & suv    \\\\\n",
              "\t ⋮ & ⋮ & ⋮ & ⋮ & ⋮ & ⋮ & ⋮ & ⋮ & ⋮ & ⋮ & ⋮\\\\\n",
              "\t toyota     & toyota tacoma 4wd & -0.05557055 & -0.997861 &  0.0689474 & auto(l4)   & 4 & -0.43679466 & -0.74566529 & r & pickup    \\\\\n",
              "\t toyota     & toyota tacoma 4wd &  0.40884046 &  0.997861 &  0.0689474 & manual(m6) & 4 & -0.43679466 & -0.91360146 & r & pickup    \\\\\n",
              "\t toyota     & toyota tacoma 4wd &  0.40884046 &  0.997861 &  0.0689474 & auto(l5)   & 4 & -0.20182926 & -0.57772912 & r & pickup    \\\\\n",
              "\t volkswagen & gti               & -1.13919624 & -0.997861 & -1.1721058 & manual(m5) & f &  0.97299777 &  0.93369639 & r & compact   \\\\\n",
              "\t volkswagen & gti               & -1.13919624 & -0.997861 & -1.1721058 & auto(l4)   & f &  0.50306696 &  0.42988788 & r & compact   \\\\\n",
              "\t volkswagen & gti               & -1.13919624 &  0.997861 & -1.1721058 & manual(m6) & f &  0.97299777 &  0.93369639 & p & compact   \\\\\n",
              "\t volkswagen & gti               & -1.13919624 &  0.997861 & -1.1721058 & auto(s6)   & f &  1.20796317 &  0.93369639 & p & compact   \\\\\n",
              "\t volkswagen & gti               & -0.51998156 & -0.997861 &  0.0689474 & manual(m5) & f &  0.03313615 &  0.09401555 & r & compact   \\\\\n",
              "\t volkswagen & jetta             & -1.21659808 & -0.997861 & -1.1721058 & manual(m5) & f &  3.79258263 &  3.45273890 & d & compact   \\\\\n",
              "\t volkswagen & jetta             & -1.13919624 & -0.997861 & -1.1721058 & manual(m5) & f &  0.97299777 &  0.93369639 & r & compact   \\\\\n",
              "\t volkswagen & jetta             & -1.13919624 & -0.997861 & -1.1721058 & auto(l4)   & f &  0.50306696 &  0.42988788 & r & compact   \\\\\n",
              "\t volkswagen & jetta             & -1.13919624 &  0.997861 & -1.1721058 & auto(s6)   & f &  1.20796317 &  0.93369639 & p & compact   \\\\\n",
              "\t volkswagen & jetta             & -1.13919624 &  0.997861 & -1.1721058 & manual(m6) & f &  0.97299777 &  0.93369639 & p & compact   \\\\\n",
              "\t volkswagen & jetta             & -0.75218707 &  0.997861 & -0.5515792 & auto(s6)   & f &  0.97299777 &  0.93369639 & r & compact   \\\\\n",
              "\t volkswagen & jetta             & -0.75218707 &  0.997861 & -0.5515792 & manual(m5) & f &  0.97299777 &  0.93369639 & r & compact   \\\\\n",
              "\t volkswagen & jetta             & -0.51998156 & -0.997861 &  0.0689474 & auto(l4)   & f & -0.20182926 & -0.07392062 & r & compact   \\\\\n",
              "\t volkswagen & jetta             & -0.51998156 & -0.997861 &  0.0689474 & manual(m5) & f &  0.03313615 &  0.09401555 & r & compact   \\\\\n",
              "\t volkswagen & new beetle        & -1.21659808 & -0.997861 & -1.1721058 & manual(m5) & f &  4.26251344 &  3.45273890 & d & subcompact\\\\\n",
              "\t volkswagen & new beetle        & -1.21659808 & -0.997861 & -1.1721058 & auto(l4)   & f &  2.85272101 &  2.94893040 & d & subcompact\\\\\n",
              "\t volkswagen & new beetle        & -1.13919624 & -0.997861 & -1.1721058 & manual(m5) & f &  0.97299777 &  0.93369639 & r & subcompact\\\\\n",
              "\t volkswagen & new beetle        & -1.13919624 & -0.997861 & -1.1721058 & auto(l4)   & f &  0.50306696 &  0.42988788 & r & subcompact\\\\\n",
              "\t volkswagen & new beetle        & -0.75218707 &  0.997861 & -0.5515792 & manual(m5) & f &  0.73803236 &  0.76576022 & r & subcompact\\\\\n",
              "\t volkswagen & new beetle        & -0.75218707 &  0.997861 & -0.5515792 & auto(s6)   & f &  0.73803236 &  0.93369639 & r & subcompact\\\\\n",
              "\t volkswagen & passat            & -1.29399991 & -0.997861 & -1.1721058 & manual(m5) & f &  0.97299777 &  0.93369639 & p & midsize   \\\\\n",
              "\t volkswagen & passat            & -1.29399991 & -0.997861 & -1.1721058 & auto(l5)   & f &  0.26810155 &  0.93369639 & p & midsize   \\\\\n",
              "\t volkswagen & passat            & -1.13919624 &  0.997861 & -1.1721058 & auto(s6)   & f &  0.50306696 &  0.76576022 & p & midsize   \\\\\n",
              "\t volkswagen & passat            & -1.13919624 &  0.997861 & -1.1721058 & manual(m6) & f &  0.97299777 &  0.93369639 & p & midsize   \\\\\n",
              "\t volkswagen & passat            & -0.51998156 & -0.997861 &  0.0689474 & auto(l5)   & f & -0.20182926 &  0.42988788 & p & midsize   \\\\\n",
              "\t volkswagen & passat            & -0.51998156 & -0.997861 &  0.0689474 & manual(m5) & f &  0.26810155 &  0.42988788 & p & midsize   \\\\\n",
              "\t volkswagen & passat            &  0.09923312 &  0.997861 &  0.0689474 & auto(s6)   & f &  0.03313615 &  0.42988788 & p & midsize   \\\\\n",
              "\\end{tabular}\n"
            ],
            "text/markdown": [
              "\n",
              "A tibble: 234 × 11\n",
              "\n",
              "| manufacturer &lt;chr&gt; | model &lt;chr&gt; | displ &lt;dbl&gt; | year &lt;dbl&gt; | cyl &lt;dbl&gt; | trans &lt;chr&gt; | drv &lt;chr&gt; | cty &lt;dbl&gt; | hwy &lt;dbl&gt; | fl &lt;chr&gt; | class &lt;chr&gt; |\n",
              "|---|---|---|---|---|---|---|---|---|---|---|\n",
              "| audi      | a4                 | -1.2939999 | -0.997861 | -1.1721058 | auto(l5)   | f |  0.26810155 |  0.93369639 | p | compact |\n",
              "| audi      | a4                 | -1.2939999 | -0.997861 | -1.1721058 | manual(m5) | f |  0.97299777 |  0.93369639 | p | compact |\n",
              "| audi      | a4                 | -1.1391962 |  0.997861 | -1.1721058 | manual(m6) | f |  0.73803236 |  1.26956872 | p | compact |\n",
              "| audi      | a4                 | -1.1391962 |  0.997861 | -1.1721058 | auto(av)   | f |  0.97299777 |  1.10163255 | p | compact |\n",
              "| audi      | a4                 | -0.5199816 | -0.997861 |  0.0689474 | auto(l5)   | f | -0.20182926 |  0.42988788 | p | compact |\n",
              "| audi      | a4                 | -0.5199816 | -0.997861 |  0.0689474 | manual(m5) | f |  0.26810155 |  0.42988788 | p | compact |\n",
              "| audi      | a4                 | -0.2877761 |  0.997861 |  0.0689474 | auto(av)   | f |  0.26810155 |  0.59782405 | p | compact |\n",
              "| audi      | a4 quattro         | -1.2939999 | -0.997861 | -1.1721058 | manual(m5) | 4 |  0.26810155 |  0.42988788 | p | compact |\n",
              "| audi      | a4 quattro         | -1.2939999 | -0.997861 | -1.1721058 | auto(l5)   | 4 | -0.20182926 |  0.26195171 | p | compact |\n",
              "| audi      | a4 quattro         | -1.1391962 |  0.997861 | -1.1721058 | manual(m6) | 4 |  0.73803236 |  0.76576022 | p | compact |\n",
              "| audi      | a4 quattro         | -1.1391962 |  0.997861 | -1.1721058 | auto(s6)   | 4 |  0.50306696 |  0.59782405 | p | compact |\n",
              "| audi      | a4 quattro         | -0.5199816 | -0.997861 |  0.0689474 | auto(l5)   | 4 | -0.43679466 |  0.26195171 | p | compact |\n",
              "| audi      | a4 quattro         | -0.5199816 | -0.997861 |  0.0689474 | manual(m5) | 4 |  0.03313615 |  0.26195171 | p | compact |\n",
              "| audi      | a4 quattro         | -0.2877761 |  0.997861 |  0.0689474 | auto(s6)   | 4 |  0.03313615 |  0.26195171 | p | compact |\n",
              "| audi      | a4 quattro         | -0.2877761 |  0.997861 |  0.0689474 | manual(m6) | 4 | -0.43679466 |  0.26195171 | p | compact |\n",
              "| audi      | a6 quattro         | -0.5199816 | -0.997861 |  0.0689474 | auto(l5)   | 4 | -0.43679466 |  0.09401555 | p | midsize |\n",
              "| audi      | a6 quattro         | -0.2877761 |  0.997861 |  0.0689474 | auto(s6)   | 4 |  0.03313615 |  0.26195171 | p | midsize |\n",
              "| audi      | a6 quattro         |  0.5636441 |  0.997861 |  1.3100006 | auto(s6)   | 4 | -0.20182926 | -0.07392062 | p | midsize |\n",
              "| chevrolet | c1500 suburban 2wd |  1.4150643 |  0.997861 |  1.3100006 | auto(l4)   | r | -0.67176007 | -0.57772912 | r | suv     |\n",
              "| chevrolet | c1500 suburban 2wd |  1.4150643 |  0.997861 |  1.3100006 | auto(l4)   | r | -1.37665628 | -1.41740996 | e | suv     |\n",
              "| chevrolet | c1500 suburban 2wd |  1.4150643 |  0.997861 |  1.3100006 | auto(l4)   | r | -0.67176007 | -0.57772912 | r | suv     |\n",
              "| chevrolet | c1500 suburban 2wd |  1.7246717 | -0.997861 |  1.3100006 | auto(l4)   | r | -0.90672547 | -1.08153763 | r | suv     |\n",
              "| chevrolet | c1500 suburban 2wd |  1.9568772 |  0.997861 |  1.3100006 | auto(l4)   | r | -1.14169088 | -1.08153763 | r | suv     |\n",
              "| chevrolet | corvette           |  1.7246717 | -0.997861 |  1.3100006 | manual(m6) | r | -0.20182926 |  0.42988788 | p | 2seater |\n",
              "| chevrolet | corvette           |  1.7246717 | -0.997861 |  1.3100006 | auto(l4)   | r | -0.43679466 | -0.07392062 | p | 2seater |\n",
              "| chevrolet | corvette           |  2.1116808 |  0.997861 |  1.3100006 | manual(m6) | r | -0.20182926 |  0.42988788 | p | 2seater |\n",
              "| chevrolet | corvette           |  2.1116808 |  0.997861 |  1.3100006 | auto(s6)   | r | -0.43679466 |  0.26195171 | p | 2seater |\n",
              "| chevrolet | corvette           |  2.7308955 |  0.997861 |  1.3100006 | manual(m6) | r | -0.43679466 |  0.09401555 | p | 2seater |\n",
              "| chevrolet | k1500 tahoe 4wd    |  1.4150643 |  0.997861 |  1.3100006 | auto(l4)   | 4 | -0.67176007 | -0.74566529 | r | suv     |\n",
              "| chevrolet | k1500 tahoe 4wd    |  1.4150643 |  0.997861 |  1.3100006 | auto(l4)   | 4 | -1.37665628 | -1.58534613 | e | suv     |\n",
              "| ⋮ | ⋮ | ⋮ | ⋮ | ⋮ | ⋮ | ⋮ | ⋮ | ⋮ | ⋮ | ⋮ |\n",
              "| toyota     | toyota tacoma 4wd | -0.05557055 | -0.997861 |  0.0689474 | auto(l4)   | 4 | -0.43679466 | -0.74566529 | r | pickup     |\n",
              "| toyota     | toyota tacoma 4wd |  0.40884046 |  0.997861 |  0.0689474 | manual(m6) | 4 | -0.43679466 | -0.91360146 | r | pickup     |\n",
              "| toyota     | toyota tacoma 4wd |  0.40884046 |  0.997861 |  0.0689474 | auto(l5)   | 4 | -0.20182926 | -0.57772912 | r | pickup     |\n",
              "| volkswagen | gti               | -1.13919624 | -0.997861 | -1.1721058 | manual(m5) | f |  0.97299777 |  0.93369639 | r | compact    |\n",
              "| volkswagen | gti               | -1.13919624 | -0.997861 | -1.1721058 | auto(l4)   | f |  0.50306696 |  0.42988788 | r | compact    |\n",
              "| volkswagen | gti               | -1.13919624 |  0.997861 | -1.1721058 | manual(m6) | f |  0.97299777 |  0.93369639 | p | compact    |\n",
              "| volkswagen | gti               | -1.13919624 |  0.997861 | -1.1721058 | auto(s6)   | f |  1.20796317 |  0.93369639 | p | compact    |\n",
              "| volkswagen | gti               | -0.51998156 | -0.997861 |  0.0689474 | manual(m5) | f |  0.03313615 |  0.09401555 | r | compact    |\n",
              "| volkswagen | jetta             | -1.21659808 | -0.997861 | -1.1721058 | manual(m5) | f |  3.79258263 |  3.45273890 | d | compact    |\n",
              "| volkswagen | jetta             | -1.13919624 | -0.997861 | -1.1721058 | manual(m5) | f |  0.97299777 |  0.93369639 | r | compact    |\n",
              "| volkswagen | jetta             | -1.13919624 | -0.997861 | -1.1721058 | auto(l4)   | f |  0.50306696 |  0.42988788 | r | compact    |\n",
              "| volkswagen | jetta             | -1.13919624 |  0.997861 | -1.1721058 | auto(s6)   | f |  1.20796317 |  0.93369639 | p | compact    |\n",
              "| volkswagen | jetta             | -1.13919624 |  0.997861 | -1.1721058 | manual(m6) | f |  0.97299777 |  0.93369639 | p | compact    |\n",
              "| volkswagen | jetta             | -0.75218707 |  0.997861 | -0.5515792 | auto(s6)   | f |  0.97299777 |  0.93369639 | r | compact    |\n",
              "| volkswagen | jetta             | -0.75218707 |  0.997861 | -0.5515792 | manual(m5) | f |  0.97299777 |  0.93369639 | r | compact    |\n",
              "| volkswagen | jetta             | -0.51998156 | -0.997861 |  0.0689474 | auto(l4)   | f | -0.20182926 | -0.07392062 | r | compact    |\n",
              "| volkswagen | jetta             | -0.51998156 | -0.997861 |  0.0689474 | manual(m5) | f |  0.03313615 |  0.09401555 | r | compact    |\n",
              "| volkswagen | new beetle        | -1.21659808 | -0.997861 | -1.1721058 | manual(m5) | f |  4.26251344 |  3.45273890 | d | subcompact |\n",
              "| volkswagen | new beetle        | -1.21659808 | -0.997861 | -1.1721058 | auto(l4)   | f |  2.85272101 |  2.94893040 | d | subcompact |\n",
              "| volkswagen | new beetle        | -1.13919624 | -0.997861 | -1.1721058 | manual(m5) | f |  0.97299777 |  0.93369639 | r | subcompact |\n",
              "| volkswagen | new beetle        | -1.13919624 | -0.997861 | -1.1721058 | auto(l4)   | f |  0.50306696 |  0.42988788 | r | subcompact |\n",
              "| volkswagen | new beetle        | -0.75218707 |  0.997861 | -0.5515792 | manual(m5) | f |  0.73803236 |  0.76576022 | r | subcompact |\n",
              "| volkswagen | new beetle        | -0.75218707 |  0.997861 | -0.5515792 | auto(s6)   | f |  0.73803236 |  0.93369639 | r | subcompact |\n",
              "| volkswagen | passat            | -1.29399991 | -0.997861 | -1.1721058 | manual(m5) | f |  0.97299777 |  0.93369639 | p | midsize    |\n",
              "| volkswagen | passat            | -1.29399991 | -0.997861 | -1.1721058 | auto(l5)   | f |  0.26810155 |  0.93369639 | p | midsize    |\n",
              "| volkswagen | passat            | -1.13919624 |  0.997861 | -1.1721058 | auto(s6)   | f |  0.50306696 |  0.76576022 | p | midsize    |\n",
              "| volkswagen | passat            | -1.13919624 |  0.997861 | -1.1721058 | manual(m6) | f |  0.97299777 |  0.93369639 | p | midsize    |\n",
              "| volkswagen | passat            | -0.51998156 | -0.997861 |  0.0689474 | auto(l5)   | f | -0.20182926 |  0.42988788 | p | midsize    |\n",
              "| volkswagen | passat            | -0.51998156 | -0.997861 |  0.0689474 | manual(m5) | f |  0.26810155 |  0.42988788 | p | midsize    |\n",
              "| volkswagen | passat            |  0.09923312 |  0.997861 |  0.0689474 | auto(s6)   | f |  0.03313615 |  0.42988788 | p | midsize    |\n",
              "\n"
            ],
            "text/plain": [
              "    manufacturer model              displ       year      cyl        trans     \n",
              "1   audi         a4                 -1.2939999  -0.997861 -1.1721058 auto(l5)  \n",
              "2   audi         a4                 -1.2939999  -0.997861 -1.1721058 manual(m5)\n",
              "3   audi         a4                 -1.1391962   0.997861 -1.1721058 manual(m6)\n",
              "4   audi         a4                 -1.1391962   0.997861 -1.1721058 auto(av)  \n",
              "5   audi         a4                 -0.5199816  -0.997861  0.0689474 auto(l5)  \n",
              "6   audi         a4                 -0.5199816  -0.997861  0.0689474 manual(m5)\n",
              "7   audi         a4                 -0.2877761   0.997861  0.0689474 auto(av)  \n",
              "8   audi         a4 quattro         -1.2939999  -0.997861 -1.1721058 manual(m5)\n",
              "9   audi         a4 quattro         -1.2939999  -0.997861 -1.1721058 auto(l5)  \n",
              "10  audi         a4 quattro         -1.1391962   0.997861 -1.1721058 manual(m6)\n",
              "11  audi         a4 quattro         -1.1391962   0.997861 -1.1721058 auto(s6)  \n",
              "12  audi         a4 quattro         -0.5199816  -0.997861  0.0689474 auto(l5)  \n",
              "13  audi         a4 quattro         -0.5199816  -0.997861  0.0689474 manual(m5)\n",
              "14  audi         a4 quattro         -0.2877761   0.997861  0.0689474 auto(s6)  \n",
              "15  audi         a4 quattro         -0.2877761   0.997861  0.0689474 manual(m6)\n",
              "16  audi         a6 quattro         -0.5199816  -0.997861  0.0689474 auto(l5)  \n",
              "17  audi         a6 quattro         -0.2877761   0.997861  0.0689474 auto(s6)  \n",
              "18  audi         a6 quattro          0.5636441   0.997861  1.3100006 auto(s6)  \n",
              "19  chevrolet    c1500 suburban 2wd  1.4150643   0.997861  1.3100006 auto(l4)  \n",
              "20  chevrolet    c1500 suburban 2wd  1.4150643   0.997861  1.3100006 auto(l4)  \n",
              "21  chevrolet    c1500 suburban 2wd  1.4150643   0.997861  1.3100006 auto(l4)  \n",
              "22  chevrolet    c1500 suburban 2wd  1.7246717  -0.997861  1.3100006 auto(l4)  \n",
              "23  chevrolet    c1500 suburban 2wd  1.9568772   0.997861  1.3100006 auto(l4)  \n",
              "24  chevrolet    corvette            1.7246717  -0.997861  1.3100006 manual(m6)\n",
              "25  chevrolet    corvette            1.7246717  -0.997861  1.3100006 auto(l4)  \n",
              "26  chevrolet    corvette            2.1116808   0.997861  1.3100006 manual(m6)\n",
              "27  chevrolet    corvette            2.1116808   0.997861  1.3100006 auto(s6)  \n",
              "28  chevrolet    corvette            2.7308955   0.997861  1.3100006 manual(m6)\n",
              "29  chevrolet    k1500 tahoe 4wd     1.4150643   0.997861  1.3100006 auto(l4)  \n",
              "30  chevrolet    k1500 tahoe 4wd     1.4150643   0.997861  1.3100006 auto(l4)  \n",
              "⋮   ⋮            ⋮                  ⋮           ⋮         ⋮          ⋮         \n",
              "205 toyota       toyota tacoma 4wd  -0.05557055 -0.997861  0.0689474 auto(l4)  \n",
              "206 toyota       toyota tacoma 4wd   0.40884046  0.997861  0.0689474 manual(m6)\n",
              "207 toyota       toyota tacoma 4wd   0.40884046  0.997861  0.0689474 auto(l5)  \n",
              "208 volkswagen   gti                -1.13919624 -0.997861 -1.1721058 manual(m5)\n",
              "209 volkswagen   gti                -1.13919624 -0.997861 -1.1721058 auto(l4)  \n",
              "210 volkswagen   gti                -1.13919624  0.997861 -1.1721058 manual(m6)\n",
              "211 volkswagen   gti                -1.13919624  0.997861 -1.1721058 auto(s6)  \n",
              "212 volkswagen   gti                -0.51998156 -0.997861  0.0689474 manual(m5)\n",
              "213 volkswagen   jetta              -1.21659808 -0.997861 -1.1721058 manual(m5)\n",
              "214 volkswagen   jetta              -1.13919624 -0.997861 -1.1721058 manual(m5)\n",
              "215 volkswagen   jetta              -1.13919624 -0.997861 -1.1721058 auto(l4)  \n",
              "216 volkswagen   jetta              -1.13919624  0.997861 -1.1721058 auto(s6)  \n",
              "217 volkswagen   jetta              -1.13919624  0.997861 -1.1721058 manual(m6)\n",
              "218 volkswagen   jetta              -0.75218707  0.997861 -0.5515792 auto(s6)  \n",
              "219 volkswagen   jetta              -0.75218707  0.997861 -0.5515792 manual(m5)\n",
              "220 volkswagen   jetta              -0.51998156 -0.997861  0.0689474 auto(l4)  \n",
              "221 volkswagen   jetta              -0.51998156 -0.997861  0.0689474 manual(m5)\n",
              "222 volkswagen   new beetle         -1.21659808 -0.997861 -1.1721058 manual(m5)\n",
              "223 volkswagen   new beetle         -1.21659808 -0.997861 -1.1721058 auto(l4)  \n",
              "224 volkswagen   new beetle         -1.13919624 -0.997861 -1.1721058 manual(m5)\n",
              "225 volkswagen   new beetle         -1.13919624 -0.997861 -1.1721058 auto(l4)  \n",
              "226 volkswagen   new beetle         -0.75218707  0.997861 -0.5515792 manual(m5)\n",
              "227 volkswagen   new beetle         -0.75218707  0.997861 -0.5515792 auto(s6)  \n",
              "228 volkswagen   passat             -1.29399991 -0.997861 -1.1721058 manual(m5)\n",
              "229 volkswagen   passat             -1.29399991 -0.997861 -1.1721058 auto(l5)  \n",
              "230 volkswagen   passat             -1.13919624  0.997861 -1.1721058 auto(s6)  \n",
              "231 volkswagen   passat             -1.13919624  0.997861 -1.1721058 manual(m6)\n",
              "232 volkswagen   passat             -0.51998156 -0.997861  0.0689474 auto(l5)  \n",
              "233 volkswagen   passat             -0.51998156 -0.997861  0.0689474 manual(m5)\n",
              "234 volkswagen   passat              0.09923312  0.997861  0.0689474 auto(s6)  \n",
              "    drv cty         hwy         fl class     \n",
              "1   f    0.26810155  0.93369639 p  compact   \n",
              "2   f    0.97299777  0.93369639 p  compact   \n",
              "3   f    0.73803236  1.26956872 p  compact   \n",
              "4   f    0.97299777  1.10163255 p  compact   \n",
              "5   f   -0.20182926  0.42988788 p  compact   \n",
              "6   f    0.26810155  0.42988788 p  compact   \n",
              "7   f    0.26810155  0.59782405 p  compact   \n",
              "8   4    0.26810155  0.42988788 p  compact   \n",
              "9   4   -0.20182926  0.26195171 p  compact   \n",
              "10  4    0.73803236  0.76576022 p  compact   \n",
              "11  4    0.50306696  0.59782405 p  compact   \n",
              "12  4   -0.43679466  0.26195171 p  compact   \n",
              "13  4    0.03313615  0.26195171 p  compact   \n",
              "14  4    0.03313615  0.26195171 p  compact   \n",
              "15  4   -0.43679466  0.26195171 p  compact   \n",
              "16  4   -0.43679466  0.09401555 p  midsize   \n",
              "17  4    0.03313615  0.26195171 p  midsize   \n",
              "18  4   -0.20182926 -0.07392062 p  midsize   \n",
              "19  r   -0.67176007 -0.57772912 r  suv       \n",
              "20  r   -1.37665628 -1.41740996 e  suv       \n",
              "21  r   -0.67176007 -0.57772912 r  suv       \n",
              "22  r   -0.90672547 -1.08153763 r  suv       \n",
              "23  r   -1.14169088 -1.08153763 r  suv       \n",
              "24  r   -0.20182926  0.42988788 p  2seater   \n",
              "25  r   -0.43679466 -0.07392062 p  2seater   \n",
              "26  r   -0.20182926  0.42988788 p  2seater   \n",
              "27  r   -0.43679466  0.26195171 p  2seater   \n",
              "28  r   -0.43679466  0.09401555 p  2seater   \n",
              "29  4   -0.67176007 -0.74566529 r  suv       \n",
              "30  4   -1.37665628 -1.58534613 e  suv       \n",
              "⋮   ⋮   ⋮           ⋮           ⋮  ⋮         \n",
              "205 4   -0.43679466 -0.74566529 r  pickup    \n",
              "206 4   -0.43679466 -0.91360146 r  pickup    \n",
              "207 4   -0.20182926 -0.57772912 r  pickup    \n",
              "208 f    0.97299777  0.93369639 r  compact   \n",
              "209 f    0.50306696  0.42988788 r  compact   \n",
              "210 f    0.97299777  0.93369639 p  compact   \n",
              "211 f    1.20796317  0.93369639 p  compact   \n",
              "212 f    0.03313615  0.09401555 r  compact   \n",
              "213 f    3.79258263  3.45273890 d  compact   \n",
              "214 f    0.97299777  0.93369639 r  compact   \n",
              "215 f    0.50306696  0.42988788 r  compact   \n",
              "216 f    1.20796317  0.93369639 p  compact   \n",
              "217 f    0.97299777  0.93369639 p  compact   \n",
              "218 f    0.97299777  0.93369639 r  compact   \n",
              "219 f    0.97299777  0.93369639 r  compact   \n",
              "220 f   -0.20182926 -0.07392062 r  compact   \n",
              "221 f    0.03313615  0.09401555 r  compact   \n",
              "222 f    4.26251344  3.45273890 d  subcompact\n",
              "223 f    2.85272101  2.94893040 d  subcompact\n",
              "224 f    0.97299777  0.93369639 r  subcompact\n",
              "225 f    0.50306696  0.42988788 r  subcompact\n",
              "226 f    0.73803236  0.76576022 r  subcompact\n",
              "227 f    0.73803236  0.93369639 r  subcompact\n",
              "228 f    0.97299777  0.93369639 p  midsize   \n",
              "229 f    0.26810155  0.93369639 p  midsize   \n",
              "230 f    0.50306696  0.76576022 p  midsize   \n",
              "231 f    0.97299777  0.93369639 p  midsize   \n",
              "232 f   -0.20182926  0.42988788 p  midsize   \n",
              "233 f    0.26810155  0.42988788 p  midsize   \n",
              "234 f    0.03313615  0.42988788 p  midsize   "
            ]
          },
          "metadata": {},
          "output_type": "display_data"
        }
      ],
      "source": [
        "# standardize only the numerical columns"
      ]
    },
    {
      "cell_type": "markdown",
      "metadata": {
        "id": "NoLFXIhgRnxj"
      },
      "source": [
        "### Anonymous functions\n",
        "In the preceding example, we wrote a function, `z_score`, and then applied it to multiple columns using the `across()` verb. Often, we want to apply a relatively simple function that we are only going to use once. In these cases, we can define an \"anonymous\" function that only exists temporarily. "
      ]
    },
    {
      "cell_type": "code",
      "execution_count": null,
      "metadata": {
        "id": "E3-4SaNtRnxj",
        "outputId": "fec9f020-677f-493d-9c02-2d354dc2508e"
      },
      "outputs": [
        {
          "data": {
            "text/html": [
              "<table class=\"dataframe\">\n",
              "<caption>A tibble: 1 × 4</caption>\n",
              "<thead>\n",
              "\t<tr><th scope=col>a</th><th scope=col>b</th><th scope=col>c</th><th scope=col>d</th></tr>\n",
              "\t<tr><th scope=col>&lt;dbl&gt;</th><th scope=col>&lt;dbl&gt;</th><th scope=col>&lt;dbl&gt;</th><th scope=col>&lt;dbl&gt;</th></tr>\n",
              "</thead>\n",
              "<tbody>\n",
              "\t<tr><td>-0.3486667</td><td>0.6316311</td><td>-0.003606294</td><td>-0.7484384</td></tr>\n",
              "</tbody>\n",
              "</table>\n"
            ],
            "text/latex": [
              "A tibble: 1 × 4\n",
              "\\begin{tabular}{llll}\n",
              " a & b & c & d\\\\\n",
              " <dbl> & <dbl> & <dbl> & <dbl>\\\\\n",
              "\\hline\n",
              "\t -0.3486667 & 0.6316311 & -0.003606294 & -0.7484384\\\\\n",
              "\\end{tabular}\n"
            ],
            "text/markdown": [
              "\n",
              "A tibble: 1 × 4\n",
              "\n",
              "| a &lt;dbl&gt; | b &lt;dbl&gt; | c &lt;dbl&gt; | d &lt;dbl&gt; |\n",
              "|---|---|---|---|\n",
              "| -0.3486667 | 0.6316311 | -0.003606294 | -0.7484384 |\n",
              "\n"
            ],
            "text/plain": [
              "  a          b         c            d         \n",
              "1 -0.3486667 0.6316311 -0.003606294 -0.7484384"
            ]
          },
          "metadata": {},
          "output_type": "display_data"
        }
      ],
      "source": [
        "#  df %>% summarize(across(a:d, median(na.rm = T))) won't work\n",
        "# use anonymous function instead"
      ]
    },
    {
      "cell_type": "markdown",
      "metadata": {
        "id": "RwzIzZIrRnxj"
      },
      "source": [
        "### Multiple columns at once\n",
        "What if we want to use `across()` with multiple columns at once? "
      ]
    },
    {
      "cell_type": "code",
      "execution_count": null,
      "metadata": {
        "id": "boPK4D3mRnxj"
      },
      "outputs": [],
      "source": [
        "# df %>% summarize(across(a:d, median, mean)) won't work -- use a named list instead"
      ]
    },
    {
      "cell_type": "markdown",
      "metadata": {
        "id": "arrGhcoRRnxk"
      },
      "source": [
        "## `list()`\n",
        "\n",
        "In the previous example we used a new data type that we have not seen before:"
      ]
    },
    {
      "cell_type": "code",
      "execution_count": 5,
      "metadata": {
        "colab": {
          "base_uri": "https://localhost:8080/",
          "height": 132
        },
        "id": "-60eWUD7Rnxk",
        "outputId": "e1c829d5-63b7-4049-ed42-ade0670c7af1"
      },
      "outputs": [
        {
          "output_type": "display_data",
          "data": {
            "text/html": [
              "<ol>\n",
              "\t<li>'a'</li>\n",
              "\t<li>1</li>\n",
              "\t<li>FALSE</li>\n",
              "\t<li>3.14159265358979</li>\n",
              "\t<li><ol>\n",
              "\t<li><style>\n",
              ".list-inline {list-style: none; margin:0; padding: 0}\n",
              ".list-inline>li {display: inline-block}\n",
              ".list-inline>li:not(:last-child)::after {content: \"\\00b7\"; padding: 0 .5ex}\n",
              "</style>\n",
              "<ol class=list-inline><li>1</li><li>2</li><li>3</li></ol>\n",
              "</li>\n",
              "</ol>\n",
              "</li>\n",
              "</ol>\n"
            ],
            "text/markdown": "1. 'a'\n2. 1\n3. FALSE\n4. 3.14159265358979\n5. 1. 1. 1\n2. 2\n3. 3\n\n\n\n\n\n\n\n\n",
            "text/latex": "\\begin{enumerate}\n\\item 'a'\n\\item 1\n\\item FALSE\n\\item 3.14159265358979\n\\item \\begin{enumerate}\n\\item \\begin{enumerate*}\n\\item 1\n\\item 2\n\\item 3\n\\end{enumerate*}\n\n\\end{enumerate}\n\n\\end{enumerate}\n",
            "text/plain": [
              "[[1]]\n",
              "[1] \"a\"\n",
              "\n",
              "[[2]]\n",
              "[1] 1\n",
              "\n",
              "[[3]]\n",
              "[1] FALSE\n",
              "\n",
              "[[4]]\n",
              "[1] 3.141593\n",
              "\n",
              "[[5]]\n",
              "[[5]][[1]]\n",
              "[1] 1 2 3\n",
              "\n"
            ]
          },
          "metadata": {}
        }
      ],
      "source": [
        "x <- list('a', 1, FALSE, pi, list(1:3))\n",
        "x"
      ]
    },
    {
      "cell_type": "markdown",
      "metadata": {
        "id": "oFTj4o2ERnxk"
      },
      "source": [
        "As the printout suggests, you can think of a list as a \"vector of vectors\". For this reason, they are sometimes referred to as \"recursive vectors\"."
      ]
    },
    {
      "cell_type": "markdown",
      "metadata": {
        "id": "JTQHhxltRnxk"
      },
      "source": [
        "The `str` command will print out the **str**ucture of a vector:"
      ]
    },
    {
      "cell_type": "code",
      "execution_count": null,
      "metadata": {
        "id": "UIErB-kyRnxk",
        "outputId": "ced41624-c065-4450-9ea4-8484984f6b02"
      },
      "outputs": [
        {
          "name": "stdout",
          "output_type": "stream",
          "text": [
            "List of 5\n",
            " $ : chr \"a\"\n",
            " $ : int 1\n",
            " $ : logi FALSE\n",
            " $ : num 3.14\n",
            " $ :List of 1\n",
            "  ..$ : int [1:3] 1 2 3\n"
          ]
        }
      ],
      "source": [
        "str(x) "
      ]
    },
    {
      "cell_type": "markdown",
      "metadata": {
        "id": "FQT8kqZbRnxm"
      },
      "source": [
        "You can name each individual entry of a list:"
      ]
    },
    {
      "cell_type": "code",
      "execution_count": 3,
      "metadata": {
        "colab": {
          "base_uri": "https://localhost:8080/",
          "height": 138
        },
        "id": "ca-U_mCVRnxm",
        "outputId": "17fb5197-60db-410a-ec8e-e8dd05479969"
      },
      "outputs": [
        {
          "output_type": "display_data",
          "data": {
            "text/html": [
              "<style>\n",
              ".list-inline {list-style: none; margin:0; padding: 0}\n",
              ".list-inline>li {display: inline-block}\n",
              ".list-inline>li:not(:last-child)::after {content: \"\\00b7\"; padding: 0 .5ex}\n",
              "</style>\n",
              "<ol class=list-inline><li>'a'</li><li>'b'</li><li>'c'</li><li>''</li></ol>\n"
            ],
            "text/markdown": "1. 'a'\n2. 'b'\n3. 'c'\n4. ''\n\n\n",
            "text/latex": "\\begin{enumerate*}\n\\item 'a'\n\\item 'b'\n\\item 'c'\n\\item ''\n\\end{enumerate*}\n",
            "text/plain": [
              "[1] \"a\" \"b\" \"c\" \"\" "
            ]
          },
          "metadata": {}
        },
        {
          "output_type": "stream",
          "name": "stdout",
          "text": [
            "List of 4\n",
            " $ a: num 1\n",
            " $ b: num 2\n",
            " $ c: num 3\n",
            " $  : num 4\n"
          ]
        },
        {
          "output_type": "display_data",
          "data": {
            "text/html": [
              "1"
            ],
            "text/markdown": "1",
            "text/latex": "1",
            "text/plain": [
              "[1] 1"
            ]
          },
          "metadata": {}
        }
      ],
      "source": [
        "x_named <- list(a = 1, b = 2, c = 3, 4)\n",
        "names(x_named)\n",
        "str(x_named)\n",
        "x_named$a"
      ]
    },
    {
      "cell_type": "markdown",
      "metadata": {
        "id": "1wdCVFwlRnxn"
      },
      "source": [
        "### Sub-setting lists\n",
        "Subsetting lists is a little more complex than subsetting atomic vectors. We will use the following example list:"
      ]
    },
    {
      "cell_type": "code",
      "execution_count": null,
      "metadata": {
        "id": "zaMnBF0xRnxn",
        "outputId": "0d28092e-ea41-458c-c591-6bba49f5e52b"
      },
      "outputs": [
        {
          "name": "stdout",
          "output_type": "stream",
          "text": [
            "List of 4\n",
            " $ a: int [1:3] 1 2 3\n",
            " $ b: chr \"a string\"\n",
            " $ c: num 3.14\n",
            " $ d:List of 2\n",
            "  ..$ : num -1\n",
            "  ..$ : num -5\n"
          ]
        }
      ],
      "source": [
        "str(example_list <- list(a = 1:3, b = \"a string\", c = pi, d = list(-1, -5)))"
      ]
    },
    {
      "cell_type": "markdown",
      "metadata": {
        "id": "8ZlygjxfRnxn"
      },
      "source": [
        "#### `[]`\n",
        "The `[]` operator extracts a sub-list. That is, the return type will always be a list:"
      ]
    },
    {
      "cell_type": "code",
      "execution_count": 6,
      "metadata": {
        "colab": {
          "base_uri": "https://localhost:8080/",
          "height": 62
        },
        "id": "sSecFiDjRnxn",
        "outputId": "67d642d3-adb9-4c80-8bee-90d506a919e4"
      },
      "outputs": [
        {
          "output_type": "display_data",
          "data": {
            "text/html": [
              "<ol>\n",
              "\t<li>'a'</li>\n",
              "</ol>\n"
            ],
            "text/markdown": "1. 'a'\n\n\n",
            "text/latex": "\\begin{enumerate}\n\\item 'a'\n\\end{enumerate}\n",
            "text/plain": [
              "[[1]]\n",
              "[1] \"a\"\n"
            ]
          },
          "metadata": {}
        }
      ],
      "source": [
        "x[1] "
      ]
    },
    {
      "cell_type": "markdown",
      "metadata": {
        "id": "tRMHZ63gRnxn"
      },
      "source": [
        "#### `[[]]`\n",
        "The double-brackets will extract a single component from the list:"
      ]
    },
    {
      "cell_type": "code",
      "execution_count": null,
      "metadata": {
        "id": "WKfxW12cRnxo",
        "outputId": "fc117476-2d56-4998-997c-fe77131250c4"
      },
      "outputs": [
        {
          "name": "stdout",
          "output_type": "stream",
          "text": [
            " chr \"a\"\n"
          ]
        }
      ],
      "source": [
        "x[[1]] %>% str"
      ]
    },
    {
      "cell_type": "markdown",
      "metadata": {
        "id": "uVyn2LcWRnxo"
      },
      "source": [
        "### Data frames are lists\n",
        "Many data types in R are actually lists plus some additional attributes. For example, tibbles and data frames are both lists:"
      ]
    },
    {
      "cell_type": "code",
      "execution_count": null,
      "metadata": {
        "id": "CR3SWptHRnxo",
        "outputId": "dca381d2-9608-4c24-e5d0-92e1271bb9e0"
      },
      "outputs": [
        {
          "data": {
            "text/html": [
              "'list'"
            ],
            "text/latex": [
              "'list'"
            ],
            "text/markdown": [
              "'list'"
            ],
            "text/plain": [
              "[1] \"list\""
            ]
          },
          "metadata": {},
          "output_type": "display_data"
        },
        {
          "name": "stdout",
          "output_type": "stream",
          "text": [
            "tibble [234 × 11] (S3: tbl_df/tbl/data.frame)\n",
            " $ manufacturer: chr [1:234] \"audi\" \"audi\" \"audi\" \"audi\" ...\n",
            " $ model       : chr [1:234] \"a4\" \"a4\" \"a4\" \"a4\" ...\n",
            " $ displ       : num [1:234] 1.8 1.8 2 2 2.8 2.8 3.1 1.8 1.8 2 ...\n",
            " $ year        : int [1:234] 1999 1999 2008 2008 1999 1999 2008 1999 1999 2008 ...\n",
            " $ cyl         : int [1:234] 4 4 4 4 6 6 6 4 4 4 ...\n",
            " $ trans       : chr [1:234] \"auto(l5)\" \"manual(m5)\" \"manual(m6)\" \"auto(av)\" ...\n",
            " $ drv         : chr [1:234] \"f\" \"f\" \"f\" \"f\" ...\n",
            " $ cty         : int [1:234] 18 21 20 21 16 18 18 18 16 20 ...\n",
            " $ hwy         : int [1:234] 29 29 31 30 26 26 27 26 25 28 ...\n",
            " $ fl          : chr [1:234] \"p\" \"p\" \"p\" \"p\" ...\n",
            " $ class       : chr [1:234] \"compact\" \"compact\" \"compact\" \"compact\" ...\n"
          ]
        }
      ],
      "source": [
        "typeof(mpg)\n",
        "str(mpg)"
      ]
    },
    {
      "cell_type": "markdown",
      "metadata": {
        "id": "N1yTAWmNRnxo"
      },
      "source": [
        "The `names()` of a tibble/data frame correspond to columns. This means we can use the list indexing methods shown above to access columns:"
      ]
    },
    {
      "cell_type": "code",
      "execution_count": null,
      "metadata": {
        "id": "yeMsNAdlRnxo",
        "outputId": "f22cf02a-eb93-4c99-b17f-e6e55740ed3b"
      },
      "outputs": [
        {
          "data": {
            "text/plain": [
              " [1] \"manufacturer\" \"model\"        \"displ\"        \"year\"         \"cyl\"         \n",
              " [6] \"trans\"        \"drv\"          \"cty\"          \"hwy\"          \"fl\"          \n",
              "[11] \"class\"       "
            ]
          },
          "metadata": {},
          "output_type": "display_data"
        }
      ],
      "source": [
        "names(mpg)"
      ]
    },
    {
      "cell_type": "markdown",
      "metadata": {
        "id": "xKQa80Z1Rnxp"
      },
      "source": [
        "## Lists and functional programming\n",
        "Lists are useful to use because they can represent a sequence of values. Let's see an example from HW7: combining all the Harry Potter books into one data frame:"
      ]
    },
    {
      "cell_type": "markdown",
      "metadata": {
        "id": "ZqGYK3xmRnxp"
      },
      "source": [
        "First, we need to load the library and get the names of all the books:"
      ]
    },
    {
      "cell_type": "code",
      "execution_count": null,
      "metadata": {
        "id": "A5WOw3dNRnxp",
        "outputId": "8044ca21-079a-44ed-ab9e-2678a52b668a"
      },
      "outputs": [
        {
          "data": {
            "text/html": [
              "<style>\n",
              ".list-inline {list-style: none; margin:0; padding: 0}\n",
              ".list-inline>li {display: inline-block}\n",
              ".list-inline>li:not(:last-child)::after {content: \"\\00b7\"; padding: 0 .5ex}\n",
              "</style>\n",
              "<ol class=list-inline><li>'chamber_of_secrets'</li><li>'deathly_hallows'</li><li>'goblet_of_fire'</li><li>'half_blood_prince'</li><li>'order_of_the_phoenix'</li><li>'philosophers_stone'</li><li>'prisoner_of_azkaban'</li></ol>\n"
            ],
            "text/latex": [
              "\\begin{enumerate*}\n",
              "\\item 'chamber\\_of\\_secrets'\n",
              "\\item 'deathly\\_hallows'\n",
              "\\item 'goblet\\_of\\_fire'\n",
              "\\item 'half\\_blood\\_prince'\n",
              "\\item 'order\\_of\\_the\\_phoenix'\n",
              "\\item 'philosophers\\_stone'\n",
              "\\item 'prisoner\\_of\\_azkaban'\n",
              "\\end{enumerate*}\n"
            ],
            "text/markdown": [
              "1. 'chamber_of_secrets'\n",
              "2. 'deathly_hallows'\n",
              "3. 'goblet_of_fire'\n",
              "4. 'half_blood_prince'\n",
              "5. 'order_of_the_phoenix'\n",
              "6. 'philosophers_stone'\n",
              "7. 'prisoner_of_azkaban'\n",
              "\n",
              "\n"
            ],
            "text/plain": [
              "[1] \"chamber_of_secrets\"   \"deathly_hallows\"      \"goblet_of_fire\"      \n",
              "[4] \"half_blood_prince\"    \"order_of_the_phoenix\" \"philosophers_stone\"  \n",
              "[7] \"prisoner_of_azkaban\" "
            ]
          },
          "metadata": {},
          "output_type": "display_data"
        }
      ],
      "source": [
        "hp <- ls('package:harrypotter')\n",
        "hp"
      ]
    },
    {
      "cell_type": "code",
      "source": [
        "hp[1]"
      ],
      "metadata": {
        "id": "u0p7kZ_uYewK"
      },
      "execution_count": null,
      "outputs": []
    },
    {
      "cell_type": "markdown",
      "metadata": {
        "id": "4gl0oyMVRnxp"
      },
      "source": [
        "This has returned a character vector containing the seven titles in the database. To access any one of them, we can write:"
      ]
    },
    {
      "cell_type": "code",
      "execution_count": null,
      "metadata": {
        "id": "Dly3Mq6aRnxp",
        "outputId": "e7f22834-d497-4862-ec85-e2cb7a860ff0"
      },
      "outputs": [
        {
          "name": "stdout",
          "output_type": "stream",
          "text": [
            " chr [1:37] \"The two men appeared out of nowhere, a few yards apart in the narrow, moonlit lane. For a second they stood qui\"| __truncated__ ...\n"
          ]
        }
      ],
      "source": [
        "getExportedValue('harrypotter', hp[2]) %>% str"
      ]
    },
    {
      "cell_type": "markdown",
      "metadata": {
        "id": "Xu5gvzD61le-"
      },
      "source": [
        "## Iteration\n",
        "Now let's think about how we can automate the process of joining all of these books into one data frame. \n",
        "\n",
        "If you're coming from a C++ or Java background, your first instinct is probably to use a `for()` loop. In R, for loops look like this:\n",
        "```{r}\n",
        "for (<index> in <vector>) {\n",
        "    [do something for each value of <index>]\n",
        "}\n",
        "```"
      ]
    },
    {
      "cell_type": "code",
      "execution_count": null,
      "metadata": {
        "id": "mDZn6LKWRnxq",
        "outputId": "55d24eb2-3e7c-495e-df56-2f690564964b"
      },
      "outputs": [
        {
          "name": "stdout",
          "output_type": "stream",
          "text": [
            "[1] \"chamber_of_secrets\"\n",
            "[1] \"deathly_hallows\"\n",
            "[1] \"goblet_of_fire\"\n",
            "[1] \"half_blood_prince\"\n",
            "[1] \"order_of_the_phoenix\"\n",
            "[1] \"philosophers_stone\"\n",
            "[1] \"prisoner_of_azkaban\"\n"
          ]
        }
      ],
      "source": [
        "for (title in hp) {\n",
        "    print(title)\n",
        "}"
      ]
    },
    {
      "cell_type": "markdown",
      "metadata": {
        "id": "GX2_Vz1c1le_",
        "outputId": "d56f8efa-49cc-4087-bc00-f50e2d929093"
      },
      "source": [
        "By tweaking this for loop, we could make it create a dataset of all the chapters in HP:"
      ]
    },
    {
      "cell_type": "code",
      "execution_count": null,
      "metadata": {
        "id": "dmTHvIQcRnxq",
        "outputId": "92187826-b354-43f8-e715-d0f32e938bac"
      },
      "outputs": [
        {
          "name": "stdout",
          "output_type": "stream",
          "text": [
            "\u001b[90m# A tibble: 200 × 2\u001b[39m\n",
            "   title              text                                                      \n",
            "   \u001b[3m\u001b[90m<chr>\u001b[39m\u001b[23m              \u001b[3m\u001b[90m<chr>\u001b[39m\u001b[23m                                                     \n",
            "\u001b[90m 1\u001b[39m chamber_of_secrets \u001b[90m\"\u001b[39mTHE WORST BIRTHDAY　　Not for the first time, an argumen…\n",
            "\u001b[90m 2\u001b[39m chamber_of_secrets \u001b[90m\"\u001b[39m　　DOBBY'S WARNING　　arry managed not to shout out, bu…\n",
            "\u001b[90m 3\u001b[39m chamber_of_secrets \u001b[90m\"\u001b[39mTHE BURROW　　Ron.l\\\" breathed Harry, creeping to the wi…\n",
            "\u001b[90m 4\u001b[39m chamber_of_secrets \u001b[90m\"\u001b[39mAT FL0VRR 11 $ HAND BLOTTS　　ife at the Burrow was as d…\n",
            "\u001b[90m 5\u001b[39m chamber_of_secrets \u001b[90m\"\u001b[39mTHE WHOMPING　　WILLOW　　he end of the summer vacation …\n",
            "\u001b[90m 6\u001b[39m chamber_of_secrets \u001b[90m\"\u001b[39mGILDEROY LOCKHART　　he next day, however, Harry barely …\n",
            "\u001b[90m 7\u001b[39m chamber_of_secrets \u001b[90m\"\u001b[39mHarry looked bemusedly at the photograph Colin was brand…\n",
            "\u001b[90m 8\u001b[39m chamber_of_secrets \u001b[90m\"\u001b[39m　　\\\"What are you talking about, Harry? Perhaps you're …\n",
            "\u001b[90m 9\u001b[39m chamber_of_secrets \u001b[90m\"\u001b[39mTHE WRTITING ON THE WALL　　What's going on here? What's…\n",
            "\u001b[90m10\u001b[39m chamber_of_secrets \u001b[90m\"\u001b[39m　　THE ROGUE BLUDGER　　ince the disastrous episode of …\n",
            "\u001b[90m# … with 190 more rows\u001b[39m\n"
          ]
        }
      ],
      "source": [
        "df <- tibble()\n",
        "for (title in hp) {\n",
        "    df <- bind_rows(df, tibble(title=title, text=getExportedValue('harrypotter', title)))\n",
        "}\n",
        "df %>% print"
      ]
    },
    {
      "cell_type": "markdown",
      "metadata": {
        "id": "jWr022FERnxq"
      },
      "source": [
        "## `map()` \n",
        "An alternative to writing a for loop is to use the `map(f, seq)` function. This takes a function `f` and \"maps\" it over each element of a sequence (list or vector) `seq`.\n",
        "\n",
        "![map](https://d33wubrfki0l68.cloudfront.net/f0494d020aa517ae7b1011cea4c4a9f21702df8b/2577b/diagrams/functionals/map.png)"
      ]
    },
    {
      "cell_type": "code",
      "execution_count": null,
      "metadata": {
        "id": "2c4QcrqdRnxq",
        "outputId": "0d0a23f3-4d9b-4bb9-f701-52610ca9863a"
      },
      "outputs": [
        {
          "name": "stdout",
          "output_type": "stream",
          "text": [
            "List of 7\n",
            " $ : tibble [19 × 2] (S3: tbl_df/tbl/data.frame)\n",
            "  ..$ title: chr [1:19] \"chamber_of_secrets\" \"chamber_of_secrets\" \"chamber_of_secrets\" \"chamber_of_secrets\" ...\n",
            "  ..$ text : chr [1:19] \"THE WORST BIRTHDAY　　Not for the first time, an argument had broken out over breakfast at number four, Privet \"| __truncated__ \"　　DOBBY'S WARNING　　arry managed not to shout out, but it was a close thing. The little creature on the bed \"| __truncated__ \"THE BURROW　　Ron.l\\\" breathed Harry, creeping to the window and pushing it up so they could talk through the b\"| __truncated__ \"AT FL0VRR 11 $ HAND BLOTTS　　ife at the Burrow was as different as possible from life on Privet Drive. The Dur\"| __truncated__ ...\n",
            " $ : tibble [37 × 2] (S3: tbl_df/tbl/data.frame)\n",
            "  ..$ title: chr [1:37] \"deathly_hallows\" \"deathly_hallows\" \"deathly_hallows\" \"deathly_hallows\" ...\n",
            "  ..$ text : chr [1:37] \"The two men appeared out of nowhere, a few yards apart in the narrow, moonlit lane. For a second they stood qui\"| __truncated__ \"Harry was bleeding. Clutching his right hand in his left and swearing under his breath, he shouldered open his \"| __truncated__ \"The sound of the front door slamming echoed up the stairs and a voice roared, \\\"Oh! You!\\\"Sixteen years of bein\"| __truncated__ \"Harry ran back upstairs to his bedroom, arriving at the window just in time to see the Dursleys' car swinging o\"| __truncated__ ...\n",
            " $ : tibble [37 × 2] (S3: tbl_df/tbl/data.frame)\n",
            "  ..$ title: chr [1:37] \"goblet_of_fire\" \"goblet_of_fire\" \"goblet_of_fire\" \"goblet_of_fire\" ...\n",
            "  ..$ text : chr [1:37] \"　　The villagers of Little Hangleron still called it \\\"the Riddle House,\\\" even though it had been many years \"| __truncated__ \"　　Harry lay flat on his back, breathing hard as though he had been running. He had awoken from a vivid dream \"| __truncated__ \"　　By the time Harry arrived in the kitchen, the three Dursleys were already seated around the table. None of \"| __truncated__ \"　　By twelve o'clock the next day, Harry's school trunk was packed with his school things and all his most pri\"| __truncated__ ...\n",
            " $ : tibble [30 × 2] (S3: tbl_df/tbl/data.frame)\n",
            "  ..$ title: chr [1:30] \"half_blood_prince\" \"half_blood_prince\" \"half_blood_prince\" \"half_blood_prince\" ...\n",
            "  ..$ text : chr [1:30] \" It was nearing midnight and the Prime Minister was sitting alone in his office, reading a long memo that was s\"| __truncated__ \" Many miles away the chilly mist that had pressed against the Prime Minister's windows drifted over a dirty riv\"| __truncated__ \" Harry Potter was snoring loudly. He had been sitting in a chair beside his bedroom window for the best part of\"| __truncated__ \" Despite the fact that he had spent every waking moment of the past few days hoping desperately that Dumbledore\"| __truncated__ ...\n",
            " $ : tibble [38 × 2] (S3: tbl_df/tbl/data.frame)\n",
            "  ..$ title: chr [1:38] \"order_of_the_phoenix\" \"order_of_the_phoenix\" \"order_of_the_phoenix\" \"order_of_the_phoenix\" ...\n",
            "  ..$ text : chr [1:38] \"Dudley Demented    The hottest day of the summer so far was drawing to a close and a drowsy silence lay over th\"| __truncated__ \"    A Peck of Owls    'What?' said Harry blankly.    'He left!' said Mrs Figg, wringing her hands. 'Left to see\"| __truncated__ \"    The Advance Guard    I've just been attacked by Dementors and I might be expelled from Hogwarts. I want to \"| __truncated__ \"    Number Twelve,Grimmauld Place    'What's the Order of the - ?' Harry began.    'Not here, boy!' snarled Moo\"| __truncated__ ...\n",
            " $ : tibble [17 × 2] (S3: tbl_df/tbl/data.frame)\n",
            "  ..$ title: chr [1:17] \"philosophers_stone\" \"philosophers_stone\" \"philosophers_stone\" \"philosophers_stone\" ...\n",
            "  ..$ text : chr [1:17] \"THE BOY WHO LIVED　　Mr. and Mrs. Dursley, of number four, Privet Drive, were proud to say that they were perfe\"| __truncated__ \"THE VANISHING GLASS　　Nearly ten years had passed since the Dursleys had woken up to find their nephew on the \"| __truncated__ \"THE LETTERS FROM NO ONE　　The escape of the Brazilian boa constrictor earned Harry his longest-ever punishment\"| __truncated__ \"THE KEEPER OF THE KEYS　　BOOM. They knocked again. Dudley jerked awake. \\\"Where's the cannon?\\\" he said stupid\"| __truncated__ ...\n",
            " $ : tibble [22 × 2] (S3: tbl_df/tbl/data.frame)\n",
            "  ..$ title: chr [1:22] \"prisoner_of_azkaban\" \"prisoner_of_azkaban\" \"prisoner_of_azkaban\" \"prisoner_of_azkaban\" ...\n",
            "  ..$ text : chr [1:22] \"　　OWL POST　　Harry Potter was a highly unusual boy in many ways. For one thing, he hated the summer holidays\"| __truncated__ \"　　AUNT MARGE'S BIG MISTAKE　　Harry went down to breakfast the next morning to find the three Dursleys alread\"| __truncated__ \"　　THE KNIGHT BUS　　Harry was several streets away before he collapsed onto a low wall in Magnolia Crescent, \"| __truncated__ \"　　THE LEAKY CAULDRON　　It took Harry several days to get used to his strange new freedom. Never before had h\"| __truncated__ ...\n"
          ]
        }
      ],
      "source": [
        "tbl_from_title <- function(title) {\n",
        "    text <- getExportedValue('harrypotter', title)\n",
        "    tibble(title=title, text=text)\n",
        "}\n",
        "\n",
        "hp %>% map(tbl_from_title) %>% str"
      ]
    },
    {
      "cell_type": "markdown",
      "metadata": {
        "id": "aAP9Ms7lRnxq"
      },
      "source": [
        "Finally, we need to take this list of dataframes and combine it into one large dataframe:"
      ]
    },
    {
      "cell_type": "code",
      "execution_count": null,
      "metadata": {
        "id": "buFo8JivRnxr",
        "outputId": "bc2d259f-1d36-4f13-abe7-4b6fc17dfa39"
      },
      "outputs": [
        {
          "name": "stdout",
          "output_type": "stream",
          "text": [
            "\u001b[90m# A tibble: 200 × 2\u001b[39m\n",
            "   title              text                                                      \n",
            "   \u001b[3m\u001b[90m<chr>\u001b[39m\u001b[23m              \u001b[3m\u001b[90m<chr>\u001b[39m\u001b[23m                                                     \n",
            "\u001b[90m 1\u001b[39m chamber_of_secrets \u001b[90m\"\u001b[39mTHE WORST BIRTHDAY　　Not for the first time, an argumen…\n",
            "\u001b[90m 2\u001b[39m chamber_of_secrets \u001b[90m\"\u001b[39m　　DOBBY'S WARNING　　arry managed not to shout out, bu…\n",
            "\u001b[90m 3\u001b[39m chamber_of_secrets \u001b[90m\"\u001b[39mTHE BURROW　　Ron.l\\\" breathed Harry, creeping to the wi…\n",
            "\u001b[90m 4\u001b[39m chamber_of_secrets \u001b[90m\"\u001b[39mAT FL0VRR 11 $ HAND BLOTTS　　ife at the Burrow was as d…\n",
            "\u001b[90m 5\u001b[39m chamber_of_secrets \u001b[90m\"\u001b[39mTHE WHOMPING　　WILLOW　　he end of the summer vacation …\n",
            "\u001b[90m 6\u001b[39m chamber_of_secrets \u001b[90m\"\u001b[39mGILDEROY LOCKHART　　he next day, however, Harry barely …\n",
            "\u001b[90m 7\u001b[39m chamber_of_secrets \u001b[90m\"\u001b[39mHarry looked bemusedly at the photograph Colin was brand…\n",
            "\u001b[90m 8\u001b[39m chamber_of_secrets \u001b[90m\"\u001b[39m　　\\\"What are you talking about, Harry? Perhaps you're …\n",
            "\u001b[90m 9\u001b[39m chamber_of_secrets \u001b[90m\"\u001b[39mTHE WRTITING ON THE WALL　　What's going on here? What's…\n",
            "\u001b[90m10\u001b[39m chamber_of_secrets \u001b[90m\"\u001b[39m　　THE ROGUE BLUDGER　　ince the disastrous episode of …\n",
            "\u001b[90m# … with 190 more rows\u001b[39m\n"
          ]
        }
      ],
      "source": [
        "hp %>% \n",
        "    setNames(hp) %>% \n",
        "    map(\\(title) tibble(text = getExportedValue('harrypotter', title))) %>%\n",
        "    list_rbind(names_to = \"title\") %>% print"
      ]
    },
    {
      "cell_type": "markdown",
      "metadata": {
        "id": "xFQMnjniRnxr"
      },
      "source": [
        "### Example: raw NCAA data\n",
        "On HW8 you are analysing NCAA data. These data actually came from a much larger dataset spread across many files. The you can load the raw data here:"
      ]
    },
    {
      "cell_type": "code",
      "execution_count": null,
      "metadata": {
        "id": "zQ6v_dbXRnxr",
        "outputId": "963a5055-4570-4873-f6b2-22be34daf3f7"
      },
      "outputs": [
        {
          "name": "stderr",
          "output_type": "stream",
          "text": [
            "\u001b[1mRows: \u001b[22m\u001b[34m27708\u001b[39m \u001b[1mColumns: \u001b[22m\u001b[34m11\u001b[39m\n",
            "\u001b[36m──\u001b[39m \u001b[1mColumn specification\u001b[22m \u001b[36m─────────────────────────────────────────────────────────────────────────────────────────────────────────────────────────────────────\u001b[39m\n",
            "\u001b[1mDelimiter:\u001b[22m \",\"\n",
            "\u001b[31mchr\u001b[39m (5): opponent_name, game_date, location, neutral_site_location, game_length\n",
            "\u001b[32mdbl\u001b[39m (6): score, opponent_score, attendence, opponent_id, year, school_id\n",
            "\n",
            "\u001b[36mℹ\u001b[39m Use `spec()` to retrieve the full column specification for this data.\n",
            "\u001b[36mℹ\u001b[39m Specify the column types or set `show_col_types = FALSE` to quiet this message.\n"
          ]
        },
        {
          "data": {
            "text/html": [
              "<table class=\"dataframe\">\n",
              "<caption>A spec_tbl_df: 27708 × 11</caption>\n",
              "<thead>\n",
              "\t<tr><th scope=col>opponent_name</th><th scope=col>game_date</th><th scope=col>score</th><th scope=col>opponent_score</th><th scope=col>location</th><th scope=col>neutral_site_location</th><th scope=col>game_length</th><th scope=col>attendence</th><th scope=col>opponent_id</th><th scope=col>year</th><th scope=col>school_id</th></tr>\n",
              "\t<tr><th scope=col>&lt;chr&gt;</th><th scope=col>&lt;chr&gt;</th><th scope=col>&lt;dbl&gt;</th><th scope=col>&lt;dbl&gt;</th><th scope=col>&lt;chr&gt;</th><th scope=col>&lt;chr&gt;</th><th scope=col>&lt;chr&gt;</th><th scope=col>&lt;dbl&gt;</th><th scope=col>&lt;dbl&gt;</th><th scope=col>&lt;dbl&gt;</th><th scope=col>&lt;dbl&gt;</th></tr>\n",
              "</thead>\n",
              "<tbody>\n",
              "\t<tr><td>Sul Ross St.     </td><td>11/16/2001</td><td> 93</td><td> 59</td><td>Home</td><td>NA</td><td>NA  </td><td> 2041</td><td> 1390</td><td>2002</td><td>26172</td></tr>\n",
              "\t<tr><td>Texas St.        </td><td>11/25/2001</td><td> 89</td><td> 99</td><td>Home</td><td>NA</td><td>NA  </td><td> 1493</td><td>  670</td><td>2002</td><td>26172</td></tr>\n",
              "\t<tr><td>Loyola Chicago   </td><td>11/29/2001</td><td> 66</td><td> 86</td><td>Away</td><td>NA</td><td>NA  </td><td> 1128</td><td>  371</td><td>2002</td><td>26172</td></tr>\n",
              "\t<tr><td>Illinois         </td><td>12/01/2001</td><td> 56</td><td> 80</td><td>Away</td><td>NA</td><td>NA  </td><td>16500</td><td>  301</td><td>2002</td><td>26172</td></tr>\n",
              "\t<tr><td>Texas            </td><td>12/05/2001</td><td> 64</td><td> 89</td><td>Away</td><td>NA</td><td>NA  </td><td> 6099</td><td>  703</td><td>2002</td><td>26172</td></tr>\n",
              "\t<tr><td>UTEP             </td><td>12/08/2001</td><td> 56</td><td> 82</td><td>Away</td><td>NA</td><td>NA  </td><td> 6203</td><td>  704</td><td>2002</td><td>26172</td></tr>\n",
              "\t<tr><td>Lamar            </td><td>12/15/2001</td><td> 67</td><td> 69</td><td>Home</td><td>NA</td><td>NA  </td><td> 1342</td><td>  346</td><td>2002</td><td>26172</td></tr>\n",
              "\t<tr><td>San Francisco    </td><td>12/18/2001</td><td> 80</td><td> 75</td><td>Home</td><td>NA</td><td>NA  </td><td> 1360</td><td>  629</td><td>2002</td><td>26172</td></tr>\n",
              "\t<tr><td>Denver           </td><td>12/21/2001</td><td> 81</td><td> 79</td><td>Home</td><td>NA</td><td>NA  </td><td> 1415</td><td>  183</td><td>2002</td><td>26172</td></tr>\n",
              "\t<tr><td>Wayland Baptist  </td><td>12/28/2001</td><td> 92</td><td> 83</td><td>Home</td><td>NA</td><td>NA  </td><td> 2096</td><td>   NA</td><td>2002</td><td>26172</td></tr>\n",
              "\t<tr><td>Arkansas St.     </td><td>12/29/2001</td><td>102</td><td> 98</td><td>Home</td><td>NA</td><td>2 OT</td><td> 1864</td><td>   30</td><td>2002</td><td>26172</td></tr>\n",
              "\t<tr><td>Sacramento St.   </td><td>01/03/2002</td><td> 69</td><td> 82</td><td>Away</td><td>NA</td><td>NA  </td><td>  887</td><td>  102</td><td>2002</td><td>26172</td></tr>\n",
              "\t<tr><td>San Francisco    </td><td>01/05/2002</td><td> 63</td><td> 65</td><td>Away</td><td>NA</td><td>NA  </td><td> 2272</td><td>  629</td><td>2002</td><td>26172</td></tr>\n",
              "\t<tr><td>San Diego St.    </td><td>01/08/2002</td><td> 79</td><td> 82</td><td>Home</td><td>NA</td><td>NA  </td><td> 1357</td><td>  626</td><td>2002</td><td>26172</td></tr>\n",
              "\t<tr><td>Centenary (LA)   </td><td>01/12/2002</td><td> 81</td><td> 80</td><td>Away</td><td>NA</td><td>NA  </td><td> 1864</td><td>  125</td><td>2002</td><td>26172</td></tr>\n",
              "\t<tr><td>UMKC             </td><td>01/14/2002</td><td> 61</td><td> 67</td><td>Away</td><td>NA</td><td>NA  </td><td> 1579</td><td> 2707</td><td>2002</td><td>26172</td></tr>\n",
              "\t<tr><td>Gardner-Webb     </td><td>01/17/2002</td><td> 86</td><td> 78</td><td>Home</td><td>NA</td><td>NA  </td><td> 1720</td><td> 1092</td><td>2002</td><td>26172</td></tr>\n",
              "\t<tr><td>New Orleans      </td><td>01/24/2002</td><td> 68</td><td> 82</td><td>Home</td><td>NA</td><td>NA  </td><td> 1712</td><td>  474</td><td>2002</td><td>26172</td></tr>\n",
              "\t<tr><td>Tex.-Pan American</td><td>01/26/2002</td><td> 87</td><td> 80</td><td>Away</td><td>NA</td><td>1 OT</td><td> 3875</td><td>  536</td><td>2002</td><td>26172</td></tr>\n",
              "\t<tr><td>Lipscomb         </td><td>01/31/2002</td><td> 79</td><td> 81</td><td>Away</td><td>NA</td><td>NA  </td><td> 1212</td><td>28600</td><td>2002</td><td>26172</td></tr>\n",
              "\t<tr><td>Gardner-Webb     </td><td>02/02/2002</td><td> 76</td><td> 86</td><td>Away</td><td>NA</td><td>NA  </td><td> 3297</td><td> 1092</td><td>2002</td><td>26172</td></tr>\n",
              "\t<tr><td>Denver           </td><td>02/05/2002</td><td> 68</td><td> 78</td><td>Away</td><td>NA</td><td>NA  </td><td>  538</td><td>  183</td><td>2002</td><td>26172</td></tr>\n",
              "\t<tr><td>Tex.-Pan American</td><td>02/09/2002</td><td>105</td><td>110</td><td>Home</td><td>NA</td><td>NA  </td><td> 1250</td><td>  536</td><td>2002</td><td>26172</td></tr>\n",
              "\t<tr><td>Savannah St.     </td><td>02/13/2002</td><td> 77</td><td> 62</td><td>Away</td><td>NA</td><td>NA  </td><td>  197</td><td>  632</td><td>2002</td><td>26172</td></tr>\n",
              "\t<tr><td>Lipscomb         </td><td>02/18/2002</td><td> 75</td><td> 61</td><td>Home</td><td>NA</td><td>NA  </td><td> 1421</td><td>28600</td><td>2002</td><td>26172</td></tr>\n",
              "\t<tr><td>Centenary (LA)   </td><td>02/23/2002</td><td> 77</td><td> 73</td><td>Home</td><td>NA</td><td>NA  </td><td> 1945</td><td>  125</td><td>2002</td><td>26172</td></tr>\n",
              "\t<tr><td>Savannah St.     </td><td>02/28/2002</td><td> 96</td><td> 66</td><td>Home</td><td>NA</td><td>NA  </td><td> 2031</td><td>  632</td><td>2002</td><td>26172</td></tr>\n",
              "\t<tr><td>Okla. Panhandle  </td><td>11/16/2001</td><td> 92</td><td> 80</td><td>Home</td><td>NA</td><td>NA  </td><td>  864</td><td>24342</td><td>2002</td><td>    2</td></tr>\n",
              "\t<tr><td>St. Edward's     </td><td>11/19/2001</td><td> 59</td><td> 78</td><td>Home</td><td>NA</td><td>NA  </td><td>  875</td><td> 1334</td><td>2002</td><td>    2</td></tr>\n",
              "\t<tr><td>Okla. Panhandle  </td><td>11/23/2001</td><td> 53</td><td> 71</td><td>Away</td><td>NA</td><td>NA  </td><td>  250</td><td>24342</td><td>2002</td><td>    2</td></tr>\n",
              "\t<tr><td>⋮</td><td>⋮</td><td>⋮</td><td>⋮</td><td>⋮</td><td>⋮</td><td>⋮</td><td>⋮</td><td>⋮</td><td>⋮</td><td>⋮</td></tr>\n",
              "\t<tr><td>Gallaudet     </td><td>02/19/2002</td><td> 91</td><td> 78</td><td>Home   </td><td>NA       </td><td>NA</td><td> 150</td><td> 245</td><td>2002</td><td>815</td></tr>\n",
              "\t<tr><td>Marymount (VA)</td><td>02/21/2002</td><td>100</td><td>103</td><td>Home   </td><td>NA       </td><td>NA</td><td> 350</td><td> 394</td><td>2002</td><td>815</td></tr>\n",
              "\t<tr><td>Evansville    </td><td>11/17/2001</td><td> 64</td><td> 87</td><td>Away   </td><td>NA       </td><td>NA</td><td>6555</td><td> 219</td><td>2002</td><td>817</td></tr>\n",
              "\t<tr><td>Slippery Rock </td><td>11/20/2001</td><td> 99</td><td> 67</td><td>Home   </td><td>NA       </td><td>NA</td><td>1629</td><td> 643</td><td>2002</td><td>817</td></tr>\n",
              "\t<tr><td>DePaul        </td><td>11/25/2001</td><td> 69</td><td>107</td><td>Away   </td><td>NA       </td><td>NA</td><td>4724</td><td> 176</td><td>2002</td><td>817</td></tr>\n",
              "\t<tr><td>Valparaiso    </td><td>11/29/2001</td><td> 50</td><td> 80</td><td>Away   </td><td>NA       </td><td>NA</td><td>4203</td><td> 735</td><td>2002</td><td>817</td></tr>\n",
              "\t<tr><td>Chicago St.   </td><td>12/01/2001</td><td> 72</td><td> 81</td><td>Away   </td><td>NA       </td><td>NA</td><td> 523</td><td> 136</td><td>2002</td><td>817</td></tr>\n",
              "\t<tr><td>Toledo        </td><td>12/08/2001</td><td> 65</td><td> 79</td><td>Away   </td><td>NA       </td><td>NA</td><td>3716</td><td> 709</td><td>2002</td><td>817</td></tr>\n",
              "\t<tr><td>Kent St.      </td><td>12/15/2001</td><td> 75</td><td> 70</td><td>Home   </td><td>NA       </td><td>NA</td><td>3168</td><td> 331</td><td>2002</td><td>817</td></tr>\n",
              "\t<tr><td>Robert Morris </td><td>12/19/2001</td><td> 80</td><td> 87</td><td>Home   </td><td>NA       </td><td>NA</td><td>1679</td><td> 579</td><td>2002</td><td>817</td></tr>\n",
              "\t<tr><td>UMKC          </td><td>12/22/2001</td><td> 53</td><td> 68</td><td>Away   </td><td>NA       </td><td>NA</td><td>3755</td><td>2707</td><td>2002</td><td>817</td></tr>\n",
              "\t<tr><td>Western Ill.  </td><td>12/30/2001</td><td> 79</td><td> 84</td><td>Away   </td><td>NA       </td><td>NA</td><td>1013</td><td> 771</td><td>2002</td><td>817</td></tr>\n",
              "\t<tr><td>Milwaukee     </td><td>01/02/2002</td><td> 55</td><td> 77</td><td>Home   </td><td>NA       </td><td>NA</td><td>1523</td><td> 797</td><td>2002</td><td>817</td></tr>\n",
              "\t<tr><td>Wright St.    </td><td>01/05/2002</td><td> 87</td><td> 80</td><td>Home   </td><td>NA       </td><td>NA</td><td>2498</td><td> 810</td><td>2002</td><td>817</td></tr>\n",
              "\t<tr><td>Cleveland St. </td><td>01/10/2002</td><td> 58</td><td> 71</td><td>Away   </td><td>NA       </td><td>NA</td><td>2482</td><td> 148</td><td>2002</td><td>817</td></tr>\n",
              "\t<tr><td>Butler        </td><td>01/12/2002</td><td> 50</td><td> 68</td><td>Home   </td><td>NA       </td><td>NA</td><td>3566</td><td>  87</td><td>2002</td><td>817</td></tr>\n",
              "\t<tr><td>Detroit       </td><td>01/17/2002</td><td> 51</td><td> 66</td><td>Home   </td><td>NA       </td><td>NA</td><td>2357</td><td> 184</td><td>2002</td><td>817</td></tr>\n",
              "\t<tr><td>Loyola Chicago</td><td>01/19/2002</td><td> 63</td><td> 72</td><td>Away   </td><td>NA       </td><td>NA</td><td>2437</td><td> 371</td><td>2002</td><td>817</td></tr>\n",
              "\t<tr><td>Ill.-Chicago  </td><td>01/21/2002</td><td> 69</td><td> 85</td><td>Away   </td><td>NA       </td><td>NA</td><td>1943</td><td> 302</td><td>2002</td><td>817</td></tr>\n",
              "\t<tr><td>Green Bay     </td><td>01/28/2002</td><td> 50</td><td> 53</td><td>Away   </td><td>NA       </td><td>NA</td><td>2818</td><td> 794</td><td>2002</td><td>817</td></tr>\n",
              "\t<tr><td>Wright St.    </td><td>01/31/2002</td><td> 69</td><td> 76</td><td>Away   </td><td>NA       </td><td>NA</td><td>4552</td><td> 810</td><td>2002</td><td>817</td></tr>\n",
              "\t<tr><td>Loyola Chicago</td><td>02/02/2002</td><td> 55</td><td> 75</td><td>Home   </td><td>NA       </td><td>NA</td><td>3070</td><td> 371</td><td>2002</td><td>817</td></tr>\n",
              "\t<tr><td>Ill.-Chicago  </td><td>02/04/2002</td><td> 57</td><td> 63</td><td>Home   </td><td>NA       </td><td>NA</td><td>1758</td><td> 302</td><td>2002</td><td>817</td></tr>\n",
              "\t<tr><td>Milwaukee     </td><td>02/09/2002</td><td> 76</td><td> 96</td><td>Away   </td><td>NA       </td><td>NA</td><td>3580</td><td> 797</td><td>2002</td><td>817</td></tr>\n",
              "\t<tr><td>Cleveland St. </td><td>02/14/2002</td><td> 48</td><td> 58</td><td>Home   </td><td>NA       </td><td>NA</td><td>4096</td><td> 148</td><td>2002</td><td>817</td></tr>\n",
              "\t<tr><td>Butler        </td><td>02/16/2002</td><td> 50</td><td> 75</td><td>Away   </td><td>NA       </td><td>NA</td><td>7041</td><td>  87</td><td>2002</td><td>817</td></tr>\n",
              "\t<tr><td>Detroit       </td><td>02/18/2002</td><td> 52</td><td> 63</td><td>Away   </td><td>NA       </td><td>NA</td><td>2068</td><td> 184</td><td>2002</td><td>817</td></tr>\n",
              "\t<tr><td>Green Bay     </td><td>02/21/2002</td><td> 69</td><td> 55</td><td>Home   </td><td>NA       </td><td>NA</td><td>2777</td><td> 794</td><td>2002</td><td>817</td></tr>\n",
              "\t<tr><td>IPFW          </td><td>02/23/2002</td><td> 78</td><td> 71</td><td>Home   </td><td>NA       </td><td>NA</td><td>2722</td><td> 308</td><td>2002</td><td>817</td></tr>\n",
              "\t<tr><td>Green Bay     </td><td>03/01/2002</td><td> 65</td><td> 86</td><td>Neutral</td><td>Cleveland</td><td>NA</td><td>1976</td><td> 794</td><td>2002</td><td>817</td></tr>\n",
              "</tbody>\n",
              "</table>\n"
            ],
            "text/latex": [
              "A spec\\_tbl\\_df: 27708 × 11\n",
              "\\begin{tabular}{lllllllllll}\n",
              " opponent\\_name & game\\_date & score & opponent\\_score & location & neutral\\_site\\_location & game\\_length & attendence & opponent\\_id & year & school\\_id\\\\\n",
              " <chr> & <chr> & <dbl> & <dbl> & <chr> & <chr> & <chr> & <dbl> & <dbl> & <dbl> & <dbl>\\\\\n",
              "\\hline\n",
              "\t Sul Ross St.      & 11/16/2001 &  93 &  59 & Home & NA & NA   &  2041 &  1390 & 2002 & 26172\\\\\n",
              "\t Texas St.         & 11/25/2001 &  89 &  99 & Home & NA & NA   &  1493 &   670 & 2002 & 26172\\\\\n",
              "\t Loyola Chicago    & 11/29/2001 &  66 &  86 & Away & NA & NA   &  1128 &   371 & 2002 & 26172\\\\\n",
              "\t Illinois          & 12/01/2001 &  56 &  80 & Away & NA & NA   & 16500 &   301 & 2002 & 26172\\\\\n",
              "\t Texas             & 12/05/2001 &  64 &  89 & Away & NA & NA   &  6099 &   703 & 2002 & 26172\\\\\n",
              "\t UTEP              & 12/08/2001 &  56 &  82 & Away & NA & NA   &  6203 &   704 & 2002 & 26172\\\\\n",
              "\t Lamar             & 12/15/2001 &  67 &  69 & Home & NA & NA   &  1342 &   346 & 2002 & 26172\\\\\n",
              "\t San Francisco     & 12/18/2001 &  80 &  75 & Home & NA & NA   &  1360 &   629 & 2002 & 26172\\\\\n",
              "\t Denver            & 12/21/2001 &  81 &  79 & Home & NA & NA   &  1415 &   183 & 2002 & 26172\\\\\n",
              "\t Wayland Baptist   & 12/28/2001 &  92 &  83 & Home & NA & NA   &  2096 &    NA & 2002 & 26172\\\\\n",
              "\t Arkansas St.      & 12/29/2001 & 102 &  98 & Home & NA & 2 OT &  1864 &    30 & 2002 & 26172\\\\\n",
              "\t Sacramento St.    & 01/03/2002 &  69 &  82 & Away & NA & NA   &   887 &   102 & 2002 & 26172\\\\\n",
              "\t San Francisco     & 01/05/2002 &  63 &  65 & Away & NA & NA   &  2272 &   629 & 2002 & 26172\\\\\n",
              "\t San Diego St.     & 01/08/2002 &  79 &  82 & Home & NA & NA   &  1357 &   626 & 2002 & 26172\\\\\n",
              "\t Centenary (LA)    & 01/12/2002 &  81 &  80 & Away & NA & NA   &  1864 &   125 & 2002 & 26172\\\\\n",
              "\t UMKC              & 01/14/2002 &  61 &  67 & Away & NA & NA   &  1579 &  2707 & 2002 & 26172\\\\\n",
              "\t Gardner-Webb      & 01/17/2002 &  86 &  78 & Home & NA & NA   &  1720 &  1092 & 2002 & 26172\\\\\n",
              "\t New Orleans       & 01/24/2002 &  68 &  82 & Home & NA & NA   &  1712 &   474 & 2002 & 26172\\\\\n",
              "\t Tex.-Pan American & 01/26/2002 &  87 &  80 & Away & NA & 1 OT &  3875 &   536 & 2002 & 26172\\\\\n",
              "\t Lipscomb          & 01/31/2002 &  79 &  81 & Away & NA & NA   &  1212 & 28600 & 2002 & 26172\\\\\n",
              "\t Gardner-Webb      & 02/02/2002 &  76 &  86 & Away & NA & NA   &  3297 &  1092 & 2002 & 26172\\\\\n",
              "\t Denver            & 02/05/2002 &  68 &  78 & Away & NA & NA   &   538 &   183 & 2002 & 26172\\\\\n",
              "\t Tex.-Pan American & 02/09/2002 & 105 & 110 & Home & NA & NA   &  1250 &   536 & 2002 & 26172\\\\\n",
              "\t Savannah St.      & 02/13/2002 &  77 &  62 & Away & NA & NA   &   197 &   632 & 2002 & 26172\\\\\n",
              "\t Lipscomb          & 02/18/2002 &  75 &  61 & Home & NA & NA   &  1421 & 28600 & 2002 & 26172\\\\\n",
              "\t Centenary (LA)    & 02/23/2002 &  77 &  73 & Home & NA & NA   &  1945 &   125 & 2002 & 26172\\\\\n",
              "\t Savannah St.      & 02/28/2002 &  96 &  66 & Home & NA & NA   &  2031 &   632 & 2002 & 26172\\\\\n",
              "\t Okla. Panhandle   & 11/16/2001 &  92 &  80 & Home & NA & NA   &   864 & 24342 & 2002 &     2\\\\\n",
              "\t St. Edward's      & 11/19/2001 &  59 &  78 & Home & NA & NA   &   875 &  1334 & 2002 &     2\\\\\n",
              "\t Okla. Panhandle   & 11/23/2001 &  53 &  71 & Away & NA & NA   &   250 & 24342 & 2002 &     2\\\\\n",
              "\t ⋮ & ⋮ & ⋮ & ⋮ & ⋮ & ⋮ & ⋮ & ⋮ & ⋮ & ⋮ & ⋮\\\\\n",
              "\t Gallaudet      & 02/19/2002 &  91 &  78 & Home    & NA        & NA &  150 &  245 & 2002 & 815\\\\\n",
              "\t Marymount (VA) & 02/21/2002 & 100 & 103 & Home    & NA        & NA &  350 &  394 & 2002 & 815\\\\\n",
              "\t Evansville     & 11/17/2001 &  64 &  87 & Away    & NA        & NA & 6555 &  219 & 2002 & 817\\\\\n",
              "\t Slippery Rock  & 11/20/2001 &  99 &  67 & Home    & NA        & NA & 1629 &  643 & 2002 & 817\\\\\n",
              "\t DePaul         & 11/25/2001 &  69 & 107 & Away    & NA        & NA & 4724 &  176 & 2002 & 817\\\\\n",
              "\t Valparaiso     & 11/29/2001 &  50 &  80 & Away    & NA        & NA & 4203 &  735 & 2002 & 817\\\\\n",
              "\t Chicago St.    & 12/01/2001 &  72 &  81 & Away    & NA        & NA &  523 &  136 & 2002 & 817\\\\\n",
              "\t Toledo         & 12/08/2001 &  65 &  79 & Away    & NA        & NA & 3716 &  709 & 2002 & 817\\\\\n",
              "\t Kent St.       & 12/15/2001 &  75 &  70 & Home    & NA        & NA & 3168 &  331 & 2002 & 817\\\\\n",
              "\t Robert Morris  & 12/19/2001 &  80 &  87 & Home    & NA        & NA & 1679 &  579 & 2002 & 817\\\\\n",
              "\t UMKC           & 12/22/2001 &  53 &  68 & Away    & NA        & NA & 3755 & 2707 & 2002 & 817\\\\\n",
              "\t Western Ill.   & 12/30/2001 &  79 &  84 & Away    & NA        & NA & 1013 &  771 & 2002 & 817\\\\\n",
              "\t Milwaukee      & 01/02/2002 &  55 &  77 & Home    & NA        & NA & 1523 &  797 & 2002 & 817\\\\\n",
              "\t Wright St.     & 01/05/2002 &  87 &  80 & Home    & NA        & NA & 2498 &  810 & 2002 & 817\\\\\n",
              "\t Cleveland St.  & 01/10/2002 &  58 &  71 & Away    & NA        & NA & 2482 &  148 & 2002 & 817\\\\\n",
              "\t Butler         & 01/12/2002 &  50 &  68 & Home    & NA        & NA & 3566 &   87 & 2002 & 817\\\\\n",
              "\t Detroit        & 01/17/2002 &  51 &  66 & Home    & NA        & NA & 2357 &  184 & 2002 & 817\\\\\n",
              "\t Loyola Chicago & 01/19/2002 &  63 &  72 & Away    & NA        & NA & 2437 &  371 & 2002 & 817\\\\\n",
              "\t Ill.-Chicago   & 01/21/2002 &  69 &  85 & Away    & NA        & NA & 1943 &  302 & 2002 & 817\\\\\n",
              "\t Green Bay      & 01/28/2002 &  50 &  53 & Away    & NA        & NA & 2818 &  794 & 2002 & 817\\\\\n",
              "\t Wright St.     & 01/31/2002 &  69 &  76 & Away    & NA        & NA & 4552 &  810 & 2002 & 817\\\\\n",
              "\t Loyola Chicago & 02/02/2002 &  55 &  75 & Home    & NA        & NA & 3070 &  371 & 2002 & 817\\\\\n",
              "\t Ill.-Chicago   & 02/04/2002 &  57 &  63 & Home    & NA        & NA & 1758 &  302 & 2002 & 817\\\\\n",
              "\t Milwaukee      & 02/09/2002 &  76 &  96 & Away    & NA        & NA & 3580 &  797 & 2002 & 817\\\\\n",
              "\t Cleveland St.  & 02/14/2002 &  48 &  58 & Home    & NA        & NA & 4096 &  148 & 2002 & 817\\\\\n",
              "\t Butler         & 02/16/2002 &  50 &  75 & Away    & NA        & NA & 7041 &   87 & 2002 & 817\\\\\n",
              "\t Detroit        & 02/18/2002 &  52 &  63 & Away    & NA        & NA & 2068 &  184 & 2002 & 817\\\\\n",
              "\t Green Bay      & 02/21/2002 &  69 &  55 & Home    & NA        & NA & 2777 &  794 & 2002 & 817\\\\\n",
              "\t IPFW           & 02/23/2002 &  78 &  71 & Home    & NA        & NA & 2722 &  308 & 2002 & 817\\\\\n",
              "\t Green Bay      & 03/01/2002 &  65 &  86 & Neutral & Cleveland & NA & 1976 &  794 & 2002 & 817\\\\\n",
              "\\end{tabular}\n"
            ],
            "text/markdown": [
              "\n",
              "A spec_tbl_df: 27708 × 11\n",
              "\n",
              "| opponent_name &lt;chr&gt; | game_date &lt;chr&gt; | score &lt;dbl&gt; | opponent_score &lt;dbl&gt; | location &lt;chr&gt; | neutral_site_location &lt;chr&gt; | game_length &lt;chr&gt; | attendence &lt;dbl&gt; | opponent_id &lt;dbl&gt; | year &lt;dbl&gt; | school_id &lt;dbl&gt; |\n",
              "|---|---|---|---|---|---|---|---|---|---|---|\n",
              "| Sul Ross St.      | 11/16/2001 |  93 |  59 | Home | NA | NA   |  2041 |  1390 | 2002 | 26172 |\n",
              "| Texas St.         | 11/25/2001 |  89 |  99 | Home | NA | NA   |  1493 |   670 | 2002 | 26172 |\n",
              "| Loyola Chicago    | 11/29/2001 |  66 |  86 | Away | NA | NA   |  1128 |   371 | 2002 | 26172 |\n",
              "| Illinois          | 12/01/2001 |  56 |  80 | Away | NA | NA   | 16500 |   301 | 2002 | 26172 |\n",
              "| Texas             | 12/05/2001 |  64 |  89 | Away | NA | NA   |  6099 |   703 | 2002 | 26172 |\n",
              "| UTEP              | 12/08/2001 |  56 |  82 | Away | NA | NA   |  6203 |   704 | 2002 | 26172 |\n",
              "| Lamar             | 12/15/2001 |  67 |  69 | Home | NA | NA   |  1342 |   346 | 2002 | 26172 |\n",
              "| San Francisco     | 12/18/2001 |  80 |  75 | Home | NA | NA   |  1360 |   629 | 2002 | 26172 |\n",
              "| Denver            | 12/21/2001 |  81 |  79 | Home | NA | NA   |  1415 |   183 | 2002 | 26172 |\n",
              "| Wayland Baptist   | 12/28/2001 |  92 |  83 | Home | NA | NA   |  2096 |    NA | 2002 | 26172 |\n",
              "| Arkansas St.      | 12/29/2001 | 102 |  98 | Home | NA | 2 OT |  1864 |    30 | 2002 | 26172 |\n",
              "| Sacramento St.    | 01/03/2002 |  69 |  82 | Away | NA | NA   |   887 |   102 | 2002 | 26172 |\n",
              "| San Francisco     | 01/05/2002 |  63 |  65 | Away | NA | NA   |  2272 |   629 | 2002 | 26172 |\n",
              "| San Diego St.     | 01/08/2002 |  79 |  82 | Home | NA | NA   |  1357 |   626 | 2002 | 26172 |\n",
              "| Centenary (LA)    | 01/12/2002 |  81 |  80 | Away | NA | NA   |  1864 |   125 | 2002 | 26172 |\n",
              "| UMKC              | 01/14/2002 |  61 |  67 | Away | NA | NA   |  1579 |  2707 | 2002 | 26172 |\n",
              "| Gardner-Webb      | 01/17/2002 |  86 |  78 | Home | NA | NA   |  1720 |  1092 | 2002 | 26172 |\n",
              "| New Orleans       | 01/24/2002 |  68 |  82 | Home | NA | NA   |  1712 |   474 | 2002 | 26172 |\n",
              "| Tex.-Pan American | 01/26/2002 |  87 |  80 | Away | NA | 1 OT |  3875 |   536 | 2002 | 26172 |\n",
              "| Lipscomb          | 01/31/2002 |  79 |  81 | Away | NA | NA   |  1212 | 28600 | 2002 | 26172 |\n",
              "| Gardner-Webb      | 02/02/2002 |  76 |  86 | Away | NA | NA   |  3297 |  1092 | 2002 | 26172 |\n",
              "| Denver            | 02/05/2002 |  68 |  78 | Away | NA | NA   |   538 |   183 | 2002 | 26172 |\n",
              "| Tex.-Pan American | 02/09/2002 | 105 | 110 | Home | NA | NA   |  1250 |   536 | 2002 | 26172 |\n",
              "| Savannah St.      | 02/13/2002 |  77 |  62 | Away | NA | NA   |   197 |   632 | 2002 | 26172 |\n",
              "| Lipscomb          | 02/18/2002 |  75 |  61 | Home | NA | NA   |  1421 | 28600 | 2002 | 26172 |\n",
              "| Centenary (LA)    | 02/23/2002 |  77 |  73 | Home | NA | NA   |  1945 |   125 | 2002 | 26172 |\n",
              "| Savannah St.      | 02/28/2002 |  96 |  66 | Home | NA | NA   |  2031 |   632 | 2002 | 26172 |\n",
              "| Okla. Panhandle   | 11/16/2001 |  92 |  80 | Home | NA | NA   |   864 | 24342 | 2002 |     2 |\n",
              "| St. Edward's      | 11/19/2001 |  59 |  78 | Home | NA | NA   |   875 |  1334 | 2002 |     2 |\n",
              "| Okla. Panhandle   | 11/23/2001 |  53 |  71 | Away | NA | NA   |   250 | 24342 | 2002 |     2 |\n",
              "| ⋮ | ⋮ | ⋮ | ⋮ | ⋮ | ⋮ | ⋮ | ⋮ | ⋮ | ⋮ | ⋮ |\n",
              "| Gallaudet      | 02/19/2002 |  91 |  78 | Home    | NA        | NA |  150 |  245 | 2002 | 815 |\n",
              "| Marymount (VA) | 02/21/2002 | 100 | 103 | Home    | NA        | NA |  350 |  394 | 2002 | 815 |\n",
              "| Evansville     | 11/17/2001 |  64 |  87 | Away    | NA        | NA | 6555 |  219 | 2002 | 817 |\n",
              "| Slippery Rock  | 11/20/2001 |  99 |  67 | Home    | NA        | NA | 1629 |  643 | 2002 | 817 |\n",
              "| DePaul         | 11/25/2001 |  69 | 107 | Away    | NA        | NA | 4724 |  176 | 2002 | 817 |\n",
              "| Valparaiso     | 11/29/2001 |  50 |  80 | Away    | NA        | NA | 4203 |  735 | 2002 | 817 |\n",
              "| Chicago St.    | 12/01/2001 |  72 |  81 | Away    | NA        | NA |  523 |  136 | 2002 | 817 |\n",
              "| Toledo         | 12/08/2001 |  65 |  79 | Away    | NA        | NA | 3716 |  709 | 2002 | 817 |\n",
              "| Kent St.       | 12/15/2001 |  75 |  70 | Home    | NA        | NA | 3168 |  331 | 2002 | 817 |\n",
              "| Robert Morris  | 12/19/2001 |  80 |  87 | Home    | NA        | NA | 1679 |  579 | 2002 | 817 |\n",
              "| UMKC           | 12/22/2001 |  53 |  68 | Away    | NA        | NA | 3755 | 2707 | 2002 | 817 |\n",
              "| Western Ill.   | 12/30/2001 |  79 |  84 | Away    | NA        | NA | 1013 |  771 | 2002 | 817 |\n",
              "| Milwaukee      | 01/02/2002 |  55 |  77 | Home    | NA        | NA | 1523 |  797 | 2002 | 817 |\n",
              "| Wright St.     | 01/05/2002 |  87 |  80 | Home    | NA        | NA | 2498 |  810 | 2002 | 817 |\n",
              "| Cleveland St.  | 01/10/2002 |  58 |  71 | Away    | NA        | NA | 2482 |  148 | 2002 | 817 |\n",
              "| Butler         | 01/12/2002 |  50 |  68 | Home    | NA        | NA | 3566 |   87 | 2002 | 817 |\n",
              "| Detroit        | 01/17/2002 |  51 |  66 | Home    | NA        | NA | 2357 |  184 | 2002 | 817 |\n",
              "| Loyola Chicago | 01/19/2002 |  63 |  72 | Away    | NA        | NA | 2437 |  371 | 2002 | 817 |\n",
              "| Ill.-Chicago   | 01/21/2002 |  69 |  85 | Away    | NA        | NA | 1943 |  302 | 2002 | 817 |\n",
              "| Green Bay      | 01/28/2002 |  50 |  53 | Away    | NA        | NA | 2818 |  794 | 2002 | 817 |\n",
              "| Wright St.     | 01/31/2002 |  69 |  76 | Away    | NA        | NA | 4552 |  810 | 2002 | 817 |\n",
              "| Loyola Chicago | 02/02/2002 |  55 |  75 | Home    | NA        | NA | 3070 |  371 | 2002 | 817 |\n",
              "| Ill.-Chicago   | 02/04/2002 |  57 |  63 | Home    | NA        | NA | 1758 |  302 | 2002 | 817 |\n",
              "| Milwaukee      | 02/09/2002 |  76 |  96 | Away    | NA        | NA | 3580 |  797 | 2002 | 817 |\n",
              "| Cleveland St.  | 02/14/2002 |  48 |  58 | Home    | NA        | NA | 4096 |  148 | 2002 | 817 |\n",
              "| Butler         | 02/16/2002 |  50 |  75 | Away    | NA        | NA | 7041 |   87 | 2002 | 817 |\n",
              "| Detroit        | 02/18/2002 |  52 |  63 | Away    | NA        | NA | 2068 |  184 | 2002 | 817 |\n",
              "| Green Bay      | 02/21/2002 |  69 |  55 | Home    | NA        | NA | 2777 |  794 | 2002 | 817 |\n",
              "| IPFW           | 02/23/2002 |  78 |  71 | Home    | NA        | NA | 2722 |  308 | 2002 | 817 |\n",
              "| Green Bay      | 03/01/2002 |  65 |  86 | Neutral | Cleveland | NA | 1976 |  794 | 2002 | 817 |\n",
              "\n"
            ],
            "text/plain": [
              "      opponent_name     game_date  score opponent_score location\n",
              "1     Sul Ross St.      11/16/2001  93    59            Home    \n",
              "2     Texas St.         11/25/2001  89    99            Home    \n",
              "3     Loyola Chicago    11/29/2001  66    86            Away    \n",
              "4     Illinois          12/01/2001  56    80            Away    \n",
              "5     Texas             12/05/2001  64    89            Away    \n",
              "6     UTEP              12/08/2001  56    82            Away    \n",
              "7     Lamar             12/15/2001  67    69            Home    \n",
              "8     San Francisco     12/18/2001  80    75            Home    \n",
              "9     Denver            12/21/2001  81    79            Home    \n",
              "10    Wayland Baptist   12/28/2001  92    83            Home    \n",
              "11    Arkansas St.      12/29/2001 102    98            Home    \n",
              "12    Sacramento St.    01/03/2002  69    82            Away    \n",
              "13    San Francisco     01/05/2002  63    65            Away    \n",
              "14    San Diego St.     01/08/2002  79    82            Home    \n",
              "15    Centenary (LA)    01/12/2002  81    80            Away    \n",
              "16    UMKC              01/14/2002  61    67            Away    \n",
              "17    Gardner-Webb      01/17/2002  86    78            Home    \n",
              "18    New Orleans       01/24/2002  68    82            Home    \n",
              "19    Tex.-Pan American 01/26/2002  87    80            Away    \n",
              "20    Lipscomb          01/31/2002  79    81            Away    \n",
              "21    Gardner-Webb      02/02/2002  76    86            Away    \n",
              "22    Denver            02/05/2002  68    78            Away    \n",
              "23    Tex.-Pan American 02/09/2002 105   110            Home    \n",
              "24    Savannah St.      02/13/2002  77    62            Away    \n",
              "25    Lipscomb          02/18/2002  75    61            Home    \n",
              "26    Centenary (LA)    02/23/2002  77    73            Home    \n",
              "27    Savannah St.      02/28/2002  96    66            Home    \n",
              "28    Okla. Panhandle   11/16/2001  92    80            Home    \n",
              "29    St. Edward's      11/19/2001  59    78            Home    \n",
              "30    Okla. Panhandle   11/23/2001  53    71            Away    \n",
              "⋮     ⋮                 ⋮          ⋮     ⋮              ⋮       \n",
              "27679 Gallaudet         02/19/2002  91    78            Home    \n",
              "27680 Marymount (VA)    02/21/2002 100   103            Home    \n",
              "27681 Evansville        11/17/2001  64    87            Away    \n",
              "27682 Slippery Rock     11/20/2001  99    67            Home    \n",
              "27683 DePaul            11/25/2001  69   107            Away    \n",
              "27684 Valparaiso        11/29/2001  50    80            Away    \n",
              "27685 Chicago St.       12/01/2001  72    81            Away    \n",
              "27686 Toledo            12/08/2001  65    79            Away    \n",
              "27687 Kent St.          12/15/2001  75    70            Home    \n",
              "27688 Robert Morris     12/19/2001  80    87            Home    \n",
              "27689 UMKC              12/22/2001  53    68            Away    \n",
              "27690 Western Ill.      12/30/2001  79    84            Away    \n",
              "27691 Milwaukee         01/02/2002  55    77            Home    \n",
              "27692 Wright St.        01/05/2002  87    80            Home    \n",
              "27693 Cleveland St.     01/10/2002  58    71            Away    \n",
              "27694 Butler            01/12/2002  50    68            Home    \n",
              "27695 Detroit           01/17/2002  51    66            Home    \n",
              "27696 Loyola Chicago    01/19/2002  63    72            Away    \n",
              "27697 Ill.-Chicago      01/21/2002  69    85            Away    \n",
              "27698 Green Bay         01/28/2002  50    53            Away    \n",
              "27699 Wright St.        01/31/2002  69    76            Away    \n",
              "27700 Loyola Chicago    02/02/2002  55    75            Home    \n",
              "27701 Ill.-Chicago      02/04/2002  57    63            Home    \n",
              "27702 Milwaukee         02/09/2002  76    96            Away    \n",
              "27703 Cleveland St.     02/14/2002  48    58            Home    \n",
              "27704 Butler            02/16/2002  50    75            Away    \n",
              "27705 Detroit           02/18/2002  52    63            Away    \n",
              "27706 Green Bay         02/21/2002  69    55            Home    \n",
              "27707 IPFW              02/23/2002  78    71            Home    \n",
              "27708 Green Bay         03/01/2002  65    86            Neutral \n",
              "      neutral_site_location game_length attendence opponent_id year school_id\n",
              "1     NA                    NA           2041       1390       2002 26172    \n",
              "2     NA                    NA           1493        670       2002 26172    \n",
              "3     NA                    NA           1128        371       2002 26172    \n",
              "4     NA                    NA          16500        301       2002 26172    \n",
              "5     NA                    NA           6099        703       2002 26172    \n",
              "6     NA                    NA           6203        704       2002 26172    \n",
              "7     NA                    NA           1342        346       2002 26172    \n",
              "8     NA                    NA           1360        629       2002 26172    \n",
              "9     NA                    NA           1415        183       2002 26172    \n",
              "10    NA                    NA           2096         NA       2002 26172    \n",
              "11    NA                    2 OT         1864         30       2002 26172    \n",
              "12    NA                    NA            887        102       2002 26172    \n",
              "13    NA                    NA           2272        629       2002 26172    \n",
              "14    NA                    NA           1357        626       2002 26172    \n",
              "15    NA                    NA           1864        125       2002 26172    \n",
              "16    NA                    NA           1579       2707       2002 26172    \n",
              "17    NA                    NA           1720       1092       2002 26172    \n",
              "18    NA                    NA           1712        474       2002 26172    \n",
              "19    NA                    1 OT         3875        536       2002 26172    \n",
              "20    NA                    NA           1212      28600       2002 26172    \n",
              "21    NA                    NA           3297       1092       2002 26172    \n",
              "22    NA                    NA            538        183       2002 26172    \n",
              "23    NA                    NA           1250        536       2002 26172    \n",
              "24    NA                    NA            197        632       2002 26172    \n",
              "25    NA                    NA           1421      28600       2002 26172    \n",
              "26    NA                    NA           1945        125       2002 26172    \n",
              "27    NA                    NA           2031        632       2002 26172    \n",
              "28    NA                    NA            864      24342       2002     2    \n",
              "29    NA                    NA            875       1334       2002     2    \n",
              "30    NA                    NA            250      24342       2002     2    \n",
              "⋮     ⋮                     ⋮           ⋮          ⋮           ⋮    ⋮        \n",
              "27679 NA                    NA           150        245        2002 815      \n",
              "27680 NA                    NA           350        394        2002 815      \n",
              "27681 NA                    NA          6555        219        2002 817      \n",
              "27682 NA                    NA          1629        643        2002 817      \n",
              "27683 NA                    NA          4724        176        2002 817      \n",
              "27684 NA                    NA          4203        735        2002 817      \n",
              "27685 NA                    NA           523        136        2002 817      \n",
              "27686 NA                    NA          3716        709        2002 817      \n",
              "27687 NA                    NA          3168        331        2002 817      \n",
              "27688 NA                    NA          1679        579        2002 817      \n",
              "27689 NA                    NA          3755       2707        2002 817      \n",
              "27690 NA                    NA          1013        771        2002 817      \n",
              "27691 NA                    NA          1523        797        2002 817      \n",
              "27692 NA                    NA          2498        810        2002 817      \n",
              "27693 NA                    NA          2482        148        2002 817      \n",
              "27694 NA                    NA          3566         87        2002 817      \n",
              "27695 NA                    NA          2357        184        2002 817      \n",
              "27696 NA                    NA          2437        371        2002 817      \n",
              "27697 NA                    NA          1943        302        2002 817      \n",
              "27698 NA                    NA          2818        794        2002 817      \n",
              "27699 NA                    NA          4552        810        2002 817      \n",
              "27700 NA                    NA          3070        371        2002 817      \n",
              "27701 NA                    NA          1758        302        2002 817      \n",
              "27702 NA                    NA          3580        797        2002 817      \n",
              "27703 NA                    NA          4096        148        2002 817      \n",
              "27704 NA                    NA          7041         87        2002 817      \n",
              "27705 NA                    NA          2068        184        2002 817      \n",
              "27706 NA                    NA          2777        794        2002 817      \n",
              "27707 NA                    NA          2722        308        2002 817      \n",
              "27708 Cleveland             NA          1976        794        2002 817      "
            ]
          },
          "metadata": {},
          "output_type": "display_data"
        }
      ],
      "source": [
        "u <- \"https://datasets.stats306.org/ncaa/ncaa_games_2002.csv.gz\"  # contains data for 2002-2019\n",
        "read_csv(u)"
      ]
    },
    {
      "cell_type": "markdown",
      "metadata": {
        "id": "DvKMHEC9Rnxr"
      },
      "source": [
        "Let's think about how we could combine these data into one big table for further analysis. First, we'll use a for loop and bind_rows:"
      ]
    },
    {
      "cell_type": "code",
      "execution_count": null,
      "metadata": {
        "id": "9MORta11Rnxr"
      },
      "outputs": [],
      "source": [
        "# for loop way"
      ]
    },
    {
      "cell_type": "markdown",
      "metadata": {
        "id": "ymgS95qDRnxr"
      },
      "source": [
        "Next, we will use map and list_rbind:"
      ]
    },
    {
      "cell_type": "code",
      "execution_count": null,
      "metadata": {
        "id": "9NtSgruoRnxr"
      },
      "outputs": [],
      "source": [
        "# map way"
      ]
    },
    {
      "cell_type": "markdown",
      "source": [
        "Now we will simply further using map_dfr"
      ],
      "metadata": {
        "id": "l06xuZV7mjJr"
      }
    },
    {
      "cell_type": "code",
      "source": [
        "# map_dfr\n"
      ],
      "metadata": {
        "id": "b_68atTommjg"
      },
      "execution_count": null,
      "outputs": []
    },
    {
      "cell_type": "markdown",
      "metadata": {
        "id": "2Okkp3crRnxs"
      },
      "source": [
        "Do you find the `map()` way easier to use? Easier to read? More enjoyable to write? (Hopefully at least one of the three.)"
      ]
    },
    {
      "cell_type": "markdown",
      "metadata": {
        "id": "yV-CdS2c1lfA"
      },
      "source": [
        "## `while`\n",
        "\n",
        "The last kind of loop we will consider is `while()`. \n",
        "\n",
        "A while statement can be useful when you aren’t sure how many iterations are needed. This happens sometimes in statistics or data science when you are simulating a random quantity. \n",
        "\n",
        "Here is an example that takes a random walk and terminates if the value is more than 10 units from 0."
      ]
    },
    {
      "cell_type": "markdown",
      "metadata": {
        "id": "jY5oCVr3Rnxs"
      },
      "source": [
        "## Example: random walk\n",
        "A random walk is a "
      ]
    },
    {
      "cell_type": "code",
      "execution_count": null,
      "metadata": {
        "colab": {
          "base_uri": "https://localhost:8080/",
          "height": 437
        },
        "id": "gQKfbPfE1lfB",
        "outputId": "cf29b403-28e2-47ec-c286-a0173b4af1e5"
      },
      "outputs": [
        {
          "data": {
            "image/png": "[encoded data removed]",
            "text/plain": [
              "plot without title"
            ]
          },
          "metadata": {
            "image/png": {
              "height": 420,
              "width": 420
            }
          },
          "output_type": "display_data"
        }
      ],
      "source": [
        "maxIter = 1e3 # always limit the total iterations allowed\n",
        "val = vector(mode = 'numeric', length = maxIter)\n",
        "val[1] = rnorm(1) ## initialize\n",
        "\n",
        "k = 1\n",
        "while (abs(val[k]) < 10 && k <= maxIter) {\n",
        "  val[k + 1] = val[k] + rnorm(1)\n",
        "  k = k + 1\n",
        "}\n",
        "val = val[1:k-1]\n",
        "\n",
        "plot(val, type = 'l')"
      ]
    },
    {
      "cell_type": "markdown",
      "metadata": {
        "id": "9ahuf46D1lfB"
      },
      "source": [
        "#### key words\n",
        "The following key words are useful within loops:\n",
        "\n",
        "- break - break out of the currently executing loop\n",
        "- next - move to the next iteration immediately, without executing the rest of this iteration (continue in other languages such as C++)\n",
        "\n",
        "Here is an example using next:\n",
        "\n"
      ]
    },
    {
      "cell_type": "code",
      "execution_count": null,
      "metadata": {
        "id": "jfwvQ6XI1lfC",
        "outputId": "5d3ff682-86a2-4178-d9aa-f7fa33c04920"
      },
      "outputs": [
        {
          "name": "stdout",
          "output_type": "stream",
          "text": [
            "1 \n",
            "3 \n",
            "5 \n",
            "7 \n",
            "9 \n"
          ]
        }
      ],
      "source": [
        "for ( i in 1:10 ) {\n",
        "  if (i %% 2 == 0) next\n",
        "  cat(i,'\\n')\n",
        "}"
      ]
    },
    {
      "cell_type": "markdown",
      "metadata": {
        "id": "IX8vabsh1lfC"
      },
      "source": [
        "## Conditional execution\n",
        "\n",
        "Often when writing functions we need to do different things depending on what data is passed in. This is known as conditional execution, and is accomplished using the if and/or else construct:\n",
        "\n",
        "```\n",
        "if (condition) {\n",
        "  # code executed when condition is TRUE\n",
        "} else {\n",
        "  # code executed when condition is FALSE\n",
        "}\n",
        "```\n",
        "\n"
      ]
    },
    {
      "cell_type": "markdown",
      "metadata": {
        "id": "UE6q3f6y1lfD"
      },
      "source": [
        "#### if statements\n",
        "\n",
        "The workhorse for conditional execution in `R` is the if statement.\n",
        "In the syntax below, note the spacing around the condition enclosed in the parentheses."
      ]
    },
    {
      "cell_type": "code",
      "execution_count": null,
      "metadata": {
        "colab": {
          "base_uri": "https://localhost:8080/"
        },
        "id": "wSFPNGnE1lfE",
        "outputId": "b7649fb0-bf25-4ba4-acd0-898375df078a"
      },
      "outputs": [
        {
          "name": "stdout",
          "output_type": "stream",
          "text": [
            "[1] \"do something if true\"\n"
          ]
        }
      ],
      "source": [
        "if ( TRUE ) {  # this condition is hard-coded to TRUE and will also execute the if-block\n",
        "  print('do something if true')\n",
        "}"
      ]
    },
    {
      "cell_type": "markdown",
      "metadata": {
        "id": "gBXuD_Nw1lfE"
      },
      "source": [
        "## Optional `else` block\n",
        "\n",
        "Use an else to control the flow without separately checking the condition’s negation:\n",
        "\n"
      ]
    },
    {
      "cell_type": "code",
      "execution_count": null,
      "metadata": {
        "colab": {
          "base_uri": "https://localhost:8080/"
        },
        "id": "OrzGXaXz1lfF",
        "outputId": "07fa56b0-5319-4d5d-f5e8-ecdab1b409c8"
      },
      "outputs": [
        {
          "name": "stdout",
          "output_type": "stream",
          "text": [
            "[1] \"the statement is false\"\n"
          ]
        }
      ],
      "source": [
        "if ((2 + 2) == 5 ) {\n",
        "  print('the statement is true')\n",
        "} else {\n",
        "  print('the statement is false')\n",
        "}"
      ]
    },
    {
      "cell_type": "markdown",
      "metadata": {
        "id": "KcXPZoVbbZ96"
      },
      "source": [
        "### `ifelse` function\n",
        "\n",
        "ifelse() is a function that takes three vector arguments and returns a new vector. As you can see this is not the same as above"
      ]
    },
    {
      "cell_type": "code",
      "execution_count": null,
      "metadata": {
        "colab": {
          "base_uri": "https://localhost:8080/",
          "height": 34
        },
        "id": "F2oGqHgo1lfF",
        "outputId": "509215c5-be2f-42e7-9db9-014362570af8"
      },
      "outputs": [
        {
          "data": {
            "text/html": [
              "<style>\n",
              ".list-inline {list-style: none; margin:0; padding: 0}\n",
              ".list-inline>li {display: inline-block}\n",
              ".list-inline>li:not(:last-child)::after {content: \"\\00b7\"; padding: 0 .5ex}\n",
              "</style>\n",
              "<ol class=list-inline><li>'small'</li><li>'small'</li><li>'small'</li><li>'large'</li><li>'large'</li></ol>\n"
            ],
            "text/latex": [
              "\\begin{enumerate*}\n",
              "\\item 'small'\n",
              "\\item 'small'\n",
              "\\item 'small'\n",
              "\\item 'large'\n",
              "\\item 'large'\n",
              "\\end{enumerate*}\n"
            ],
            "text/markdown": [
              "1. 'small'\n",
              "2. 'small'\n",
              "3. 'small'\n",
              "4. 'large'\n",
              "5. 'large'\n",
              "\n",
              "\n"
            ],
            "text/plain": [
              "[1] \"small\" \"small\" \"small\" \"large\" \"large\""
            ]
          },
          "metadata": {},
          "output_type": "display_data"
        }
      ],
      "source": [
        "# Define a vector\n",
        "x <- c(1, 2, 3, 4, 5)\n",
        "\n",
        "# Use ifelse to create a new vector\n",
        "y <- ifelse(x > 3, \"large\", \"small\")\n",
        "\n",
        "y"
      ]
    },
    {
      "cell_type": "markdown",
      "metadata": {
        "id": "QNL14LdgZdAo"
      },
      "source": [
        "# What about if_else?\n",
        "\n",
        "`if_else` comes from dplyr and works the same as ifelse except the output from the if_else should be of the same type"
      ]
    },
    {
      "cell_type": "code",
      "execution_count": null,
      "metadata": {
        "colab": {
          "base_uri": "https://localhost:8080/",
          "height": 617
        },
        "id": "CjMS7Jr-ZotZ",
        "outputId": "1ce76824-8aca-49ae-f898-0152d0d07656"
      },
      "outputs": [
        {
          "ename": "ERROR",
          "evalue": "ignored",
          "output_type": "error",
          "traceback": [
            "\u001b[1m\u001b[33mError\u001b[39m in `if_else()`:\u001b[22m\n\u001b[33m!\u001b[39m Can't combine `true` <character> and `false` <double>.\nTraceback:\n",
            "1. if_else(x > 3, \"large\", 10)",
            "2. vec_case_when(conditions = conditions, values = values, conditions_arg = \"\", \n .     values_arg = \"\", default = missing, default_arg = \"missing\", \n .     ptype = ptype, size = size, call = current_env())",
            "3. vec_ptype_common(!!!everything, .ptype = ptype, .call = call)",
            "4. (function () \n . vec_default_ptype2(x = x, y = y, x_arg = x_arg, y_arg = y_arg, \n .     call = call, `vctrs:::from_dispatch` = `vctrs:::from_dispatch`, \n .     `vctrs:::s3_fallback` = `vctrs:::s3_fallback`))()",
            "5. vec_default_ptype2(x = x, y = y, x_arg = x_arg, y_arg = y_arg, \n .     call = call, `vctrs:::from_dispatch` = `vctrs:::from_dispatch`, \n .     `vctrs:::s3_fallback` = `vctrs:::s3_fallback`)",
            "6. withRestarts(stop_incompatible_type(x, y, x_arg = x_arg, y_arg = y_arg, \n .     `vctrs:::from_dispatch` = match_from_dispatch(...), call = call), \n .     vctrs_restart_ptype2 = function(ptype) {\n .         ptype\n .     })",
            "7. withOneRestart(expr, restarts[[1L]])",
            "8. doWithOneRestart(return(expr), restart)",
            "9. stop_incompatible_type(x, y, x_arg = x_arg, y_arg = y_arg, `vctrs:::from_dispatch` = match_from_dispatch(...), \n .     call = call)",
            "10. stop_incompatible(x, y, x_arg = x_arg, y_arg = y_arg, details = details, \n  .     ..., message = message, class = c(class, subclass, \"vctrs_error_incompatible_type\"), \n  .     call = call)",
            "11. stop_vctrs(message, class = c(class, \"vctrs_error_incompatible\"), \n  .     x = x, y = y, details = details, ..., call = call)",
            "12. abort(message, class = c(class, \"vctrs_error\"), ..., call = vctrs_error_call(call))",
            "13. signal_abort(cnd, .file)"
          ]
        }
      ],
      "source": [
        "y <- if_else(x > 3, \"large\", 10)\n",
        "y"
      ]
    },
    {
      "cell_type": "markdown",
      "metadata": {
        "id": "OMv0zdAYZ56b"
      },
      "source": [
        "### if-else chain\n",
        "\n",
        "For more complex cases, you may want to check multiple conditions:"
      ]
    },
    {
      "cell_type": "code",
      "execution_count": null,
      "metadata": {
        "id": "oBYAergA1lfG",
        "outputId": "e08ae221-4884-4536-de54-8a871c4bde2e"
      },
      "outputs": [
        {
          "data": {
            "text/html": [
              "<style>\n",
              ".list-inline {list-style: none; margin:0; padding: 0}\n",
              ".list-inline>li {display: inline-block}\n",
              ".list-inline>li:not(:last-child)::after {content: \"\\00b7\"; padding: 0 .5ex}\n",
              "</style>\n",
              "<ol class=list-inline><li>-1</li><li>1</li></ol>\n"
            ],
            "text/latex": [
              "\\begin{enumerate*}\n",
              "\\item -1\n",
              "\\item 1\n",
              "\\end{enumerate*}\n"
            ],
            "text/markdown": [
              "1. -1\n",
              "2. 1\n",
              "\n",
              "\n"
            ],
            "text/plain": [
              "[1] -1  1"
            ]
          },
          "metadata": {},
          "output_type": "display_data"
        }
      ],
      "source": [
        "a = -1\n",
        "b = 1\n",
        "\n",
        "if (a * b > 0) {\n",
        "  print('Zero is not between a and b')\n",
        "} else if ( a < b ) {\n",
        "    smaller = a\n",
        "    larger = b\n",
        "} else {\n",
        "    smaller = b\n",
        "    larger  = a\n",
        "}\n",
        "\n",
        "c(smaller, larger)"
      ]
    }
  ],
  "metadata": {
    "celltoolbar": "Slideshow",
    "colab": {
      "provenance": []
    },
    "kernelspec": {
      "display_name": "R",
      "language": "R",
      "name": "ir"
    },
    "language_info": {
      "codemirror_mode": "r",
      "file_extension": ".r",
      "mimetype": "text/x-r-source",
      "name": "R",
      "pygments_lexer": "r",
      "version": "4.2.1"
    }
  },
  "nbformat": 4,
  "nbformat_minor": 0
}