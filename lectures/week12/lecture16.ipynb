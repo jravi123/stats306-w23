{
 "cells": [
  {
   "cell_type": "markdown",
   "metadata": {
    "id": "XlOf9RFL1GTi"
   },
   "source": [
    "# Lecture 16: Writing Functions in R\n",
    "<div style=\"border: 1px double black; padding: 10px; margin: 10px\">\n",
    "\n",
    "**After today's lecture you will understand:**\n",
    "* How to write functions in R\n",
    "</div>\n",
    "\n",
    "These notes correspond to Chapter 26 of the book.\n",
    "\n",
    "\n",
    "\n"
   ]
  },
  {
   "cell_type": "code",
   "execution_count": 1,
   "metadata": {
    "colab": {
     "base_uri": "https://localhost:8080/"
    },
    "executionInfo": {
     "elapsed": 82325,
     "status": "ok",
     "timestamp": 1679146839604,
     "user": {
      "displayName": "Jayashree Ravi",
      "userId": "06933604785290521829"
     },
     "user_tz": 240
    },
    "id": "LNaTvkfD1GTn",
    "outputId": "d63b4993-b83d-4b84-ac17-4d579711cf0c"
   },
   "outputs": [
    {
     "name": "stderr",
     "output_type": "stream",
     "text": [
      "Warning message in system(\"timedatectl\", intern = TRUE):\n",
      "“running command 'timedatectl' had status 1”\n",
      "── \u001b[1mAttaching packages\u001b[22m ─────────────────────────────────────── tidyverse 1.3.1 ──\n",
      "\n",
      "\u001b[32m✔\u001b[39m \u001b[34mggplot2\u001b[39m 3.4.1     \u001b[32m✔\u001b[39m \u001b[34mpurrr  \u001b[39m 1.0.1\n",
      "\u001b[32m✔\u001b[39m \u001b[34mtibble \u001b[39m 3.2.0     \u001b[32m✔\u001b[39m \u001b[34mdplyr  \u001b[39m 1.1.0\n",
      "\u001b[32m✔\u001b[39m \u001b[34mtidyr  \u001b[39m 1.3.0     \u001b[32m✔\u001b[39m \u001b[34mstringr\u001b[39m 1.4.1\n",
      "\u001b[32m✔\u001b[39m \u001b[34mreadr  \u001b[39m 2.1.4     \u001b[32m✔\u001b[39m \u001b[34mforcats\u001b[39m 1.0.0\n",
      "\n",
      "── \u001b[1mConflicts\u001b[22m ────────────────────────────────────────── tidyverse_conflicts() ──\n",
      "\u001b[31m✖\u001b[39m \u001b[34mdplyr\u001b[39m::\u001b[32mfilter()\u001b[39m masks \u001b[34mstats\u001b[39m::filter()\n",
      "\u001b[31m✖\u001b[39m \u001b[34mdplyr\u001b[39m::\u001b[32mlag()\u001b[39m    masks \u001b[34mstats\u001b[39m::lag()\n",
      "\n",
      "Downloading GitHub repo bradleyboehmke/harrypotter@HEAD\n",
      "\n"
     ]
    },
    {
     "name": "stdout",
     "output_type": "stream",
     "text": [
      "\u001b[36m──\u001b[39m \u001b[36mR CMD build\u001b[39m \u001b[36m─────────────────────────────────────────────────────────────────\u001b[39m\n",
      "* checking for file ‘/tmp/RtmpXRCotN/remotes46c5249d3e8/bradleyboehmke-harrypotter-51f7146/DESCRIPTION’ ... OK\n",
      "* preparing ‘harrypotter’:\n",
      "* checking DESCRIPTION meta-information ... OK\n",
      "* checking for LF line-endings in source and make files and shell scripts\n",
      "* checking for empty or unneeded directories\n",
      "* building ‘harrypotter_0.1.0.tar.gz’\n",
      "\n"
     ]
    },
    {
     "name": "stderr",
     "output_type": "stream",
     "text": [
      "Installing package into ‘/usr/local/lib/R/site-library’\n",
      "(as ‘lib’ is unspecified)\n",
      "\n",
      "Installing package into ‘/usr/local/lib/R/site-library’\n",
      "(as ‘lib’ is unspecified)\n",
      "\n",
      "also installing the dependencies ‘Rcpp’, ‘SnowballC’, ‘janeaustenr’, ‘tokenizers’\n",
      "\n",
      "\n"
     ]
    }
   ],
   "source": [
    "library(tidyverse)\n",
    "remotes::install_github(\"bradleyboehmke/harrypotter\")\n",
    "install.packages(\"tidytext\")\n",
    "library(harrypotter)\n",
    "library(tidytext)"
   ]
  },
  {
   "cell_type": "markdown",
   "metadata": {
    "id": "xJgocmutIfof",
    "slideshow": {
     "slide_type": "notes"
    }
   },
   "source": [
    "# Function\n",
    "This lecture will be about writing our own functions. \n",
    "- Functions are not new to us; we have been using them since the very first lecture.\n",
    "- `print`, `filter`, `mutate`, `summarize`, `tibble`, etc.: all are functions."
   ]
  },
  {
   "cell_type": "code",
   "execution_count": 1,
   "metadata": {
    "slideshow": {
     "slide_type": "slide"
    }
   },
   "outputs": [
    {
     "data": {
      "text/html": [
       "'function'"
      ],
      "text/latex": [
       "'function'"
      ],
      "text/markdown": [
       "'function'"
      ],
      "text/plain": [
       "[1] \"function\""
      ]
     },
     "metadata": {},
     "output_type": "display_data"
    }
   ],
   "source": [
    "class(filter)"
   ]
  },
  {
   "cell_type": "markdown",
   "metadata": {
    "id": "GjeuBDWQ7ubr",
    "slideshow": {
     "slide_type": "notes"
    }
   },
   "source": [
    "### Why write out own functions??\n",
    "\n",
    "Often when programming we find ourselves repeating the same block of code with minor modifications. \n",
    "\n",
    "Did you encounter this situation in your HW7 when you applied the same logic again and again, while deriving the sentiment score for all the Harry Potter books??\n",
    "\n",
    "That is precisely when a function is defined to save ourselves from repetition!\n",
    "\n",
    "Let us start with simple examples. When building machine learning models (which you will learn next week) it is common practice to normalize all the columns values to the same scale; typically between 0 and 1. Let us take the `mpg` dataset and see its current min and max values:"
   ]
  },
  {
   "cell_type": "code",
   "execution_count": 17,
   "metadata": {
    "colab": {
     "base_uri": "https://localhost:8080/",
     "height": 34
    },
    "executionInfo": {
     "elapsed": 139,
     "status": "ok",
     "timestamp": 1679148438050,
     "user": {
      "displayName": "Jayashree Ravi",
      "userId": "06933604785290521829"
     },
     "user_tz": 240
    },
    "id": "ZwBcWuaSC65I",
    "outputId": "ca421d71-071a-4d06-ca3b-e94fb7271aa6",
    "slideshow": {
     "slide_type": "notes"
    }
   },
   "outputs": [
    {
     "data": {
      "text/html": [
       "<style>\n",
       ".list-inline {list-style: none; margin:0; padding: 0}\n",
       ".list-inline>li {display: inline-block}\n",
       ".list-inline>li:not(:last-child)::after {content: \"\\00b7\"; padding: 0 .5ex}\n",
       "</style>\n",
       "<ol class=list-inline><li>12</li><li>44</li></ol>\n"
      ],
      "text/latex": [
       "\\begin{enumerate*}\n",
       "\\item 12\n",
       "\\item 44\n",
       "\\end{enumerate*}\n"
      ],
      "text/markdown": [
       "1. 12\n",
       "2. 44\n",
       "\n",
       "\n"
      ],
      "text/plain": [
       "[1] 12 44"
      ]
     },
     "metadata": {},
     "output_type": "display_data"
    }
   ],
   "source": [
    "mpg$hwy %>% range"
   ]
  },
  {
   "cell_type": "markdown",
   "metadata": {
    "id": "tZi8Sl3BDGrg",
    "slideshow": {
     "slide_type": "slide"
    }
   },
   "source": [
    "Let us now normalize it:"
   ]
  },
  {
   "cell_type": "code",
   "execution_count": 18,
   "metadata": {
    "colab": {
     "base_uri": "https://localhost:8080/",
     "height": 34
    },
    "executionInfo": {
     "elapsed": 125,
     "status": "ok",
     "timestamp": 1679148490706,
     "user": {
      "displayName": "Jayashree Ravi",
      "userId": "06933604785290521829"
     },
     "user_tz": 240
    },
    "id": "IbO0bI637vLy",
    "outputId": "f25f6600-c37a-4c5f-9c99-8ae34a8eb6af"
   },
   "outputs": [
    {
     "data": {
      "text/html": [
       "<style>\n",
       ".list-inline {list-style: none; margin:0; padding: 0}\n",
       ".list-inline>li {display: inline-block}\n",
       ".list-inline>li:not(:last-child)::after {content: \"\\00b7\"; padding: 0 .5ex}\n",
       "</style>\n",
       "<ol class=list-inline><li>0</li><li>1</li></ol>\n"
      ],
      "text/latex": [
       "\\begin{enumerate*}\n",
       "\\item 0\n",
       "\\item 1\n",
       "\\end{enumerate*}\n"
      ],
      "text/markdown": [
       "1. 0\n",
       "2. 1\n",
       "\n",
       "\n"
      ],
      "text/plain": [
       "[1] 0 1"
      ]
     },
     "metadata": {},
     "output_type": "display_data"
    }
   ],
   "source": [
    "hwy_a <- (mpg$hwy - min(mpg$hwy, na.rm = TRUE)) / (max(mpg$hwy, na.rm = TRUE) - min(mpg$hwy, na.rm = TRUE))\n",
    "hwy_a %>% range"
   ]
  },
  {
   "cell_type": "markdown",
   "metadata": {
    "id": "d39irSk0DU7K",
    "slideshow": {
     "slide_type": "notes"
    }
   },
   "source": [
    "We need to do the exact same for all columns; to begin with let us do for all numerical columns. And it is easy to copy and paste the same code from above and change the variable names"
   ]
  },
  {
   "cell_type": "code",
   "execution_count": 25,
   "metadata": {
    "colab": {
     "base_uri": "https://localhost:8080/",
     "height": 34
    },
    "executionInfo": {
     "elapsed": 162,
     "status": "ok",
     "timestamp": 1679148680345,
     "user": {
      "displayName": "Jayashree Ravi",
      "userId": "06933604785290521829"
     },
     "user_tz": 240
    },
    "id": "55332GY1Dk5k",
    "outputId": "e7c2c1da-c10a-4ccf-d8b7-ec78fe88d17d",
    "slideshow": {
     "slide_type": "slide"
    }
   },
   "outputs": [
    {
     "data": {
      "text/html": [
       "<style>\n",
       ".list-inline {list-style: none; margin:0; padding: 0}\n",
       ".list-inline>li {display: inline-block}\n",
       ".list-inline>li:not(:last-child)::after {content: \"\\00b7\"; padding: 0 .5ex}\n",
       "</style>\n",
       "<ol class=list-inline><li>0</li><li>1.1304347826087</li></ol>\n"
      ],
      "text/latex": [
       "\\begin{enumerate*}\n",
       "\\item 0\n",
       "\\item 1.1304347826087\n",
       "\\end{enumerate*}\n"
      ],
      "text/markdown": [
       "1. 0\n",
       "2. 1.1304347826087\n",
       "\n",
       "\n"
      ],
      "text/plain": [
       "[1] 0.000000 1.130435"
      ]
     },
     "metadata": {},
     "output_type": "display_data"
    }
   ],
   "source": [
    "cty_a <- (mpg$cty - min(mpg$cty, na.rm = TRUE)) / (max(mpg$cty, na.rm = TRUE) - min(mpg$hwy, na.rm = TRUE))\n",
    "cty_a %>% range"
   ]
  },
  {
   "cell_type": "markdown",
   "metadata": {
    "id": "9Xgz9o_wD5wP",
    "slideshow": {
     "slide_type": "slide"
    }
   },
   "source": [
    "## 🤔 Quiz\n",
    "\n",
    "Why is the range not showing a maximum of 1?\n",
    "\n",
    "&nbsp;A. For the `cty` values it cannot have a maximum value of 1<br/>\n",
    "&nbsp;B. The numerator should use `max` function<br/>\n",
    "&nbsp;C. Copy-paste led to making an accidental mistake in the formula.<br/>"
   ]
  },
  {
   "cell_type": "markdown",
   "metadata": {
    "id": "-phP4EpQFT3l",
    "slideshow": {
     "slide_type": "slide"
    }
   },
   "source": [
    "We still need to do the exact same procedure for all other columns as well and so intead of repeating ourselves we can introduce a function to do the repeats."
   ]
  },
  {
   "cell_type": "code",
   "execution_count": 33,
   "metadata": {
    "colab": {
     "base_uri": "https://localhost:8080/"
    },
    "executionInfo": {
     "elapsed": 142,
     "status": "ok",
     "timestamp": 1679151344634,
     "user": {
      "displayName": "Jayashree Ravi",
      "userId": "06933604785290521829"
     },
     "user_tz": 240
    },
    "id": "ER9iBKfgFS7-",
    "outputId": "6cd8a178-78ea-4621-96a5-5be58437b549"
   },
   "outputs": [
    {
     "name": "stdout",
     "output_type": "stream",
     "text": [
      "[1] 0 1\n",
      "[1] 0 1\n",
      "[1] 0 1\n"
     ]
    }
   ],
   "source": []
  },
  {
   "cell_type": "markdown",
   "metadata": {
    "id": "Pp_j9XXuGHxC",
    "slideshow": {
     "slide_type": "slide"
    }
   },
   "source": [
    "## Anatomy of a function\n",
    "To write a function we should first think about the inputs and output. A function takes input(s), does something(s) to them, and then returns an output.\n",
    "\n",
    "\n",
    "    f <- function(input) {\n",
    "        <do some things>\n",
    "        return(output)\n",
    "    }\n",
    "    output <- f(input)\n",
    "\n"
   ]
  },
  {
   "cell_type": "code",
   "execution_count": null,
   "metadata": {
    "slideshow": {
     "slide_type": "slide"
    }
   },
   "outputs": [],
   "source": [
    "rescale <- function(x){\n",
    "    (x - min(x, na.rm = T)) / (max(x, na.rm = T) - min(x, na.rm = T))\n",
    "}"
   ]
  },
  {
   "cell_type": "markdown",
   "metadata": {
    "id": "dtRoursTGxz4",
    "slideshow": {
     "slide_type": "notes"
    }
   },
   "source": [
    "In R (and unlike Python, C++, Java, or other languages), it is not necessary to use a `return` keyword to specify the return value of a function. The return value of a function is simply the value of the last expression evaluated within the function body. "
   ]
  },
  {
   "cell_type": "markdown",
   "metadata": {
    "id": "gUmAiBFQGUgk",
    "slideshow": {
     "slide_type": "slide"
    }
   },
   "source": [
    "## 🤔 Quiz\n",
    "\n",
    "What is the output of our `rescale` function?\n",
    "\n",
    "* A. x\n",
    "* B. nothing\n",
    "* C. rescaled vector values\n"
   ]
  },
  {
   "cell_type": "markdown",
   "metadata": {
    "id": "fCgIwRmV1GT3",
    "slideshow": {
     "slide_type": "notes"
    }
   },
   "source": [
    "\n",
    "### Arguments\n",
    "\n",
    "Functions will often have multiple arguments. Some arguments have default values, others do not. All arguments without default values must be passed to a function. Arguments can be passed by name or position. For instance, \n",
    "\n",
    "\n"
   ]
  },
  {
   "cell_type": "code",
   "execution_count": 35,
   "metadata": {
    "colab": {
     "base_uri": "https://localhost:8080/",
     "height": 241
    },
    "executionInfo": {
     "elapsed": 160,
     "status": "ok",
     "timestamp": 1679153530369,
     "user": {
      "displayName": "Jayashree Ravi",
      "userId": "06933604785290521829"
     },
     "user_tz": 240
    },
    "id": "eNJoozbP1GT4",
    "outputId": "f3bce9fc-5d2a-4532-8f4b-3ce3251a2bfa"
   },
   "outputs": [
    {
     "data": {
      "text/html": [
       "<table class=\"dataframe\">\n",
       "<caption>A matrix: 5 × 4 of type dbl</caption>\n",
       "<thead>\n",
       "\t<tr><th scope=col>w</th><th scope=col>x</th><th scope=col>y</th><th scope=col>z</th></tr>\n",
       "</thead>\n",
       "<tbody>\n",
       "\t<tr><td> 0.0</td><td> 1.5</td><td>-1.3</td><td>-0.6</td></tr>\n",
       "\t<tr><td>-2.8</td><td> 0.0</td><td> 0.1</td><td>-0.9</td></tr>\n",
       "\t<tr><td>-0.2</td><td> 1.3</td><td>-0.2</td><td>-1.2</td></tr>\n",
       "\t<tr><td>-0.8</td><td> 0.7</td><td>-0.4</td><td>-0.7</td></tr>\n",
       "\t<tr><td>-0.5</td><td>-1.2</td><td>-0.1</td><td> 0.7</td></tr>\n",
       "</tbody>\n",
       "</table>\n"
      ],
      "text/latex": [
       "A matrix: 5 × 4 of type dbl\n",
       "\\begin{tabular}{llll}\n",
       " w & x & y & z\\\\\n",
       "\\hline\n",
       "\t  0.0 &  1.5 & -1.3 & -0.6\\\\\n",
       "\t -2.8 &  0.0 &  0.1 & -0.9\\\\\n",
       "\t -0.2 &  1.3 & -0.2 & -1.2\\\\\n",
       "\t -0.8 &  0.7 & -0.4 & -0.7\\\\\n",
       "\t -0.5 & -1.2 & -0.1 &  0.7\\\\\n",
       "\\end{tabular}\n"
      ],
      "text/markdown": [
       "\n",
       "A matrix: 5 × 4 of type dbl\n",
       "\n",
       "| w | x | y | z |\n",
       "|---|---|---|---|\n",
       "|  0.0 |  1.5 | -1.3 | -0.6 |\n",
       "| -2.8 |  0.0 |  0.1 | -0.9 |\n",
       "| -0.2 |  1.3 | -0.2 | -1.2 |\n",
       "| -0.8 |  0.7 | -0.4 | -0.7 |\n",
       "| -0.5 | -1.2 | -0.1 |  0.7 |\n",
       "\n"
      ],
      "text/plain": [
       "     w    x    y    z   \n",
       "[1,]  0.0  1.5 -1.3 -0.6\n",
       "[2,] -2.8  0.0  0.1 -0.9\n",
       "[3,] -0.2  1.3 -0.2 -1.2\n",
       "[4,] -0.8  0.7 -0.4 -0.7\n",
       "[5,] -0.5 -1.2 -0.1  0.7"
      ]
     },
     "metadata": {},
     "output_type": "display_data"
    }
   ],
   "source": [
    "# generate 5 numbers from a Normal(0, 1) distribution.\n",
    "w = rnorm(5, mean = 0, sd = 1)\n",
    "x = rnorm(n = 5, mean = 0, sd = 1)\n",
    "y = rnorm(5, 0, 1)\n",
    "z = rnorm(5)\n",
    "round(cbind(w, x, y, z), 1)"
   ]
  },
  {
   "cell_type": "markdown",
   "metadata": {
    "id": "LIZuAcKF1GT9"
   },
   "source": [
    "Arguments passed by name need not be in order:"
   ]
  },
  {
   "cell_type": "code",
   "execution_count": 34,
   "metadata": {
    "colab": {
     "base_uri": "https://localhost:8080/",
     "height": 97
    },
    "executionInfo": {
     "elapsed": 135,
     "status": "ok",
     "timestamp": 1679151505368,
     "user": {
      "displayName": "Jayashree Ravi",
      "userId": "06933604785290521829"
     },
     "user_tz": 240
    },
    "id": "nAeMGzyS1GT-",
    "outputId": "b68e7be7-c4fa-47e7-9814-99886e8e5787"
   },
   "outputs": [
    {
     "data": {
      "text/html": [
       "<table class=\"dataframe\">\n",
       "<caption>A matrix: 2 × 5 of type dbl</caption>\n",
       "<tbody>\n",
       "\t<tr><th scope=row>u</th><td>0.2</td><td>-0.1</td><td>1.8</td><td>-1.2</td><td>-0.1</td></tr>\n",
       "\t<tr><th scope=row>w</th><td>1.7</td><td>-1.2</td><td>0.5</td><td>-1.2</td><td>-0.1</td></tr>\n",
       "</tbody>\n",
       "</table>\n"
      ],
      "text/latex": [
       "A matrix: 2 × 5 of type dbl\n",
       "\\begin{tabular}{r|lllll}\n",
       "\tu & 0.2 & -0.1 & 1.8 & -1.2 & -0.1\\\\\n",
       "\tw & 1.7 & -1.2 & 0.5 & -1.2 & -0.1\\\\\n",
       "\\end{tabular}\n"
      ],
      "text/markdown": [
       "\n",
       "A matrix: 2 × 5 of type dbl\n",
       "\n",
       "| u | 0.2 | -0.1 | 1.8 | -1.2 | -0.1 |\n",
       "| w | 1.7 | -1.2 | 0.5 | -1.2 | -0.1 |\n",
       "\n"
      ],
      "text/plain": [
       "  [,1] [,2] [,3] [,4] [,5]\n",
       "u 0.2  -0.1 1.8  -1.2 -0.1\n",
       "w 1.7  -1.2 0.5  -1.2 -0.1"
      ]
     },
     "metadata": {},
     "output_type": "display_data"
    }
   ],
   "source": [
    "w = rnorm(mean = 0, sd = 1, n = 5)\n",
    "u = rnorm(mean = 0, sd = 1, 5) # This also works but is bad style. \n",
    "round(rbind(u = u, w = w), 1)\n",
    "\n",
    "# unnamed arguments get passed to the first argument after the names arguments are assigned"
   ]
  },
  {
   "cell_type": "markdown",
   "metadata": {
    "id": "AR9KrJnn1GUL"
   },
   "source": [
    "# z-score function\n",
    "\n",
    "Let us create a function to compute z-scores of a vector"
   ]
  },
  {
   "cell_type": "code",
   "execution_count": 39,
   "metadata": {
    "colab": {
     "base_uri": "https://localhost:8080/",
     "height": 138
    },
    "executionInfo": {
     "elapsed": 160,
     "status": "ok",
     "timestamp": 1679153884948,
     "user": {
      "displayName": "Jayashree Ravi",
      "userId": "06933604785290521829"
     },
     "user_tz": 240
    },
    "id": "qaLeKXql1GUL",
    "outputId": "2a05772f-0304-4825-bbed-a9f6743711fd"
   },
   "outputs": [
    {
     "data": {
      "text/html": [
       "<pre class=language-r><code>function (x) \n",
       "{\n",
       "<span style=white-space:pre-wrap>    xbar = mean(x)</span>\n",
       "<span style=white-space:pre-wrap>    s = sd(x)</span>\n",
       "<span style=white-space:pre-wrap>    z = (x - mean(x))/s</span>\n",
       "<span style=white-space:pre-wrap>    return(z)</span>\n",
       "}</code></pre>"
      ],
      "text/latex": [
       "\\begin{minted}{r}\n",
       "function (x) \n",
       "\\{\n",
       "    xbar = mean(x)\n",
       "    s = sd(x)\n",
       "    z = (x - mean(x))/s\n",
       "    return(z)\n",
       "\\}\n",
       "\\end{minted}"
      ],
      "text/markdown": [
       "```r\n",
       "function (x) \n",
       "{\n",
       "    xbar = mean(x)\n",
       "    s = sd(x)\n",
       "    z = (x - mean(x))/s\n",
       "    return(z)\n",
       "}\n",
       "```"
      ],
      "text/plain": [
       "function(x) {\n",
       "  #inputs: x - a numeric vector\n",
       "  #outputs: the z-scores for x\n",
       "  xbar = mean(x)\n",
       "  s = sd(x)\n",
       "  z = (x - mean(x)) / s\n",
       "  return(z)  \n",
       "}"
      ]
     },
     "metadata": {},
     "output_type": "display_data"
    }
   ],
   "source": [
    "# function to compute z-scores\n",
    "z_score1 = function(x) {\n",
    "  #inputs: x - a numeric vector\n",
    "  #outputs: the z-scores for x\n",
    "  xbar = mean(x)\n",
    "  s = sd(x)\n",
    "  z = (x - mean(x)) / s\n",
    "  return(z)  \n",
    "}\n",
    "\n",
    "z_score1"
   ]
  },
  {
   "cell_type": "markdown",
   "metadata": {
    "id": "3lIvlpaL1GUM",
    "slideshow": {
     "slide_type": "notes"
    }
   },
   "source": [
    "The return statement is not strictly necessary, but can make complex functions more readable. It is good practice to avoid creating intermediate objects to store values only used once.\n",
    "\n"
   ]
  },
  {
   "cell_type": "code",
   "execution_count": 40,
   "metadata": {
    "executionInfo": {
     "elapsed": 207,
     "status": "ok",
     "timestamp": 1679153945599,
     "user": {
      "displayName": "Jayashree Ravi",
      "userId": "06933604785290521829"
     },
     "user_tz": 240
    },
    "id": "XgehWNLH1GUN"
   },
   "outputs": [],
   "source": [
    "# function to compute z-scores\n",
    "z_score2 = function(x){\n",
    "  #inputs: x - a numeric vector\n",
    "  #outputs: the z-scores for x\n",
    "  (x - mean(x)) / sd(x)\n",
    "}"
   ]
  },
  {
   "cell_type": "code",
   "execution_count": null,
   "metadata": {
    "id": "nLASHgAw1GUP",
    "outputId": "a87118f0-e7a5-4efb-cd1b-17039c7aff08"
   },
   "outputs": [
    {
     "data": {
      "text/html": [
       "<table class=\"dataframe\">\n",
       "<caption>A matrix: 10 × 3 of type dbl</caption>\n",
       "<thead>\n",
       "\t<tr><th scope=col>x</th><th scope=col>Z1</th><th scope=col>Z2</th></tr>\n",
       "</thead>\n",
       "<tbody>\n",
       "\t<tr><td>3.0</td><td>-0.3</td><td>-0.3</td></tr>\n",
       "\t<tr><td>3.2</td><td> 0.0</td><td> 0.0</td></tr>\n",
       "\t<tr><td>2.9</td><td>-0.5</td><td>-0.5</td></tr>\n",
       "\t<tr><td>3.4</td><td> 0.3</td><td> 0.3</td></tr>\n",
       "\t<tr><td>3.2</td><td>-0.1</td><td>-0.1</td></tr>\n",
       "\t<tr><td>2.2</td><td>-1.5</td><td>-1.5</td></tr>\n",
       "\t<tr><td>2.8</td><td>-0.6</td><td>-0.6</td></tr>\n",
       "\t<tr><td>4.9</td><td> 2.4</td><td> 2.4</td></tr>\n",
       "\t<tr><td>3.3</td><td> 0.1</td><td> 0.1</td></tr>\n",
       "\t<tr><td>3.3</td><td> 0.1</td><td> 0.1</td></tr>\n",
       "</tbody>\n",
       "</table>\n"
      ],
      "text/latex": [
       "A matrix: 10 × 3 of type dbl\n",
       "\\begin{tabular}{lll}\n",
       " x & Z1 & Z2\\\\\n",
       "\\hline\n",
       "\t 3.0 & -0.3 & -0.3\\\\\n",
       "\t 3.2 &  0.0 &  0.0\\\\\n",
       "\t 2.9 & -0.5 & -0.5\\\\\n",
       "\t 3.4 &  0.3 &  0.3\\\\\n",
       "\t 3.2 & -0.1 & -0.1\\\\\n",
       "\t 2.2 & -1.5 & -1.5\\\\\n",
       "\t 2.8 & -0.6 & -0.6\\\\\n",
       "\t 4.9 &  2.4 &  2.4\\\\\n",
       "\t 3.3 &  0.1 &  0.1\\\\\n",
       "\t 3.3 &  0.1 &  0.1\\\\\n",
       "\\end{tabular}\n"
      ],
      "text/markdown": [
       "\n",
       "A matrix: 10 × 3 of type dbl\n",
       "\n",
       "| x | Z1 | Z2 |\n",
       "|---|---|---|\n",
       "| 3.0 | -0.3 | -0.3 |\n",
       "| 3.2 |  0.0 |  0.0 |\n",
       "| 2.9 | -0.5 | -0.5 |\n",
       "| 3.4 |  0.3 |  0.3 |\n",
       "| 3.2 | -0.1 | -0.1 |\n",
       "| 2.2 | -1.5 | -1.5 |\n",
       "| 2.8 | -0.6 | -0.6 |\n",
       "| 4.9 |  2.4 |  2.4 |\n",
       "| 3.3 |  0.1 |  0.1 |\n",
       "| 3.3 |  0.1 |  0.1 |\n",
       "\n"
      ],
      "text/plain": [
       "      x   Z1   Z2  \n",
       " [1,] 3.0 -0.3 -0.3\n",
       " [2,] 3.2  0.0  0.0\n",
       " [3,] 2.9 -0.5 -0.5\n",
       " [4,] 3.4  0.3  0.3\n",
       " [5,] 3.2 -0.1 -0.1\n",
       " [6,] 2.2 -1.5 -1.5\n",
       " [7,] 2.8 -0.6 -0.6\n",
       " [8,] 4.9  2.4  2.4\n",
       " [9,] 3.3  0.1  0.1\n",
       "[10,] 3.3  0.1  0.1"
      ]
     },
     "metadata": {},
     "output_type": "display_data"
    }
   ],
   "source": [
    "x = rnorm(10, 3, 1) ## generate some normally distributed values\n",
    "round( cbind(x, 'Z1' = z_score1(x), 'Z2' = z_score2(x) ), 1)"
   ]
  },
  {
   "cell_type": "markdown",
   "metadata": {
    "id": "mTPxbzoZ1GUQ"
   },
   "source": [
    "### Default Parameters\n",
    "\n",
    "We can set default values for parameters using the construction `parameter = xx` in the function definition.\n",
    "\n",
    "\n"
   ]
  },
  {
   "cell_type": "code",
   "execution_count": null,
   "metadata": {
    "id": "X7FzgVA21GUR"
   },
   "outputs": [],
   "source": [
    "# function to compute z-scores\n",
    "z_score3 = function(x, na.rm = T){\n",
    "  {x - mean(x, na.rm = na.rm)} / sd(x, na.rm = na.rm)\n",
    "}"
   ]
  },
  {
   "cell_type": "code",
   "execution_count": null,
   "metadata": {
    "id": "637mAQHt1GUR",
    "outputId": "b07e2911-2973-4464-c1ae-e5a3522b7f9c"
   },
   "outputs": [
    {
     "data": {
      "text/html": [
       "<table class=\"dataframe\">\n",
       "<caption>A matrix: 12 × 4 of type dbl</caption>\n",
       "<thead>\n",
       "\t<tr><th scope=col>x</th><th scope=col>Z1</th><th scope=col>Z2</th><th scope=col>Z3</th></tr>\n",
       "</thead>\n",
       "<tbody>\n",
       "\t<tr><td> NA</td><td>NA</td><td>NA</td><td>  NA</td></tr>\n",
       "\t<tr><td>3.0</td><td>NA</td><td>NA</td><td>-0.3</td></tr>\n",
       "\t<tr><td>3.2</td><td>NA</td><td>NA</td><td> 0.0</td></tr>\n",
       "\t<tr><td>2.9</td><td>NA</td><td>NA</td><td>-0.5</td></tr>\n",
       "\t<tr><td>3.4</td><td>NA</td><td>NA</td><td> 0.3</td></tr>\n",
       "\t<tr><td>3.2</td><td>NA</td><td>NA</td><td>-0.1</td></tr>\n",
       "\t<tr><td>2.2</td><td>NA</td><td>NA</td><td>-1.5</td></tr>\n",
       "\t<tr><td>2.8</td><td>NA</td><td>NA</td><td>-0.6</td></tr>\n",
       "\t<tr><td>4.9</td><td>NA</td><td>NA</td><td> 2.4</td></tr>\n",
       "\t<tr><td>3.3</td><td>NA</td><td>NA</td><td> 0.1</td></tr>\n",
       "\t<tr><td>3.3</td><td>NA</td><td>NA</td><td> 0.1</td></tr>\n",
       "\t<tr><td> NA</td><td>NA</td><td>NA</td><td>  NA</td></tr>\n",
       "</tbody>\n",
       "</table>\n"
      ],
      "text/latex": [
       "A matrix: 12 × 4 of type dbl\n",
       "\\begin{tabular}{llll}\n",
       " x & Z1 & Z2 & Z3\\\\\n",
       "\\hline\n",
       "\t  NA & NA & NA &   NA\\\\\n",
       "\t 3.0 & NA & NA & -0.3\\\\\n",
       "\t 3.2 & NA & NA &  0.0\\\\\n",
       "\t 2.9 & NA & NA & -0.5\\\\\n",
       "\t 3.4 & NA & NA &  0.3\\\\\n",
       "\t 3.2 & NA & NA & -0.1\\\\\n",
       "\t 2.2 & NA & NA & -1.5\\\\\n",
       "\t 2.8 & NA & NA & -0.6\\\\\n",
       "\t 4.9 & NA & NA &  2.4\\\\\n",
       "\t 3.3 & NA & NA &  0.1\\\\\n",
       "\t 3.3 & NA & NA &  0.1\\\\\n",
       "\t  NA & NA & NA &   NA\\\\\n",
       "\\end{tabular}\n"
      ],
      "text/markdown": [
       "\n",
       "A matrix: 12 × 4 of type dbl\n",
       "\n",
       "| x | Z1 | Z2 | Z3 |\n",
       "|---|---|---|---|\n",
       "|  NA | NA | NA |   NA |\n",
       "| 3.0 | NA | NA | -0.3 |\n",
       "| 3.2 | NA | NA |  0.0 |\n",
       "| 2.9 | NA | NA | -0.5 |\n",
       "| 3.4 | NA | NA |  0.3 |\n",
       "| 3.2 | NA | NA | -0.1 |\n",
       "| 2.2 | NA | NA | -1.5 |\n",
       "| 2.8 | NA | NA | -0.6 |\n",
       "| 4.9 | NA | NA |  2.4 |\n",
       "| 3.3 | NA | NA |  0.1 |\n",
       "| 3.3 | NA | NA |  0.1 |\n",
       "|  NA | NA | NA |   NA |\n",
       "\n"
      ],
      "text/plain": [
       "      x   Z1 Z2 Z3  \n",
       " [1,]  NA NA NA   NA\n",
       " [2,] 3.0 NA NA -0.3\n",
       " [3,] 3.2 NA NA  0.0\n",
       " [4,] 2.9 NA NA -0.5\n",
       " [5,] 3.4 NA NA  0.3\n",
       " [6,] 3.2 NA NA -0.1\n",
       " [7,] 2.2 NA NA -1.5\n",
       " [8,] 2.8 NA NA -0.6\n",
       " [9,] 4.9 NA NA  2.4\n",
       "[10,] 3.3 NA NA  0.1\n",
       "[11,] 3.3 NA NA  0.1\n",
       "[12,]  NA NA NA   NA"
      ]
     },
     "metadata": {},
     "output_type": "display_data"
    }
   ],
   "source": [
    "x = c(NA, x, NA)\n",
    "round( cbind(x, 'Z1' = z_score1(x), 'Z2' = z_score2(x), 'Z3' = z_score3(x) ), 1)"
   ]
  },
  {
   "cell_type": "markdown",
   "metadata": {
    "id": "zd8lUNBT1GUU"
   },
   "source": [
    "## Scope\n",
    "\n",
    "Scoping refers to how R looks up the value associated with an object referred to by name. There are two types of scoping – lexical and dynamic – but we will concern ourselves only with lexical scoping here. There are four keys to understanding scoping:\n",
    "\n",
    "- environments\n",
    "- name masking\n",
    "- variables vs functions\n",
    "- dynamic look up \n"
   ]
  },
  {
   "cell_type": "markdown",
   "metadata": {
    "id": "WKt7nGqZ1GUV"
   },
   "source": [
    "An environment can be thought of as a context in which names are associated with objects. Each time a function is called, it generates a new environment for the computation.\n",
    "\n",
    "Consider the following examples:"
   ]
  },
  {
   "cell_type": "code",
   "execution_count": 42,
   "metadata": {
    "colab": {
     "base_uri": "https://localhost:8080/",
     "height": 34
    },
    "executionInfo": {
     "elapsed": 144,
     "status": "ok",
     "timestamp": 1679154105090,
     "user": {
      "displayName": "Jayashree Ravi",
      "userId": "06933604785290521829"
     },
     "user_tz": 240
    },
    "id": "0wNRpFvV1GUV",
    "outputId": "3b6e279b-9f7f-4837-cdf9-2e42e0a717dc"
   },
   "outputs": [
    {
     "data": {
      "text/html": [
       "<style>\n",
       ".list-inline {list-style: none; margin:0; padding: 0}\n",
       ".list-inline>li {display: inline-block}\n",
       ".list-inline>li:not(:last-child)::after {content: \"\\00b7\"; padding: 0 .5ex}\n",
       "</style>\n",
       "<ol class=list-inline><li>'a'</li><li>'b'</li><li>'c'</li><li>'cty'</li><li>'cty_a'</li><li>'hwy_a'</li><li>'rescale'</li><li>'sum'</li><li>'u'</li><li>'w'</li><li>'x'</li><li>'x_centered'</li><li>'y'</li><li>'z'</li><li>'z_score1'</li><li>'z_score2'</li></ol>\n"
      ],
      "text/latex": [
       "\\begin{enumerate*}\n",
       "\\item 'a'\n",
       "\\item 'b'\n",
       "\\item 'c'\n",
       "\\item 'cty'\n",
       "\\item 'cty\\_a'\n",
       "\\item 'hwy\\_a'\n",
       "\\item 'rescale'\n",
       "\\item 'sum'\n",
       "\\item 'u'\n",
       "\\item 'w'\n",
       "\\item 'x'\n",
       "\\item 'x\\_centered'\n",
       "\\item 'y'\n",
       "\\item 'z'\n",
       "\\item 'z\\_score1'\n",
       "\\item 'z\\_score2'\n",
       "\\end{enumerate*}\n"
      ],
      "text/markdown": [
       "1. 'a'\n",
       "2. 'b'\n",
       "3. 'c'\n",
       "4. 'cty'\n",
       "5. 'cty_a'\n",
       "6. 'hwy_a'\n",
       "7. 'rescale'\n",
       "8. 'sum'\n",
       "9. 'u'\n",
       "10. 'w'\n",
       "11. 'x'\n",
       "12. 'x_centered'\n",
       "13. 'y'\n",
       "14. 'z'\n",
       "15. 'z_score1'\n",
       "16. 'z_score2'\n",
       "\n",
       "\n"
      ],
      "text/plain": [
       " [1] \"a\"          \"b\"          \"c\"          \"cty\"        \"cty_a\"     \n",
       " [6] \"hwy_a\"      \"rescale\"    \"sum\"        \"u\"          \"w\"         \n",
       "[11] \"x\"          \"x_centered\" \"y\"          \"z\"          \"z_score1\"  \n",
       "[16] \"z_score2\"  "
      ]
     },
     "metadata": {},
     "output_type": "display_data"
    }
   ],
   "source": [
    "ls()"
   ]
  },
  {
   "cell_type": "code",
   "execution_count": 43,
   "metadata": {
    "colab": {
     "base_uri": "https://localhost:8080/",
     "height": 34
    },
    "executionInfo": {
     "elapsed": 122,
     "status": "ok",
     "timestamp": 1679154118234,
     "user": {
      "displayName": "Jayashree Ravi",
      "userId": "06933604785290521829"
     },
     "user_tz": 240
    },
    "id": "qyf0VEhu1GUY",
    "outputId": "c026b229-56ad-40f8-d684-cf77f8965cf0"
   },
   "outputs": [
    {
     "data": {
      "text/html": [
       "'f1_message'"
      ],
      "text/latex": [
       "'f1\\_message'"
      ],
      "text/markdown": [
       "'f1_message'"
      ],
      "text/plain": [
       "[1] \"f1_message\""
      ]
     },
     "metadata": {},
     "output_type": "display_data"
    }
   ],
   "source": [
    "f1 = function() {\n",
    "  f1_message = \"I'm defined inside of f!\"  # `message` is a function in base\n",
    "  ls()\n",
    "}\n",
    "f1()"
   ]
  },
  {
   "cell_type": "code",
   "execution_count": 44,
   "metadata": {
    "colab": {
     "base_uri": "https://localhost:8080/",
     "height": 34
    },
    "executionInfo": {
     "elapsed": 233,
     "status": "ok",
     "timestamp": 1679154123836,
     "user": {
      "displayName": "Jayashree Ravi",
      "userId": "06933604785290521829"
     },
     "user_tz": 240
    },
    "id": "D_nbqpJY1GUZ",
    "outputId": "ef1263a4-4d41-4989-c853-af319b6ddd43"
   },
   "outputs": [
    {
     "data": {
      "text/html": [
       "TRUE"
      ],
      "text/latex": [
       "TRUE"
      ],
      "text/markdown": [
       "TRUE"
      ],
      "text/plain": [
       "[1] TRUE"
      ]
     },
     "metadata": {},
     "output_type": "display_data"
    }
   ],
   "source": [
    "exists('f1') # f1 %in% ls() "
   ]
  },
  {
   "cell_type": "code",
   "execution_count": 45,
   "metadata": {
    "colab": {
     "base_uri": "https://localhost:8080/",
     "height": 34
    },
    "executionInfo": {
     "elapsed": 153,
     "status": "ok",
     "timestamp": 1679154135541,
     "user": {
      "displayName": "Jayashree Ravi",
      "userId": "06933604785290521829"
     },
     "user_tz": 240
    },
    "id": "_QG0qrLD1GUa",
    "outputId": "c313c1a9-9589-409c-c786-d438bd729770"
   },
   "outputs": [
    {
     "data": {
      "text/html": [
       "FALSE"
      ],
      "text/latex": [
       "FALSE"
      ],
      "text/markdown": [
       "FALSE"
      ],
      "text/plain": [
       "[1] FALSE"
      ]
     },
     "metadata": {},
     "output_type": "display_data"
    }
   ],
   "source": [
    "exists('f1_message')"
   ]
  },
  {
   "cell_type": "code",
   "execution_count": 46,
   "metadata": {
    "colab": {
     "base_uri": "https://localhost:8080/",
     "height": 34
    },
    "executionInfo": {
     "elapsed": 147,
     "status": "ok",
     "timestamp": 1679154147603,
     "user": {
      "displayName": "Jayashree Ravi",
      "userId": "06933604785290521829"
     },
     "user_tz": 240
    },
    "id": "7olP1gHu1GUa",
    "outputId": "44c2ac4d-ca5c-4351-c31e-922513dde406"
   },
   "outputs": [
    {
     "data": {
      "text/plain": [
       "<environment: R_GlobalEnv>"
      ]
     },
     "metadata": {},
     "output_type": "display_data"
    }
   ],
   "source": [
    "environment() # here we are in the global environment"
   ]
  },
  {
   "cell_type": "code",
   "execution_count": 47,
   "metadata": {
    "colab": {
     "base_uri": "https://localhost:8080/",
     "height": 34
    },
    "executionInfo": {
     "elapsed": 180,
     "status": "ok",
     "timestamp": 1679154154727,
     "user": {
      "displayName": "Jayashree Ravi",
      "userId": "06933604785290521829"
     },
     "user_tz": 240
    },
    "id": "UvGiVtd91GUd",
    "outputId": "9c42860b-c195-487d-c2ec-3b7d61020bac"
   },
   "outputs": [
    {
     "data": {
      "text/plain": [
       "<environment: 0x564d05c250a0>"
      ]
     },
     "metadata": {},
     "output_type": "display_data"
    }
   ],
   "source": [
    "f2 = function(){\n",
    "  environment() # here we are in the local environment -- each time we get a different local environment\n",
    "    # created for the purpose of this function\n",
    "}\n",
    "f2()"
   ]
  },
  {
   "cell_type": "code",
   "execution_count": null,
   "metadata": {
    "id": "57mLeAoN1GUd"
   },
   "outputs": [],
   "source": [
    "rm(f1, f2)"
   ]
  },
  {
   "cell_type": "markdown",
   "metadata": {
    "id": "kG--gm7L1GUe"
   },
   "source": [
    "Name masking refers to where and in what order `R` looks for object names.\n",
    "When we call `f1` above, `R` first looks in the current environment which happens to be the global environment. The call to `ls()` however, happens within the environment created by the function call and hence returns only the objects defined in the local environment."
   ]
  },
  {
   "cell_type": "markdown",
   "metadata": {
    "id": "aCkUBwRM1GUg"
   },
   "source": [
    "When an environment is created, it gets nested within the current environment referred to as the “parent environment”. When an object is referenced we first look in the current environment and move recursively up through parent environments until we find a value bound to that name.\n",
    "\n"
   ]
  },
  {
   "cell_type": "markdown",
   "metadata": {
    "id": "kdykZtFW1GUh"
   },
   "source": [
    "Name masking refers to the notion that objects of the same name can exist in different environments. Consider these examples:\n",
    "\n"
   ]
  },
  {
   "cell_type": "code",
   "execution_count": 57,
   "metadata": {
    "colab": {
     "base_uri": "https://localhost:8080/"
    },
    "executionInfo": {
     "elapsed": 159,
     "status": "ok",
     "timestamp": 1679154552850,
     "user": {
      "displayName": "Jayashree Ravi",
      "userId": "06933604785290521829"
     },
     "user_tz": 240
    },
    "id": "Rqu63x6V1GUh",
    "outputId": "751eb2a6-168c-4eb2-f5b1-7f3b00edf650"
   },
   "outputs": [
    {
     "name": "stdout",
     "output_type": "stream",
     "text": [
      "[1] \"x = I came from inside of f! and y = I came from outside of f!\"\n",
      "[1] \"outside-x = I came from outside of f! and outside-y = I came from outside of f!\"\n"
     ]
    }
   ],
   "source": [
    "#  Example 3 -- lexical scoping\n",
    "y = x = 'I came from outside of f!'\n",
    "f3 = function(){\n",
    "  x =  'I came from inside of f!'\n",
    "  print(paste(\"x =\", x, \"and y =\", y))\n",
    "}\n",
    "f3()\n",
    "print(paste(\"outside-x =\", x, \"and outside-y =\", y))"
   ]
  },
  {
   "cell_type": "markdown",
   "metadata": {
    "id": "B4v1OFQzaYdN"
   },
   "source": [
    "* x is redefined inside the function enviornment\n",
    "* y is not, so R will search for y in the parent environment and keep moving up\n",
    "* x that is associated with f3, is not going to change the x in the global environment, unless we explicitly write the code to do that"
   ]
  },
  {
   "cell_type": "code",
   "execution_count": null,
   "metadata": {
    "id": "KsUNVcUK1GUk",
    "outputId": "14d6df42-b0e9-4ff8-a1f3-d2df36195791"
   },
   "outputs": [
    {
     "data": {
      "text/html": [
       "55"
      ],
      "text/latex": [
       "55"
      ],
      "text/markdown": [
       "55"
      ],
      "text/plain": [
       "[1] 55"
      ]
     },
     "metadata": {},
     "output_type": "display_data"
    }
   ],
   "source": [
    "#  Example 4 -- masking\n",
    "mean = function(x){ \n",
    "    sum(x)\n",
    "}\n",
    "mean(1:10)"
   ]
  },
  {
   "cell_type": "code",
   "execution_count": null,
   "metadata": {
    "id": "-UZUcOyz1GUl",
    "outputId": "0046da6a-4397-477b-e54f-4d00b49ad835"
   },
   "outputs": [
    {
     "data": {
      "text/html": [
       "5.5"
      ],
      "text/latex": [
       "5.5"
      ],
      "text/markdown": [
       "5.5"
      ],
      "text/plain": [
       "[1] 5.5"
      ]
     },
     "metadata": {},
     "output_type": "display_data"
    }
   ],
   "source": [
    "base::mean(1:10)\n",
    "\n"
   ]
  },
  {
   "cell_type": "code",
   "execution_count": null,
   "metadata": {
    "id": "Kgp1U3nd1GUm"
   },
   "outputs": [],
   "source": [
    "rm(mean)"
   ]
  },
  {
   "cell_type": "markdown",
   "metadata": {
    "id": "_sroTkw31GUo"
   },
   "source": [
    "R also uses dynamic look up, meaning values are searched for when a function is called, not when it is created. In the example above, y was defined in the global environment rather than within the function body. This means the value returned by f3 depends on the value of y in the global environment. You should generally avoid this, but there are occasions where it can be useful.\n",
    "\n"
   ]
  },
  {
   "cell_type": "code",
   "execution_count": null,
   "metadata": {
    "id": "9KRL-9jU1GUp",
    "outputId": "5817dde3-b739-43cf-ee25-8f1853de0741"
   },
   "outputs": [
    {
     "data": {
      "text/html": [
       "<dl>\n",
       "\t<dt>$x</dt>\n",
       "\t\t<dd>'I came from inside of f!'</dd>\n",
       "\t<dt>$y</dt>\n",
       "\t\t<dd>'I have been reinvented!'</dd>\n",
       "</dl>\n"
      ],
      "text/latex": [
       "\\begin{description}\n",
       "\\item[\\$x] 'I came from inside of f!'\n",
       "\\item[\\$y] 'I have been reinvented!'\n",
       "\\end{description}\n"
      ],
      "text/markdown": [
       "$x\n",
       ":   'I came from inside of f!'\n",
       "$y\n",
       ":   'I have been reinvented!'\n",
       "\n",
       "\n"
      ],
      "text/plain": [
       "$x\n",
       "[1] \"I came from inside of f!\"\n",
       "\n",
       "$y\n",
       "[1] \"I have been reinvented!\"\n"
      ]
     },
     "metadata": {},
     "output_type": "display_data"
    }
   ],
   "source": [
    "# Example 5 - dynamic lookup\n",
    "y = \"I have been reinvented!\"\n",
    "f3()"
   ]
  },
  {
   "cell_type": "markdown",
   "metadata": {
    "id": "5TFrrXCAcnDe"
   },
   "source": [
    "## Dataframe functions\n",
    "\n",
    "A case of a problem of `indirection`, as `dplyr` uses `tidy evaluation` to allow you to refer to the names of variables inside your data frame without any special treatment."
   ]
  },
  {
   "cell_type": "code",
   "execution_count": 70,
   "metadata": {
    "colab": {
     "base_uri": "https://localhost:8080/",
     "height": 270
    },
    "executionInfo": {
     "elapsed": 125,
     "status": "error",
     "timestamp": 1679155568084,
     "user": {
      "displayName": "Jayashree Ravi",
      "userId": "06933604785290521829"
     },
     "user_tz": 240
    },
    "id": "7wSvTLhXc1BY",
    "outputId": "00a4bff2-a6ea-4871-c60c-f36eceaa80cf"
   },
   "outputs": [
    {
     "ename": "ERROR",
     "evalue": "ignored",
     "output_type": "error",
     "traceback": [
      "\u001b[1m\u001b[33mError\u001b[39m in `group_by()`:\u001b[22m\n\u001b[1m\u001b[22m\u001b[33m!\u001b[39m Must group by variables found in `.data`.\n\u001b[31m✖\u001b[39m Column `group_var` is not found.\nTraceback:\n",
      "1. grouped_mean(mpg, model, hwy)",
      "2. summarize(group_by(df, group_var), mean(mean_var))   # at line 2-4 of file <text>",
      "3. group_by(df, group_var)",
      "4. group_by.data.frame(df, group_var)",
      "5. group_by_prepare(.data, ..., .add = .add, error_call = current_env())",
      "6. abort(bullets, call = error_call)",
      "7. signal_abort(cnd, .file)"
     ]
    }
   ],
   "source": [
    "grouped_mean <- function(df, group_var, mean_var) {\n",
    "  df |> \n",
    "    group_by(group_var) |> \n",
    "    summarize(mean(mean_var))\n",
    "}\n",
    "\n",
    "grouped_mean(mpg, model, hwy)"
   ]
  },
  {
   "cell_type": "markdown",
   "metadata": {
    "id": "e-HInchNexcy"
   },
   "source": [
    "### Fix with embracing `{{ }}`"
   ]
  },
  {
   "cell_type": "code",
   "execution_count": 76,
   "metadata": {
    "colab": {
     "base_uri": "https://localhost:8080/",
     "height": 286
    },
    "executionInfo": {
     "elapsed": 7,
     "status": "ok",
     "timestamp": 1679156128828,
     "user": {
      "displayName": "Jayashree Ravi",
      "userId": "06933604785290521829"
     },
     "user_tz": 240
    },
    "id": "2lvE6L_adDSS",
    "outputId": "0325dbc0-a6b9-40c1-a2ad-8b19398e9aaf"
   },
   "outputs": [
    {
     "data": {
      "text/html": [
       "<table class=\"dataframe\">\n",
       "<caption>A tibble: 6 × 2</caption>\n",
       "<thead>\n",
       "\t<tr><th scope=col>model</th><th scope=col>mean(hwy)</th></tr>\n",
       "\t<tr><th scope=col>&lt;chr&gt;</th><th scope=col>&lt;dbl&gt;</th></tr>\n",
       "</thead>\n",
       "<tbody>\n",
       "\t<tr><td>4runner 4wd       </td><td>18.83333</td></tr>\n",
       "\t<tr><td>a4                </td><td>28.28571</td></tr>\n",
       "\t<tr><td>a4 quattro        </td><td>25.75000</td></tr>\n",
       "\t<tr><td>a6 quattro        </td><td>24.00000</td></tr>\n",
       "\t<tr><td>altima            </td><td>28.66667</td></tr>\n",
       "\t<tr><td>c1500 suburban 2wd</td><td>17.80000</td></tr>\n",
       "</tbody>\n",
       "</table>\n"
      ],
      "text/latex": [
       "A tibble: 6 × 2\n",
       "\\begin{tabular}{ll}\n",
       " model & mean(hwy)\\\\\n",
       " <chr> & <dbl>\\\\\n",
       "\\hline\n",
       "\t 4runner 4wd        & 18.83333\\\\\n",
       "\t a4                 & 28.28571\\\\\n",
       "\t a4 quattro         & 25.75000\\\\\n",
       "\t a6 quattro         & 24.00000\\\\\n",
       "\t altima             & 28.66667\\\\\n",
       "\t c1500 suburban 2wd & 17.80000\\\\\n",
       "\\end{tabular}\n"
      ],
      "text/markdown": [
       "\n",
       "A tibble: 6 × 2\n",
       "\n",
       "| model &lt;chr&gt; | mean(hwy) &lt;dbl&gt; |\n",
       "|---|---|\n",
       "| 4runner 4wd        | 18.83333 |\n",
       "| a4                 | 28.28571 |\n",
       "| a4 quattro         | 25.75000 |\n",
       "| a6 quattro         | 24.00000 |\n",
       "| altima             | 28.66667 |\n",
       "| c1500 suburban 2wd | 17.80000 |\n",
       "\n"
      ],
      "text/plain": [
       "  model              mean(hwy)\n",
       "1 4runner 4wd        18.83333 \n",
       "2 a4                 28.28571 \n",
       "3 a4 quattro         25.75000 \n",
       "4 a6 quattro         24.00000 \n",
       "5 altima             28.66667 \n",
       "6 c1500 suburban 2wd 17.80000 "
      ]
     },
     "metadata": {},
     "output_type": "display_data"
    }
   ],
   "source": [
    "grouped_mean <- function(df, group_var, mean_var) {\n",
    "  df |> \n",
    "    group_by({{ group_var }}) |> \n",
    "    summarize(mean({{ mean_var }}))\n",
    "}\n",
    "\n",
    "grouped_mean(mpg, model, hwy) %>% head"
   ]
  },
  {
   "cell_type": "code",
   "execution_count": 101,
   "metadata": {
    "colab": {
     "base_uri": "https://localhost:8080/",
     "height": 286
    },
    "executionInfo": {
     "elapsed": 150,
     "status": "ok",
     "timestamp": 1679159639691,
     "user": {
      "displayName": "Jayashree Ravi",
      "userId": "06933604785290521829"
     },
     "user_tz": 240
    },
    "id": "otjDdfr8sF_5",
    "outputId": "24bb84c6-064b-4fd6-e057-f5edb37f570e"
   },
   "outputs": [
    {
     "data": {
      "text/html": [
       "<table class=\"dataframe\">\n",
       "<caption>A tibble: 6 × 2</caption>\n",
       "<thead>\n",
       "\t<tr><th scope=col>model</th><th scope=col>mean(hwy)</th></tr>\n",
       "\t<tr><th scope=col>&lt;chr&gt;</th><th scope=col>&lt;dbl&gt;</th></tr>\n",
       "</thead>\n",
       "<tbody>\n",
       "\t<tr><td>4runner 4wd       </td><td>19.00</td></tr>\n",
       "\t<tr><td>a4                </td><td>27.50</td></tr>\n",
       "\t<tr><td>a4 quattro        </td><td>25.25</td></tr>\n",
       "\t<tr><td>a6 quattro        </td><td>24.00</td></tr>\n",
       "\t<tr><td>altima            </td><td>28.00</td></tr>\n",
       "\t<tr><td>c1500 suburban 2wd</td><td>17.00</td></tr>\n",
       "</tbody>\n",
       "</table>\n"
      ],
      "text/latex": [
       "A tibble: 6 × 2\n",
       "\\begin{tabular}{ll}\n",
       " model & mean(hwy)\\\\\n",
       " <chr> & <dbl>\\\\\n",
       "\\hline\n",
       "\t 4runner 4wd        & 19.00\\\\\n",
       "\t a4                 & 27.50\\\\\n",
       "\t a4 quattro         & 25.25\\\\\n",
       "\t a6 quattro         & 24.00\\\\\n",
       "\t altima             & 28.00\\\\\n",
       "\t c1500 suburban 2wd & 17.00\\\\\n",
       "\\end{tabular}\n"
      ],
      "text/markdown": [
       "\n",
       "A tibble: 6 × 2\n",
       "\n",
       "| model &lt;chr&gt; | mean(hwy) &lt;dbl&gt; |\n",
       "|---|---|\n",
       "| 4runner 4wd        | 19.00 |\n",
       "| a4                 | 27.50 |\n",
       "| a4 quattro         | 25.25 |\n",
       "| a6 quattro         | 24.00 |\n",
       "| altima             | 28.00 |\n",
       "| c1500 suburban 2wd | 17.00 |\n",
       "\n"
      ],
      "text/plain": [
       "  model              mean(hwy)\n",
       "1 4runner 4wd        19.00    \n",
       "2 a4                 27.50    \n",
       "3 a4 quattro         25.25    \n",
       "4 a6 quattro         24.00    \n",
       "5 altima             28.00    \n",
       "6 c1500 suburban 2wd 17.00    "
      ]
     },
     "metadata": {},
     "output_type": "display_data"
    }
   ],
   "source": [
    "grouped_mean <- function(df, year, group_var, mean_var) {\n",
    "  df %>% filter(year == {{ year }}) %>%\n",
    "    group_by({{ group_var }}) |> \n",
    "    summarize(mean({{ mean_var }}))\n",
    "}\n",
    "\n",
    "grouped_mean(mpg, 1999, model, hwy) %>% head"
   ]
  },
  {
   "cell_type": "markdown",
   "metadata": {
    "id": "eaaqoymmgTe2"
   },
   "source": [
    "### When to embrace?🤔\n",
    "\n",
    "There are two terms to look for in the docs which correspond to the two most common sub-types of tidy evaluation:\n",
    "\n",
    "* Data-masking: this is used in functions like arrange(), filter(), and summarize() that compute with variables.\n",
    "\n",
    "* Tidy-selection: this is used for functions like select(), relocate(), and rename() that select variables."
   ]
  },
  {
   "cell_type": "code",
   "execution_count": 77,
   "metadata": {
    "executionInfo": {
     "elapsed": 338,
     "status": "ok",
     "timestamp": 1679156199628,
     "user": {
      "displayName": "Jayashree Ravi",
      "userId": "06933604785290521829"
     },
     "user_tz": 240
    },
    "id": "Q0hT4lH-gjFY"
   },
   "outputs": [],
   "source": [
    "?select"
   ]
  },
  {
   "cell_type": "code",
   "execution_count": 79,
   "metadata": {
    "executionInfo": {
     "elapsed": 316,
     "status": "ok",
     "timestamp": 1679156362355,
     "user": {
      "displayName": "Jayashree Ravi",
      "userId": "06933604785290521829"
     },
     "user_tz": 240
    },
    "id": "uQkZNTXZgy29"
   },
   "outputs": [],
   "source": [
    "?summarize"
   ]
  },
  {
   "cell_type": "markdown",
   "metadata": {
    "id": "gclOUru_tZRC"
   },
   "source": [
    "## Pick function\n",
    "\n",
    "Applied for verbs that use data-masking when sub-selecting the columns"
   ]
  },
  {
   "cell_type": "code",
   "execution_count": 114,
   "metadata": {
    "executionInfo": {
     "elapsed": 128,
     "status": "ok",
     "timestamp": 1679159985273,
     "user": {
      "displayName": "Jayashree Ravi",
      "userId": "06933604785290521829"
     },
     "user_tz": 240
    },
    "id": "OhzV0P_GuoWv"
   },
   "outputs": [],
   "source": [
    "?pick"
   ]
  },
  {
   "cell_type": "code",
   "execution_count": 97,
   "metadata": {
    "colab": {
     "base_uri": "https://localhost:8080/",
     "height": 286
    },
    "executionInfo": {
     "elapsed": 7,
     "status": "ok",
     "timestamp": 1679159535255,
     "user": {
      "displayName": "Jayashree Ravi",
      "userId": "06933604785290521829"
     },
     "user_tz": 240
    },
    "id": "LjMSX_YrskNs",
    "outputId": "550a24bc-3bb6-4ce5-bfd6-ed3297888e59"
   },
   "outputs": [
    {
     "data": {
      "text/html": [
       "<table class=\"dataframe\">\n",
       "<caption>A tibble: 6 × 3</caption>\n",
       "<thead>\n",
       "\t<tr><th scope=col>manufacturer</th><th scope=col>model</th><th scope=col>mean</th></tr>\n",
       "\t<tr><th scope=col>&lt;chr&gt;</th><th scope=col>&lt;chr&gt;</th><th scope=col>&lt;dbl&gt;</th></tr>\n",
       "</thead>\n",
       "<tbody>\n",
       "\t<tr><td>audi     </td><td>a4                </td><td>0</td></tr>\n",
       "\t<tr><td>audi     </td><td>a4 quattro        </td><td>0</td></tr>\n",
       "\t<tr><td>audi     </td><td>a6 quattro        </td><td>0</td></tr>\n",
       "\t<tr><td>chevrolet</td><td>c1500 suburban 2wd</td><td>0</td></tr>\n",
       "\t<tr><td>chevrolet</td><td>corvette          </td><td>0</td></tr>\n",
       "\t<tr><td>chevrolet</td><td>k1500 tahoe 4wd   </td><td>0</td></tr>\n",
       "</tbody>\n",
       "</table>\n"
      ],
      "text/latex": [
       "A tibble: 6 × 3\n",
       "\\begin{tabular}{lll}\n",
       " manufacturer & model & mean\\\\\n",
       " <chr> & <chr> & <dbl>\\\\\n",
       "\\hline\n",
       "\t audi      & a4                 & 0\\\\\n",
       "\t audi      & a4 quattro         & 0\\\\\n",
       "\t audi      & a6 quattro         & 0\\\\\n",
       "\t chevrolet & c1500 suburban 2wd & 0\\\\\n",
       "\t chevrolet & corvette           & 0\\\\\n",
       "\t chevrolet & k1500 tahoe 4wd    & 0\\\\\n",
       "\\end{tabular}\n"
      ],
      "text/markdown": [
       "\n",
       "A tibble: 6 × 3\n",
       "\n",
       "| manufacturer &lt;chr&gt; | model &lt;chr&gt; | mean &lt;dbl&gt; |\n",
       "|---|---|---|\n",
       "| audi      | a4                 | 0 |\n",
       "| audi      | a4 quattro         | 0 |\n",
       "| audi      | a6 quattro         | 0 |\n",
       "| chevrolet | c1500 suburban 2wd | 0 |\n",
       "| chevrolet | corvette           | 0 |\n",
       "| chevrolet | k1500 tahoe 4wd    | 0 |\n",
       "\n"
      ],
      "text/plain": [
       "  manufacturer model              mean\n",
       "1 audi         a4                 0   \n",
       "2 audi         a4 quattro         0   \n",
       "3 audi         a6 quattro         0   \n",
       "4 chevrolet    c1500 suburban 2wd 0   \n",
       "5 chevrolet    corvette           0   \n",
       "6 chevrolet    k1500 tahoe 4wd    0   "
      ]
     },
     "metadata": {},
     "output_type": "display_data"
    }
   ],
   "source": [
    "mean_hwy <- function(df, var1, var2, var_3) {\n",
    "  df |> \n",
    "    group_by({{ var1 }}, {{ var2 }}) |> \n",
    "    summarize(\n",
    "      mean = mean(is.na({{ var_3 }})),\n",
    "      .groups = \"drop\"\n",
    "    )\n",
    "}\n",
    "\n",
    "mpg |> \n",
    "  mean_hwy(manufacturer, model, hwy) %>% head"
   ]
  },
  {
   "cell_type": "code",
   "execution_count": 112,
   "metadata": {
    "colab": {
     "base_uri": "https://localhost:8080/",
     "height": 286
    },
    "executionInfo": {
     "elapsed": 137,
     "status": "ok",
     "timestamp": 1679159864565,
     "user": {
      "displayName": "Jayashree Ravi",
      "userId": "06933604785290521829"
     },
     "user_tz": 240
    },
    "id": "4KcPn0QeuQ8E",
    "outputId": "34704ecf-34d8-48b3-e8c1-06233f5c69c8"
   },
   "outputs": [
    {
     "data": {
      "text/html": [
       "<table class=\"dataframe\">\n",
       "<caption>A tibble: 6 × 3</caption>\n",
       "<thead>\n",
       "\t<tr><th scope=col>manufacturer</th><th scope=col>model</th><th scope=col>mean</th></tr>\n",
       "\t<tr><th scope=col>&lt;chr&gt;</th><th scope=col>&lt;chr&gt;</th><th scope=col>&lt;dbl&gt;</th></tr>\n",
       "</thead>\n",
       "<tbody>\n",
       "\t<tr><td>audi     </td><td>a4                </td><td>0</td></tr>\n",
       "\t<tr><td>audi     </td><td>a4 quattro        </td><td>0</td></tr>\n",
       "\t<tr><td>audi     </td><td>a6 quattro        </td><td>0</td></tr>\n",
       "\t<tr><td>chevrolet</td><td>c1500 suburban 2wd</td><td>0</td></tr>\n",
       "\t<tr><td>chevrolet</td><td>corvette          </td><td>0</td></tr>\n",
       "\t<tr><td>chevrolet</td><td>k1500 tahoe 4wd   </td><td>0</td></tr>\n",
       "</tbody>\n",
       "</table>\n"
      ],
      "text/latex": [
       "A tibble: 6 × 3\n",
       "\\begin{tabular}{lll}\n",
       " manufacturer & model & mean\\\\\n",
       " <chr> & <chr> & <dbl>\\\\\n",
       "\\hline\n",
       "\t audi      & a4                 & 0\\\\\n",
       "\t audi      & a4 quattro         & 0\\\\\n",
       "\t audi      & a6 quattro         & 0\\\\\n",
       "\t chevrolet & c1500 suburban 2wd & 0\\\\\n",
       "\t chevrolet & corvette           & 0\\\\\n",
       "\t chevrolet & k1500 tahoe 4wd    & 0\\\\\n",
       "\\end{tabular}\n"
      ],
      "text/markdown": [
       "\n",
       "A tibble: 6 × 3\n",
       "\n",
       "| manufacturer &lt;chr&gt; | model &lt;chr&gt; | mean &lt;dbl&gt; |\n",
       "|---|---|---|\n",
       "| audi      | a4                 | 0 |\n",
       "| audi      | a4 quattro         | 0 |\n",
       "| audi      | a6 quattro         | 0 |\n",
       "| chevrolet | c1500 suburban 2wd | 0 |\n",
       "| chevrolet | corvette           | 0 |\n",
       "| chevrolet | k1500 tahoe 4wd    | 0 |\n",
       "\n"
      ],
      "text/plain": [
       "  manufacturer model              mean\n",
       "1 audi         a4                 0   \n",
       "2 audi         a4 quattro         0   \n",
       "3 audi         a6 quattro         0   \n",
       "4 chevrolet    c1500 suburban 2wd 0   \n",
       "5 chevrolet    corvette           0   \n",
       "6 chevrolet    k1500 tahoe 4wd    0   "
      ]
     },
     "metadata": {},
     "output_type": "display_data"
    }
   ],
   "source": [
    "mean_hwy <- function(df, var1, var2) {\n",
    "  df |> \n",
    "    group_by(pick({{ var1 }})) |> \n",
    "    summarize(\n",
    "      mean = mean(is.na({{ var2 }})),\n",
    "      .groups = \"drop\"\n",
    "    )\n",
    "}\n",
    "\n",
    "mpg |> \n",
    "  mean_hwy(c(manufacturer, model), hwy) %>% head"
   ]
  }
 ],
 "metadata": {
  "celltoolbar": "Slideshow",
  "colab": {
   "provenance": [
    {
     "file_id": "12VN_7ITQhKtYYhN7lZc102tA1bMJMEaW",
     "timestamp": 1679146009376
    }
   ]
  },
  "kernelspec": {
   "display_name": "R",
   "language": "R",
   "name": "ir"
  },
  "language_info": {
   "codemirror_mode": "r",
   "file_extension": ".r",
   "mimetype": "text/x-r-source",
   "name": "R",
   "pygments_lexer": "r",
   "version": "4.2.1"
  }
 },
 "nbformat": 4,
 "nbformat_minor": 1
}
